{
  "nbformat": 4,
  "nbformat_minor": 0,
  "metadata": {
    "colab": {
      "name": "Lab - Mall Customer Segmentation.ipynb",
      "provenance": [],
      "authorship_tag": "ABX9TyP9pywofkDf1aBh+HWVwqqj",
      "include_colab_link": true
    },
    "kernelspec": {
      "name": "python3",
      "display_name": "Python 3"
    }
  },
  "cells": [
    {
      "cell_type": "markdown",
      "metadata": {
        "id": "view-in-github",
        "colab_type": "text"
      },
      "source": [
        "<a href=\"https://colab.research.google.com/github/JCaballerot/Machine_learning_program/blob/main/unsupervised_models/Kmeans_dbscan/Lab_Mall_Customer_Segmentation.ipynb\" target=\"_parent\"><img src=\"https://colab.research.google.com/assets/colab-badge.svg\" alt=\"Open In Colab\"/></a>"
      ]
    },
    {
      "cell_type": "markdown",
      "metadata": {
        "id": "UZvlx0d8R6hz"
      },
      "source": [
        "\n",
        "<h1 align=center><font size = 5>Mall Customer Segmentation\n",
        "</font></h1>\n",
        "\n",
        "---"
      ]
    },
    {
      "cell_type": "markdown",
      "metadata": {
        "id": "U5ix-rjGSERo"
      },
      "source": [
        "## Tabla de Contenidos\n",
        "\n",
        "<div class=\"alert alert-block alert-info\" style=\"margin-top: 20px\">\n",
        "\n",
        "<font size = 3>\n",
        "    \n",
        "1. <a href=\"#item31\">Introducción</a>  \n",
        "2. <a href=\"#item32\">Mall Customer Segmentation Problem</a>  \n",
        "3. <a href=\"#item33\">Descargar y limpiar el Dataset</a>  \n",
        "4. <a href=\"#item34\">Exploración de Data</a>  \n",
        "5. <a href=\"#item34\">Data Visualization</a>  \n",
        "7. <a href=\"#item34\">Clustering usando K-Means</a>  \n",
        "6. <a href=\"#item34\">Selection de Clusters</a>  \n",
        "8. <a href=\"#item34\">Gráfico de Clusters</a>  \n",
        "9. <a href=\"#item34\">3D Clusters</a>\n",
        "10. <a href=\"#item34\">DBSCAN</a>\n",
        "\n",
        "---\n",
        "</font>\n",
        "</div>"
      ]
    },
    {
      "cell_type": "markdown",
      "metadata": {
        "button": false,
        "deletable": true,
        "new_sheet": false,
        "run_control": {
          "read_only": false
        },
        "id": "R_NIQeNlLo19"
      },
      "source": [
        "## Introducción\n"
      ]
    },
    {
      "cell_type": "markdown",
      "metadata": {
        "id": "g7LRGuxBHMpw"
      },
      "source": [
        "En este laboratorio, aprenderá a usar python para construir modelos de clustering."
      ]
    },
    {
      "cell_type": "markdown",
      "metadata": {
        "id": "yFB_r2dkHMp7"
      },
      "source": [
        "\n",
        "<h3>Objetivo de este Notebook<h3>    \n",
        "<h5> 1. Como construir e interpretar un modelo de clustering.</h5>\n",
        "<h5> 2. Descargar y limpiar un Dataset </h5>\n",
        "<h5> 3. Realizar los pasos necesarios previos a la etapa de modelamiento </h5>\n",
        "<h5> 4. Entrenar y Evaluar un modelo </h5>    \n",
        "\n",
        "---"
      ]
    },
    {
      "cell_type": "markdown",
      "metadata": {
        "id": "cWBGqVX6HMp8"
      },
      "source": [
        "Primero, importemos algunos módulos que necesitaremos para el análisis y construcción del modelo."
      ]
    },
    {
      "cell_type": "code",
      "metadata": {
        "id": "Y5UZowDKL416"
      },
      "source": [
        "# Imports comunes\n",
        "\n",
        "import numpy as np\n",
        "import pandas as pd\n",
        "import matplotlib.pyplot as plt\n",
        "import seaborn as sns\n",
        "import plotly as py\n",
        "import plotly.graph_objs as go\n",
        "\n",
        "# Ignore las advertencias poco útiles\n",
        "import warnings\n",
        "import os\n",
        "warnings.filterwarnings(\"ignore\")\n"
      ],
      "execution_count": 1,
      "outputs": []
    },
    {
      "cell_type": "markdown",
      "metadata": {
        "id": "rtJhMpGIoKSg"
      },
      "source": [
        "## Mall Customer Segmentation"
      ]
    },
    {
      "cell_type": "markdown",
      "metadata": {
        "id": "KZwf0QHnLBB6"
      },
      "source": [
        "Tiene un centro comercial de supermercado y, a través de las tarjetas de membresía, tiene algunos datos básicos sobre sus clientes, como ID de cliente, edad, sexo, ingresos anuales y puntaje de gastos.\n",
        "La puntuación de gasto es algo que le asigna al cliente en función de sus parámetros definidos, como el comportamiento del cliente y los datos de compra.\n",
        "\n",
        "**Planteamiento del problema**\n",
        "\n",
        "Usted es el propietario del centro comercial y desea comprender a los clientes, como quiénes pueden converger fácilmente [Clientes objetivo] para que el equipo de marketing tenga sentido y planifique la estrategia en consecuencia."
      ]
    },
    {
      "cell_type": "markdown",
      "metadata": {
        "id": "5_2zPIqtUzDM"
      },
      "source": [
        "<img src=\"https://pbs.twimg.com/media/Enn_gEuXYAEfPz-.jpg\" alt=\"HTML5 Icon\" style=\"width: 600px; height: 450px;\">\n",
        "<div style=\"text-align: center\">¿Cuáles son los perfiles de los clientes?</div>"
      ]
    },
    {
      "cell_type": "markdown",
      "metadata": {
        "id": "RA0bDOj5LtM7"
      },
      "source": [
        "\n",
        "**Descripción de datos**\n",
        "\n",
        "El dataframe tiene 200 filas y 5 columnas.\n",
        "\n",
        "\n",
        "---\n",
        "\n",
        "Este archivo contiene la información básica (ID, edad, sexo, ingresos, puntaje de gasto) sobre los clientes\n",
        "\n",
        "**CustomerID:** ID único asignado al cliente\n",
        "\n",
        "**Gender** : Género del cliente\n",
        "\n",
        "**Age** : Edad del cliente\n",
        "\n",
        "**Annual Income (k$)** : Renta anual del cliente\n",
        "\n",
        "**Spending Score (1-100)** : Puntuación asignada por el centro comercial según el comportamiento del cliente y la naturaleza del gasto\n",
        "\n",
        "\n",
        "\n",
        "\n",
        "---\n",
        "\n",
        "\n",
        "\n"
      ]
    },
    {
      "cell_type": "markdown",
      "metadata": {
        "id": "--nMto7wWYcn"
      },
      "source": [
        "<strong>Puede consultar este [link](https://www.kaggle.com/vjchoudhary7/customer-segmentation-tutorial-in-python) para leer más sobre la fuente de datos.</strong>"
      ]
    },
    {
      "cell_type": "markdown",
      "metadata": {
        "button": false,
        "deletable": true,
        "new_sheet": false,
        "run_control": {
          "read_only": false
        },
        "id": "_dC4JellLo2B"
      },
      "source": [
        "## Descargar y limpiar Dataset\n"
      ]
    },
    {
      "cell_type": "code",
      "metadata": {
        "id": "Pn6Hz9o8L_-U"
      },
      "source": [
        "# Cargar Data\n",
        "pddf = pd.read_csv('Mall_Customers.csv')\n",
        "pddf.head(10)"
      ],
      "execution_count": null,
      "outputs": []
    },
    {
      "cell_type": "code",
      "metadata": {
        "id": "DN1sYuCDMq-n"
      },
      "source": [
        "pddf.shape"
      ],
      "execution_count": null,
      "outputs": []
    },
    {
      "cell_type": "code",
      "metadata": {
        "id": "5QT0LwcuMsR_"
      },
      "source": [
        "pddf.describe()"
      ],
      "execution_count": null,
      "outputs": []
    },
    {
      "cell_type": "code",
      "metadata": {
        "id": "f9E3efLIMvyh"
      },
      "source": [
        "pddf.dtypes"
      ],
      "execution_count": null,
      "outputs": []
    },
    {
      "cell_type": "markdown",
      "metadata": {
        "id": "72J10UBiWo6Z"
      },
      "source": [
        "## Exploración de data\n"
      ]
    },
    {
      "cell_type": "markdown",
      "source": [
        "**Distribución de variables**"
      ],
      "metadata": {
        "id": "u5jRdD0Gvj6z"
      }
    },
    {
      "cell_type": "code",
      "metadata": {
        "id": "qhoQruc8M1vP"
      },
      "source": [
        "# Análisis Univariado / Diagrama de densidad\n",
        "\n",
        "plt.style.use('fivethirtyeight')\n",
        "\n",
        "plt.figure(1 , figsize = (16, 4))\n",
        "n = 0\n",
        "for x in ['Age' , 'Annual Income (k$)' , 'Spending Score (1-100)']:\n",
        "    n += 1\n",
        "    plt.subplot(1 , 3 , n)\n",
        "    plt.subplots_adjust(hspace =0.5, wspace = 0.5)\n",
        "    sns.distplot(pddf[x] , bins = 20)\n",
        "    plt.title('Distribución de {}'.format(x))\n",
        "plt.show()"
      ],
      "execution_count": null,
      "outputs": []
    },
    {
      "cell_type": "code",
      "metadata": {
        "id": "dTIamtyMM-Ax"
      },
      "source": [
        "# Análisis Univariado / Diagrama de barras\n",
        "sns.countplot(y = 'Genre' , data = pddf)\n",
        "plt.show()"
      ],
      "execution_count": null,
      "outputs": []
    },
    {
      "cell_type": "markdown",
      "source": [
        "**Gráficos de scatterplot**\n",
        "\n",
        "Nos permitiran analizar patrones y relaciones entre datos\n"
      ],
      "metadata": {
        "id": "dRhD1I0zwR_r"
      }
    },
    {
      "cell_type": "code",
      "metadata": {
        "id": "qNNo_VMpNP6D"
      },
      "source": [
        "# Análisis Bivariado / Diagrama de dispersión\n",
        "\n",
        "plt.figure(1 , figsize = (15 , 7))\n",
        "n = 0\n",
        "for x in ['Age' , 'Annual Income (k$)' , 'Spending Score (1-100)']:\n",
        "    for y in ['Age' , 'Annual Income (k$)' , 'Spending Score (1-100)']:\n",
        "        n += 1\n",
        "        plt.subplot(3 , 3 , n)\n",
        "        plt.subplots_adjust(hspace = 0.5 , wspace = 0.5)\n",
        "        sns.regplot(x = x , y = y , data = pddf)\n",
        "        plt.ylabel(y.split()[0]+' '+y.split()[1] if len(y.split()) > 1 else y )\n",
        "plt.show()"
      ],
      "execution_count": null,
      "outputs": []
    },
    {
      "cell_type": "code",
      "metadata": {
        "id": "dR9ui9etNg3C"
      },
      "source": [
        "# Análisis Multivariado / Diagrama de dispersión\n",
        "\n",
        "plt.figure(1 , figsize = (15 , 6))\n",
        "for gender in ['Male' , 'Female']:\n",
        "    plt.scatter(x = 'Age' , y = 'Annual Income (k$)' , data = pddf[pddf['Genre'] == gender] ,\n",
        "                s = 200 , alpha = 0.5 , label = gender)\n",
        "plt.xlabel('Age'), plt.ylabel('Annual Income (k$)')\n",
        "plt.title('Age vs Annual Income w.r.t Gender')\n",
        "plt.legend()\n",
        "plt.show()"
      ],
      "execution_count": null,
      "outputs": []
    },
    {
      "cell_type": "code",
      "metadata": {
        "id": "xV9yB7MzN31D"
      },
      "source": [
        "# Análisis Multivariado / Diagrama de dispersión\n",
        "\n",
        "plt.figure(1 , figsize = (15 , 6))\n",
        "for gender in ['Male' , 'Female']:\n",
        "    plt.scatter(x = 'Annual Income (k$)',y = 'Spending Score (1-100)' ,\n",
        "                data = pddf[pddf['Genre'] == gender] ,s = 200 , alpha = 0.5 , label = gender)\n",
        "plt.xlabel('Annual Income (k$)'), plt.ylabel('Spending Score (1-100)')\n",
        "plt.title('Annual Income vs Spending Score w.r.t Gender')\n",
        "plt.legend()\n",
        "plt.show()"
      ],
      "execution_count": null,
      "outputs": []
    },
    {
      "cell_type": "code",
      "metadata": {
        "id": "edeffeCDOCqg"
      },
      "source": [
        "# Análisis Multivariado / Diagrama de Cajas\n",
        "\n",
        "plt.figure(1 , figsize = (15 , 7))\n",
        "n = 0\n",
        "for cols in ['Age' , 'Annual Income (k$)' , 'Spending Score (1-100)']:\n",
        "    n += 1\n",
        "    plt.subplot(1 , 3 , n)\n",
        "    plt.subplots_adjust(hspace = 0.5 , wspace = 0.5)\n",
        "    sns.violinplot(x = cols , y = 'Genre' , data = pddf , palette = 'vlag')\n",
        "    sns.swarmplot(x = cols , y = 'Genre' , data = pddf)\n",
        "    plt.ylabel('Genre' if n == 1 else '')\n",
        "    plt.title('Boxplots & Swarmplots' if n == 2 else '')\n",
        "plt.show()"
      ],
      "execution_count": null,
      "outputs": []
    },
    {
      "cell_type": "markdown",
      "metadata": {
        "id": "7axmk05tQEsG"
      },
      "source": [
        "## Clustering con K- means\n",
        "\n"
      ]
    },
    {
      "cell_type": "markdown",
      "source": [
        "Los pasos previos antes de construir la técnica serán:\n",
        "\n",
        "\n",
        "\n",
        "\n",
        "1.   Selección de Train/test\n",
        "2.   Imputación de missings\n",
        "3.   Tratamiento de outliers\n",
        "4.   Tratamiento de variables categóricas\n",
        "5.   Estandarización de datos\n",
        "\n",
        "\n",
        "\n"
      ],
      "metadata": {
        "id": "_RFeqMZJ0I6H"
      }
    },
    {
      "cell_type": "markdown",
      "source": [
        "### Tratamiento de outliers"
      ],
      "metadata": {
        "id": "mziWfe5uxMSV"
      }
    },
    {
      "cell_type": "code",
      "source": [
        "numeric_features = ['Age', 'Annual Income (k$)', 'Spending Score (1-100)']"
      ],
      "metadata": {
        "id": "bEA7W2drxU_t"
      },
      "execution_count": 21,
      "outputs": []
    },
    {
      "cell_type": "code",
      "source": [
        "# Calculando los intervalos RIC\n",
        "univariate_II = pddf[numeric_features].describe().transpose()\n",
        "univariate_II[['missing_rate']] = 1 - univariate_II[['count']]/pddf.shape[0]\n",
        "univariate_II.sort_values(by = 'missing_rate', ascending = False, inplace = True)\n",
        "\n",
        "univariate_II.reset_index(inplace = True)\n",
        "univariate_II.rename(columns = {'index' : 'feature',\n",
        "                                '25%' : 'Q1',\n",
        "                                '50%' : 'median',\n",
        "                                '75%' : 'Q3'}, inplace = True)\n",
        "\n",
        "univariate_II['ric']     = univariate_II['Q3'] - univariate_II['Q1']\n",
        "univariate_II['min_ric'] = univariate_II['Q1'] - 1.5*univariate_II['ric']\n",
        "univariate_II['max_ric'] = univariate_II['Q3'] + 1.5*univariate_II['ric']\n",
        "\n",
        "univariate_II.head()\n",
        "\n"
      ],
      "metadata": {
        "id": "Kbecb3B2xtTK"
      },
      "execution_count": null,
      "outputs": []
    },
    {
      "cell_type": "code",
      "source": [
        "# Tratamiento de outliers por RIC\n",
        "\n",
        "for col in numeric_features:\n",
        "  desc = univariate_II.loc[univariate_II.feature == col]\n",
        "\n",
        "  lower_limit = desc.min_ric.values[0]\n",
        "  upper_limit = desc.max_ric.values[0]\n",
        "\n",
        "  pddf[col + '_tric'] = pddf[col].apply(lambda x: lower_limit if x <= lower_limit else\n",
        "                                                    upper_limit if x >= upper_limit else\n",
        "                                                    x)\n",
        "\n",
        "pddf.head()"
      ],
      "metadata": {
        "id": "v0mRcS7bzgVu"
      },
      "execution_count": null,
      "outputs": []
    },
    {
      "cell_type": "markdown",
      "source": [
        "### Tratamiento de variables categóricas"
      ],
      "metadata": {
        "id": "6nUN-VbYxPxV"
      }
    },
    {
      "cell_type": "code",
      "source": [
        "pddf['Dummy_female'] = pddf.Genre.apply(lambda x: 1 if x == 'Female' else 0)\n"
      ],
      "metadata": {
        "id": "KX9FK8fG0_Al"
      },
      "execution_count": 37,
      "outputs": []
    },
    {
      "cell_type": "code",
      "source": [
        "pddf[['Genre', 'Dummy_female']].drop_duplicates()"
      ],
      "metadata": {
        "id": "aaoIq_sI1B8d"
      },
      "execution_count": null,
      "outputs": []
    },
    {
      "cell_type": "markdown",
      "source": [
        "### Estandarización de datos"
      ],
      "metadata": {
        "id": "9kgWaR7R20Ei"
      }
    },
    {
      "cell_type": "code",
      "source": [
        "numeric_features = ['Age_tric', 'Annual Income (k$)_tric', 'Spending Score (1-100)_tric', 'Dummy_female']"
      ],
      "metadata": {
        "id": "MipmosPo3AtD"
      },
      "execution_count": 39,
      "outputs": []
    },
    {
      "cell_type": "code",
      "source": [
        "pddf[numeric_features].head()"
      ],
      "metadata": {
        "id": "Hxa2DKBa3au0"
      },
      "execution_count": null,
      "outputs": []
    },
    {
      "cell_type": "code",
      "source": [
        "\n",
        "pddf[numeric_features] = (pddf[numeric_features] - pddf[numeric_features].mean())/pddf[numeric_features].std()\n"
      ],
      "metadata": {
        "id": "JtwG6OQB25g7"
      },
      "execution_count": 41,
      "outputs": []
    },
    {
      "cell_type": "code",
      "source": [
        "pddf[numeric_features].head()"
      ],
      "metadata": {
        "id": "obRrp00Q3huM"
      },
      "execution_count": null,
      "outputs": []
    },
    {
      "cell_type": "code",
      "metadata": {
        "id": "qFhpzkbgTlPb"
      },
      "source": [],
      "execution_count": null,
      "outputs": []
    },
    {
      "cell_type": "markdown",
      "source": [
        "# K-Means"
      ],
      "metadata": {
        "id": "T0WYepaA3mQZ"
      }
    },
    {
      "cell_type": "markdown",
      "metadata": {
        "id": "1pqIs-OlQGJy"
      },
      "source": [
        "**Segmentación completa**"
      ]
    },
    {
      "cell_type": "code",
      "source": [
        "from sklearn.cluster import KMeans\n"
      ],
      "metadata": {
        "id": "0-fxd04R4M2O"
      },
      "execution_count": 45,
      "outputs": []
    },
    {
      "cell_type": "code",
      "metadata": {
        "id": "huBvliCJOiad"
      },
      "source": [
        "# Probando diferentes tamaños para k (número de clusters)\n",
        "\n",
        "X1 = pddf[numeric_features].iloc[: , :].values\n",
        "\n",
        "inertia = []\n",
        "for n in range(1 , 11):\n",
        "    algorithm = (KMeans(n_clusters = n ,\n",
        "                        init = 'k-means++',\n",
        "                        n_init = 10,\n",
        "                        max_iter=300,\n",
        "                        tol = 0.0001,\n",
        "                        random_state= 123 ,\n",
        "                        algorithm='elkan') )\n",
        "\n",
        "    algorithm.fit(X1)\n",
        "    inertia.append(algorithm.inertia_)\n",
        ""
      ],
      "execution_count": 120,
      "outputs": []
    },
    {
      "cell_type": "markdown",
      "source": [
        "**Indicador de Inercia**\n",
        "\n",
        "El índice de inercia mide que tan bien esta definido un clustering, a menor sea el valor mejor para nuestros resultados. Esta sujeto a la escala de nuestros datos."
      ],
      "metadata": {
        "id": "U_oAnhk-7cZ-"
      }
    },
    {
      "cell_type": "markdown",
      "source": [
        "\n",
        "\n",
        "<img src=\"https://miro.medium.com/v2/resize:fit:822/1*5yf86FgujYyctqkku2M-Kg.png\" alt=\"HTML5 Icon\" width= 200 height=150>\n",
        "\n"
      ],
      "metadata": {
        "id": "foaP1YUu67kQ"
      }
    },
    {
      "cell_type": "code",
      "metadata": {
        "id": "Lg3foilOUca3"
      },
      "source": [
        "inertia"
      ],
      "execution_count": null,
      "outputs": []
    },
    {
      "cell_type": "code",
      "metadata": {
        "id": "eIFsD1N_OwAo"
      },
      "source": [
        "# Gráfico de codo\n",
        "\n",
        "plt.figure(1 , figsize = (8 ,4))\n",
        "plt.plot(np.arange(1 , 11) , inertia , 'o')\n",
        "plt.plot(np.arange(1 , 11) , inertia , '-' , alpha = 0.5)\n",
        "plt.xlabel('Number of Clusters') , plt.ylabel('Inertia')\n",
        "plt.show()"
      ],
      "execution_count": null,
      "outputs": []
    },
    {
      "cell_type": "code",
      "source": [
        "numeric_features = ['Age_tric', 'Annual Income (k$)_tric', 'Spending Score (1-100)_tric']"
      ],
      "metadata": {
        "id": "npaUc-eAANPO"
      },
      "execution_count": 127,
      "outputs": []
    },
    {
      "cell_type": "code",
      "source": [
        "X1 = pddf[numeric_features].iloc[: , :].values"
      ],
      "metadata": {
        "id": "k5oDotO4AYYb"
      },
      "execution_count": 128,
      "outputs": []
    },
    {
      "cell_type": "code",
      "metadata": {
        "id": "qnQx__Q4O3l2"
      },
      "source": [
        "# Modelo de clustering final\n",
        "\n",
        "algorithm = (KMeans(n_clusters = 5 ,init='k-means++', n_init = 10 , max_iter=300,\n",
        "                        tol=0.0001,  random_state= 111  , algorithm='elkan') )\n",
        "algorithm.fit(X1)\n",
        "labels1 = algorithm.labels_\n",
        "centroids1 = algorithm.cluster_centers_"
      ],
      "execution_count": 129,
      "outputs": []
    },
    {
      "cell_type": "code",
      "source": [
        "pddf['cluster_pred'] = algorithm.predict(pddf[numeric_features])"
      ],
      "metadata": {
        "id": "-7DT7fit-1Xm"
      },
      "execution_count": 130,
      "outputs": []
    },
    {
      "cell_type": "code",
      "source": [
        "pddf.head()"
      ],
      "metadata": {
        "id": "pxaaU4Go-9Vi"
      },
      "execution_count": null,
      "outputs": []
    },
    {
      "cell_type": "code",
      "source": [
        "plt.figure(1 , figsize = (12 , 5) )\n",
        "plt.scatter( x = 'Age_tric' ,y = 'Spending Score (1-100)_tric' , data = pddf , c = pddf.cluster_pred ,  s = 200 )"
      ],
      "metadata": {
        "id": "iTPg-qek_K6r"
      },
      "execution_count": null,
      "outputs": []
    },
    {
      "cell_type": "code",
      "source": [
        "plt.figure(1 , figsize = (12 , 5) )\n",
        "plt.scatter( x = 'Annual Income (k$)_tric' ,y = 'Spending Score (1-100)_tric' , data = pddf , c = pddf.cluster_pred ,  s = 200 )"
      ],
      "metadata": {
        "colab": {
          "base_uri": "https://localhost:8080/",
          "height": 482
        },
        "id": "oHWJYvys_vg-",
        "outputId": "ec96396f-df21-441d-a6f5-6f5938788828"
      },
      "execution_count": 131,
      "outputs": [
        {
          "output_type": "execute_result",
          "data": {
            "text/plain": [
              "<matplotlib.collections.PathCollection at 0x786cb8a76a40>"
            ]
          },
          "metadata": {},
          "execution_count": 131
        },
        {
          "output_type": "display_data",
          "data": {
            "text/plain": [
              "<Figure size 1200x500 with 1 Axes>"
            ],
            "image/png": "[encoded data removed]"
          },
          "metadata": {}
        }
      ]
    },
    {
      "cell_type": "code",
      "source": [],
      "metadata": {
        "id": "11kQFpClACls"
      },
      "execution_count": null,
      "outputs": []
    },
    {
      "cell_type": "code",
      "metadata": {
        "id": "EzL39aGiPwBV"
      },
      "source": [
        "# Configuración de scatterplot k-means\n",
        "X1_1 = pddf[['Annual Income (k$)_tric', 'Spending Score (1-100)_tric']].iloc[: , :].values\n",
        "\n",
        "h = 0.02\n",
        "x_min, x_max = X1_1[:, 0].min() - 1, X1_1[:, 0].max() + 1\n",
        "y_min, y_max = X1_1[:, 1].min() - 1, X1_1[:, 1].max() + 1\n",
        "xx, yy = np.meshgrid(np.arange(x_min, x_max, h), np.arange(y_min, y_max, h))\n",
        "Z = algorithm.predict(algorithm.predict(pddf[numeric_features]) )"
      ],
      "execution_count": null,
      "outputs": []
    },
    {
      "cell_type": "code",
      "metadata": {
        "id": "a_wEtltQPyxq"
      },
      "source": [
        "# Scatterplot k-means\n",
        "\n",
        "plt.figure(1 , figsize = (15 , 7) )\n",
        "plt.clf()\n",
        "Z = Z.reshape(xx.shape)\n",
        "plt.imshow(Z , interpolation='nearest',\n",
        "           extent=(xx.min(), xx.max(), yy.min(), yy.max()),\n",
        "           cmap = plt.cm.Pastel2, aspect = 'auto', origin='lower')\n",
        "\n",
        "plt.scatter( x = 'Age' ,y = 'Spending Score (1-100)' , data = pddf , c = labels1 ,\n",
        "            s = 200 )\n",
        "plt.scatter(x = centroids1[: , 0] , y =  centroids1[: , 1] , s = 300 , c = 'red' , alpha = 0.5)\n",
        "plt.ylabel('Spending Score (1-100)') , plt.xlabel('Age')\n",
        "plt.show()"
      ],
      "execution_count": null,
      "outputs": []
    },
    {
      "cell_type": "markdown",
      "metadata": {
        "id": "jB-ORZ5oP8I5"
      },
      "source": [
        "**Segmentation con Annual Income y Spending Score**\n"
      ]
    },
    {
      "cell_type": "code",
      "metadata": {
        "id": "dz8yIt2AP88x"
      },
      "source": [
        "# Probando diferentes tamaños para k (número de clusters)\n",
        "\n",
        "'''Annual Income y spending Score'''\n",
        "X2 = pddf[['Annual Income (k$)' , 'Spending Score (1-100)']].iloc[: , :].values\n",
        "inertia = []\n",
        "for n in range(1 , 11):\n",
        "    algorithm = (KMeans(n_clusters = n ,init='k-means++', n_init = 10 ,max_iter=300,\n",
        "                        tol=0.0001,  random_state= 111  , algorithm='elkan') )\n",
        "    algorithm.fit(X2)\n",
        "    inertia.append(algorithm.inertia_)"
      ],
      "execution_count": 119,
      "outputs": []
    },
    {
      "cell_type": "code",
      "metadata": {
        "id": "dlAvf9ArQgyr"
      },
      "source": [
        "# Gráfico de codo\n",
        "\n",
        "plt.figure(1 , figsize = (15 ,6))\n",
        "plt.plot(np.arange(1 , 11) , inertia , 'o')\n",
        "plt.plot(np.arange(1 , 11) , inertia , '-' , alpha = 0.5)\n",
        "plt.xlabel('Number of Clusters') , plt.ylabel('Inertia')\n",
        "plt.show()"
      ],
      "execution_count": null,
      "outputs": []
    },
    {
      "cell_type": "code",
      "metadata": {
        "id": "40-GlZIfQURW"
      },
      "source": [
        "# Modelo de clustering final\n",
        "\n",
        "algorithm = (KMeans(n_clusters = 5 ,init='k-means++', n_init = 10 ,max_iter=300,\n",
        "                        tol=0.0001,  random_state= 111  , algorithm='elkan') )\n",
        "algorithm.fit(X2)\n",
        "labels2 = algorithm.labels_\n",
        "centroids2 = algorithm.cluster_centers_"
      ],
      "execution_count": null,
      "outputs": []
    },
    {
      "cell_type": "code",
      "metadata": {
        "id": "UM8ladSsQqPu"
      },
      "source": [
        "# Configuración de scatterplot k-means\n",
        "\n",
        "h = 0.02\n",
        "x_min, x_max = X2[:, 0].min() - 1, X2[:, 0].max() + 1\n",
        "y_min, y_max = X2[:, 1].min() - 1, X2[:, 1].max() + 1\n",
        "xx, yy = np.meshgrid(np.arange(x_min, x_max, h), np.arange(y_min, y_max, h))\n",
        "Z2 = algorithm.predict(np.c_[xx.ravel(), yy.ravel()])"
      ],
      "execution_count": null,
      "outputs": []
    },
    {
      "cell_type": "code",
      "metadata": {
        "id": "RpUYqvfhQmHJ"
      },
      "source": [
        "# Scatterplot k-means\n",
        "\n",
        "plt.figure(1 , figsize = (15 , 7) )\n",
        "plt.clf()\n",
        "Z2 = Z2.reshape(xx.shape)\n",
        "plt.imshow(Z2 , interpolation='nearest',\n",
        "           extent=(xx.min(), xx.max(), yy.min(), yy.max()),\n",
        "           cmap = plt.cm.Pastel2, aspect = 'auto', origin='lower')\n",
        "\n",
        "plt.scatter( x = 'Annual Income (k$)' ,y = 'Spending Score (1-100)' , data = pddf , c = labels2 ,\n",
        "            s = 200 )\n",
        "plt.scatter(x = centroids2[: , 0] , y =  centroids2[: , 1] , s = 300 , c = 'red' , alpha = 0.5)\n",
        "plt.ylabel('Spending Score (1-100)') , plt.xlabel('Annual Income (k$)')\n",
        "plt.show()"
      ],
      "execution_count": null,
      "outputs": []
    },
    {
      "cell_type": "markdown",
      "metadata": {
        "id": "Vx9EEoS8QxOc"
      },
      "source": [
        "**Segmentation con Age , Annual Income y Spending Score**"
      ]
    },
    {
      "cell_type": "code",
      "metadata": {
        "id": "M5JWAbsGQwtX"
      },
      "source": [
        "# Probando diferentes tamaños para k (número de clusters)\n",
        "\n",
        "X3 = pddf[['Age' , 'Annual Income (k$)' ,'Spending Score (1-100)']].iloc[: , :].values\n",
        "\n",
        "inertia = []\n",
        "for n in range(1 , 11):\n",
        "    algorithm = (KMeans(n_clusters = n ,init='k-means++', n_init = 10 ,max_iter=300,\n",
        "                        tol=0.0001,  random_state= 111  , algorithm='elkan') )\n",
        "    algorithm.fit(X3)\n",
        "    inertia.append(algorithm.inertia_)"
      ],
      "execution_count": null,
      "outputs": []
    },
    {
      "cell_type": "code",
      "metadata": {
        "id": "xz-QFSGSQ-QO"
      },
      "source": [
        "# Gráfico de codo\n",
        "\n",
        "plt.figure(1 , figsize = (15 ,6))\n",
        "plt.plot(np.arange(1 , 11) , inertia , 'o')\n",
        "plt.plot(np.arange(1 , 11) , inertia , '-' , alpha = 0.5)\n",
        "plt.xlabel('Number of Clusters') , plt.ylabel('Inertia')\n",
        "plt.show()"
      ],
      "execution_count": null,
      "outputs": []
    },
    {
      "cell_type": "code",
      "metadata": {
        "id": "b6stCVqwRBg8"
      },
      "source": [
        "# Modelo de clustering final\n",
        "\n",
        "algorithm = (KMeans(n_clusters = 5 ,init='k-means++', n_init = 10 ,max_iter=300,\n",
        "                        tol=0.0001,  random_state= 111  , algorithm='elkan') )\n",
        "algorithm.fit(X3)\n",
        "labels3 = algorithm.labels_\n",
        "centroids3 = algorithm.cluster_centers_"
      ],
      "execution_count": null,
      "outputs": []
    },
    {
      "cell_type": "code",
      "metadata": {
        "id": "RZ2FLDDDRM2L"
      },
      "source": [
        "# Configuración de scatterplot 3d k-means\n",
        "\n",
        "pddf['label3'] =  labels3\n",
        "trace1 = go.Scatter3d(\n",
        "    x= pddf['Age'],\n",
        "    y= pddf['Spending Score (1-100)'],\n",
        "    z= pddf['Annual Income (k$)'],\n",
        "    mode='markers',\n",
        "     marker=dict(\n",
        "        color = pddf['label3'],\n",
        "        size= 20,\n",
        "        line=dict(\n",
        "            color= pddf['label3'],\n",
        "            width= 12\n",
        "        ),\n",
        "        opacity=0.8\n",
        "     )\n",
        ")\n",
        "data = [trace1]\n",
        "layout = go.Layout(\n",
        "#     margin=dict(\n",
        "#         l=0,\n",
        "#         r=0,\n",
        "#         b=0,\n",
        "#         t=0\n",
        "#     )\n",
        "    title= 'Clusters',\n",
        "    scene = dict(\n",
        "            xaxis = dict(title  = 'Age'),\n",
        "            yaxis = dict(title  = 'Spending Score'),\n",
        "            zaxis = dict(title  = 'Annual Income')\n",
        "        )\n",
        ")\n",
        "fig = go.Figure(data=data, layout=layout)\n",
        "py.offline.iplot(fig)"
      ],
      "execution_count": null,
      "outputs": []
    },
    {
      "cell_type": "markdown",
      "source": [
        "**Análisis de componentes principales**"
      ],
      "metadata": {
        "id": "HDBukC63A4lc"
      }
    },
    {
      "cell_type": "code",
      "metadata": {
        "id": "AfcaD1UbWAzt"
      },
      "source": [
        "#PCA\n",
        "from sklearn.decomposition import PCA\n",
        "\n",
        "pca = PCA(n_components = 2) #\n",
        "principalComponents = pca.fit_transform(X1)"
      ],
      "execution_count": 132,
      "outputs": []
    },
    {
      "cell_type": "code",
      "metadata": {
        "id": "vJP5iBXIWSwA"
      },
      "source": [
        "pddf[['component1', 'component2']] = principalComponents"
      ],
      "execution_count": 133,
      "outputs": []
    },
    {
      "cell_type": "code",
      "source": [
        "pca.explained_variance_ratio_"
      ],
      "metadata": {
        "colab": {
          "base_uri": "https://localhost:8080/"
        },
        "id": "zhUCdy_XBwvh",
        "outputId": "ee76480f-477e-4dff-97f5-29296895652e"
      },
      "execution_count": 125,
      "outputs": [
        {
          "output_type": "execute_result",
          "data": {
            "text/plain": [
              "array([0.33689987, 0.26189538])"
            ]
          },
          "metadata": {},
          "execution_count": 125
        }
      ]
    },
    {
      "cell_type": "code",
      "metadata": {
        "id": "mWBFonKYWjlw"
      },
      "source": [
        "# Configuración de scatterplot k-means\n",
        "\n",
        "h = 0.02\n",
        "x_min, x_max = principalComponents[:, 0].min() - 1, principalComponents[:, 0].max() + 1\n",
        "y_min, y_max = principalComponents[:, 1].min() - 1, principalComponents[:, 1].max() + 1\n",
        "xx, yy = np.meshgrid(np.arange(x_min, x_max, h), np.arange(y_min, y_max, h))\n",
        "Z2 = algorithm.predict(X1)"
      ],
      "execution_count": 134,
      "outputs": []
    },
    {
      "cell_type": "code",
      "metadata": {
        "id": "mkl05Jb5Y1lb"
      },
      "source": [
        "pddf.describe()"
      ],
      "execution_count": null,
      "outputs": []
    },
    {
      "cell_type": "code",
      "metadata": {
        "id": "X-7k6zqYWi_W"
      },
      "source": [
        "# Scatterplot k-means\n",
        "\n",
        "plt.figure(1 , figsize = (12 , 5) )\n",
        "plt.scatter( x = 'component1' ,y = 'component2' , data = pddf , c = pddf.cluster_pred, s = 200 )\n",
        "plt.ylabel('principalComponents') , plt.xlabel('principalComponents')\n",
        "plt.show()"
      ],
      "execution_count": null,
      "outputs": []
    },
    {
      "cell_type": "markdown",
      "metadata": {
        "id": "h7BAHP0yY0_X"
      },
      "source": [
        "## DBSCAN"
      ]
    },
    {
      "cell_type": "code",
      "metadata": {
        "id": "iakG4-yBY0bf"
      },
      "source": [
        "from sklearn.cluster import DBSCAN\n",
        "\n",
        "# Configurar modelo\n",
        "\n",
        "dbscan = DBSCAN(eps = 12, min_samples = 3)\n",
        "\n",
        "# Entrenando el modelo\n",
        "\n",
        "model = dbscan.fit(X3)"
      ],
      "execution_count": null,
      "outputs": []
    },
    {
      "cell_type": "code",
      "metadata": {
        "id": "jd9lQh1adkGh"
      },
      "source": [
        "# Clusters identificados\n",
        "labels = model.labels_\n",
        "set(labels.tolist())"
      ],
      "execution_count": null,
      "outputs": []
    },
    {
      "cell_type": "code",
      "metadata": {
        "id": "YoCghA4jeLoW"
      },
      "source": [
        "df = pddf.copy(deep = True)\n",
        "df['cluster'] = labels\n",
        "df.head()"
      ],
      "execution_count": null,
      "outputs": []
    },
    {
      "cell_type": "code",
      "metadata": {
        "id": "ks5PU4HkeiCn"
      },
      "source": [
        "df.groupby('cluster')['CustomerID'].count()"
      ],
      "execution_count": null,
      "outputs": []
    },
    {
      "cell_type": "code",
      "metadata": {
        "id": "zonpjxbrfK3t"
      },
      "source": [
        "# Graficando resultados\n",
        "\n",
        "import matplotlib.pyplot as plt\n",
        "plt.rcParams['figure.figsize'] = (16, 9)\n",
        "plt.style.use('ggplot')\n",
        "\n",
        "f1 = df['Annual Income (k$)'].values\n",
        "f2 = df['Spending Score (1-100)'].values\n",
        "asignar = df['cluster'].values\n",
        "\n",
        "plt.scatter(f1, f2, c=asignar, s=70)\n",
        "\n",
        "plt.show()"
      ],
      "execution_count": null,
      "outputs": []
    },
    {
      "cell_type": "code",
      "metadata": {
        "id": "41RMp2JDZ2_t"
      },
      "source": [
        "# Scatterplot k-means\n",
        "\n",
        "plt.figure(1 , figsize = (15 , 7) )\n",
        "plt.scatter( x = 'component1' ,y = 'component2' , data = df , c = 'cluster', s = 200 )\n",
        "plt.ylabel('principalComponents') , plt.xlabel('principalComponents')\n",
        "plt.show()"
      ],
      "execution_count": null,
      "outputs": []
    },
    {
      "cell_type": "markdown",
      "source": [
        "# Hierarchical clustering"
      ],
      "metadata": {
        "id": "8mAqpG5nVioF"
      }
    },
    {
      "cell_type": "code",
      "source": [
        "from scipy.cluster.hierarchy import dendrogram, linkage"
      ],
      "metadata": {
        "id": "o0-uPrrSVpYH"
      },
      "execution_count": null,
      "outputs": []
    },
    {
      "cell_type": "code",
      "source": [
        "linkage_data = linkage(pddf[['Age' , 'Annual Income (k$)' ,'Spending Score (1-100)']], method='ward', metric='euclidean')\n",
        "dendrogram(linkage_data)\n",
        "plt.show()"
      ],
      "metadata": {
        "id": "O1FyfoxyV8vk"
      },
      "execution_count": null,
      "outputs": []
    },
    {
      "cell_type": "code",
      "source": [
        "linkage_data = linkage(pddf[['Age' , 'Annual Income (k$)' ,'Spending Score (1-100)']], method='ward', metric='euclidean')\n",
        "dendrogram(linkage_data)\n",
        "plt.axhline(y = 125, color = 'r', linestyle = '-')\n"
      ],
      "metadata": {
        "id": "zslKytOsWKft"
      },
      "execution_count": null,
      "outputs": []
    },
    {
      "cell_type": "markdown",
      "metadata": {
        "id": "x-4g7hHrRY22"
      },
      "source": [
        "---\n",
        "\n",
        "# Gracias por completar este laboratorio!\n",
        "\n",
        "---\n",
        "\n"
      ]
    }
  ]
}