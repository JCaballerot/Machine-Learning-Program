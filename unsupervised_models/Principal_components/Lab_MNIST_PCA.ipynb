{
  "nbformat": 4,
  "nbformat_minor": 0,
  "metadata": {
    "colab": {
      "name": "Lab - MNIST PCA.ipynb",
      "provenance": [],
      "authorship_tag": "ABX9TyNs3yo+FmpO6FGtpv2ni/Xb",
      "include_colab_link": true
    },
    "kernelspec": {
      "display_name": "Python 3",
      "name": "python3"
    }
  },
  "cells": [
    {
      "cell_type": "markdown",
      "metadata": {
        "id": "view-in-github",
        "colab_type": "text"
      },
      "source": [
        "<a href=\"https://colab.research.google.com/github/JCaballerot/Machine_learning_program/blob/main/unsupervised_models/Principal_components/Lab_MNIST_PCA.ipynb\" target=\"_parent\"><img src=\"https://colab.research.google.com/assets/colab-badge.svg\" alt=\"Open In Colab\"/></a>"
      ]
    },
    {
      "cell_type": "markdown",
      "metadata": {
        "id": "1gKWn7PiRiXG"
      },
      "source": [
        "<h1 align=center><font size = 5>PCA MNIST DATA</font></h1>\n",
        "\n",
        "---\n"
      ]
    },
    {
      "cell_type": "markdown",
      "metadata": {
        "id": "U5ix-rjGSERo"
      },
      "source": [
        "## Tabla de Contenidos\n",
        "\n",
        "<div class=\"alert alert-block alert-info\" style=\"margin-top: 20px\">\n",
        "\n",
        "<font size = 3>\n",
        "    \n",
        "1. <a href=\"#item31\">Introducción</a>  \n",
        "2. <a href=\"#item32\">MNIST Digit Recognition</a>  \n",
        "3. <a href=\"#item33\">Análisis de componentes Principales</a>  \n",
        "4. <a href=\"#item34\">PCA para visualización</a>  \n",
        "5. <a href=\"#item34\">PCA para reducción de dimensiones</a>  \n",
        "7. <a href=\"#item34\">¿Cómo elegir el número de componentes?</a>  \n",
        "\n",
        "---\n",
        "</font>\n",
        "</div>"
      ]
    },
    {
      "cell_type": "markdown",
      "metadata": {
        "id": "DNGWWfSURiXH"
      },
      "source": [
        "## Introducción\n"
      ]
    },
    {
      "cell_type": "markdown",
      "metadata": {
        "id": "g7LRGuxBHMpw"
      },
      "source": [
        "En este laboratorio, aprenderá a usar python para construir modelos de PCA."
      ]
    },
    {
      "cell_type": "markdown",
      "metadata": {
        "id": "yFB_r2dkHMp7"
      },
      "source": [
        "\n",
        "<h3>Objetivo de este Notebook<h3>    \n",
        "<h5> 1. Como construir e interpretar un modelo de PCA.</h5>\n",
        "<h5> 2. Descargar y limpiar un Dataset </h5>\n",
        "<h5> 3. Realizar los pasos necesarios previos a la etapa de modelamiento </h5>\n",
        "<h5> 4. Entrenar y Evaluar un modelo </h5>    \n",
        "\n",
        "---"
      ]
    },
    {
      "cell_type": "markdown",
      "source": [
        "Edward Rivera\n",
        "Pablo quispe\n",
        "Jose Cortez\n",
        "Jaime Ramos"
      ],
      "metadata": {
        "id": "dDQLZzIQh6JC"
      }
    },
    {
      "cell_type": "markdown",
      "metadata": {
        "id": "cWBGqVX6HMp8"
      },
      "source": [
        "Primero, importemos algunos módulos que necesitaremos para el análisis y construcción del modelo."
      ]
    },
    {
      "cell_type": "code",
      "metadata": {
        "id": "H_GC6iW49www"
      },
      "source": [
        "# Imports comunes\n",
        "\n",
        "import numpy as np\n",
        "import pandas as pd\n",
        "\n",
        "# For plotting\n",
        "import matplotlib.pyplot as plt\n",
        "%matplotlib inline\n",
        "\n",
        "import seaborn as sns\n",
        "sns.set(style='white', context='notebook', rc={'figure.figsize':(14,10)})\n"
      ],
      "execution_count": 1,
      "outputs": []
    },
    {
      "cell_type": "markdown",
      "metadata": {
        "id": "rtJhMpGIoKSg"
      },
      "source": [
        "## MNIST Digit Recognition"
      ]
    },
    {
      "cell_type": "markdown",
      "metadata": {
        "id": "sAqexMF0RiXI"
      },
      "source": [
        "En este laboratorio, Usaremos el popular conjunto de datos MNIST, un conjunto de datos de imágenes, para variar.\n",
        "\n",
        "La <strong> base de datos MNIST </strong>, abreviatura de la base de datos modificada del Instituto Nacional de Estándares y Tecnología, es una gran base de datos de dígitos escritos a mano que se usa comúnmente para entrenar varios sistemas de procesamiento de imágenes. La base de datos también se usa ampliamente para entrenar y testear en el campo del machine learning.\n",
        "\n",
        "La base de datos del MNIST contiene 60,000 imágenes de entrenamiento y 10,000 imágenes de test de dígitos escritos por estudiantes de secundaria y empleados de la Oficina del Censo de los Estados Unidos.\n",
        "\n"
      ]
    },
    {
      "cell_type": "markdown",
      "metadata": {
        "id": "bTszu5C_-qMR"
      },
      "source": [
        "<img src=\"https://miro.medium.com/max/1400/1*26W2Yk3cu2uz_R8BuSb_SA.png\" alt=\"HTML5 Icon\" style=\"width: 600px; height: 450px;\">"
      ]
    },
    {
      "cell_type": "markdown",
      "metadata": {
        "id": "--nMto7wWYcn"
      },
      "source": [
        "<strong>Puede consultar este [link](https://www.kaggle.com/c/digit-recognizer) para leer más sobre la fuente de datos.</strong>"
      ]
    },
    {
      "cell_type": "markdown",
      "metadata": {
        "id": "gzsXpPPA_Z5w"
      },
      "source": [
        "\n",
        "**¿Qué es la reducción de dimensionalidad?**\n",
        "\n",
        "Muchos de los problemas de Machine Learning consisten en cientos o miles de funciones. Tener una cantidad tan grande de características plantea ciertos problemas principalmente:\n"
      ]
    },
    {
      "cell_type": "markdown",
      "metadata": {
        "id": "vAt7Xjie_dg_"
      },
      "source": [
        "**Importancia de la reducción de la dimensionalidad:**\n",
        "\n",
        "Reducir a dos o tres funciones puede ayudarnos a visualizar nuestros datos, que es una parte importante del análisis de datos. A menudo, una gran cantidad de dimensionalidad en los datos es redundante y podemos deshacernos de eso que puede ser útil para el proceso de aprendizaje automático."
      ]
    },
    {
      "cell_type": "markdown",
      "metadata": {
        "id": "D-6Jh7Sw_gLq"
      },
      "source": [
        "**Reducir la dimensionalidad también puede ayudarnos a visualizar los datos fácilmente.**\n",
        "\n",
        "Por ejemplo, el famoso conjunto de datos MNIST tiene 784 dimensiones cuando desplegamos esos dígitos en vectores largos y realmente no deberíamos necesitar 784 dimensiones para describir un punto de datos en este conjunto de datos. Debería haber una representación compacta de este conjunto de datos y aún deberíamos poder obtener algún resultado significativo."
      ]
    },
    {
      "cell_type": "markdown",
      "metadata": {
        "id": "KirjXyOXGM0r"
      },
      "source": [
        "## Análisis de componentes principales\n"
      ]
    },
    {
      "cell_type": "markdown",
      "metadata": {
        "id": "gns8sOO-CBEX"
      },
      "source": [
        "\n",
        "PCA es una técnica muy común para la reducción de dimensionalidad. La idea detrás de esto es muy simple:\n",
        "* Identificar un hiperplano que se encuentre más cerca de los datos\n",
        "* Proyecte los datos en el hiperplano.\n",
        "\n",
        "![](https://i.stack.imgur.com/Q7HIP.gif)\n",
        "\n",
        "\n",
        "Sin embargo, es importante elegir el hiperplano correcto para que cuando los datos se proyecten sobre él, tengan la máxima cantidad de variación o información sobre cómo se distribuyen los datos originales. En otras palabras, el eje que minimiza la distancia cuadrática media entre el conjunto de datos original y su proyección sobre ese eje.\n",
        "\n",
        "\n"
      ]
    },
    {
      "cell_type": "markdown",
      "metadata": {
        "id": "CfH3yb9eClYa"
      },
      "source": [
        "\n",
        "**Componentes principales**\n",
        "\n",
        "El eje que explica la cantidad máxima de varianza en el conjunto de entrenamiento se denomina componentes principales. El eje ortogonal a este eje se denomina segundo componente principal. Así, en 2D, habrá 2 componentes principales. Sin embargo, para dimensiones más altas, PCA encontraría un tercer componente ortogonal a los otros dos componentes y así sucesivamente. \n",
        "\n",
        "\n",
        "![](https://hackernoon.com/hn-images/1*WRKdN-NYF0mMumhfOXVa2Q.png)\n",
        "\n",
        "Fuente : [A Layman’s Introduction to Principal Components](https://hackernoon.com/a-laymans-introduction-to-principal-components-2fca55c19fa0)\n",
        "\n",
        "\n",
        "**Implementación de PCA usando Scikit Learn**\n",
        "\n",
        "La clase PCA de [Scikit-Learn's](https://scikit-learn.org/stable/modules/generated/sklearn.decomposition.PCA.html) implementa PCA usando la descomposición SVD. Apliquemos PCA en el conjunto de datos MNIST para la visualización.\n"
      ]
    },
    {
      "cell_type": "markdown",
      "metadata": {
        "id": "_dC4JellLo2B"
      },
      "source": [
        "## Descargar y limpiar Dataset\n"
      ]
    },
    {
      "cell_type": "code",
      "metadata": {
        "colab": {
          "base_uri": "https://localhost:8080/",
          "height": 299
        },
        "id": "uSx597HODqXS",
        "outputId": "679c26ba-5bbd-4ff8-c0f9-1c82f83d44e8"
      },
      "source": [
        "# Leyendo data \n",
        "\n",
        "train = pd.read_csv('mnist.csv')\n",
        "train.head()"
      ],
      "execution_count": 2,
      "outputs": [
        {
          "output_type": "execute_result",
          "data": {
            "text/plain": [
              "   label  pixel0  pixel1  pixel2  pixel3  pixel4  pixel5  pixel6  pixel7  \\\n",
              "0      1       0       0       0       0       0       0       0       0   \n",
              "1      0       0       0       0       0       0       0       0       0   \n",
              "2      1       0       0       0       0       0       0       0       0   \n",
              "3      4       0       0       0       0       0       0       0       0   \n",
              "4      0       0       0       0       0       0       0       0       0   \n",
              "\n",
              "   pixel8  ...  pixel774  pixel775  pixel776  pixel777  pixel778  pixel779  \\\n",
              "0       0  ...         0         0         0         0         0         0   \n",
              "1       0  ...         0         0         0         0         0         0   \n",
              "2       0  ...         0         0         0         0         0         0   \n",
              "3       0  ...         0         0         0         0         0         0   \n",
              "4       0  ...         0         0         0         0         0         0   \n",
              "\n",
              "   pixel780  pixel781  pixel782  pixel783  \n",
              "0         0         0         0         0  \n",
              "1         0         0         0         0  \n",
              "2         0         0         0         0  \n",
              "3         0         0         0         0  \n",
              "4         0         0         0         0  \n",
              "\n",
              "[5 rows x 785 columns]"
            ],
            "text/html": [
              "\n",
              "  <div id=\"df-025f20c5-0627-4f9f-a22a-c10bfbe27cfe\">\n",
              "    <div class=\"colab-df-container\">\n",
              "      <div>\n",
              "<style scoped>\n",
              "    .dataframe tbody tr th:only-of-type {\n",
              "        vertical-align: middle;\n",
              "    }\n",
              "\n",
              "    .dataframe tbody tr th {\n",
              "        vertical-align: top;\n",
              "    }\n",
              "\n",
              "    .dataframe thead th {\n",
              "        text-align: right;\n",
              "    }\n",
              "</style>\n",
              "<table border=\"1\" class=\"dataframe\">\n",
              "  <thead>\n",
              "    <tr style=\"text-align: right;\">\n",
              "      <th></th>\n",
              "      <th>label</th>\n",
              "      <th>pixel0</th>\n",
              "      <th>pixel1</th>\n",
              "      <th>pixel2</th>\n",
              "      <th>pixel3</th>\n",
              "      <th>pixel4</th>\n",
              "      <th>pixel5</th>\n",
              "      <th>pixel6</th>\n",
              "      <th>pixel7</th>\n",
              "      <th>pixel8</th>\n",
              "      <th>...</th>\n",
              "      <th>pixel774</th>\n",
              "      <th>pixel775</th>\n",
              "      <th>pixel776</th>\n",
              "      <th>pixel777</th>\n",
              "      <th>pixel778</th>\n",
              "      <th>pixel779</th>\n",
              "      <th>pixel780</th>\n",
              "      <th>pixel781</th>\n",
              "      <th>pixel782</th>\n",
              "      <th>pixel783</th>\n",
              "    </tr>\n",
              "  </thead>\n",
              "  <tbody>\n",
              "    <tr>\n",
              "      <th>0</th>\n",
              "      <td>1</td>\n",
              "      <td>0</td>\n",
              "      <td>0</td>\n",
              "      <td>0</td>\n",
              "      <td>0</td>\n",
              "      <td>0</td>\n",
              "      <td>0</td>\n",
              "      <td>0</td>\n",
              "      <td>0</td>\n",
              "      <td>0</td>\n",
              "      <td>...</td>\n",
              "      <td>0</td>\n",
              "      <td>0</td>\n",
              "      <td>0</td>\n",
              "      <td>0</td>\n",
              "      <td>0</td>\n",
              "      <td>0</td>\n",
              "      <td>0</td>\n",
              "      <td>0</td>\n",
              "      <td>0</td>\n",
              "      <td>0</td>\n",
              "    </tr>\n",
              "    <tr>\n",
              "      <th>1</th>\n",
              "      <td>0</td>\n",
              "      <td>0</td>\n",
              "      <td>0</td>\n",
              "      <td>0</td>\n",
              "      <td>0</td>\n",
              "      <td>0</td>\n",
              "      <td>0</td>\n",
              "      <td>0</td>\n",
              "      <td>0</td>\n",
              "      <td>0</td>\n",
              "      <td>...</td>\n",
              "      <td>0</td>\n",
              "      <td>0</td>\n",
              "      <td>0</td>\n",
              "      <td>0</td>\n",
              "      <td>0</td>\n",
              "      <td>0</td>\n",
              "      <td>0</td>\n",
              "      <td>0</td>\n",
              "      <td>0</td>\n",
              "      <td>0</td>\n",
              "    </tr>\n",
              "    <tr>\n",
              "      <th>2</th>\n",
              "      <td>1</td>\n",
              "      <td>0</td>\n",
              "      <td>0</td>\n",
              "      <td>0</td>\n",
              "      <td>0</td>\n",
              "      <td>0</td>\n",
              "      <td>0</td>\n",
              "      <td>0</td>\n",
              "      <td>0</td>\n",
              "      <td>0</td>\n",
              "      <td>...</td>\n",
              "      <td>0</td>\n",
              "      <td>0</td>\n",
              "      <td>0</td>\n",
              "      <td>0</td>\n",
              "      <td>0</td>\n",
              "      <td>0</td>\n",
              "      <td>0</td>\n",
              "      <td>0</td>\n",
              "      <td>0</td>\n",
              "      <td>0</td>\n",
              "    </tr>\n",
              "    <tr>\n",
              "      <th>3</th>\n",
              "      <td>4</td>\n",
              "      <td>0</td>\n",
              "      <td>0</td>\n",
              "      <td>0</td>\n",
              "      <td>0</td>\n",
              "      <td>0</td>\n",
              "      <td>0</td>\n",
              "      <td>0</td>\n",
              "      <td>0</td>\n",
              "      <td>0</td>\n",
              "      <td>...</td>\n",
              "      <td>0</td>\n",
              "      <td>0</td>\n",
              "      <td>0</td>\n",
              "      <td>0</td>\n",
              "      <td>0</td>\n",
              "      <td>0</td>\n",
              "      <td>0</td>\n",
              "      <td>0</td>\n",
              "      <td>0</td>\n",
              "      <td>0</td>\n",
              "    </tr>\n",
              "    <tr>\n",
              "      <th>4</th>\n",
              "      <td>0</td>\n",
              "      <td>0</td>\n",
              "      <td>0</td>\n",
              "      <td>0</td>\n",
              "      <td>0</td>\n",
              "      <td>0</td>\n",
              "      <td>0</td>\n",
              "      <td>0</td>\n",
              "      <td>0</td>\n",
              "      <td>0</td>\n",
              "      <td>...</td>\n",
              "      <td>0</td>\n",
              "      <td>0</td>\n",
              "      <td>0</td>\n",
              "      <td>0</td>\n",
              "      <td>0</td>\n",
              "      <td>0</td>\n",
              "      <td>0</td>\n",
              "      <td>0</td>\n",
              "      <td>0</td>\n",
              "      <td>0</td>\n",
              "    </tr>\n",
              "  </tbody>\n",
              "</table>\n",
              "<p>5 rows × 785 columns</p>\n",
              "</div>\n",
              "      <button class=\"colab-df-convert\" onclick=\"convertToInteractive('df-025f20c5-0627-4f9f-a22a-c10bfbe27cfe')\"\n",
              "              title=\"Convert this dataframe to an interactive table.\"\n",
              "              style=\"display:none;\">\n",
              "        \n",
              "  <svg xmlns=\"http://www.w3.org/2000/svg\" height=\"24px\"viewBox=\"0 0 24 24\"\n",
              "       width=\"24px\">\n",
              "    <path d=\"M0 0h24v24H0V0z\" fill=\"none\"/>\n",
              "    <path d=\"M18.56 5.44l.94 2.06.94-2.06 2.06-.94-2.06-.94-.94-2.06-.94 2.06-2.06.94zm-11 1L8.5 8.5l.94-2.06 2.06-.94-2.06-.94L8.5 2.5l-.94 2.06-2.06.94zm10 10l.94 2.06.94-2.06 2.06-.94-2.06-.94-.94-2.06-.94 2.06-2.06.94z\"/><path d=\"M17.41 7.96l-1.37-1.37c-.4-.4-.92-.59-1.43-.59-.52 0-1.04.2-1.43.59L10.3 9.45l-7.72 7.72c-.78.78-.78 2.05 0 2.83L4 21.41c.39.39.9.59 1.41.59.51 0 1.02-.2 1.41-.59l7.78-7.78 2.81-2.81c.8-.78.8-2.07 0-2.86zM5.41 20L4 18.59l7.72-7.72 1.47 1.35L5.41 20z\"/>\n",
              "  </svg>\n",
              "      </button>\n",
              "      \n",
              "  <style>\n",
              "    .colab-df-container {\n",
              "      display:flex;\n",
              "      flex-wrap:wrap;\n",
              "      gap: 12px;\n",
              "    }\n",
              "\n",
              "    .colab-df-convert {\n",
              "      background-color: #E8F0FE;\n",
              "      border: none;\n",
              "      border-radius: 50%;\n",
              "      cursor: pointer;\n",
              "      display: none;\n",
              "      fill: #1967D2;\n",
              "      height: 32px;\n",
              "      padding: 0 0 0 0;\n",
              "      width: 32px;\n",
              "    }\n",
              "\n",
              "    .colab-df-convert:hover {\n",
              "      background-color: #E2EBFA;\n",
              "      box-shadow: 0px 1px 2px rgba(60, 64, 67, 0.3), 0px 1px 3px 1px rgba(60, 64, 67, 0.15);\n",
              "      fill: #174EA6;\n",
              "    }\n",
              "\n",
              "    [theme=dark] .colab-df-convert {\n",
              "      background-color: #3B4455;\n",
              "      fill: #D2E3FC;\n",
              "    }\n",
              "\n",
              "    [theme=dark] .colab-df-convert:hover {\n",
              "      background-color: #434B5C;\n",
              "      box-shadow: 0px 1px 3px 1px rgba(0, 0, 0, 0.15);\n",
              "      filter: drop-shadow(0px 1px 2px rgba(0, 0, 0, 0.3));\n",
              "      fill: #FFFFFF;\n",
              "    }\n",
              "  </style>\n",
              "\n",
              "      <script>\n",
              "        const buttonEl =\n",
              "          document.querySelector('#df-025f20c5-0627-4f9f-a22a-c10bfbe27cfe button.colab-df-convert');\n",
              "        buttonEl.style.display =\n",
              "          google.colab.kernel.accessAllowed ? 'block' : 'none';\n",
              "\n",
              "        async function convertToInteractive(key) {\n",
              "          const element = document.querySelector('#df-025f20c5-0627-4f9f-a22a-c10bfbe27cfe');\n",
              "          const dataTable =\n",
              "            await google.colab.kernel.invokeFunction('convertToInteractive',\n",
              "                                                     [key], {});\n",
              "          if (!dataTable) return;\n",
              "\n",
              "          const docLinkHtml = 'Like what you see? Visit the ' +\n",
              "            '<a target=\"_blank\" href=https://colab.research.google.com/notebooks/data_table.ipynb>data table notebook</a>'\n",
              "            + ' to learn more about interactive tables.';\n",
              "          element.innerHTML = '';\n",
              "          dataTable['output_type'] = 'display_data';\n",
              "          await google.colab.output.renderOutput(dataTable, element);\n",
              "          const docLink = document.createElement('div');\n",
              "          docLink.innerHTML = docLinkHtml;\n",
              "          element.appendChild(docLink);\n",
              "        }\n",
              "      </script>\n",
              "    </div>\n",
              "  </div>\n",
              "  "
            ]
          },
          "metadata": {},
          "execution_count": 2
        }
      ]
    },
    {
      "cell_type": "code",
      "source": [
        "train.describe() "
      ],
      "metadata": {
        "id": "VCPENMU5kbg6"
      },
      "execution_count": null,
      "outputs": []
    },
    {
      "cell_type": "code",
      "metadata": {
        "id": "yLm3V8IqD23W"
      },
      "source": [
        "## Configurar la etiqueta y las columnas de características\n",
        "\n",
        "y = train.loc[:,'label'].values\n",
        "x = train.loc[:,'pixel0':].values"
      ],
      "execution_count": 3,
      "outputs": []
    },
    {
      "cell_type": "code",
      "metadata": {
        "colab": {
          "base_uri": "https://localhost:8080/"
        },
        "id": "8Z4ukNXtD7Cr",
        "outputId": "af806ac8-b2a8-4595-858b-a9398ec8a16d"
      },
      "source": [
        "## Estandarizar data\n",
        "\n",
        "#Librería para estandarización\n",
        "from sklearn.preprocessing import StandardScaler\n",
        "\n",
        "standardized_data = StandardScaler().fit_transform(x)\n",
        "print(standardized_data.shape)"
      ],
      "execution_count": 4,
      "outputs": [
        {
          "output_type": "stream",
          "name": "stdout",
          "text": [
            "(42000, 784)\n"
          ]
        }
      ]
    },
    {
      "cell_type": "code",
      "source": [
        "standardized_data"
      ],
      "metadata": {
        "colab": {
          "base_uri": "https://localhost:8080/"
        },
        "id": "VFnhk0IjkwUs",
        "outputId": "339217c5-dc7a-4d57-ea81-1405163f8e82"
      },
      "execution_count": 6,
      "outputs": [
        {
          "output_type": "execute_result",
          "data": {
            "text/plain": [
              "array([[0., 0., 0., ..., 0., 0., 0.],\n",
              "       [0., 0., 0., ..., 0., 0., 0.],\n",
              "       [0., 0., 0., ..., 0., 0., 0.],\n",
              "       ...,\n",
              "       [0., 0., 0., ..., 0., 0., 0.],\n",
              "       [0., 0., 0., ..., 0., 0., 0.],\n",
              "       [0., 0., 0., ..., 0., 0., 0.]])"
            ]
          },
          "metadata": {},
          "execution_count": 6
        }
      ]
    },
    {
      "cell_type": "code",
      "source": [
        "train.drop(columns='label').cov()"
      ],
      "metadata": {
        "colab": {
          "base_uri": "https://localhost:8080/",
          "height": 487
        },
        "id": "crfYyjz_nZ_h",
        "outputId": "18e896c7-121b-4f7a-f39e-357608e414bd"
      },
      "execution_count": 19,
      "outputs": [
        {
          "output_type": "execute_result",
          "data": {
            "text/plain": [
              "          pixel0  pixel1  pixel2  pixel3  pixel4  pixel5  pixel6  pixel7  \\\n",
              "pixel0       0.0     0.0     0.0     0.0     0.0     0.0     0.0     0.0   \n",
              "pixel1       0.0     0.0     0.0     0.0     0.0     0.0     0.0     0.0   \n",
              "pixel2       0.0     0.0     0.0     0.0     0.0     0.0     0.0     0.0   \n",
              "pixel3       0.0     0.0     0.0     0.0     0.0     0.0     0.0     0.0   \n",
              "pixel4       0.0     0.0     0.0     0.0     0.0     0.0     0.0     0.0   \n",
              "...          ...     ...     ...     ...     ...     ...     ...     ...   \n",
              "pixel779     0.0     0.0     0.0     0.0     0.0     0.0     0.0     0.0   \n",
              "pixel780     0.0     0.0     0.0     0.0     0.0     0.0     0.0     0.0   \n",
              "pixel781     0.0     0.0     0.0     0.0     0.0     0.0     0.0     0.0   \n",
              "pixel782     0.0     0.0     0.0     0.0     0.0     0.0     0.0     0.0   \n",
              "pixel783     0.0     0.0     0.0     0.0     0.0     0.0     0.0     0.0   \n",
              "\n",
              "          pixel8  pixel9  ...  pixel774  pixel775  pixel776  pixel777  \\\n",
              "pixel0       0.0     0.0  ...  0.000000  0.000000  0.000000  0.000000   \n",
              "pixel1       0.0     0.0  ...  0.000000  0.000000  0.000000  0.000000   \n",
              "pixel2       0.0     0.0  ...  0.000000  0.000000  0.000000  0.000000   \n",
              "pixel3       0.0     0.0  ...  0.000000  0.000000  0.000000  0.000000   \n",
              "pixel4       0.0     0.0  ...  0.000000  0.000000  0.000000  0.000000   \n",
              "...          ...     ...  ...       ...       ...       ...       ...   \n",
              "pixel779     0.0     0.0  ... -0.000627 -0.000335 -0.000169  0.172518   \n",
              "pixel780     0.0     0.0  ...  0.000000  0.000000  0.000000  0.000000   \n",
              "pixel781     0.0     0.0  ...  0.000000  0.000000  0.000000  0.000000   \n",
              "pixel782     0.0     0.0  ...  0.000000  0.000000  0.000000  0.000000   \n",
              "pixel783     0.0     0.0  ...  0.000000  0.000000  0.000000  0.000000   \n",
              "\n",
              "          pixel778  pixel779  pixel780  pixel781  pixel782  pixel783  \n",
              "pixel0     0.00000  0.000000       0.0       0.0       0.0       0.0  \n",
              "pixel1     0.00000  0.000000       0.0       0.0       0.0       0.0  \n",
              "pixel2     0.00000  0.000000       0.0       0.0       0.0       0.0  \n",
              "pixel3     0.00000  0.000000       0.0       0.0       0.0       0.0  \n",
              "pixel4     0.00000  0.000000       0.0       0.0       0.0       0.0  \n",
              "...            ...       ...       ...       ...       ...       ...  \n",
              "pixel779   0.71092  0.171615       0.0       0.0       0.0       0.0  \n",
              "pixel780   0.00000  0.000000       0.0       0.0       0.0       0.0  \n",
              "pixel781   0.00000  0.000000       0.0       0.0       0.0       0.0  \n",
              "pixel782   0.00000  0.000000       0.0       0.0       0.0       0.0  \n",
              "pixel783   0.00000  0.000000       0.0       0.0       0.0       0.0  \n",
              "\n",
              "[784 rows x 784 columns]"
            ],
            "text/html": [
              "\n",
              "  <div id=\"df-7366f08a-4724-4442-8106-8338cb69735b\">\n",
              "    <div class=\"colab-df-container\">\n",
              "      <div>\n",
              "<style scoped>\n",
              "    .dataframe tbody tr th:only-of-type {\n",
              "        vertical-align: middle;\n",
              "    }\n",
              "\n",
              "    .dataframe tbody tr th {\n",
              "        vertical-align: top;\n",
              "    }\n",
              "\n",
              "    .dataframe thead th {\n",
              "        text-align: right;\n",
              "    }\n",
              "</style>\n",
              "<table border=\"1\" class=\"dataframe\">\n",
              "  <thead>\n",
              "    <tr style=\"text-align: right;\">\n",
              "      <th></th>\n",
              "      <th>pixel0</th>\n",
              "      <th>pixel1</th>\n",
              "      <th>pixel2</th>\n",
              "      <th>pixel3</th>\n",
              "      <th>pixel4</th>\n",
              "      <th>pixel5</th>\n",
              "      <th>pixel6</th>\n",
              "      <th>pixel7</th>\n",
              "      <th>pixel8</th>\n",
              "      <th>pixel9</th>\n",
              "      <th>...</th>\n",
              "      <th>pixel774</th>\n",
              "      <th>pixel775</th>\n",
              "      <th>pixel776</th>\n",
              "      <th>pixel777</th>\n",
              "      <th>pixel778</th>\n",
              "      <th>pixel779</th>\n",
              "      <th>pixel780</th>\n",
              "      <th>pixel781</th>\n",
              "      <th>pixel782</th>\n",
              "      <th>pixel783</th>\n",
              "    </tr>\n",
              "  </thead>\n",
              "  <tbody>\n",
              "    <tr>\n",
              "      <th>pixel0</th>\n",
              "      <td>0.0</td>\n",
              "      <td>0.0</td>\n",
              "      <td>0.0</td>\n",
              "      <td>0.0</td>\n",
              "      <td>0.0</td>\n",
              "      <td>0.0</td>\n",
              "      <td>0.0</td>\n",
              "      <td>0.0</td>\n",
              "      <td>0.0</td>\n",
              "      <td>0.0</td>\n",
              "      <td>...</td>\n",
              "      <td>0.000000</td>\n",
              "      <td>0.000000</td>\n",
              "      <td>0.000000</td>\n",
              "      <td>0.000000</td>\n",
              "      <td>0.00000</td>\n",
              "      <td>0.000000</td>\n",
              "      <td>0.0</td>\n",
              "      <td>0.0</td>\n",
              "      <td>0.0</td>\n",
              "      <td>0.0</td>\n",
              "    </tr>\n",
              "    <tr>\n",
              "      <th>pixel1</th>\n",
              "      <td>0.0</td>\n",
              "      <td>0.0</td>\n",
              "      <td>0.0</td>\n",
              "      <td>0.0</td>\n",
              "      <td>0.0</td>\n",
              "      <td>0.0</td>\n",
              "      <td>0.0</td>\n",
              "      <td>0.0</td>\n",
              "      <td>0.0</td>\n",
              "      <td>0.0</td>\n",
              "      <td>...</td>\n",
              "      <td>0.000000</td>\n",
              "      <td>0.000000</td>\n",
              "      <td>0.000000</td>\n",
              "      <td>0.000000</td>\n",
              "      <td>0.00000</td>\n",
              "      <td>0.000000</td>\n",
              "      <td>0.0</td>\n",
              "      <td>0.0</td>\n",
              "      <td>0.0</td>\n",
              "      <td>0.0</td>\n",
              "    </tr>\n",
              "    <tr>\n",
              "      <th>pixel2</th>\n",
              "      <td>0.0</td>\n",
              "      <td>0.0</td>\n",
              "      <td>0.0</td>\n",
              "      <td>0.0</td>\n",
              "      <td>0.0</td>\n",
              "      <td>0.0</td>\n",
              "      <td>0.0</td>\n",
              "      <td>0.0</td>\n",
              "      <td>0.0</td>\n",
              "      <td>0.0</td>\n",
              "      <td>...</td>\n",
              "      <td>0.000000</td>\n",
              "      <td>0.000000</td>\n",
              "      <td>0.000000</td>\n",
              "      <td>0.000000</td>\n",
              "      <td>0.00000</td>\n",
              "      <td>0.000000</td>\n",
              "      <td>0.0</td>\n",
              "      <td>0.0</td>\n",
              "      <td>0.0</td>\n",
              "      <td>0.0</td>\n",
              "    </tr>\n",
              "    <tr>\n",
              "      <th>pixel3</th>\n",
              "      <td>0.0</td>\n",
              "      <td>0.0</td>\n",
              "      <td>0.0</td>\n",
              "      <td>0.0</td>\n",
              "      <td>0.0</td>\n",
              "      <td>0.0</td>\n",
              "      <td>0.0</td>\n",
              "      <td>0.0</td>\n",
              "      <td>0.0</td>\n",
              "      <td>0.0</td>\n",
              "      <td>...</td>\n",
              "      <td>0.000000</td>\n",
              "      <td>0.000000</td>\n",
              "      <td>0.000000</td>\n",
              "      <td>0.000000</td>\n",
              "      <td>0.00000</td>\n",
              "      <td>0.000000</td>\n",
              "      <td>0.0</td>\n",
              "      <td>0.0</td>\n",
              "      <td>0.0</td>\n",
              "      <td>0.0</td>\n",
              "    </tr>\n",
              "    <tr>\n",
              "      <th>pixel4</th>\n",
              "      <td>0.0</td>\n",
              "      <td>0.0</td>\n",
              "      <td>0.0</td>\n",
              "      <td>0.0</td>\n",
              "      <td>0.0</td>\n",
              "      <td>0.0</td>\n",
              "      <td>0.0</td>\n",
              "      <td>0.0</td>\n",
              "      <td>0.0</td>\n",
              "      <td>0.0</td>\n",
              "      <td>...</td>\n",
              "      <td>0.000000</td>\n",
              "      <td>0.000000</td>\n",
              "      <td>0.000000</td>\n",
              "      <td>0.000000</td>\n",
              "      <td>0.00000</td>\n",
              "      <td>0.000000</td>\n",
              "      <td>0.0</td>\n",
              "      <td>0.0</td>\n",
              "      <td>0.0</td>\n",
              "      <td>0.0</td>\n",
              "    </tr>\n",
              "    <tr>\n",
              "      <th>...</th>\n",
              "      <td>...</td>\n",
              "      <td>...</td>\n",
              "      <td>...</td>\n",
              "      <td>...</td>\n",
              "      <td>...</td>\n",
              "      <td>...</td>\n",
              "      <td>...</td>\n",
              "      <td>...</td>\n",
              "      <td>...</td>\n",
              "      <td>...</td>\n",
              "      <td>...</td>\n",
              "      <td>...</td>\n",
              "      <td>...</td>\n",
              "      <td>...</td>\n",
              "      <td>...</td>\n",
              "      <td>...</td>\n",
              "      <td>...</td>\n",
              "      <td>...</td>\n",
              "      <td>...</td>\n",
              "      <td>...</td>\n",
              "      <td>...</td>\n",
              "    </tr>\n",
              "    <tr>\n",
              "      <th>pixel779</th>\n",
              "      <td>0.0</td>\n",
              "      <td>0.0</td>\n",
              "      <td>0.0</td>\n",
              "      <td>0.0</td>\n",
              "      <td>0.0</td>\n",
              "      <td>0.0</td>\n",
              "      <td>0.0</td>\n",
              "      <td>0.0</td>\n",
              "      <td>0.0</td>\n",
              "      <td>0.0</td>\n",
              "      <td>...</td>\n",
              "      <td>-0.000627</td>\n",
              "      <td>-0.000335</td>\n",
              "      <td>-0.000169</td>\n",
              "      <td>0.172518</td>\n",
              "      <td>0.71092</td>\n",
              "      <td>0.171615</td>\n",
              "      <td>0.0</td>\n",
              "      <td>0.0</td>\n",
              "      <td>0.0</td>\n",
              "      <td>0.0</td>\n",
              "    </tr>\n",
              "    <tr>\n",
              "      <th>pixel780</th>\n",
              "      <td>0.0</td>\n",
              "      <td>0.0</td>\n",
              "      <td>0.0</td>\n",
              "      <td>0.0</td>\n",
              "      <td>0.0</td>\n",
              "      <td>0.0</td>\n",
              "      <td>0.0</td>\n",
              "      <td>0.0</td>\n",
              "      <td>0.0</td>\n",
              "      <td>0.0</td>\n",
              "      <td>...</td>\n",
              "      <td>0.000000</td>\n",
              "      <td>0.000000</td>\n",
              "      <td>0.000000</td>\n",
              "      <td>0.000000</td>\n",
              "      <td>0.00000</td>\n",
              "      <td>0.000000</td>\n",
              "      <td>0.0</td>\n",
              "      <td>0.0</td>\n",
              "      <td>0.0</td>\n",
              "      <td>0.0</td>\n",
              "    </tr>\n",
              "    <tr>\n",
              "      <th>pixel781</th>\n",
              "      <td>0.0</td>\n",
              "      <td>0.0</td>\n",
              "      <td>0.0</td>\n",
              "      <td>0.0</td>\n",
              "      <td>0.0</td>\n",
              "      <td>0.0</td>\n",
              "      <td>0.0</td>\n",
              "      <td>0.0</td>\n",
              "      <td>0.0</td>\n",
              "      <td>0.0</td>\n",
              "      <td>...</td>\n",
              "      <td>0.000000</td>\n",
              "      <td>0.000000</td>\n",
              "      <td>0.000000</td>\n",
              "      <td>0.000000</td>\n",
              "      <td>0.00000</td>\n",
              "      <td>0.000000</td>\n",
              "      <td>0.0</td>\n",
              "      <td>0.0</td>\n",
              "      <td>0.0</td>\n",
              "      <td>0.0</td>\n",
              "    </tr>\n",
              "    <tr>\n",
              "      <th>pixel782</th>\n",
              "      <td>0.0</td>\n",
              "      <td>0.0</td>\n",
              "      <td>0.0</td>\n",
              "      <td>0.0</td>\n",
              "      <td>0.0</td>\n",
              "      <td>0.0</td>\n",
              "      <td>0.0</td>\n",
              "      <td>0.0</td>\n",
              "      <td>0.0</td>\n",
              "      <td>0.0</td>\n",
              "      <td>...</td>\n",
              "      <td>0.000000</td>\n",
              "      <td>0.000000</td>\n",
              "      <td>0.000000</td>\n",
              "      <td>0.000000</td>\n",
              "      <td>0.00000</td>\n",
              "      <td>0.000000</td>\n",
              "      <td>0.0</td>\n",
              "      <td>0.0</td>\n",
              "      <td>0.0</td>\n",
              "      <td>0.0</td>\n",
              "    </tr>\n",
              "    <tr>\n",
              "      <th>pixel783</th>\n",
              "      <td>0.0</td>\n",
              "      <td>0.0</td>\n",
              "      <td>0.0</td>\n",
              "      <td>0.0</td>\n",
              "      <td>0.0</td>\n",
              "      <td>0.0</td>\n",
              "      <td>0.0</td>\n",
              "      <td>0.0</td>\n",
              "      <td>0.0</td>\n",
              "      <td>0.0</td>\n",
              "      <td>...</td>\n",
              "      <td>0.000000</td>\n",
              "      <td>0.000000</td>\n",
              "      <td>0.000000</td>\n",
              "      <td>0.000000</td>\n",
              "      <td>0.00000</td>\n",
              "      <td>0.000000</td>\n",
              "      <td>0.0</td>\n",
              "      <td>0.0</td>\n",
              "      <td>0.0</td>\n",
              "      <td>0.0</td>\n",
              "    </tr>\n",
              "  </tbody>\n",
              "</table>\n",
              "<p>784 rows × 784 columns</p>\n",
              "</div>\n",
              "      <button class=\"colab-df-convert\" onclick=\"convertToInteractive('df-7366f08a-4724-4442-8106-8338cb69735b')\"\n",
              "              title=\"Convert this dataframe to an interactive table.\"\n",
              "              style=\"display:none;\">\n",
              "        \n",
              "  <svg xmlns=\"http://www.w3.org/2000/svg\" height=\"24px\"viewBox=\"0 0 24 24\"\n",
              "       width=\"24px\">\n",
              "    <path d=\"M0 0h24v24H0V0z\" fill=\"none\"/>\n",
              "    <path d=\"M18.56 5.44l.94 2.06.94-2.06 2.06-.94-2.06-.94-.94-2.06-.94 2.06-2.06.94zm-11 1L8.5 8.5l.94-2.06 2.06-.94-2.06-.94L8.5 2.5l-.94 2.06-2.06.94zm10 10l.94 2.06.94-2.06 2.06-.94-2.06-.94-.94-2.06-.94 2.06-2.06.94z\"/><path d=\"M17.41 7.96l-1.37-1.37c-.4-.4-.92-.59-1.43-.59-.52 0-1.04.2-1.43.59L10.3 9.45l-7.72 7.72c-.78.78-.78 2.05 0 2.83L4 21.41c.39.39.9.59 1.41.59.51 0 1.02-.2 1.41-.59l7.78-7.78 2.81-2.81c.8-.78.8-2.07 0-2.86zM5.41 20L4 18.59l7.72-7.72 1.47 1.35L5.41 20z\"/>\n",
              "  </svg>\n",
              "      </button>\n",
              "      \n",
              "  <style>\n",
              "    .colab-df-container {\n",
              "      display:flex;\n",
              "      flex-wrap:wrap;\n",
              "      gap: 12px;\n",
              "    }\n",
              "\n",
              "    .colab-df-convert {\n",
              "      background-color: #E8F0FE;\n",
              "      border: none;\n",
              "      border-radius: 50%;\n",
              "      cursor: pointer;\n",
              "      display: none;\n",
              "      fill: #1967D2;\n",
              "      height: 32px;\n",
              "      padding: 0 0 0 0;\n",
              "      width: 32px;\n",
              "    }\n",
              "\n",
              "    .colab-df-convert:hover {\n",
              "      background-color: #E2EBFA;\n",
              "      box-shadow: 0px 1px 2px rgba(60, 64, 67, 0.3), 0px 1px 3px 1px rgba(60, 64, 67, 0.15);\n",
              "      fill: #174EA6;\n",
              "    }\n",
              "\n",
              "    [theme=dark] .colab-df-convert {\n",
              "      background-color: #3B4455;\n",
              "      fill: #D2E3FC;\n",
              "    }\n",
              "\n",
              "    [theme=dark] .colab-df-convert:hover {\n",
              "      background-color: #434B5C;\n",
              "      box-shadow: 0px 1px 3px 1px rgba(0, 0, 0, 0.15);\n",
              "      filter: drop-shadow(0px 1px 2px rgba(0, 0, 0, 0.3));\n",
              "      fill: #FFFFFF;\n",
              "    }\n",
              "  </style>\n",
              "\n",
              "      <script>\n",
              "        const buttonEl =\n",
              "          document.querySelector('#df-7366f08a-4724-4442-8106-8338cb69735b button.colab-df-convert');\n",
              "        buttonEl.style.display =\n",
              "          google.colab.kernel.accessAllowed ? 'block' : 'none';\n",
              "\n",
              "        async function convertToInteractive(key) {\n",
              "          const element = document.querySelector('#df-7366f08a-4724-4442-8106-8338cb69735b');\n",
              "          const dataTable =\n",
              "            await google.colab.kernel.invokeFunction('convertToInteractive',\n",
              "                                                     [key], {});\n",
              "          if (!dataTable) return;\n",
              "\n",
              "          const docLinkHtml = 'Like what you see? Visit the ' +\n",
              "            '<a target=\"_blank\" href=https://colab.research.google.com/notebooks/data_table.ipynb>data table notebook</a>'\n",
              "            + ' to learn more about interactive tables.';\n",
              "          element.innerHTML = '';\n",
              "          dataTable['output_type'] = 'display_data';\n",
              "          await google.colab.output.renderOutput(dataTable, element);\n",
              "          const docLink = document.createElement('div');\n",
              "          docLink.innerHTML = docLinkHtml;\n",
              "          element.appendChild(docLink);\n",
              "        }\n",
              "      </script>\n",
              "    </div>\n",
              "  </div>\n",
              "  "
            ]
          },
          "metadata": {},
          "execution_count": 19
        }
      ]
    },
    {
      "cell_type": "markdown",
      "metadata": {
        "id": "ksfUjJQ9Gpvj"
      },
      "source": [
        "## PCA para visualización"
      ]
    },
    {
      "cell_type": "markdown",
      "metadata": {
        "id": "ZJzqgK7hGvLH"
      },
      "source": [
        "\n",
        "Una forma eficaz de visualizar datos de alta dimensión es representar cada objeto de datos mediante un punto bidimensional de tal forma que los objetos similares se representen mediante puntos cercanos y los distintos objetos mediante puntos distantes. Los puntos bidimensionales resultantes se pueden visualizar en un diagrama de dispersión. Esto lleva a un mapa de los datos que revela la estructura subyacente de los objetos, como la presencia de clusters. Veamos cómo podemos usar PCA para hacer eso."
      ]
    },
    {
      "cell_type": "code",
      "metadata": {
        "colab": {
          "base_uri": "https://localhost:8080/"
        },
        "id": "wJaMAwbxEGJD",
        "outputId": "c0b19620-d4ae-4dee-b0c3-a8c367b7071f"
      },
      "source": [
        "## Importando y aplicando PCA\n",
        "\n",
        "#PCA\n",
        "from sklearn.decomposition import PCA\n",
        "\n",
        "pca = PCA(n_components = 2) # project from 784 to 2 dimensions\n",
        "principalComponents = pca.fit_transform(standardized_data)\n",
        "\n",
        "principal_df = pd.DataFrame(data = principalComponents\n",
        "             , columns = ['principal component 1', 'principal component 2'])\n",
        "\n",
        "principal_df.shape"
      ],
      "execution_count": 7,
      "outputs": [
        {
          "output_type": "execute_result",
          "data": {
            "text/plain": [
              "(42000, 2)"
            ]
          },
          "metadata": {},
          "execution_count": 7
        }
      ]
    },
    {
      "cell_type": "code",
      "metadata": {
        "colab": {
          "base_uri": "https://localhost:8080/",
          "height": 206
        },
        "id": "5xsyrhMvLm7P",
        "outputId": "44d032be-adf1-4d6d-8bdc-0b1261153b91"
      },
      "source": [
        "principal_df.head()"
      ],
      "execution_count": 8,
      "outputs": [
        {
          "output_type": "execute_result",
          "data": {
            "text/plain": [
              "   principal component 1  principal component 2\n",
              "0              -5.140437              -5.226464\n",
              "1              19.292291               6.032304\n",
              "2              -7.644508              -1.705950\n",
              "3              -0.474239               5.834066\n",
              "4              26.559535               6.024956"
            ],
            "text/html": [
              "\n",
              "  <div id=\"df-ad5a130b-0d53-4f32-805f-d323d2c8eb1e\">\n",
              "    <div class=\"colab-df-container\">\n",
              "      <div>\n",
              "<style scoped>\n",
              "    .dataframe tbody tr th:only-of-type {\n",
              "        vertical-align: middle;\n",
              "    }\n",
              "\n",
              "    .dataframe tbody tr th {\n",
              "        vertical-align: top;\n",
              "    }\n",
              "\n",
              "    .dataframe thead th {\n",
              "        text-align: right;\n",
              "    }\n",
              "</style>\n",
              "<table border=\"1\" class=\"dataframe\">\n",
              "  <thead>\n",
              "    <tr style=\"text-align: right;\">\n",
              "      <th></th>\n",
              "      <th>principal component 1</th>\n",
              "      <th>principal component 2</th>\n",
              "    </tr>\n",
              "  </thead>\n",
              "  <tbody>\n",
              "    <tr>\n",
              "      <th>0</th>\n",
              "      <td>-5.140437</td>\n",
              "      <td>-5.226464</td>\n",
              "    </tr>\n",
              "    <tr>\n",
              "      <th>1</th>\n",
              "      <td>19.292291</td>\n",
              "      <td>6.032304</td>\n",
              "    </tr>\n",
              "    <tr>\n",
              "      <th>2</th>\n",
              "      <td>-7.644508</td>\n",
              "      <td>-1.705950</td>\n",
              "    </tr>\n",
              "    <tr>\n",
              "      <th>3</th>\n",
              "      <td>-0.474239</td>\n",
              "      <td>5.834066</td>\n",
              "    </tr>\n",
              "    <tr>\n",
              "      <th>4</th>\n",
              "      <td>26.559535</td>\n",
              "      <td>6.024956</td>\n",
              "    </tr>\n",
              "  </tbody>\n",
              "</table>\n",
              "</div>\n",
              "      <button class=\"colab-df-convert\" onclick=\"convertToInteractive('df-ad5a130b-0d53-4f32-805f-d323d2c8eb1e')\"\n",
              "              title=\"Convert this dataframe to an interactive table.\"\n",
              "              style=\"display:none;\">\n",
              "        \n",
              "  <svg xmlns=\"http://www.w3.org/2000/svg\" height=\"24px\"viewBox=\"0 0 24 24\"\n",
              "       width=\"24px\">\n",
              "    <path d=\"M0 0h24v24H0V0z\" fill=\"none\"/>\n",
              "    <path d=\"M18.56 5.44l.94 2.06.94-2.06 2.06-.94-2.06-.94-.94-2.06-.94 2.06-2.06.94zm-11 1L8.5 8.5l.94-2.06 2.06-.94-2.06-.94L8.5 2.5l-.94 2.06-2.06.94zm10 10l.94 2.06.94-2.06 2.06-.94-2.06-.94-.94-2.06-.94 2.06-2.06.94z\"/><path d=\"M17.41 7.96l-1.37-1.37c-.4-.4-.92-.59-1.43-.59-.52 0-1.04.2-1.43.59L10.3 9.45l-7.72 7.72c-.78.78-.78 2.05 0 2.83L4 21.41c.39.39.9.59 1.41.59.51 0 1.02-.2 1.41-.59l7.78-7.78 2.81-2.81c.8-.78.8-2.07 0-2.86zM5.41 20L4 18.59l7.72-7.72 1.47 1.35L5.41 20z\"/>\n",
              "  </svg>\n",
              "      </button>\n",
              "      \n",
              "  <style>\n",
              "    .colab-df-container {\n",
              "      display:flex;\n",
              "      flex-wrap:wrap;\n",
              "      gap: 12px;\n",
              "    }\n",
              "\n",
              "    .colab-df-convert {\n",
              "      background-color: #E8F0FE;\n",
              "      border: none;\n",
              "      border-radius: 50%;\n",
              "      cursor: pointer;\n",
              "      display: none;\n",
              "      fill: #1967D2;\n",
              "      height: 32px;\n",
              "      padding: 0 0 0 0;\n",
              "      width: 32px;\n",
              "    }\n",
              "\n",
              "    .colab-df-convert:hover {\n",
              "      background-color: #E2EBFA;\n",
              "      box-shadow: 0px 1px 2px rgba(60, 64, 67, 0.3), 0px 1px 3px 1px rgba(60, 64, 67, 0.15);\n",
              "      fill: #174EA6;\n",
              "    }\n",
              "\n",
              "    [theme=dark] .colab-df-convert {\n",
              "      background-color: #3B4455;\n",
              "      fill: #D2E3FC;\n",
              "    }\n",
              "\n",
              "    [theme=dark] .colab-df-convert:hover {\n",
              "      background-color: #434B5C;\n",
              "      box-shadow: 0px 1px 3px 1px rgba(0, 0, 0, 0.15);\n",
              "      filter: drop-shadow(0px 1px 2px rgba(0, 0, 0, 0.3));\n",
              "      fill: #FFFFFF;\n",
              "    }\n",
              "  </style>\n",
              "\n",
              "      <script>\n",
              "        const buttonEl =\n",
              "          document.querySelector('#df-ad5a130b-0d53-4f32-805f-d323d2c8eb1e button.colab-df-convert');\n",
              "        buttonEl.style.display =\n",
              "          google.colab.kernel.accessAllowed ? 'block' : 'none';\n",
              "\n",
              "        async function convertToInteractive(key) {\n",
              "          const element = document.querySelector('#df-ad5a130b-0d53-4f32-805f-d323d2c8eb1e');\n",
              "          const dataTable =\n",
              "            await google.colab.kernel.invokeFunction('convertToInteractive',\n",
              "                                                     [key], {});\n",
              "          if (!dataTable) return;\n",
              "\n",
              "          const docLinkHtml = 'Like what you see? Visit the ' +\n",
              "            '<a target=\"_blank\" href=https://colab.research.google.com/notebooks/data_table.ipynb>data table notebook</a>'\n",
              "            + ' to learn more about interactive tables.';\n",
              "          element.innerHTML = '';\n",
              "          dataTable['output_type'] = 'display_data';\n",
              "          await google.colab.output.renderOutput(dataTable, element);\n",
              "          const docLink = document.createElement('div');\n",
              "          docLink.innerHTML = docLinkHtml;\n",
              "          element.appendChild(docLink);\n",
              "        }\n",
              "      </script>\n",
              "    </div>\n",
              "  </div>\n",
              "  "
            ]
          },
          "metadata": {},
          "execution_count": 8
        }
      ]
    },
    {
      "cell_type": "code",
      "metadata": {
        "colab": {
          "base_uri": "https://localhost:8080/"
        },
        "id": "8XP2KVtTEYlT",
        "outputId": "a0f32edc-af3f-4008-90f8-0dfcd5e7edb7"
      },
      "source": [
        "# Ratio de varianza explicada\n",
        "\n",
        "print('Varianza explicada por componente principal: {}'.format(pca.explained_variance_ratio_))"
      ],
      "execution_count": 9,
      "outputs": [
        {
          "output_type": "stream",
          "name": "stdout",
          "text": [
            "Varianza explicada por componente principal: [0.05747953 0.04111691]\n"
          ]
        }
      ]
    },
    {
      "cell_type": "code",
      "metadata": {
        "colab": {
          "base_uri": "https://localhost:8080/",
          "height": 327
        },
        "id": "nJ9oPcJzEee9",
        "outputId": "8b6e1072-183f-4dd9-df19-bf8c07b940dc"
      },
      "source": [
        "# Graficando los dos primeros componentes principales de cada punto para conocer los datos:\n",
        "\n",
        "plt.scatter(principalComponents[:, 0], principalComponents[:, 1], s= 5, c=y, cmap='Spectral')\n",
        "plt.gca().set_aspect('equal', 'datalim')\n",
        "plt.colorbar(boundaries=np.arange(11)-0.5).set_ticks(np.arange(10))\n",
        "plt.title('Data MNIST con PCA', fontsize=24);\n",
        "plt.xlabel('Principal Component 1')\n",
        "plt.ylabel('Principal Component 2')\n"
      ],
      "execution_count": 10,
      "outputs": [
        {
          "output_type": "execute_result",
          "data": {
            "text/plain": [
              "Text(0, 0.5, 'Principal Component 2')"
            ]
          },
          "metadata": {},
          "execution_count": 10
        },
        {
          "output_type": "display_data",
          "data": {
            "text/plain": [
              "<Figure size 432x288 with 2 Axes>"
            ],
            "image/png": "[encoded data removed]"
          },
          "metadata": {
            "needs_background": "light"
          }
        }
      ]
    },
    {
      "cell_type": "markdown",
      "metadata": {
        "id": "Rrcto3ObE1Iq"
      },
      "source": [
        "\n",
        "Los datos completos son una nube de puntos de 784 dimensiones, y estos puntos coloreados son la proyección de cada punto de datos a lo largo de las direcciones con la mayor variación.\n",
        "\n",
        "Esta representación nos permite ver la disposición de los dígitos en dos dimensiones. Otra cosa importante a tener en cuenta aquí es que lo hemos logrado sin supervisión, es decir, sin hacer referencia a las etiquetas. "
      ]
    },
    {
      "cell_type": "markdown",
      "metadata": {
        "id": "ZFqwOrntG_5v"
      },
      "source": [
        "## PCA para reducción de dimensiones"
      ]
    },
    {
      "cell_type": "code",
      "metadata": {
        "id": "oGfjy-QSE2_m",
        "colab": {
          "base_uri": "https://localhost:8080/"
        },
        "outputId": "3e16c097-cdd8-48f2-9283-c0fd555cbb28"
      },
      "source": [
        "## Usando 3 componentes principales\n",
        "\n",
        "pca = PCA(n_components=3) # projectando 3 de 784 dimensiones\n",
        "principalComponents = pca.fit_transform(x)\n",
        "principal_df = pd.DataFrame(data = principalComponents\n",
        "             , columns = ['principal component 1', 'principal component 2', 'principal component 3'])\n",
        "principal_df.shape"
      ],
      "execution_count": 11,
      "outputs": [
        {
          "output_type": "execute_result",
          "data": {
            "text/plain": [
              "(42000, 3)"
            ]
          },
          "metadata": {},
          "execution_count": 11
        }
      ]
    },
    {
      "cell_type": "code",
      "metadata": {
        "id": "BEm6CmwDE9iy",
        "colab": {
          "base_uri": "https://localhost:8080/"
        },
        "outputId": "e25799ec-70ab-442f-ddb2-74ff09a7103f"
      },
      "source": [
        "print('Varianza explicada por componente principal: {}'.format(pca.explained_variance_ratio_))"
      ],
      "execution_count": 12,
      "outputs": [
        {
          "output_type": "stream",
          "name": "stdout",
          "text": [
            "Varianza explicada por componente principal: [0.09748938 0.07160266 0.06145903]\n"
          ]
        }
      ]
    },
    {
      "cell_type": "markdown",
      "metadata": {
        "id": "j1TJetppFLc6"
      },
      "source": [
        "El gráfico anterior muestra que, aunque los componentes pudieron contener cierta información, sin embargo, no es capaz de separar claramente los diferentes dígitos. Afortunadamente, existen otras técnicas de reducción de dimensionalidad que pueden ayudarnos a mejorar esto."
      ]
    },
    {
      "cell_type": "markdown",
      "metadata": {
        "id": "B9bVjS90FdT7"
      },
      "source": [
        "## Elegir el número correcto de componentes\n"
      ]
    },
    {
      "cell_type": "markdown",
      "metadata": {
        "id": "avucYT5hFgwE"
      },
      "source": [
        "\n",
        "La regla del pulgar es elegir el número de dimensiones que suman una porción suficientemente grande de la varianza (por ejemplo, 95%). Sin embargo, si su objetivo es visualizar el conjunto de datos, asegúrese de no elegir más de 2 o 3 dimensiones, ya que el objetivo entonces sería reducir las dimensiones."
      ]
    },
    {
      "cell_type": "code",
      "metadata": {
        "id": "DnvmGtsrFw-x"
      },
      "source": [
        "\n",
        "pca = PCA(n_components=0.95)\n",
        "X_reduced = pca.fit_transform(x)\n"
      ],
      "execution_count": 13,
      "outputs": []
    },
    {
      "cell_type": "markdown",
      "metadata": {
        "id": "mbSpJzx-F028"
      },
      "source": [
        "También puede graficar la varianza explicada en función del número de dimensiones. Habrá un codo en la curva, donde la varianza explicada deja de crecer rápidamente."
      ]
    },
    {
      "cell_type": "code",
      "metadata": {
        "id": "fAOtAe5EF3we",
        "colab": {
          "base_uri": "https://localhost:8080/",
          "height": 285
        },
        "outputId": "5f9fdc1f-1fef-41d7-838a-86498e412fa1"
      },
      "source": [
        "pca = PCA().fit(x)\n",
        "plt.plot(np.cumsum(pca.explained_variance_ratio_))\n",
        "plt.xlabel('Número de componentes')\n",
        "plt.ylabel('Varianza explicada Acumulada');"
      ],
      "execution_count": 14,
      "outputs": [
        {
          "output_type": "display_data",
          "data": {
            "text/plain": [
              "<Figure size 432x288 with 1 Axes>"
            ],
            "image/png": "[encoded data removed]"
          },
          "metadata": {
            "needs_background": "light"
          }
        }
      ]
    },
    {
      "cell_type": "markdown",
      "metadata": {
        "id": "x-4g7hHrRY22"
      },
      "source": [
        "---\n",
        "\n",
        "# Gracias por completar este laboratorio!\n",
        "\n",
        "---\n",
        "\n"
      ]
    }
  ]
}