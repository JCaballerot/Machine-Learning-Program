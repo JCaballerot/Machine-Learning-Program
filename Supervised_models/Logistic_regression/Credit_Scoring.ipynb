{
  "nbformat": 4,
  "nbformat_minor": 0,
  "metadata": {
    "colab": {
      "provenance": [],
      "authorship_tag": "ABX9TyPp3mvs43o4ZvUJ4pNagGhv",
      "include_colab_link": true
    },
    "kernelspec": {
      "name": "python3",
      "display_name": "Python 3"
    },
    "language_info": {
      "name": "python"
    }
  },
  "cells": [
    {
      "cell_type": "markdown",
      "metadata": {
        "id": "view-in-github",
        "colab_type": "text"
      },
      "source": [
        "<a href=\"https://colab.research.google.com/github/JCaballerot/Machine_learning_program/blob/main/Supervised_models/Logistic_regression/Credit_Scoring.ipynb\" target=\"_parent\"><img src=\"https://colab.research.google.com/assets/colab-badge.svg\" alt=\"Open In Colab\"/></a>"
      ]
    },
    {
      "cell_type": "markdown",
      "source": [
        "\n",
        "<h1 align=center><font size = 5>Automobile Loan Default Dataset\n",
        "</font></h1>\n",
        "\n",
        "---"
      ],
      "metadata": {
        "id": "s6UHVkgOXcmw"
      }
    },
    {
      "cell_type": "markdown",
      "source": [
        "## Introducción\n",
        "\n",
        "En este laboratorio, aprenderá a usar python para construir un modelo de <b>credit scoring</b>.\n",
        "\n"
      ],
      "metadata": {
        "id": "zINWKfpHZJRl"
      }
    },
    {
      "cell_type": "markdown",
      "source": [
        "## Objetivo de este Notebook\n",
        "\n",
        "1. Como construir e interpretar un modelo de regresión logística.\n",
        "2. Descargar y limpiar un Dataset\n",
        "3. Realizar los pasos necesarios previos a la etapa de modelamiento\n",
        "4. Entrenar y Testear modelo"
      ],
      "metadata": {
        "id": "mLlfVwLIZV7b"
      }
    },
    {
      "cell_type": "markdown",
      "source": [
        "## Tabla de Contenidos\n",
        "\n",
        "<div class=\"alert alert-block alert-info\" style=\"margin-top: 20px\">\n",
        "\n",
        "<font size = 3>\n",
        "    \n",
        "1. <a href=\"#item31\">Contexto</a>  \n",
        "2. <a href=\"#item32\">Descargar y limpiar el Dataset</a>  \n",
        "3. <a href=\"#item33\">Pre-selección de variables</a>  \n",
        "4. <a href=\"#item34\">Tratamiento de variables categóricas</a>  \n",
        "5. <a href=\"#item34\">Tratamiento de variables numéricas</a>  \n",
        "6. <a href=\"#item34\">Entrenamiento del modelo</a>  \n",
        "\n",
        "</font>\n",
        "</div>"
      ],
      "metadata": {
        "id": "icLdd0FKXoSA"
      }
    },
    {
      "cell_type": "markdown",
      "source": [
        "## 1. Contexto"
      ],
      "metadata": {
        "id": "wXxiLTiBXyw8"
      }
    },
    {
      "cell_type": "markdown",
      "source": [
        "Una institución financiera no bancaria (NBFI) o una compañía financiera no bancaria (NBFC) es una institución financiera que no tiene una licencia bancaria completa o no está supervisada por una agencia reguladora bancaria nacional o internacional. NBFC facilita los servicios financieros relacionados con los bancos, como inversión, agrupación de riesgos, ahorros contractuales y corretaje de mercado.\n",
        "\n",
        "Una NBFI está luchando por marcar ganancias debido a un aumento en los incumplimientos en la categoría de préstamos para vehículos. La empresa tiene como objetivo determinar la capacidad de pago del préstamo del cliente y comprender la importancia relativa de cada parámetro que contribuye a la capacidad del prestatario para pagar el préstamo.\n"
      ],
      "metadata": {
        "id": "KHm-j2aHZoFB"
      }
    },
    {
      "cell_type": "markdown",
      "source": [
        "\n",
        "<b>Meta:</b>\n",
        "\n",
        "El objetivo del problema es predecir si un cliente no cumplirá con el pago del préstamo del vehículo o no."
      ],
      "metadata": {
        "id": "fRuCC45BXxwX"
      }
    },
    {
      "cell_type": "markdown",
      "source": [
        "\n",
        "\n",
        "\n",
        "<img src=\"https://storage.googleapis.com/kaggle-datasets-images/1205706/2014650/7a50061003ce0de9839d54ff4673ccf2/dataset-cover.jpg?t=2021-07-04-09-18-01\" alt=\"HTML5 Icon\" style=\"width: 600px; height: 450px;\">\n",
        "<div style=\"text-align: center\">¿Cómo identificaremos a los clientes morosos? </div>"
      ],
      "metadata": {
        "id": "sYbqHyYAYeW1"
      }
    },
    {
      "cell_type": "markdown",
      "source": [
        "\n",
        "<b>Descripción de datos</b>\n",
        "\n",
        "El data frame de Automovile Loan tiene 121,856 filas y 40 columnas.\n",
        "\n",
        "\n",
        "---\n",
        "\n",
        "Se le proporciona un conjunto de datos anónimos que contiene una gran cantidad de variables. La columna <b>\"Default\"</b> es la variable a predecir. Es igual a uno para clientes que cayeron en mora y 0 para clientes que no.\n",
        "\n",
        "La tarea consiste en predecir la probabilidad de que cada cliente del conjunto de prueba sea un cliente moroso.\n",
        "\n",
        "\n",
        "---\n",
        "\n",
        "\n",
        "<strong>Puede consultar este [link](https://www.kaggle.com/datasets/saurabhbagchi/dish-network-hackathon) para leer más sobre la fuente de datos Automobile Loan Default.</strong>\n"
      ],
      "metadata": {
        "id": "fsKmSeWpZtFC"
      }
    },
    {
      "cell_type": "markdown",
      "source": [
        "## 2. Descargar y limpiar el Dataset"
      ],
      "metadata": {
        "id": "zEUxKVB6D_0w"
      }
    },
    {
      "cell_type": "code",
      "source": [
        "# Importando librerías\n",
        "\n",
        "import pandas as pd\n",
        "import seaborn as sns\n",
        "import numpy as np\n"
      ],
      "metadata": {
        "id": "jNw8bKM9Z6qk"
      },
      "execution_count": null,
      "outputs": []
    },
    {
      "cell_type": "code",
      "source": [
        "pddf = pd.read_csv('Train_Dataset.csv')\n",
        "pddf.head()"
      ],
      "metadata": {
        "colab": {
          "base_uri": "https://localhost:8080/",
          "height": 334
        },
        "id": "O8WajtROaFSh",
        "outputId": "ffe63e74-d250-4127-9f6c-0783802ae478"
      },
      "execution_count": null,
      "outputs": [
        {
          "output_type": "stream",
          "name": "stderr",
          "text": [
            "<ipython-input-7-e4c23cee5900>:1: DtypeWarning: Columns (1,7,8,16,17,18,19,20,35) have mixed types. Specify dtype option on import or set low_memory=False.\n",
            "  pddf = pd.read_csv('Train_Dataset.csv')\n"
          ]
        },
        {
          "output_type": "execute_result",
          "data": {
            "text/plain": [
              "         ID Client_Income  Car_Owned  Bike_Owned  Active_Loan  House_Own  \\\n",
              "0  12142509          6750        0.0         0.0          1.0        0.0   \n",
              "1  12138936         20250        1.0         0.0          1.0        NaN   \n",
              "2  12181264         18000        0.0         0.0          1.0        0.0   \n",
              "3  12188929         15750        0.0         0.0          1.0        1.0   \n",
              "4  12133385         33750        1.0         0.0          1.0        0.0   \n",
              "\n",
              "   Child_Count Credit_Amount Loan_Annuity Accompany_Client  ...  \\\n",
              "0          0.0      61190.55      3416.85            Alone  ...   \n",
              "1          0.0         15282      1826.55            Alone  ...   \n",
              "2          1.0      59527.35       2788.2            Alone  ...   \n",
              "3          0.0       53870.4      2295.45            Alone  ...   \n",
              "4          2.0      133988.4      3547.35            Alone  ...   \n",
              "\n",
              "  Client_Permanent_Match_Tag Client_Contact_Work_Tag       Type_Organization  \\\n",
              "0                        Yes                     Yes           Self-employed   \n",
              "1                        Yes                     Yes              Government   \n",
              "2                        Yes                     Yes           Self-employed   \n",
              "3                        Yes                     Yes                     XNA   \n",
              "4                        Yes                     Yes  Business Entity Type 3   \n",
              "\n",
              "  Score_Source_1 Score_Source_2 Score_Source_3 Social_Circle_Default  \\\n",
              "0       0.568066       0.478787            NaN                0.0186   \n",
              "1       0.563360       0.215068            NaN                   NaN   \n",
              "2            NaN       0.552795       0.329655                0.0742   \n",
              "3            NaN       0.135182       0.631355                   NaN   \n",
              "4       0.508199       0.301182       0.355639                0.2021   \n",
              "\n",
              "  Phone_Change Credit_Bureau Default  \n",
              "0         63.0           NaN       0  \n",
              "1          NaN           NaN       0  \n",
              "2        277.0           0.0       0  \n",
              "3       1700.0           3.0       0  \n",
              "4        674.0           1.0       0  \n",
              "\n",
              "[5 rows x 40 columns]"
            ],
            "text/html": [
              "\n",
              "  <div id=\"df-162c2719-0ae7-4c4a-b2ab-559312dd3062\">\n",
              "    <div class=\"colab-df-container\">\n",
              "      <div>\n",
              "<style scoped>\n",
              "    .dataframe tbody tr th:only-of-type {\n",
              "        vertical-align: middle;\n",
              "    }\n",
              "\n",
              "    .dataframe tbody tr th {\n",
              "        vertical-align: top;\n",
              "    }\n",
              "\n",
              "    .dataframe thead th {\n",
              "        text-align: right;\n",
              "    }\n",
              "</style>\n",
              "<table border=\"1\" class=\"dataframe\">\n",
              "  <thead>\n",
              "    <tr style=\"text-align: right;\">\n",
              "      <th></th>\n",
              "      <th>ID</th>\n",
              "      <th>Client_Income</th>\n",
              "      <th>Car_Owned</th>\n",
              "      <th>Bike_Owned</th>\n",
              "      <th>Active_Loan</th>\n",
              "      <th>House_Own</th>\n",
              "      <th>Child_Count</th>\n",
              "      <th>Credit_Amount</th>\n",
              "      <th>Loan_Annuity</th>\n",
              "      <th>Accompany_Client</th>\n",
              "      <th>...</th>\n",
              "      <th>Client_Permanent_Match_Tag</th>\n",
              "      <th>Client_Contact_Work_Tag</th>\n",
              "      <th>Type_Organization</th>\n",
              "      <th>Score_Source_1</th>\n",
              "      <th>Score_Source_2</th>\n",
              "      <th>Score_Source_3</th>\n",
              "      <th>Social_Circle_Default</th>\n",
              "      <th>Phone_Change</th>\n",
              "      <th>Credit_Bureau</th>\n",
              "      <th>Default</th>\n",
              "    </tr>\n",
              "  </thead>\n",
              "  <tbody>\n",
              "    <tr>\n",
              "      <th>0</th>\n",
              "      <td>12142509</td>\n",
              "      <td>6750</td>\n",
              "      <td>0.0</td>\n",
              "      <td>0.0</td>\n",
              "      <td>1.0</td>\n",
              "      <td>0.0</td>\n",
              "      <td>0.0</td>\n",
              "      <td>61190.55</td>\n",
              "      <td>3416.85</td>\n",
              "      <td>Alone</td>\n",
              "      <td>...</td>\n",
              "      <td>Yes</td>\n",
              "      <td>Yes</td>\n",
              "      <td>Self-employed</td>\n",
              "      <td>0.568066</td>\n",
              "      <td>0.478787</td>\n",
              "      <td>NaN</td>\n",
              "      <td>0.0186</td>\n",
              "      <td>63.0</td>\n",
              "      <td>NaN</td>\n",
              "      <td>0</td>\n",
              "    </tr>\n",
              "    <tr>\n",
              "      <th>1</th>\n",
              "      <td>12138936</td>\n",
              "      <td>20250</td>\n",
              "      <td>1.0</td>\n",
              "      <td>0.0</td>\n",
              "      <td>1.0</td>\n",
              "      <td>NaN</td>\n",
              "      <td>0.0</td>\n",
              "      <td>15282</td>\n",
              "      <td>1826.55</td>\n",
              "      <td>Alone</td>\n",
              "      <td>...</td>\n",
              "      <td>Yes</td>\n",
              "      <td>Yes</td>\n",
              "      <td>Government</td>\n",
              "      <td>0.563360</td>\n",
              "      <td>0.215068</td>\n",
              "      <td>NaN</td>\n",
              "      <td>NaN</td>\n",
              "      <td>NaN</td>\n",
              "      <td>NaN</td>\n",
              "      <td>0</td>\n",
              "    </tr>\n",
              "    <tr>\n",
              "      <th>2</th>\n",
              "      <td>12181264</td>\n",
              "      <td>18000</td>\n",
              "      <td>0.0</td>\n",
              "      <td>0.0</td>\n",
              "      <td>1.0</td>\n",
              "      <td>0.0</td>\n",
              "      <td>1.0</td>\n",
              "      <td>59527.35</td>\n",
              "      <td>2788.2</td>\n",
              "      <td>Alone</td>\n",
              "      <td>...</td>\n",
              "      <td>Yes</td>\n",
              "      <td>Yes</td>\n",
              "      <td>Self-employed</td>\n",
              "      <td>NaN</td>\n",
              "      <td>0.552795</td>\n",
              "      <td>0.329655</td>\n",
              "      <td>0.0742</td>\n",
              "      <td>277.0</td>\n",
              "      <td>0.0</td>\n",
              "      <td>0</td>\n",
              "    </tr>\n",
              "    <tr>\n",
              "      <th>3</th>\n",
              "      <td>12188929</td>\n",
              "      <td>15750</td>\n",
              "      <td>0.0</td>\n",
              "      <td>0.0</td>\n",
              "      <td>1.0</td>\n",
              "      <td>1.0</td>\n",
              "      <td>0.0</td>\n",
              "      <td>53870.4</td>\n",
              "      <td>2295.45</td>\n",
              "      <td>Alone</td>\n",
              "      <td>...</td>\n",
              "      <td>Yes</td>\n",
              "      <td>Yes</td>\n",
              "      <td>XNA</td>\n",
              "      <td>NaN</td>\n",
              "      <td>0.135182</td>\n",
              "      <td>0.631355</td>\n",
              "      <td>NaN</td>\n",
              "      <td>1700.0</td>\n",
              "      <td>3.0</td>\n",
              "      <td>0</td>\n",
              "    </tr>\n",
              "    <tr>\n",
              "      <th>4</th>\n",
              "      <td>12133385</td>\n",
              "      <td>33750</td>\n",
              "      <td>1.0</td>\n",
              "      <td>0.0</td>\n",
              "      <td>1.0</td>\n",
              "      <td>0.0</td>\n",
              "      <td>2.0</td>\n",
              "      <td>133988.4</td>\n",
              "      <td>3547.35</td>\n",
              "      <td>Alone</td>\n",
              "      <td>...</td>\n",
              "      <td>Yes</td>\n",
              "      <td>Yes</td>\n",
              "      <td>Business Entity Type 3</td>\n",
              "      <td>0.508199</td>\n",
              "      <td>0.301182</td>\n",
              "      <td>0.355639</td>\n",
              "      <td>0.2021</td>\n",
              "      <td>674.0</td>\n",
              "      <td>1.0</td>\n",
              "      <td>0</td>\n",
              "    </tr>\n",
              "  </tbody>\n",
              "</table>\n",
              "<p>5 rows × 40 columns</p>\n",
              "</div>\n",
              "      <button class=\"colab-df-convert\" onclick=\"convertToInteractive('df-162c2719-0ae7-4c4a-b2ab-559312dd3062')\"\n",
              "              title=\"Convert this dataframe to an interactive table.\"\n",
              "              style=\"display:none;\">\n",
              "        \n",
              "  <svg xmlns=\"http://www.w3.org/2000/svg\" height=\"24px\"viewBox=\"0 0 24 24\"\n",
              "       width=\"24px\">\n",
              "    <path d=\"M0 0h24v24H0V0z\" fill=\"none\"/>\n",
              "    <path d=\"M18.56 5.44l.94 2.06.94-2.06 2.06-.94-2.06-.94-.94-2.06-.94 2.06-2.06.94zm-11 1L8.5 8.5l.94-2.06 2.06-.94-2.06-.94L8.5 2.5l-.94 2.06-2.06.94zm10 10l.94 2.06.94-2.06 2.06-.94-2.06-.94-.94-2.06-.94 2.06-2.06.94z\"/><path d=\"M17.41 7.96l-1.37-1.37c-.4-.4-.92-.59-1.43-.59-.52 0-1.04.2-1.43.59L10.3 9.45l-7.72 7.72c-.78.78-.78 2.05 0 2.83L4 21.41c.39.39.9.59 1.41.59.51 0 1.02-.2 1.41-.59l7.78-7.78 2.81-2.81c.8-.78.8-2.07 0-2.86zM5.41 20L4 18.59l7.72-7.72 1.47 1.35L5.41 20z\"/>\n",
              "  </svg>\n",
              "      </button>\n",
              "      \n",
              "  <style>\n",
              "    .colab-df-container {\n",
              "      display:flex;\n",
              "      flex-wrap:wrap;\n",
              "      gap: 12px;\n",
              "    }\n",
              "\n",
              "    .colab-df-convert {\n",
              "      background-color: #E8F0FE;\n",
              "      border: none;\n",
              "      border-radius: 50%;\n",
              "      cursor: pointer;\n",
              "      display: none;\n",
              "      fill: #1967D2;\n",
              "      height: 32px;\n",
              "      padding: 0 0 0 0;\n",
              "      width: 32px;\n",
              "    }\n",
              "\n",
              "    .colab-df-convert:hover {\n",
              "      background-color: #E2EBFA;\n",
              "      box-shadow: 0px 1px 2px rgba(60, 64, 67, 0.3), 0px 1px 3px 1px rgba(60, 64, 67, 0.15);\n",
              "      fill: #174EA6;\n",
              "    }\n",
              "\n",
              "    [theme=dark] .colab-df-convert {\n",
              "      background-color: #3B4455;\n",
              "      fill: #D2E3FC;\n",
              "    }\n",
              "\n",
              "    [theme=dark] .colab-df-convert:hover {\n",
              "      background-color: #434B5C;\n",
              "      box-shadow: 0px 1px 3px 1px rgba(0, 0, 0, 0.15);\n",
              "      filter: drop-shadow(0px 1px 2px rgba(0, 0, 0, 0.3));\n",
              "      fill: #FFFFFF;\n",
              "    }\n",
              "  </style>\n",
              "\n",
              "      <script>\n",
              "        const buttonEl =\n",
              "          document.querySelector('#df-162c2719-0ae7-4c4a-b2ab-559312dd3062 button.colab-df-convert');\n",
              "        buttonEl.style.display =\n",
              "          google.colab.kernel.accessAllowed ? 'block' : 'none';\n",
              "\n",
              "        async function convertToInteractive(key) {\n",
              "          const element = document.querySelector('#df-162c2719-0ae7-4c4a-b2ab-559312dd3062');\n",
              "          const dataTable =\n",
              "            await google.colab.kernel.invokeFunction('convertToInteractive',\n",
              "                                                     [key], {});\n",
              "          if (!dataTable) return;\n",
              "\n",
              "          const docLinkHtml = 'Like what you see? Visit the ' +\n",
              "            '<a target=\"_blank\" href=https://colab.research.google.com/notebooks/data_table.ipynb>data table notebook</a>'\n",
              "            + ' to learn more about interactive tables.';\n",
              "          element.innerHTML = '';\n",
              "          dataTable['output_type'] = 'display_data';\n",
              "          await google.colab.output.renderOutput(dataTable, element);\n",
              "          const docLink = document.createElement('div');\n",
              "          docLink.innerHTML = docLinkHtml;\n",
              "          element.appendChild(docLink);\n",
              "        }\n",
              "      </script>\n",
              "    </div>\n",
              "  </div>\n",
              "  "
            ]
          },
          "metadata": {},
          "execution_count": 7
        }
      ]
    },
    {
      "cell_type": "code",
      "source": [
        "pddf.replace({'@': None,\n",
        "              '#': None,\n",
        "              '##': None,\n",
        "              '&': None,\n",
        "              'x': None,\n",
        "              '$': None,\n",
        "              'XNA' : None,\n",
        "              '#VALUE!': None}, inplace = True)"
      ],
      "metadata": {
        "id": "QTxaSJhPiKfV"
      },
      "execution_count": null,
      "outputs": []
    },
    {
      "cell_type": "code",
      "source": [
        "categorical_features = ['Accompany_Client', 'Client_Income_Type',\n",
        "                        'Client_Education', 'Client_Marital_Status',\n",
        "                        'Client_Gender', 'Loan_Contract_Type', 'Client_Housing_Type',\n",
        "                        'Client_Occupation', 'Client_Permanent_Match_Tag',\n",
        "                        'Client_Contact_Work_Tag', 'Type_Organization',\n",
        "                        'Car_Owned',\n",
        "                        'Bike_Owned',\n",
        "                        'Active_Loan',\n",
        "                        'House_Own',\n",
        "                        'Mobile_Tag',\n",
        "                        'Homephone_Tag',\n",
        "                        'Workphone_Working']\n",
        "\n",
        "numerical_features = list(set(pddf.columns.tolist()) - set(categorical_features + ['ID_Days', 'ID', 'Default']))\n"
      ],
      "metadata": {
        "id": "0ewOLwA8iO5T"
      },
      "execution_count": null,
      "outputs": []
    },
    {
      "cell_type": "code",
      "source": [
        "# convert Series\n",
        "for col in numerical_features:\n",
        "  pddf[col] = pd.to_numeric(pddf[col])\n"
      ],
      "metadata": {
        "id": "JYMg5W3cjx2Q"
      },
      "execution_count": null,
      "outputs": []
    },
    {
      "cell_type": "code",
      "source": [
        "#pddf[categorical_features].replace({1.0: '1', 0.0: '0'}, inplace = True)\n",
        "\n",
        "pddf[categorical_features] = pddf[categorical_features].replace(1.0, '1')\n",
        "pddf[categorical_features] = pddf[categorical_features].replace(0.0, '0')\n"
      ],
      "metadata": {
        "id": "YY-ON7Jq1L3A"
      },
      "execution_count": null,
      "outputs": []
    },
    {
      "cell_type": "code",
      "source": [
        "# convert Series\n",
        "pddf[categorical_features] = pddf[categorical_features].astype('object')"
      ],
      "metadata": {
        "id": "Hq9fzmyUwTjt"
      },
      "execution_count": null,
      "outputs": []
    },
    {
      "cell_type": "markdown",
      "source": [
        "### Análisis inicial"
      ],
      "metadata": {
        "id": "kz4dQ_zsaV_7"
      }
    },
    {
      "cell_type": "code",
      "source": [
        "# Analizando el target\n",
        "sns.countplot(x='Default', data = pddf, palette = 'hls')"
      ],
      "metadata": {
        "colab": {
          "base_uri": "https://localhost:8080/",
          "height": 466
        },
        "id": "1C5zlW7AaZCW",
        "outputId": "260db505-c61f-4dd0-8a9b-bca3e3baccd0"
      },
      "execution_count": null,
      "outputs": [
        {
          "output_type": "execute_result",
          "data": {
            "text/plain": [
              "<Axes: xlabel='Default', ylabel='count'>"
            ]
          },
          "metadata": {},
          "execution_count": 13
        },
        {
          "output_type": "display_data",
          "data": {
            "text/plain": [
              "<Figure size 640x480 with 1 Axes>"
            ],
            "image/png": "[encoded data removed]"
          },
          "metadata": {}
        }
      ]
    },
    {
      "cell_type": "code",
      "source": [
        "pddf.Default.mean()"
      ],
      "metadata": {
        "colab": {
          "base_uri": "https://localhost:8080/"
        },
        "id": "Y0-YdsXCbXu8",
        "outputId": "58500874-caf4-481c-f48e-a1bf7e6e8c7d"
      },
      "execution_count": null,
      "outputs": [
        {
          "output_type": "execute_result",
          "data": {
            "text/plain": [
              "0.0807920824579832"
            ]
          },
          "metadata": {},
          "execution_count": 14
        }
      ]
    },
    {
      "cell_type": "code",
      "source": [
        "#Exploración de variables categóricas\n",
        "pddf.groupby('House_Own').agg({'Default': 'mean'})"
      ],
      "metadata": {
        "colab": {
          "base_uri": "https://localhost:8080/",
          "height": 143
        },
        "id": "qWzyzlsnd7ib",
        "outputId": "3fbb833e-e7a9-4011-f9f5-cef8355c7ad0"
      },
      "execution_count": null,
      "outputs": [
        {
          "output_type": "execute_result",
          "data": {
            "text/plain": [
              "            Default\n",
              "House_Own          \n",
              "0          0.081051\n",
              "1          0.080454"
            ],
            "text/html": [
              "\n",
              "  <div id=\"df-929f116d-dd21-4ea4-a4b5-7cfc40eb6a32\">\n",
              "    <div class=\"colab-df-container\">\n",
              "      <div>\n",
              "<style scoped>\n",
              "    .dataframe tbody tr th:only-of-type {\n",
              "        vertical-align: middle;\n",
              "    }\n",
              "\n",
              "    .dataframe tbody tr th {\n",
              "        vertical-align: top;\n",
              "    }\n",
              "\n",
              "    .dataframe thead th {\n",
              "        text-align: right;\n",
              "    }\n",
              "</style>\n",
              "<table border=\"1\" class=\"dataframe\">\n",
              "  <thead>\n",
              "    <tr style=\"text-align: right;\">\n",
              "      <th></th>\n",
              "      <th>Default</th>\n",
              "    </tr>\n",
              "    <tr>\n",
              "      <th>House_Own</th>\n",
              "      <th></th>\n",
              "    </tr>\n",
              "  </thead>\n",
              "  <tbody>\n",
              "    <tr>\n",
              "      <th>0</th>\n",
              "      <td>0.081051</td>\n",
              "    </tr>\n",
              "    <tr>\n",
              "      <th>1</th>\n",
              "      <td>0.080454</td>\n",
              "    </tr>\n",
              "  </tbody>\n",
              "</table>\n",
              "</div>\n",
              "      <button class=\"colab-df-convert\" onclick=\"convertToInteractive('df-929f116d-dd21-4ea4-a4b5-7cfc40eb6a32')\"\n",
              "              title=\"Convert this dataframe to an interactive table.\"\n",
              "              style=\"display:none;\">\n",
              "        \n",
              "  <svg xmlns=\"http://www.w3.org/2000/svg\" height=\"24px\"viewBox=\"0 0 24 24\"\n",
              "       width=\"24px\">\n",
              "    <path d=\"M0 0h24v24H0V0z\" fill=\"none\"/>\n",
              "    <path d=\"M18.56 5.44l.94 2.06.94-2.06 2.06-.94-2.06-.94-.94-2.06-.94 2.06-2.06.94zm-11 1L8.5 8.5l.94-2.06 2.06-.94-2.06-.94L8.5 2.5l-.94 2.06-2.06.94zm10 10l.94 2.06.94-2.06 2.06-.94-2.06-.94-.94-2.06-.94 2.06-2.06.94z\"/><path d=\"M17.41 7.96l-1.37-1.37c-.4-.4-.92-.59-1.43-.59-.52 0-1.04.2-1.43.59L10.3 9.45l-7.72 7.72c-.78.78-.78 2.05 0 2.83L4 21.41c.39.39.9.59 1.41.59.51 0 1.02-.2 1.41-.59l7.78-7.78 2.81-2.81c.8-.78.8-2.07 0-2.86zM5.41 20L4 18.59l7.72-7.72 1.47 1.35L5.41 20z\"/>\n",
              "  </svg>\n",
              "      </button>\n",
              "      \n",
              "  <style>\n",
              "    .colab-df-container {\n",
              "      display:flex;\n",
              "      flex-wrap:wrap;\n",
              "      gap: 12px;\n",
              "    }\n",
              "\n",
              "    .colab-df-convert {\n",
              "      background-color: #E8F0FE;\n",
              "      border: none;\n",
              "      border-radius: 50%;\n",
              "      cursor: pointer;\n",
              "      display: none;\n",
              "      fill: #1967D2;\n",
              "      height: 32px;\n",
              "      padding: 0 0 0 0;\n",
              "      width: 32px;\n",
              "    }\n",
              "\n",
              "    .colab-df-convert:hover {\n",
              "      background-color: #E2EBFA;\n",
              "      box-shadow: 0px 1px 2px rgba(60, 64, 67, 0.3), 0px 1px 3px 1px rgba(60, 64, 67, 0.15);\n",
              "      fill: #174EA6;\n",
              "    }\n",
              "\n",
              "    [theme=dark] .colab-df-convert {\n",
              "      background-color: #3B4455;\n",
              "      fill: #D2E3FC;\n",
              "    }\n",
              "\n",
              "    [theme=dark] .colab-df-convert:hover {\n",
              "      background-color: #434B5C;\n",
              "      box-shadow: 0px 1px 3px 1px rgba(0, 0, 0, 0.15);\n",
              "      filter: drop-shadow(0px 1px 2px rgba(0, 0, 0, 0.3));\n",
              "      fill: #FFFFFF;\n",
              "    }\n",
              "  </style>\n",
              "\n",
              "      <script>\n",
              "        const buttonEl =\n",
              "          document.querySelector('#df-929f116d-dd21-4ea4-a4b5-7cfc40eb6a32 button.colab-df-convert');\n",
              "        buttonEl.style.display =\n",
              "          google.colab.kernel.accessAllowed ? 'block' : 'none';\n",
              "\n",
              "        async function convertToInteractive(key) {\n",
              "          const element = document.querySelector('#df-929f116d-dd21-4ea4-a4b5-7cfc40eb6a32');\n",
              "          const dataTable =\n",
              "            await google.colab.kernel.invokeFunction('convertToInteractive',\n",
              "                                                     [key], {});\n",
              "          if (!dataTable) return;\n",
              "\n",
              "          const docLinkHtml = 'Like what you see? Visit the ' +\n",
              "            '<a target=\"_blank\" href=https://colab.research.google.com/notebooks/data_table.ipynb>data table notebook</a>'\n",
              "            + ' to learn more about interactive tables.';\n",
              "          element.innerHTML = '';\n",
              "          dataTable['output_type'] = 'display_data';\n",
              "          await google.colab.output.renderOutput(dataTable, element);\n",
              "          const docLink = document.createElement('div');\n",
              "          docLink.innerHTML = docLinkHtml;\n",
              "          element.appendChild(docLink);\n",
              "        }\n",
              "      </script>\n",
              "    </div>\n",
              "  </div>\n",
              "  "
            ]
          },
          "metadata": {},
          "execution_count": 15
        }
      ]
    },
    {
      "cell_type": "code",
      "source": [
        "#Exploración de variables numéricas\n",
        "#sns.regplot(data = pddf, x = 'Client_Income', y = 'Default', fit_reg = False)"
      ],
      "metadata": {
        "id": "ykUgGTdtg3V9"
      },
      "execution_count": null,
      "outputs": []
    },
    {
      "cell_type": "markdown",
      "source": [
        "## 3. Muestreo"
      ],
      "metadata": {
        "id": "RyR4qn1Jn1SK"
      }
    },
    {
      "cell_type": "code",
      "source": [
        "# Muestreo\n",
        "from sklearn.model_selection import train_test_split\n",
        "\n",
        "train, test = train_test_split(pddf,\n",
        "                               stratify = pddf['Default'],\n",
        "                               train_size = 0.7,\n",
        "                               random_state = 123)\n"
      ],
      "metadata": {
        "id": "TgzPaCkcn4J0"
      },
      "execution_count": null,
      "outputs": []
    },
    {
      "cell_type": "markdown",
      "source": [
        "## 4. Tratamiento de variables"
      ],
      "metadata": {
        "id": "XRZIyatAknUh"
      }
    },
    {
      "cell_type": "code",
      "source": [
        "train['Accompany_Client'].value_counts()"
      ],
      "metadata": {
        "colab": {
          "base_uri": "https://localhost:8080/"
        },
        "id": "OM0zmXv3qJpf",
        "outputId": "5493cb73-c3ae-4c73-ca1f-b147c43bae2c"
      },
      "execution_count": null,
      "outputs": [
        {
          "output_type": "execute_result",
          "data": {
            "text/plain": [
              "Alone       68362\n",
              "Relative    10857\n",
              "Partner      3172\n",
              "Kids          954\n",
              "Others        669\n",
              "Group          74\n",
              "Name: Accompany_Client, dtype: int64"
            ]
          },
          "metadata": {},
          "execution_count": 18
        }
      ]
    },
    {
      "cell_type": "code",
      "source": [
        "train['Accompany_Client'].drop_duplicates()"
      ],
      "metadata": {
        "colab": {
          "base_uri": "https://localhost:8080/"
        },
        "id": "SOabo0mWrFSy",
        "outputId": "0458a01b-72dd-4b89-e09c-f480a824e11d"
      },
      "execution_count": null,
      "outputs": [
        {
          "output_type": "execute_result",
          "data": {
            "text/plain": [
              "66289        Alone\n",
              "109009    Relative\n",
              "52595         Kids\n",
              "53550      Partner\n",
              "72805          NaN\n",
              "113076      Others\n",
              "58543        Group\n",
              "32663         None\n",
              "Name: Accompany_Client, dtype: object"
            ]
          },
          "metadata": {},
          "execution_count": 19
        }
      ]
    },
    {
      "cell_type": "markdown",
      "source": [
        "### Tratamiento de variables categóricas"
      ],
      "metadata": {
        "id": "lI_XyKZRksuU"
      }
    },
    {
      "cell_type": "code",
      "source": [
        "#tratamiento de missings\n",
        "train[categorical_features].fillna('missing', inplace = True)\n",
        "test[categorical_features].fillna('missing', inplace = True)"
      ],
      "metadata": {
        "colab": {
          "base_uri": "https://localhost:8080/"
        },
        "id": "NQv6ZuRXksF3",
        "outputId": "5650f407-474a-45eb-a567-504abcd72570"
      },
      "execution_count": null,
      "outputs": [
        {
          "output_type": "stream",
          "name": "stderr",
          "text": [
            "<ipython-input-20-63e733a6a00b>:2: SettingWithCopyWarning: \n",
            "A value is trying to be set on a copy of a slice from a DataFrame\n",
            "\n",
            "See the caveats in the documentation: https://pandas.pydata.org/pandas-docs/stable/user_guide/indexing.html#returning-a-view-versus-a-copy\n",
            "  train[categorical_features].fillna('missing', inplace = True)\n",
            "<ipython-input-20-63e733a6a00b>:3: SettingWithCopyWarning: \n",
            "A value is trying to be set on a copy of a slice from a DataFrame\n",
            "\n",
            "See the caveats in the documentation: https://pandas.pydata.org/pandas-docs/stable/user_guide/indexing.html#returning-a-view-versus-a-copy\n",
            "  test[categorical_features].fillna('missing', inplace = True)\n"
          ]
        }
      ]
    },
    {
      "cell_type": "code",
      "source": [
        "train[categorical_features] = train[categorical_features].replace(np.nan, 'missing')\n",
        "test[categorical_features] = test[categorical_features].replace(np.nan, 'missing')"
      ],
      "metadata": {
        "id": "pg8ZqcmPlwNY"
      },
      "execution_count": null,
      "outputs": []
    },
    {
      "cell_type": "code",
      "source": [
        "train[categorical_features] = train[categorical_features].astype('category')\n",
        "test[categorical_features] = test[categorical_features].astype('category')"
      ],
      "metadata": {
        "id": "Q2wAMFFuy0A2"
      },
      "execution_count": null,
      "outputs": []
    },
    {
      "cell_type": "code",
      "source": [
        "train['Accompany_Client'].drop_duplicates()"
      ],
      "metadata": {
        "colab": {
          "base_uri": "https://localhost:8080/"
        },
        "id": "NmvH8XPDr_60",
        "outputId": "daa22c7b-4bc0-4916-b6db-ac548f3766b4"
      },
      "execution_count": null,
      "outputs": [
        {
          "output_type": "execute_result",
          "data": {
            "text/plain": [
              "66289        Alone\n",
              "109009    Relative\n",
              "52595         Kids\n",
              "53550      Partner\n",
              "72805      missing\n",
              "113076      Others\n",
              "58543        Group\n",
              "Name: Accompany_Client, dtype: category\n",
              "Categories (7, object): ['Alone', 'Group', 'Kids', 'Others', 'Partner', 'Relative', 'missing']"
            ]
          },
          "metadata": {},
          "execution_count": 23
        }
      ]
    },
    {
      "cell_type": "markdown",
      "source": [
        "\n",
        "---\n",
        "\n",
        "<h3>Label Encoding</h3>\n",
        "\n",
        "El label encoding consiste en asignar un número (por lo general entero) a cada una de las categorías de la variable categórica.\n",
        "\n",
        "<img src=\"https://miro.medium.com/max/772/1*QQe-4476Oy3_dI1vhb3dDg.png\" alt=\"HTML5 Icon\" style=\"width: 1600px; height: 1250px;\">\n",
        "\n",
        "\n"
      ],
      "metadata": {
        "id": "_uFPZ1vek3dd"
      }
    },
    {
      "cell_type": "markdown",
      "source": [
        "\n",
        "---\n",
        "\n",
        "<h3>One Hot Encoding</h3>\n",
        "\n",
        "El One hot encoding es un proceso que consiste en dummizar cada catgoría de la variable en una nueva variable, de esta manera las nuevas variables se activarán dependiendo del valor que tome la variable original.\n",
        "\n",
        "<img src=\"https://encrypted-tbn0.gstatic.com/images?q=tbn:ANd9GcTr11qA6j0WCbEYrfNoQ7QO_NpMIZus42BJwQ&usqp=CAU\" alt=\"HTML5 Icon\" style=\"width: 1600px; height: 1250px;\">\n",
        "\n",
        "---\n",
        "\n",
        "<div style=\"text-align: center\">Ejemplo de one hot Encoding </div>\n"
      ],
      "metadata": {
        "id": "Ljy_1Hvsl8Jl"
      }
    },
    {
      "cell_type": "code",
      "source": [
        "train.Loan_Contract_Type.drop_duplicates()"
      ],
      "metadata": {
        "colab": {
          "base_uri": "https://localhost:8080/"
        },
        "id": "QmOH_OEfu526",
        "outputId": "a605f043-8fc3-4ef6-b34a-b3243a77268f"
      },
      "execution_count": null,
      "outputs": [
        {
          "output_type": "execute_result",
          "data": {
            "text/plain": [
              "66289         CL\n",
              "13964    missing\n",
              "62213         RL\n",
              "Name: Loan_Contract_Type, dtype: category\n",
              "Categories (3, object): ['CL', 'RL', 'missing']"
            ]
          },
          "metadata": {},
          "execution_count": 24
        }
      ]
    },
    {
      "cell_type": "code",
      "source": [
        "train['Loan_Contract_Type'].head(10)\n",
        "\n",
        "train['dummy_CL'] = train.Loan_Contract_Type.apply(lambda x: 1 if x == 'CL' else 0)\n",
        "train['dummy_RL'] = train.Loan_Contract_Type.apply(lambda x: 1 if x == 'RL' else 0)\n",
        "train['dummy_missing'] = train.Loan_Contract_Type.apply(lambda x: 1 if x == 'missing' else 0)\n",
        "\n",
        "train[['Loan_Contract_Type', 'dummy_CL', 'dummy_RL', 'dummy_missing']].drop_duplicates().head(20)\n"
      ],
      "metadata": {
        "colab": {
          "base_uri": "https://localhost:8080/",
          "height": 143
        },
        "id": "pXZFxnZ2l7yp",
        "outputId": "10ef4ac0-e1c7-4006-fc1f-51b02972708a"
      },
      "execution_count": null,
      "outputs": [
        {
          "output_type": "execute_result",
          "data": {
            "text/plain": [
              "      Loan_Contract_Type  dummy_CL  dummy_RL  dummy_missing\n",
              "66289                 CL         1         0              0\n",
              "13964            missing         0         0              1\n",
              "62213                 RL         0         1              0"
            ],
            "text/html": [
              "\n",
              "  <div id=\"df-2892935a-263f-4143-8d40-1f3d18cf0ece\">\n",
              "    <div class=\"colab-df-container\">\n",
              "      <div>\n",
              "<style scoped>\n",
              "    .dataframe tbody tr th:only-of-type {\n",
              "        vertical-align: middle;\n",
              "    }\n",
              "\n",
              "    .dataframe tbody tr th {\n",
              "        vertical-align: top;\n",
              "    }\n",
              "\n",
              "    .dataframe thead th {\n",
              "        text-align: right;\n",
              "    }\n",
              "</style>\n",
              "<table border=\"1\" class=\"dataframe\">\n",
              "  <thead>\n",
              "    <tr style=\"text-align: right;\">\n",
              "      <th></th>\n",
              "      <th>Loan_Contract_Type</th>\n",
              "      <th>dummy_CL</th>\n",
              "      <th>dummy_RL</th>\n",
              "      <th>dummy_missing</th>\n",
              "    </tr>\n",
              "  </thead>\n",
              "  <tbody>\n",
              "    <tr>\n",
              "      <th>66289</th>\n",
              "      <td>CL</td>\n",
              "      <td>1</td>\n",
              "      <td>0</td>\n",
              "      <td>0</td>\n",
              "    </tr>\n",
              "    <tr>\n",
              "      <th>13964</th>\n",
              "      <td>missing</td>\n",
              "      <td>0</td>\n",
              "      <td>0</td>\n",
              "      <td>1</td>\n",
              "    </tr>\n",
              "    <tr>\n",
              "      <th>62213</th>\n",
              "      <td>RL</td>\n",
              "      <td>0</td>\n",
              "      <td>1</td>\n",
              "      <td>0</td>\n",
              "    </tr>\n",
              "  </tbody>\n",
              "</table>\n",
              "</div>\n",
              "      <button class=\"colab-df-convert\" onclick=\"convertToInteractive('df-2892935a-263f-4143-8d40-1f3d18cf0ece')\"\n",
              "              title=\"Convert this dataframe to an interactive table.\"\n",
              "              style=\"display:none;\">\n",
              "        \n",
              "  <svg xmlns=\"http://www.w3.org/2000/svg\" height=\"24px\"viewBox=\"0 0 24 24\"\n",
              "       width=\"24px\">\n",
              "    <path d=\"M0 0h24v24H0V0z\" fill=\"none\"/>\n",
              "    <path d=\"M18.56 5.44l.94 2.06.94-2.06 2.06-.94-2.06-.94-.94-2.06-.94 2.06-2.06.94zm-11 1L8.5 8.5l.94-2.06 2.06-.94-2.06-.94L8.5 2.5l-.94 2.06-2.06.94zm10 10l.94 2.06.94-2.06 2.06-.94-2.06-.94-.94-2.06-.94 2.06-2.06.94z\"/><path d=\"M17.41 7.96l-1.37-1.37c-.4-.4-.92-.59-1.43-.59-.52 0-1.04.2-1.43.59L10.3 9.45l-7.72 7.72c-.78.78-.78 2.05 0 2.83L4 21.41c.39.39.9.59 1.41.59.51 0 1.02-.2 1.41-.59l7.78-7.78 2.81-2.81c.8-.78.8-2.07 0-2.86zM5.41 20L4 18.59l7.72-7.72 1.47 1.35L5.41 20z\"/>\n",
              "  </svg>\n",
              "      </button>\n",
              "      \n",
              "  <style>\n",
              "    .colab-df-container {\n",
              "      display:flex;\n",
              "      flex-wrap:wrap;\n",
              "      gap: 12px;\n",
              "    }\n",
              "\n",
              "    .colab-df-convert {\n",
              "      background-color: #E8F0FE;\n",
              "      border: none;\n",
              "      border-radius: 50%;\n",
              "      cursor: pointer;\n",
              "      display: none;\n",
              "      fill: #1967D2;\n",
              "      height: 32px;\n",
              "      padding: 0 0 0 0;\n",
              "      width: 32px;\n",
              "    }\n",
              "\n",
              "    .colab-df-convert:hover {\n",
              "      background-color: #E2EBFA;\n",
              "      box-shadow: 0px 1px 2px rgba(60, 64, 67, 0.3), 0px 1px 3px 1px rgba(60, 64, 67, 0.15);\n",
              "      fill: #174EA6;\n",
              "    }\n",
              "\n",
              "    [theme=dark] .colab-df-convert {\n",
              "      background-color: #3B4455;\n",
              "      fill: #D2E3FC;\n",
              "    }\n",
              "\n",
              "    [theme=dark] .colab-df-convert:hover {\n",
              "      background-color: #434B5C;\n",
              "      box-shadow: 0px 1px 3px 1px rgba(0, 0, 0, 0.15);\n",
              "      filter: drop-shadow(0px 1px 2px rgba(0, 0, 0, 0.3));\n",
              "      fill: #FFFFFF;\n",
              "    }\n",
              "  </style>\n",
              "\n",
              "      <script>\n",
              "        const buttonEl =\n",
              "          document.querySelector('#df-2892935a-263f-4143-8d40-1f3d18cf0ece button.colab-df-convert');\n",
              "        buttonEl.style.display =\n",
              "          google.colab.kernel.accessAllowed ? 'block' : 'none';\n",
              "\n",
              "        async function convertToInteractive(key) {\n",
              "          const element = document.querySelector('#df-2892935a-263f-4143-8d40-1f3d18cf0ece');\n",
              "          const dataTable =\n",
              "            await google.colab.kernel.invokeFunction('convertToInteractive',\n",
              "                                                     [key], {});\n",
              "          if (!dataTable) return;\n",
              "\n",
              "          const docLinkHtml = 'Like what you see? Visit the ' +\n",
              "            '<a target=\"_blank\" href=https://colab.research.google.com/notebooks/data_table.ipynb>data table notebook</a>'\n",
              "            + ' to learn more about interactive tables.';\n",
              "          element.innerHTML = '';\n",
              "          dataTable['output_type'] = 'display_data';\n",
              "          await google.colab.output.renderOutput(dataTable, element);\n",
              "          const docLink = document.createElement('div');\n",
              "          docLink.innerHTML = docLinkHtml;\n",
              "          element.appendChild(docLink);\n",
              "        }\n",
              "      </script>\n",
              "    </div>\n",
              "  </div>\n",
              "  "
            ]
          },
          "metadata": {},
          "execution_count": 25
        }
      ]
    },
    {
      "cell_type": "code",
      "source": [
        "from sklearn.preprocessing import OneHotEncoder\n",
        "encoder = OneHotEncoder(sparse_output = True,\n",
        "                        handle_unknown = 'infrequent_if_exist')\n",
        "\n",
        "encoder.fit(train[categorical_features])"
      ],
      "metadata": {
        "colab": {
          "base_uri": "https://localhost:8080/",
          "height": 75
        },
        "id": "HUo3uCliv1u3",
        "outputId": "08aad10b-c122-47b0-b761-1fedf36ecc41"
      },
      "execution_count": null,
      "outputs": [
        {
          "output_type": "execute_result",
          "data": {
            "text/plain": [
              "OneHotEncoder(handle_unknown='infrequent_if_exist')"
            ],
            "text/html": [
              "<style>#sk-container-id-1 {color: black;background-color: white;}#sk-container-id-1 pre{padding: 0;}#sk-container-id-1 div.sk-toggleable {background-color: white;}#sk-container-id-1 label.sk-toggleable__label {cursor: pointer;display: block;width: 100%;margin-bottom: 0;padding: 0.3em;box-sizing: border-box;text-align: center;}#sk-container-id-1 label.sk-toggleable__label-arrow:before {content: \"▸\";float: left;margin-right: 0.25em;color: #696969;}#sk-container-id-1 label.sk-toggleable__label-arrow:hover:before {color: black;}#sk-container-id-1 div.sk-estimator:hover label.sk-toggleable__label-arrow:before {color: black;}#sk-container-id-1 div.sk-toggleable__content {max-height: 0;max-width: 0;overflow: hidden;text-align: left;background-color: #f0f8ff;}#sk-container-id-1 div.sk-toggleable__content pre {margin: 0.2em;color: black;border-radius: 0.25em;background-color: #f0f8ff;}#sk-container-id-1 input.sk-toggleable__control:checked~div.sk-toggleable__content {max-height: 200px;max-width: 100%;overflow: auto;}#sk-container-id-1 input.sk-toggleable__control:checked~label.sk-toggleable__label-arrow:before {content: \"▾\";}#sk-container-id-1 div.sk-estimator input.sk-toggleable__control:checked~label.sk-toggleable__label {background-color: #d4ebff;}#sk-container-id-1 div.sk-label input.sk-toggleable__control:checked~label.sk-toggleable__label {background-color: #d4ebff;}#sk-container-id-1 input.sk-hidden--visually {border: 0;clip: rect(1px 1px 1px 1px);clip: rect(1px, 1px, 1px, 1px);height: 1px;margin: -1px;overflow: hidden;padding: 0;position: absolute;width: 1px;}#sk-container-id-1 div.sk-estimator {font-family: monospace;background-color: #f0f8ff;border: 1px dotted black;border-radius: 0.25em;box-sizing: border-box;margin-bottom: 0.5em;}#sk-container-id-1 div.sk-estimator:hover {background-color: #d4ebff;}#sk-container-id-1 div.sk-parallel-item::after {content: \"\";width: 100%;border-bottom: 1px solid gray;flex-grow: 1;}#sk-container-id-1 div.sk-label:hover label.sk-toggleable__label {background-color: #d4ebff;}#sk-container-id-1 div.sk-serial::before {content: \"\";position: absolute;border-left: 1px solid gray;box-sizing: border-box;top: 0;bottom: 0;left: 50%;z-index: 0;}#sk-container-id-1 div.sk-serial {display: flex;flex-direction: column;align-items: center;background-color: white;padding-right: 0.2em;padding-left: 0.2em;position: relative;}#sk-container-id-1 div.sk-item {position: relative;z-index: 1;}#sk-container-id-1 div.sk-parallel {display: flex;align-items: stretch;justify-content: center;background-color: white;position: relative;}#sk-container-id-1 div.sk-item::before, #sk-container-id-1 div.sk-parallel-item::before {content: \"\";position: absolute;border-left: 1px solid gray;box-sizing: border-box;top: 0;bottom: 0;left: 50%;z-index: -1;}#sk-container-id-1 div.sk-parallel-item {display: flex;flex-direction: column;z-index: 1;position: relative;background-color: white;}#sk-container-id-1 div.sk-parallel-item:first-child::after {align-self: flex-end;width: 50%;}#sk-container-id-1 div.sk-parallel-item:last-child::after {align-self: flex-start;width: 50%;}#sk-container-id-1 div.sk-parallel-item:only-child::after {width: 0;}#sk-container-id-1 div.sk-dashed-wrapped {border: 1px dashed gray;margin: 0 0.4em 0.5em 0.4em;box-sizing: border-box;padding-bottom: 0.4em;background-color: white;}#sk-container-id-1 div.sk-label label {font-family: monospace;font-weight: bold;display: inline-block;line-height: 1.2em;}#sk-container-id-1 div.sk-label-container {text-align: center;}#sk-container-id-1 div.sk-container {/* jupyter's `normalize.less` sets `[hidden] { display: none; }` but bootstrap.min.css set `[hidden] { display: none !important; }` so we also need the `!important` here to be able to override the default hidden behavior on the sphinx rendered scikit-learn.org. See: https://github.com/scikit-learn/scikit-learn/issues/21755 */display: inline-block !important;position: relative;}#sk-container-id-1 div.sk-text-repr-fallback {display: none;}</style><div id=\"sk-container-id-1\" class=\"sk-top-container\"><div class=\"sk-text-repr-fallback\"><pre>OneHotEncoder(handle_unknown=&#x27;infrequent_if_exist&#x27;)</pre><b>In a Jupyter environment, please rerun this cell to show the HTML representation or trust the notebook. <br />On GitHub, the HTML representation is unable to render, please try loading this page with nbviewer.org.</b></div><div class=\"sk-container\" hidden><div class=\"sk-item\"><div class=\"sk-estimator sk-toggleable\"><input class=\"sk-toggleable__control sk-hidden--visually\" id=\"sk-estimator-id-1\" type=\"checkbox\" checked><label for=\"sk-estimator-id-1\" class=\"sk-toggleable__label sk-toggleable__label-arrow\">OneHotEncoder</label><div class=\"sk-toggleable__content\"><pre>OneHotEncoder(handle_unknown=&#x27;infrequent_if_exist&#x27;)</pre></div></div></div></div></div>"
            ]
          },
          "metadata": {},
          "execution_count": 26
        }
      ]
    },
    {
      "cell_type": "code",
      "source": [
        "train[encoder.get_feature_names_out(categorical_features)] = encoder.transform(train[categorical_features]).toarray()\n",
        "test[encoder.get_feature_names_out(categorical_features)] = encoder.transform(test[categorical_features]).toarray()"
      ],
      "metadata": {
        "colab": {
          "base_uri": "https://localhost:8080/"
        },
        "id": "RH9uOPkb4aDS",
        "outputId": "882aa7f2-7682-41da-83f7-cfa2f611e0b7"
      },
      "execution_count": null,
      "outputs": [
        {
          "output_type": "stream",
          "name": "stderr",
          "text": [
            "<ipython-input-27-8d21445f3b5e>:1: PerformanceWarning: DataFrame is highly fragmented.  This is usually the result of calling `frame.insert` many times, which has poor performance.  Consider joining all columns at once using pd.concat(axis=1) instead. To get a de-fragmented frame, use `newframe = frame.copy()`\n",
            "  train[encoder.get_feature_names_out(categorical_features)] = encoder.transform(train[categorical_features]).toarray()\n",
            "<ipython-input-27-8d21445f3b5e>:1: PerformanceWarning: DataFrame is highly fragmented.  This is usually the result of calling `frame.insert` many times, which has poor performance.  Consider joining all columns at once using pd.concat(axis=1) instead. To get a de-fragmented frame, use `newframe = frame.copy()`\n",
            "  train[encoder.get_feature_names_out(categorical_features)] = encoder.transform(train[categorical_features]).toarray()\n",
            "<ipython-input-27-8d21445f3b5e>:1: PerformanceWarning: DataFrame is highly fragmented.  This is usually the result of calling `frame.insert` many times, which has poor performance.  Consider joining all columns at once using pd.concat(axis=1) instead. To get a de-fragmented frame, use `newframe = frame.copy()`\n",
            "  train[encoder.get_feature_names_out(categorical_features)] = encoder.transform(train[categorical_features]).toarray()\n",
            "<ipython-input-27-8d21445f3b5e>:1: PerformanceWarning: DataFrame is highly fragmented.  This is usually the result of calling `frame.insert` many times, which has poor performance.  Consider joining all columns at once using pd.concat(axis=1) instead. To get a de-fragmented frame, use `newframe = frame.copy()`\n",
            "  train[encoder.get_feature_names_out(categorical_features)] = encoder.transform(train[categorical_features]).toarray()\n",
            "<ipython-input-27-8d21445f3b5e>:1: PerformanceWarning: DataFrame is highly fragmented.  This is usually the result of calling `frame.insert` many times, which has poor performance.  Consider joining all columns at once using pd.concat(axis=1) instead. To get a de-fragmented frame, use `newframe = frame.copy()`\n",
            "  train[encoder.get_feature_names_out(categorical_features)] = encoder.transform(train[categorical_features]).toarray()\n",
            "<ipython-input-27-8d21445f3b5e>:1: PerformanceWarning: DataFrame is highly fragmented.  This is usually the result of calling `frame.insert` many times, which has poor performance.  Consider joining all columns at once using pd.concat(axis=1) instead. To get a de-fragmented frame, use `newframe = frame.copy()`\n",
            "  train[encoder.get_feature_names_out(categorical_features)] = encoder.transform(train[categorical_features]).toarray()\n",
            "<ipython-input-27-8d21445f3b5e>:1: PerformanceWarning: DataFrame is highly fragmented.  This is usually the result of calling `frame.insert` many times, which has poor performance.  Consider joining all columns at once using pd.concat(axis=1) instead. To get a de-fragmented frame, use `newframe = frame.copy()`\n",
            "  train[encoder.get_feature_names_out(categorical_features)] = encoder.transform(train[categorical_features]).toarray()\n",
            "<ipython-input-27-8d21445f3b5e>:1: PerformanceWarning: DataFrame is highly fragmented.  This is usually the result of calling `frame.insert` many times, which has poor performance.  Consider joining all columns at once using pd.concat(axis=1) instead. To get a de-fragmented frame, use `newframe = frame.copy()`\n",
            "  train[encoder.get_feature_names_out(categorical_features)] = encoder.transform(train[categorical_features]).toarray()\n",
            "<ipython-input-27-8d21445f3b5e>:1: PerformanceWarning: DataFrame is highly fragmented.  This is usually the result of calling `frame.insert` many times, which has poor performance.  Consider joining all columns at once using pd.concat(axis=1) instead. To get a de-fragmented frame, use `newframe = frame.copy()`\n",
            "  train[encoder.get_feature_names_out(categorical_features)] = encoder.transform(train[categorical_features]).toarray()\n",
            "<ipython-input-27-8d21445f3b5e>:1: PerformanceWarning: DataFrame is highly fragmented.  This is usually the result of calling `frame.insert` many times, which has poor performance.  Consider joining all columns at once using pd.concat(axis=1) instead. To get a de-fragmented frame, use `newframe = frame.copy()`\n",
            "  train[encoder.get_feature_names_out(categorical_features)] = encoder.transform(train[categorical_features]).toarray()\n",
            "<ipython-input-27-8d21445f3b5e>:1: PerformanceWarning: DataFrame is highly fragmented.  This is usually the result of calling `frame.insert` many times, which has poor performance.  Consider joining all columns at once using pd.concat(axis=1) instead. To get a de-fragmented frame, use `newframe = frame.copy()`\n",
            "  train[encoder.get_feature_names_out(categorical_features)] = encoder.transform(train[categorical_features]).toarray()\n",
            "<ipython-input-27-8d21445f3b5e>:1: PerformanceWarning: DataFrame is highly fragmented.  This is usually the result of calling `frame.insert` many times, which has poor performance.  Consider joining all columns at once using pd.concat(axis=1) instead. To get a de-fragmented frame, use `newframe = frame.copy()`\n",
            "  train[encoder.get_feature_names_out(categorical_features)] = encoder.transform(train[categorical_features]).toarray()\n",
            "<ipython-input-27-8d21445f3b5e>:1: PerformanceWarning: DataFrame is highly fragmented.  This is usually the result of calling `frame.insert` many times, which has poor performance.  Consider joining all columns at once using pd.concat(axis=1) instead. To get a de-fragmented frame, use `newframe = frame.copy()`\n",
            "  train[encoder.get_feature_names_out(categorical_features)] = encoder.transform(train[categorical_features]).toarray()\n",
            "<ipython-input-27-8d21445f3b5e>:1: PerformanceWarning: DataFrame is highly fragmented.  This is usually the result of calling `frame.insert` many times, which has poor performance.  Consider joining all columns at once using pd.concat(axis=1) instead. To get a de-fragmented frame, use `newframe = frame.copy()`\n",
            "  train[encoder.get_feature_names_out(categorical_features)] = encoder.transform(train[categorical_features]).toarray()\n",
            "<ipython-input-27-8d21445f3b5e>:1: PerformanceWarning: DataFrame is highly fragmented.  This is usually the result of calling `frame.insert` many times, which has poor performance.  Consider joining all columns at once using pd.concat(axis=1) instead. To get a de-fragmented frame, use `newframe = frame.copy()`\n",
            "  train[encoder.get_feature_names_out(categorical_features)] = encoder.transform(train[categorical_features]).toarray()\n",
            "<ipython-input-27-8d21445f3b5e>:1: PerformanceWarning: DataFrame is highly fragmented.  This is usually the result of calling `frame.insert` many times, which has poor performance.  Consider joining all columns at once using pd.concat(axis=1) instead. To get a de-fragmented frame, use `newframe = frame.copy()`\n",
            "  train[encoder.get_feature_names_out(categorical_features)] = encoder.transform(train[categorical_features]).toarray()\n",
            "<ipython-input-27-8d21445f3b5e>:1: PerformanceWarning: DataFrame is highly fragmented.  This is usually the result of calling `frame.insert` many times, which has poor performance.  Consider joining all columns at once using pd.concat(axis=1) instead. To get a de-fragmented frame, use `newframe = frame.copy()`\n",
            "  train[encoder.get_feature_names_out(categorical_features)] = encoder.transform(train[categorical_features]).toarray()\n",
            "<ipython-input-27-8d21445f3b5e>:1: PerformanceWarning: DataFrame is highly fragmented.  This is usually the result of calling `frame.insert` many times, which has poor performance.  Consider joining all columns at once using pd.concat(axis=1) instead. To get a de-fragmented frame, use `newframe = frame.copy()`\n",
            "  train[encoder.get_feature_names_out(categorical_features)] = encoder.transform(train[categorical_features]).toarray()\n",
            "<ipython-input-27-8d21445f3b5e>:1: PerformanceWarning: DataFrame is highly fragmented.  This is usually the result of calling `frame.insert` many times, which has poor performance.  Consider joining all columns at once using pd.concat(axis=1) instead. To get a de-fragmented frame, use `newframe = frame.copy()`\n",
            "  train[encoder.get_feature_names_out(categorical_features)] = encoder.transform(train[categorical_features]).toarray()\n",
            "<ipython-input-27-8d21445f3b5e>:1: PerformanceWarning: DataFrame is highly fragmented.  This is usually the result of calling `frame.insert` many times, which has poor performance.  Consider joining all columns at once using pd.concat(axis=1) instead. To get a de-fragmented frame, use `newframe = frame.copy()`\n",
            "  train[encoder.get_feature_names_out(categorical_features)] = encoder.transform(train[categorical_features]).toarray()\n",
            "<ipython-input-27-8d21445f3b5e>:1: PerformanceWarning: DataFrame is highly fragmented.  This is usually the result of calling `frame.insert` many times, which has poor performance.  Consider joining all columns at once using pd.concat(axis=1) instead. To get a de-fragmented frame, use `newframe = frame.copy()`\n",
            "  train[encoder.get_feature_names_out(categorical_features)] = encoder.transform(train[categorical_features]).toarray()\n",
            "<ipython-input-27-8d21445f3b5e>:1: PerformanceWarning: DataFrame is highly fragmented.  This is usually the result of calling `frame.insert` many times, which has poor performance.  Consider joining all columns at once using pd.concat(axis=1) instead. To get a de-fragmented frame, use `newframe = frame.copy()`\n",
            "  train[encoder.get_feature_names_out(categorical_features)] = encoder.transform(train[categorical_features]).toarray()\n",
            "<ipython-input-27-8d21445f3b5e>:1: PerformanceWarning: DataFrame is highly fragmented.  This is usually the result of calling `frame.insert` many times, which has poor performance.  Consider joining all columns at once using pd.concat(axis=1) instead. To get a de-fragmented frame, use `newframe = frame.copy()`\n",
            "  train[encoder.get_feature_names_out(categorical_features)] = encoder.transform(train[categorical_features]).toarray()\n",
            "<ipython-input-27-8d21445f3b5e>:1: PerformanceWarning: DataFrame is highly fragmented.  This is usually the result of calling `frame.insert` many times, which has poor performance.  Consider joining all columns at once using pd.concat(axis=1) instead. To get a de-fragmented frame, use `newframe = frame.copy()`\n",
            "  train[encoder.get_feature_names_out(categorical_features)] = encoder.transform(train[categorical_features]).toarray()\n",
            "<ipython-input-27-8d21445f3b5e>:1: PerformanceWarning: DataFrame is highly fragmented.  This is usually the result of calling `frame.insert` many times, which has poor performance.  Consider joining all columns at once using pd.concat(axis=1) instead. To get a de-fragmented frame, use `newframe = frame.copy()`\n",
            "  train[encoder.get_feature_names_out(categorical_features)] = encoder.transform(train[categorical_features]).toarray()\n",
            "<ipython-input-27-8d21445f3b5e>:1: PerformanceWarning: DataFrame is highly fragmented.  This is usually the result of calling `frame.insert` many times, which has poor performance.  Consider joining all columns at once using pd.concat(axis=1) instead. To get a de-fragmented frame, use `newframe = frame.copy()`\n",
            "  train[encoder.get_feature_names_out(categorical_features)] = encoder.transform(train[categorical_features]).toarray()\n",
            "<ipython-input-27-8d21445f3b5e>:1: PerformanceWarning: DataFrame is highly fragmented.  This is usually the result of calling `frame.insert` many times, which has poor performance.  Consider joining all columns at once using pd.concat(axis=1) instead. To get a de-fragmented frame, use `newframe = frame.copy()`\n",
            "  train[encoder.get_feature_names_out(categorical_features)] = encoder.transform(train[categorical_features]).toarray()\n",
            "<ipython-input-27-8d21445f3b5e>:1: PerformanceWarning: DataFrame is highly fragmented.  This is usually the result of calling `frame.insert` many times, which has poor performance.  Consider joining all columns at once using pd.concat(axis=1) instead. To get a de-fragmented frame, use `newframe = frame.copy()`\n",
            "  train[encoder.get_feature_names_out(categorical_features)] = encoder.transform(train[categorical_features]).toarray()\n",
            "<ipython-input-27-8d21445f3b5e>:1: PerformanceWarning: DataFrame is highly fragmented.  This is usually the result of calling `frame.insert` many times, which has poor performance.  Consider joining all columns at once using pd.concat(axis=1) instead. To get a de-fragmented frame, use `newframe = frame.copy()`\n",
            "  train[encoder.get_feature_names_out(categorical_features)] = encoder.transform(train[categorical_features]).toarray()\n",
            "<ipython-input-27-8d21445f3b5e>:1: PerformanceWarning: DataFrame is highly fragmented.  This is usually the result of calling `frame.insert` many times, which has poor performance.  Consider joining all columns at once using pd.concat(axis=1) instead. To get a de-fragmented frame, use `newframe = frame.copy()`\n",
            "  train[encoder.get_feature_names_out(categorical_features)] = encoder.transform(train[categorical_features]).toarray()\n",
            "<ipython-input-27-8d21445f3b5e>:1: PerformanceWarning: DataFrame is highly fragmented.  This is usually the result of calling `frame.insert` many times, which has poor performance.  Consider joining all columns at once using pd.concat(axis=1) instead. To get a de-fragmented frame, use `newframe = frame.copy()`\n",
            "  train[encoder.get_feature_names_out(categorical_features)] = encoder.transform(train[categorical_features]).toarray()\n",
            "<ipython-input-27-8d21445f3b5e>:1: PerformanceWarning: DataFrame is highly fragmented.  This is usually the result of calling `frame.insert` many times, which has poor performance.  Consider joining all columns at once using pd.concat(axis=1) instead. To get a de-fragmented frame, use `newframe = frame.copy()`\n",
            "  train[encoder.get_feature_names_out(categorical_features)] = encoder.transform(train[categorical_features]).toarray()\n",
            "<ipython-input-27-8d21445f3b5e>:1: PerformanceWarning: DataFrame is highly fragmented.  This is usually the result of calling `frame.insert` many times, which has poor performance.  Consider joining all columns at once using pd.concat(axis=1) instead. To get a de-fragmented frame, use `newframe = frame.copy()`\n",
            "  train[encoder.get_feature_names_out(categorical_features)] = encoder.transform(train[categorical_features]).toarray()\n",
            "<ipython-input-27-8d21445f3b5e>:1: PerformanceWarning: DataFrame is highly fragmented.  This is usually the result of calling `frame.insert` many times, which has poor performance.  Consider joining all columns at once using pd.concat(axis=1) instead. To get a de-fragmented frame, use `newframe = frame.copy()`\n",
            "  train[encoder.get_feature_names_out(categorical_features)] = encoder.transform(train[categorical_features]).toarray()\n",
            "<ipython-input-27-8d21445f3b5e>:1: PerformanceWarning: DataFrame is highly fragmented.  This is usually the result of calling `frame.insert` many times, which has poor performance.  Consider joining all columns at once using pd.concat(axis=1) instead. To get a de-fragmented frame, use `newframe = frame.copy()`\n",
            "  train[encoder.get_feature_names_out(categorical_features)] = encoder.transform(train[categorical_features]).toarray()\n",
            "<ipython-input-27-8d21445f3b5e>:1: PerformanceWarning: DataFrame is highly fragmented.  This is usually the result of calling `frame.insert` many times, which has poor performance.  Consider joining all columns at once using pd.concat(axis=1) instead. To get a de-fragmented frame, use `newframe = frame.copy()`\n",
            "  train[encoder.get_feature_names_out(categorical_features)] = encoder.transform(train[categorical_features]).toarray()\n",
            "<ipython-input-27-8d21445f3b5e>:1: PerformanceWarning: DataFrame is highly fragmented.  This is usually the result of calling `frame.insert` many times, which has poor performance.  Consider joining all columns at once using pd.concat(axis=1) instead. To get a de-fragmented frame, use `newframe = frame.copy()`\n",
            "  train[encoder.get_feature_names_out(categorical_features)] = encoder.transform(train[categorical_features]).toarray()\n",
            "<ipython-input-27-8d21445f3b5e>:1: PerformanceWarning: DataFrame is highly fragmented.  This is usually the result of calling `frame.insert` many times, which has poor performance.  Consider joining all columns at once using pd.concat(axis=1) instead. To get a de-fragmented frame, use `newframe = frame.copy()`\n",
            "  train[encoder.get_feature_names_out(categorical_features)] = encoder.transform(train[categorical_features]).toarray()\n",
            "<ipython-input-27-8d21445f3b5e>:1: PerformanceWarning: DataFrame is highly fragmented.  This is usually the result of calling `frame.insert` many times, which has poor performance.  Consider joining all columns at once using pd.concat(axis=1) instead. To get a de-fragmented frame, use `newframe = frame.copy()`\n",
            "  train[encoder.get_feature_names_out(categorical_features)] = encoder.transform(train[categorical_features]).toarray()\n",
            "<ipython-input-27-8d21445f3b5e>:1: PerformanceWarning: DataFrame is highly fragmented.  This is usually the result of calling `frame.insert` many times, which has poor performance.  Consider joining all columns at once using pd.concat(axis=1) instead. To get a de-fragmented frame, use `newframe = frame.copy()`\n",
            "  train[encoder.get_feature_names_out(categorical_features)] = encoder.transform(train[categorical_features]).toarray()\n",
            "<ipython-input-27-8d21445f3b5e>:1: PerformanceWarning: DataFrame is highly fragmented.  This is usually the result of calling `frame.insert` many times, which has poor performance.  Consider joining all columns at once using pd.concat(axis=1) instead. To get a de-fragmented frame, use `newframe = frame.copy()`\n",
            "  train[encoder.get_feature_names_out(categorical_features)] = encoder.transform(train[categorical_features]).toarray()\n",
            "<ipython-input-27-8d21445f3b5e>:2: PerformanceWarning: DataFrame is highly fragmented.  This is usually the result of calling `frame.insert` many times, which has poor performance.  Consider joining all columns at once using pd.concat(axis=1) instead. To get a de-fragmented frame, use `newframe = frame.copy()`\n",
            "  test[encoder.get_feature_names_out(categorical_features)] = encoder.transform(test[categorical_features]).toarray()\n",
            "<ipython-input-27-8d21445f3b5e>:2: PerformanceWarning: DataFrame is highly fragmented.  This is usually the result of calling `frame.insert` many times, which has poor performance.  Consider joining all columns at once using pd.concat(axis=1) instead. To get a de-fragmented frame, use `newframe = frame.copy()`\n",
            "  test[encoder.get_feature_names_out(categorical_features)] = encoder.transform(test[categorical_features]).toarray()\n",
            "<ipython-input-27-8d21445f3b5e>:2: PerformanceWarning: DataFrame is highly fragmented.  This is usually the result of calling `frame.insert` many times, which has poor performance.  Consider joining all columns at once using pd.concat(axis=1) instead. To get a de-fragmented frame, use `newframe = frame.copy()`\n",
            "  test[encoder.get_feature_names_out(categorical_features)] = encoder.transform(test[categorical_features]).toarray()\n",
            "<ipython-input-27-8d21445f3b5e>:2: PerformanceWarning: DataFrame is highly fragmented.  This is usually the result of calling `frame.insert` many times, which has poor performance.  Consider joining all columns at once using pd.concat(axis=1) instead. To get a de-fragmented frame, use `newframe = frame.copy()`\n",
            "  test[encoder.get_feature_names_out(categorical_features)] = encoder.transform(test[categorical_features]).toarray()\n",
            "<ipython-input-27-8d21445f3b5e>:2: PerformanceWarning: DataFrame is highly fragmented.  This is usually the result of calling `frame.insert` many times, which has poor performance.  Consider joining all columns at once using pd.concat(axis=1) instead. To get a de-fragmented frame, use `newframe = frame.copy()`\n",
            "  test[encoder.get_feature_names_out(categorical_features)] = encoder.transform(test[categorical_features]).toarray()\n",
            "<ipython-input-27-8d21445f3b5e>:2: PerformanceWarning: DataFrame is highly fragmented.  This is usually the result of calling `frame.insert` many times, which has poor performance.  Consider joining all columns at once using pd.concat(axis=1) instead. To get a de-fragmented frame, use `newframe = frame.copy()`\n",
            "  test[encoder.get_feature_names_out(categorical_features)] = encoder.transform(test[categorical_features]).toarray()\n",
            "<ipython-input-27-8d21445f3b5e>:2: PerformanceWarning: DataFrame is highly fragmented.  This is usually the result of calling `frame.insert` many times, which has poor performance.  Consider joining all columns at once using pd.concat(axis=1) instead. To get a de-fragmented frame, use `newframe = frame.copy()`\n",
            "  test[encoder.get_feature_names_out(categorical_features)] = encoder.transform(test[categorical_features]).toarray()\n",
            "<ipython-input-27-8d21445f3b5e>:2: PerformanceWarning: DataFrame is highly fragmented.  This is usually the result of calling `frame.insert` many times, which has poor performance.  Consider joining all columns at once using pd.concat(axis=1) instead. To get a de-fragmented frame, use `newframe = frame.copy()`\n",
            "  test[encoder.get_feature_names_out(categorical_features)] = encoder.transform(test[categorical_features]).toarray()\n",
            "<ipython-input-27-8d21445f3b5e>:2: PerformanceWarning: DataFrame is highly fragmented.  This is usually the result of calling `frame.insert` many times, which has poor performance.  Consider joining all columns at once using pd.concat(axis=1) instead. To get a de-fragmented frame, use `newframe = frame.copy()`\n",
            "  test[encoder.get_feature_names_out(categorical_features)] = encoder.transform(test[categorical_features]).toarray()\n",
            "<ipython-input-27-8d21445f3b5e>:2: PerformanceWarning: DataFrame is highly fragmented.  This is usually the result of calling `frame.insert` many times, which has poor performance.  Consider joining all columns at once using pd.concat(axis=1) instead. To get a de-fragmented frame, use `newframe = frame.copy()`\n",
            "  test[encoder.get_feature_names_out(categorical_features)] = encoder.transform(test[categorical_features]).toarray()\n",
            "<ipython-input-27-8d21445f3b5e>:2: PerformanceWarning: DataFrame is highly fragmented.  This is usually the result of calling `frame.insert` many times, which has poor performance.  Consider joining all columns at once using pd.concat(axis=1) instead. To get a de-fragmented frame, use `newframe = frame.copy()`\n",
            "  test[encoder.get_feature_names_out(categorical_features)] = encoder.transform(test[categorical_features]).toarray()\n",
            "<ipython-input-27-8d21445f3b5e>:2: PerformanceWarning: DataFrame is highly fragmented.  This is usually the result of calling `frame.insert` many times, which has poor performance.  Consider joining all columns at once using pd.concat(axis=1) instead. To get a de-fragmented frame, use `newframe = frame.copy()`\n",
            "  test[encoder.get_feature_names_out(categorical_features)] = encoder.transform(test[categorical_features]).toarray()\n",
            "<ipython-input-27-8d21445f3b5e>:2: PerformanceWarning: DataFrame is highly fragmented.  This is usually the result of calling `frame.insert` many times, which has poor performance.  Consider joining all columns at once using pd.concat(axis=1) instead. To get a de-fragmented frame, use `newframe = frame.copy()`\n",
            "  test[encoder.get_feature_names_out(categorical_features)] = encoder.transform(test[categorical_features]).toarray()\n",
            "<ipython-input-27-8d21445f3b5e>:2: PerformanceWarning: DataFrame is highly fragmented.  This is usually the result of calling `frame.insert` many times, which has poor performance.  Consider joining all columns at once using pd.concat(axis=1) instead. To get a de-fragmented frame, use `newframe = frame.copy()`\n",
            "  test[encoder.get_feature_names_out(categorical_features)] = encoder.transform(test[categorical_features]).toarray()\n",
            "<ipython-input-27-8d21445f3b5e>:2: PerformanceWarning: DataFrame is highly fragmented.  This is usually the result of calling `frame.insert` many times, which has poor performance.  Consider joining all columns at once using pd.concat(axis=1) instead. To get a de-fragmented frame, use `newframe = frame.copy()`\n",
            "  test[encoder.get_feature_names_out(categorical_features)] = encoder.transform(test[categorical_features]).toarray()\n",
            "<ipython-input-27-8d21445f3b5e>:2: PerformanceWarning: DataFrame is highly fragmented.  This is usually the result of calling `frame.insert` many times, which has poor performance.  Consider joining all columns at once using pd.concat(axis=1) instead. To get a de-fragmented frame, use `newframe = frame.copy()`\n",
            "  test[encoder.get_feature_names_out(categorical_features)] = encoder.transform(test[categorical_features]).toarray()\n",
            "<ipython-input-27-8d21445f3b5e>:2: PerformanceWarning: DataFrame is highly fragmented.  This is usually the result of calling `frame.insert` many times, which has poor performance.  Consider joining all columns at once using pd.concat(axis=1) instead. To get a de-fragmented frame, use `newframe = frame.copy()`\n",
            "  test[encoder.get_feature_names_out(categorical_features)] = encoder.transform(test[categorical_features]).toarray()\n",
            "<ipython-input-27-8d21445f3b5e>:2: PerformanceWarning: DataFrame is highly fragmented.  This is usually the result of calling `frame.insert` many times, which has poor performance.  Consider joining all columns at once using pd.concat(axis=1) instead. To get a de-fragmented frame, use `newframe = frame.copy()`\n",
            "  test[encoder.get_feature_names_out(categorical_features)] = encoder.transform(test[categorical_features]).toarray()\n",
            "<ipython-input-27-8d21445f3b5e>:2: PerformanceWarning: DataFrame is highly fragmented.  This is usually the result of calling `frame.insert` many times, which has poor performance.  Consider joining all columns at once using pd.concat(axis=1) instead. To get a de-fragmented frame, use `newframe = frame.copy()`\n",
            "  test[encoder.get_feature_names_out(categorical_features)] = encoder.transform(test[categorical_features]).toarray()\n",
            "<ipython-input-27-8d21445f3b5e>:2: PerformanceWarning: DataFrame is highly fragmented.  This is usually the result of calling `frame.insert` many times, which has poor performance.  Consider joining all columns at once using pd.concat(axis=1) instead. To get a de-fragmented frame, use `newframe = frame.copy()`\n",
            "  test[encoder.get_feature_names_out(categorical_features)] = encoder.transform(test[categorical_features]).toarray()\n",
            "<ipython-input-27-8d21445f3b5e>:2: PerformanceWarning: DataFrame is highly fragmented.  This is usually the result of calling `frame.insert` many times, which has poor performance.  Consider joining all columns at once using pd.concat(axis=1) instead. To get a de-fragmented frame, use `newframe = frame.copy()`\n",
            "  test[encoder.get_feature_names_out(categorical_features)] = encoder.transform(test[categorical_features]).toarray()\n",
            "<ipython-input-27-8d21445f3b5e>:2: PerformanceWarning: DataFrame is highly fragmented.  This is usually the result of calling `frame.insert` many times, which has poor performance.  Consider joining all columns at once using pd.concat(axis=1) instead. To get a de-fragmented frame, use `newframe = frame.copy()`\n",
            "  test[encoder.get_feature_names_out(categorical_features)] = encoder.transform(test[categorical_features]).toarray()\n",
            "<ipython-input-27-8d21445f3b5e>:2: PerformanceWarning: DataFrame is highly fragmented.  This is usually the result of calling `frame.insert` many times, which has poor performance.  Consider joining all columns at once using pd.concat(axis=1) instead. To get a de-fragmented frame, use `newframe = frame.copy()`\n",
            "  test[encoder.get_feature_names_out(categorical_features)] = encoder.transform(test[categorical_features]).toarray()\n",
            "<ipython-input-27-8d21445f3b5e>:2: PerformanceWarning: DataFrame is highly fragmented.  This is usually the result of calling `frame.insert` many times, which has poor performance.  Consider joining all columns at once using pd.concat(axis=1) instead. To get a de-fragmented frame, use `newframe = frame.copy()`\n",
            "  test[encoder.get_feature_names_out(categorical_features)] = encoder.transform(test[categorical_features]).toarray()\n",
            "<ipython-input-27-8d21445f3b5e>:2: PerformanceWarning: DataFrame is highly fragmented.  This is usually the result of calling `frame.insert` many times, which has poor performance.  Consider joining all columns at once using pd.concat(axis=1) instead. To get a de-fragmented frame, use `newframe = frame.copy()`\n",
            "  test[encoder.get_feature_names_out(categorical_features)] = encoder.transform(test[categorical_features]).toarray()\n",
            "<ipython-input-27-8d21445f3b5e>:2: PerformanceWarning: DataFrame is highly fragmented.  This is usually the result of calling `frame.insert` many times, which has poor performance.  Consider joining all columns at once using pd.concat(axis=1) instead. To get a de-fragmented frame, use `newframe = frame.copy()`\n",
            "  test[encoder.get_feature_names_out(categorical_features)] = encoder.transform(test[categorical_features]).toarray()\n",
            "<ipython-input-27-8d21445f3b5e>:2: PerformanceWarning: DataFrame is highly fragmented.  This is usually the result of calling `frame.insert` many times, which has poor performance.  Consider joining all columns at once using pd.concat(axis=1) instead. To get a de-fragmented frame, use `newframe = frame.copy()`\n",
            "  test[encoder.get_feature_names_out(categorical_features)] = encoder.transform(test[categorical_features]).toarray()\n",
            "<ipython-input-27-8d21445f3b5e>:2: PerformanceWarning: DataFrame is highly fragmented.  This is usually the result of calling `frame.insert` many times, which has poor performance.  Consider joining all columns at once using pd.concat(axis=1) instead. To get a de-fragmented frame, use `newframe = frame.copy()`\n",
            "  test[encoder.get_feature_names_out(categorical_features)] = encoder.transform(test[categorical_features]).toarray()\n",
            "<ipython-input-27-8d21445f3b5e>:2: PerformanceWarning: DataFrame is highly fragmented.  This is usually the result of calling `frame.insert` many times, which has poor performance.  Consider joining all columns at once using pd.concat(axis=1) instead. To get a de-fragmented frame, use `newframe = frame.copy()`\n",
            "  test[encoder.get_feature_names_out(categorical_features)] = encoder.transform(test[categorical_features]).toarray()\n",
            "<ipython-input-27-8d21445f3b5e>:2: PerformanceWarning: DataFrame is highly fragmented.  This is usually the result of calling `frame.insert` many times, which has poor performance.  Consider joining all columns at once using pd.concat(axis=1) instead. To get a de-fragmented frame, use `newframe = frame.copy()`\n",
            "  test[encoder.get_feature_names_out(categorical_features)] = encoder.transform(test[categorical_features]).toarray()\n",
            "<ipython-input-27-8d21445f3b5e>:2: PerformanceWarning: DataFrame is highly fragmented.  This is usually the result of calling `frame.insert` many times, which has poor performance.  Consider joining all columns at once using pd.concat(axis=1) instead. To get a de-fragmented frame, use `newframe = frame.copy()`\n",
            "  test[encoder.get_feature_names_out(categorical_features)] = encoder.transform(test[categorical_features]).toarray()\n",
            "<ipython-input-27-8d21445f3b5e>:2: PerformanceWarning: DataFrame is highly fragmented.  This is usually the result of calling `frame.insert` many times, which has poor performance.  Consider joining all columns at once using pd.concat(axis=1) instead. To get a de-fragmented frame, use `newframe = frame.copy()`\n",
            "  test[encoder.get_feature_names_out(categorical_features)] = encoder.transform(test[categorical_features]).toarray()\n",
            "<ipython-input-27-8d21445f3b5e>:2: PerformanceWarning: DataFrame is highly fragmented.  This is usually the result of calling `frame.insert` many times, which has poor performance.  Consider joining all columns at once using pd.concat(axis=1) instead. To get a de-fragmented frame, use `newframe = frame.copy()`\n",
            "  test[encoder.get_feature_names_out(categorical_features)] = encoder.transform(test[categorical_features]).toarray()\n",
            "<ipython-input-27-8d21445f3b5e>:2: PerformanceWarning: DataFrame is highly fragmented.  This is usually the result of calling `frame.insert` many times, which has poor performance.  Consider joining all columns at once using pd.concat(axis=1) instead. To get a de-fragmented frame, use `newframe = frame.copy()`\n",
            "  test[encoder.get_feature_names_out(categorical_features)] = encoder.transform(test[categorical_features]).toarray()\n",
            "<ipython-input-27-8d21445f3b5e>:2: PerformanceWarning: DataFrame is highly fragmented.  This is usually the result of calling `frame.insert` many times, which has poor performance.  Consider joining all columns at once using pd.concat(axis=1) instead. To get a de-fragmented frame, use `newframe = frame.copy()`\n",
            "  test[encoder.get_feature_names_out(categorical_features)] = encoder.transform(test[categorical_features]).toarray()\n",
            "<ipython-input-27-8d21445f3b5e>:2: PerformanceWarning: DataFrame is highly fragmented.  This is usually the result of calling `frame.insert` many times, which has poor performance.  Consider joining all columns at once using pd.concat(axis=1) instead. To get a de-fragmented frame, use `newframe = frame.copy()`\n",
            "  test[encoder.get_feature_names_out(categorical_features)] = encoder.transform(test[categorical_features]).toarray()\n",
            "<ipython-input-27-8d21445f3b5e>:2: PerformanceWarning: DataFrame is highly fragmented.  This is usually the result of calling `frame.insert` many times, which has poor performance.  Consider joining all columns at once using pd.concat(axis=1) instead. To get a de-fragmented frame, use `newframe = frame.copy()`\n",
            "  test[encoder.get_feature_names_out(categorical_features)] = encoder.transform(test[categorical_features]).toarray()\n",
            "<ipython-input-27-8d21445f3b5e>:2: PerformanceWarning: DataFrame is highly fragmented.  This is usually the result of calling `frame.insert` many times, which has poor performance.  Consider joining all columns at once using pd.concat(axis=1) instead. To get a de-fragmented frame, use `newframe = frame.copy()`\n",
            "  test[encoder.get_feature_names_out(categorical_features)] = encoder.transform(test[categorical_features]).toarray()\n",
            "<ipython-input-27-8d21445f3b5e>:2: PerformanceWarning: DataFrame is highly fragmented.  This is usually the result of calling `frame.insert` many times, which has poor performance.  Consider joining all columns at once using pd.concat(axis=1) instead. To get a de-fragmented frame, use `newframe = frame.copy()`\n",
            "  test[encoder.get_feature_names_out(categorical_features)] = encoder.transform(test[categorical_features]).toarray()\n",
            "<ipython-input-27-8d21445f3b5e>:2: PerformanceWarning: DataFrame is highly fragmented.  This is usually the result of calling `frame.insert` many times, which has poor performance.  Consider joining all columns at once using pd.concat(axis=1) instead. To get a de-fragmented frame, use `newframe = frame.copy()`\n",
            "  test[encoder.get_feature_names_out(categorical_features)] = encoder.transform(test[categorical_features]).toarray()\n",
            "<ipython-input-27-8d21445f3b5e>:2: PerformanceWarning: DataFrame is highly fragmented.  This is usually the result of calling `frame.insert` many times, which has poor performance.  Consider joining all columns at once using pd.concat(axis=1) instead. To get a de-fragmented frame, use `newframe = frame.copy()`\n",
            "  test[encoder.get_feature_names_out(categorical_features)] = encoder.transform(test[categorical_features]).toarray()\n"
          ]
        }
      ]
    },
    {
      "cell_type": "code",
      "source": [
        "train[[x for x in train.columns.tolist() if 'Gender' in x]].head(10)"
      ],
      "metadata": {
        "colab": {
          "base_uri": "https://localhost:8080/",
          "height": 363
        },
        "id": "LpFZVxOh62Vu",
        "outputId": "dc28e2b2-7cc3-4433-c039-3f386e3a3b5a"
      },
      "execution_count": null,
      "outputs": [
        {
          "output_type": "execute_result",
          "data": {
            "text/plain": [
              "       Client_Gender  Client_Gender_Female  Client_Gender_Male  \\\n",
              "66289           Male                   0.0                 1.0   \n",
              "109009          Male                   0.0                 1.0   \n",
              "30526           Male                   0.0                 1.0   \n",
              "117872          Male                   0.0                 1.0   \n",
              "90866           Male                   0.0                 1.0   \n",
              "40786           Male                   0.0                 1.0   \n",
              "13964           Male                   0.0                 1.0   \n",
              "7076          Female                   1.0                 0.0   \n",
              "17169           Male                   0.0                 1.0   \n",
              "64245           Male                   0.0                 1.0   \n",
              "\n",
              "        Client_Gender_missing  \n",
              "66289                     0.0  \n",
              "109009                    0.0  \n",
              "30526                     0.0  \n",
              "117872                    0.0  \n",
              "90866                     0.0  \n",
              "40786                     0.0  \n",
              "13964                     0.0  \n",
              "7076                      0.0  \n",
              "17169                     0.0  \n",
              "64245                     0.0  "
            ],
            "text/html": [
              "\n",
              "  <div id=\"df-6f2c42c2-fc29-4042-ab63-27db2fc35bb6\">\n",
              "    <div class=\"colab-df-container\">\n",
              "      <div>\n",
              "<style scoped>\n",
              "    .dataframe tbody tr th:only-of-type {\n",
              "        vertical-align: middle;\n",
              "    }\n",
              "\n",
              "    .dataframe tbody tr th {\n",
              "        vertical-align: top;\n",
              "    }\n",
              "\n",
              "    .dataframe thead th {\n",
              "        text-align: right;\n",
              "    }\n",
              "</style>\n",
              "<table border=\"1\" class=\"dataframe\">\n",
              "  <thead>\n",
              "    <tr style=\"text-align: right;\">\n",
              "      <th></th>\n",
              "      <th>Client_Gender</th>\n",
              "      <th>Client_Gender_Female</th>\n",
              "      <th>Client_Gender_Male</th>\n",
              "      <th>Client_Gender_missing</th>\n",
              "    </tr>\n",
              "  </thead>\n",
              "  <tbody>\n",
              "    <tr>\n",
              "      <th>66289</th>\n",
              "      <td>Male</td>\n",
              "      <td>0.0</td>\n",
              "      <td>1.0</td>\n",
              "      <td>0.0</td>\n",
              "    </tr>\n",
              "    <tr>\n",
              "      <th>109009</th>\n",
              "      <td>Male</td>\n",
              "      <td>0.0</td>\n",
              "      <td>1.0</td>\n",
              "      <td>0.0</td>\n",
              "    </tr>\n",
              "    <tr>\n",
              "      <th>30526</th>\n",
              "      <td>Male</td>\n",
              "      <td>0.0</td>\n",
              "      <td>1.0</td>\n",
              "      <td>0.0</td>\n",
              "    </tr>\n",
              "    <tr>\n",
              "      <th>117872</th>\n",
              "      <td>Male</td>\n",
              "      <td>0.0</td>\n",
              "      <td>1.0</td>\n",
              "      <td>0.0</td>\n",
              "    </tr>\n",
              "    <tr>\n",
              "      <th>90866</th>\n",
              "      <td>Male</td>\n",
              "      <td>0.0</td>\n",
              "      <td>1.0</td>\n",
              "      <td>0.0</td>\n",
              "    </tr>\n",
              "    <tr>\n",
              "      <th>40786</th>\n",
              "      <td>Male</td>\n",
              "      <td>0.0</td>\n",
              "      <td>1.0</td>\n",
              "      <td>0.0</td>\n",
              "    </tr>\n",
              "    <tr>\n",
              "      <th>13964</th>\n",
              "      <td>Male</td>\n",
              "      <td>0.0</td>\n",
              "      <td>1.0</td>\n",
              "      <td>0.0</td>\n",
              "    </tr>\n",
              "    <tr>\n",
              "      <th>7076</th>\n",
              "      <td>Female</td>\n",
              "      <td>1.0</td>\n",
              "      <td>0.0</td>\n",
              "      <td>0.0</td>\n",
              "    </tr>\n",
              "    <tr>\n",
              "      <th>17169</th>\n",
              "      <td>Male</td>\n",
              "      <td>0.0</td>\n",
              "      <td>1.0</td>\n",
              "      <td>0.0</td>\n",
              "    </tr>\n",
              "    <tr>\n",
              "      <th>64245</th>\n",
              "      <td>Male</td>\n",
              "      <td>0.0</td>\n",
              "      <td>1.0</td>\n",
              "      <td>0.0</td>\n",
              "    </tr>\n",
              "  </tbody>\n",
              "</table>\n",
              "</div>\n",
              "      <button class=\"colab-df-convert\" onclick=\"convertToInteractive('df-6f2c42c2-fc29-4042-ab63-27db2fc35bb6')\"\n",
              "              title=\"Convert this dataframe to an interactive table.\"\n",
              "              style=\"display:none;\">\n",
              "        \n",
              "  <svg xmlns=\"http://www.w3.org/2000/svg\" height=\"24px\"viewBox=\"0 0 24 24\"\n",
              "       width=\"24px\">\n",
              "    <path d=\"M0 0h24v24H0V0z\" fill=\"none\"/>\n",
              "    <path d=\"M18.56 5.44l.94 2.06.94-2.06 2.06-.94-2.06-.94-.94-2.06-.94 2.06-2.06.94zm-11 1L8.5 8.5l.94-2.06 2.06-.94-2.06-.94L8.5 2.5l-.94 2.06-2.06.94zm10 10l.94 2.06.94-2.06 2.06-.94-2.06-.94-.94-2.06-.94 2.06-2.06.94z\"/><path d=\"M17.41 7.96l-1.37-1.37c-.4-.4-.92-.59-1.43-.59-.52 0-1.04.2-1.43.59L10.3 9.45l-7.72 7.72c-.78.78-.78 2.05 0 2.83L4 21.41c.39.39.9.59 1.41.59.51 0 1.02-.2 1.41-.59l7.78-7.78 2.81-2.81c.8-.78.8-2.07 0-2.86zM5.41 20L4 18.59l7.72-7.72 1.47 1.35L5.41 20z\"/>\n",
              "  </svg>\n",
              "      </button>\n",
              "      \n",
              "  <style>\n",
              "    .colab-df-container {\n",
              "      display:flex;\n",
              "      flex-wrap:wrap;\n",
              "      gap: 12px;\n",
              "    }\n",
              "\n",
              "    .colab-df-convert {\n",
              "      background-color: #E8F0FE;\n",
              "      border: none;\n",
              "      border-radius: 50%;\n",
              "      cursor: pointer;\n",
              "      display: none;\n",
              "      fill: #1967D2;\n",
              "      height: 32px;\n",
              "      padding: 0 0 0 0;\n",
              "      width: 32px;\n",
              "    }\n",
              "\n",
              "    .colab-df-convert:hover {\n",
              "      background-color: #E2EBFA;\n",
              "      box-shadow: 0px 1px 2px rgba(60, 64, 67, 0.3), 0px 1px 3px 1px rgba(60, 64, 67, 0.15);\n",
              "      fill: #174EA6;\n",
              "    }\n",
              "\n",
              "    [theme=dark] .colab-df-convert {\n",
              "      background-color: #3B4455;\n",
              "      fill: #D2E3FC;\n",
              "    }\n",
              "\n",
              "    [theme=dark] .colab-df-convert:hover {\n",
              "      background-color: #434B5C;\n",
              "      box-shadow: 0px 1px 3px 1px rgba(0, 0, 0, 0.15);\n",
              "      filter: drop-shadow(0px 1px 2px rgba(0, 0, 0, 0.3));\n",
              "      fill: #FFFFFF;\n",
              "    }\n",
              "  </style>\n",
              "\n",
              "      <script>\n",
              "        const buttonEl =\n",
              "          document.querySelector('#df-6f2c42c2-fc29-4042-ab63-27db2fc35bb6 button.colab-df-convert');\n",
              "        buttonEl.style.display =\n",
              "          google.colab.kernel.accessAllowed ? 'block' : 'none';\n",
              "\n",
              "        async function convertToInteractive(key) {\n",
              "          const element = document.querySelector('#df-6f2c42c2-fc29-4042-ab63-27db2fc35bb6');\n",
              "          const dataTable =\n",
              "            await google.colab.kernel.invokeFunction('convertToInteractive',\n",
              "                                                     [key], {});\n",
              "          if (!dataTable) return;\n",
              "\n",
              "          const docLinkHtml = 'Like what you see? Visit the ' +\n",
              "            '<a target=\"_blank\" href=https://colab.research.google.com/notebooks/data_table.ipynb>data table notebook</a>'\n",
              "            + ' to learn more about interactive tables.';\n",
              "          element.innerHTML = '';\n",
              "          dataTable['output_type'] = 'display_data';\n",
              "          await google.colab.output.renderOutput(dataTable, element);\n",
              "          const docLink = document.createElement('div');\n",
              "          docLink.innerHTML = docLinkHtml;\n",
              "          element.appendChild(docLink);\n",
              "        }\n",
              "      </script>\n",
              "    </div>\n",
              "  </div>\n",
              "  "
            ]
          },
          "metadata": {},
          "execution_count": 28
        }
      ]
    },
    {
      "cell_type": "markdown",
      "source": [
        "\n",
        "<h3>Target Encoding</h3>\n",
        "\n",
        "El target encoding es una técnica que consiste en inputar el promedio del target a cada uno de los valores de la variable categórica.\n",
        "\n",
        "<img src=\"https://lh6.googleusercontent.com/6_KrGj2k9NvcLVfmZ6HIYruAqav4rX86YU7WOhXofDGd6-98JjUPWajo0dDqmFMXv3tN0b_LOmgYLiPMCFyIWw3b7lVrCAiSboWgJ_AJ4TqHpNWUHkgIxl0xuSF9JdSXNbWG48QS\" alt=\"HTML5 Icon\" style= \"width: 500px; height: 350px;\">\n",
        "\n",
        "---\n"
      ],
      "metadata": {
        "id": "ROQ3AngKl_Kr"
      }
    },
    {
      "cell_type": "code",
      "source": [
        "!pip install category_encoders"
      ],
      "metadata": {
        "colab": {
          "base_uri": "https://localhost:8080/"
        },
        "id": "wtGBWdnKDPBb",
        "outputId": "1837b195-594c-4353-9dbf-a14f1a276a27"
      },
      "execution_count": null,
      "outputs": [
        {
          "output_type": "stream",
          "name": "stdout",
          "text": [
            "Collecting category_encoders\n",
            "  Downloading category_encoders-2.6.1-py2.py3-none-any.whl (81 kB)\n",
            "\u001b[?25l     \u001b[90m━━━━━━━━━━━━━━━━━━━━━━━━━━━━━━━━━━━━━━━━\u001b[0m \u001b[32m0.0/81.9 kB\u001b[0m \u001b[31m?\u001b[0m eta \u001b[36m-:--:--\u001b[0m\r\u001b[2K     \u001b[90m━━━━━━━━━━━━━━━━━━━━━━━━━━━━━━━━━━━━━━━━\u001b[0m \u001b[32m81.9/81.9 kB\u001b[0m \u001b[31m2.3 MB/s\u001b[0m eta \u001b[36m0:00:00\u001b[0m\n",
            "\u001b[?25hRequirement already satisfied: numpy>=1.14.0 in /usr/local/lib/python3.10/dist-packages (from category_encoders) (1.22.4)\n",
            "Requirement already satisfied: scikit-learn>=0.20.0 in /usr/local/lib/python3.10/dist-packages (from category_encoders) (1.2.2)\n",
            "Requirement already satisfied: scipy>=1.0.0 in /usr/local/lib/python3.10/dist-packages (from category_encoders) (1.10.1)\n",
            "Requirement already satisfied: statsmodels>=0.9.0 in /usr/local/lib/python3.10/dist-packages (from category_encoders) (0.13.5)\n",
            "Requirement already satisfied: pandas>=1.0.5 in /usr/local/lib/python3.10/dist-packages (from category_encoders) (1.5.3)\n",
            "Requirement already satisfied: patsy>=0.5.1 in /usr/local/lib/python3.10/dist-packages (from category_encoders) (0.5.3)\n",
            "Requirement already satisfied: python-dateutil>=2.8.1 in /usr/local/lib/python3.10/dist-packages (from pandas>=1.0.5->category_encoders) (2.8.2)\n",
            "Requirement already satisfied: pytz>=2020.1 in /usr/local/lib/python3.10/dist-packages (from pandas>=1.0.5->category_encoders) (2022.7.1)\n",
            "Requirement already satisfied: six in /usr/local/lib/python3.10/dist-packages (from patsy>=0.5.1->category_encoders) (1.16.0)\n",
            "Requirement already satisfied: joblib>=1.1.1 in /usr/local/lib/python3.10/dist-packages (from scikit-learn>=0.20.0->category_encoders) (1.2.0)\n",
            "Requirement already satisfied: threadpoolctl>=2.0.0 in /usr/local/lib/python3.10/dist-packages (from scikit-learn>=0.20.0->category_encoders) (3.1.0)\n",
            "Requirement already satisfied: packaging>=21.3 in /usr/local/lib/python3.10/dist-packages (from statsmodels>=0.9.0->category_encoders) (23.1)\n",
            "Installing collected packages: category_encoders\n",
            "Successfully installed category_encoders-2.6.1\n"
          ]
        }
      ]
    },
    {
      "cell_type": "code",
      "source": [
        "from category_encoders import TargetEncoder\n",
        "\n",
        "encoder = TargetEncoder(handle_unknown = 'infrequent_if_exist')\n",
        "encoder.fit(train[categorical_features].astype('category'), train['Default'])\n"
      ],
      "metadata": {
        "colab": {
          "base_uri": "https://localhost:8080/",
          "height": 214
        },
        "id": "71HmRx6WDOiD",
        "outputId": "f2aca2a3-b7eb-453b-a62a-8c42c39a3069"
      },
      "execution_count": null,
      "outputs": [
        {
          "output_type": "execute_result",
          "data": {
            "text/plain": [
              "TargetEncoder(cols=['Accompany_Client', 'Client_Income_Type',\n",
              "                    'Client_Education', 'Client_Marital_Status',\n",
              "                    'Client_Gender', 'Loan_Contract_Type',\n",
              "                    'Client_Housing_Type', 'Client_Occupation',\n",
              "                    'Client_Permanent_Match_Tag', 'Client_Contact_Work_Tag',\n",
              "                    'Type_Organization', 'Car_Owned', 'Bike_Owned',\n",
              "                    'Active_Loan', 'House_Own', 'Mobile_Tag', 'Homephone_Tag',\n",
              "                    'Workphone_Working'],\n",
              "              handle_unknown='infrequent_if_exist')"
            ],
            "text/html": [
              "<style>#sk-container-id-2 {color: black;background-color: white;}#sk-container-id-2 pre{padding: 0;}#sk-container-id-2 div.sk-toggleable {background-color: white;}#sk-container-id-2 label.sk-toggleable__label {cursor: pointer;display: block;width: 100%;margin-bottom: 0;padding: 0.3em;box-sizing: border-box;text-align: center;}#sk-container-id-2 label.sk-toggleable__label-arrow:before {content: \"▸\";float: left;margin-right: 0.25em;color: #696969;}#sk-container-id-2 label.sk-toggleable__label-arrow:hover:before {color: black;}#sk-container-id-2 div.sk-estimator:hover label.sk-toggleable__label-arrow:before {color: black;}#sk-container-id-2 div.sk-toggleable__content {max-height: 0;max-width: 0;overflow: hidden;text-align: left;background-color: #f0f8ff;}#sk-container-id-2 div.sk-toggleable__content pre {margin: 0.2em;color: black;border-radius: 0.25em;background-color: #f0f8ff;}#sk-container-id-2 input.sk-toggleable__control:checked~div.sk-toggleable__content {max-height: 200px;max-width: 100%;overflow: auto;}#sk-container-id-2 input.sk-toggleable__control:checked~label.sk-toggleable__label-arrow:before {content: \"▾\";}#sk-container-id-2 div.sk-estimator input.sk-toggleable__control:checked~label.sk-toggleable__label {background-color: #d4ebff;}#sk-container-id-2 div.sk-label input.sk-toggleable__control:checked~label.sk-toggleable__label {background-color: #d4ebff;}#sk-container-id-2 input.sk-hidden--visually {border: 0;clip: rect(1px 1px 1px 1px);clip: rect(1px, 1px, 1px, 1px);height: 1px;margin: -1px;overflow: hidden;padding: 0;position: absolute;width: 1px;}#sk-container-id-2 div.sk-estimator {font-family: monospace;background-color: #f0f8ff;border: 1px dotted black;border-radius: 0.25em;box-sizing: border-box;margin-bottom: 0.5em;}#sk-container-id-2 div.sk-estimator:hover {background-color: #d4ebff;}#sk-container-id-2 div.sk-parallel-item::after {content: \"\";width: 100%;border-bottom: 1px solid gray;flex-grow: 1;}#sk-container-id-2 div.sk-label:hover label.sk-toggleable__label {background-color: #d4ebff;}#sk-container-id-2 div.sk-serial::before {content: \"\";position: absolute;border-left: 1px solid gray;box-sizing: border-box;top: 0;bottom: 0;left: 50%;z-index: 0;}#sk-container-id-2 div.sk-serial {display: flex;flex-direction: column;align-items: center;background-color: white;padding-right: 0.2em;padding-left: 0.2em;position: relative;}#sk-container-id-2 div.sk-item {position: relative;z-index: 1;}#sk-container-id-2 div.sk-parallel {display: flex;align-items: stretch;justify-content: center;background-color: white;position: relative;}#sk-container-id-2 div.sk-item::before, #sk-container-id-2 div.sk-parallel-item::before {content: \"\";position: absolute;border-left: 1px solid gray;box-sizing: border-box;top: 0;bottom: 0;left: 50%;z-index: -1;}#sk-container-id-2 div.sk-parallel-item {display: flex;flex-direction: column;z-index: 1;position: relative;background-color: white;}#sk-container-id-2 div.sk-parallel-item:first-child::after {align-self: flex-end;width: 50%;}#sk-container-id-2 div.sk-parallel-item:last-child::after {align-self: flex-start;width: 50%;}#sk-container-id-2 div.sk-parallel-item:only-child::after {width: 0;}#sk-container-id-2 div.sk-dashed-wrapped {border: 1px dashed gray;margin: 0 0.4em 0.5em 0.4em;box-sizing: border-box;padding-bottom: 0.4em;background-color: white;}#sk-container-id-2 div.sk-label label {font-family: monospace;font-weight: bold;display: inline-block;line-height: 1.2em;}#sk-container-id-2 div.sk-label-container {text-align: center;}#sk-container-id-2 div.sk-container {/* jupyter's `normalize.less` sets `[hidden] { display: none; }` but bootstrap.min.css set `[hidden] { display: none !important; }` so we also need the `!important` here to be able to override the default hidden behavior on the sphinx rendered scikit-learn.org. See: https://github.com/scikit-learn/scikit-learn/issues/21755 */display: inline-block !important;position: relative;}#sk-container-id-2 div.sk-text-repr-fallback {display: none;}</style><div id=\"sk-container-id-2\" class=\"sk-top-container\"><div class=\"sk-text-repr-fallback\"><pre>TargetEncoder(cols=[&#x27;Accompany_Client&#x27;, &#x27;Client_Income_Type&#x27;,\n",
              "                    &#x27;Client_Education&#x27;, &#x27;Client_Marital_Status&#x27;,\n",
              "                    &#x27;Client_Gender&#x27;, &#x27;Loan_Contract_Type&#x27;,\n",
              "                    &#x27;Client_Housing_Type&#x27;, &#x27;Client_Occupation&#x27;,\n",
              "                    &#x27;Client_Permanent_Match_Tag&#x27;, &#x27;Client_Contact_Work_Tag&#x27;,\n",
              "                    &#x27;Type_Organization&#x27;, &#x27;Car_Owned&#x27;, &#x27;Bike_Owned&#x27;,\n",
              "                    &#x27;Active_Loan&#x27;, &#x27;House_Own&#x27;, &#x27;Mobile_Tag&#x27;, &#x27;Homephone_Tag&#x27;,\n",
              "                    &#x27;Workphone_Working&#x27;],\n",
              "              handle_unknown=&#x27;infrequent_if_exist&#x27;)</pre><b>In a Jupyter environment, please rerun this cell to show the HTML representation or trust the notebook. <br />On GitHub, the HTML representation is unable to render, please try loading this page with nbviewer.org.</b></div><div class=\"sk-container\" hidden><div class=\"sk-item\"><div class=\"sk-estimator sk-toggleable\"><input class=\"sk-toggleable__control sk-hidden--visually\" id=\"sk-estimator-id-2\" type=\"checkbox\" checked><label for=\"sk-estimator-id-2\" class=\"sk-toggleable__label sk-toggleable__label-arrow\">TargetEncoder</label><div class=\"sk-toggleable__content\"><pre>TargetEncoder(cols=[&#x27;Accompany_Client&#x27;, &#x27;Client_Income_Type&#x27;,\n",
              "                    &#x27;Client_Education&#x27;, &#x27;Client_Marital_Status&#x27;,\n",
              "                    &#x27;Client_Gender&#x27;, &#x27;Loan_Contract_Type&#x27;,\n",
              "                    &#x27;Client_Housing_Type&#x27;, &#x27;Client_Occupation&#x27;,\n",
              "                    &#x27;Client_Permanent_Match_Tag&#x27;, &#x27;Client_Contact_Work_Tag&#x27;,\n",
              "                    &#x27;Type_Organization&#x27;, &#x27;Car_Owned&#x27;, &#x27;Bike_Owned&#x27;,\n",
              "                    &#x27;Active_Loan&#x27;, &#x27;House_Own&#x27;, &#x27;Mobile_Tag&#x27;, &#x27;Homephone_Tag&#x27;,\n",
              "                    &#x27;Workphone_Working&#x27;],\n",
              "              handle_unknown=&#x27;infrequent_if_exist&#x27;)</pre></div></div></div></div></div>"
            ]
          },
          "metadata": {},
          "execution_count": 30
        }
      ]
    },
    {
      "cell_type": "code",
      "source": [
        "\n",
        "train[[x + '_coded' for x in categorical_features]] = encoder.transform(train[categorical_features].astype('category'))\n",
        "test[[x + '_coded' for x in categorical_features]] = encoder.transform(test[categorical_features].astype('category'))\n"
      ],
      "metadata": {
        "id": "uWWGixF6EaOY"
      },
      "execution_count": null,
      "outputs": []
    },
    {
      "cell_type": "code",
      "source": [
        "train[['Client_Gender', 'Client_Gender_coded']].head(10)"
      ],
      "metadata": {
        "colab": {
          "base_uri": "https://localhost:8080/",
          "height": 363
        },
        "id": "pMGAXLtZEyv8",
        "outputId": "f3d9da7a-d020-4179-942d-9e2ffb8c5043"
      },
      "execution_count": null,
      "outputs": [
        {
          "output_type": "execute_result",
          "data": {
            "text/plain": [
              "       Client_Gender  Client_Gender_coded\n",
              "66289           Male             0.070758\n",
              "109009          Male             0.070758\n",
              "30526           Male             0.070758\n",
              "117872          Male             0.070758\n",
              "90866           Male             0.070758\n",
              "40786           Male             0.070758\n",
              "13964           Male             0.070758\n",
              "7076          Female             0.100146\n",
              "17169           Male             0.070758\n",
              "64245           Male             0.070758"
            ],
            "text/html": [
              "\n",
              "  <div id=\"df-029a368e-7d8d-429b-b25d-f9e1b76a572e\">\n",
              "    <div class=\"colab-df-container\">\n",
              "      <div>\n",
              "<style scoped>\n",
              "    .dataframe tbody tr th:only-of-type {\n",
              "        vertical-align: middle;\n",
              "    }\n",
              "\n",
              "    .dataframe tbody tr th {\n",
              "        vertical-align: top;\n",
              "    }\n",
              "\n",
              "    .dataframe thead th {\n",
              "        text-align: right;\n",
              "    }\n",
              "</style>\n",
              "<table border=\"1\" class=\"dataframe\">\n",
              "  <thead>\n",
              "    <tr style=\"text-align: right;\">\n",
              "      <th></th>\n",
              "      <th>Client_Gender</th>\n",
              "      <th>Client_Gender_coded</th>\n",
              "    </tr>\n",
              "  </thead>\n",
              "  <tbody>\n",
              "    <tr>\n",
              "      <th>66289</th>\n",
              "      <td>Male</td>\n",
              "      <td>0.070758</td>\n",
              "    </tr>\n",
              "    <tr>\n",
              "      <th>109009</th>\n",
              "      <td>Male</td>\n",
              "      <td>0.070758</td>\n",
              "    </tr>\n",
              "    <tr>\n",
              "      <th>30526</th>\n",
              "      <td>Male</td>\n",
              "      <td>0.070758</td>\n",
              "    </tr>\n",
              "    <tr>\n",
              "      <th>117872</th>\n",
              "      <td>Male</td>\n",
              "      <td>0.070758</td>\n",
              "    </tr>\n",
              "    <tr>\n",
              "      <th>90866</th>\n",
              "      <td>Male</td>\n",
              "      <td>0.070758</td>\n",
              "    </tr>\n",
              "    <tr>\n",
              "      <th>40786</th>\n",
              "      <td>Male</td>\n",
              "      <td>0.070758</td>\n",
              "    </tr>\n",
              "    <tr>\n",
              "      <th>13964</th>\n",
              "      <td>Male</td>\n",
              "      <td>0.070758</td>\n",
              "    </tr>\n",
              "    <tr>\n",
              "      <th>7076</th>\n",
              "      <td>Female</td>\n",
              "      <td>0.100146</td>\n",
              "    </tr>\n",
              "    <tr>\n",
              "      <th>17169</th>\n",
              "      <td>Male</td>\n",
              "      <td>0.070758</td>\n",
              "    </tr>\n",
              "    <tr>\n",
              "      <th>64245</th>\n",
              "      <td>Male</td>\n",
              "      <td>0.070758</td>\n",
              "    </tr>\n",
              "  </tbody>\n",
              "</table>\n",
              "</div>\n",
              "      <button class=\"colab-df-convert\" onclick=\"convertToInteractive('df-029a368e-7d8d-429b-b25d-f9e1b76a572e')\"\n",
              "              title=\"Convert this dataframe to an interactive table.\"\n",
              "              style=\"display:none;\">\n",
              "        \n",
              "  <svg xmlns=\"http://www.w3.org/2000/svg\" height=\"24px\"viewBox=\"0 0 24 24\"\n",
              "       width=\"24px\">\n",
              "    <path d=\"M0 0h24v24H0V0z\" fill=\"none\"/>\n",
              "    <path d=\"M18.56 5.44l.94 2.06.94-2.06 2.06-.94-2.06-.94-.94-2.06-.94 2.06-2.06.94zm-11 1L8.5 8.5l.94-2.06 2.06-.94-2.06-.94L8.5 2.5l-.94 2.06-2.06.94zm10 10l.94 2.06.94-2.06 2.06-.94-2.06-.94-.94-2.06-.94 2.06-2.06.94z\"/><path d=\"M17.41 7.96l-1.37-1.37c-.4-.4-.92-.59-1.43-.59-.52 0-1.04.2-1.43.59L10.3 9.45l-7.72 7.72c-.78.78-.78 2.05 0 2.83L4 21.41c.39.39.9.59 1.41.59.51 0 1.02-.2 1.41-.59l7.78-7.78 2.81-2.81c.8-.78.8-2.07 0-2.86zM5.41 20L4 18.59l7.72-7.72 1.47 1.35L5.41 20z\"/>\n",
              "  </svg>\n",
              "      </button>\n",
              "      \n",
              "  <style>\n",
              "    .colab-df-container {\n",
              "      display:flex;\n",
              "      flex-wrap:wrap;\n",
              "      gap: 12px;\n",
              "    }\n",
              "\n",
              "    .colab-df-convert {\n",
              "      background-color: #E8F0FE;\n",
              "      border: none;\n",
              "      border-radius: 50%;\n",
              "      cursor: pointer;\n",
              "      display: none;\n",
              "      fill: #1967D2;\n",
              "      height: 32px;\n",
              "      padding: 0 0 0 0;\n",
              "      width: 32px;\n",
              "    }\n",
              "\n",
              "    .colab-df-convert:hover {\n",
              "      background-color: #E2EBFA;\n",
              "      box-shadow: 0px 1px 2px rgba(60, 64, 67, 0.3), 0px 1px 3px 1px rgba(60, 64, 67, 0.15);\n",
              "      fill: #174EA6;\n",
              "    }\n",
              "\n",
              "    [theme=dark] .colab-df-convert {\n",
              "      background-color: #3B4455;\n",
              "      fill: #D2E3FC;\n",
              "    }\n",
              "\n",
              "    [theme=dark] .colab-df-convert:hover {\n",
              "      background-color: #434B5C;\n",
              "      box-shadow: 0px 1px 3px 1px rgba(0, 0, 0, 0.15);\n",
              "      filter: drop-shadow(0px 1px 2px rgba(0, 0, 0, 0.3));\n",
              "      fill: #FFFFFF;\n",
              "    }\n",
              "  </style>\n",
              "\n",
              "      <script>\n",
              "        const buttonEl =\n",
              "          document.querySelector('#df-029a368e-7d8d-429b-b25d-f9e1b76a572e button.colab-df-convert');\n",
              "        buttonEl.style.display =\n",
              "          google.colab.kernel.accessAllowed ? 'block' : 'none';\n",
              "\n",
              "        async function convertToInteractive(key) {\n",
              "          const element = document.querySelector('#df-029a368e-7d8d-429b-b25d-f9e1b76a572e');\n",
              "          const dataTable =\n",
              "            await google.colab.kernel.invokeFunction('convertToInteractive',\n",
              "                                                     [key], {});\n",
              "          if (!dataTable) return;\n",
              "\n",
              "          const docLinkHtml = 'Like what you see? Visit the ' +\n",
              "            '<a target=\"_blank\" href=https://colab.research.google.com/notebooks/data_table.ipynb>data table notebook</a>'\n",
              "            + ' to learn more about interactive tables.';\n",
              "          element.innerHTML = '';\n",
              "          dataTable['output_type'] = 'display_data';\n",
              "          await google.colab.output.renderOutput(dataTable, element);\n",
              "          const docLink = document.createElement('div');\n",
              "          docLink.innerHTML = docLinkHtml;\n",
              "          element.appendChild(docLink);\n",
              "        }\n",
              "      </script>\n",
              "    </div>\n",
              "  </div>\n",
              "  "
            ]
          },
          "metadata": {},
          "execution_count": 32
        }
      ]
    },
    {
      "cell_type": "markdown",
      "source": [
        "### Análisis univariado I"
      ],
      "metadata": {
        "id": "DrBewGMvlbPp"
      }
    },
    {
      "cell_type": "code",
      "source": [
        "categorical_features_coded = [x + '_coded' for x in categorical_features]"
      ],
      "metadata": {
        "id": "gK9B0saVFp_B"
      },
      "execution_count": null,
      "outputs": []
    },
    {
      "cell_type": "code",
      "source": [
        "categorical_features_coded"
      ],
      "metadata": {
        "id": "QMSbJ1Hzs4uw"
      },
      "execution_count": null,
      "outputs": []
    },
    {
      "cell_type": "code",
      "source": [
        "univariate = train[numerical_features + categorical_features_coded].describe(percentiles = [0.05, 0.95]).transpose()\n",
        "univariate.reset_index(drop = False, inplace = True)\n",
        "\n",
        "univariate['missing_rate'] = 1 - univariate['count']/len(train)\n",
        "\n",
        "univariate.rename(columns = {'index' : 'feature',\n",
        "                             '5%': 'p5',\n",
        "                             '50%' : 'median',\n",
        "                             '95%': 'p95'}, inplace = True)\n",
        "univariate.head()"
      ],
      "metadata": {
        "colab": {
          "base_uri": "https://localhost:8080/",
          "height": 270
        },
        "id": "tM6ZggqwlgFw",
        "outputId": "b31c2997-65c3-4a3c-bb19-c24fc7f7c738"
      },
      "execution_count": null,
      "outputs": [
        {
          "output_type": "execute_result",
          "data": {
            "text/plain": [
              "                 feature    count          mean            std  min        p5  \\\n",
              "0           Phone_Change  82764.0    963.112066     827.365281  0.0    0.0000   \n",
              "1          Own_House_Age  29326.0     12.214690      12.136193  0.0    1.0000   \n",
              "2  Social_Circle_Default  42004.0      0.116864       0.107001  0.0    0.0082   \n",
              "3            Child_Count  82807.0      0.415895       0.724959  0.0    0.0000   \n",
              "4          Employed_Days  82761.0  67160.180641  138977.268774  0.0  227.0000   \n",
              "\n",
              "      median          p95       max  missing_rate  \n",
              "0   756.0000    2517.0000    4185.0      0.029719  \n",
              "1     9.0000      31.0000      69.0      0.656198  \n",
              "2     0.0876       0.3216       1.0      0.507567  \n",
              "3     0.0000       2.0000      19.0      0.029215  \n",
              "4  2211.0000  365243.0000  365243.0      0.029754  "
            ],
            "text/html": [
              "\n",
              "  <div id=\"df-f0d2373d-8082-4c46-a1bf-e7e228c419fa\">\n",
              "    <div class=\"colab-df-container\">\n",
              "      <div>\n",
              "<style scoped>\n",
              "    .dataframe tbody tr th:only-of-type {\n",
              "        vertical-align: middle;\n",
              "    }\n",
              "\n",
              "    .dataframe tbody tr th {\n",
              "        vertical-align: top;\n",
              "    }\n",
              "\n",
              "    .dataframe thead th {\n",
              "        text-align: right;\n",
              "    }\n",
              "</style>\n",
              "<table border=\"1\" class=\"dataframe\">\n",
              "  <thead>\n",
              "    <tr style=\"text-align: right;\">\n",
              "      <th></th>\n",
              "      <th>feature</th>\n",
              "      <th>count</th>\n",
              "      <th>mean</th>\n",
              "      <th>std</th>\n",
              "      <th>min</th>\n",
              "      <th>p5</th>\n",
              "      <th>median</th>\n",
              "      <th>p95</th>\n",
              "      <th>max</th>\n",
              "      <th>missing_rate</th>\n",
              "    </tr>\n",
              "  </thead>\n",
              "  <tbody>\n",
              "    <tr>\n",
              "      <th>0</th>\n",
              "      <td>Phone_Change</td>\n",
              "      <td>82764.0</td>\n",
              "      <td>963.112066</td>\n",
              "      <td>827.365281</td>\n",
              "      <td>0.0</td>\n",
              "      <td>0.0000</td>\n",
              "      <td>756.0000</td>\n",
              "      <td>2517.0000</td>\n",
              "      <td>4185.0</td>\n",
              "      <td>0.029719</td>\n",
              "    </tr>\n",
              "    <tr>\n",
              "      <th>1</th>\n",
              "      <td>Own_House_Age</td>\n",
              "      <td>29326.0</td>\n",
              "      <td>12.214690</td>\n",
              "      <td>12.136193</td>\n",
              "      <td>0.0</td>\n",
              "      <td>1.0000</td>\n",
              "      <td>9.0000</td>\n",
              "      <td>31.0000</td>\n",
              "      <td>69.0</td>\n",
              "      <td>0.656198</td>\n",
              "    </tr>\n",
              "    <tr>\n",
              "      <th>2</th>\n",
              "      <td>Social_Circle_Default</td>\n",
              "      <td>42004.0</td>\n",
              "      <td>0.116864</td>\n",
              "      <td>0.107001</td>\n",
              "      <td>0.0</td>\n",
              "      <td>0.0082</td>\n",
              "      <td>0.0876</td>\n",
              "      <td>0.3216</td>\n",
              "      <td>1.0</td>\n",
              "      <td>0.507567</td>\n",
              "    </tr>\n",
              "    <tr>\n",
              "      <th>3</th>\n",
              "      <td>Child_Count</td>\n",
              "      <td>82807.0</td>\n",
              "      <td>0.415895</td>\n",
              "      <td>0.724959</td>\n",
              "      <td>0.0</td>\n",
              "      <td>0.0000</td>\n",
              "      <td>0.0000</td>\n",
              "      <td>2.0000</td>\n",
              "      <td>19.0</td>\n",
              "      <td>0.029215</td>\n",
              "    </tr>\n",
              "    <tr>\n",
              "      <th>4</th>\n",
              "      <td>Employed_Days</td>\n",
              "      <td>82761.0</td>\n",
              "      <td>67160.180641</td>\n",
              "      <td>138977.268774</td>\n",
              "      <td>0.0</td>\n",
              "      <td>227.0000</td>\n",
              "      <td>2211.0000</td>\n",
              "      <td>365243.0000</td>\n",
              "      <td>365243.0</td>\n",
              "      <td>0.029754</td>\n",
              "    </tr>\n",
              "  </tbody>\n",
              "</table>\n",
              "</div>\n",
              "      <button class=\"colab-df-convert\" onclick=\"convertToInteractive('df-f0d2373d-8082-4c46-a1bf-e7e228c419fa')\"\n",
              "              title=\"Convert this dataframe to an interactive table.\"\n",
              "              style=\"display:none;\">\n",
              "        \n",
              "  <svg xmlns=\"http://www.w3.org/2000/svg\" height=\"24px\"viewBox=\"0 0 24 24\"\n",
              "       width=\"24px\">\n",
              "    <path d=\"M0 0h24v24H0V0z\" fill=\"none\"/>\n",
              "    <path d=\"M18.56 5.44l.94 2.06.94-2.06 2.06-.94-2.06-.94-.94-2.06-.94 2.06-2.06.94zm-11 1L8.5 8.5l.94-2.06 2.06-.94-2.06-.94L8.5 2.5l-.94 2.06-2.06.94zm10 10l.94 2.06.94-2.06 2.06-.94-2.06-.94-.94-2.06-.94 2.06-2.06.94z\"/><path d=\"M17.41 7.96l-1.37-1.37c-.4-.4-.92-.59-1.43-.59-.52 0-1.04.2-1.43.59L10.3 9.45l-7.72 7.72c-.78.78-.78 2.05 0 2.83L4 21.41c.39.39.9.59 1.41.59.51 0 1.02-.2 1.41-.59l7.78-7.78 2.81-2.81c.8-.78.8-2.07 0-2.86zM5.41 20L4 18.59l7.72-7.72 1.47 1.35L5.41 20z\"/>\n",
              "  </svg>\n",
              "      </button>\n",
              "      \n",
              "  <style>\n",
              "    .colab-df-container {\n",
              "      display:flex;\n",
              "      flex-wrap:wrap;\n",
              "      gap: 12px;\n",
              "    }\n",
              "\n",
              "    .colab-df-convert {\n",
              "      background-color: #E8F0FE;\n",
              "      border: none;\n",
              "      border-radius: 50%;\n",
              "      cursor: pointer;\n",
              "      display: none;\n",
              "      fill: #1967D2;\n",
              "      height: 32px;\n",
              "      padding: 0 0 0 0;\n",
              "      width: 32px;\n",
              "    }\n",
              "\n",
              "    .colab-df-convert:hover {\n",
              "      background-color: #E2EBFA;\n",
              "      box-shadow: 0px 1px 2px rgba(60, 64, 67, 0.3), 0px 1px 3px 1px rgba(60, 64, 67, 0.15);\n",
              "      fill: #174EA6;\n",
              "    }\n",
              "\n",
              "    [theme=dark] .colab-df-convert {\n",
              "      background-color: #3B4455;\n",
              "      fill: #D2E3FC;\n",
              "    }\n",
              "\n",
              "    [theme=dark] .colab-df-convert:hover {\n",
              "      background-color: #434B5C;\n",
              "      box-shadow: 0px 1px 3px 1px rgba(0, 0, 0, 0.15);\n",
              "      filter: drop-shadow(0px 1px 2px rgba(0, 0, 0, 0.3));\n",
              "      fill: #FFFFFF;\n",
              "    }\n",
              "  </style>\n",
              "\n",
              "      <script>\n",
              "        const buttonEl =\n",
              "          document.querySelector('#df-f0d2373d-8082-4c46-a1bf-e7e228c419fa button.colab-df-convert');\n",
              "        buttonEl.style.display =\n",
              "          google.colab.kernel.accessAllowed ? 'block' : 'none';\n",
              "\n",
              "        async function convertToInteractive(key) {\n",
              "          const element = document.querySelector('#df-f0d2373d-8082-4c46-a1bf-e7e228c419fa');\n",
              "          const dataTable =\n",
              "            await google.colab.kernel.invokeFunction('convertToInteractive',\n",
              "                                                     [key], {});\n",
              "          if (!dataTable) return;\n",
              "\n",
              "          const docLinkHtml = 'Like what you see? Visit the ' +\n",
              "            '<a target=\"_blank\" href=https://colab.research.google.com/notebooks/data_table.ipynb>data table notebook</a>'\n",
              "            + ' to learn more about interactive tables.';\n",
              "          element.innerHTML = '';\n",
              "          dataTable['output_type'] = 'display_data';\n",
              "          await google.colab.output.renderOutput(dataTable, element);\n",
              "          const docLink = document.createElement('div');\n",
              "          docLink.innerHTML = docLinkHtml;\n",
              "          element.appendChild(docLink);\n",
              "        }\n",
              "      </script>\n",
              "    </div>\n",
              "  </div>\n",
              "  "
            ]
          },
          "metadata": {},
          "execution_count": 39
        }
      ]
    },
    {
      "cell_type": "code",
      "source": [
        "# Tratamiento de outliers por percentiles\n",
        "\n",
        "for col in univariate.feature.tolist():\n",
        "  desc = univariate.loc[univariate.feature == col]\n",
        "\n",
        "  lower_limit = desc.p5.values[0]\n",
        "  upper_limit = desc.p95.values[0]\n",
        "\n",
        "  train[col + '_t'] = train[col].apply(lambda x: lower_limit if x <= lower_limit else\n",
        "                                                    upper_limit if x >= upper_limit else\n",
        "                                                    x)\n",
        "\n",
        "  test[col + '_t'] = test[col].apply(lambda x: lower_limit if x <= lower_limit else\n",
        "                                               upper_limit if x >= upper_limit else\n",
        "                                               x)"
      ],
      "metadata": {
        "id": "zTPciol5meEr"
      },
      "execution_count": null,
      "outputs": []
    },
    {
      "cell_type": "code",
      "source": [
        "univariate.feature.tolist()"
      ],
      "metadata": {
        "id": "A_gvdqvjvRao",
        "outputId": "10c42555-bd39-4b65-92fe-614669b5c781",
        "colab": {
          "base_uri": "https://localhost:8080/"
        }
      },
      "execution_count": null,
      "outputs": [
        {
          "output_type": "execute_result",
          "data": {
            "text/plain": [
              "['Phone_Change',\n",
              " 'Own_House_Age',\n",
              " 'Social_Circle_Default',\n",
              " 'Child_Count',\n",
              " 'Employed_Days',\n",
              " 'Cleint_City_Rating',\n",
              " 'Population_Region_Relative',\n",
              " 'Credit_Amount',\n",
              " 'Score_Source_1',\n",
              " 'Loan_Annuity',\n",
              " 'Client_Family_Members',\n",
              " 'Registration_Days',\n",
              " 'Score_Source_3',\n",
              " 'Age_Days',\n",
              " 'Application_Process_Day',\n",
              " 'Application_Process_Hour',\n",
              " 'Client_Income',\n",
              " 'Score_Source_2',\n",
              " 'Credit_Bureau',\n",
              " 'Accompany_Client_coded',\n",
              " 'Client_Income_Type_coded',\n",
              " 'Client_Education_coded',\n",
              " 'Client_Marital_Status_coded',\n",
              " 'Client_Gender_coded',\n",
              " 'Loan_Contract_Type_coded',\n",
              " 'Client_Housing_Type_coded',\n",
              " 'Client_Occupation_coded',\n",
              " 'Client_Permanent_Match_Tag_coded',\n",
              " 'Client_Contact_Work_Tag_coded',\n",
              " 'Type_Organization_coded',\n",
              " 'Car_Owned_coded',\n",
              " 'Bike_Owned_coded',\n",
              " 'Active_Loan_coded',\n",
              " 'House_Own_coded',\n",
              " 'Mobile_Tag_coded',\n",
              " 'Homephone_Tag_coded',\n",
              " 'Workphone_Working_coded']"
            ]
          },
          "metadata": {},
          "execution_count": 48
        }
      ]
    },
    {
      "cell_type": "code",
      "source": [
        "sns.boxplot(x = train.Client_Income)"
      ],
      "metadata": {
        "id": "DoH3C2-MwpoR",
        "outputId": "207e218d-360e-4291-f8f9-10fa048a9d95",
        "colab": {
          "base_uri": "https://localhost:8080/",
          "height": 467
        }
      },
      "execution_count": null,
      "outputs": [
        {
          "output_type": "execute_result",
          "data": {
            "text/plain": [
              "<Axes: xlabel='Client_Income'>"
            ]
          },
          "metadata": {},
          "execution_count": 50
        },
        {
          "output_type": "display_data",
          "data": {
            "text/plain": [
              "<Figure size 640x480 with 1 Axes>"
            ],
            "image/png": "[encoded data removed]"
          },
          "metadata": {}
        }
      ]
    },
    {
      "cell_type": "code",
      "source": [
        "sns.displot(x = train.Client_Income)"
      ],
      "metadata": {
        "id": "sAOrUZo-vMjP",
        "outputId": "7cd773c7-5676-4582-94f6-8235829c0f06",
        "colab": {
          "base_uri": "https://localhost:8080/",
          "height": 523
        }
      },
      "execution_count": null,
      "outputs": [
        {
          "output_type": "execute_result",
          "data": {
            "text/plain": [
              "<seaborn.axisgrid.FacetGrid at 0x7f6a8dd85060>"
            ]
          },
          "metadata": {},
          "execution_count": 49
        },
        {
          "output_type": "display_data",
          "data": {
            "text/plain": [
              "<Figure size 500x500 with 1 Axes>"
            ],
            "image/png": "[encoded data removed]"
          },
          "metadata": {}
        }
      ]
    },
    {
      "cell_type": "code",
      "source": [
        "sns.displot(x = train.Client_Income_t, bins = 4)"
      ],
      "metadata": {
        "id": "O-aBRqhbvfsF",
        "outputId": "a62b2169-48d1-434d-c593-e318199063ac",
        "colab": {
          "base_uri": "https://localhost:8080/",
          "height": 523
        }
      },
      "execution_count": null,
      "outputs": [
        {
          "output_type": "execute_result",
          "data": {
            "text/plain": [
              "<seaborn.axisgrid.FacetGrid at 0x7f6a84b62e30>"
            ]
          },
          "metadata": {},
          "execution_count": 54
        },
        {
          "output_type": "display_data",
          "data": {
            "text/plain": [
              "<Figure size 500x500 with 1 Axes>"
            ],
            "image/png": "[encoded data removed]"
          },
          "metadata": {}
        }
      ]
    },
    {
      "cell_type": "code",
      "source": [
        "sns.boxplot(x = train.Client_Income_t)"
      ],
      "metadata": {
        "id": "CdUATChZw-uL",
        "outputId": "7c6e6822-f605-435b-c21f-f86c143eeb32",
        "colab": {
          "base_uri": "https://localhost:8080/",
          "height": 467
        }
      },
      "execution_count": null,
      "outputs": [
        {
          "output_type": "execute_result",
          "data": {
            "text/plain": [
              "<Axes: xlabel='Client_Income_t'>"
            ]
          },
          "metadata": {},
          "execution_count": 52
        },
        {
          "output_type": "display_data",
          "data": {
            "text/plain": [
              "<Figure size 640x480 with 1 Axes>"
            ],
            "image/png": "[encoded data removed]"
          },
          "metadata": {}
        }
      ]
    },
    {
      "cell_type": "code",
      "source": [
        "univariate.head()"
      ],
      "metadata": {
        "colab": {
          "base_uri": "https://localhost:8080/",
          "height": 206
        },
        "id": "Om-ASId409cF",
        "outputId": "9a690683-af3f-4412-f466-60e1162d240f"
      },
      "execution_count": null,
      "outputs": [
        {
          "output_type": "execute_result",
          "data": {
            "text/plain": [
              "                   feature    count          mean          std          min  \\\n",
              "0  Application_Process_Day  83605.0      3.162801     1.758039     0.000000   \n",
              "1        Registration_Days  82748.0   4980.901146  3517.494509     0.000000   \n",
              "2           Score_Source_2  81359.0      0.518766     0.723443     0.000005   \n",
              "3              Child_Count  82807.0      0.415895     0.724959     0.000000   \n",
              "4                 Age_Days  82785.0  16030.353482  4367.969719  7676.000000   \n",
              "\n",
              "            p5       median           p95      max  missing_rate  \n",
              "0     0.000000      3.00000      6.000000      6.0      0.019860  \n",
              "1   331.000000   4496.00000  11365.000000  23738.0      0.029907  \n",
              "2     0.131249      0.56544      0.748064    100.0      0.046190  \n",
              "3     0.000000      0.00000      2.000000     19.0      0.029215  \n",
              "4  9416.000000  15736.00000  23204.000000  25201.0      0.029473  "
            ],
            "text/html": [
              "\n",
              "  <div id=\"df-2151b757-309c-4154-8346-8e15370f487e\">\n",
              "    <div class=\"colab-df-container\">\n",
              "      <div>\n",
              "<style scoped>\n",
              "    .dataframe tbody tr th:only-of-type {\n",
              "        vertical-align: middle;\n",
              "    }\n",
              "\n",
              "    .dataframe tbody tr th {\n",
              "        vertical-align: top;\n",
              "    }\n",
              "\n",
              "    .dataframe thead th {\n",
              "        text-align: right;\n",
              "    }\n",
              "</style>\n",
              "<table border=\"1\" class=\"dataframe\">\n",
              "  <thead>\n",
              "    <tr style=\"text-align: right;\">\n",
              "      <th></th>\n",
              "      <th>feature</th>\n",
              "      <th>count</th>\n",
              "      <th>mean</th>\n",
              "      <th>std</th>\n",
              "      <th>min</th>\n",
              "      <th>p5</th>\n",
              "      <th>median</th>\n",
              "      <th>p95</th>\n",
              "      <th>max</th>\n",
              "      <th>missing_rate</th>\n",
              "    </tr>\n",
              "  </thead>\n",
              "  <tbody>\n",
              "    <tr>\n",
              "      <th>0</th>\n",
              "      <td>Application_Process_Day</td>\n",
              "      <td>83605.0</td>\n",
              "      <td>3.162801</td>\n",
              "      <td>1.758039</td>\n",
              "      <td>0.000000</td>\n",
              "      <td>0.000000</td>\n",
              "      <td>3.00000</td>\n",
              "      <td>6.000000</td>\n",
              "      <td>6.0</td>\n",
              "      <td>0.019860</td>\n",
              "    </tr>\n",
              "    <tr>\n",
              "      <th>1</th>\n",
              "      <td>Registration_Days</td>\n",
              "      <td>82748.0</td>\n",
              "      <td>4980.901146</td>\n",
              "      <td>3517.494509</td>\n",
              "      <td>0.000000</td>\n",
              "      <td>331.000000</td>\n",
              "      <td>4496.00000</td>\n",
              "      <td>11365.000000</td>\n",
              "      <td>23738.0</td>\n",
              "      <td>0.029907</td>\n",
              "    </tr>\n",
              "    <tr>\n",
              "      <th>2</th>\n",
              "      <td>Score_Source_2</td>\n",
              "      <td>81359.0</td>\n",
              "      <td>0.518766</td>\n",
              "      <td>0.723443</td>\n",
              "      <td>0.000005</td>\n",
              "      <td>0.131249</td>\n",
              "      <td>0.56544</td>\n",
              "      <td>0.748064</td>\n",
              "      <td>100.0</td>\n",
              "      <td>0.046190</td>\n",
              "    </tr>\n",
              "    <tr>\n",
              "      <th>3</th>\n",
              "      <td>Child_Count</td>\n",
              "      <td>82807.0</td>\n",
              "      <td>0.415895</td>\n",
              "      <td>0.724959</td>\n",
              "      <td>0.000000</td>\n",
              "      <td>0.000000</td>\n",
              "      <td>0.00000</td>\n",
              "      <td>2.000000</td>\n",
              "      <td>19.0</td>\n",
              "      <td>0.029215</td>\n",
              "    </tr>\n",
              "    <tr>\n",
              "      <th>4</th>\n",
              "      <td>Age_Days</td>\n",
              "      <td>82785.0</td>\n",
              "      <td>16030.353482</td>\n",
              "      <td>4367.969719</td>\n",
              "      <td>7676.000000</td>\n",
              "      <td>9416.000000</td>\n",
              "      <td>15736.00000</td>\n",
              "      <td>23204.000000</td>\n",
              "      <td>25201.0</td>\n",
              "      <td>0.029473</td>\n",
              "    </tr>\n",
              "  </tbody>\n",
              "</table>\n",
              "</div>\n",
              "      <button class=\"colab-df-convert\" onclick=\"convertToInteractive('df-2151b757-309c-4154-8346-8e15370f487e')\"\n",
              "              title=\"Convert this dataframe to an interactive table.\"\n",
              "              style=\"display:none;\">\n",
              "        \n",
              "  <svg xmlns=\"http://www.w3.org/2000/svg\" height=\"24px\"viewBox=\"0 0 24 24\"\n",
              "       width=\"24px\">\n",
              "    <path d=\"M0 0h24v24H0V0z\" fill=\"none\"/>\n",
              "    <path d=\"M18.56 5.44l.94 2.06.94-2.06 2.06-.94-2.06-.94-.94-2.06-.94 2.06-2.06.94zm-11 1L8.5 8.5l.94-2.06 2.06-.94-2.06-.94L8.5 2.5l-.94 2.06-2.06.94zm10 10l.94 2.06.94-2.06 2.06-.94-2.06-.94-.94-2.06-.94 2.06-2.06.94z\"/><path d=\"M17.41 7.96l-1.37-1.37c-.4-.4-.92-.59-1.43-.59-.52 0-1.04.2-1.43.59L10.3 9.45l-7.72 7.72c-.78.78-.78 2.05 0 2.83L4 21.41c.39.39.9.59 1.41.59.51 0 1.02-.2 1.41-.59l7.78-7.78 2.81-2.81c.8-.78.8-2.07 0-2.86zM5.41 20L4 18.59l7.72-7.72 1.47 1.35L5.41 20z\"/>\n",
              "  </svg>\n",
              "      </button>\n",
              "      \n",
              "  <style>\n",
              "    .colab-df-container {\n",
              "      display:flex;\n",
              "      flex-wrap:wrap;\n",
              "      gap: 12px;\n",
              "    }\n",
              "\n",
              "    .colab-df-convert {\n",
              "      background-color: #E8F0FE;\n",
              "      border: none;\n",
              "      border-radius: 50%;\n",
              "      cursor: pointer;\n",
              "      display: none;\n",
              "      fill: #1967D2;\n",
              "      height: 32px;\n",
              "      padding: 0 0 0 0;\n",
              "      width: 32px;\n",
              "    }\n",
              "\n",
              "    .colab-df-convert:hover {\n",
              "      background-color: #E2EBFA;\n",
              "      box-shadow: 0px 1px 2px rgba(60, 64, 67, 0.3), 0px 1px 3px 1px rgba(60, 64, 67, 0.15);\n",
              "      fill: #174EA6;\n",
              "    }\n",
              "\n",
              "    [theme=dark] .colab-df-convert {\n",
              "      background-color: #3B4455;\n",
              "      fill: #D2E3FC;\n",
              "    }\n",
              "\n",
              "    [theme=dark] .colab-df-convert:hover {\n",
              "      background-color: #434B5C;\n",
              "      box-shadow: 0px 1px 3px 1px rgba(0, 0, 0, 0.15);\n",
              "      filter: drop-shadow(0px 1px 2px rgba(0, 0, 0, 0.3));\n",
              "      fill: #FFFFFF;\n",
              "    }\n",
              "  </style>\n",
              "\n",
              "      <script>\n",
              "        const buttonEl =\n",
              "          document.querySelector('#df-2151b757-309c-4154-8346-8e15370f487e button.colab-df-convert');\n",
              "        buttonEl.style.display =\n",
              "          google.colab.kernel.accessAllowed ? 'block' : 'none';\n",
              "\n",
              "        async function convertToInteractive(key) {\n",
              "          const element = document.querySelector('#df-2151b757-309c-4154-8346-8e15370f487e');\n",
              "          const dataTable =\n",
              "            await google.colab.kernel.invokeFunction('convertToInteractive',\n",
              "                                                     [key], {});\n",
              "          if (!dataTable) return;\n",
              "\n",
              "          const docLinkHtml = 'Like what you see? Visit the ' +\n",
              "            '<a target=\"_blank\" href=https://colab.research.google.com/notebooks/data_table.ipynb>data table notebook</a>'\n",
              "            + ' to learn more about interactive tables.';\n",
              "          element.innerHTML = '';\n",
              "          dataTable['output_type'] = 'display_data';\n",
              "          await google.colab.output.renderOutput(dataTable, element);\n",
              "          const docLink = document.createElement('div');\n",
              "          docLink.innerHTML = docLinkHtml;\n",
              "          element.appendChild(docLink);\n",
              "        }\n",
              "      </script>\n",
              "    </div>\n",
              "  </div>\n",
              "  "
            ]
          },
          "metadata": {},
          "execution_count": 432
        }
      ]
    },
    {
      "cell_type": "code",
      "source": [
        "# Discretizar variables\n",
        "from sklearn.preprocessing import KBinsDiscretizer\n",
        "\n",
        "var = 'Age_Days_t'\n",
        "temp = train.copy()\n",
        "temp = temp.fillna(temp.mean())\n",
        "\n",
        "\n",
        "discretizer = KBinsDiscretizer(n_bins = 10,\n",
        "                               encode = 'ordinal',\n",
        "                               strategy = \"uniform\").fit(np.array(temp[var]).reshape(-1, 1))\n",
        "\n",
        "\n"
      ],
      "metadata": {
        "id": "5roOqr_Dxo1v",
        "outputId": "fc92d7dd-f1ab-4e92-9423-1da9d0ff5ced",
        "colab": {
          "base_uri": "https://localhost:8080/"
        }
      },
      "execution_count": null,
      "outputs": [
        {
          "output_type": "stream",
          "name": "stderr",
          "text": [
            "<ipython-input-55-acc1edb62ede>:6: FutureWarning: The default value of numeric_only in DataFrame.mean is deprecated. In a future version, it will default to False. In addition, specifying 'numeric_only=None' is deprecated. Select only valid columns or specify the value of numeric_only to silence this warning.\n",
            "  temp = temp.fillna(temp.mean())\n"
          ]
        }
      ]
    },
    {
      "cell_type": "code",
      "source": [
        "temp[var + '_rango'] = discretizer.transform(np.array(temp[var]).reshape(-1, 1))\n"
      ],
      "metadata": {
        "id": "-oJk8s4Z3v4H",
        "outputId": "52b03fe7-e071-4c6a-a988-edec849cb80b",
        "colab": {
          "base_uri": "https://localhost:8080/"
        }
      },
      "execution_count": null,
      "outputs": [
        {
          "output_type": "stream",
          "name": "stderr",
          "text": [
            "<ipython-input-56-c1fe476b769b>:1: PerformanceWarning: DataFrame is highly fragmented.  This is usually the result of calling `frame.insert` many times, which has poor performance.  Consider joining all columns at once using pd.concat(axis=1) instead. To get a de-fragmented frame, use `newframe = frame.copy()`\n",
            "  temp[var + '_rango'] = discretizer.transform(np.array(temp[var]).reshape(-1, 1))\n"
          ]
        }
      ]
    },
    {
      "cell_type": "code",
      "source": [
        "temp[var + '_rango']"
      ],
      "metadata": {
        "id": "LitKswv_35pU",
        "outputId": "59c55745-7daf-4ac4-e43a-371af97dd473",
        "colab": {
          "base_uri": "https://localhost:8080/"
        }
      },
      "execution_count": null,
      "outputs": [
        {
          "output_type": "execute_result",
          "data": {
            "text/plain": [
              "66289     8.0\n",
              "109009    0.0\n",
              "30526     1.0\n",
              "117872    5.0\n",
              "90866     2.0\n",
              "         ... \n",
              "7611      4.0\n",
              "9256      2.0\n",
              "8612      9.0\n",
              "4291      9.0\n",
              "16809     8.0\n",
              "Name: Age_Days_t_rango, Length: 85299, dtype: float64"
            ]
          },
          "metadata": {},
          "execution_count": 57
        }
      ]
    },
    {
      "cell_type": "code",
      "source": [
        "temp.groupby(var + '_rango').agg({var: 'min'})"
      ],
      "metadata": {
        "id": "u8LHOza24POV"
      },
      "execution_count": null,
      "outputs": []
    },
    {
      "cell_type": "code",
      "source": [
        "temp.groupby(var + '_rango').agg({var: 'max'})"
      ],
      "metadata": {
        "id": "7g5r1-m74jBK"
      },
      "execution_count": null,
      "outputs": []
    },
    {
      "cell_type": "code",
      "source": [
        "# Discretizar variables\n",
        "from sklearn.preprocessing import KBinsDiscretizer\n",
        "\n",
        "var = 'Client_Income_t'\n",
        "temp = train.copy()\n",
        "temp = temp.fillna(temp.mean())\n",
        "discretizer = KBinsDiscretizer(n_bins = 6,\n",
        "                               encode = 'ordinal',\n",
        "                               strategy = \"uniform\").fit(np.array(temp[var]).reshape(-1, 1))\n",
        "\n",
        "temp[var + '_rango'] = discretizer.transform(np.array(temp[var]).reshape(-1, 1))\n",
        "\n",
        "# Interpretación del ratio de evento por tramo de variable numérica\n",
        "sns.lineplot(data = temp.groupby(var + '_rango').agg({'Default': 'mean'}).reset_index(),\n",
        "             x = var + '_rango',\n",
        "             y = 'Default')\n"
      ],
      "metadata": {
        "colab": {
          "base_uri": "https://localhost:8080/",
          "height": 557
        },
        "id": "LwDOxPNUh0_t",
        "outputId": "f596459b-a680-4c23-c7fe-973b9c750396"
      },
      "execution_count": null,
      "outputs": [
        {
          "output_type": "stream",
          "name": "stderr",
          "text": [
            "<ipython-input-67-063d8f4f2188>:6: FutureWarning: The default value of numeric_only in DataFrame.mean is deprecated. In a future version, it will default to False. In addition, specifying 'numeric_only=None' is deprecated. Select only valid columns or specify the value of numeric_only to silence this warning.\n",
            "  temp = temp.fillna(temp.mean())\n",
            "<ipython-input-67-063d8f4f2188>:11: PerformanceWarning: DataFrame is highly fragmented.  This is usually the result of calling `frame.insert` many times, which has poor performance.  Consider joining all columns at once using pd.concat(axis=1) instead. To get a de-fragmented frame, use `newframe = frame.copy()`\n",
            "  temp[var + '_rango'] = discretizer.transform(np.array(temp[var]).reshape(-1, 1))\n"
          ]
        },
        {
          "output_type": "execute_result",
          "data": {
            "text/plain": [
              "<Axes: xlabel='Client_Income_t_rango', ylabel='Default'>"
            ]
          },
          "metadata": {},
          "execution_count": 67
        },
        {
          "output_type": "display_data",
          "data": {
            "text/plain": [
              "<Figure size 640x480 with 1 Axes>"
            ],
            "image/png": "[encoded data removed]"
          },
          "metadata": {}
        }
      ]
    },
    {
      "cell_type": "code",
      "source": [
        "# Interpretación del ratio de evento por tramo de variable numérica\n",
        "sns.lineplot(data = temp.groupby(var + '_rango').agg({'Default': 'mean'}).reset_index(),\n",
        "             x = var + '_rango',\n",
        "             y = 'Default')"
      ],
      "metadata": {
        "id": "ONX9xD2L51W3"
      },
      "execution_count": null,
      "outputs": []
    },
    {
      "cell_type": "markdown",
      "source": [
        "### Tratamiento de missing"
      ],
      "metadata": {
        "id": "DXEbfoTC2cKd"
      }
    },
    {
      "cell_type": "code",
      "source": [
        "train = train.fillna(train.median())\n",
        "test  = test.fillna(train.median())"
      ],
      "metadata": {
        "id": "OeFgDXTcvcUe",
        "colab": {
          "base_uri": "https://localhost:8080/"
        },
        "outputId": "6bf20aca-15ac-4afd-da47-1f60b109db48"
      },
      "execution_count": null,
      "outputs": [
        {
          "output_type": "stream",
          "name": "stderr",
          "text": [
            "<ipython-input-68-b1ef414424de>:1: FutureWarning: The default value of numeric_only in DataFrame.median is deprecated. In a future version, it will default to False. In addition, specifying 'numeric_only=None' is deprecated. Select only valid columns or specify the value of numeric_only to silence this warning.\n",
            "  train = train.fillna(train.median())\n",
            "<ipython-input-68-b1ef414424de>:2: FutureWarning: The default value of numeric_only in DataFrame.median is deprecated. In a future version, it will default to False. In addition, specifying 'numeric_only=None' is deprecated. Select only valid columns or specify the value of numeric_only to silence this warning.\n",
            "  test  = test.fillna(train.median())\n"
          ]
        }
      ]
    },
    {
      "cell_type": "markdown",
      "source": [
        "### Pre-selección de variables"
      ],
      "metadata": {
        "id": "p8S3R5wq5M2f"
      }
    },
    {
      "cell_type": "code",
      "source": [
        "from sklearn.metrics import roc_auc_score\n",
        "\n",
        "dfgini = pd.DataFrame({'feature': numerical_features + categorical_features_coded,\n",
        "                       'gini': [roc_auc_score(train.Default, train[col])*2-1 for col in numerical_features + categorical_features_coded]})\n",
        "\n",
        "dfgini['gini_abs'] = dfgini.gini.apply(lambda x: abs(x))\n",
        "\n",
        "dfgini.sort_values(by = 'gini_abs', ascending = False)\n"
      ],
      "metadata": {
        "id": "fdNEGD6D4cnr"
      },
      "execution_count": null,
      "outputs": []
    },
    {
      "cell_type": "code",
      "source": [
        "univariate_II = pd.merge(univariate, dfgini, on = 'feature', how = 'left')\n",
        "univariate_II.sort_values(by = 'gini_abs', ascending = False)\n"
      ],
      "metadata": {
        "id": "8tsVjeXq5WNJ"
      },
      "execution_count": null,
      "outputs": []
    },
    {
      "cell_type": "code",
      "source": [
        "# Aca podemos definir los criterios para seleccionar variables\n",
        "\n",
        "print('initial features: ' + str(len(univariate_II)))\n",
        "print('selected features: ' + str(len(univariate_II.loc[(univariate_II.gini_abs >= 0.05) & (univariate_II.missing_rate <= 0.50)])))\n",
        "final_features = univariate_II.loc[(univariate_II.gini_abs >= 0.05) & (univariate_II.missing_rate <= 0.50)].feature.tolist()"
      ],
      "metadata": {
        "colab": {
          "base_uri": "https://localhost:8080/"
        },
        "id": "yoOLi1OoG2Gt",
        "outputId": "fe4ac991-ff42-44a2-fa45-f4b378f0b779"
      },
      "execution_count": null,
      "outputs": [
        {
          "output_type": "stream",
          "name": "stdout",
          "text": [
            "initial features: 37\n",
            "selected features: 13\n"
          ]
        }
      ]
    },
    {
      "cell_type": "markdown",
      "source": [
        "### Estandarización"
      ],
      "metadata": {
        "id": "kqCmlL8VH17N"
      }
    },
    {
      "cell_type": "code",
      "source": [
        "train[[x + '_std' for x in final_features]] = (train[final_features] - train[final_features].mean())/train[final_features].std()\n",
        "test[[x + '_std' for x in final_features]] = (test[final_features] - train[final_features].mean())/train[final_features].std()"
      ],
      "metadata": {
        "id": "HfydHFT-H5qt"
      },
      "execution_count": null,
      "outputs": []
    },
    {
      "cell_type": "markdown",
      "source": [
        "## Regresión logística"
      ],
      "metadata": {
        "id": "KjvhioorJIlI"
      }
    },
    {
      "cell_type": "code",
      "source": [
        "import statsmodels.api as sm\n",
        "\n",
        "# Fit and summarize OLS model\n",
        "mod = sm.Logit(train.Default,\n",
        "               sm.add_constant(train[[x + '_std' for x in final_features]]))\n",
        "res = mod.fit()\n",
        "print(res.summary())\n"
      ],
      "metadata": {
        "colab": {
          "base_uri": "https://localhost:8080/"
        },
        "id": "8AzowK2eJMM9",
        "outputId": "582b4263-49b9-446a-b548-d3a518998148"
      },
      "execution_count": null,
      "outputs": [
        {
          "output_type": "stream",
          "name": "stdout",
          "text": [
            "Optimization terminated successfully.\n",
            "         Current function value: 0.255905\n",
            "         Iterations 10\n",
            "                           Logit Regression Results                           \n",
            "==============================================================================\n",
            "Dep. Variable:                Default   No. Observations:                85299\n",
            "Model:                          Logit   Df Residuals:                    85285\n",
            "Method:                           MLE   Df Model:                           13\n",
            "Date:                Sat, 08 Jul 2023   Pseudo R-squ.:                 0.08829\n",
            "Time:                        14:48:23   Log-Likelihood:                -21828.\n",
            "converged:                       True   LL-Null:                       -23942.\n",
            "Covariance Type:            nonrobust   LLR p-value:                     0.000\n",
            "==================================================================================================\n",
            "                                     coef    std err          z      P>|z|      [0.025      0.975]\n",
            "--------------------------------------------------------------------------------------------------\n",
            "const                             -2.7164      0.016   -171.381      0.000      -2.747      -2.685\n",
            "Phone_Change_std                  -0.0855      0.014     -5.987      0.000      -0.113      -0.058\n",
            "Employed_Days_std                  0.0655      0.025      2.646      0.008       0.017       0.114\n",
            "Cleint_City_Rating_std             0.0842      0.015      5.652      0.000       0.055       0.113\n",
            "Population_Region_Relative_std    -0.3031      0.585     -0.518      0.604      -1.449       0.843\n",
            "Registration_Days_std             -0.0320      0.014     -2.225      0.026      -0.060      -0.004\n",
            "Score_Source_3_std                -0.4568      0.012    -37.163      0.000      -0.481      -0.433\n",
            "Age_Days_std                      -0.0943      0.017     -5.609      0.000      -0.127      -0.061\n",
            "Score_Source_2_std                -1.4677      0.047    -31.035      0.000      -1.560      -1.375\n",
            "Client_Income_Type_coded_std       0.0400      0.021      1.906      0.057      -0.001       0.081\n",
            "Client_Education_coded_std         0.1985      0.016     12.602      0.000       0.168       0.229\n",
            "Client_Gender_coded_std            0.1040      0.013      7.915      0.000       0.078       0.130\n",
            "Client_Occupation_coded_std        0.0987      0.014      7.054      0.000       0.071       0.126\n",
            "Type_Organization_coded_std        0.1700      0.015     11.069      0.000       0.140       0.200\n",
            "==================================================================================================\n"
          ]
        }
      ]
    },
    {
      "cell_type": "code",
      "source": [
        "features = [x + '_std' for x in final_features]\n",
        "features.remove('Population_Region_Relative_std')\n",
        "\n",
        "mod = sm.Logit(train.Default, sm.add_constant(train[features]))\n",
        "res = mod.fit()\n",
        "print(res.summary())"
      ],
      "metadata": {
        "colab": {
          "base_uri": "https://localhost:8080/"
        },
        "id": "j6k3PUwXJqfG",
        "outputId": "3c923605-5697-4214-bb05-cb3b8e278c0e"
      },
      "execution_count": null,
      "outputs": [
        {
          "output_type": "stream",
          "name": "stdout",
          "text": [
            "Optimization terminated successfully.\n",
            "         Current function value: 0.255908\n",
            "         Iterations 7\n",
            "                           Logit Regression Results                           \n",
            "==============================================================================\n",
            "Dep. Variable:                Default   No. Observations:                85299\n",
            "Model:                          Logit   Df Residuals:                    85286\n",
            "Method:                           MLE   Df Model:                           12\n",
            "Date:                Sat, 08 Jul 2023   Pseudo R-squ.:                 0.08828\n",
            "Time:                        14:48:39   Log-Likelihood:                -21829.\n",
            "converged:                       True   LL-Null:                       -23942.\n",
            "Covariance Type:            nonrobust   LLR p-value:                     0.000\n",
            "================================================================================================\n",
            "                                   coef    std err          z      P>|z|      [0.025      0.975]\n",
            "------------------------------------------------------------------------------------------------\n",
            "const                           -2.7148      0.016   -174.730      0.000      -2.745      -2.684\n",
            "Phone_Change_std                -0.0857      0.014     -6.000      0.000      -0.114      -0.058\n",
            "Employed_Days_std                0.0657      0.025      2.653      0.008       0.017       0.114\n",
            "Cleint_City_Rating_std           0.0874      0.014      6.464      0.000       0.061       0.114\n",
            "Registration_Days_std           -0.0320      0.014     -2.223      0.026      -0.060      -0.004\n",
            "Score_Source_3_std              -0.4567      0.012    -37.161      0.000      -0.481      -0.433\n",
            "Age_Days_std                    -0.0946      0.017     -5.626      0.000      -0.128      -0.062\n",
            "Score_Source_2_std              -1.4690      0.047    -31.107      0.000      -1.562      -1.376\n",
            "Client_Income_Type_coded_std     0.0403      0.021      1.923      0.055      -0.001       0.081\n",
            "Client_Education_coded_std       0.1988      0.016     12.618      0.000       0.168       0.230\n",
            "Client_Gender_coded_std          0.1039      0.013      7.909      0.000       0.078       0.130\n",
            "Client_Occupation_coded_std      0.0988      0.014      7.064      0.000       0.071       0.126\n",
            "Type_Organization_coded_std      0.1699      0.015     11.062      0.000       0.140       0.200\n",
            "================================================================================================\n"
          ]
        }
      ]
    },
    {
      "cell_type": "code",
      "source": [
        "features.remove('Client_Income_Type_coded_std')\n",
        "mod = sm.Logit(train.Default, sm.add_constant(train[features]))\n",
        "res = mod.fit()\n",
        "print(res.summary())"
      ],
      "metadata": {
        "colab": {
          "base_uri": "https://localhost:8080/"
        },
        "id": "s2qZA0_6KOek",
        "outputId": "730a319f-c1be-4bc2-c7d8-015b84c89bfb"
      },
      "execution_count": null,
      "outputs": [
        {
          "output_type": "stream",
          "name": "stdout",
          "text": [
            "Optimization terminated successfully.\n",
            "         Current function value: 0.255930\n",
            "         Iterations 7\n",
            "                           Logit Regression Results                           \n",
            "==============================================================================\n",
            "Dep. Variable:                Default   No. Observations:                85299\n",
            "Model:                          Logit   Df Residuals:                    85287\n",
            "Method:                           MLE   Df Model:                           11\n",
            "Date:                Sat, 08 Jul 2023   Pseudo R-squ.:                 0.08820\n",
            "Time:                        14:48:42   Log-Likelihood:                -21831.\n",
            "converged:                       True   LL-Null:                       -23942.\n",
            "Covariance Type:            nonrobust   LLR p-value:                     0.000\n",
            "===============================================================================================\n",
            "                                  coef    std err          z      P>|z|      [0.025      0.975]\n",
            "-----------------------------------------------------------------------------------------------\n",
            "const                          -2.7143      0.016   -174.785      0.000      -2.745      -2.684\n",
            "Phone_Change_std               -0.0856      0.014     -5.998      0.000      -0.114      -0.058\n",
            "Employed_Days_std               0.0391      0.020      1.911      0.056      -0.001       0.079\n",
            "Cleint_City_Rating_std          0.0888      0.013      6.580      0.000       0.062       0.115\n",
            "Registration_Days_std          -0.0318      0.014     -2.212      0.027      -0.060      -0.004\n",
            "Score_Source_3_std             -0.4568      0.012    -37.172      0.000      -0.481      -0.433\n",
            "Age_Days_std                   -0.0954      0.017     -5.679      0.000      -0.128      -0.062\n",
            "Score_Source_2_std             -1.4711      0.047    -31.160      0.000      -1.564      -1.379\n",
            "Client_Education_coded_std      0.2008      0.016     12.778      0.000       0.170       0.232\n",
            "Client_Gender_coded_std         0.1037      0.013      7.898      0.000       0.078       0.129\n",
            "Client_Occupation_coded_std     0.1018      0.014      7.325      0.000       0.075       0.129\n",
            "Type_Organization_coded_std     0.1745      0.015     11.502      0.000       0.145       0.204\n",
            "===============================================================================================\n"
          ]
        }
      ]
    },
    {
      "cell_type": "code",
      "source": [
        "features.remove('Employed_Days_std')\n",
        "mod = sm.Logit(train.Default, sm.add_constant(train[features]))\n",
        "res = mod.fit()\n",
        "print(res.summary())"
      ],
      "metadata": {
        "colab": {
          "base_uri": "https://localhost:8080/"
        },
        "id": "32xi1nAeKT4h",
        "outputId": "41577f6f-54a9-488f-a699-b7c32d393498"
      },
      "execution_count": null,
      "outputs": [
        {
          "output_type": "stream",
          "name": "stdout",
          "text": [
            "Optimization terminated successfully.\n",
            "         Current function value: 0.255951\n",
            "         Iterations 7\n",
            "                           Logit Regression Results                           \n",
            "==============================================================================\n",
            "Dep. Variable:                Default   No. Observations:                85299\n",
            "Model:                          Logit   Df Residuals:                    85288\n",
            "Method:                           MLE   Df Model:                           10\n",
            "Date:                Sat, 08 Jul 2023   Pseudo R-squ.:                 0.08812\n",
            "Time:                        14:48:45   Log-Likelihood:                -21832.\n",
            "converged:                       True   LL-Null:                       -23942.\n",
            "Covariance Type:            nonrobust   LLR p-value:                     0.000\n",
            "===============================================================================================\n",
            "                                  coef    std err          z      P>|z|      [0.025      0.975]\n",
            "-----------------------------------------------------------------------------------------------\n",
            "const                          -2.7145      0.016   -174.751      0.000      -2.745      -2.684\n",
            "Phone_Change_std               -0.0875      0.014     -6.145      0.000      -0.115      -0.060\n",
            "Cleint_City_Rating_std          0.0892      0.013      6.617      0.000       0.063       0.116\n",
            "Registration_Days_std          -0.0312      0.014     -2.167      0.030      -0.059      -0.003\n",
            "Score_Source_3_std             -0.4562      0.012    -37.153      0.000      -0.480      -0.432\n",
            "Age_Days_std                   -0.0801      0.015     -5.435      0.000      -0.109      -0.051\n",
            "Score_Source_2_std             -1.4773      0.047    -31.365      0.000      -1.570      -1.385\n",
            "Client_Education_coded_std      0.2037      0.016     13.021      0.000       0.173       0.234\n",
            "Client_Gender_coded_std         0.1037      0.013      7.904      0.000       0.078       0.129\n",
            "Client_Occupation_coded_std     0.0969      0.014      7.106      0.000       0.070       0.124\n",
            "Type_Organization_coded_std     0.1638      0.014     11.646      0.000       0.136       0.191\n",
            "===============================================================================================\n"
          ]
        }
      ]
    },
    {
      "cell_type": "markdown",
      "source": [
        "### correlaciones"
      ],
      "metadata": {
        "id": "An18TiTfL1YH"
      }
    },
    {
      "cell_type": "markdown",
      "source": [
        "## Performance"
      ],
      "metadata": {
        "id": "MMUZBoFhLz5y"
      }
    },
    {
      "cell_type": "code",
      "source": [
        "# Usando el modelo para predecir\n",
        "train_II = train.copy()\n",
        "test_II  = test.copy()\n",
        "\n",
        "train_II['probability'] = res.predict(sm.add_constant(train[features]))\n",
        "test_II['probability']  = res.predict(sm.add_constant(test[features]))\n",
        "\n",
        "train_II['prediction'] = train_II['probability'].apply(lambda x: 1 if x > 0.5 else 0)\n",
        "test_II['prediction']  = test_II['probability'].apply(lambda x: 1 if x > 0.5 else 0)\n"
      ],
      "metadata": {
        "id": "TxuMLVF-L5sP"
      },
      "execution_count": null,
      "outputs": []
    },
    {
      "cell_type": "code",
      "source": [
        "test_II"
      ],
      "metadata": {
        "id": "wDO6DFA--0E9",
        "outputId": "4d17bfcf-17dc-480b-b786-ab1080bda851",
        "colab": {
          "base_uri": "https://localhost:8080/",
          "height": 488
        }
      },
      "execution_count": null,
      "outputs": [
        {
          "output_type": "execute_result",
          "data": {
            "text/plain": [
              "              ID  Client_Income Car_Owned Bike_Owned Active_Loan House_Own  \\\n",
              "112057  12160353         9000.0         0          0           0         0   \n",
              "120486  12137081         4500.0         0          0           0         1   \n",
              "52578   12208963        20250.0         1    missing           0   missing   \n",
              "82223   12170373        11250.0         0          0           0         0   \n",
              "8416    12166154        15750.0         0          0           0         1   \n",
              "...          ...            ...       ...        ...         ...       ...   \n",
              "2057    12167599        20250.0         0          0           1         0   \n",
              "89237   12168451        20250.0         0          0           1         1   \n",
              "55061   12114041        27000.0         1          1           1         0   \n",
              "49253   12168409        22950.0         0          1           0         1   \n",
              "103274  12214697        26100.0         0          0           0         1   \n",
              "\n",
              "        Child_Count  Credit_Amount  Loan_Annuity Accompany_Client  ...  \\\n",
              "112057          1.0        15282.0       1524.15            Alone  ...   \n",
              "120486          0.0         4797.0        582.30         Relative  ...   \n",
              "52578           1.0        92725.2       2670.30          Partner  ...   \n",
              "82223           0.0        90000.0       2501.10            Alone  ...   \n",
              "8416            0.0        13950.0       1493.10            Alone  ...   \n",
              "...             ...            ...           ...              ...  ...   \n",
              "2057            0.0        67500.0       1947.60         Relative  ...   \n",
              "89237           0.0       135000.0       3947.40            Alone  ...   \n",
              "55061           0.0        72871.2       1935.00            Alone  ...   \n",
              "49253           0.0        35427.6       1348.65         Relative  ...   \n",
              "103274          0.0        34337.7       1984.05            Alone  ...   \n",
              "\n",
              "       Score_Source_3_std Age_Days_std Score_Source_2_std  \\\n",
              "112057          -0.477399     0.002863           0.112600   \n",
              "120486          -0.889016     1.277202          -0.342039   \n",
              "52578           -0.436099    -0.938716          -0.722951   \n",
              "82223            0.894417    -0.827641          -0.397610   \n",
              "8416             0.117667    -0.413551           0.108028   \n",
              "...                   ...          ...                ...   \n",
              "2057            -0.144055    -1.566358           0.196646   \n",
              "89237            0.117667    -0.950567          -0.444754   \n",
              "55061           -0.446438    -1.465508           0.055900   \n",
              "49253            1.727477     1.539785          -0.378642   \n",
              "103274          -0.405032     1.713368          -0.083358   \n",
              "\n",
              "       Client_Income_Type_coded_std Client_Education_coded_std  \\\n",
              "112057                    -0.183257                   0.598558   \n",
              "120486                    -1.649738                   1.328117   \n",
              "52578                      0.847566                   0.598558   \n",
              "82223                      0.847566                   0.010092   \n",
              "8416                      -0.183257                   0.598558   \n",
              "...                             ...                        ...   \n",
              "2057                      -0.183257                   0.598558   \n",
              "89237                     -0.183257                  -1.734848   \n",
              "55061                     -0.183257                   0.598558   \n",
              "49253                     -1.649738                   0.598558   \n",
              "103274                    -1.649738                   1.328117   \n",
              "\n",
              "       Client_Gender_coded_std  Client_Occupation_coded_std  \\\n",
              "112057               -0.725569                    -0.323491   \n",
              "120486               -0.725569                    -0.642110   \n",
              "52578                 1.400701                     1.128538   \n",
              "82223                 1.400701                    -0.642110   \n",
              "8416                  1.400701                    -0.867656   \n",
              "...                        ...                          ...   \n",
              "2057                 -0.725569                    -0.323491   \n",
              "89237                -0.725569                    -0.642110   \n",
              "55061                 1.400701                     0.847344   \n",
              "49253                -0.725569                    -0.642110   \n",
              "103274                1.400701                    -0.642110   \n",
              "\n",
              "        Type_Organization_coded_std  probability  prediction  \n",
              "112057                     1.140612     0.063527           0  \n",
              "120486                    -1.084285     0.123633           0  \n",
              "52578                      1.140612     0.331402           0  \n",
              "82223                      0.497307     0.095367           0  \n",
              "8416                       0.488143     0.058689           0  \n",
              "...                             ...          ...         ...  \n",
              "2057                       1.140612     0.075383           0  \n",
              "89237                     -0.163863     0.075979           0  \n",
              "55061                      0.488143     0.126983           0  \n",
              "49253                     -1.084285     0.033989           0  \n",
              "103274                    -1.084285     0.086735           0  \n",
              "\n",
              "[36557 rows x 248 columns]"
            ],
            "text/html": [
              "\n",
              "  <div id=\"df-785daa04-9a9a-47e3-850e-f8cfd289b907\">\n",
              "    <div class=\"colab-df-container\">\n",
              "      <div>\n",
              "<style scoped>\n",
              "    .dataframe tbody tr th:only-of-type {\n",
              "        vertical-align: middle;\n",
              "    }\n",
              "\n",
              "    .dataframe tbody tr th {\n",
              "        vertical-align: top;\n",
              "    }\n",
              "\n",
              "    .dataframe thead th {\n",
              "        text-align: right;\n",
              "    }\n",
              "</style>\n",
              "<table border=\"1\" class=\"dataframe\">\n",
              "  <thead>\n",
              "    <tr style=\"text-align: right;\">\n",
              "      <th></th>\n",
              "      <th>ID</th>\n",
              "      <th>Client_Income</th>\n",
              "      <th>Car_Owned</th>\n",
              "      <th>Bike_Owned</th>\n",
              "      <th>Active_Loan</th>\n",
              "      <th>House_Own</th>\n",
              "      <th>Child_Count</th>\n",
              "      <th>Credit_Amount</th>\n",
              "      <th>Loan_Annuity</th>\n",
              "      <th>Accompany_Client</th>\n",
              "      <th>...</th>\n",
              "      <th>Score_Source_3_std</th>\n",
              "      <th>Age_Days_std</th>\n",
              "      <th>Score_Source_2_std</th>\n",
              "      <th>Client_Income_Type_coded_std</th>\n",
              "      <th>Client_Education_coded_std</th>\n",
              "      <th>Client_Gender_coded_std</th>\n",
              "      <th>Client_Occupation_coded_std</th>\n",
              "      <th>Type_Organization_coded_std</th>\n",
              "      <th>probability</th>\n",
              "      <th>prediction</th>\n",
              "    </tr>\n",
              "  </thead>\n",
              "  <tbody>\n",
              "    <tr>\n",
              "      <th>112057</th>\n",
              "      <td>12160353</td>\n",
              "      <td>9000.0</td>\n",
              "      <td>0</td>\n",
              "      <td>0</td>\n",
              "      <td>0</td>\n",
              "      <td>0</td>\n",
              "      <td>1.0</td>\n",
              "      <td>15282.0</td>\n",
              "      <td>1524.15</td>\n",
              "      <td>Alone</td>\n",
              "      <td>...</td>\n",
              "      <td>-0.477399</td>\n",
              "      <td>0.002863</td>\n",
              "      <td>0.112600</td>\n",
              "      <td>-0.183257</td>\n",
              "      <td>0.598558</td>\n",
              "      <td>-0.725569</td>\n",
              "      <td>-0.323491</td>\n",
              "      <td>1.140612</td>\n",
              "      <td>0.063527</td>\n",
              "      <td>0</td>\n",
              "    </tr>\n",
              "    <tr>\n",
              "      <th>120486</th>\n",
              "      <td>12137081</td>\n",
              "      <td>4500.0</td>\n",
              "      <td>0</td>\n",
              "      <td>0</td>\n",
              "      <td>0</td>\n",
              "      <td>1</td>\n",
              "      <td>0.0</td>\n",
              "      <td>4797.0</td>\n",
              "      <td>582.30</td>\n",
              "      <td>Relative</td>\n",
              "      <td>...</td>\n",
              "      <td>-0.889016</td>\n",
              "      <td>1.277202</td>\n",
              "      <td>-0.342039</td>\n",
              "      <td>-1.649738</td>\n",
              "      <td>1.328117</td>\n",
              "      <td>-0.725569</td>\n",
              "      <td>-0.642110</td>\n",
              "      <td>-1.084285</td>\n",
              "      <td>0.123633</td>\n",
              "      <td>0</td>\n",
              "    </tr>\n",
              "    <tr>\n",
              "      <th>52578</th>\n",
              "      <td>12208963</td>\n",
              "      <td>20250.0</td>\n",
              "      <td>1</td>\n",
              "      <td>missing</td>\n",
              "      <td>0</td>\n",
              "      <td>missing</td>\n",
              "      <td>1.0</td>\n",
              "      <td>92725.2</td>\n",
              "      <td>2670.30</td>\n",
              "      <td>Partner</td>\n",
              "      <td>...</td>\n",
              "      <td>-0.436099</td>\n",
              "      <td>-0.938716</td>\n",
              "      <td>-0.722951</td>\n",
              "      <td>0.847566</td>\n",
              "      <td>0.598558</td>\n",
              "      <td>1.400701</td>\n",
              "      <td>1.128538</td>\n",
              "      <td>1.140612</td>\n",
              "      <td>0.331402</td>\n",
              "      <td>0</td>\n",
              "    </tr>\n",
              "    <tr>\n",
              "      <th>82223</th>\n",
              "      <td>12170373</td>\n",
              "      <td>11250.0</td>\n",
              "      <td>0</td>\n",
              "      <td>0</td>\n",
              "      <td>0</td>\n",
              "      <td>0</td>\n",
              "      <td>0.0</td>\n",
              "      <td>90000.0</td>\n",
              "      <td>2501.10</td>\n",
              "      <td>Alone</td>\n",
              "      <td>...</td>\n",
              "      <td>0.894417</td>\n",
              "      <td>-0.827641</td>\n",
              "      <td>-0.397610</td>\n",
              "      <td>0.847566</td>\n",
              "      <td>0.010092</td>\n",
              "      <td>1.400701</td>\n",
              "      <td>-0.642110</td>\n",
              "      <td>0.497307</td>\n",
              "      <td>0.095367</td>\n",
              "      <td>0</td>\n",
              "    </tr>\n",
              "    <tr>\n",
              "      <th>8416</th>\n",
              "      <td>12166154</td>\n",
              "      <td>15750.0</td>\n",
              "      <td>0</td>\n",
              "      <td>0</td>\n",
              "      <td>0</td>\n",
              "      <td>1</td>\n",
              "      <td>0.0</td>\n",
              "      <td>13950.0</td>\n",
              "      <td>1493.10</td>\n",
              "      <td>Alone</td>\n",
              "      <td>...</td>\n",
              "      <td>0.117667</td>\n",
              "      <td>-0.413551</td>\n",
              "      <td>0.108028</td>\n",
              "      <td>-0.183257</td>\n",
              "      <td>0.598558</td>\n",
              "      <td>1.400701</td>\n",
              "      <td>-0.867656</td>\n",
              "      <td>0.488143</td>\n",
              "      <td>0.058689</td>\n",
              "      <td>0</td>\n",
              "    </tr>\n",
              "    <tr>\n",
              "      <th>...</th>\n",
              "      <td>...</td>\n",
              "      <td>...</td>\n",
              "      <td>...</td>\n",
              "      <td>...</td>\n",
              "      <td>...</td>\n",
              "      <td>...</td>\n",
              "      <td>...</td>\n",
              "      <td>...</td>\n",
              "      <td>...</td>\n",
              "      <td>...</td>\n",
              "      <td>...</td>\n",
              "      <td>...</td>\n",
              "      <td>...</td>\n",
              "      <td>...</td>\n",
              "      <td>...</td>\n",
              "      <td>...</td>\n",
              "      <td>...</td>\n",
              "      <td>...</td>\n",
              "      <td>...</td>\n",
              "      <td>...</td>\n",
              "      <td>...</td>\n",
              "    </tr>\n",
              "    <tr>\n",
              "      <th>2057</th>\n",
              "      <td>12167599</td>\n",
              "      <td>20250.0</td>\n",
              "      <td>0</td>\n",
              "      <td>0</td>\n",
              "      <td>1</td>\n",
              "      <td>0</td>\n",
              "      <td>0.0</td>\n",
              "      <td>67500.0</td>\n",
              "      <td>1947.60</td>\n",
              "      <td>Relative</td>\n",
              "      <td>...</td>\n",
              "      <td>-0.144055</td>\n",
              "      <td>-1.566358</td>\n",
              "      <td>0.196646</td>\n",
              "      <td>-0.183257</td>\n",
              "      <td>0.598558</td>\n",
              "      <td>-0.725569</td>\n",
              "      <td>-0.323491</td>\n",
              "      <td>1.140612</td>\n",
              "      <td>0.075383</td>\n",
              "      <td>0</td>\n",
              "    </tr>\n",
              "    <tr>\n",
              "      <th>89237</th>\n",
              "      <td>12168451</td>\n",
              "      <td>20250.0</td>\n",
              "      <td>0</td>\n",
              "      <td>0</td>\n",
              "      <td>1</td>\n",
              "      <td>1</td>\n",
              "      <td>0.0</td>\n",
              "      <td>135000.0</td>\n",
              "      <td>3947.40</td>\n",
              "      <td>Alone</td>\n",
              "      <td>...</td>\n",
              "      <td>0.117667</td>\n",
              "      <td>-0.950567</td>\n",
              "      <td>-0.444754</td>\n",
              "      <td>-0.183257</td>\n",
              "      <td>-1.734848</td>\n",
              "      <td>-0.725569</td>\n",
              "      <td>-0.642110</td>\n",
              "      <td>-0.163863</td>\n",
              "      <td>0.075979</td>\n",
              "      <td>0</td>\n",
              "    </tr>\n",
              "    <tr>\n",
              "      <th>55061</th>\n",
              "      <td>12114041</td>\n",
              "      <td>27000.0</td>\n",
              "      <td>1</td>\n",
              "      <td>1</td>\n",
              "      <td>1</td>\n",
              "      <td>0</td>\n",
              "      <td>0.0</td>\n",
              "      <td>72871.2</td>\n",
              "      <td>1935.00</td>\n",
              "      <td>Alone</td>\n",
              "      <td>...</td>\n",
              "      <td>-0.446438</td>\n",
              "      <td>-1.465508</td>\n",
              "      <td>0.055900</td>\n",
              "      <td>-0.183257</td>\n",
              "      <td>0.598558</td>\n",
              "      <td>1.400701</td>\n",
              "      <td>0.847344</td>\n",
              "      <td>0.488143</td>\n",
              "      <td>0.126983</td>\n",
              "      <td>0</td>\n",
              "    </tr>\n",
              "    <tr>\n",
              "      <th>49253</th>\n",
              "      <td>12168409</td>\n",
              "      <td>22950.0</td>\n",
              "      <td>0</td>\n",
              "      <td>1</td>\n",
              "      <td>0</td>\n",
              "      <td>1</td>\n",
              "      <td>0.0</td>\n",
              "      <td>35427.6</td>\n",
              "      <td>1348.65</td>\n",
              "      <td>Relative</td>\n",
              "      <td>...</td>\n",
              "      <td>1.727477</td>\n",
              "      <td>1.539785</td>\n",
              "      <td>-0.378642</td>\n",
              "      <td>-1.649738</td>\n",
              "      <td>0.598558</td>\n",
              "      <td>-0.725569</td>\n",
              "      <td>-0.642110</td>\n",
              "      <td>-1.084285</td>\n",
              "      <td>0.033989</td>\n",
              "      <td>0</td>\n",
              "    </tr>\n",
              "    <tr>\n",
              "      <th>103274</th>\n",
              "      <td>12214697</td>\n",
              "      <td>26100.0</td>\n",
              "      <td>0</td>\n",
              "      <td>0</td>\n",
              "      <td>0</td>\n",
              "      <td>1</td>\n",
              "      <td>0.0</td>\n",
              "      <td>34337.7</td>\n",
              "      <td>1984.05</td>\n",
              "      <td>Alone</td>\n",
              "      <td>...</td>\n",
              "      <td>-0.405032</td>\n",
              "      <td>1.713368</td>\n",
              "      <td>-0.083358</td>\n",
              "      <td>-1.649738</td>\n",
              "      <td>1.328117</td>\n",
              "      <td>1.400701</td>\n",
              "      <td>-0.642110</td>\n",
              "      <td>-1.084285</td>\n",
              "      <td>0.086735</td>\n",
              "      <td>0</td>\n",
              "    </tr>\n",
              "  </tbody>\n",
              "</table>\n",
              "<p>36557 rows × 248 columns</p>\n",
              "</div>\n",
              "      <button class=\"colab-df-convert\" onclick=\"convertToInteractive('df-785daa04-9a9a-47e3-850e-f8cfd289b907')\"\n",
              "              title=\"Convert this dataframe to an interactive table.\"\n",
              "              style=\"display:none;\">\n",
              "        \n",
              "  <svg xmlns=\"http://www.w3.org/2000/svg\" height=\"24px\"viewBox=\"0 0 24 24\"\n",
              "       width=\"24px\">\n",
              "    <path d=\"M0 0h24v24H0V0z\" fill=\"none\"/>\n",
              "    <path d=\"M18.56 5.44l.94 2.06.94-2.06 2.06-.94-2.06-.94-.94-2.06-.94 2.06-2.06.94zm-11 1L8.5 8.5l.94-2.06 2.06-.94-2.06-.94L8.5 2.5l-.94 2.06-2.06.94zm10 10l.94 2.06.94-2.06 2.06-.94-2.06-.94-.94-2.06-.94 2.06-2.06.94z\"/><path d=\"M17.41 7.96l-1.37-1.37c-.4-.4-.92-.59-1.43-.59-.52 0-1.04.2-1.43.59L10.3 9.45l-7.72 7.72c-.78.78-.78 2.05 0 2.83L4 21.41c.39.39.9.59 1.41.59.51 0 1.02-.2 1.41-.59l7.78-7.78 2.81-2.81c.8-.78.8-2.07 0-2.86zM5.41 20L4 18.59l7.72-7.72 1.47 1.35L5.41 20z\"/>\n",
              "  </svg>\n",
              "      </button>\n",
              "      \n",
              "  <style>\n",
              "    .colab-df-container {\n",
              "      display:flex;\n",
              "      flex-wrap:wrap;\n",
              "      gap: 12px;\n",
              "    }\n",
              "\n",
              "    .colab-df-convert {\n",
              "      background-color: #E8F0FE;\n",
              "      border: none;\n",
              "      border-radius: 50%;\n",
              "      cursor: pointer;\n",
              "      display: none;\n",
              "      fill: #1967D2;\n",
              "      height: 32px;\n",
              "      padding: 0 0 0 0;\n",
              "      width: 32px;\n",
              "    }\n",
              "\n",
              "    .colab-df-convert:hover {\n",
              "      background-color: #E2EBFA;\n",
              "      box-shadow: 0px 1px 2px rgba(60, 64, 67, 0.3), 0px 1px 3px 1px rgba(60, 64, 67, 0.15);\n",
              "      fill: #174EA6;\n",
              "    }\n",
              "\n",
              "    [theme=dark] .colab-df-convert {\n",
              "      background-color: #3B4455;\n",
              "      fill: #D2E3FC;\n",
              "    }\n",
              "\n",
              "    [theme=dark] .colab-df-convert:hover {\n",
              "      background-color: #434B5C;\n",
              "      box-shadow: 0px 1px 3px 1px rgba(0, 0, 0, 0.15);\n",
              "      filter: drop-shadow(0px 1px 2px rgba(0, 0, 0, 0.3));\n",
              "      fill: #FFFFFF;\n",
              "    }\n",
              "  </style>\n",
              "\n",
              "      <script>\n",
              "        const buttonEl =\n",
              "          document.querySelector('#df-785daa04-9a9a-47e3-850e-f8cfd289b907 button.colab-df-convert');\n",
              "        buttonEl.style.display =\n",
              "          google.colab.kernel.accessAllowed ? 'block' : 'none';\n",
              "\n",
              "        async function convertToInteractive(key) {\n",
              "          const element = document.querySelector('#df-785daa04-9a9a-47e3-850e-f8cfd289b907');\n",
              "          const dataTable =\n",
              "            await google.colab.kernel.invokeFunction('convertToInteractive',\n",
              "                                                     [key], {});\n",
              "          if (!dataTable) return;\n",
              "\n",
              "          const docLinkHtml = 'Like what you see? Visit the ' +\n",
              "            '<a target=\"_blank\" href=https://colab.research.google.com/notebooks/data_table.ipynb>data table notebook</a>'\n",
              "            + ' to learn more about interactive tables.';\n",
              "          element.innerHTML = '';\n",
              "          dataTable['output_type'] = 'display_data';\n",
              "          await google.colab.output.renderOutput(dataTable, element);\n",
              "          const docLink = document.createElement('div');\n",
              "          docLink.innerHTML = docLinkHtml;\n",
              "          element.appendChild(docLink);\n",
              "        }\n",
              "      </script>\n",
              "    </div>\n",
              "  </div>\n",
              "  "
            ]
          },
          "metadata": {},
          "execution_count": 92
        }
      ]
    },
    {
      "cell_type": "code",
      "source": [
        "# AUC\n",
        "print('TRAIN AUC: %f' %(roc_auc_score(train.Default, train_II.probability)))\n",
        "print('TEST AUC: %f' %(roc_auc_score(test.Default, test_II.probability)))\n"
      ],
      "metadata": {
        "id": "w97Zl3iYMWKf",
        "outputId": "cc827578-2005-4695-93ee-5661b06cce51",
        "colab": {
          "base_uri": "https://localhost:8080/"
        }
      },
      "execution_count": null,
      "outputs": [
        {
          "output_type": "stream",
          "name": "stdout",
          "text": [
            "TRAIN AUC: 0.721359\n",
            "TEST AUC: 0.724287\n"
          ]
        }
      ]
    },
    {
      "cell_type": "code",
      "source": [
        "# GINI\n",
        "print('TRAIN GINI: %f' %(roc_auc_score(train.Default, train_II.probability)*2-1))\n",
        "print('TEST GINI: %f' %(roc_auc_score(test.Default, test_II.probability)*2-1))\n"
      ],
      "metadata": {
        "id": "LzNsPt_9MfjG",
        "outputId": "8da3806c-e11c-4eb9-9e8b-96be5ff70df7",
        "colab": {
          "base_uri": "https://localhost:8080/"
        }
      },
      "execution_count": null,
      "outputs": [
        {
          "output_type": "stream",
          "name": "stdout",
          "text": [
            "TRAIN GINI: 0.442718\n",
            "TEST GINI: 0.448574\n"
          ]
        }
      ]
    },
    {
      "cell_type": "code",
      "source": [
        "# ACCURACY\n",
        "print('TRAIN ACCURACY: %f' %(accuracy_score(train.Default, train_II.prediction)))\n",
        "print('TEST ACCURACY: %f' %(accuracy_score(test.Default, test_II.prediction)))\n"
      ],
      "metadata": {
        "id": "maTYoGg4_wX8",
        "outputId": "22ab74c4-a3b4-4890-d69f-ad00f877096b",
        "colab": {
          "base_uri": "https://localhost:8080/"
        }
      },
      "execution_count": null,
      "outputs": [
        {
          "output_type": "stream",
          "name": "stdout",
          "text": [
            "TRAIN ACCURACY: 0.919132\n",
            "TEST ACCURACY: 0.918894\n"
          ]
        }
      ]
    },
    {
      "cell_type": "code",
      "source": [
        "# PRECISION\n",
        "print('TRAIN PRECISION: %f' %(precision_score(train.Default, train_II.prediction)))\n",
        "print('TEST PRECISION: %f' %(precision_score(test.Default, test_II.prediction)))\n"
      ],
      "metadata": {
        "id": "1OnB7eSkBJJN",
        "outputId": "bc2b9f33-347f-438a-9d77-1171350fe89d",
        "colab": {
          "base_uri": "https://localhost:8080/"
        }
      },
      "execution_count": null,
      "outputs": [
        {
          "output_type": "stream",
          "name": "stdout",
          "text": [
            "TRAIN PRECISION: 0.444444\n",
            "TEST PRECISION: 0.210526\n"
          ]
        }
      ]
    },
    {
      "cell_type": "code",
      "source": [
        "# RECALL\n",
        "print('TRAIN RECALL: %f' %(recall_score(train.Default, train_II.prediction)))\n",
        "print('TEST RECALL: %f' %(recall_score(test.Default, test_II.prediction)))\n"
      ],
      "metadata": {
        "id": "wSrtdD_sBWIa",
        "outputId": "34264a96-b729-4d9a-e812-445728424cf8",
        "colab": {
          "base_uri": "https://localhost:8080/"
        }
      },
      "execution_count": null,
      "outputs": [
        {
          "output_type": "stream",
          "name": "stdout",
          "text": [
            "TRAIN RECALL: 0.004063\n",
            "TEST RECALL: 0.001354\n"
          ]
        }
      ]
    },
    {
      "cell_type": "code",
      "source": [
        "# F1-SCORE\n",
        "print('TRAIN F1-SCORE: %f' %(f1_score(train.Default, train_II.prediction)))\n",
        "print('TEST F1-SCORE: %f' %(f1_score(test.Default, test_II.prediction)))\n"
      ],
      "metadata": {
        "id": "hjKynk96BJ1C",
        "outputId": "3ed26a2c-3593-4ef2-d055-0a49d259f110",
        "colab": {
          "base_uri": "https://localhost:8080/"
        }
      },
      "execution_count": null,
      "outputs": [
        {
          "output_type": "stream",
          "name": "stdout",
          "text": [
            "TRAIN F1-SCORE: 0.008053\n",
            "TEST F1-SCORE: 0.002691\n"
          ]
        }
      ]
    },
    {
      "cell_type": "code",
      "source": [
        "confusion_matrix(train.Default, train_II.prediction)"
      ],
      "metadata": {
        "id": "uyYQCw_GBFIJ",
        "outputId": "9a9f1d11-7c9b-44a9-8923-37c20407dfc6",
        "colab": {
          "base_uri": "https://localhost:8080/"
        }
      },
      "execution_count": null,
      "outputs": [
        {
          "output_type": "execute_result",
          "data": {
            "text/plain": [
              "array([[78373,    35],\n",
              "       [ 6863,    28]])"
            ]
          },
          "metadata": {},
          "execution_count": 98
        }
      ]
    },
    {
      "cell_type": "code",
      "source": [
        "confusion_matrix(test.Default, test_II.prediction)"
      ],
      "metadata": {
        "id": "5tZfC2NzBq0N",
        "outputId": "34d8d1f2-c7c4-4182-a1ed-bea2b7841b40",
        "colab": {
          "base_uri": "https://localhost:8080/"
        }
      },
      "execution_count": null,
      "outputs": [
        {
          "output_type": "execute_result",
          "data": {
            "text/plain": [
              "array([[33588,    15],\n",
              "       [ 2950,     4]])"
            ]
          },
          "metadata": {},
          "execution_count": 100
        }
      ]
    },
    {
      "cell_type": "code",
      "source": [
        "from sklearn.metrics import *"
      ],
      "metadata": {
        "id": "klWeRvgY_QxU"
      },
      "execution_count": null,
      "outputs": []
    },
    {
      "cell_type": "code",
      "source": [
        "sklearn.metrics.confusion_matrix"
      ],
      "metadata": {
        "id": "X_EXefjF_hF0"
      },
      "execution_count": null,
      "outputs": []
    },
    {
      "cell_type": "markdown",
      "source": [],
      "metadata": {
        "id": "fl4gg20dL5cW"
      }
    }
  ]
}