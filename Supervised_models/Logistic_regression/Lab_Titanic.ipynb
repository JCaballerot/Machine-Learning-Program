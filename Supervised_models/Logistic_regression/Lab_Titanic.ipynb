{
  "nbformat": 4,
  "nbformat_minor": 0,
  "metadata": {
    "colab": {
      "name": "Lab: Titanic.ipynb",
      "provenance": [],
      "authorship_tag": "ABX9TyOZTKlqIctQjB595c2ZlsRs",
      "include_colab_link": true
    },
    "kernelspec": {
      "name": "python3",
      "display_name": "Python 3"
    }
  },
  "cells": [
    {
      "cell_type": "markdown",
      "metadata": {
        "id": "view-in-github",
        "colab_type": "text"
      },
      "source": [
        "<a href=\"https://colab.research.google.com/github/JCaballerot/Machine_learning_program/blob/main/Supervised_models/Logistic_regression/Lab_Titanic.ipynb\" target=\"_parent\"><img src=\"https://colab.research.google.com/assets/colab-badge.svg\" alt=\"Open In Colab\"/></a>"
      ]
    },
    {
      "cell_type": "markdown",
      "metadata": {
        "id": "XkAemYVYi7k5"
      },
      "source": [
        "\n",
        "\n",
        "<h1 align=center><font size = 5>Titanic - Machine Learning from Disaster</font></h1>\n",
        "\n",
        "---"
      ]
    },
    {
      "cell_type": "markdown",
      "metadata": {
        "id": "Is3nFhGglsft"
      },
      "source": [
        "## Tabla de Contenidos\n",
        "\n",
        "<div class=\"alert alert-block alert-info\" style=\"margin-top: 20px\">\n",
        "\n",
        "<font size = 3>\n",
        "    \n",
        "1. <a href=\"#item31\">Introducción</a>  \n",
        "2. <a href=\"#item32\">Descargar y limpiar el Dataset</a>  \n",
        "3. <a href=\"#item33\">Titanic Problem</a>  \n",
        "4. <a href=\"#item34\">Análisis y tratamiento de variables</a>  \n",
        "5. <a href=\"#item34\">Regresión Logística</a>  \n",
        "6. <a href=\"#item34\">Elastic Net</a>  \n",
        "\n",
        "</font>\n",
        "</div>"
      ]
    },
    {
      "cell_type": "markdown",
      "metadata": {
        "button": false,
        "deletable": true,
        "new_sheet": false,
        "run_control": {
          "read_only": false
        },
        "id": "R_NIQeNlLo19"
      },
      "source": [
        "## Introducción\n"
      ]
    },
    {
      "cell_type": "markdown",
      "metadata": {
        "id": "g7LRGuxBHMpw"
      },
      "source": [
        "En este laboratorio, aprenderá a usar python para construir un modelo de regresión logística."
      ]
    },
    {
      "cell_type": "markdown",
      "metadata": {
        "id": "yFB_r2dkHMp7"
      },
      "source": [
        "\n",
        "<h3>Objetivo de este Notebook<h3>    \n",
        "<h5> 1. Como construir e interpretar un modelo de regresión logística.</h5>\n",
        "<h5> 2. Descargar y limpiar un Dataset </h5>\n",
        "<h5> 3. Realizar los pasos necesarios previos a la etapa de modelamiento </h5>\n",
        "<h5> 4. Entrenar y Testear modelo </h5>     "
      ]
    },
    {
      "cell_type": "markdown",
      "metadata": {
        "button": false,
        "deletable": true,
        "new_sheet": false,
        "run_control": {
          "read_only": false
        },
        "id": "iYo1JVdwmPKW"
      },
      "source": [
        "## Descargar y limpiar Dataset\n"
      ]
    },
    {
      "cell_type": "markdown",
      "metadata": {
        "id": "cWBGqVX6HMp8"
      },
      "source": [
        "Primero, importemos algunos módulos que necesitaremos para el análisis y construcción del modelo."
      ]
    },
    {
      "cell_type": "code",
      "metadata": {
        "id": "PEMIsurDJf4M"
      },
      "source": [
        "\n",
        "# Scikit-Learn \n",
        "import sklearn\n",
        "assert sklearn.__version__ >= \"0.20\"\n",
        "\n",
        "# Imports comunes\n",
        "import pandas as pd\n",
        "import numpy as np\n",
        "import os\n",
        "\n",
        "# Configuración de tamaño de gráficos matplotlib\n",
        "%matplotlib inline\n",
        "import matplotlib as mpl\n",
        "import matplotlib.pyplot as plt\n",
        "\n",
        "mpl.rc('axes', labelsize=14)\n",
        "mpl.rc('xtick', labelsize=12)\n",
        "mpl.rc('ytick', labelsize=12)\n",
        "\n",
        "# Ignore las advertencias poco útiles\n",
        "import warnings\n",
        "warnings.filterwarnings(action=\"ignore\", message=\"^internal gelsd\")"
      ],
      "execution_count": null,
      "outputs": []
    },
    {
      "cell_type": "markdown",
      "metadata": {
        "id": "rtJhMpGIoKSg"
      },
      "source": [
        "## Esta es la legendaria competencia Titanic ML\n"
      ]
    },
    {
      "cell_type": "markdown",
      "metadata": {
        "id": "KZwf0QHnLBB6"
      },
      "source": [
        "\n",
        "El hundimiento del Titanic es uno de los naufragios más infames de la historia.\n",
        "\n",
        "El 15 de abril de 1912, durante su viaje inaugural, el RMS Titanic, ampliamente considerado \"insumergible\", se hundió tras chocar con un iceberg. Desafortunadamente, no había suficientes botes salvavidas para todos a bordo, lo que resultó en la muerte de 1502 de los 2224 pasajeros y la tripulación.\n",
        "\n",
        "Si bien hubo algún elemento de suerte involucrado en sobrevivir, parece que algunos grupos de personas tenían más probabilidades de sobrevivir que otros.\n",
        "\n",
        "En este desafío, le pedimos que cree un modelo predictivo que responda a la pregunta: \"¿Qué tipo de personas tenían más probabilidades de sobrevivir?\" utilizando datos de pasajeros (es decir, nombre, edad, sexo, clase socioeconómica, etc.)."
      ]
    },
    {
      "cell_type": "markdown",
      "metadata": {
        "id": "WMTTs7KsMZIF"
      },
      "source": [
        "<img src=\"https://storage.googleapis.com/kaggle-media/welcome/video_thumbnail.jpg\" alt=\"HTML5 Icon\" style=\"width: 600px; height: 450px;\">\n",
        "<div style=\"text-align: center\">¿Qué tipo de personas tenían más probabilidades de sobrevivir? </div>"
      ]
    },
    {
      "cell_type": "markdown",
      "metadata": {
        "id": "RA0bDOj5LtM7"
      },
      "source": [
        "\n",
        "<b>Descripción de datos</b>\n",
        "\n",
        "El data frame de Titanic tiene 891 filas y 12 columnas.\n",
        "\n",
        "<b>Este data frame contiene las siguientes columnas:</b>\n",
        "\n",
        "---\n",
        "\n",
        "* <b>Survival : </b>  Supervivencia (0 = No, 1 = Sí)\n",
        "* <b>Pclass : </b>  Ticket class (1 = 1st, 2 = 2nd, 3 = 3rd)\n",
        "* <b>Sex : </b>  Sexo \n",
        "* <b>Age : </b>  Edad en años\n",
        "* <b>Sibsp : </b>  # de hermanos / cónyuges a bordo del Titanic\n",
        "* <b>Parch : </b>  # de padres / hijos a bordo del Titanic\n",
        "\n",
        "* <b>Ticket : </b>  Número de ticket\n",
        "\n",
        "* <b>Fare : </b>  Tarifa de pasajero\n",
        "* <b>Cabin : </b>  Número de cabina\n",
        "* <b>Embarked : </b>  Puerto de embarque (C = Cherburgo, Q = Queenstown, S = Southampton)\n",
        "\n",
        "\n",
        "\n",
        "---\n",
        "\n",
        "\n",
        "<strong>Puede consultar este [link](https://www.kaggle.com/c/titanic/overview) para leer más sobre la fuente de datos Titanic.</strong>\n"
      ]
    },
    {
      "cell_type": "markdown",
      "metadata": {
        "button": false,
        "deletable": true,
        "new_sheet": false,
        "run_control": {
          "read_only": false
        },
        "id": "_dC4JellLo2B"
      },
      "source": [
        "## Descargar y limpiar Dataset\n"
      ]
    },
    {
      "cell_type": "code",
      "metadata": {
        "id": "5kN2lGD0JxPu"
      },
      "source": [
        "# Cargar Data\n",
        "data = pd.read_csv(\"train.csv\")\n",
        "data"
      ],
      "execution_count": null,
      "outputs": []
    },
    {
      "cell_type": "code",
      "source": [
        "data.shape"
      ],
      "metadata": {
        "id": "DSFcEY13c1CA"
      },
      "execution_count": null,
      "outputs": []
    },
    {
      "cell_type": "code",
      "metadata": {
        "id": "D3_Qvb_wZDBg"
      },
      "source": [
        "data.describe().transpose()"
      ],
      "execution_count": null,
      "outputs": []
    },
    {
      "cell_type": "code",
      "metadata": {
        "id": "jVMXVREFZRkA"
      },
      "source": [
        "# Cargar seaborn \n",
        "import seaborn as sns\n",
        "sns.set(style=\"whitegrid\", color_codes = True)\n",
        "sns.set(rc={'figure.figsize':(10,6)})\n"
      ],
      "execution_count": null,
      "outputs": []
    },
    {
      "cell_type": "code",
      "metadata": {
        "id": "x8-ddyogblCG"
      },
      "source": [
        "# Analizando el target \n",
        "sns.countplot(x='Survived', data = data, palette = 'hls')"
      ],
      "execution_count": null,
      "outputs": []
    },
    {
      "cell_type": "markdown",
      "metadata": {
        "id": "eOc7yNcg9KVo"
      },
      "source": [
        "## Análisis de variables categóricas"
      ]
    },
    {
      "cell_type": "code",
      "metadata": {
        "id": "_RSmHoR_pxnu"
      },
      "source": [
        "# Analizando variable categórica\n",
        "sns.countplot(x='Sex', data = data, palette = 'hls')"
      ],
      "execution_count": null,
      "outputs": []
    },
    {
      "cell_type": "code",
      "metadata": {
        "id": "IQU5RXO2-ISB"
      },
      "source": [
        "data.groupby(['Sex']).agg({\"PassengerId\":\"count\",\n",
        "                           \"Survived\" :\"mean\"}).reset_index()"
      ],
      "execution_count": null,
      "outputs": []
    },
    {
      "cell_type": "code",
      "metadata": {
        "id": "OJcziQDo-4I6"
      },
      "source": [
        "\n",
        "table = pd.crosstab(data.Sex,data.Survived)\n",
        "table.div(table.sum(1).astype(float),axis=0).plot(kind='bar',stacked=True)"
      ],
      "execution_count": null,
      "outputs": []
    },
    {
      "cell_type": "markdown",
      "metadata": {
        "id": "e6wvDM6P9QSY"
      },
      "source": [
        "## Análisis de variables numéricas"
      ]
    },
    {
      "cell_type": "code",
      "metadata": {
        "id": "MUSMcUsIalBF"
      },
      "source": [
        "# Analizando variable numérica\n",
        "sns.displot(data, x=\"Age\",kind=\"kde\", fill=True)"
      ],
      "execution_count": null,
      "outputs": []
    },
    {
      "cell_type": "code",
      "metadata": {
        "id": "CKPGcSRvuz0H"
      },
      "source": [
        "sns.displot(data, x=\"Age\", hue='Survived', kind=\"kde\", fill=True)"
      ],
      "execution_count": null,
      "outputs": []
    },
    {
      "cell_type": "code",
      "metadata": {
        "id": "tjOwIcxOcim_"
      },
      "source": [
        "ax = sns.boxplot(x=\"Survived\", y=\"Age\", data=data, palette = 'hls')"
      ],
      "execution_count": null,
      "outputs": []
    },
    {
      "cell_type": "code",
      "source": [
        "data['Fare'].fillna(data['Fare'].mean())"
      ],
      "metadata": {
        "id": "bQIlxumZaK9u"
      },
      "execution_count": null,
      "outputs": []
    },
    {
      "cell_type": "code",
      "source": [
        "data['Fare'].apply(lambda x: 1 if x < 100 else 2)\n",
        "\n",
        "\n"
      ],
      "metadata": {
        "id": "X093qEVidFzL"
      },
      "execution_count": null,
      "outputs": []
    },
    {
      "cell_type": "code",
      "metadata": {
        "id": "RvmRAE9OiRE8"
      },
      "source": [
        "# Discretizar variable \n",
        "\n",
        "from sklearn.preprocessing import KBinsDiscretizer\n",
        "\n",
        "data['Fare_cat'] = KBinsDiscretizer(n_bins = 20, \n",
        "                                   encode = 'ordinal',\n",
        "                                   strategy = \"quantile\").fit_transform(data[['Fare']])\n"
      ],
      "execution_count": null,
      "outputs": []
    },
    {
      "cell_type": "code",
      "metadata": {
        "id": "pIDUcAXHuL2N"
      },
      "source": [
        "sns.displot(data['Fare_cat'], palette = 'hls', discrete=True)"
      ],
      "execution_count": null,
      "outputs": []
    },
    {
      "cell_type": "code",
      "source": [
        "data[['Fare', 'Fare_cat', 'Survived']]"
      ],
      "metadata": {
        "id": "YVS_7bmIfEbP"
      },
      "execution_count": null,
      "outputs": []
    },
    {
      "cell_type": "code",
      "metadata": {
        "id": "jXzq5dsdkz6t"
      },
      "source": [
        "aggregations = {'Survived':'mean', 'Fare':'min', 'Fare':'max'}\n",
        "res = data.groupby('Fare_cat').agg(aggregations).reset_index()\n",
        "res"
      ],
      "execution_count": null,
      "outputs": []
    },
    {
      "cell_type": "code",
      "metadata": {
        "id": "cZuY-kLx6By0"
      },
      "source": [
        "# Ratio del evento por tramo dela variable numérica\n",
        "sns.lineplot(data=data, x=\"Fare_cat\", y=\"Survived\", palette = 'hls')"
      ],
      "execution_count": null,
      "outputs": []
    },
    {
      "cell_type": "markdown",
      "metadata": {
        "id": "lON-vC2194C9"
      },
      "source": [
        "## Análisis multivariado"
      ]
    },
    {
      "cell_type": "code",
      "metadata": {
        "id": "l_oKVLdAwOYC"
      },
      "source": [
        "sns.relplot(data=data, x=\"Age\", y=\"Fare\", hue=\"Survived\")\n"
      ],
      "execution_count": null,
      "outputs": []
    },
    {
      "cell_type": "markdown",
      "metadata": {
        "id": "4R6xTdtyBgBD"
      },
      "source": [
        "## Tratamiento de variables"
      ]
    },
    {
      "cell_type": "code",
      "metadata": {
        "id": "WeaBquXWCRnW"
      },
      "source": [
        "#Variables \n",
        "\n",
        "numFeatures = ['Age','Fare','SibSp','Parch']\n",
        "catFeatures = ['Pclass','Sex','Embarked']\n"
      ],
      "execution_count": null,
      "outputs": []
    },
    {
      "cell_type": "code",
      "source": [
        "data.dtypes"
      ],
      "metadata": {
        "id": "1tXuQNIviwaF"
      },
      "execution_count": null,
      "outputs": []
    },
    {
      "cell_type": "code",
      "metadata": {
        "id": "1TyNlj1aUpC1"
      },
      "source": [
        "data['Pclass'] = data['Pclass'].astype('object')"
      ],
      "execution_count": null,
      "outputs": []
    },
    {
      "cell_type": "code",
      "metadata": {
        "id": "mfafrF--ZsAp"
      },
      "source": [
        "data[catFeatures].head()"
      ],
      "execution_count": null,
      "outputs": []
    },
    {
      "cell_type": "markdown",
      "metadata": {
        "id": "BzjJoA4znq1u"
      },
      "source": [
        "## Encoding de variables categóricas"
      ]
    },
    {
      "cell_type": "markdown",
      "metadata": {
        "id": "NkpAoL6tI7mS"
      },
      "source": [
        "\n",
        "---\n",
        "\n",
        "<h3>Label Encoding</h3> \n",
        "\n",
        "El label encoding consiste en asignar un número (por lo general entero) a cada una de las categorías de la variable categórica.\n",
        "\n",
        "<img src=\"https://miro.medium.com/max/772/1*QQe-4476Oy3_dI1vhb3dDg.png\" alt=\"HTML5 Icon\" style=\"width: 1600px; height: 1250px;\">\n",
        "\n",
        "\n",
        "\n",
        "---\n",
        "\n",
        "<h3>One Hot Encoding</h3> \n",
        "\n",
        "El One hot encoding es un proceso que consiste en dummizar cada catgoría de la variable en una nueva variable, de esta manera las nuevas variables se activarán dependiendo del valor que tome la variable original.\n",
        "\n",
        "<img src=\"https://encrypted-tbn0.gstatic.com/images?q=tbn:ANd9GcTr11qA6j0WCbEYrfNoQ7QO_NpMIZus42BJwQ&usqp=CAU\" alt=\"HTML5 Icon\" style=\"width: 1600px; height: 1250px;\">\n",
        "\n",
        "---\n",
        "\n",
        "<div style=\"text-align: center\">Ejemplo de one hot Encoding </div>\n",
        "\n",
        "<h3>Target Encoding</h3> \n",
        "\n",
        "El target encoding es una técnica que consiste en inputar el promedio del target a cada uno de los valores de la variable categórica.\n",
        "\n",
        "<img src=\"https://lh6.googleusercontent.com/6_KrGj2k9NvcLVfmZ6HIYruAqav4rX86YU7WOhXofDGd6-98JjUPWajo0dDqmFMXv3tN0b_LOmgYLiPMCFyIWw3b7lVrCAiSboWgJ_AJ4TqHpNWUHkgIxl0xuSF9JdSXNbWG48QS\" alt=\"HTML5 Icon\" style=\"width: 600px; height: 450px;\">\n",
        "\n",
        "---\n"
      ]
    },
    {
      "cell_type": "code",
      "metadata": {
        "id": "zUycw86zHG8B"
      },
      "source": [
        "# Tratamiento de variables categóricas\n",
        "\n",
        "data.Sex.drop_duplicates()\n"
      ],
      "execution_count": null,
      "outputs": []
    },
    {
      "cell_type": "code",
      "source": [
        "data[catFeatures].fillna('missing', inplace = True)"
      ],
      "metadata": {
        "id": "8-DRx8PDlV5h"
      },
      "execution_count": null,
      "outputs": []
    },
    {
      "cell_type": "code",
      "source": [],
      "metadata": {
        "id": "0-MVkGfClVkT"
      },
      "execution_count": null,
      "outputs": []
    },
    {
      "cell_type": "code",
      "metadata": {
        "id": "F0Thw9l6aM_l"
      },
      "source": [
        "# Reemplazar las filas NaN por una categoría específica para missings \n",
        "for c in catFeatures:\n",
        "  data[c] = data[c].replace(np.nan,'missing')\n",
        "\n",
        "data[catFeatures].drop_duplicates()\n"
      ],
      "execution_count": null,
      "outputs": []
    },
    {
      "cell_type": "markdown",
      "metadata": {
        "id": "vM_1HfFpnIsw"
      },
      "source": [
        "<h3>One Hot Encoding</h3> "
      ]
    },
    {
      "cell_type": "code",
      "metadata": {
        "id": "Qmr-1lQ0cS-L"
      },
      "source": [
        "# One hot Encoding\n",
        "\n",
        "from sklearn.preprocessing import OneHotEncoder\n",
        "\n",
        "OneHotEncoder = OneHotEncoder()\n",
        "\n",
        "dummyCols = ['Sex_dum' + str(x) for x in range(len(data['Sex'].drop_duplicates()))]\n",
        "\n",
        "data[dummyCols] = OneHotEncoder.fit_transform(data[['Sex']]).toarray()\n",
        "\n",
        "data[['Sex'] + dummyCols].head(10)"
      ],
      "execution_count": null,
      "outputs": []
    },
    {
      "cell_type": "markdown",
      "metadata": {
        "id": "szuWpiMqmwvL"
      },
      "source": [
        "<h3>Target Encoding</h3> "
      ]
    },
    {
      "cell_type": "code",
      "metadata": {
        "id": "0pcSepG4TZa-"
      },
      "source": [
        "!pip install category_encoders"
      ],
      "execution_count": null,
      "outputs": []
    },
    {
      "cell_type": "code",
      "metadata": {
        "id": "33Y7NZyJHobo"
      },
      "source": [
        "# Target Encoding\n",
        "\n",
        "from category_encoders import TargetEncoder\n",
        "encoder = TargetEncoder()\n",
        "\n",
        "data[[x + '_num' for x in catFeatures]] = encoder.fit_transform(data[catFeatures], data['Survived'])\n"
      ],
      "execution_count": null,
      "outputs": []
    },
    {
      "cell_type": "code",
      "metadata": {
        "id": "_Fawu0miVWnm"
      },
      "source": [
        "data.head()"
      ],
      "execution_count": null,
      "outputs": []
    },
    {
      "cell_type": "code",
      "metadata": {
        "id": "ebdxG6IJIIta"
      },
      "source": [
        "data[['Sex','Sex_num']].drop_duplicates()\n"
      ],
      "execution_count": null,
      "outputs": []
    },
    {
      "cell_type": "code",
      "metadata": {
        "id": "wxGT4dRsI5Le"
      },
      "source": [
        "data[['Pclass','Pclass_num']].drop_duplicates()\n"
      ],
      "execution_count": null,
      "outputs": []
    },
    {
      "cell_type": "code",
      "metadata": {
        "id": "oAZ7c1kJGbqZ"
      },
      "source": [
        "data[numFeatures]\n"
      ],
      "execution_count": null,
      "outputs": []
    },
    {
      "cell_type": "markdown",
      "metadata": {
        "id": "l-USf44pnQqv"
      },
      "source": [
        "## Tratamiento de variables numéricas\n",
        "\n",
        "\n"
      ]
    },
    {
      "cell_type": "code",
      "metadata": {
        "id": "oxT_G0swngqE"
      },
      "source": [
        "# Tratamiento de outliers\n",
        "\n",
        "p1 = data.Age.quantile(0.01)\n",
        "p99 = data.Age.quantile(0.99)\n",
        "\n",
        "data['Age'] = np.where(data['Age'] < p1, p1, data['Age'])\n",
        "data['Age'] = np.where(data['Age'] > p99, p99, data['Age'])\n"
      ],
      "execution_count": null,
      "outputs": []
    },
    {
      "cell_type": "code",
      "metadata": {
        "id": "Wc_4uekMDoju"
      },
      "source": [
        "data.describe().transpose()"
      ],
      "execution_count": null,
      "outputs": []
    },
    {
      "cell_type": "code",
      "metadata": {
        "id": "_SmrbJFWrKx1"
      },
      "source": [
        "# Trataiento de missings\n",
        "\n",
        "data[[x + '_t' for x in numFeatures]] = data[numFeatures].fillna(data[numFeatures].median())\n"
      ],
      "execution_count": null,
      "outputs": []
    },
    {
      "cell_type": "code",
      "metadata": {
        "id": "WySovzP5rgok"
      },
      "source": [
        "data[[x + '_t' for x in numFeatures]].head(30)"
      ],
      "execution_count": null,
      "outputs": []
    },
    {
      "cell_type": "code",
      "metadata": {
        "id": "OAfppPYZ8ay-"
      },
      "source": [
        "data.corr()"
      ],
      "execution_count": null,
      "outputs": []
    },
    {
      "cell_type": "markdown",
      "metadata": {
        "id": "Dfru2OSOqpNO"
      },
      "source": [
        "## Logistic Regression"
      ]
    },
    {
      "cell_type": "code",
      "metadata": {
        "id": "ywjGfMTOqw8R"
      },
      "source": [
        "#Variables para el modelo\n",
        "\n",
        "numFeatures = ['Age_t','Fare_t','SibSp_t','Parch_t']\n",
        "catFeatures = ['Pclass_num', 'Sex_num', 'Embarked_num']\n",
        "\n",
        "X = data[numFeatures + catFeatures]\n",
        "y = data.Survived"
      ],
      "execution_count": null,
      "outputs": []
    },
    {
      "cell_type": "code",
      "metadata": {
        "id": "MNsPnCr8sLSN"
      },
      "source": [
        "# Muestreo de data\n",
        "from sklearn.model_selection import train_test_split\n",
        "\n",
        "X_train, X_test, y_train, y_test = train_test_split(X, y,\n",
        "                                                    test_size = 0.3,\n",
        "                                                    random_state = 123)\n",
        "\n"
      ],
      "execution_count": null,
      "outputs": []
    },
    {
      "cell_type": "code",
      "metadata": {
        "id": "y9XlhRw-sDML",
        "colab": {
          "base_uri": "https://localhost:8080/"
        },
        "outputId": "1dfcbbcb-d045-40e8-ee8c-1776da15e1c9"
      },
      "source": [
        "# Modelo\n",
        "from sklearn import linear_model\n",
        "\n",
        "logreg = linear_model.LogisticRegression(\n",
        "                                         #class_weight = {0: y_train.mean(),1:1},\n",
        "                                         max_iter = 1000,\n",
        "                                         random_state = 123)\n",
        "logreg.fit(X_train,y_train)\n"
      ],
      "execution_count": null,
      "outputs": [
        {
          "output_type": "execute_result",
          "data": {
            "text/plain": [
              "LogisticRegression(max_iter=1000, random_state=123)"
            ]
          },
          "metadata": {},
          "execution_count": 89
        }
      ]
    },
    {
      "cell_type": "code",
      "metadata": {
        "id": "FhGFrbB7tKfa"
      },
      "source": [
        "# Analizando los parámetros del modelo\n",
        "\n",
        "paramLogistic = pd.DataFrame({'feature': numFeatures + catFeatures,\n",
        "                              'parámetro': logreg.coef_.ravel(),\n",
        "                              'metod': 'logistic'})\n",
        "paramLogistic\n"
      ],
      "execution_count": null,
      "outputs": []
    },
    {
      "cell_type": "code",
      "metadata": {
        "id": "wCvrbtNL9kP3"
      },
      "source": [
        "logreg.intercept_"
      ],
      "execution_count": null,
      "outputs": []
    },
    {
      "cell_type": "code",
      "metadata": {
        "id": "r7gPGfWFvrsQ"
      },
      "source": [
        "# Usando el modelo para predecir\n",
        "\n",
        "X_train['probability'] = logreg.predict_proba(X_train[numFeatures + catFeatures])[:,1]\n",
        "X_test['probability']  = logreg.predict_proba(X_test[numFeatures + catFeatures])[:,1]\n",
        "\n",
        "X_train['prediction'] = logreg.predict(X_train[numFeatures + catFeatures])\n",
        "X_test['prediction']  = logreg.predict(X_test[numFeatures + catFeatures])\n",
        "\n",
        "X_train['Survived'] = y_train\n",
        "X_test['Survived'] = y_test\n"
      ],
      "execution_count": null,
      "outputs": []
    },
    {
      "cell_type": "code",
      "metadata": {
        "id": "ovaSmTu_wqWP"
      },
      "source": [
        "X_train.probability.describe()"
      ],
      "execution_count": null,
      "outputs": []
    },
    {
      "cell_type": "code",
      "metadata": {
        "id": "yEI-Goe3wGVD"
      },
      "source": [
        "sns.displot(X_test, x=\"probability\", kind=\"kde\", fill=True)"
      ],
      "execution_count": null,
      "outputs": []
    },
    {
      "cell_type": "code",
      "metadata": {
        "id": "JfXgfIhlxKfL"
      },
      "source": [
        "sns.displot(X_test, x=\"probability\", hue = 'Survived', kind=\"kde\", fill=True)"
      ],
      "execution_count": null,
      "outputs": []
    },
    {
      "cell_type": "markdown",
      "metadata": {
        "id": "-Hac-5Ldxnxr"
      },
      "source": [
        "## Bondad de Ajuste"
      ]
    },
    {
      "cell_type": "code",
      "metadata": {
        "id": "w6CyYigOx_5o"
      },
      "source": [
        "from sklearn.metrics import *"
      ],
      "execution_count": null,
      "outputs": []
    },
    {
      "cell_type": "code",
      "metadata": {
        "id": "tkqq_53I5Es3"
      },
      "source": [
        "def plot_roc_curve(y_true, y_score, filepath=None, line_width=2, width=12,\n",
        "                   height=10, title=None, colors=(\"#FF0000\", \"#000000\")):\n",
        "    \"\"\"\n",
        "    Saves a ROC curve in a file or shows it on screen.\n",
        "    :param y_true: actual values of the response (list|np.array)\n",
        "    :param y_score: predicted scores (list|np.array)\n",
        "    :param filepath: if given, the ROC curve is saved in the desired filepath. It should point to a png file in an\n",
        "    existing directory. If not specified, the curve is only shown (str)\n",
        "    :param line_width: number indicating line width (float)\n",
        "    :param width: number indicating the width of saved plot (float)\n",
        "    :param height: number indicating the height of saved plot (float)\n",
        "    :param title: if given, title to add to the top side of the plot (str)\n",
        "    :param colors: color specification for ROC curve and diagonal respectively (tuple of str)\n",
        "    :return: None\n",
        "    \"\"\"\n",
        "    fpr, tpr, _ = roc_curve(y_true=y_true, y_score=y_score)\n",
        "    gini = auc(fpr, tpr) * 2 - 1\n",
        "\n",
        "    sns.set_style(\"whitegrid\")\n",
        "    fig = plt.figure(figsize=(width, height))\n",
        "    major_ticks = np.arange(0, 1.1, 0.1)\n",
        "    minor_ticks = np.arange(0.05, 1, 0.1)\n",
        "    ax = fig.add_subplot(1, 1, 1)\n",
        "    ax.set_xticks(major_ticks)\n",
        "    ax.set_yticks(major_ticks)\n",
        "    ax.set_xticks(minor_ticks, minor=True)\n",
        "    ax.set_yticks(minor_ticks, minor=True)\n",
        "    ax.grid(which=\"both\", axis=\"both\")\n",
        "    ax.grid(which=\"minor\", alpha=0.2)\n",
        "    ax.grid(which=\"major\", alpha=0.5)\n",
        "    ax.tick_params(which=\"major\", direction=\"out\", length=5)\n",
        "    plt.plot(fpr, tpr, color=colors[0], lw=line_width,\n",
        "                   label=\"ROC curve (gini = {:.2f})\".format(gini))\n",
        "    plt.plot([0, 1], [0, 1], color=colors[1], lw=line_width, linestyle='--')\n",
        "    plt.xlim([-0.001, 1.001])\n",
        "    plt.ylim([-0.001, 1.001])\n",
        "    plt.xlabel(\"False positive rate\", fontsize=15)\n",
        "    plt.ylabel(\"True positive rate\", fontsize=15)\n",
        "    if title:\n",
        "        plt.title(title, fontsize=30, loc=\"left\")\n",
        "    plt.legend(loc=\"lower right\", frameon=True, fontsize=\"large\",\n",
        "                     fancybox=True)\n",
        "    plt.tight_layout()\n",
        "    if filepath:\n",
        "        plt.savefig(filepath, dpi=200)\n",
        "        plt.close()\n",
        "    else:\n",
        "        plt.show()"
      ],
      "execution_count": null,
      "outputs": []
    },
    {
      "cell_type": "code",
      "metadata": {
        "id": "Zldw1BGz5GiH"
      },
      "source": [
        "plot_roc_curve(y_test, X_test.probability, width=6, height=5)"
      ],
      "execution_count": null,
      "outputs": []
    },
    {
      "cell_type": "code",
      "metadata": {
        "id": "Gd_3XYkJxc0F"
      },
      "source": [
        "# AUC\n",
        "\n",
        "print('TRAIN AUC: %f' %(roc_auc_score(y_train, X_train.probability)))\n",
        "print('TEST AUC: %f' %(roc_auc_score(y_test, X_test.probability)))\n"
      ],
      "execution_count": null,
      "outputs": []
    },
    {
      "cell_type": "code",
      "metadata": {
        "id": "JjtSMDKoytdy"
      },
      "source": [
        "# GINI\n",
        "\n",
        "print('TRAIN GINI: %f' %(roc_auc_score(y_train, X_train.probability)*2-1))\n",
        "print('TEST GINI: %f' %(roc_auc_score(y_test, X_test.probability)*2-1))\n"
      ],
      "execution_count": null,
      "outputs": []
    },
    {
      "cell_type": "code",
      "metadata": {
        "id": "J1DyCGMO80Ns"
      },
      "source": [
        "# Tablas cruzadas\n",
        "\n",
        "pd.crosstab(X_test.prediction, y_test, margins=True, margins_name=\"Total\")"
      ],
      "execution_count": null,
      "outputs": []
    },
    {
      "cell_type": "code",
      "metadata": {
        "id": "xuK7Hs55Eyf4"
      },
      "source": [
        "pd.crosstab(X_test.prediction, y_test, margins=True, margins_name=\"Total\", normalize=True)"
      ],
      "execution_count": null,
      "outputs": []
    },
    {
      "cell_type": "code",
      "metadata": {
        "id": "d0wNhB5R4VHb"
      },
      "source": [
        "# ACCURACY\n",
        "\n",
        "print('TRAIN ACCURACY: %f' %(accuracy_score(y_train, X_train.prediction)))\n",
        "print('TEST ACCURACY: %f' %(accuracy_score(y_test, X_test.prediction)))\n"
      ],
      "execution_count": null,
      "outputs": []
    },
    {
      "cell_type": "code",
      "metadata": {
        "id": "RLve8myD3zPa"
      },
      "source": [
        "# PRECISION\n",
        "\n",
        "print('TRAIN PRECISION: %f' %(precision_score(y_train, X_train.prediction)))\n",
        "print('TEST PRECISION: %f' %(precision_score(y_test, X_test.prediction)))\n"
      ],
      "execution_count": null,
      "outputs": []
    },
    {
      "cell_type": "code",
      "metadata": {
        "id": "lf3nsCKx3_jJ"
      },
      "source": [
        "# RECALL\n",
        "\n",
        "print('TRAIN RECALL: %f' %(recall_score(y_train, X_train.prediction)))\n",
        "print('TEST RECALL: %f' %(recall_score(y_test, X_test.prediction)))\n"
      ],
      "execution_count": null,
      "outputs": []
    },
    {
      "cell_type": "code",
      "metadata": {
        "id": "1uOlvYm83y-8"
      },
      "source": [
        "# F1\n",
        "\n",
        "print('TRAIN F1: %f' %(f1_score(y_train, X_train.prediction)))\n",
        "print('TEST F1: %f' %(f1_score(y_test, X_test.prediction)))\n"
      ],
      "execution_count": null,
      "outputs": []
    },
    {
      "cell_type": "code",
      "metadata": {
        "id": "T6NcBm08Qih_"
      },
      "source": [
        "#Resumen de todas las métricas del modelo\n",
        "\n",
        "metricsLogisitc = pd.DataFrame({'metric':['AUC','Gini','Accuracy','Precision','Recall','F1-score'],\n",
        "                                'logistic_train':[roc_auc_score(y_train, X_train.probability),\n",
        "                                        (roc_auc_score(y_train, X_train.probability)*2-1),\n",
        "                                        accuracy_score(y_train, X_train.prediction),\n",
        "                                        precision_score(y_train, X_train.prediction),\n",
        "                                        recall_score(y_train, X_train.prediction),\n",
        "                                        f1_score(y_train, X_train.prediction)],\n",
        "\n",
        "                                'logistic_test':[roc_auc_score(y_test, X_test.probability),\n",
        "                                        (roc_auc_score(y_test, X_test.probability)*2-1),\n",
        "                                        accuracy_score(y_test, X_test.prediction),\n",
        "                                        precision_score(y_test, X_test.prediction),\n",
        "                                        recall_score(y_test, X_test.prediction),\n",
        "                                        f1_score(y_test, X_test.prediction)]})\n",
        "\n",
        "metricsLogisitc"
      ],
      "execution_count": null,
      "outputs": []
    },
    {
      "cell_type": "markdown",
      "metadata": {
        "id": "wC-hb2GkJW4l"
      },
      "source": [
        "<h3>Análisis de Predicción</h3> "
      ]
    },
    {
      "cell_type": "code",
      "metadata": {
        "id": "NwCYSqwdFZBW"
      },
      "source": [
        "\n",
        "from sklearn.preprocessing import KBinsDiscretizer\n",
        "\n",
        "X_test['probability_rank'] = KBinsDiscretizer(n_bins = 8, \n",
        "                                   encode='ordinal',\n",
        "                                   strategy = \"quantile\").fit_transform(X_test[['probability']])\n"
      ],
      "execution_count": null,
      "outputs": []
    },
    {
      "cell_type": "code",
      "metadata": {
        "id": "BZhbaImHF-8B"
      },
      "source": [
        "aggregations = {'prediction':'count','probability':'max','Survived':'mean'}\n",
        "res = X_test.groupby('probability_rank').agg(aggregations).reset_index()\n",
        "res\n"
      ],
      "execution_count": null,
      "outputs": []
    },
    {
      "cell_type": "code",
      "metadata": {
        "id": "cZvNwHAoHYha"
      },
      "source": [
        "\n",
        "pddf1 = pd.DataFrame({'probability_rank':X_test.probability_rank,\n",
        "                      'value':X_test.probability,\n",
        "                     'type': 'probability_mean'})\n",
        "\n",
        "pddf2 = pd.DataFrame({'probability_rank':X_test.probability_rank,\n",
        "                      'value':X_test.Survived,\n",
        "                     'type': 'Survived_rate'})\n",
        "\n",
        "pddf = pddf1.append(pddf2)\n",
        "pddf"
      ],
      "execution_count": null,
      "outputs": []
    },
    {
      "cell_type": "code",
      "metadata": {
        "id": "1k22CafWGfQ_"
      },
      "source": [
        "# Ratio del evento por tramo dela variable numérica\n",
        "\n",
        "sns.lineplot(data=pddf.reset_index(), x=\"probability_rank\", y=\"value\", hue=\"type\", markers=True, dashes=False)\n"
      ],
      "execution_count": null,
      "outputs": []
    },
    {
      "cell_type": "markdown",
      "metadata": {
        "id": "mScZHRheJ387"
      },
      "source": [
        "## Elastic Net"
      ]
    },
    {
      "cell_type": "code",
      "metadata": {
        "id": "_JNdoKs2J-Wk"
      },
      "source": [
        "#Variables para el modelo\n",
        "\n",
        "numFeatures = ['Age_t','Fare_t','SibSp_t','Parch_t']\n",
        "catFeatures = ['Pclass_num','Sex_num','Embarked_num']\n",
        "\n",
        "X = data[numFeatures + catFeatures]\n",
        "y = data.Survived"
      ],
      "execution_count": null,
      "outputs": []
    },
    {
      "cell_type": "code",
      "metadata": {
        "id": "Yyi-9mM9KFPC"
      },
      "source": [
        "# Muestreo de data\n",
        "from sklearn.model_selection import train_test_split\n",
        "\n",
        "X_train, X_test, y_train, y_test = train_test_split(X, y,\n",
        "                                                    test_size = 0.3,\n",
        "                                                    random_state = 123)"
      ],
      "execution_count": null,
      "outputs": []
    },
    {
      "cell_type": "code",
      "metadata": {
        "id": "Rgg7MbFvKHTD",
        "colab": {
          "base_uri": "https://localhost:8080/"
        },
        "outputId": "95b5064b-2b23-48cf-ba0f-fa979ba659fe"
      },
      "source": [
        "# Modelo\n",
        "from sklearn.linear_model import LogisticRegression\n",
        "\n",
        "eltNet = LogisticRegression(penalty = 'elasticnet',\n",
        "                            class_weight = {0:y_train.mean(), 1:1},\n",
        "                            solver = 'saga',\n",
        "                            C = 100, \n",
        "                            l1_ratio = 0.9,\n",
        "                            max_iter = 1000,\n",
        "                            random_state = 123)\n",
        "\n",
        "eltNet.fit(X_train, y_train)"
      ],
      "execution_count": null,
      "outputs": [
        {
          "output_type": "stream",
          "name": "stderr",
          "text": [
            "/usr/local/lib/python3.7/dist-packages/sklearn/linear_model/_sag.py:354: ConvergenceWarning: The max_iter was reached which means the coef_ did not converge\n",
            "  ConvergenceWarning,\n"
          ]
        },
        {
          "output_type": "execute_result",
          "data": {
            "text/plain": [
              "LogisticRegression(C=100, class_weight={0: 0.391653290529695, 1: 1},\n",
              "                   l1_ratio=0.9, max_iter=1000, penalty='elasticnet',\n",
              "                   random_state=123, solver='saga')"
            ]
          },
          "metadata": {},
          "execution_count": 137
        }
      ]
    },
    {
      "cell_type": "code",
      "metadata": {
        "id": "YWCu-S7LL7qH",
        "colab": {
          "base_uri": "https://localhost:8080/",
          "height": 269
        },
        "outputId": "496d9e60-7658-4f15-cfa3-ec6f77edcd43"
      },
      "source": [
        "# Analizando los parámetros del modelo\n",
        "\n",
        "paramElasticNet = pd.DataFrame({'feature': numFeatures + catFeatures,\n",
        "                                'parámetro': eltNet.coef_.ravel(),\n",
        "                                'metod': 'elastic_net'})\n",
        "paramElasticNet"
      ],
      "execution_count": null,
      "outputs": [
        {
          "output_type": "execute_result",
          "data": {
            "text/plain": [
              "        feature  parámetro        metod\n",
              "0         Age_t  -0.009545  elastic_net\n",
              "1        Fare_t   0.018312  elastic_net\n",
              "2       SibSp_t  -0.114008  elastic_net\n",
              "3       Parch_t   0.041282  elastic_net\n",
              "4    Pclass_num   0.054511  elastic_net\n",
              "5       Sex_num   0.197962  elastic_net\n",
              "6  Embarked_num   0.032677  elastic_net"
            ],
            "text/html": [
              "\n",
              "  <div id=\"df-6a9d0b48-c76e-4226-821e-dd57753ab185\">\n",
              "    <div class=\"colab-df-container\">\n",
              "      <div>\n",
              "<style scoped>\n",
              "    .dataframe tbody tr th:only-of-type {\n",
              "        vertical-align: middle;\n",
              "    }\n",
              "\n",
              "    .dataframe tbody tr th {\n",
              "        vertical-align: top;\n",
              "    }\n",
              "\n",
              "    .dataframe thead th {\n",
              "        text-align: right;\n",
              "    }\n",
              "</style>\n",
              "<table border=\"1\" class=\"dataframe\">\n",
              "  <thead>\n",
              "    <tr style=\"text-align: right;\">\n",
              "      <th></th>\n",
              "      <th>feature</th>\n",
              "      <th>parámetro</th>\n",
              "      <th>metod</th>\n",
              "    </tr>\n",
              "  </thead>\n",
              "  <tbody>\n",
              "    <tr>\n",
              "      <th>0</th>\n",
              "      <td>Age_t</td>\n",
              "      <td>-0.009545</td>\n",
              "      <td>elastic_net</td>\n",
              "    </tr>\n",
              "    <tr>\n",
              "      <th>1</th>\n",
              "      <td>Fare_t</td>\n",
              "      <td>0.018312</td>\n",
              "      <td>elastic_net</td>\n",
              "    </tr>\n",
              "    <tr>\n",
              "      <th>2</th>\n",
              "      <td>SibSp_t</td>\n",
              "      <td>-0.114008</td>\n",
              "      <td>elastic_net</td>\n",
              "    </tr>\n",
              "    <tr>\n",
              "      <th>3</th>\n",
              "      <td>Parch_t</td>\n",
              "      <td>0.041282</td>\n",
              "      <td>elastic_net</td>\n",
              "    </tr>\n",
              "    <tr>\n",
              "      <th>4</th>\n",
              "      <td>Pclass_num</td>\n",
              "      <td>0.054511</td>\n",
              "      <td>elastic_net</td>\n",
              "    </tr>\n",
              "    <tr>\n",
              "      <th>5</th>\n",
              "      <td>Sex_num</td>\n",
              "      <td>0.197962</td>\n",
              "      <td>elastic_net</td>\n",
              "    </tr>\n",
              "    <tr>\n",
              "      <th>6</th>\n",
              "      <td>Embarked_num</td>\n",
              "      <td>0.032677</td>\n",
              "      <td>elastic_net</td>\n",
              "    </tr>\n",
              "  </tbody>\n",
              "</table>\n",
              "</div>\n",
              "      <button class=\"colab-df-convert\" onclick=\"convertToInteractive('df-6a9d0b48-c76e-4226-821e-dd57753ab185')\"\n",
              "              title=\"Convert this dataframe to an interactive table.\"\n",
              "              style=\"display:none;\">\n",
              "        \n",
              "  <svg xmlns=\"http://www.w3.org/2000/svg\" height=\"24px\"viewBox=\"0 0 24 24\"\n",
              "       width=\"24px\">\n",
              "    <path d=\"M0 0h24v24H0V0z\" fill=\"none\"/>\n",
              "    <path d=\"M18.56 5.44l.94 2.06.94-2.06 2.06-.94-2.06-.94-.94-2.06-.94 2.06-2.06.94zm-11 1L8.5 8.5l.94-2.06 2.06-.94-2.06-.94L8.5 2.5l-.94 2.06-2.06.94zm10 10l.94 2.06.94-2.06 2.06-.94-2.06-.94-.94-2.06-.94 2.06-2.06.94z\"/><path d=\"M17.41 7.96l-1.37-1.37c-.4-.4-.92-.59-1.43-.59-.52 0-1.04.2-1.43.59L10.3 9.45l-7.72 7.72c-.78.78-.78 2.05 0 2.83L4 21.41c.39.39.9.59 1.41.59.51 0 1.02-.2 1.41-.59l7.78-7.78 2.81-2.81c.8-.78.8-2.07 0-2.86zM5.41 20L4 18.59l7.72-7.72 1.47 1.35L5.41 20z\"/>\n",
              "  </svg>\n",
              "      </button>\n",
              "      \n",
              "  <style>\n",
              "    .colab-df-container {\n",
              "      display:flex;\n",
              "      flex-wrap:wrap;\n",
              "      gap: 12px;\n",
              "    }\n",
              "\n",
              "    .colab-df-convert {\n",
              "      background-color: #E8F0FE;\n",
              "      border: none;\n",
              "      border-radius: 50%;\n",
              "      cursor: pointer;\n",
              "      display: none;\n",
              "      fill: #1967D2;\n",
              "      height: 32px;\n",
              "      padding: 0 0 0 0;\n",
              "      width: 32px;\n",
              "    }\n",
              "\n",
              "    .colab-df-convert:hover {\n",
              "      background-color: #E2EBFA;\n",
              "      box-shadow: 0px 1px 2px rgba(60, 64, 67, 0.3), 0px 1px 3px 1px rgba(60, 64, 67, 0.15);\n",
              "      fill: #174EA6;\n",
              "    }\n",
              "\n",
              "    [theme=dark] .colab-df-convert {\n",
              "      background-color: #3B4455;\n",
              "      fill: #D2E3FC;\n",
              "    }\n",
              "\n",
              "    [theme=dark] .colab-df-convert:hover {\n",
              "      background-color: #434B5C;\n",
              "      box-shadow: 0px 1px 3px 1px rgba(0, 0, 0, 0.15);\n",
              "      filter: drop-shadow(0px 1px 2px rgba(0, 0, 0, 0.3));\n",
              "      fill: #FFFFFF;\n",
              "    }\n",
              "  </style>\n",
              "\n",
              "      <script>\n",
              "        const buttonEl =\n",
              "          document.querySelector('#df-6a9d0b48-c76e-4226-821e-dd57753ab185 button.colab-df-convert');\n",
              "        buttonEl.style.display =\n",
              "          google.colab.kernel.accessAllowed ? 'block' : 'none';\n",
              "\n",
              "        async function convertToInteractive(key) {\n",
              "          const element = document.querySelector('#df-6a9d0b48-c76e-4226-821e-dd57753ab185');\n",
              "          const dataTable =\n",
              "            await google.colab.kernel.invokeFunction('convertToInteractive',\n",
              "                                                     [key], {});\n",
              "          if (!dataTable) return;\n",
              "\n",
              "          const docLinkHtml = 'Like what you see? Visit the ' +\n",
              "            '<a target=\"_blank\" href=https://colab.research.google.com/notebooks/data_table.ipynb>data table notebook</a>'\n",
              "            + ' to learn more about interactive tables.';\n",
              "          element.innerHTML = '';\n",
              "          dataTable['output_type'] = 'display_data';\n",
              "          await google.colab.output.renderOutput(dataTable, element);\n",
              "          const docLink = document.createElement('div');\n",
              "          docLink.innerHTML = docLinkHtml;\n",
              "          element.appendChild(docLink);\n",
              "        }\n",
              "      </script>\n",
              "    </div>\n",
              "  </div>\n",
              "  "
            ]
          },
          "metadata": {},
          "execution_count": 138
        }
      ]
    },
    {
      "cell_type": "code",
      "metadata": {
        "id": "_zspw9SqMh5K",
        "colab": {
          "base_uri": "https://localhost:8080/",
          "height": 411
        },
        "outputId": "16d33635-55ef-4043-d9cb-2ec1b9d8799f"
      },
      "source": [
        "resumen = paramLogistic.append(paramElasticNet)\n",
        "\n",
        "sns.barplot(x='feature', y='parámetro', hue='metod', data=resumen)\n"
      ],
      "execution_count": null,
      "outputs": [
        {
          "output_type": "execute_result",
          "data": {
            "text/plain": [
              "<matplotlib.axes._subplots.AxesSubplot at 0x7faeef286310>"
            ]
          },
          "metadata": {},
          "execution_count": 139
        },
        {
          "output_type": "display_data",
          "data": {
            "text/plain": [
              "<Figure size 720x432 with 1 Axes>"
            ],
            "image/png": "[encoded data removed]"
          },
          "metadata": {}
        }
      ]
    },
    {
      "cell_type": "code",
      "metadata": {
        "id": "0r3zz7sbSHSd"
      },
      "source": [
        "# Usando el modelo para predecir\n",
        "\n",
        "X_train['probability'] = eltNet.predict_proba(X_train[numFeatures + catFeatures])[:,1]\n",
        "X_test['probability']  = eltNet.predict_proba(X_test[numFeatures + catFeatures])[:,1]\n",
        "\n",
        "X_train['prediction'] = eltNet.predict(X_train[numFeatures + catFeatures])\n",
        "X_test['prediction']  = eltNet.predict(X_test[numFeatures + catFeatures])\n",
        "\n",
        "X_train['Survived'] = y_train\n",
        "X_test['Survived'] = y_test\n"
      ],
      "execution_count": null,
      "outputs": []
    },
    {
      "cell_type": "code",
      "metadata": {
        "id": "kD_fibykNaRT",
        "colab": {
          "base_uri": "https://localhost:8080/",
          "height": 238
        },
        "outputId": "a7428c96-3f14-45fa-8dc9-528ef1aebb27"
      },
      "source": [
        "#Resumen de todas las métricas del modelo\n",
        "\n",
        "metricsElasticNet = pd.DataFrame({'metric':['AUC','Gini','Accuracy','Precision','Recall','F1-score'],\n",
        "                                'ElasticNet_train':[roc_auc_score(y_train, X_train.probability),\n",
        "                                        (roc_auc_score(y_train, X_train.probability)*2-1),\n",
        "                                        accuracy_score(y_train, X_train.prediction),\n",
        "                                        precision_score(y_train, X_train.prediction),\n",
        "                                        recall_score(y_train, X_train.prediction),\n",
        "                                        f1_score(y_train, X_train.prediction)],\n",
        "\n",
        "                                'ElasticNet_test':[roc_auc_score(y_test, X_test.probability),\n",
        "                                        (roc_auc_score(y_test, X_test.probability)*2-1),\n",
        "                                        accuracy_score(y_test, X_test.prediction),\n",
        "                                        precision_score(y_test, X_test.prediction),\n",
        "                                        recall_score(y_test, X_test.prediction),\n",
        "                                        f1_score(y_test, X_test.prediction)]})\n",
        "\n",
        "metricsElasticNet"
      ],
      "execution_count": null,
      "outputs": [
        {
          "output_type": "execute_result",
          "data": {
            "text/plain": [
              "      metric  ElasticNet_train  ElasticNet_test\n",
              "0        AUC          0.761425         0.782833\n",
              "1       Gini          0.522849         0.565666\n",
              "2   Accuracy          0.566613         0.537313\n",
              "3  Precision          0.472917         0.436893\n",
              "4     Recall          0.930328         0.918367\n",
              "5   F1-score          0.627072         0.592105"
            ],
            "text/html": [
              "\n",
              "  <div id=\"df-f1734fd8-089f-4baf-b671-aa0a3eab9772\">\n",
              "    <div class=\"colab-df-container\">\n",
              "      <div>\n",
              "<style scoped>\n",
              "    .dataframe tbody tr th:only-of-type {\n",
              "        vertical-align: middle;\n",
              "    }\n",
              "\n",
              "    .dataframe tbody tr th {\n",
              "        vertical-align: top;\n",
              "    }\n",
              "\n",
              "    .dataframe thead th {\n",
              "        text-align: right;\n",
              "    }\n",
              "</style>\n",
              "<table border=\"1\" class=\"dataframe\">\n",
              "  <thead>\n",
              "    <tr style=\"text-align: right;\">\n",
              "      <th></th>\n",
              "      <th>metric</th>\n",
              "      <th>ElasticNet_train</th>\n",
              "      <th>ElasticNet_test</th>\n",
              "    </tr>\n",
              "  </thead>\n",
              "  <tbody>\n",
              "    <tr>\n",
              "      <th>0</th>\n",
              "      <td>AUC</td>\n",
              "      <td>0.761425</td>\n",
              "      <td>0.782833</td>\n",
              "    </tr>\n",
              "    <tr>\n",
              "      <th>1</th>\n",
              "      <td>Gini</td>\n",
              "      <td>0.522849</td>\n",
              "      <td>0.565666</td>\n",
              "    </tr>\n",
              "    <tr>\n",
              "      <th>2</th>\n",
              "      <td>Accuracy</td>\n",
              "      <td>0.566613</td>\n",
              "      <td>0.537313</td>\n",
              "    </tr>\n",
              "    <tr>\n",
              "      <th>3</th>\n",
              "      <td>Precision</td>\n",
              "      <td>0.472917</td>\n",
              "      <td>0.436893</td>\n",
              "    </tr>\n",
              "    <tr>\n",
              "      <th>4</th>\n",
              "      <td>Recall</td>\n",
              "      <td>0.930328</td>\n",
              "      <td>0.918367</td>\n",
              "    </tr>\n",
              "    <tr>\n",
              "      <th>5</th>\n",
              "      <td>F1-score</td>\n",
              "      <td>0.627072</td>\n",
              "      <td>0.592105</td>\n",
              "    </tr>\n",
              "  </tbody>\n",
              "</table>\n",
              "</div>\n",
              "      <button class=\"colab-df-convert\" onclick=\"convertToInteractive('df-f1734fd8-089f-4baf-b671-aa0a3eab9772')\"\n",
              "              title=\"Convert this dataframe to an interactive table.\"\n",
              "              style=\"display:none;\">\n",
              "        \n",
              "  <svg xmlns=\"http://www.w3.org/2000/svg\" height=\"24px\"viewBox=\"0 0 24 24\"\n",
              "       width=\"24px\">\n",
              "    <path d=\"M0 0h24v24H0V0z\" fill=\"none\"/>\n",
              "    <path d=\"M18.56 5.44l.94 2.06.94-2.06 2.06-.94-2.06-.94-.94-2.06-.94 2.06-2.06.94zm-11 1L8.5 8.5l.94-2.06 2.06-.94-2.06-.94L8.5 2.5l-.94 2.06-2.06.94zm10 10l.94 2.06.94-2.06 2.06-.94-2.06-.94-.94-2.06-.94 2.06-2.06.94z\"/><path d=\"M17.41 7.96l-1.37-1.37c-.4-.4-.92-.59-1.43-.59-.52 0-1.04.2-1.43.59L10.3 9.45l-7.72 7.72c-.78.78-.78 2.05 0 2.83L4 21.41c.39.39.9.59 1.41.59.51 0 1.02-.2 1.41-.59l7.78-7.78 2.81-2.81c.8-.78.8-2.07 0-2.86zM5.41 20L4 18.59l7.72-7.72 1.47 1.35L5.41 20z\"/>\n",
              "  </svg>\n",
              "      </button>\n",
              "      \n",
              "  <style>\n",
              "    .colab-df-container {\n",
              "      display:flex;\n",
              "      flex-wrap:wrap;\n",
              "      gap: 12px;\n",
              "    }\n",
              "\n",
              "    .colab-df-convert {\n",
              "      background-color: #E8F0FE;\n",
              "      border: none;\n",
              "      border-radius: 50%;\n",
              "      cursor: pointer;\n",
              "      display: none;\n",
              "      fill: #1967D2;\n",
              "      height: 32px;\n",
              "      padding: 0 0 0 0;\n",
              "      width: 32px;\n",
              "    }\n",
              "\n",
              "    .colab-df-convert:hover {\n",
              "      background-color: #E2EBFA;\n",
              "      box-shadow: 0px 1px 2px rgba(60, 64, 67, 0.3), 0px 1px 3px 1px rgba(60, 64, 67, 0.15);\n",
              "      fill: #174EA6;\n",
              "    }\n",
              "\n",
              "    [theme=dark] .colab-df-convert {\n",
              "      background-color: #3B4455;\n",
              "      fill: #D2E3FC;\n",
              "    }\n",
              "\n",
              "    [theme=dark] .colab-df-convert:hover {\n",
              "      background-color: #434B5C;\n",
              "      box-shadow: 0px 1px 3px 1px rgba(0, 0, 0, 0.15);\n",
              "      filter: drop-shadow(0px 1px 2px rgba(0, 0, 0, 0.3));\n",
              "      fill: #FFFFFF;\n",
              "    }\n",
              "  </style>\n",
              "\n",
              "      <script>\n",
              "        const buttonEl =\n",
              "          document.querySelector('#df-f1734fd8-089f-4baf-b671-aa0a3eab9772 button.colab-df-convert');\n",
              "        buttonEl.style.display =\n",
              "          google.colab.kernel.accessAllowed ? 'block' : 'none';\n",
              "\n",
              "        async function convertToInteractive(key) {\n",
              "          const element = document.querySelector('#df-f1734fd8-089f-4baf-b671-aa0a3eab9772');\n",
              "          const dataTable =\n",
              "            await google.colab.kernel.invokeFunction('convertToInteractive',\n",
              "                                                     [key], {});\n",
              "          if (!dataTable) return;\n",
              "\n",
              "          const docLinkHtml = 'Like what you see? Visit the ' +\n",
              "            '<a target=\"_blank\" href=https://colab.research.google.com/notebooks/data_table.ipynb>data table notebook</a>'\n",
              "            + ' to learn more about interactive tables.';\n",
              "          element.innerHTML = '';\n",
              "          dataTable['output_type'] = 'display_data';\n",
              "          await google.colab.output.renderOutput(dataTable, element);\n",
              "          const docLink = document.createElement('div');\n",
              "          docLink.innerHTML = docLinkHtml;\n",
              "          element.appendChild(docLink);\n",
              "        }\n",
              "      </script>\n",
              "    </div>\n",
              "  </div>\n",
              "  "
            ]
          },
          "metadata": {},
          "execution_count": 128
        }
      ]
    },
    {
      "cell_type": "code",
      "metadata": {
        "id": "TV_v57h3VmCE",
        "colab": {
          "base_uri": "https://localhost:8080/",
          "height": 238
        },
        "outputId": "1d9f801e-0661-4037-c735-b150fa979429"
      },
      "source": [
        "pdRes = pd.merge(metricsLogisitc, metricsElasticNet, on = 'metric', how='left')\n",
        "pdRes"
      ],
      "execution_count": null,
      "outputs": [
        {
          "output_type": "execute_result",
          "data": {
            "text/plain": [
              "      metric  logistic_train  logistic_test  ElasticNet_train  ElasticNet_test\n",
              "0        AUC        0.853816       0.862185          0.761425         0.782833\n",
              "1       Gini        0.707632       0.724370          0.522849         0.565666\n",
              "2   Accuracy        0.791332       0.805970          0.566613         0.537313\n",
              "3  Precision        0.761468       0.755556          0.472917         0.436893\n",
              "4     Recall        0.680328       0.693878          0.930328         0.918367\n",
              "5   F1-score        0.718615       0.723404          0.627072         0.592105"
            ],
            "text/html": [
              "\n",
              "  <div id=\"df-8f05aad7-9e39-4c19-8b92-dd46fd110bb9\">\n",
              "    <div class=\"colab-df-container\">\n",
              "      <div>\n",
              "<style scoped>\n",
              "    .dataframe tbody tr th:only-of-type {\n",
              "        vertical-align: middle;\n",
              "    }\n",
              "\n",
              "    .dataframe tbody tr th {\n",
              "        vertical-align: top;\n",
              "    }\n",
              "\n",
              "    .dataframe thead th {\n",
              "        text-align: right;\n",
              "    }\n",
              "</style>\n",
              "<table border=\"1\" class=\"dataframe\">\n",
              "  <thead>\n",
              "    <tr style=\"text-align: right;\">\n",
              "      <th></th>\n",
              "      <th>metric</th>\n",
              "      <th>logistic_train</th>\n",
              "      <th>logistic_test</th>\n",
              "      <th>ElasticNet_train</th>\n",
              "      <th>ElasticNet_test</th>\n",
              "    </tr>\n",
              "  </thead>\n",
              "  <tbody>\n",
              "    <tr>\n",
              "      <th>0</th>\n",
              "      <td>AUC</td>\n",
              "      <td>0.853816</td>\n",
              "      <td>0.862185</td>\n",
              "      <td>0.761425</td>\n",
              "      <td>0.782833</td>\n",
              "    </tr>\n",
              "    <tr>\n",
              "      <th>1</th>\n",
              "      <td>Gini</td>\n",
              "      <td>0.707632</td>\n",
              "      <td>0.724370</td>\n",
              "      <td>0.522849</td>\n",
              "      <td>0.565666</td>\n",
              "    </tr>\n",
              "    <tr>\n",
              "      <th>2</th>\n",
              "      <td>Accuracy</td>\n",
              "      <td>0.791332</td>\n",
              "      <td>0.805970</td>\n",
              "      <td>0.566613</td>\n",
              "      <td>0.537313</td>\n",
              "    </tr>\n",
              "    <tr>\n",
              "      <th>3</th>\n",
              "      <td>Precision</td>\n",
              "      <td>0.761468</td>\n",
              "      <td>0.755556</td>\n",
              "      <td>0.472917</td>\n",
              "      <td>0.436893</td>\n",
              "    </tr>\n",
              "    <tr>\n",
              "      <th>4</th>\n",
              "      <td>Recall</td>\n",
              "      <td>0.680328</td>\n",
              "      <td>0.693878</td>\n",
              "      <td>0.930328</td>\n",
              "      <td>0.918367</td>\n",
              "    </tr>\n",
              "    <tr>\n",
              "      <th>5</th>\n",
              "      <td>F1-score</td>\n",
              "      <td>0.718615</td>\n",
              "      <td>0.723404</td>\n",
              "      <td>0.627072</td>\n",
              "      <td>0.592105</td>\n",
              "    </tr>\n",
              "  </tbody>\n",
              "</table>\n",
              "</div>\n",
              "      <button class=\"colab-df-convert\" onclick=\"convertToInteractive('df-8f05aad7-9e39-4c19-8b92-dd46fd110bb9')\"\n",
              "              title=\"Convert this dataframe to an interactive table.\"\n",
              "              style=\"display:none;\">\n",
              "        \n",
              "  <svg xmlns=\"http://www.w3.org/2000/svg\" height=\"24px\"viewBox=\"0 0 24 24\"\n",
              "       width=\"24px\">\n",
              "    <path d=\"M0 0h24v24H0V0z\" fill=\"none\"/>\n",
              "    <path d=\"M18.56 5.44l.94 2.06.94-2.06 2.06-.94-2.06-.94-.94-2.06-.94 2.06-2.06.94zm-11 1L8.5 8.5l.94-2.06 2.06-.94-2.06-.94L8.5 2.5l-.94 2.06-2.06.94zm10 10l.94 2.06.94-2.06 2.06-.94-2.06-.94-.94-2.06-.94 2.06-2.06.94z\"/><path d=\"M17.41 7.96l-1.37-1.37c-.4-.4-.92-.59-1.43-.59-.52 0-1.04.2-1.43.59L10.3 9.45l-7.72 7.72c-.78.78-.78 2.05 0 2.83L4 21.41c.39.39.9.59 1.41.59.51 0 1.02-.2 1.41-.59l7.78-7.78 2.81-2.81c.8-.78.8-2.07 0-2.86zM5.41 20L4 18.59l7.72-7.72 1.47 1.35L5.41 20z\"/>\n",
              "  </svg>\n",
              "      </button>\n",
              "      \n",
              "  <style>\n",
              "    .colab-df-container {\n",
              "      display:flex;\n",
              "      flex-wrap:wrap;\n",
              "      gap: 12px;\n",
              "    }\n",
              "\n",
              "    .colab-df-convert {\n",
              "      background-color: #E8F0FE;\n",
              "      border: none;\n",
              "      border-radius: 50%;\n",
              "      cursor: pointer;\n",
              "      display: none;\n",
              "      fill: #1967D2;\n",
              "      height: 32px;\n",
              "      padding: 0 0 0 0;\n",
              "      width: 32px;\n",
              "    }\n",
              "\n",
              "    .colab-df-convert:hover {\n",
              "      background-color: #E2EBFA;\n",
              "      box-shadow: 0px 1px 2px rgba(60, 64, 67, 0.3), 0px 1px 3px 1px rgba(60, 64, 67, 0.15);\n",
              "      fill: #174EA6;\n",
              "    }\n",
              "\n",
              "    [theme=dark] .colab-df-convert {\n",
              "      background-color: #3B4455;\n",
              "      fill: #D2E3FC;\n",
              "    }\n",
              "\n",
              "    [theme=dark] .colab-df-convert:hover {\n",
              "      background-color: #434B5C;\n",
              "      box-shadow: 0px 1px 3px 1px rgba(0, 0, 0, 0.15);\n",
              "      filter: drop-shadow(0px 1px 2px rgba(0, 0, 0, 0.3));\n",
              "      fill: #FFFFFF;\n",
              "    }\n",
              "  </style>\n",
              "\n",
              "      <script>\n",
              "        const buttonEl =\n",
              "          document.querySelector('#df-8f05aad7-9e39-4c19-8b92-dd46fd110bb9 button.colab-df-convert');\n",
              "        buttonEl.style.display =\n",
              "          google.colab.kernel.accessAllowed ? 'block' : 'none';\n",
              "\n",
              "        async function convertToInteractive(key) {\n",
              "          const element = document.querySelector('#df-8f05aad7-9e39-4c19-8b92-dd46fd110bb9');\n",
              "          const dataTable =\n",
              "            await google.colab.kernel.invokeFunction('convertToInteractive',\n",
              "                                                     [key], {});\n",
              "          if (!dataTable) return;\n",
              "\n",
              "          const docLinkHtml = 'Like what you see? Visit the ' +\n",
              "            '<a target=\"_blank\" href=https://colab.research.google.com/notebooks/data_table.ipynb>data table notebook</a>'\n",
              "            + ' to learn more about interactive tables.';\n",
              "          element.innerHTML = '';\n",
              "          dataTable['output_type'] = 'display_data';\n",
              "          await google.colab.output.renderOutput(dataTable, element);\n",
              "          const docLink = document.createElement('div');\n",
              "          docLink.innerHTML = docLinkHtml;\n",
              "          element.appendChild(docLink);\n",
              "        }\n",
              "      </script>\n",
              "    </div>\n",
              "  </div>\n",
              "  "
            ]
          },
          "metadata": {},
          "execution_count": 129
        }
      ]
    },
    {
      "cell_type": "markdown",
      "metadata": {
        "id": "nDoufVbcpOuR"
      },
      "source": [
        "## Naive Bayes"
      ]
    },
    {
      "cell_type": "code",
      "metadata": {
        "id": "omqDR2f1v5bm",
        "colab": {
          "base_uri": "https://localhost:8080/",
          "height": 302
        },
        "outputId": "ca4a3920-1d72-435b-c7c8-5256fcdabe8f"
      },
      "source": [
        "# Cargar Data\n",
        "import pandas as pd\n",
        "data = pd.read_csv(\"train.csv\")\n",
        "data.head()"
      ],
      "execution_count": null,
      "outputs": [
        {
          "output_type": "execute_result",
          "data": {
            "text/plain": [
              "   PassengerId  Survived  Pclass  \\\n",
              "0            1         0       3   \n",
              "1            2         1       1   \n",
              "2            3         1       3   \n",
              "3            4         1       1   \n",
              "4            5         0       3   \n",
              "\n",
              "                                                Name     Sex   Age  SibSp  \\\n",
              "0                            Braund, Mr. Owen Harris    male  22.0      1   \n",
              "1  Cumings, Mrs. John Bradley (Florence Briggs Th...  female  38.0      1   \n",
              "2                             Heikkinen, Miss. Laina  female  26.0      0   \n",
              "3       Futrelle, Mrs. Jacques Heath (Lily May Peel)  female  35.0      1   \n",
              "4                           Allen, Mr. William Henry    male  35.0      0   \n",
              "\n",
              "   Parch            Ticket     Fare Cabin Embarked  \n",
              "0      0         A/5 21171   7.2500   NaN        S  \n",
              "1      0          PC 17599  71.2833   C85        C  \n",
              "2      0  STON/O2. 3101282   7.9250   NaN        S  \n",
              "3      0            113803  53.1000  C123        S  \n",
              "4      0            373450   8.0500   NaN        S  "
            ],
            "text/html": [
              "\n",
              "  <div id=\"df-68867793-928c-4d5e-ae5b-fb3a990a6ca1\">\n",
              "    <div class=\"colab-df-container\">\n",
              "      <div>\n",
              "<style scoped>\n",
              "    .dataframe tbody tr th:only-of-type {\n",
              "        vertical-align: middle;\n",
              "    }\n",
              "\n",
              "    .dataframe tbody tr th {\n",
              "        vertical-align: top;\n",
              "    }\n",
              "\n",
              "    .dataframe thead th {\n",
              "        text-align: right;\n",
              "    }\n",
              "</style>\n",
              "<table border=\"1\" class=\"dataframe\">\n",
              "  <thead>\n",
              "    <tr style=\"text-align: right;\">\n",
              "      <th></th>\n",
              "      <th>PassengerId</th>\n",
              "      <th>Survived</th>\n",
              "      <th>Pclass</th>\n",
              "      <th>Name</th>\n",
              "      <th>Sex</th>\n",
              "      <th>Age</th>\n",
              "      <th>SibSp</th>\n",
              "      <th>Parch</th>\n",
              "      <th>Ticket</th>\n",
              "      <th>Fare</th>\n",
              "      <th>Cabin</th>\n",
              "      <th>Embarked</th>\n",
              "    </tr>\n",
              "  </thead>\n",
              "  <tbody>\n",
              "    <tr>\n",
              "      <th>0</th>\n",
              "      <td>1</td>\n",
              "      <td>0</td>\n",
              "      <td>3</td>\n",
              "      <td>Braund, Mr. Owen Harris</td>\n",
              "      <td>male</td>\n",
              "      <td>22.0</td>\n",
              "      <td>1</td>\n",
              "      <td>0</td>\n",
              "      <td>A/5 21171</td>\n",
              "      <td>7.2500</td>\n",
              "      <td>NaN</td>\n",
              "      <td>S</td>\n",
              "    </tr>\n",
              "    <tr>\n",
              "      <th>1</th>\n",
              "      <td>2</td>\n",
              "      <td>1</td>\n",
              "      <td>1</td>\n",
              "      <td>Cumings, Mrs. John Bradley (Florence Briggs Th...</td>\n",
              "      <td>female</td>\n",
              "      <td>38.0</td>\n",
              "      <td>1</td>\n",
              "      <td>0</td>\n",
              "      <td>PC 17599</td>\n",
              "      <td>71.2833</td>\n",
              "      <td>C85</td>\n",
              "      <td>C</td>\n",
              "    </tr>\n",
              "    <tr>\n",
              "      <th>2</th>\n",
              "      <td>3</td>\n",
              "      <td>1</td>\n",
              "      <td>3</td>\n",
              "      <td>Heikkinen, Miss. Laina</td>\n",
              "      <td>female</td>\n",
              "      <td>26.0</td>\n",
              "      <td>0</td>\n",
              "      <td>0</td>\n",
              "      <td>STON/O2. 3101282</td>\n",
              "      <td>7.9250</td>\n",
              "      <td>NaN</td>\n",
              "      <td>S</td>\n",
              "    </tr>\n",
              "    <tr>\n",
              "      <th>3</th>\n",
              "      <td>4</td>\n",
              "      <td>1</td>\n",
              "      <td>1</td>\n",
              "      <td>Futrelle, Mrs. Jacques Heath (Lily May Peel)</td>\n",
              "      <td>female</td>\n",
              "      <td>35.0</td>\n",
              "      <td>1</td>\n",
              "      <td>0</td>\n",
              "      <td>113803</td>\n",
              "      <td>53.1000</td>\n",
              "      <td>C123</td>\n",
              "      <td>S</td>\n",
              "    </tr>\n",
              "    <tr>\n",
              "      <th>4</th>\n",
              "      <td>5</td>\n",
              "      <td>0</td>\n",
              "      <td>3</td>\n",
              "      <td>Allen, Mr. William Henry</td>\n",
              "      <td>male</td>\n",
              "      <td>35.0</td>\n",
              "      <td>0</td>\n",
              "      <td>0</td>\n",
              "      <td>373450</td>\n",
              "      <td>8.0500</td>\n",
              "      <td>NaN</td>\n",
              "      <td>S</td>\n",
              "    </tr>\n",
              "  </tbody>\n",
              "</table>\n",
              "</div>\n",
              "      <button class=\"colab-df-convert\" onclick=\"convertToInteractive('df-68867793-928c-4d5e-ae5b-fb3a990a6ca1')\"\n",
              "              title=\"Convert this dataframe to an interactive table.\"\n",
              "              style=\"display:none;\">\n",
              "        \n",
              "  <svg xmlns=\"http://www.w3.org/2000/svg\" height=\"24px\"viewBox=\"0 0 24 24\"\n",
              "       width=\"24px\">\n",
              "    <path d=\"M0 0h24v24H0V0z\" fill=\"none\"/>\n",
              "    <path d=\"M18.56 5.44l.94 2.06.94-2.06 2.06-.94-2.06-.94-.94-2.06-.94 2.06-2.06.94zm-11 1L8.5 8.5l.94-2.06 2.06-.94-2.06-.94L8.5 2.5l-.94 2.06-2.06.94zm10 10l.94 2.06.94-2.06 2.06-.94-2.06-.94-.94-2.06-.94 2.06-2.06.94z\"/><path d=\"M17.41 7.96l-1.37-1.37c-.4-.4-.92-.59-1.43-.59-.52 0-1.04.2-1.43.59L10.3 9.45l-7.72 7.72c-.78.78-.78 2.05 0 2.83L4 21.41c.39.39.9.59 1.41.59.51 0 1.02-.2 1.41-.59l7.78-7.78 2.81-2.81c.8-.78.8-2.07 0-2.86zM5.41 20L4 18.59l7.72-7.72 1.47 1.35L5.41 20z\"/>\n",
              "  </svg>\n",
              "      </button>\n",
              "      \n",
              "  <style>\n",
              "    .colab-df-container {\n",
              "      display:flex;\n",
              "      flex-wrap:wrap;\n",
              "      gap: 12px;\n",
              "    }\n",
              "\n",
              "    .colab-df-convert {\n",
              "      background-color: #E8F0FE;\n",
              "      border: none;\n",
              "      border-radius: 50%;\n",
              "      cursor: pointer;\n",
              "      display: none;\n",
              "      fill: #1967D2;\n",
              "      height: 32px;\n",
              "      padding: 0 0 0 0;\n",
              "      width: 32px;\n",
              "    }\n",
              "\n",
              "    .colab-df-convert:hover {\n",
              "      background-color: #E2EBFA;\n",
              "      box-shadow: 0px 1px 2px rgba(60, 64, 67, 0.3), 0px 1px 3px 1px rgba(60, 64, 67, 0.15);\n",
              "      fill: #174EA6;\n",
              "    }\n",
              "\n",
              "    [theme=dark] .colab-df-convert {\n",
              "      background-color: #3B4455;\n",
              "      fill: #D2E3FC;\n",
              "    }\n",
              "\n",
              "    [theme=dark] .colab-df-convert:hover {\n",
              "      background-color: #434B5C;\n",
              "      box-shadow: 0px 1px 3px 1px rgba(0, 0, 0, 0.15);\n",
              "      filter: drop-shadow(0px 1px 2px rgba(0, 0, 0, 0.3));\n",
              "      fill: #FFFFFF;\n",
              "    }\n",
              "  </style>\n",
              "\n",
              "      <script>\n",
              "        const buttonEl =\n",
              "          document.querySelector('#df-68867793-928c-4d5e-ae5b-fb3a990a6ca1 button.colab-df-convert');\n",
              "        buttonEl.style.display =\n",
              "          google.colab.kernel.accessAllowed ? 'block' : 'none';\n",
              "\n",
              "        async function convertToInteractive(key) {\n",
              "          const element = document.querySelector('#df-68867793-928c-4d5e-ae5b-fb3a990a6ca1');\n",
              "          const dataTable =\n",
              "            await google.colab.kernel.invokeFunction('convertToInteractive',\n",
              "                                                     [key], {});\n",
              "          if (!dataTable) return;\n",
              "\n",
              "          const docLinkHtml = 'Like what you see? Visit the ' +\n",
              "            '<a target=\"_blank\" href=https://colab.research.google.com/notebooks/data_table.ipynb>data table notebook</a>'\n",
              "            + ' to learn more about interactive tables.';\n",
              "          element.innerHTML = '';\n",
              "          dataTable['output_type'] = 'display_data';\n",
              "          await google.colab.output.renderOutput(dataTable, element);\n",
              "          const docLink = document.createElement('div');\n",
              "          docLink.innerHTML = docLinkHtml;\n",
              "          element.appendChild(docLink);\n",
              "        }\n",
              "      </script>\n",
              "    </div>\n",
              "  </div>\n",
              "  "
            ]
          },
          "metadata": {},
          "execution_count": 141
        }
      ]
    },
    {
      "cell_type": "code",
      "metadata": {
        "id": "4D6Vhaz4PhoX"
      },
      "source": [
        "#Variables \n",
        "\n",
        "numFeatures = ['Age','Fare','SibSp','Parch']\n",
        "catFeatures = ['Pclass','Sex','Embarked']"
      ],
      "execution_count": null,
      "outputs": []
    },
    {
      "cell_type": "code",
      "metadata": {
        "id": "MNQvxpbcv0XZ"
      },
      "source": [
        "data[[x + '_t' for x in numFeatures]] = data[numFeatures].fillna(data[numFeatures].median())"
      ],
      "execution_count": null,
      "outputs": []
    },
    {
      "cell_type": "code",
      "metadata": {
        "id": "0TFQwmzTuQfV"
      },
      "source": [
        "#Variables para el modelo\n",
        "\n",
        "numFeatures = ['Age_t','Fare_t','SibSp_t','Parch_t']\n",
        "\n",
        "X = data[numFeatures]\n",
        "y = data.Survived"
      ],
      "execution_count": null,
      "outputs": []
    },
    {
      "cell_type": "code",
      "metadata": {
        "id": "am-54BkPuRE-"
      },
      "source": [
        "# Muestreo de data\n",
        "from sklearn.model_selection import train_test_split\n",
        "\n",
        "X_train, X_test, y_train, y_test = train_test_split(X, y,\n",
        "                                                    test_size = 0.3,\n",
        "                                                    random_state = 123)"
      ],
      "execution_count": null,
      "outputs": []
    },
    {
      "cell_type": "code",
      "metadata": {
        "id": "16aSZCXjPq8M",
        "colab": {
          "base_uri": "https://localhost:8080/",
          "height": 175
        },
        "outputId": "75501872-cb4a-40a6-9326-b236f6afc04e"
      },
      "source": [
        "X_train.corr()"
      ],
      "execution_count": null,
      "outputs": [
        {
          "output_type": "execute_result",
          "data": {
            "text/plain": [
              "            Age_t    Fare_t   SibSp_t   Parch_t\n",
              "Age_t    1.000000  0.104797 -0.184710 -0.163742\n",
              "Fare_t   0.104797  1.000000  0.167693  0.236887\n",
              "SibSp_t -0.184710  0.167693  1.000000  0.434061\n",
              "Parch_t -0.163742  0.236887  0.434061  1.000000"
            ],
            "text/html": [
              "\n",
              "  <div id=\"df-18d8ec7a-b680-44c3-ae6f-66a785b32da9\">\n",
              "    <div class=\"colab-df-container\">\n",
              "      <div>\n",
              "<style scoped>\n",
              "    .dataframe tbody tr th:only-of-type {\n",
              "        vertical-align: middle;\n",
              "    }\n",
              "\n",
              "    .dataframe tbody tr th {\n",
              "        vertical-align: top;\n",
              "    }\n",
              "\n",
              "    .dataframe thead th {\n",
              "        text-align: right;\n",
              "    }\n",
              "</style>\n",
              "<table border=\"1\" class=\"dataframe\">\n",
              "  <thead>\n",
              "    <tr style=\"text-align: right;\">\n",
              "      <th></th>\n",
              "      <th>Age_t</th>\n",
              "      <th>Fare_t</th>\n",
              "      <th>SibSp_t</th>\n",
              "      <th>Parch_t</th>\n",
              "    </tr>\n",
              "  </thead>\n",
              "  <tbody>\n",
              "    <tr>\n",
              "      <th>Age_t</th>\n",
              "      <td>1.000000</td>\n",
              "      <td>0.104797</td>\n",
              "      <td>-0.184710</td>\n",
              "      <td>-0.163742</td>\n",
              "    </tr>\n",
              "    <tr>\n",
              "      <th>Fare_t</th>\n",
              "      <td>0.104797</td>\n",
              "      <td>1.000000</td>\n",
              "      <td>0.167693</td>\n",
              "      <td>0.236887</td>\n",
              "    </tr>\n",
              "    <tr>\n",
              "      <th>SibSp_t</th>\n",
              "      <td>-0.184710</td>\n",
              "      <td>0.167693</td>\n",
              "      <td>1.000000</td>\n",
              "      <td>0.434061</td>\n",
              "    </tr>\n",
              "    <tr>\n",
              "      <th>Parch_t</th>\n",
              "      <td>-0.163742</td>\n",
              "      <td>0.236887</td>\n",
              "      <td>0.434061</td>\n",
              "      <td>1.000000</td>\n",
              "    </tr>\n",
              "  </tbody>\n",
              "</table>\n",
              "</div>\n",
              "      <button class=\"colab-df-convert\" onclick=\"convertToInteractive('df-18d8ec7a-b680-44c3-ae6f-66a785b32da9')\"\n",
              "              title=\"Convert this dataframe to an interactive table.\"\n",
              "              style=\"display:none;\">\n",
              "        \n",
              "  <svg xmlns=\"http://www.w3.org/2000/svg\" height=\"24px\"viewBox=\"0 0 24 24\"\n",
              "       width=\"24px\">\n",
              "    <path d=\"M0 0h24v24H0V0z\" fill=\"none\"/>\n",
              "    <path d=\"M18.56 5.44l.94 2.06.94-2.06 2.06-.94-2.06-.94-.94-2.06-.94 2.06-2.06.94zm-11 1L8.5 8.5l.94-2.06 2.06-.94-2.06-.94L8.5 2.5l-.94 2.06-2.06.94zm10 10l.94 2.06.94-2.06 2.06-.94-2.06-.94-.94-2.06-.94 2.06-2.06.94z\"/><path d=\"M17.41 7.96l-1.37-1.37c-.4-.4-.92-.59-1.43-.59-.52 0-1.04.2-1.43.59L10.3 9.45l-7.72 7.72c-.78.78-.78 2.05 0 2.83L4 21.41c.39.39.9.59 1.41.59.51 0 1.02-.2 1.41-.59l7.78-7.78 2.81-2.81c.8-.78.8-2.07 0-2.86zM5.41 20L4 18.59l7.72-7.72 1.47 1.35L5.41 20z\"/>\n",
              "  </svg>\n",
              "      </button>\n",
              "      \n",
              "  <style>\n",
              "    .colab-df-container {\n",
              "      display:flex;\n",
              "      flex-wrap:wrap;\n",
              "      gap: 12px;\n",
              "    }\n",
              "\n",
              "    .colab-df-convert {\n",
              "      background-color: #E8F0FE;\n",
              "      border: none;\n",
              "      border-radius: 50%;\n",
              "      cursor: pointer;\n",
              "      display: none;\n",
              "      fill: #1967D2;\n",
              "      height: 32px;\n",
              "      padding: 0 0 0 0;\n",
              "      width: 32px;\n",
              "    }\n",
              "\n",
              "    .colab-df-convert:hover {\n",
              "      background-color: #E2EBFA;\n",
              "      box-shadow: 0px 1px 2px rgba(60, 64, 67, 0.3), 0px 1px 3px 1px rgba(60, 64, 67, 0.15);\n",
              "      fill: #174EA6;\n",
              "    }\n",
              "\n",
              "    [theme=dark] .colab-df-convert {\n",
              "      background-color: #3B4455;\n",
              "      fill: #D2E3FC;\n",
              "    }\n",
              "\n",
              "    [theme=dark] .colab-df-convert:hover {\n",
              "      background-color: #434B5C;\n",
              "      box-shadow: 0px 1px 3px 1px rgba(0, 0, 0, 0.15);\n",
              "      filter: drop-shadow(0px 1px 2px rgba(0, 0, 0, 0.3));\n",
              "      fill: #FFFFFF;\n",
              "    }\n",
              "  </style>\n",
              "\n",
              "      <script>\n",
              "        const buttonEl =\n",
              "          document.querySelector('#df-18d8ec7a-b680-44c3-ae6f-66a785b32da9 button.colab-df-convert');\n",
              "        buttonEl.style.display =\n",
              "          google.colab.kernel.accessAllowed ? 'block' : 'none';\n",
              "\n",
              "        async function convertToInteractive(key) {\n",
              "          const element = document.querySelector('#df-18d8ec7a-b680-44c3-ae6f-66a785b32da9');\n",
              "          const dataTable =\n",
              "            await google.colab.kernel.invokeFunction('convertToInteractive',\n",
              "                                                     [key], {});\n",
              "          if (!dataTable) return;\n",
              "\n",
              "          const docLinkHtml = 'Like what you see? Visit the ' +\n",
              "            '<a target=\"_blank\" href=https://colab.research.google.com/notebooks/data_table.ipynb>data table notebook</a>'\n",
              "            + ' to learn more about interactive tables.';\n",
              "          element.innerHTML = '';\n",
              "          dataTable['output_type'] = 'display_data';\n",
              "          await google.colab.output.renderOutput(dataTable, element);\n",
              "          const docLink = document.createElement('div');\n",
              "          docLink.innerHTML = docLinkHtml;\n",
              "          element.appendChild(docLink);\n",
              "        }\n",
              "      </script>\n",
              "    </div>\n",
              "  </div>\n",
              "  "
            ]
          },
          "metadata": {},
          "execution_count": 146
        }
      ]
    },
    {
      "cell_type": "code",
      "metadata": {
        "id": "pnTqztrJvDOQ"
      },
      "source": [
        "from sklearn.naive_bayes import GaussianNB"
      ],
      "execution_count": null,
      "outputs": []
    },
    {
      "cell_type": "code",
      "metadata": {
        "id": "UP8WypyNulj6"
      },
      "source": [
        "gnb = GaussianNB()\n",
        "gnb = gnb.fit(X_train, y_train)\n"
      ],
      "execution_count": null,
      "outputs": []
    },
    {
      "cell_type": "code",
      "metadata": {
        "id": "EyFzd3C7ww1_",
        "colab": {
          "base_uri": "https://localhost:8080/"
        },
        "outputId": "ba7c052e-49c0-4fc1-c945-6fda3ba506bf"
      },
      "source": [
        "gnb.predict_proba(X_train[numFeatures])"
      ],
      "execution_count": null,
      "outputs": [
        {
          "output_type": "execute_result",
          "data": {
            "text/plain": [
              "array([[0.68313158, 0.31686842],\n",
              "       [0.69047955, 0.30952045],\n",
              "       [0.72529459, 0.27470541],\n",
              "       ...,\n",
              "       [0.7237841 , 0.2762159 ],\n",
              "       [0.71873977, 0.28126023],\n",
              "       [0.7167673 , 0.2832327 ]])"
            ]
          },
          "metadata": {},
          "execution_count": 149
        }
      ]
    },
    {
      "cell_type": "code",
      "metadata": {
        "id": "2zR9jmOqwiBQ"
      },
      "source": [
        "# Usando el modelo para predecir\n",
        "\n",
        "X_train['probability'] = gnb.predict_proba(X_train[numFeatures])[:,1]\n",
        "X_test['probability']  = gnb.predict_proba(X_test[numFeatures])[:,1]\n",
        "\n",
        "X_train['prediction'] = gnb.predict(X_train[numFeatures])\n",
        "X_test['prediction']  = gnb.predict(X_test[numFeatures])\n",
        "\n",
        "X_train['Survived'] = y_train\n",
        "X_test['Survived'] = y_test"
      ],
      "execution_count": null,
      "outputs": []
    },
    {
      "cell_type": "code",
      "metadata": {
        "id": "LTyHVbA6xg6w",
        "colab": {
          "base_uri": "https://localhost:8080/",
          "height": 238
        },
        "outputId": "2e8f9c65-fbcd-4430-a6f1-fa9ea5ae68f7"
      },
      "source": [
        "#Resumen de todas las métricas del modelo\n",
        "\n",
        "metricsgnb = pd.DataFrame({'metric':['AUC','Gini','Accuracy','Precision','Recall','F1-score'],\n",
        "                                'gnb_train':[roc_auc_score(y_train, X_train.probability),\n",
        "                                        (roc_auc_score(y_train, X_train.probability)*2-1),\n",
        "                                        accuracy_score(y_train, X_train.prediction),\n",
        "                                        precision_score(y_train, X_train.prediction),\n",
        "                                        recall_score(y_train, X_train.prediction),\n",
        "                                        f1_score(y_train, X_train.prediction)],\n",
        "\n",
        "                                'gnb_test':[roc_auc_score(y_test, X_test.probability),\n",
        "                                        (roc_auc_score(y_test, X_test.probability)*2-1),\n",
        "                                        accuracy_score(y_test, X_test.prediction),\n",
        "                                        precision_score(y_test, X_test.prediction),\n",
        "                                        recall_score(y_test, X_test.prediction),\n",
        "                                        f1_score(y_test, X_test.prediction)]})\n",
        "\n",
        "metricsgnb     "
      ],
      "execution_count": null,
      "outputs": [
        {
          "output_type": "execute_result",
          "data": {
            "text/plain": [
              "      metric  gnb_train  gnb_test\n",
              "0        AUC   0.674521  0.693097\n",
              "1       Gini   0.349042  0.386194\n",
              "2   Accuracy   0.685393  0.716418\n",
              "3  Precision   0.744898  0.805556\n",
              "4     Recall   0.299180  0.295918\n",
              "5   F1-score   0.426901  0.432836"
            ],
            "text/html": [
              "\n",
              "  <div id=\"df-278112db-b8a6-42ef-abbd-6d5c945ce8f5\">\n",
              "    <div class=\"colab-df-container\">\n",
              "      <div>\n",
              "<style scoped>\n",
              "    .dataframe tbody tr th:only-of-type {\n",
              "        vertical-align: middle;\n",
              "    }\n",
              "\n",
              "    .dataframe tbody tr th {\n",
              "        vertical-align: top;\n",
              "    }\n",
              "\n",
              "    .dataframe thead th {\n",
              "        text-align: right;\n",
              "    }\n",
              "</style>\n",
              "<table border=\"1\" class=\"dataframe\">\n",
              "  <thead>\n",
              "    <tr style=\"text-align: right;\">\n",
              "      <th></th>\n",
              "      <th>metric</th>\n",
              "      <th>gnb_train</th>\n",
              "      <th>gnb_test</th>\n",
              "    </tr>\n",
              "  </thead>\n",
              "  <tbody>\n",
              "    <tr>\n",
              "      <th>0</th>\n",
              "      <td>AUC</td>\n",
              "      <td>0.674521</td>\n",
              "      <td>0.693097</td>\n",
              "    </tr>\n",
              "    <tr>\n",
              "      <th>1</th>\n",
              "      <td>Gini</td>\n",
              "      <td>0.349042</td>\n",
              "      <td>0.386194</td>\n",
              "    </tr>\n",
              "    <tr>\n",
              "      <th>2</th>\n",
              "      <td>Accuracy</td>\n",
              "      <td>0.685393</td>\n",
              "      <td>0.716418</td>\n",
              "    </tr>\n",
              "    <tr>\n",
              "      <th>3</th>\n",
              "      <td>Precision</td>\n",
              "      <td>0.744898</td>\n",
              "      <td>0.805556</td>\n",
              "    </tr>\n",
              "    <tr>\n",
              "      <th>4</th>\n",
              "      <td>Recall</td>\n",
              "      <td>0.299180</td>\n",
              "      <td>0.295918</td>\n",
              "    </tr>\n",
              "    <tr>\n",
              "      <th>5</th>\n",
              "      <td>F1-score</td>\n",
              "      <td>0.426901</td>\n",
              "      <td>0.432836</td>\n",
              "    </tr>\n",
              "  </tbody>\n",
              "</table>\n",
              "</div>\n",
              "      <button class=\"colab-df-convert\" onclick=\"convertToInteractive('df-278112db-b8a6-42ef-abbd-6d5c945ce8f5')\"\n",
              "              title=\"Convert this dataframe to an interactive table.\"\n",
              "              style=\"display:none;\">\n",
              "        \n",
              "  <svg xmlns=\"http://www.w3.org/2000/svg\" height=\"24px\"viewBox=\"0 0 24 24\"\n",
              "       width=\"24px\">\n",
              "    <path d=\"M0 0h24v24H0V0z\" fill=\"none\"/>\n",
              "    <path d=\"M18.56 5.44l.94 2.06.94-2.06 2.06-.94-2.06-.94-.94-2.06-.94 2.06-2.06.94zm-11 1L8.5 8.5l.94-2.06 2.06-.94-2.06-.94L8.5 2.5l-.94 2.06-2.06.94zm10 10l.94 2.06.94-2.06 2.06-.94-2.06-.94-.94-2.06-.94 2.06-2.06.94z\"/><path d=\"M17.41 7.96l-1.37-1.37c-.4-.4-.92-.59-1.43-.59-.52 0-1.04.2-1.43.59L10.3 9.45l-7.72 7.72c-.78.78-.78 2.05 0 2.83L4 21.41c.39.39.9.59 1.41.59.51 0 1.02-.2 1.41-.59l7.78-7.78 2.81-2.81c.8-.78.8-2.07 0-2.86zM5.41 20L4 18.59l7.72-7.72 1.47 1.35L5.41 20z\"/>\n",
              "  </svg>\n",
              "      </button>\n",
              "      \n",
              "  <style>\n",
              "    .colab-df-container {\n",
              "      display:flex;\n",
              "      flex-wrap:wrap;\n",
              "      gap: 12px;\n",
              "    }\n",
              "\n",
              "    .colab-df-convert {\n",
              "      background-color: #E8F0FE;\n",
              "      border: none;\n",
              "      border-radius: 50%;\n",
              "      cursor: pointer;\n",
              "      display: none;\n",
              "      fill: #1967D2;\n",
              "      height: 32px;\n",
              "      padding: 0 0 0 0;\n",
              "      width: 32px;\n",
              "    }\n",
              "\n",
              "    .colab-df-convert:hover {\n",
              "      background-color: #E2EBFA;\n",
              "      box-shadow: 0px 1px 2px rgba(60, 64, 67, 0.3), 0px 1px 3px 1px rgba(60, 64, 67, 0.15);\n",
              "      fill: #174EA6;\n",
              "    }\n",
              "\n",
              "    [theme=dark] .colab-df-convert {\n",
              "      background-color: #3B4455;\n",
              "      fill: #D2E3FC;\n",
              "    }\n",
              "\n",
              "    [theme=dark] .colab-df-convert:hover {\n",
              "      background-color: #434B5C;\n",
              "      box-shadow: 0px 1px 3px 1px rgba(0, 0, 0, 0.15);\n",
              "      filter: drop-shadow(0px 1px 2px rgba(0, 0, 0, 0.3));\n",
              "      fill: #FFFFFF;\n",
              "    }\n",
              "  </style>\n",
              "\n",
              "      <script>\n",
              "        const buttonEl =\n",
              "          document.querySelector('#df-278112db-b8a6-42ef-abbd-6d5c945ce8f5 button.colab-df-convert');\n",
              "        buttonEl.style.display =\n",
              "          google.colab.kernel.accessAllowed ? 'block' : 'none';\n",
              "\n",
              "        async function convertToInteractive(key) {\n",
              "          const element = document.querySelector('#df-278112db-b8a6-42ef-abbd-6d5c945ce8f5');\n",
              "          const dataTable =\n",
              "            await google.colab.kernel.invokeFunction('convertToInteractive',\n",
              "                                                     [key], {});\n",
              "          if (!dataTable) return;\n",
              "\n",
              "          const docLinkHtml = 'Like what you see? Visit the ' +\n",
              "            '<a target=\"_blank\" href=https://colab.research.google.com/notebooks/data_table.ipynb>data table notebook</a>'\n",
              "            + ' to learn more about interactive tables.';\n",
              "          element.innerHTML = '';\n",
              "          dataTable['output_type'] = 'display_data';\n",
              "          await google.colab.output.renderOutput(dataTable, element);\n",
              "          const docLink = document.createElement('div');\n",
              "          docLink.innerHTML = docLinkHtml;\n",
              "          element.appendChild(docLink);\n",
              "        }\n",
              "      </script>\n",
              "    </div>\n",
              "  </div>\n",
              "  "
            ]
          },
          "metadata": {},
          "execution_count": 151
        }
      ]
    },
    {
      "cell_type": "code",
      "metadata": {
        "id": "CZQwOln1QIEg",
        "colab": {
          "base_uri": "https://localhost:8080/",
          "height": 238
        },
        "outputId": "06dd0d94-be16-419e-f779-3b71cb6cd1a8"
      },
      "source": [
        "pdRes = pd.merge(pdRes, metricsgnb, on = 'metric', how='left')\n",
        "pdRes"
      ],
      "execution_count": null,
      "outputs": [
        {
          "output_type": "execute_result",
          "data": {
            "text/plain": [
              "      metric  logistic_train  logistic_test  ElasticNet_train  \\\n",
              "0        AUC        0.853816       0.862185          0.761425   \n",
              "1       Gini        0.707632       0.724370          0.522849   \n",
              "2   Accuracy        0.791332       0.805970          0.566613   \n",
              "3  Precision        0.761468       0.755556          0.472917   \n",
              "4     Recall        0.680328       0.693878          0.930328   \n",
              "5   F1-score        0.718615       0.723404          0.627072   \n",
              "\n",
              "   ElasticNet_test  gnb_train  gnb_test  \n",
              "0         0.782833   0.674521  0.693097  \n",
              "1         0.565666   0.349042  0.386194  \n",
              "2         0.537313   0.685393  0.716418  \n",
              "3         0.436893   0.744898  0.805556  \n",
              "4         0.918367   0.299180  0.295918  \n",
              "5         0.592105   0.426901  0.432836  "
            ],
            "text/html": [
              "\n",
              "  <div id=\"df-5f9f85ce-898d-47d9-8bfb-1b2467738a4f\">\n",
              "    <div class=\"colab-df-container\">\n",
              "      <div>\n",
              "<style scoped>\n",
              "    .dataframe tbody tr th:only-of-type {\n",
              "        vertical-align: middle;\n",
              "    }\n",
              "\n",
              "    .dataframe tbody tr th {\n",
              "        vertical-align: top;\n",
              "    }\n",
              "\n",
              "    .dataframe thead th {\n",
              "        text-align: right;\n",
              "    }\n",
              "</style>\n",
              "<table border=\"1\" class=\"dataframe\">\n",
              "  <thead>\n",
              "    <tr style=\"text-align: right;\">\n",
              "      <th></th>\n",
              "      <th>metric</th>\n",
              "      <th>logistic_train</th>\n",
              "      <th>logistic_test</th>\n",
              "      <th>ElasticNet_train</th>\n",
              "      <th>ElasticNet_test</th>\n",
              "      <th>gnb_train</th>\n",
              "      <th>gnb_test</th>\n",
              "    </tr>\n",
              "  </thead>\n",
              "  <tbody>\n",
              "    <tr>\n",
              "      <th>0</th>\n",
              "      <td>AUC</td>\n",
              "      <td>0.853816</td>\n",
              "      <td>0.862185</td>\n",
              "      <td>0.761425</td>\n",
              "      <td>0.782833</td>\n",
              "      <td>0.674521</td>\n",
              "      <td>0.693097</td>\n",
              "    </tr>\n",
              "    <tr>\n",
              "      <th>1</th>\n",
              "      <td>Gini</td>\n",
              "      <td>0.707632</td>\n",
              "      <td>0.724370</td>\n",
              "      <td>0.522849</td>\n",
              "      <td>0.565666</td>\n",
              "      <td>0.349042</td>\n",
              "      <td>0.386194</td>\n",
              "    </tr>\n",
              "    <tr>\n",
              "      <th>2</th>\n",
              "      <td>Accuracy</td>\n",
              "      <td>0.791332</td>\n",
              "      <td>0.805970</td>\n",
              "      <td>0.566613</td>\n",
              "      <td>0.537313</td>\n",
              "      <td>0.685393</td>\n",
              "      <td>0.716418</td>\n",
              "    </tr>\n",
              "    <tr>\n",
              "      <th>3</th>\n",
              "      <td>Precision</td>\n",
              "      <td>0.761468</td>\n",
              "      <td>0.755556</td>\n",
              "      <td>0.472917</td>\n",
              "      <td>0.436893</td>\n",
              "      <td>0.744898</td>\n",
              "      <td>0.805556</td>\n",
              "    </tr>\n",
              "    <tr>\n",
              "      <th>4</th>\n",
              "      <td>Recall</td>\n",
              "      <td>0.680328</td>\n",
              "      <td>0.693878</td>\n",
              "      <td>0.930328</td>\n",
              "      <td>0.918367</td>\n",
              "      <td>0.299180</td>\n",
              "      <td>0.295918</td>\n",
              "    </tr>\n",
              "    <tr>\n",
              "      <th>5</th>\n",
              "      <td>F1-score</td>\n",
              "      <td>0.718615</td>\n",
              "      <td>0.723404</td>\n",
              "      <td>0.627072</td>\n",
              "      <td>0.592105</td>\n",
              "      <td>0.426901</td>\n",
              "      <td>0.432836</td>\n",
              "    </tr>\n",
              "  </tbody>\n",
              "</table>\n",
              "</div>\n",
              "      <button class=\"colab-df-convert\" onclick=\"convertToInteractive('df-5f9f85ce-898d-47d9-8bfb-1b2467738a4f')\"\n",
              "              title=\"Convert this dataframe to an interactive table.\"\n",
              "              style=\"display:none;\">\n",
              "        \n",
              "  <svg xmlns=\"http://www.w3.org/2000/svg\" height=\"24px\"viewBox=\"0 0 24 24\"\n",
              "       width=\"24px\">\n",
              "    <path d=\"M0 0h24v24H0V0z\" fill=\"none\"/>\n",
              "    <path d=\"M18.56 5.44l.94 2.06.94-2.06 2.06-.94-2.06-.94-.94-2.06-.94 2.06-2.06.94zm-11 1L8.5 8.5l.94-2.06 2.06-.94-2.06-.94L8.5 2.5l-.94 2.06-2.06.94zm10 10l.94 2.06.94-2.06 2.06-.94-2.06-.94-.94-2.06-.94 2.06-2.06.94z\"/><path d=\"M17.41 7.96l-1.37-1.37c-.4-.4-.92-.59-1.43-.59-.52 0-1.04.2-1.43.59L10.3 9.45l-7.72 7.72c-.78.78-.78 2.05 0 2.83L4 21.41c.39.39.9.59 1.41.59.51 0 1.02-.2 1.41-.59l7.78-7.78 2.81-2.81c.8-.78.8-2.07 0-2.86zM5.41 20L4 18.59l7.72-7.72 1.47 1.35L5.41 20z\"/>\n",
              "  </svg>\n",
              "      </button>\n",
              "      \n",
              "  <style>\n",
              "    .colab-df-container {\n",
              "      display:flex;\n",
              "      flex-wrap:wrap;\n",
              "      gap: 12px;\n",
              "    }\n",
              "\n",
              "    .colab-df-convert {\n",
              "      background-color: #E8F0FE;\n",
              "      border: none;\n",
              "      border-radius: 50%;\n",
              "      cursor: pointer;\n",
              "      display: none;\n",
              "      fill: #1967D2;\n",
              "      height: 32px;\n",
              "      padding: 0 0 0 0;\n",
              "      width: 32px;\n",
              "    }\n",
              "\n",
              "    .colab-df-convert:hover {\n",
              "      background-color: #E2EBFA;\n",
              "      box-shadow: 0px 1px 2px rgba(60, 64, 67, 0.3), 0px 1px 3px 1px rgba(60, 64, 67, 0.15);\n",
              "      fill: #174EA6;\n",
              "    }\n",
              "\n",
              "    [theme=dark] .colab-df-convert {\n",
              "      background-color: #3B4455;\n",
              "      fill: #D2E3FC;\n",
              "    }\n",
              "\n",
              "    [theme=dark] .colab-df-convert:hover {\n",
              "      background-color: #434B5C;\n",
              "      box-shadow: 0px 1px 3px 1px rgba(0, 0, 0, 0.15);\n",
              "      filter: drop-shadow(0px 1px 2px rgba(0, 0, 0, 0.3));\n",
              "      fill: #FFFFFF;\n",
              "    }\n",
              "  </style>\n",
              "\n",
              "      <script>\n",
              "        const buttonEl =\n",
              "          document.querySelector('#df-5f9f85ce-898d-47d9-8bfb-1b2467738a4f button.colab-df-convert');\n",
              "        buttonEl.style.display =\n",
              "          google.colab.kernel.accessAllowed ? 'block' : 'none';\n",
              "\n",
              "        async function convertToInteractive(key) {\n",
              "          const element = document.querySelector('#df-5f9f85ce-898d-47d9-8bfb-1b2467738a4f');\n",
              "          const dataTable =\n",
              "            await google.colab.kernel.invokeFunction('convertToInteractive',\n",
              "                                                     [key], {});\n",
              "          if (!dataTable) return;\n",
              "\n",
              "          const docLinkHtml = 'Like what you see? Visit the ' +\n",
              "            '<a target=\"_blank\" href=https://colab.research.google.com/notebooks/data_table.ipynb>data table notebook</a>'\n",
              "            + ' to learn more about interactive tables.';\n",
              "          element.innerHTML = '';\n",
              "          dataTable['output_type'] = 'display_data';\n",
              "          await google.colab.output.renderOutput(dataTable, element);\n",
              "          const docLink = document.createElement('div');\n",
              "          docLink.innerHTML = docLinkHtml;\n",
              "          element.appendChild(docLink);\n",
              "        }\n",
              "      </script>\n",
              "    </div>\n",
              "  </div>\n",
              "  "
            ]
          },
          "metadata": {},
          "execution_count": 152
        }
      ]
    },
    {
      "cell_type": "markdown",
      "metadata": {
        "id": "C4rG_SoNWC-z"
      },
      "source": [
        "## Decision Tree"
      ]
    },
    {
      "cell_type": "code",
      "source": [
        "data = pd.read_csv(\"train.csv\")"
      ],
      "metadata": {
        "id": "AJBpgd4AhF-7"
      },
      "execution_count": null,
      "outputs": []
    },
    {
      "cell_type": "code",
      "source": [
        "data[c] = data[c].replace(np.nan,'missing')\n"
      ],
      "metadata": {
        "id": "yDd5fqhkhDa1"
      },
      "execution_count": null,
      "outputs": []
    },
    {
      "cell_type": "code",
      "source": [
        "\n",
        "numFeatures = ['Age','Fare','SibSp','Parch']\n",
        "catFeatures = ['Pclass','Sex','Embarked']\n",
        "\n",
        "for c in catFeatures:\n",
        "  data[c] = data[c].replace(np.nan,'missing')"
      ],
      "metadata": {
        "id": "fkxf685zgq1-"
      },
      "execution_count": null,
      "outputs": []
    },
    {
      "cell_type": "code",
      "source": [
        "data[[x + '_t' for x in numFeatures]] = data[numFeatures].fillna(data[numFeatures].median())\n"
      ],
      "metadata": {
        "id": "s4_1nqPSgqn5"
      },
      "execution_count": null,
      "outputs": []
    },
    {
      "cell_type": "code",
      "source": [
        "# Target Encoding\n",
        "from category_encoders import TargetEncoder\n",
        "encoder = TargetEncoder()\n",
        "\n",
        "data[[x + '_num' for x in catFeatures]] = encoder.fit_transform(data[catFeatures], data['Survived'])\n"
      ],
      "metadata": {
        "colab": {
          "base_uri": "https://localhost:8080/"
        },
        "id": "5q4Mor1UgqVy",
        "outputId": "d058539b-12a3-4a63-c031-7b79091a5386"
      },
      "execution_count": null,
      "outputs": [
        {
          "output_type": "stream",
          "name": "stderr",
          "text": [
            "/usr/local/lib/python3.7/dist-packages/category_encoders/target_encoder.py:94: FutureWarning: Default parameter min_samples_leaf will change in version 2.6.See https://github.com/scikit-learn-contrib/category_encoders/issues/327\n",
            "  category=FutureWarning)\n",
            "/usr/local/lib/python3.7/dist-packages/category_encoders/target_encoder.py:99: FutureWarning: Default parameter smoothing will change in version 2.6.See https://github.com/scikit-learn-contrib/category_encoders/issues/327\n",
            "  category=FutureWarning)\n"
          ]
        }
      ]
    },
    {
      "cell_type": "code",
      "metadata": {
        "id": "vn8LsYCxqdmn"
      },
      "source": [
        "#Variables para el modelo\n",
        "\n",
        "numFeatures = ['Age_t','Fare_t','SibSp_t','Parch_t']\n",
        "catFeatures = ['Pclass_num','Sex_num','Embarked_num']\n",
        "\n",
        "X = data[numFeatures + catFeatures]\n",
        "y = data.Survived"
      ],
      "execution_count": null,
      "outputs": []
    },
    {
      "cell_type": "code",
      "metadata": {
        "id": "TEpxkOCIqjQu"
      },
      "source": [
        "# Muestreo de data\n",
        "from sklearn.model_selection import train_test_split\n",
        "\n",
        "X_train, X_test, y_train, y_test = train_test_split(X, y,\n",
        "                                                    test_size = 0.3,\n",
        "                                                    random_state = 123)"
      ],
      "execution_count": null,
      "outputs": []
    },
    {
      "cell_type": "code",
      "metadata": {
        "id": "qadf_-tSqqd2",
        "colab": {
          "base_uri": "https://localhost:8080/"
        },
        "outputId": "dfcbd830-f2e2-4bf6-ade6-055f4f765888"
      },
      "source": [
        "# Configuramos el modelo\n",
        "\n",
        "from sklearn.tree import DecisionTreeClassifier\n",
        "\n",
        "dtree = DecisionTreeClassifier(max_depth = 5,\n",
        "                               min_samples_leaf = int(round(y_train.shape[0]*0.05,0)),\n",
        "                               class_weight = {0:y_train.mean(),1:1},\n",
        "                               random_state = 123)\n",
        "dtree = dtree.fit(X_train, y_train)\n",
        "    \n",
        "dtree"
      ],
      "execution_count": null,
      "outputs": [
        {
          "output_type": "execute_result",
          "data": {
            "text/plain": [
              "DecisionTreeClassifier(class_weight={0: 0.391653290529695, 1: 1}, max_depth=5,\n",
              "                       min_samples_leaf=31, random_state=123)"
            ]
          },
          "metadata": {},
          "execution_count": 179
        }
      ]
    },
    {
      "cell_type": "code",
      "metadata": {
        "id": "tU-ydY5PsbXr",
        "colab": {
          "base_uri": "https://localhost:8080/"
        },
        "outputId": "455a53cf-3c52-4223-98f5-64e7fd2af71c"
      },
      "source": [
        "from sklearn.tree import export_graphviz\n",
        "from pydotplus import graph_from_dot_data\n",
        "\n",
        "dot_data = export_graphviz(dtree,\n",
        "                           feature_names = numFeatures + catFeatures,\n",
        "                           filled = True,\n",
        "                           rounded = True,\n",
        "                           special_characters = True)\n",
        "\n",
        "graph = graph_from_dot_data(dot_data)\n",
        "graph.write_png('tree.png')\n",
        "print(graph)\n"
      ],
      "execution_count": null,
      "outputs": [
        {
          "output_type": "stream",
          "name": "stdout",
          "text": [
            "<pydotplus.graphviz.Dot object at 0x7faeee4a15d0>\n"
          ]
        }
      ]
    },
    {
      "cell_type": "code",
      "metadata": {
        "id": "HoPohYMMtJhH"
      },
      "source": [
        "# Usando el modelo para predecir\n",
        "\n",
        "X_train['probability'] = dtree.predict_proba(X_train[numFeatures + catFeatures])[:,1]\n",
        "X_test['probability']  = dtree.predict_proba(X_test[numFeatures + catFeatures])[:,1]\n",
        "\n",
        "X_train['prediction'] = dtree.predict(X_train[numFeatures + catFeatures])\n",
        "X_test['prediction']  = dtree.predict(X_test[numFeatures + catFeatures])\n",
        "\n",
        "X_train['Survived'] = y_train\n",
        "X_test['Survived'] = y_test"
      ],
      "execution_count": null,
      "outputs": []
    },
    {
      "cell_type": "code",
      "metadata": {
        "id": "Cg6dDrRityJd"
      },
      "source": [
        "#Resumen de todas las métricas del modelo\n",
        "\n",
        "metricsDtree = pd.DataFrame({'metric':['AUC','Gini','Accuracy','Precision','Recall','F1-score'],\n",
        "                                'dTree_train':[roc_auc_score(y_train, X_train.probability),\n",
        "                                        (roc_auc_score(y_train, X_train.probability)*2-1),\n",
        "                                        accuracy_score(y_train, X_train.prediction),\n",
        "                                        precision_score(y_train, X_train.prediction),\n",
        "                                        recall_score(y_train, X_train.prediction),\n",
        "                                        f1_score(y_train, X_train.prediction)],\n",
        "\n",
        "                                'dTree_test':[roc_auc_score(y_test, X_test.probability),\n",
        "                                        (roc_auc_score(y_test, X_test.probability)*2-1),\n",
        "                                        accuracy_score(y_test, X_test.prediction),\n",
        "                                        precision_score(y_test, X_test.prediction),\n",
        "                                        recall_score(y_test, X_test.prediction),\n",
        "                                        f1_score(y_test, X_test.prediction)]})\n",
        "\n",
        "metricsDtree                                 "
      ],
      "execution_count": null,
      "outputs": []
    },
    {
      "cell_type": "code",
      "metadata": {
        "id": "XLM4Wzu1xArc"
      },
      "source": [
        "pd.merge(metricsLogisitc, metricsDtree, on = 'metric', how='left')"
      ],
      "execution_count": null,
      "outputs": []
    },
    {
      "cell_type": "markdown",
      "metadata": {
        "id": "x-4g7hHrRY22"
      },
      "source": [
        "### Gracias por completar este laboratorio!\n",
        "\n",
        "---\n",
        "\n"
      ]
    }
  ]
}