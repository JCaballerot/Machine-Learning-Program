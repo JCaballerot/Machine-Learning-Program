{
  "nbformat": 4,
  "nbformat_minor": 0,
  "metadata": {
    "colab": {
      "name": "Lab: Titanic.ipynb",
      "provenance": [],
      "authorship_tag": "ABX9TyPMTiptEXsoq58UyN8iX7Zm",
      "include_colab_link": true
    },
    "kernelspec": {
      "name": "python3",
      "display_name": "Python 3"
    }
  },
  "cells": [
    {
      "cell_type": "markdown",
      "metadata": {
        "id": "view-in-github",
        "colab_type": "text"
      },
      "source": [
        "<a href=\"https://colab.research.google.com/github/JCaballerot/Machine_learning_program/blob/main/Supervised_models/Logistic_regression/Lab_Titanic.ipynb\" target=\"_parent\"><img src=\"https://colab.research.google.com/assets/colab-badge.svg\" alt=\"Open In Colab\"/></a>"
      ]
    },
    {
      "cell_type": "markdown",
      "metadata": {
        "id": "XkAemYVYi7k5"
      },
      "source": [
        "\n",
        "\n",
        "<h1 align=center><font size = 5>Titanic - Machine Learning from Disaster</font></h1>\n",
        "\n",
        "---"
      ]
    },
    {
      "cell_type": "markdown",
      "metadata": {
        "id": "Is3nFhGglsft"
      },
      "source": [
        "## Tabla de Contenidos\n",
        "\n",
        "<div class=\"alert alert-block alert-info\" style=\"margin-top: 20px\">\n",
        "\n",
        "<font size = 3>\n",
        "    \n",
        "1. <a href=\"#item31\">Introducción</a>  \n",
        "2. <a href=\"#item32\">Descargar y limpiar el Dataset</a>  \n",
        "3. <a href=\"#item33\">Titanic Problem</a>  \n",
        "4. <a href=\"#item34\">Análisis y tratamiento de variables</a>  \n",
        "5. <a href=\"#item34\">Regresión Logística</a>  \n",
        "6. <a href=\"#item34\">Elastic Net</a>  \n",
        "\n",
        "</font>\n",
        "</div>"
      ]
    },
    {
      "cell_type": "markdown",
      "metadata": {
        "button": false,
        "deletable": true,
        "new_sheet": false,
        "run_control": {
          "read_only": false
        },
        "id": "R_NIQeNlLo19"
      },
      "source": [
        "## Introducción\n"
      ]
    },
    {
      "cell_type": "markdown",
      "metadata": {
        "id": "g7LRGuxBHMpw"
      },
      "source": [
        "En este laboratorio, aprenderá a usar python para construir un modelo de regresión logística."
      ]
    },
    {
      "cell_type": "markdown",
      "metadata": {
        "id": "yFB_r2dkHMp7"
      },
      "source": [
        "\n",
        "<h3>Objetivo de este Notebook<h3>    \n",
        "<h5> 1. Como construir e interpretar un modelo de regresión logística.</h5>\n",
        "<h5> 2. Descargar y limpiar un Dataset </h5>\n",
        "<h5> 3. Realizar los pasos necesarios previos a la etapa de modelamiento </h5>\n",
        "<h5> 4. Entrenar y Testear modelo </h5>     "
      ]
    },
    {
      "cell_type": "markdown",
      "metadata": {
        "button": false,
        "deletable": true,
        "new_sheet": false,
        "run_control": {
          "read_only": false
        },
        "id": "iYo1JVdwmPKW"
      },
      "source": [
        "## Descargar y limpiar Dataset\n"
      ]
    },
    {
      "cell_type": "markdown",
      "metadata": {
        "id": "cWBGqVX6HMp8"
      },
      "source": [
        "Primero, importemos algunos módulos que necesitaremos para el análisis y construcción del modelo."
      ]
    },
    {
      "cell_type": "code",
      "metadata": {
        "id": "PEMIsurDJf4M"
      },
      "source": [
        "# Imports comunes\n",
        "import pandas as pd\n",
        "import numpy as np\n"
      ],
      "execution_count": 1,
      "outputs": []
    },
    {
      "cell_type": "code",
      "source": [
        "# Configuración de gráficos matplotlib\n",
        "%matplotlib inline\n",
        "import matplotlib as mpl\n",
        "import matplotlib.pyplot as plt\n",
        "\n",
        "mpl.rc('axes', labelsize=14)\n",
        "mpl.rc('xtick', labelsize=12)\n",
        "mpl.rc('ytick', labelsize=12)\n",
        "\n",
        "# Cargar seaborn\n",
        "import seaborn as sns\n",
        "sns.set(style=\"whitegrid\", color_codes = True)\n",
        "sns.set(rc={'figure.figsize':(10,6)})\n"
      ],
      "metadata": {
        "id": "ZyG6epi2JTBu"
      },
      "execution_count": 2,
      "outputs": []
    },
    {
      "cell_type": "markdown",
      "metadata": {
        "id": "rtJhMpGIoKSg"
      },
      "source": [
        "## Esta es la legendaria competencia Titanic ML\n"
      ]
    },
    {
      "cell_type": "markdown",
      "metadata": {
        "id": "KZwf0QHnLBB6"
      },
      "source": [
        "\n",
        "El hundimiento del Titanic es uno de los naufragios más infames de la historia.\n",
        "\n",
        "El 15 de abril de 1912, durante su viaje inaugural, el RMS Titanic, ampliamente considerado \"insumergible\", se hundió tras chocar con un iceberg. Desafortunadamente, no había suficientes botes salvavidas para todos a bordo, lo que resultó en la muerte de 1502 de los 2224 pasajeros y la tripulación.\n",
        "\n",
        "Si bien hubo algún elemento de suerte involucrado en sobrevivir, parece que algunos grupos de personas tenían más probabilidades de sobrevivir que otros.\n",
        "\n",
        "En este desafío, le pedimos que cree un modelo predictivo que responda a la pregunta: \"¿Qué tipo de personas tenían más probabilidades de sobrevivir?\" utilizando datos de pasajeros (es decir, nombre, edad, sexo, clase socioeconómica, etc.)."
      ]
    },
    {
      "cell_type": "markdown",
      "metadata": {
        "id": "WMTTs7KsMZIF"
      },
      "source": [
        "<img src=\"https://storage.googleapis.com/kaggle-media/welcome/video_thumbnail.jpg\" alt=\"HTML5 Icon\" style=\"width: 600px; height: 450px;\">\n",
        "<div style=\"text-align: center\">¿Qué tipo de personas tenían más probabilidades de sobrevivir? </div>"
      ]
    },
    {
      "cell_type": "markdown",
      "metadata": {
        "id": "RA0bDOj5LtM7"
      },
      "source": [
        "\n",
        "<b>Descripción de datos</b>\n",
        "\n",
        "El data frame de Titanic tiene 891 filas y 12 columnas.\n",
        "\n",
        "<b>Este data frame contiene las siguientes columnas:</b>\n",
        "\n",
        "---\n",
        "\n",
        "* <b>Survival : </b>  Supervivencia (0 = No, 1 = Sí)\n",
        "* <b>Pclass : </b>  Ticket class (1 = 1st, 2 = 2nd, 3 = 3rd)\n",
        "* <b>Sex : </b>  Sexo\n",
        "* <b>Age : </b>  Edad en años\n",
        "* <b>Sibsp : </b>  # de hermanos / cónyuges a bordo del Titanic\n",
        "* <b>Parch : </b>  # de padres / hijos a bordo del Titanic\n",
        "\n",
        "* <b>Ticket : </b>  Número de ticket\n",
        "\n",
        "* <b>Fare : </b>  Tarifa de pasajero\n",
        "* <b>Cabin : </b>  Número de cabina\n",
        "* <b>Embarked : </b>  Puerto de embarque (C = Cherburgo, Q = Queenstown, S = Southampton)\n",
        "\n",
        "\n",
        "\n",
        "---\n",
        "\n",
        "\n",
        "<strong>Puede consultar este [link](https://www.kaggle.com/c/titanic/overview) para leer más sobre la fuente de datos Titanic.</strong>\n"
      ]
    },
    {
      "cell_type": "markdown",
      "metadata": {
        "button": false,
        "deletable": true,
        "new_sheet": false,
        "run_control": {
          "read_only": false
        },
        "id": "_dC4JellLo2B"
      },
      "source": [
        "## 1. Descargar y explorar Dataset\n"
      ]
    },
    {
      "cell_type": "code",
      "metadata": {
        "id": "5kN2lGD0JxPu"
      },
      "source": [
        "# Cargar Data\n",
        "data = pd.read_csv(\"train_titanic.csv\")"
      ],
      "execution_count": 3,
      "outputs": []
    },
    {
      "cell_type": "code",
      "source": [
        "# Definiendo variable target\n",
        "target = 'Survived'"
      ],
      "metadata": {
        "id": "BZkb5NV3Jqjb"
      },
      "execution_count": 4,
      "outputs": []
    },
    {
      "cell_type": "markdown",
      "source": [
        "Analizando la variable Target"
      ],
      "metadata": {
        "id": "tFhCn0zlKifb"
      }
    },
    {
      "cell_type": "code",
      "source": [
        "sns.set(style=\"whitegrid\")  # Establece el estilo\n",
        "plt.figure(figsize=(6, 3))  # Tamaño\n",
        "\n",
        "# Crea un countplot\n",
        "ax = sns.countplot(x='Survived', data=data, palette='hls')\n",
        "\n",
        "# Personaliza el gráfico\n",
        "ax.set_title('Sobrevivientes en el Titanic', fontsize=14)\n",
        "ax.set_xlabel('Sobreviviente', fontsize=10)\n",
        "ax.set_ylabel('Cantidad', fontsize=10)\n",
        "ax.set_xticklabels(['No', 'Sí'], fontsize=10)\n",
        "ax.yaxis.grid(False)\n",
        "\n",
        "# Muestra el gráfico\n",
        "plt.show()"
      ],
      "metadata": {
        "id": "tJlOEm9QKHON"
      },
      "execution_count": null,
      "outputs": []
    },
    {
      "cell_type": "markdown",
      "source": [
        "Tambié se puede analizar la data de forma exploratoria con tablas descriptivas."
      ],
      "metadata": {
        "id": "e4yUEznSK9j2"
      }
    },
    {
      "cell_type": "code",
      "source": [
        "data.groupby(['Pclass']).agg({\"PassengerId\":\"count\",\n",
        "                              \"Fare\" :\"mean\",\n",
        "                              \"Age\" : \"mean\",\n",
        "                              \"Survived\" : \"mean\"}).reset_index()\n",
        ""
      ],
      "metadata": {
        "id": "qnyJumXyifFK"
      },
      "execution_count": null,
      "outputs": []
    },
    {
      "cell_type": "markdown",
      "metadata": {
        "id": "eOc7yNcg9KVo"
      },
      "source": [
        "## 2. Análisis exploratorio (EDA)"
      ]
    },
    {
      "cell_type": "markdown",
      "source": [
        "<b>Analizando variables categóricas</b>\n"
      ],
      "metadata": {
        "id": "tnHivJimYtOn"
      }
    },
    {
      "cell_type": "code",
      "source": [
        "plt.figure(figsize=(6, 3))  # Tamaño\n",
        "\n",
        "# Crea un countplot\n",
        "ax = sns.countplot(x='Sex', data=data, palette='hls')\n",
        "\n",
        "# Personaliza el gráfico\n",
        "ax.set_title('Género de los pasajeros', fontsize=14)\n",
        "ax.set_xlabel('Género', fontsize=10)\n",
        "ax.set_ylabel('Cantidad', fontsize=10)\n",
        "ax.set_xticklabels(['Male', 'Female'], fontsize=10)\n",
        "ax.yaxis.grid(False)\n",
        "\n",
        "# Muestra el gráfico\n",
        "plt.show()"
      ],
      "metadata": {
        "id": "NpdovCboLM2S"
      },
      "execution_count": null,
      "outputs": []
    },
    {
      "cell_type": "code",
      "metadata": {
        "id": "IQU5RXO2-ISB"
      },
      "source": [
        "res = data.groupby(['Sex']).agg({\"PassengerId\":\"count\",\n",
        "                           \"Survived\" :\"mean\"}).reset_index()\n",
        "res"
      ],
      "execution_count": 45,
      "outputs": []
    },
    {
      "cell_type": "code",
      "source": [
        "# Countplot\n",
        "fig, ax1 = plt.subplots(figsize=(6, 3))\n",
        "sns.countplot(x='Sex', data=data, ax=ax1, palette='hls')\n",
        "\n",
        "# Configurar el eje Y para contar PassengerId\n",
        "ax1.set_ylabel('Count', fontsize=10)\n",
        "\n",
        "# Crear un segundo eje para la línea\n",
        "ax2 = ax1.twinx()\n",
        "\n",
        "# Gráfico de línea para Survived\n",
        "sns.lineplot(x='Sex', y='Survived', data=res, ax=ax2, color='red', marker='o', sort=False, errorbar=None)\n",
        "\n",
        "# Configurar el eje Y para el Survived\n",
        "ax2.set_ylabel('Survival Rate', fontsize=10)\n",
        "ax2.set_ylim(0, 1)  # La tasa de supervivencia varía entre 0 y 1\n",
        "\n",
        "# Añadir título\n",
        "plt.title('Ratio de supervivencia por género', fontsize=12)\n",
        "ax1.yaxis.grid(False)\n",
        "ax2.yaxis.grid(False)\n",
        "\n",
        "# Mostrar el gráfico\n",
        "plt.show()"
      ],
      "metadata": {
        "id": "xQO_qtOMMSb9"
      },
      "execution_count": null,
      "outputs": []
    },
    {
      "cell_type": "code",
      "source": [
        "res = data.groupby(['Pclass']).agg({\"PassengerId\":\"count\",\n",
        "                                   \"Survived\" :\"mean\"}).reset_index()\n",
        "\n",
        "fig, ax1 = plt.subplots(figsize=(6, 3))\n",
        "\n",
        "# Gráfico de línea para Survived\n",
        "sns.countplot(x='Pclass', data=data, ax=ax1, palette='hls')\n",
        "ax2 = ax1.twinx()\n",
        "sns.lineplot(x='Pclass', y='Survived', data=res, color='red', marker='o', ax=ax2, sort=False, errorbar=None)\n",
        "\n"
      ],
      "metadata": {
        "id": "A4lLqYtplfqD"
      },
      "execution_count": null,
      "outputs": []
    },
    {
      "cell_type": "markdown",
      "metadata": {
        "id": "e6wvDM6P9QSY"
      },
      "source": [
        "<b>Analizando variables numéricas</b>\n",
        "\n",
        "\n"
      ]
    },
    {
      "cell_type": "markdown",
      "source": [
        "### Discretización Personalizada"
      ],
      "metadata": {
        "id": "N-S2g19cVJAi"
      }
    },
    {
      "cell_type": "code",
      "source": [
        "from math import isnan\n",
        "\n",
        "# defino los cortes\n",
        "def catedad(x):\n",
        "  if isnan(x):\n",
        "    return 'missing'\n",
        "  elif x <= 18:\n",
        "    return 'a. <=18'\n",
        "  elif x <= 30:\n",
        "    return 'b. 18-30'\n",
        "  elif x <= 45:\n",
        "    return 'c. 30-45'\n",
        "  elif x <= 50:\n",
        "    return 'd. 45-50'\n",
        "  else:\n",
        "    return 'e. >50'"
      ],
      "metadata": {
        "id": "VLbP1o2jl0w5"
      },
      "execution_count": 66,
      "outputs": []
    },
    {
      "cell_type": "code",
      "source": [
        "# Aplicando categorizacion personalizada\n",
        "temp = data.copy()\n",
        "temp = temp.dropna()\n",
        "temp['edad_cat'] = data.Age.apply(lambda x: catedad(x))"
      ],
      "metadata": {
        "id": "v_Td0LKdS7kE"
      },
      "execution_count": 76,
      "outputs": []
    },
    {
      "cell_type": "code",
      "source": [
        "# Calculando la tasa de supervivencia por categoría de edad\n",
        "survived_rate = temp.groupby('edad_cat').agg(\n",
        "    PassengerId_count=('PassengerId', 'count'),\n",
        "    Survived_rate=('Survived', 'mean')).reset_index()"
      ],
      "metadata": {
        "id": "BmdrnKxXUejN"
      },
      "execution_count": 77,
      "outputs": []
    },
    {
      "cell_type": "code",
      "source": [
        "# Crear un gráfico de barras con dos ejes\n",
        "fig, ax1 = plt.subplots(figsize=(6, 3))\n",
        "\n",
        "# Barras para el conteo de PassengerId\n",
        "sns.barplot(x='edad_cat', y='PassengerId_count', data=survived_rate, ax=ax1, color='skyblue')\n",
        "\n",
        "# Configurar el eje Y para el conteo de PassengerId\n",
        "ax1.set_ylabel('Count of Passengers', fontsize=10)\n",
        "ax1.set_xlabel('Age Category', fontsize=10)\n",
        "\n",
        "# Crear un segundo eje para la línea\n",
        "ax2 = ax1.twinx()\n",
        "\n",
        "# Gráfico de línea para la tasa de supervivencia\n",
        "sns.lineplot(x='edad_cat', y='Survived_rate', data=survived_rate, ax=ax2, color='red', marker='o')\n",
        "\n",
        "# Configurar el eje Y para la tasa de supervivencia\n",
        "ax2.set_ylabel('Survival Rate', fontsize=10)\n",
        "ax2.set_ylim(0, 1)\n",
        "\n",
        "# Añadir título\n",
        "plt.title('Passenger Count and Survival Rate by Age Category', fontsize=12)\n",
        "ax1.yaxis.grid(False)\n",
        "ax2.yaxis.grid(False)\n",
        "\n",
        "# Mostrar el gráfico\n",
        "plt.show()"
      ],
      "metadata": {
        "id": "p6jNV3TzUcEY"
      },
      "execution_count": 87,
      "outputs": []
    },
    {
      "cell_type": "code",
      "source": [
        "temp.groupby(['edad_cat']).agg({\"PassengerId\":\"count\", \"Survived\" :\"mean\"}).reset_index()"
      ],
      "metadata": {
        "id": "sB4u0iVzn_jI"
      },
      "execution_count": 85,
      "outputs": []
    },
    {
      "cell_type": "markdown",
      "source": [
        "### Discretización Uniforme"
      ],
      "metadata": {
        "id": "v9pcKnW-VcvN"
      }
    },
    {
      "cell_type": "code",
      "metadata": {
        "id": "RvmRAE9OiRE8"
      },
      "source": [
        "# Discretizar variable con kBinsDiscretizer\n",
        "\n",
        "from sklearn.preprocessing import KBinsDiscretizer\n",
        "\n",
        "data['Age_cat'] = KBinsDiscretizer(n_bins = 6, # Número de cortes o bins\n",
        "                                   encode = 'ordinal', # Tipo de codificación que se le dará a la variable creada\n",
        "                                   strategy = \"uniform\" # método de discretización\n",
        "                                   ).fit_transform(data[['Age']].fillna(data[['Age']].mean()))\n"
      ],
      "execution_count": 102,
      "outputs": []
    },
    {
      "cell_type": "code",
      "metadata": {
        "id": "pIDUcAXHuL2N"
      },
      "source": [
        "# Calculando la tasa de supervivencia por categoría de edad\n",
        "survived_rate = data.groupby('Age_cat').agg(\n",
        "    PassengerId_count=('PassengerId', 'count'),\n",
        "    Survived_rate=('Survived', 'mean')).reset_index()\n",
        "\n",
        "# Crear un gráfico de barras con dos ejes\n",
        "fig, ax1 = plt.subplots(figsize=(6, 3))\n",
        "\n",
        "# Barras para el conteo de PassengerId\n",
        "sns.barplot(x='Age_cat', y='PassengerId_count', data=survived_rate, ax=ax1, color='skyblue')\n",
        "\n",
        "# Configurar el eje Y para el conteo de PassengerId\n",
        "ax1.set_ylabel('Count of Passengers', fontsize=10)\n",
        "ax1.set_xlabel('Age Category', fontsize=10)\n",
        "\n",
        "# Crear un segundo eje para la línea\n",
        "ax2 = ax1.twinx()\n",
        "\n",
        "# Gráfico de línea para la tasa de supervivencia\n",
        "sns.lineplot(x='Age_cat', y='Survived_rate', data=survived_rate, ax=ax2, color='red', marker='o')\n",
        "\n",
        "# Configurar el eje Y para la tasa de supervivencia\n",
        "ax2.set_ylabel('Survival Rate', fontsize=10)\n",
        "ax2.set_ylim(0, 1)\n",
        "\n",
        "# Añadir título\n",
        "plt.title('Passenger Count and Survival Rate by Age Category', fontsize=12)\n",
        "ax1.yaxis.grid(False)\n",
        "ax2.yaxis.grid(False)\n",
        "\n",
        "# Mostrar el gráfico\n",
        "plt.show()"
      ],
      "execution_count": 104,
      "outputs": []
    },
    {
      "cell_type": "markdown",
      "source": [
        "### Discretización Quantile"
      ],
      "metadata": {
        "id": "pdSmAOzsW8pM"
      }
    },
    {
      "cell_type": "code",
      "metadata": {
        "id": "WQaEc6AQW8pO"
      },
      "source": [
        "# Discretizar variable con kBinsDiscretizer\n",
        "\n",
        "from sklearn.preprocessing import KBinsDiscretizer\n",
        "\n",
        "data['Age_cat'] = KBinsDiscretizer(n_bins = 6, # Número de cortes o bins\n",
        "                                   encode = 'ordinal', # Tipo de codificación que se le dará a la variable creada\n",
        "                                   strategy = \"quantile\" # método de discretización\n",
        "                                   ).fit_transform(data[['Age']].fillna(data[['Age']].mean()))\n"
      ],
      "execution_count": 105,
      "outputs": []
    },
    {
      "cell_type": "code",
      "metadata": {
        "id": "tfhDJvgcW8pO"
      },
      "source": [
        "# Calculando la tasa de supervivencia por categoría de edad\n",
        "survived_rate = data.groupby('Age_cat').agg(\n",
        "    PassengerId_count=('PassengerId', 'count'),\n",
        "    Survived_rate=('Survived', 'mean')).reset_index()\n",
        "\n",
        "# Crear un gráfico de barras con dos ejes\n",
        "fig, ax1 = plt.subplots(figsize=(6, 3))\n",
        "\n",
        "# Barras para el conteo de PassengerId\n",
        "sns.barplot(x='Age_cat', y='PassengerId_count', data=survived_rate, ax=ax1, color='skyblue')\n",
        "\n",
        "# Configurar el eje Y para el conteo de PassengerId\n",
        "ax1.set_ylabel('Count of Passengers', fontsize=10)\n",
        "ax1.set_xlabel('Age Category', fontsize=10)\n",
        "\n",
        "# Crear un segundo eje para la línea\n",
        "ax2 = ax1.twinx()\n",
        "\n",
        "# Gráfico de línea para la tasa de supervivencia\n",
        "sns.lineplot(x='Age_cat', y='Survived_rate', data=survived_rate, ax=ax2, color='red', marker='o')\n",
        "\n",
        "# Configurar el eje Y para la tasa de supervivencia\n",
        "ax2.set_ylabel('Survival Rate', fontsize=10)\n",
        "ax2.set_ylim(0, 1)\n",
        "\n",
        "# Añadir título\n",
        "plt.title('Passenger Count and Survival Rate by Age Category', fontsize=12)\n",
        "ax1.yaxis.grid(False)\n",
        "ax2.yaxis.grid(False)\n",
        "\n",
        "# Mostrar el gráfico\n",
        "plt.show()"
      ],
      "execution_count": 107,
      "outputs": []
    },
    {
      "cell_type": "markdown",
      "source": [
        "Análisis de sentidos por segmento"
      ],
      "metadata": {
        "id": "DYrd0RyJXNr0"
      }
    },
    {
      "cell_type": "code",
      "metadata": {
        "id": "cZuY-kLx6By0"
      },
      "source": [
        "# Ratio del evento por tramo dela variable numérica\n",
        "sns.lineplot(data=data, x=\"Age_cat\", y=\"Survived\", palette = 'hls', hue = 'Sex')"
      ],
      "execution_count": 108,
      "outputs": []
    },
    {
      "cell_type": "markdown",
      "source": [
        "*Es interesante notar como el sentido del target varia den distintos segmentos"
      ],
      "metadata": {
        "id": "HfXwQ4T9Xeux"
      }
    },
    {
      "cell_type": "markdown",
      "source": [
        "## 3. Muestreo Train/Test"
      ],
      "metadata": {
        "id": "7ZINsJTkYtW3"
      }
    },
    {
      "cell_type": "code",
      "source": [
        "# Muestreo de data\n",
        "from sklearn.model_selection import train_test_split\n",
        "\n",
        "train, test = train_test_split(data,\n",
        "                               test_size = 0.3,\n",
        "                               random_state = 123)\n"
      ],
      "metadata": {
        "id": "XU6tIDWtYvt8"
      },
      "execution_count": 112,
      "outputs": []
    },
    {
      "cell_type": "markdown",
      "metadata": {
        "id": "4R6xTdtyBgBD"
      },
      "source": [
        "## 4.  Tratamiento de variables categoricas"
      ]
    },
    {
      "cell_type": "code",
      "metadata": {
        "id": "WeaBquXWCRnW"
      },
      "source": [
        "#Variables\n",
        "\n",
        "numFeatures = ['Age','Fare','SibSp','Parch']\n",
        "catFeatures = ['Pclass','Sex','Embarked']\n"
      ],
      "execution_count": 113,
      "outputs": []
    },
    {
      "cell_type": "code",
      "source": [
        "data[catFeatures].head()"
      ],
      "metadata": {
        "id": "0m7mogABXpQk"
      },
      "execution_count": null,
      "outputs": []
    },
    {
      "cell_type": "markdown",
      "metadata": {
        "id": "BzjJoA4znq1u"
      },
      "source": [
        "### Encoding de variables categóricas"
      ]
    },
    {
      "cell_type": "markdown",
      "metadata": {
        "id": "NkpAoL6tI7mS"
      },
      "source": [
        "\n",
        "---\n",
        "\n",
        "<h3>Label Encoding</h3>\n",
        "\n",
        "El label encoding consiste en asignar un número (por lo general entero) a cada una de las categorías de la variable categórica.\n",
        "\n",
        "<img src=\"https://miro.medium.com/max/772/1*QQe-4476Oy3_dI1vhb3dDg.png\" alt=\"HTML5 Icon\" style=\"width: 1600px; height: 1250px;\">\n",
        "\n",
        "\n",
        "\n",
        "---\n",
        "\n",
        "<h3>One Hot Encoding</h3>\n",
        "\n",
        "El One hot encoding es un proceso que consiste en dummizar cada catgoría de la variable en una nueva variable, de esta manera las nuevas variables se activarán dependiendo del valor que tome la variable original.\n",
        "\n",
        "<img src=\"https://encrypted-tbn0.gstatic.com/images?q=tbn:ANd9GcTr11qA6j0WCbEYrfNoQ7QO_NpMIZus42BJwQ&usqp=CAU\" alt=\"HTML5 Icon\" style=\"width: 1600px; height: 1250px;\">\n",
        "\n",
        "---\n",
        "\n",
        "<div style=\"text-align: center\">Ejemplo de one hot Encoding </div>\n",
        "\n",
        "<h3>Target Encoding</h3>\n",
        "\n",
        "El target encoding es una técnica que consiste en inputar el promedio del target a cada uno de los valores de la variable categórica.\n",
        "\n",
        "<img src=\"https://lh6.googleusercontent.com/6_KrGj2k9NvcLVfmZ6HIYruAqav4rX86YU7WOhXofDGd6-98JjUPWajo0dDqmFMXv3tN0b_LOmgYLiPMCFyIWw3b7lVrCAiSboWgJ_AJ4TqHpNWUHkgIxl0xuSF9JdSXNbWG48QS\" alt=\"HTML5 Icon\" style=\"width: 500px; height: 350px;\">\n",
        "\n",
        "---\n"
      ]
    },
    {
      "cell_type": "code",
      "metadata": {
        "id": "zUycw86zHG8B"
      },
      "source": [
        "# Tratamiento de variables categóricas"
      ],
      "execution_count": null,
      "outputs": []
    },
    {
      "cell_type": "code",
      "source": [
        "# Rellenado de missings\n",
        "data[catFeatures].fillna('missing', inplace = True)"
      ],
      "metadata": {
        "id": "4kGqsDvBYlH_"
      },
      "execution_count": null,
      "outputs": []
    },
    {
      "cell_type": "code",
      "source": [
        "data[catFeatures].drop_duplicates().head(20)"
      ],
      "metadata": {
        "id": "O94j7giwYJXd"
      },
      "execution_count": null,
      "outputs": []
    },
    {
      "cell_type": "code",
      "source": [
        "# Como se nos escapan algunos missings reemplazamos las filas NaN por una categoría específica para missings\n",
        "for c in catFeatures:\n",
        "  data[c] = data[c].replace(np.nan,'missing')\n",
        "\n",
        "data[catFeatures].drop_duplicates()"
      ],
      "metadata": {
        "id": "v0ev-isjYjvu"
      },
      "execution_count": null,
      "outputs": []
    },
    {
      "cell_type": "markdown",
      "metadata": {
        "id": "vM_1HfFpnIsw"
      },
      "source": [
        "<h3>One Hot Encoding</h3>"
      ]
    },
    {
      "cell_type": "code",
      "source": [
        "from sklearn.preprocessing import OneHotEncoder\n",
        "\n",
        "OneHotEncoder = OneHotEncoder(sparse_output = True # Cambia el formato del output a dataframe o array\n",
        "                              )\n"
      ],
      "metadata": {
        "id": "aIQ5tu3TU1ol"
      },
      "execution_count": 110,
      "outputs": []
    },
    {
      "cell_type": "code",
      "source": [
        "# Aplicamos one hot encoder\n",
        "OneHotEncoder.fit(train[catFeatures])\n",
        "\n",
        "train[OneHotEncoder.get_feature_names_out(catFeatures)] = OneHotEncoder.transform(train[catFeatures]).toarray()\n",
        "test[OneHotEncoder.get_feature_names_out(catFeatures)] = OneHotEncoder.transform(test[catFeatures]).toarray()\n"
      ],
      "metadata": {
        "id": "ythu5QhBU25w"
      },
      "execution_count": 116,
      "outputs": []
    },
    {
      "cell_type": "code",
      "source": [
        "train[['Sex', 'Sex_female', 'Sex_male']].head()"
      ],
      "metadata": {
        "id": "VG3a7tmaYoDP"
      },
      "execution_count": null,
      "outputs": []
    },
    {
      "cell_type": "markdown",
      "metadata": {
        "id": "szuWpiMqmwvL"
      },
      "source": [
        "<h3>Target Encoding</h3>"
      ]
    },
    {
      "cell_type": "code",
      "metadata": {
        "id": "0pcSepG4TZa-"
      },
      "source": [
        "%%capture\n",
        "!pip install category_encoders"
      ],
      "execution_count": 124,
      "outputs": []
    },
    {
      "cell_type": "code",
      "source": [
        "# Aplicando category encoders\n",
        "from category_encoders import TargetEncoder\n",
        "\n",
        "encoder = TargetEncoder(handle_unknown = 'infrequent_if_exist', # Qué hacer con categorias nuevas desconocidas\n",
        "                        handle_missing = 'value', # Qué hacer con missings\n",
        "                        min_samples_leaf = 30) # Cantidad mínima de N por categoría\n"
      ],
      "metadata": {
        "id": "i-7wdFRCWeOx"
      },
      "execution_count": 125,
      "outputs": []
    },
    {
      "cell_type": "code",
      "source": [
        "encoder.fit(train[catFeatures].astype('category'), train[target])\n",
        "\n",
        "train[[x + '_coded' for x in catFeatures]] = encoder.transform(train[catFeatures].astype('category'))\n",
        "test[[x + '_coded' for x in catFeatures]] = encoder.transform(test[catFeatures].astype('category'))\n"
      ],
      "metadata": {
        "id": "5_RkiXvSWpq1"
      },
      "execution_count": 126,
      "outputs": []
    },
    {
      "cell_type": "code",
      "source": [
        "test[['Sex','Sex_coded']].drop_duplicates()"
      ],
      "metadata": {
        "id": "BpoXjlSeZvuJ"
      },
      "execution_count": null,
      "outputs": []
    },
    {
      "cell_type": "code",
      "source": [
        "test[['Pclass','Pclass_coded']].drop_duplicates()\n"
      ],
      "metadata": {
        "id": "lLb0vfJ_ZxgY"
      },
      "execution_count": null,
      "outputs": []
    },
    {
      "cell_type": "markdown",
      "source": [
        "## 5. Análisis univariado"
      ],
      "metadata": {
        "id": "u-gwuMUfZzgs"
      }
    },
    {
      "cell_type": "code",
      "source": [
        "\n",
        "# Creando métricas de las variables\n",
        "\n",
        "univariate = train[numFeatures].describe(percentiles = [0.01, 0.25, 0.5, 0.75, 0.99]).transpose()\n",
        "univariate.reset_index(inplace = True)\n",
        "univariate.rename(columns = {'index':'feature',\n",
        "                             '1%': 'P1',\n",
        "                             '25%': 'Q1',\n",
        "                             '50%': 'median',\n",
        "                             '75%': 'Q3',\n",
        "                             '99%': 'P99'}, inplace = True)\n",
        "\n",
        "univariate[['missing_rate']] = 1 - univariate[['count']]/train.shape[0]\n",
        "univariate.sort_values(by = 'missing_rate', ascending = False, inplace = True)\n"
      ],
      "metadata": {
        "id": "TlbYWGT-Z4UN"
      },
      "execution_count": null,
      "outputs": []
    },
    {
      "cell_type": "markdown",
      "metadata": {
        "id": "l-USf44pnQqv"
      },
      "source": [
        "## 6. Tratamiento de variables numéricas\n",
        "\n",
        "\n"
      ]
    },
    {
      "cell_type": "code",
      "metadata": {
        "id": "oxT_G0swngqE"
      },
      "source": [
        "# Tratamiento de outliers por percentiles\n",
        "\n",
        "univariate['li_per'] = univariate['P1']\n",
        "univariate['ls_per'] = univariate['P99']\n"
      ],
      "execution_count": null,
      "outputs": []
    },
    {
      "cell_type": "code",
      "source": [
        "# Tratamiento de outliers por Z-score\n",
        "\n",
        "def ric(dataframe, univariate, featuresToTreat):\n",
        "  for col in featuresToTreat:\n",
        "    desc = univariate.loc[univariate.feature == col]\n",
        "    dataframe[col + '_per'] = dataframe[col].apply(lambda x: desc.ls_per.values[0] if x > desc.ls_per.values[0]\n",
        "                                                            else desc.li_per.values[0] if x < desc.li_per.values[0]\n",
        "                                                            else x)\n",
        "  return dataframe\n"
      ],
      "metadata": {
        "id": "6Mh0z45VbBMA"
      },
      "execution_count": null,
      "outputs": []
    },
    {
      "cell_type": "code",
      "source": [
        "train_I = ric(train, univariate, univariate.feature.tolist())\n",
        "test_I  = ric(test,  univariate, univariate.feature.tolist())"
      ],
      "metadata": {
        "id": "CSfLx08tbNMd"
      },
      "execution_count": null,
      "outputs": []
    },
    {
      "cell_type": "markdown",
      "source": [
        "## 7. Tratamiento de missings"
      ],
      "metadata": {
        "id": "QpvOqmyEb4IV"
      }
    },
    {
      "cell_type": "code",
      "metadata": {
        "id": "_SmrbJFWrKx1"
      },
      "source": [
        "# Trataiento de missings\n",
        "\n",
        "featsTofill = [x + '_per' for x in numFeatures]\n",
        "\n",
        "train_I[featsTofill] = train_I[featsTofill].fillna(train_I[featsTofill].median())\n",
        "test_I[featsTofill]  = test_I[featsTofill].fillna(train_I[featsTofill].median())\n"
      ],
      "execution_count": null,
      "outputs": []
    },
    {
      "cell_type": "code",
      "source": [
        "variables = ['Age_per','Fare_per','SibSp_per','Parch_per', 'Pclass_coded', 'Sex_coded', 'Embarked_coded']\n",
        "\n"
      ],
      "metadata": {
        "id": "vmJm4yc0jP6f",
        "outputId": "188aac6f-fe9d-4bea-df4a-f9c5acbb954f",
        "colab": {
          "base_uri": "https://localhost:8080/",
          "height": 424
        }
      },
      "execution_count": null,
      "outputs": [
        {
          "output_type": "execute_result",
          "data": {
            "text/plain": [
              "      Age_per  Fare_per  SibSp_per  Parch_per  Pclass_coded  Sex_coded  \\\n",
              "416  0.357500  0.008193   0.447507   0.918294      0.460994   1.342910   \n",
              "801  0.120687 -0.128252   0.447507   0.918294      0.460994   1.342910   \n",
              "512  0.515376 -0.127433  -0.464727  -0.494291      1.555023  -0.743456   \n",
              "455 -0.037188 -0.528947  -0.464727  -0.494291     -0.830134  -0.743456   \n",
              "757 -0.905502 -0.450263  -0.464727  -0.494291      0.460994  -0.743456   \n",
              "..        ...       ...        ...        ...           ...        ...   \n",
              "98   0.357500 -0.199204  -0.464727   0.918294      0.460994   1.342910   \n",
              "322  0.041750 -0.431706  -0.464727  -0.494291      0.460994   1.342910   \n",
              "382  0.199625 -0.528310  -0.464727  -0.494291     -0.830134  -0.743456   \n",
              "365  0.041750 -0.543046  -0.464727  -0.494291     -0.830134  -0.743456   \n",
              "510 -0.037188 -0.532130  -0.464727  -0.494291     -0.830134  -0.743456   \n",
              "\n",
              "     Embarked_coded  \n",
              "416       -0.550933  \n",
              "801       -0.550933  \n",
              "512       -0.550933  \n",
              "455        2.084435  \n",
              "757       -0.550933  \n",
              "..              ...  \n",
              "98        -0.550933  \n",
              "322        0.373829  \n",
              "382       -0.550933  \n",
              "365       -0.550933  \n",
              "510        0.373829  \n",
              "\n",
              "[623 rows x 7 columns]"
            ],
            "text/html": [
              "\n",
              "  <div id=\"df-10eed1cf-94b0-4e57-8ba0-2bcd414f67b9\">\n",
              "    <div class=\"colab-df-container\">\n",
              "      <div>\n",
              "<style scoped>\n",
              "    .dataframe tbody tr th:only-of-type {\n",
              "        vertical-align: middle;\n",
              "    }\n",
              "\n",
              "    .dataframe tbody tr th {\n",
              "        vertical-align: top;\n",
              "    }\n",
              "\n",
              "    .dataframe thead th {\n",
              "        text-align: right;\n",
              "    }\n",
              "</style>\n",
              "<table border=\"1\" class=\"dataframe\">\n",
              "  <thead>\n",
              "    <tr style=\"text-align: right;\">\n",
              "      <th></th>\n",
              "      <th>Age_per</th>\n",
              "      <th>Fare_per</th>\n",
              "      <th>SibSp_per</th>\n",
              "      <th>Parch_per</th>\n",
              "      <th>Pclass_coded</th>\n",
              "      <th>Sex_coded</th>\n",
              "      <th>Embarked_coded</th>\n",
              "    </tr>\n",
              "  </thead>\n",
              "  <tbody>\n",
              "    <tr>\n",
              "      <th>416</th>\n",
              "      <td>0.357500</td>\n",
              "      <td>0.008193</td>\n",
              "      <td>0.447507</td>\n",
              "      <td>0.918294</td>\n",
              "      <td>0.460994</td>\n",
              "      <td>1.342910</td>\n",
              "      <td>-0.550933</td>\n",
              "    </tr>\n",
              "    <tr>\n",
              "      <th>801</th>\n",
              "      <td>0.120687</td>\n",
              "      <td>-0.128252</td>\n",
              "      <td>0.447507</td>\n",
              "      <td>0.918294</td>\n",
              "      <td>0.460994</td>\n",
              "      <td>1.342910</td>\n",
              "      <td>-0.550933</td>\n",
              "    </tr>\n",
              "    <tr>\n",
              "      <th>512</th>\n",
              "      <td>0.515376</td>\n",
              "      <td>-0.127433</td>\n",
              "      <td>-0.464727</td>\n",
              "      <td>-0.494291</td>\n",
              "      <td>1.555023</td>\n",
              "      <td>-0.743456</td>\n",
              "      <td>-0.550933</td>\n",
              "    </tr>\n",
              "    <tr>\n",
              "      <th>455</th>\n",
              "      <td>-0.037188</td>\n",
              "      <td>-0.528947</td>\n",
              "      <td>-0.464727</td>\n",
              "      <td>-0.494291</td>\n",
              "      <td>-0.830134</td>\n",
              "      <td>-0.743456</td>\n",
              "      <td>2.084435</td>\n",
              "    </tr>\n",
              "    <tr>\n",
              "      <th>757</th>\n",
              "      <td>-0.905502</td>\n",
              "      <td>-0.450263</td>\n",
              "      <td>-0.464727</td>\n",
              "      <td>-0.494291</td>\n",
              "      <td>0.460994</td>\n",
              "      <td>-0.743456</td>\n",
              "      <td>-0.550933</td>\n",
              "    </tr>\n",
              "    <tr>\n",
              "      <th>...</th>\n",
              "      <td>...</td>\n",
              "      <td>...</td>\n",
              "      <td>...</td>\n",
              "      <td>...</td>\n",
              "      <td>...</td>\n",
              "      <td>...</td>\n",
              "      <td>...</td>\n",
              "    </tr>\n",
              "    <tr>\n",
              "      <th>98</th>\n",
              "      <td>0.357500</td>\n",
              "      <td>-0.199204</td>\n",
              "      <td>-0.464727</td>\n",
              "      <td>0.918294</td>\n",
              "      <td>0.460994</td>\n",
              "      <td>1.342910</td>\n",
              "      <td>-0.550933</td>\n",
              "    </tr>\n",
              "    <tr>\n",
              "      <th>322</th>\n",
              "      <td>0.041750</td>\n",
              "      <td>-0.431706</td>\n",
              "      <td>-0.464727</td>\n",
              "      <td>-0.494291</td>\n",
              "      <td>0.460994</td>\n",
              "      <td>1.342910</td>\n",
              "      <td>0.373829</td>\n",
              "    </tr>\n",
              "    <tr>\n",
              "      <th>382</th>\n",
              "      <td>0.199625</td>\n",
              "      <td>-0.528310</td>\n",
              "      <td>-0.464727</td>\n",
              "      <td>-0.494291</td>\n",
              "      <td>-0.830134</td>\n",
              "      <td>-0.743456</td>\n",
              "      <td>-0.550933</td>\n",
              "    </tr>\n",
              "    <tr>\n",
              "      <th>365</th>\n",
              "      <td>0.041750</td>\n",
              "      <td>-0.543046</td>\n",
              "      <td>-0.464727</td>\n",
              "      <td>-0.494291</td>\n",
              "      <td>-0.830134</td>\n",
              "      <td>-0.743456</td>\n",
              "      <td>-0.550933</td>\n",
              "    </tr>\n",
              "    <tr>\n",
              "      <th>510</th>\n",
              "      <td>-0.037188</td>\n",
              "      <td>-0.532130</td>\n",
              "      <td>-0.464727</td>\n",
              "      <td>-0.494291</td>\n",
              "      <td>-0.830134</td>\n",
              "      <td>-0.743456</td>\n",
              "      <td>0.373829</td>\n",
              "    </tr>\n",
              "  </tbody>\n",
              "</table>\n",
              "<p>623 rows × 7 columns</p>\n",
              "</div>\n",
              "      <button class=\"colab-df-convert\" onclick=\"convertToInteractive('df-10eed1cf-94b0-4e57-8ba0-2bcd414f67b9')\"\n",
              "              title=\"Convert this dataframe to an interactive table.\"\n",
              "              style=\"display:none;\">\n",
              "        \n",
              "  <svg xmlns=\"http://www.w3.org/2000/svg\" height=\"24px\"viewBox=\"0 0 24 24\"\n",
              "       width=\"24px\">\n",
              "    <path d=\"M0 0h24v24H0V0z\" fill=\"none\"/>\n",
              "    <path d=\"M18.56 5.44l.94 2.06.94-2.06 2.06-.94-2.06-.94-.94-2.06-.94 2.06-2.06.94zm-11 1L8.5 8.5l.94-2.06 2.06-.94-2.06-.94L8.5 2.5l-.94 2.06-2.06.94zm10 10l.94 2.06.94-2.06 2.06-.94-2.06-.94-.94-2.06-.94 2.06-2.06.94z\"/><path d=\"M17.41 7.96l-1.37-1.37c-.4-.4-.92-.59-1.43-.59-.52 0-1.04.2-1.43.59L10.3 9.45l-7.72 7.72c-.78.78-.78 2.05 0 2.83L4 21.41c.39.39.9.59 1.41.59.51 0 1.02-.2 1.41-.59l7.78-7.78 2.81-2.81c.8-.78.8-2.07 0-2.86zM5.41 20L4 18.59l7.72-7.72 1.47 1.35L5.41 20z\"/>\n",
              "  </svg>\n",
              "      </button>\n",
              "      \n",
              "  <style>\n",
              "    .colab-df-container {\n",
              "      display:flex;\n",
              "      flex-wrap:wrap;\n",
              "      gap: 12px;\n",
              "    }\n",
              "\n",
              "    .colab-df-convert {\n",
              "      background-color: #E8F0FE;\n",
              "      border: none;\n",
              "      border-radius: 50%;\n",
              "      cursor: pointer;\n",
              "      display: none;\n",
              "      fill: #1967D2;\n",
              "      height: 32px;\n",
              "      padding: 0 0 0 0;\n",
              "      width: 32px;\n",
              "    }\n",
              "\n",
              "    .colab-df-convert:hover {\n",
              "      background-color: #E2EBFA;\n",
              "      box-shadow: 0px 1px 2px rgba(60, 64, 67, 0.3), 0px 1px 3px 1px rgba(60, 64, 67, 0.15);\n",
              "      fill: #174EA6;\n",
              "    }\n",
              "\n",
              "    [theme=dark] .colab-df-convert {\n",
              "      background-color: #3B4455;\n",
              "      fill: #D2E3FC;\n",
              "    }\n",
              "\n",
              "    [theme=dark] .colab-df-convert:hover {\n",
              "      background-color: #434B5C;\n",
              "      box-shadow: 0px 1px 3px 1px rgba(0, 0, 0, 0.15);\n",
              "      filter: drop-shadow(0px 1px 2px rgba(0, 0, 0, 0.3));\n",
              "      fill: #FFFFFF;\n",
              "    }\n",
              "  </style>\n",
              "\n",
              "      <script>\n",
              "        const buttonEl =\n",
              "          document.querySelector('#df-10eed1cf-94b0-4e57-8ba0-2bcd414f67b9 button.colab-df-convert');\n",
              "        buttonEl.style.display =\n",
              "          google.colab.kernel.accessAllowed ? 'block' : 'none';\n",
              "\n",
              "        async function convertToInteractive(key) {\n",
              "          const element = document.querySelector('#df-10eed1cf-94b0-4e57-8ba0-2bcd414f67b9');\n",
              "          const dataTable =\n",
              "            await google.colab.kernel.invokeFunction('convertToInteractive',\n",
              "                                                     [key], {});\n",
              "          if (!dataTable) return;\n",
              "\n",
              "          const docLinkHtml = 'Like what you see? Visit the ' +\n",
              "            '<a target=\"_blank\" href=https://colab.research.google.com/notebooks/data_table.ipynb>data table notebook</a>'\n",
              "            + ' to learn more about interactive tables.';\n",
              "          element.innerHTML = '';\n",
              "          dataTable['output_type'] = 'display_data';\n",
              "          await google.colab.output.renderOutput(dataTable, element);\n",
              "          const docLink = document.createElement('div');\n",
              "          docLink.innerHTML = docLinkHtml;\n",
              "          element.appendChild(docLink);\n",
              "        }\n",
              "      </script>\n",
              "    </div>\n",
              "  </div>\n",
              "  "
            ]
          },
          "metadata": {},
          "execution_count": 39
        }
      ]
    },
    {
      "cell_type": "markdown",
      "source": [
        "## 8. Estandarización"
      ],
      "metadata": {
        "id": "rpKM8yFJhgxr"
      }
    },
    {
      "cell_type": "code",
      "source": [
        "\n",
        "#Estandarización de datos\n",
        "variables = ['Age_per','Fare_per','SibSp_per','Parch_per', 'Pclass_coded', 'Sex_coded', 'Embarked_coded']\n",
        "\n",
        "train_II = (train_I[variables] - train_I[variables].mean())/train_I[variables].std()\n",
        "test_II  = (test_I[variables] - train_I[variables].mean())/train_I[variables].std()\n"
      ],
      "metadata": {
        "id": "jOtqDMtuhoWp"
      },
      "execution_count": null,
      "outputs": []
    },
    {
      "cell_type": "markdown",
      "metadata": {
        "id": "Dfru2OSOqpNO"
      },
      "source": [
        "## 9. Logistic Regression"
      ]
    },
    {
      "cell_type": "code",
      "metadata": {
        "id": "ywjGfMTOqw8R"
      },
      "source": [
        "#Variables para el modelo\n",
        "\n",
        "numFeatures = ['Age_per','Fare_per','SibSp_per','Parch_per']\n",
        "catFeatures = ['Pclass_coded', 'Sex_coded', 'Embarked_coded']\n",
        "\n",
        "X_train = train_II[numFeatures + catFeatures]\n",
        "X_test  = test_II[numFeatures + catFeatures]\n",
        "\n",
        "y_train = train.Survived\n",
        "y_test  = test.Survived\n",
        "\n"
      ],
      "execution_count": null,
      "outputs": []
    },
    {
      "cell_type": "code",
      "metadata": {
        "id": "y9XlhRw-sDML",
        "colab": {
          "base_uri": "https://localhost:8080/"
        },
        "outputId": "3be934d4-8f96-4392-f93c-959b34f1f546"
      },
      "source": [
        "import statsmodels.api as sm\n",
        "\n",
        "# Fit and summarize OLS model\n",
        "mod = sm.Logit(y_train, sm.add_constant(X_train))\n",
        "res = mod.fit()\n",
        "\n",
        "print(res.summary())\n"
      ],
      "execution_count": null,
      "outputs": [
        {
          "output_type": "stream",
          "name": "stdout",
          "text": [
            "Optimization terminated successfully.\n",
            "         Current function value: 0.447594\n",
            "         Iterations 6\n",
            "                           Logit Regression Results                           \n",
            "==============================================================================\n",
            "Dep. Variable:               Survived   No. Observations:                  623\n",
            "Model:                          Logit   Df Residuals:                      615\n",
            "Method:                           MLE   Df Model:                            7\n",
            "Date:                Sat, 18 Mar 2023   Pseudo R-squ.:                  0.3314\n",
            "Time:                        02:33:05   Log-Likelihood:                -278.85\n",
            "converged:                       True   LL-Null:                       -417.09\n",
            "Covariance Type:            nonrobust   LLR p-value:                 6.350e-56\n",
            "==================================================================================\n",
            "                     coef    std err          z      P>|z|      [0.025      0.975]\n",
            "----------------------------------------------------------------------------------\n",
            "const             -0.6045      0.108     -5.586      0.000      -0.817      -0.392\n",
            "Age_per           -0.5733      0.123     -4.655      0.000      -0.815      -0.332\n",
            "Fare_per           0.0158      0.150      0.106      0.916      -0.278       0.309\n",
            "SibSp_per         -0.4308      0.150     -2.871      0.004      -0.725      -0.137\n",
            "Parch_per          0.0402      0.124      0.325      0.745      -0.202       0.283\n",
            "Pclass_coded       0.9485      0.147      6.444      0.000       0.660       1.237\n",
            "Sex_coded          1.2755      0.112     11.402      0.000       1.056       1.495\n",
            "Embarked_coded     0.1709      0.108      1.576      0.115      -0.042       0.383\n",
            "==================================================================================\n"
          ]
        }
      ]
    },
    {
      "cell_type": "code",
      "source": [
        "import statsmodels.api as sm\n",
        "# Método Backward\n",
        "\n",
        "mod_features = list(set(numFeatures + catFeatures) - set(['Fare_per', 'Parch_per', 'Embarked_coded']))\n",
        "\n",
        "# Fit and summarize OLS model\n",
        "mod = sm.Logit(y_train, sm.add_constant(X_train[mod_features]))\n",
        "res = mod.fit()\n",
        "\n",
        "print(res.summary())\n"
      ],
      "metadata": {
        "id": "mNztZY87gfJ6",
        "outputId": "fcd1c395-e210-43a0-f650-ba573c96f623",
        "colab": {
          "base_uri": "https://localhost:8080/"
        }
      },
      "execution_count": null,
      "outputs": [
        {
          "output_type": "stream",
          "name": "stdout",
          "text": [
            "Optimization terminated successfully.\n",
            "         Current function value: 0.449873\n",
            "         Iterations 6\n",
            "                           Logit Regression Results                           \n",
            "==============================================================================\n",
            "Dep. Variable:               Survived   No. Observations:                  623\n",
            "Model:                          Logit   Df Residuals:                      618\n",
            "Method:                           MLE   Df Model:                            4\n",
            "Date:                Sat, 18 Mar 2023   Pseudo R-squ.:                  0.3280\n",
            "Time:                        02:33:46   Log-Likelihood:                -280.27\n",
            "converged:                       True   LL-Null:                       -417.09\n",
            "Covariance Type:            nonrobust   LLR p-value:                 5.257e-58\n",
            "================================================================================\n",
            "                   coef    std err          z      P>|z|      [0.025      0.975]\n",
            "--------------------------------------------------------------------------------\n",
            "const           -0.6049      0.107     -5.635      0.000      -0.815      -0.395\n",
            "Pclass_coded     0.9909      0.122      8.155      0.000       0.753       1.229\n",
            "SibSp_per       -0.4199      0.136     -3.090      0.002      -0.686      -0.154\n",
            "Age_per         -0.5811      0.122     -4.758      0.000      -0.820      -0.342\n",
            "Sex_coded        1.2924      0.110     11.725      0.000       1.076       1.508\n",
            "================================================================================\n"
          ]
        }
      ]
    },
    {
      "cell_type": "code",
      "metadata": {
        "id": "FhGFrbB7tKfa",
        "colab": {
          "base_uri": "https://localhost:8080/",
          "height": 175
        },
        "outputId": "8aa1687b-9eaf-42ec-f50e-be9aadf6130e"
      },
      "source": [
        "# Analizando los parámetros del modelo\n",
        "\n",
        "modelo = pd.DataFrame({'coeficiente' : res.params})\n",
        "modelo.reset_index(inplace = True)\n",
        "modelo.rename(columns = {'index': 'feature'}, inplace = True)\n",
        "modelo = modelo.loc[modelo.feature != 'const']\n",
        "modelo['peso'] = abs(modelo.coeficiente)/abs(modelo.coeficiente).sum()\n",
        "modelo.sort_values(by = 'peso', ascending = False, inplace = True)\n",
        "modelo\n"
      ],
      "execution_count": null,
      "outputs": [
        {
          "output_type": "execute_result",
          "data": {
            "text/plain": [
              "        feature  coeficiente      peso\n",
              "4     Sex_coded     1.292450  0.393517\n",
              "1  Pclass_coded     0.990921  0.301709\n",
              "3       Age_per    -0.581098  0.176929\n",
              "2     SibSp_per    -0.419887  0.127844"
            ],
            "text/html": [
              "\n",
              "  <div id=\"df-822e6b6e-040b-4163-9446-144f69a1645f\">\n",
              "    <div class=\"colab-df-container\">\n",
              "      <div>\n",
              "<style scoped>\n",
              "    .dataframe tbody tr th:only-of-type {\n",
              "        vertical-align: middle;\n",
              "    }\n",
              "\n",
              "    .dataframe tbody tr th {\n",
              "        vertical-align: top;\n",
              "    }\n",
              "\n",
              "    .dataframe thead th {\n",
              "        text-align: right;\n",
              "    }\n",
              "</style>\n",
              "<table border=\"1\" class=\"dataframe\">\n",
              "  <thead>\n",
              "    <tr style=\"text-align: right;\">\n",
              "      <th></th>\n",
              "      <th>feature</th>\n",
              "      <th>coeficiente</th>\n",
              "      <th>peso</th>\n",
              "    </tr>\n",
              "  </thead>\n",
              "  <tbody>\n",
              "    <tr>\n",
              "      <th>4</th>\n",
              "      <td>Sex_coded</td>\n",
              "      <td>1.292450</td>\n",
              "      <td>0.393517</td>\n",
              "    </tr>\n",
              "    <tr>\n",
              "      <th>1</th>\n",
              "      <td>Pclass_coded</td>\n",
              "      <td>0.990921</td>\n",
              "      <td>0.301709</td>\n",
              "    </tr>\n",
              "    <tr>\n",
              "      <th>3</th>\n",
              "      <td>Age_per</td>\n",
              "      <td>-0.581098</td>\n",
              "      <td>0.176929</td>\n",
              "    </tr>\n",
              "    <tr>\n",
              "      <th>2</th>\n",
              "      <td>SibSp_per</td>\n",
              "      <td>-0.419887</td>\n",
              "      <td>0.127844</td>\n",
              "    </tr>\n",
              "  </tbody>\n",
              "</table>\n",
              "</div>\n",
              "      <button class=\"colab-df-convert\" onclick=\"convertToInteractive('df-822e6b6e-040b-4163-9446-144f69a1645f')\"\n",
              "              title=\"Convert this dataframe to an interactive table.\"\n",
              "              style=\"display:none;\">\n",
              "        \n",
              "  <svg xmlns=\"http://www.w3.org/2000/svg\" height=\"24px\"viewBox=\"0 0 24 24\"\n",
              "       width=\"24px\">\n",
              "    <path d=\"M0 0h24v24H0V0z\" fill=\"none\"/>\n",
              "    <path d=\"M18.56 5.44l.94 2.06.94-2.06 2.06-.94-2.06-.94-.94-2.06-.94 2.06-2.06.94zm-11 1L8.5 8.5l.94-2.06 2.06-.94-2.06-.94L8.5 2.5l-.94 2.06-2.06.94zm10 10l.94 2.06.94-2.06 2.06-.94-2.06-.94-.94-2.06-.94 2.06-2.06.94z\"/><path d=\"M17.41 7.96l-1.37-1.37c-.4-.4-.92-.59-1.43-.59-.52 0-1.04.2-1.43.59L10.3 9.45l-7.72 7.72c-.78.78-.78 2.05 0 2.83L4 21.41c.39.39.9.59 1.41.59.51 0 1.02-.2 1.41-.59l7.78-7.78 2.81-2.81c.8-.78.8-2.07 0-2.86zM5.41 20L4 18.59l7.72-7.72 1.47 1.35L5.41 20z\"/>\n",
              "  </svg>\n",
              "      </button>\n",
              "      \n",
              "  <style>\n",
              "    .colab-df-container {\n",
              "      display:flex;\n",
              "      flex-wrap:wrap;\n",
              "      gap: 12px;\n",
              "    }\n",
              "\n",
              "    .colab-df-convert {\n",
              "      background-color: #E8F0FE;\n",
              "      border: none;\n",
              "      border-radius: 50%;\n",
              "      cursor: pointer;\n",
              "      display: none;\n",
              "      fill: #1967D2;\n",
              "      height: 32px;\n",
              "      padding: 0 0 0 0;\n",
              "      width: 32px;\n",
              "    }\n",
              "\n",
              "    .colab-df-convert:hover {\n",
              "      background-color: #E2EBFA;\n",
              "      box-shadow: 0px 1px 2px rgba(60, 64, 67, 0.3), 0px 1px 3px 1px rgba(60, 64, 67, 0.15);\n",
              "      fill: #174EA6;\n",
              "    }\n",
              "\n",
              "    [theme=dark] .colab-df-convert {\n",
              "      background-color: #3B4455;\n",
              "      fill: #D2E3FC;\n",
              "    }\n",
              "\n",
              "    [theme=dark] .colab-df-convert:hover {\n",
              "      background-color: #434B5C;\n",
              "      box-shadow: 0px 1px 3px 1px rgba(0, 0, 0, 0.15);\n",
              "      filter: drop-shadow(0px 1px 2px rgba(0, 0, 0, 0.3));\n",
              "      fill: #FFFFFF;\n",
              "    }\n",
              "  </style>\n",
              "\n",
              "      <script>\n",
              "        const buttonEl =\n",
              "          document.querySelector('#df-822e6b6e-040b-4163-9446-144f69a1645f button.colab-df-convert');\n",
              "        buttonEl.style.display =\n",
              "          google.colab.kernel.accessAllowed ? 'block' : 'none';\n",
              "\n",
              "        async function convertToInteractive(key) {\n",
              "          const element = document.querySelector('#df-822e6b6e-040b-4163-9446-144f69a1645f');\n",
              "          const dataTable =\n",
              "            await google.colab.kernel.invokeFunction('convertToInteractive',\n",
              "                                                     [key], {});\n",
              "          if (!dataTable) return;\n",
              "\n",
              "          const docLinkHtml = 'Like what you see? Visit the ' +\n",
              "            '<a target=\"_blank\" href=https://colab.research.google.com/notebooks/data_table.ipynb>data table notebook</a>'\n",
              "            + ' to learn more about interactive tables.';\n",
              "          element.innerHTML = '';\n",
              "          dataTable['output_type'] = 'display_data';\n",
              "          await google.colab.output.renderOutput(dataTable, element);\n",
              "          const docLink = document.createElement('div');\n",
              "          docLink.innerHTML = docLinkHtml;\n",
              "          element.appendChild(docLink);\n",
              "        }\n",
              "      </script>\n",
              "    </div>\n",
              "  </div>\n",
              "  "
            ]
          },
          "metadata": {},
          "execution_count": 49
        }
      ]
    },
    {
      "cell_type": "markdown",
      "source": [
        "## 10. Correlaciones"
      ],
      "metadata": {
        "id": "LlXQVfAnqGWR"
      }
    },
    {
      "cell_type": "code",
      "source": [
        "X_train[mod_features].corr()"
      ],
      "metadata": {
        "id": "_5UND51gqKg_",
        "outputId": "0c19d8e2-84c9-4c3c-978d-27726b3b5093",
        "colab": {
          "base_uri": "https://localhost:8080/",
          "height": 175
        }
      },
      "execution_count": null,
      "outputs": [
        {
          "output_type": "execute_result",
          "data": {
            "text/plain": [
              "              Pclass_coded  SibSp_per   Age_per  Sex_coded\n",
              "Pclass_coded      1.000000  -0.062456  0.354816   0.127735\n",
              "SibSp_per        -0.062456   1.000000 -0.192284   0.122165\n",
              "Age_per           0.354816  -0.192284  1.000000  -0.084885\n",
              "Sex_coded         0.127735   0.122165 -0.084885   1.000000"
            ],
            "text/html": [
              "\n",
              "  <div id=\"df-df5d6c20-b704-4bde-a8e4-c3452411c79d\">\n",
              "    <div class=\"colab-df-container\">\n",
              "      <div>\n",
              "<style scoped>\n",
              "    .dataframe tbody tr th:only-of-type {\n",
              "        vertical-align: middle;\n",
              "    }\n",
              "\n",
              "    .dataframe tbody tr th {\n",
              "        vertical-align: top;\n",
              "    }\n",
              "\n",
              "    .dataframe thead th {\n",
              "        text-align: right;\n",
              "    }\n",
              "</style>\n",
              "<table border=\"1\" class=\"dataframe\">\n",
              "  <thead>\n",
              "    <tr style=\"text-align: right;\">\n",
              "      <th></th>\n",
              "      <th>Pclass_coded</th>\n",
              "      <th>SibSp_per</th>\n",
              "      <th>Age_per</th>\n",
              "      <th>Sex_coded</th>\n",
              "    </tr>\n",
              "  </thead>\n",
              "  <tbody>\n",
              "    <tr>\n",
              "      <th>Pclass_coded</th>\n",
              "      <td>1.000000</td>\n",
              "      <td>-0.062456</td>\n",
              "      <td>0.354816</td>\n",
              "      <td>0.127735</td>\n",
              "    </tr>\n",
              "    <tr>\n",
              "      <th>SibSp_per</th>\n",
              "      <td>-0.062456</td>\n",
              "      <td>1.000000</td>\n",
              "      <td>-0.192284</td>\n",
              "      <td>0.122165</td>\n",
              "    </tr>\n",
              "    <tr>\n",
              "      <th>Age_per</th>\n",
              "      <td>0.354816</td>\n",
              "      <td>-0.192284</td>\n",
              "      <td>1.000000</td>\n",
              "      <td>-0.084885</td>\n",
              "    </tr>\n",
              "    <tr>\n",
              "      <th>Sex_coded</th>\n",
              "      <td>0.127735</td>\n",
              "      <td>0.122165</td>\n",
              "      <td>-0.084885</td>\n",
              "      <td>1.000000</td>\n",
              "    </tr>\n",
              "  </tbody>\n",
              "</table>\n",
              "</div>\n",
              "      <button class=\"colab-df-convert\" onclick=\"convertToInteractive('df-df5d6c20-b704-4bde-a8e4-c3452411c79d')\"\n",
              "              title=\"Convert this dataframe to an interactive table.\"\n",
              "              style=\"display:none;\">\n",
              "        \n",
              "  <svg xmlns=\"http://www.w3.org/2000/svg\" height=\"24px\"viewBox=\"0 0 24 24\"\n",
              "       width=\"24px\">\n",
              "    <path d=\"M0 0h24v24H0V0z\" fill=\"none\"/>\n",
              "    <path d=\"M18.56 5.44l.94 2.06.94-2.06 2.06-.94-2.06-.94-.94-2.06-.94 2.06-2.06.94zm-11 1L8.5 8.5l.94-2.06 2.06-.94-2.06-.94L8.5 2.5l-.94 2.06-2.06.94zm10 10l.94 2.06.94-2.06 2.06-.94-2.06-.94-.94-2.06-.94 2.06-2.06.94z\"/><path d=\"M17.41 7.96l-1.37-1.37c-.4-.4-.92-.59-1.43-.59-.52 0-1.04.2-1.43.59L10.3 9.45l-7.72 7.72c-.78.78-.78 2.05 0 2.83L4 21.41c.39.39.9.59 1.41.59.51 0 1.02-.2 1.41-.59l7.78-7.78 2.81-2.81c.8-.78.8-2.07 0-2.86zM5.41 20L4 18.59l7.72-7.72 1.47 1.35L5.41 20z\"/>\n",
              "  </svg>\n",
              "      </button>\n",
              "      \n",
              "  <style>\n",
              "    .colab-df-container {\n",
              "      display:flex;\n",
              "      flex-wrap:wrap;\n",
              "      gap: 12px;\n",
              "    }\n",
              "\n",
              "    .colab-df-convert {\n",
              "      background-color: #E8F0FE;\n",
              "      border: none;\n",
              "      border-radius: 50%;\n",
              "      cursor: pointer;\n",
              "      display: none;\n",
              "      fill: #1967D2;\n",
              "      height: 32px;\n",
              "      padding: 0 0 0 0;\n",
              "      width: 32px;\n",
              "    }\n",
              "\n",
              "    .colab-df-convert:hover {\n",
              "      background-color: #E2EBFA;\n",
              "      box-shadow: 0px 1px 2px rgba(60, 64, 67, 0.3), 0px 1px 3px 1px rgba(60, 64, 67, 0.15);\n",
              "      fill: #174EA6;\n",
              "    }\n",
              "\n",
              "    [theme=dark] .colab-df-convert {\n",
              "      background-color: #3B4455;\n",
              "      fill: #D2E3FC;\n",
              "    }\n",
              "\n",
              "    [theme=dark] .colab-df-convert:hover {\n",
              "      background-color: #434B5C;\n",
              "      box-shadow: 0px 1px 3px 1px rgba(0, 0, 0, 0.15);\n",
              "      filter: drop-shadow(0px 1px 2px rgba(0, 0, 0, 0.3));\n",
              "      fill: #FFFFFF;\n",
              "    }\n",
              "  </style>\n",
              "\n",
              "      <script>\n",
              "        const buttonEl =\n",
              "          document.querySelector('#df-df5d6c20-b704-4bde-a8e4-c3452411c79d button.colab-df-convert');\n",
              "        buttonEl.style.display =\n",
              "          google.colab.kernel.accessAllowed ? 'block' : 'none';\n",
              "\n",
              "        async function convertToInteractive(key) {\n",
              "          const element = document.querySelector('#df-df5d6c20-b704-4bde-a8e4-c3452411c79d');\n",
              "          const dataTable =\n",
              "            await google.colab.kernel.invokeFunction('convertToInteractive',\n",
              "                                                     [key], {});\n",
              "          if (!dataTable) return;\n",
              "\n",
              "          const docLinkHtml = 'Like what you see? Visit the ' +\n",
              "            '<a target=\"_blank\" href=https://colab.research.google.com/notebooks/data_table.ipynb>data table notebook</a>'\n",
              "            + ' to learn more about interactive tables.';\n",
              "          element.innerHTML = '';\n",
              "          dataTable['output_type'] = 'display_data';\n",
              "          await google.colab.output.renderOutput(dataTable, element);\n",
              "          const docLink = document.createElement('div');\n",
              "          docLink.innerHTML = docLinkHtml;\n",
              "          element.appendChild(docLink);\n",
              "        }\n",
              "      </script>\n",
              "    </div>\n",
              "  </div>\n",
              "  "
            ]
          },
          "metadata": {},
          "execution_count": 50
        }
      ]
    },
    {
      "cell_type": "markdown",
      "source": [
        "# 11. Performance"
      ],
      "metadata": {
        "id": "TqEOdMKsqUv6"
      }
    },
    {
      "cell_type": "code",
      "source": [
        "# Usando el modelo para predecir\n",
        "\n",
        "train_II['probability'] = res.predict(sm.add_constant(train_II[mod_features]))\n",
        "test_II['probability']  = res.predict(sm.add_constant(test_II[mod_features]))\n",
        "\n",
        "train_II['prediction'] = train_II['probability'].apply(lambda x: 1 if x >= 0.5 else 0)\n",
        "test_II['prediction']  = test_II['probability'].apply(lambda x: 1 if x >= 0.5 else 0)\n",
        "\n",
        "test_II['Survived'] = y_test\n"
      ],
      "metadata": {
        "id": "UMKq1aqsqdlR"
      },
      "execution_count": null,
      "outputs": []
    },
    {
      "cell_type": "code",
      "metadata": {
        "id": "yEI-Goe3wGVD",
        "colab": {
          "base_uri": "https://localhost:8080/",
          "height": 382
        },
        "outputId": "ff982c04-f949-48d4-aaea-50c5ac33c268"
      },
      "source": [
        "sns.displot(test_II, x=\"probability\", fill=True)"
      ],
      "execution_count": null,
      "outputs": [
        {
          "output_type": "execute_result",
          "data": {
            "text/plain": [
              "<seaborn.axisgrid.FacetGrid at 0x7f23993ef790>"
            ]
          },
          "metadata": {},
          "execution_count": 58
        },
        {
          "output_type": "display_data",
          "data": {
            "text/plain": [
              "<Figure size 360x360 with 1 Axes>"
            ],
            "image/png": "[encoded data removed]"
          },
          "metadata": {}
        }
      ]
    },
    {
      "cell_type": "code",
      "metadata": {
        "id": "JfXgfIhlxKfL",
        "colab": {
          "base_uri": "https://localhost:8080/",
          "height": 382
        },
        "outputId": "bb04f9de-2832-4780-81e5-e71929b1859e"
      },
      "source": [
        "sns.displot(test_II, x=\"probability\", hue = 'Survived', kind=\"kde\", fill=True)"
      ],
      "execution_count": null,
      "outputs": [
        {
          "output_type": "execute_result",
          "data": {
            "text/plain": [
              "<seaborn.axisgrid.FacetGrid at 0x7f2399230040>"
            ]
          },
          "metadata": {},
          "execution_count": 61
        },
        {
          "output_type": "display_data",
          "data": {
            "text/plain": [
              "<Figure size 421.55x360 with 1 Axes>"
            ],
            "image/png": "[encoded data removed]"
          },
          "metadata": {}
        }
      ]
    },
    {
      "cell_type": "markdown",
      "metadata": {
        "id": "-Hac-5Ldxnxr"
      },
      "source": [
        "Gini del modelo"
      ]
    },
    {
      "cell_type": "code",
      "metadata": {
        "id": "w6CyYigOx_5o"
      },
      "source": [
        "from sklearn.metrics import *"
      ],
      "execution_count": null,
      "outputs": []
    },
    {
      "cell_type": "code",
      "metadata": {
        "id": "tkqq_53I5Es3"
      },
      "source": [
        "def plot_roc_curve(y_true, y_score, filepath=None, line_width=2, width=12,\n",
        "                   height=10, title=None, colors=(\"#FF0000\", \"#000000\")):\n",
        "    \"\"\"\n",
        "    Saves a ROC curve in a file or shows it on screen.\n",
        "    :param y_true: actual values of the response (list|np.array)\n",
        "    :param y_score: predicted scores (list|np.array)\n",
        "    :param filepath: if given, the ROC curve is saved in the desired filepath. It should point to a png file in an\n",
        "    existing directory. If not specified, the curve is only shown (str)\n",
        "    :param line_width: number indicating line width (float)\n",
        "    :param width: number indicating the width of saved plot (float)\n",
        "    :param height: number indicating the height of saved plot (float)\n",
        "    :param title: if given, title to add to the top side of the plot (str)\n",
        "    :param colors: color specification for ROC curve and diagonal respectively (tuple of str)\n",
        "    :return: None\n",
        "    \"\"\"\n",
        "    fpr, tpr, _ = roc_curve(y_true=y_true, y_score=y_score)\n",
        "    gini = auc(fpr, tpr) * 2 - 1\n",
        "\n",
        "    sns.set_style(\"whitegrid\")\n",
        "    fig = plt.figure(figsize=(width, height))\n",
        "    major_ticks = np.arange(0, 1.1, 0.1)\n",
        "    minor_ticks = np.arange(0.05, 1, 0.1)\n",
        "    ax = fig.add_subplot(1, 1, 1)\n",
        "    ax.set_xticks(major_ticks)\n",
        "    ax.set_yticks(major_ticks)\n",
        "    ax.set_xticks(minor_ticks, minor=True)\n",
        "    ax.set_yticks(minor_ticks, minor=True)\n",
        "    ax.grid(which=\"both\", axis=\"both\")\n",
        "    ax.grid(which=\"minor\", alpha=0.2)\n",
        "    ax.grid(which=\"major\", alpha=0.5)\n",
        "    ax.tick_params(which=\"major\", direction=\"out\", length=5)\n",
        "    plt.plot(fpr, tpr, color=colors[0], lw=line_width,\n",
        "                   label=\"ROC curve (gini = {:.2f})\".format(gini))\n",
        "    plt.plot([0, 1], [0, 1], color=colors[1], lw=line_width, linestyle='--')\n",
        "    plt.xlim([-0.001, 1.001])\n",
        "    plt.ylim([-0.001, 1.001])\n",
        "    plt.xlabel(\"False positive rate\", fontsize=15)\n",
        "    plt.ylabel(\"True positive rate\", fontsize=15)\n",
        "    if title:\n",
        "        plt.title(title, fontsize=30, loc=\"left\")\n",
        "    plt.legend(loc=\"lower right\", frameon=True, fontsize=\"large\",\n",
        "                     fancybox=True)\n",
        "    plt.tight_layout()\n",
        "    if filepath:\n",
        "        plt.savefig(filepath, dpi=200)\n",
        "        plt.close()\n",
        "    else:\n",
        "        plt.show()"
      ],
      "execution_count": null,
      "outputs": []
    },
    {
      "cell_type": "code",
      "metadata": {
        "id": "Zldw1BGz5GiH",
        "colab": {
          "base_uri": "https://localhost:8080/",
          "height": 365
        },
        "outputId": "16000003-ec68-4e34-c29c-afdbb46ba35d"
      },
      "source": [
        "plot_roc_curve(y_test, test_II.probability, width=6, height=5)"
      ],
      "execution_count": null,
      "outputs": [
        {
          "output_type": "display_data",
          "data": {
            "text/plain": [
              "<Figure size 432x360 with 1 Axes>"
            ],
            "image/png": "[encoded data removed]"
          },
          "metadata": {}
        }
      ]
    },
    {
      "cell_type": "code",
      "metadata": {
        "id": "Gd_3XYkJxc0F",
        "colab": {
          "base_uri": "https://localhost:8080/"
        },
        "outputId": "e53ae117-c314-4609-c092-0bdff2f29e4a"
      },
      "source": [
        "# AUC\n",
        "\n",
        "print('TRAIN AUC: %f' %(roc_auc_score(y_train, train_II.probability)))\n",
        "print('TEST AUC: %f' %(roc_auc_score(y_test, test_II.probability)))\n"
      ],
      "execution_count": null,
      "outputs": [
        {
          "output_type": "stream",
          "name": "stdout",
          "text": [
            "TRAIN AUC: 0.851724\n",
            "TEST AUC: 0.859214\n"
          ]
        }
      ]
    },
    {
      "cell_type": "code",
      "metadata": {
        "id": "JjtSMDKoytdy",
        "colab": {
          "base_uri": "https://localhost:8080/"
        },
        "outputId": "2668e785-f917-47ea-d5cf-f610d1f7e94c"
      },
      "source": [
        "# GINI\n",
        "\n",
        "print('TRAIN GINI: %f' %(roc_auc_score(y_train, train_II.probability)*2-1))\n",
        "print('TEST GINI: %f' %(roc_auc_score(y_test, test_II.probability)*2-1))\n"
      ],
      "execution_count": null,
      "outputs": [
        {
          "output_type": "stream",
          "name": "stdout",
          "text": [
            "TRAIN GINI: 0.703447\n",
            "TEST GINI: 0.718427\n"
          ]
        }
      ]
    },
    {
      "cell_type": "code",
      "metadata": {
        "id": "J1DyCGMO80Ns",
        "colab": {
          "base_uri": "https://localhost:8080/",
          "height": 175
        },
        "outputId": "e7d30b6e-3837-41d7-b327-501c3ebe5ea1"
      },
      "source": [
        "# Tablas cruzadas\n",
        "\n",
        "pd.crosstab(test_II.prediction, y_test, margins=True, margins_name=\"Total\")"
      ],
      "execution_count": null,
      "outputs": [
        {
          "output_type": "execute_result",
          "data": {
            "text/plain": [
              "Survived      0   1  Total\n",
              "prediction                \n",
              "0           139  25    164\n",
              "1            31  73    104\n",
              "Total       170  98    268"
            ],
            "text/html": [
              "\n",
              "  <div id=\"df-40f17fca-ff73-4406-9be8-95dcf090b749\">\n",
              "    <div class=\"colab-df-container\">\n",
              "      <div>\n",
              "<style scoped>\n",
              "    .dataframe tbody tr th:only-of-type {\n",
              "        vertical-align: middle;\n",
              "    }\n",
              "\n",
              "    .dataframe tbody tr th {\n",
              "        vertical-align: top;\n",
              "    }\n",
              "\n",
              "    .dataframe thead th {\n",
              "        text-align: right;\n",
              "    }\n",
              "</style>\n",
              "<table border=\"1\" class=\"dataframe\">\n",
              "  <thead>\n",
              "    <tr style=\"text-align: right;\">\n",
              "      <th>Survived</th>\n",
              "      <th>0</th>\n",
              "      <th>1</th>\n",
              "      <th>Total</th>\n",
              "    </tr>\n",
              "    <tr>\n",
              "      <th>prediction</th>\n",
              "      <th></th>\n",
              "      <th></th>\n",
              "      <th></th>\n",
              "    </tr>\n",
              "  </thead>\n",
              "  <tbody>\n",
              "    <tr>\n",
              "      <th>0</th>\n",
              "      <td>139</td>\n",
              "      <td>25</td>\n",
              "      <td>164</td>\n",
              "    </tr>\n",
              "    <tr>\n",
              "      <th>1</th>\n",
              "      <td>31</td>\n",
              "      <td>73</td>\n",
              "      <td>104</td>\n",
              "    </tr>\n",
              "    <tr>\n",
              "      <th>Total</th>\n",
              "      <td>170</td>\n",
              "      <td>98</td>\n",
              "      <td>268</td>\n",
              "    </tr>\n",
              "  </tbody>\n",
              "</table>\n",
              "</div>\n",
              "      <button class=\"colab-df-convert\" onclick=\"convertToInteractive('df-40f17fca-ff73-4406-9be8-95dcf090b749')\"\n",
              "              title=\"Convert this dataframe to an interactive table.\"\n",
              "              style=\"display:none;\">\n",
              "        \n",
              "  <svg xmlns=\"http://www.w3.org/2000/svg\" height=\"24px\"viewBox=\"0 0 24 24\"\n",
              "       width=\"24px\">\n",
              "    <path d=\"M0 0h24v24H0V0z\" fill=\"none\"/>\n",
              "    <path d=\"M18.56 5.44l.94 2.06.94-2.06 2.06-.94-2.06-.94-.94-2.06-.94 2.06-2.06.94zm-11 1L8.5 8.5l.94-2.06 2.06-.94-2.06-.94L8.5 2.5l-.94 2.06-2.06.94zm10 10l.94 2.06.94-2.06 2.06-.94-2.06-.94-.94-2.06-.94 2.06-2.06.94z\"/><path d=\"M17.41 7.96l-1.37-1.37c-.4-.4-.92-.59-1.43-.59-.52 0-1.04.2-1.43.59L10.3 9.45l-7.72 7.72c-.78.78-.78 2.05 0 2.83L4 21.41c.39.39.9.59 1.41.59.51 0 1.02-.2 1.41-.59l7.78-7.78 2.81-2.81c.8-.78.8-2.07 0-2.86zM5.41 20L4 18.59l7.72-7.72 1.47 1.35L5.41 20z\"/>\n",
              "  </svg>\n",
              "      </button>\n",
              "      \n",
              "  <style>\n",
              "    .colab-df-container {\n",
              "      display:flex;\n",
              "      flex-wrap:wrap;\n",
              "      gap: 12px;\n",
              "    }\n",
              "\n",
              "    .colab-df-convert {\n",
              "      background-color: #E8F0FE;\n",
              "      border: none;\n",
              "      border-radius: 50%;\n",
              "      cursor: pointer;\n",
              "      display: none;\n",
              "      fill: #1967D2;\n",
              "      height: 32px;\n",
              "      padding: 0 0 0 0;\n",
              "      width: 32px;\n",
              "    }\n",
              "\n",
              "    .colab-df-convert:hover {\n",
              "      background-color: #E2EBFA;\n",
              "      box-shadow: 0px 1px 2px rgba(60, 64, 67, 0.3), 0px 1px 3px 1px rgba(60, 64, 67, 0.15);\n",
              "      fill: #174EA6;\n",
              "    }\n",
              "\n",
              "    [theme=dark] .colab-df-convert {\n",
              "      background-color: #3B4455;\n",
              "      fill: #D2E3FC;\n",
              "    }\n",
              "\n",
              "    [theme=dark] .colab-df-convert:hover {\n",
              "      background-color: #434B5C;\n",
              "      box-shadow: 0px 1px 3px 1px rgba(0, 0, 0, 0.15);\n",
              "      filter: drop-shadow(0px 1px 2px rgba(0, 0, 0, 0.3));\n",
              "      fill: #FFFFFF;\n",
              "    }\n",
              "  </style>\n",
              "\n",
              "      <script>\n",
              "        const buttonEl =\n",
              "          document.querySelector('#df-40f17fca-ff73-4406-9be8-95dcf090b749 button.colab-df-convert');\n",
              "        buttonEl.style.display =\n",
              "          google.colab.kernel.accessAllowed ? 'block' : 'none';\n",
              "\n",
              "        async function convertToInteractive(key) {\n",
              "          const element = document.querySelector('#df-40f17fca-ff73-4406-9be8-95dcf090b749');\n",
              "          const dataTable =\n",
              "            await google.colab.kernel.invokeFunction('convertToInteractive',\n",
              "                                                     [key], {});\n",
              "          if (!dataTable) return;\n",
              "\n",
              "          const docLinkHtml = 'Like what you see? Visit the ' +\n",
              "            '<a target=\"_blank\" href=https://colab.research.google.com/notebooks/data_table.ipynb>data table notebook</a>'\n",
              "            + ' to learn more about interactive tables.';\n",
              "          element.innerHTML = '';\n",
              "          dataTable['output_type'] = 'display_data';\n",
              "          await google.colab.output.renderOutput(dataTable, element);\n",
              "          const docLink = document.createElement('div');\n",
              "          docLink.innerHTML = docLinkHtml;\n",
              "          element.appendChild(docLink);\n",
              "        }\n",
              "      </script>\n",
              "    </div>\n",
              "  </div>\n",
              "  "
            ]
          },
          "metadata": {},
          "execution_count": 67
        }
      ]
    },
    {
      "cell_type": "code",
      "metadata": {
        "id": "xuK7Hs55Eyf4",
        "colab": {
          "base_uri": "https://localhost:8080/",
          "height": 175
        },
        "outputId": "12c80c94-fc80-4607-cf28-3d709d6f3bc4"
      },
      "source": [
        "pd.crosstab(test_II.prediction, y_test, margins=True, margins_name=\"Total\", normalize=True)"
      ],
      "execution_count": null,
      "outputs": [
        {
          "output_type": "execute_result",
          "data": {
            "text/plain": [
              "Survived           0         1    Total\n",
              "prediction                             \n",
              "0           0.518657  0.093284  0.61194\n",
              "1           0.115672  0.272388  0.38806\n",
              "Total       0.634328  0.365672  1.00000"
            ],
            "text/html": [
              "\n",
              "  <div id=\"df-85732303-3c1d-47e8-ad6a-20bbc41ffd50\">\n",
              "    <div class=\"colab-df-container\">\n",
              "      <div>\n",
              "<style scoped>\n",
              "    .dataframe tbody tr th:only-of-type {\n",
              "        vertical-align: middle;\n",
              "    }\n",
              "\n",
              "    .dataframe tbody tr th {\n",
              "        vertical-align: top;\n",
              "    }\n",
              "\n",
              "    .dataframe thead th {\n",
              "        text-align: right;\n",
              "    }\n",
              "</style>\n",
              "<table border=\"1\" class=\"dataframe\">\n",
              "  <thead>\n",
              "    <tr style=\"text-align: right;\">\n",
              "      <th>Survived</th>\n",
              "      <th>0</th>\n",
              "      <th>1</th>\n",
              "      <th>Total</th>\n",
              "    </tr>\n",
              "    <tr>\n",
              "      <th>prediction</th>\n",
              "      <th></th>\n",
              "      <th></th>\n",
              "      <th></th>\n",
              "    </tr>\n",
              "  </thead>\n",
              "  <tbody>\n",
              "    <tr>\n",
              "      <th>0</th>\n",
              "      <td>0.518657</td>\n",
              "      <td>0.093284</td>\n",
              "      <td>0.61194</td>\n",
              "    </tr>\n",
              "    <tr>\n",
              "      <th>1</th>\n",
              "      <td>0.115672</td>\n",
              "      <td>0.272388</td>\n",
              "      <td>0.38806</td>\n",
              "    </tr>\n",
              "    <tr>\n",
              "      <th>Total</th>\n",
              "      <td>0.634328</td>\n",
              "      <td>0.365672</td>\n",
              "      <td>1.00000</td>\n",
              "    </tr>\n",
              "  </tbody>\n",
              "</table>\n",
              "</div>\n",
              "      <button class=\"colab-df-convert\" onclick=\"convertToInteractive('df-85732303-3c1d-47e8-ad6a-20bbc41ffd50')\"\n",
              "              title=\"Convert this dataframe to an interactive table.\"\n",
              "              style=\"display:none;\">\n",
              "        \n",
              "  <svg xmlns=\"http://www.w3.org/2000/svg\" height=\"24px\"viewBox=\"0 0 24 24\"\n",
              "       width=\"24px\">\n",
              "    <path d=\"M0 0h24v24H0V0z\" fill=\"none\"/>\n",
              "    <path d=\"M18.56 5.44l.94 2.06.94-2.06 2.06-.94-2.06-.94-.94-2.06-.94 2.06-2.06.94zm-11 1L8.5 8.5l.94-2.06 2.06-.94-2.06-.94L8.5 2.5l-.94 2.06-2.06.94zm10 10l.94 2.06.94-2.06 2.06-.94-2.06-.94-.94-2.06-.94 2.06-2.06.94z\"/><path d=\"M17.41 7.96l-1.37-1.37c-.4-.4-.92-.59-1.43-.59-.52 0-1.04.2-1.43.59L10.3 9.45l-7.72 7.72c-.78.78-.78 2.05 0 2.83L4 21.41c.39.39.9.59 1.41.59.51 0 1.02-.2 1.41-.59l7.78-7.78 2.81-2.81c.8-.78.8-2.07 0-2.86zM5.41 20L4 18.59l7.72-7.72 1.47 1.35L5.41 20z\"/>\n",
              "  </svg>\n",
              "      </button>\n",
              "      \n",
              "  <style>\n",
              "    .colab-df-container {\n",
              "      display:flex;\n",
              "      flex-wrap:wrap;\n",
              "      gap: 12px;\n",
              "    }\n",
              "\n",
              "    .colab-df-convert {\n",
              "      background-color: #E8F0FE;\n",
              "      border: none;\n",
              "      border-radius: 50%;\n",
              "      cursor: pointer;\n",
              "      display: none;\n",
              "      fill: #1967D2;\n",
              "      height: 32px;\n",
              "      padding: 0 0 0 0;\n",
              "      width: 32px;\n",
              "    }\n",
              "\n",
              "    .colab-df-convert:hover {\n",
              "      background-color: #E2EBFA;\n",
              "      box-shadow: 0px 1px 2px rgba(60, 64, 67, 0.3), 0px 1px 3px 1px rgba(60, 64, 67, 0.15);\n",
              "      fill: #174EA6;\n",
              "    }\n",
              "\n",
              "    [theme=dark] .colab-df-convert {\n",
              "      background-color: #3B4455;\n",
              "      fill: #D2E3FC;\n",
              "    }\n",
              "\n",
              "    [theme=dark] .colab-df-convert:hover {\n",
              "      background-color: #434B5C;\n",
              "      box-shadow: 0px 1px 3px 1px rgba(0, 0, 0, 0.15);\n",
              "      filter: drop-shadow(0px 1px 2px rgba(0, 0, 0, 0.3));\n",
              "      fill: #FFFFFF;\n",
              "    }\n",
              "  </style>\n",
              "\n",
              "      <script>\n",
              "        const buttonEl =\n",
              "          document.querySelector('#df-85732303-3c1d-47e8-ad6a-20bbc41ffd50 button.colab-df-convert');\n",
              "        buttonEl.style.display =\n",
              "          google.colab.kernel.accessAllowed ? 'block' : 'none';\n",
              "\n",
              "        async function convertToInteractive(key) {\n",
              "          const element = document.querySelector('#df-85732303-3c1d-47e8-ad6a-20bbc41ffd50');\n",
              "          const dataTable =\n",
              "            await google.colab.kernel.invokeFunction('convertToInteractive',\n",
              "                                                     [key], {});\n",
              "          if (!dataTable) return;\n",
              "\n",
              "          const docLinkHtml = 'Like what you see? Visit the ' +\n",
              "            '<a target=\"_blank\" href=https://colab.research.google.com/notebooks/data_table.ipynb>data table notebook</a>'\n",
              "            + ' to learn more about interactive tables.';\n",
              "          element.innerHTML = '';\n",
              "          dataTable['output_type'] = 'display_data';\n",
              "          await google.colab.output.renderOutput(dataTable, element);\n",
              "          const docLink = document.createElement('div');\n",
              "          docLink.innerHTML = docLinkHtml;\n",
              "          element.appendChild(docLink);\n",
              "        }\n",
              "      </script>\n",
              "    </div>\n",
              "  </div>\n",
              "  "
            ]
          },
          "metadata": {},
          "execution_count": 68
        }
      ]
    },
    {
      "cell_type": "code",
      "metadata": {
        "id": "d0wNhB5R4VHb",
        "colab": {
          "base_uri": "https://localhost:8080/"
        },
        "outputId": "dddb6c25-1059-4dc4-93cd-a6ff2e20e257"
      },
      "source": [
        "# ACCURACY\n",
        "\n",
        "print('TRAIN ACCURACY: %f' %(accuracy_score(y_train, train_II.prediction)))\n",
        "print('TEST ACCURACY: %f' %(accuracy_score(y_test, test_II.prediction)))\n"
      ],
      "execution_count": null,
      "outputs": [
        {
          "output_type": "stream",
          "name": "stdout",
          "text": [
            "TRAIN ACCURACY: 0.791332\n",
            "TEST ACCURACY: 0.791045\n"
          ]
        }
      ]
    },
    {
      "cell_type": "code",
      "metadata": {
        "id": "RLve8myD3zPa",
        "colab": {
          "base_uri": "https://localhost:8080/"
        },
        "outputId": "89a54e3c-f6c1-4991-f45a-f0de29f2d372"
      },
      "source": [
        "# PRECISION\n",
        "\n",
        "print('TRAIN PRECISION: %f' %(precision_score(y_train, train_II.prediction)))\n",
        "print('TEST PRECISION: %f' %(precision_score(y_test, test_II.prediction)))\n"
      ],
      "execution_count": null,
      "outputs": [
        {
          "output_type": "stream",
          "name": "stdout",
          "text": [
            "TRAIN PRECISION: 0.745690\n",
            "TEST PRECISION: 0.701923\n"
          ]
        }
      ]
    },
    {
      "cell_type": "code",
      "metadata": {
        "id": "lf3nsCKx3_jJ",
        "colab": {
          "base_uri": "https://localhost:8080/"
        },
        "outputId": "02db8c60-cd14-413d-fe03-cc70f6c8d670"
      },
      "source": [
        "# RECALL\n",
        "\n",
        "print('TRAIN RECALL: %f' %(recall_score(y_train, train_II.prediction)))\n",
        "print('TEST RECALL: %f' %(recall_score(y_test, test_II.prediction)))\n"
      ],
      "execution_count": null,
      "outputs": [
        {
          "output_type": "stream",
          "name": "stdout",
          "text": [
            "TRAIN RECALL: 0.709016\n",
            "TEST RECALL: 0.744898\n"
          ]
        }
      ]
    },
    {
      "cell_type": "code",
      "metadata": {
        "id": "1uOlvYm83y-8",
        "colab": {
          "base_uri": "https://localhost:8080/"
        },
        "outputId": "9db898f6-933b-4783-ce49-0035d782fe38"
      },
      "source": [
        "# F1\n",
        "\n",
        "print('TRAIN F1: %f' %(f1_score(y_train, train_II.prediction)))\n",
        "print('TEST F1: %f' %(f1_score(y_test, test_II.prediction)))\n"
      ],
      "execution_count": null,
      "outputs": [
        {
          "output_type": "stream",
          "name": "stdout",
          "text": [
            "TRAIN F1: 0.726891\n",
            "TEST F1: 0.722772\n"
          ]
        }
      ]
    },
    {
      "cell_type": "code",
      "metadata": {
        "id": "T6NcBm08Qih_",
        "colab": {
          "base_uri": "https://localhost:8080/",
          "height": 238
        },
        "outputId": "c5e10af3-1b10-477c-ddd2-5de800474786"
      },
      "source": [
        "#Resumen de todas las métricas del modelo\n",
        "\n",
        "metricsLogisitc = pd.DataFrame({'metric':['AUC','Gini','Accuracy','Precision','Recall','F1-score'],\n",
        "                                'logistic_train':[roc_auc_score(y_train, train_II.probability),\n",
        "                                        (roc_auc_score(y_train, train_II.probability)*2-1),\n",
        "                                        accuracy_score(y_train, train_II.prediction),\n",
        "                                        precision_score(y_train, train_II.prediction),\n",
        "                                        recall_score(y_train, train_II.prediction),\n",
        "                                        f1_score(y_train, train_II.prediction)],\n",
        "\n",
        "                                'logistic_test':[roc_auc_score(y_test, test_II.probability),\n",
        "                                        (roc_auc_score(y_test, test_II.probability)*2-1),\n",
        "                                        accuracy_score(y_test, test_II.prediction),\n",
        "                                        precision_score(y_test, test_II.prediction),\n",
        "                                        recall_score(y_test, test_II.prediction),\n",
        "                                        f1_score(y_test, test_II.prediction)]})\n",
        "\n",
        "metricsLogisitc"
      ],
      "execution_count": null,
      "outputs": [
        {
          "output_type": "execute_result",
          "data": {
            "text/plain": [
              "      metric  logistic_train  logistic_test\n",
              "0        AUC        0.851724       0.859214\n",
              "1       Gini        0.703447       0.718427\n",
              "2   Accuracy        0.791332       0.791045\n",
              "3  Precision        0.745690       0.701923\n",
              "4     Recall        0.709016       0.744898\n",
              "5   F1-score        0.726891       0.722772"
            ],
            "text/html": [
              "\n",
              "  <div id=\"df-fcb5724e-444e-493e-a88a-89cdc0d4bce0\">\n",
              "    <div class=\"colab-df-container\">\n",
              "      <div>\n",
              "<style scoped>\n",
              "    .dataframe tbody tr th:only-of-type {\n",
              "        vertical-align: middle;\n",
              "    }\n",
              "\n",
              "    .dataframe tbody tr th {\n",
              "        vertical-align: top;\n",
              "    }\n",
              "\n",
              "    .dataframe thead th {\n",
              "        text-align: right;\n",
              "    }\n",
              "</style>\n",
              "<table border=\"1\" class=\"dataframe\">\n",
              "  <thead>\n",
              "    <tr style=\"text-align: right;\">\n",
              "      <th></th>\n",
              "      <th>metric</th>\n",
              "      <th>logistic_train</th>\n",
              "      <th>logistic_test</th>\n",
              "    </tr>\n",
              "  </thead>\n",
              "  <tbody>\n",
              "    <tr>\n",
              "      <th>0</th>\n",
              "      <td>AUC</td>\n",
              "      <td>0.851724</td>\n",
              "      <td>0.859214</td>\n",
              "    </tr>\n",
              "    <tr>\n",
              "      <th>1</th>\n",
              "      <td>Gini</td>\n",
              "      <td>0.703447</td>\n",
              "      <td>0.718427</td>\n",
              "    </tr>\n",
              "    <tr>\n",
              "      <th>2</th>\n",
              "      <td>Accuracy</td>\n",
              "      <td>0.791332</td>\n",
              "      <td>0.791045</td>\n",
              "    </tr>\n",
              "    <tr>\n",
              "      <th>3</th>\n",
              "      <td>Precision</td>\n",
              "      <td>0.745690</td>\n",
              "      <td>0.701923</td>\n",
              "    </tr>\n",
              "    <tr>\n",
              "      <th>4</th>\n",
              "      <td>Recall</td>\n",
              "      <td>0.709016</td>\n",
              "      <td>0.744898</td>\n",
              "    </tr>\n",
              "    <tr>\n",
              "      <th>5</th>\n",
              "      <td>F1-score</td>\n",
              "      <td>0.726891</td>\n",
              "      <td>0.722772</td>\n",
              "    </tr>\n",
              "  </tbody>\n",
              "</table>\n",
              "</div>\n",
              "      <button class=\"colab-df-convert\" onclick=\"convertToInteractive('df-fcb5724e-444e-493e-a88a-89cdc0d4bce0')\"\n",
              "              title=\"Convert this dataframe to an interactive table.\"\n",
              "              style=\"display:none;\">\n",
              "        \n",
              "  <svg xmlns=\"http://www.w3.org/2000/svg\" height=\"24px\"viewBox=\"0 0 24 24\"\n",
              "       width=\"24px\">\n",
              "    <path d=\"M0 0h24v24H0V0z\" fill=\"none\"/>\n",
              "    <path d=\"M18.56 5.44l.94 2.06.94-2.06 2.06-.94-2.06-.94-.94-2.06-.94 2.06-2.06.94zm-11 1L8.5 8.5l.94-2.06 2.06-.94-2.06-.94L8.5 2.5l-.94 2.06-2.06.94zm10 10l.94 2.06.94-2.06 2.06-.94-2.06-.94-.94-2.06-.94 2.06-2.06.94z\"/><path d=\"M17.41 7.96l-1.37-1.37c-.4-.4-.92-.59-1.43-.59-.52 0-1.04.2-1.43.59L10.3 9.45l-7.72 7.72c-.78.78-.78 2.05 0 2.83L4 21.41c.39.39.9.59 1.41.59.51 0 1.02-.2 1.41-.59l7.78-7.78 2.81-2.81c.8-.78.8-2.07 0-2.86zM5.41 20L4 18.59l7.72-7.72 1.47 1.35L5.41 20z\"/>\n",
              "  </svg>\n",
              "      </button>\n",
              "      \n",
              "  <style>\n",
              "    .colab-df-container {\n",
              "      display:flex;\n",
              "      flex-wrap:wrap;\n",
              "      gap: 12px;\n",
              "    }\n",
              "\n",
              "    .colab-df-convert {\n",
              "      background-color: #E8F0FE;\n",
              "      border: none;\n",
              "      border-radius: 50%;\n",
              "      cursor: pointer;\n",
              "      display: none;\n",
              "      fill: #1967D2;\n",
              "      height: 32px;\n",
              "      padding: 0 0 0 0;\n",
              "      width: 32px;\n",
              "    }\n",
              "\n",
              "    .colab-df-convert:hover {\n",
              "      background-color: #E2EBFA;\n",
              "      box-shadow: 0px 1px 2px rgba(60, 64, 67, 0.3), 0px 1px 3px 1px rgba(60, 64, 67, 0.15);\n",
              "      fill: #174EA6;\n",
              "    }\n",
              "\n",
              "    [theme=dark] .colab-df-convert {\n",
              "      background-color: #3B4455;\n",
              "      fill: #D2E3FC;\n",
              "    }\n",
              "\n",
              "    [theme=dark] .colab-df-convert:hover {\n",
              "      background-color: #434B5C;\n",
              "      box-shadow: 0px 1px 3px 1px rgba(0, 0, 0, 0.15);\n",
              "      filter: drop-shadow(0px 1px 2px rgba(0, 0, 0, 0.3));\n",
              "      fill: #FFFFFF;\n",
              "    }\n",
              "  </style>\n",
              "\n",
              "      <script>\n",
              "        const buttonEl =\n",
              "          document.querySelector('#df-fcb5724e-444e-493e-a88a-89cdc0d4bce0 button.colab-df-convert');\n",
              "        buttonEl.style.display =\n",
              "          google.colab.kernel.accessAllowed ? 'block' : 'none';\n",
              "\n",
              "        async function convertToInteractive(key) {\n",
              "          const element = document.querySelector('#df-fcb5724e-444e-493e-a88a-89cdc0d4bce0');\n",
              "          const dataTable =\n",
              "            await google.colab.kernel.invokeFunction('convertToInteractive',\n",
              "                                                     [key], {});\n",
              "          if (!dataTable) return;\n",
              "\n",
              "          const docLinkHtml = 'Like what you see? Visit the ' +\n",
              "            '<a target=\"_blank\" href=https://colab.research.google.com/notebooks/data_table.ipynb>data table notebook</a>'\n",
              "            + ' to learn more about interactive tables.';\n",
              "          element.innerHTML = '';\n",
              "          dataTable['output_type'] = 'display_data';\n",
              "          await google.colab.output.renderOutput(dataTable, element);\n",
              "          const docLink = document.createElement('div');\n",
              "          docLink.innerHTML = docLinkHtml;\n",
              "          element.appendChild(docLink);\n",
              "        }\n",
              "      </script>\n",
              "    </div>\n",
              "  </div>\n",
              "  "
            ]
          },
          "metadata": {},
          "execution_count": 73
        }
      ]
    },
    {
      "cell_type": "markdown",
      "metadata": {
        "id": "wC-hb2GkJW4l"
      },
      "source": [
        "<h3>Análisis de Predicción</h3>"
      ]
    },
    {
      "cell_type": "code",
      "metadata": {
        "id": "NwCYSqwdFZBW"
      },
      "source": [
        "\n",
        "from sklearn.preprocessing import KBinsDiscretizer\n",
        "\n",
        "test_II['probability_rank'] = KBinsDiscretizer(n_bins = 6,\n",
        "                                              encode = 'ordinal',\n",
        "                                              strategy = \"uniform\").fit_transform(test_II[['probability']])\n"
      ],
      "execution_count": null,
      "outputs": []
    },
    {
      "cell_type": "code",
      "metadata": {
        "id": "BZhbaImHF-8B"
      },
      "source": [
        "aggregations = {'prediction':'count','probability':'max','Survived':'mean'}\n",
        "res = test_II.groupby('probability_rank').agg(aggregations).reset_index()"
      ],
      "execution_count": null,
      "outputs": []
    },
    {
      "cell_type": "code",
      "metadata": {
        "id": "cZvNwHAoHYha",
        "colab": {
          "base_uri": "https://localhost:8080/"
        },
        "outputId": "61d7b242-663a-4046-d5f9-a8ca97476e3d"
      },
      "source": [
        "\n",
        "pddf1 = pd.DataFrame({'probability_rank':test_II.probability_rank,\n",
        "                      'value':test_II.probability,\n",
        "                     'type': 'probability_mean'})\n",
        "\n",
        "pddf2 = pd.DataFrame({'probability_rank':test_II.probability_rank,\n",
        "                      'value':test_II.Survived,\n",
        "                     'type': 'Survived_rate'})\n",
        "\n",
        "pddf = pddf1.append(pddf2)\n"
      ],
      "execution_count": null,
      "outputs": [
        {
          "output_type": "stream",
          "name": "stderr",
          "text": [
            "<ipython-input-78-a7d24d67000d>:9: FutureWarning: The frame.append method is deprecated and will be removed from pandas in a future version. Use pandas.concat instead.\n",
            "  pddf = pddf1.append(pddf2)\n"
          ]
        }
      ]
    },
    {
      "cell_type": "code",
      "metadata": {
        "id": "1k22CafWGfQ_",
        "colab": {
          "base_uri": "https://localhost:8080/",
          "height": 411
        },
        "outputId": "9db6b9f3-4972-42bb-9fa0-aaa8cdb2c910"
      },
      "source": [
        "# Ratio del evento por tramo dela variable numérica\n",
        "\n",
        "sns.lineplot(data=pddf.reset_index(), x=\"probability_rank\", y=\"value\", hue=\"type\", markers=True, dashes=False)\n"
      ],
      "execution_count": null,
      "outputs": [
        {
          "output_type": "execute_result",
          "data": {
            "text/plain": [
              "<Axes: xlabel='probability_rank', ylabel='value'>"
            ]
          },
          "metadata": {},
          "execution_count": 79
        },
        {
          "output_type": "display_data",
          "data": {
            "text/plain": [
              "<Figure size 720x432 with 1 Axes>"
            ],
            "image/png": "[encoded data removed]"
          },
          "metadata": {}
        }
      ]
    },
    {
      "cell_type": "markdown",
      "metadata": {
        "id": "mScZHRheJ387"
      },
      "source": [
        "## Elastic Net"
      ]
    },
    {
      "cell_type": "code",
      "metadata": {
        "id": "_JNdoKs2J-Wk"
      },
      "source": [
        "#Variables para el modelo\n",
        "\n",
        "numFeatures = ['Age_t','Fare_t','SibSp_t','Parch_t']\n",
        "catFeatures = ['Pclass_num','Sex_num','Embarked_num']\n",
        "\n",
        "X = data[numFeatures + catFeatures]\n",
        "y = data.Survived\n"
      ],
      "execution_count": null,
      "outputs": []
    },
    {
      "cell_type": "code",
      "metadata": {
        "id": "Yyi-9mM9KFPC"
      },
      "source": [
        "# Muestreo de data\n",
        "from sklearn.model_selection import train_test_split\n",
        "\n",
        "X_train, X_test, y_train, y_test = train_test_split(X, y,\n",
        "                                                    test_size = 0.3,\n",
        "                                                    random_state = 123)"
      ],
      "execution_count": null,
      "outputs": []
    },
    {
      "cell_type": "code",
      "metadata": {
        "id": "Rgg7MbFvKHTD",
        "colab": {
          "base_uri": "https://localhost:8080/"
        },
        "outputId": "bd890132-10d5-4b0f-ba2c-3415787ad430"
      },
      "source": [
        "# Modelo\n",
        "from sklearn.linear_model import LogisticRegression\n",
        "\n",
        "eltNet = LogisticRegression(penalty = 'elasticnet',\n",
        "                            class_weight = {0:y_train.mean(), 1:1},\n",
        "                            solver = 'saga',\n",
        "                            C = 10000000,\n",
        "                            l1_ratio = 0.5,\n",
        "                            max_iter = 10000,\n",
        "                            random_state = 123)\n",
        "\n",
        "eltNet.fit(X_train, y_train)\n"
      ],
      "execution_count": null,
      "outputs": [
        {
          "output_type": "execute_result",
          "data": {
            "text/plain": [
              "LogisticRegression(C=10000000, class_weight={0: 0.391653290529695, 1: 1},\n",
              "                   l1_ratio=0.5, max_iter=10000, penalty='elasticnet',\n",
              "                   random_state=123, solver='saga')"
            ]
          },
          "metadata": {},
          "execution_count": 113
        }
      ]
    },
    {
      "cell_type": "code",
      "metadata": {
        "id": "YWCu-S7LL7qH",
        "colab": {
          "base_uri": "https://localhost:8080/",
          "height": 269
        },
        "outputId": "9b182d2e-060d-4d6e-8494-398c24ecf52e"
      },
      "source": [
        "# Analizando los parámetros del modelo\n",
        "\n",
        "paramElasticNet = pd.DataFrame({'feature': numFeatures + catFeatures,\n",
        "                                'parámetro': eltNet.coef_.ravel(),\n",
        "                                'metod': 'elastic_net'})\n",
        "paramElasticNet"
      ],
      "execution_count": null,
      "outputs": [
        {
          "output_type": "execute_result",
          "data": {
            "text/plain": [
              "        feature  parámetro        metod\n",
              "0         Age_t  -0.026383  elastic_net\n",
              "1        Fare_t   0.016320  elastic_net\n",
              "2       SibSp_t  -0.347499  elastic_net\n",
              "3       Parch_t   0.108889  elastic_net\n",
              "4    Pclass_num   0.334190  elastic_net\n",
              "5       Sex_num   1.202953  elastic_net\n",
              "6  Embarked_num   0.148644  elastic_net"
            ],
            "text/html": [
              "\n",
              "  <div id=\"df-a50ab8d9-c8a6-4819-8f2e-e58f9dce49f6\">\n",
              "    <div class=\"colab-df-container\">\n",
              "      <div>\n",
              "<style scoped>\n",
              "    .dataframe tbody tr th:only-of-type {\n",
              "        vertical-align: middle;\n",
              "    }\n",
              "\n",
              "    .dataframe tbody tr th {\n",
              "        vertical-align: top;\n",
              "    }\n",
              "\n",
              "    .dataframe thead th {\n",
              "        text-align: right;\n",
              "    }\n",
              "</style>\n",
              "<table border=\"1\" class=\"dataframe\">\n",
              "  <thead>\n",
              "    <tr style=\"text-align: right;\">\n",
              "      <th></th>\n",
              "      <th>feature</th>\n",
              "      <th>parámetro</th>\n",
              "      <th>metod</th>\n",
              "    </tr>\n",
              "  </thead>\n",
              "  <tbody>\n",
              "    <tr>\n",
              "      <th>0</th>\n",
              "      <td>Age_t</td>\n",
              "      <td>-0.026383</td>\n",
              "      <td>elastic_net</td>\n",
              "    </tr>\n",
              "    <tr>\n",
              "      <th>1</th>\n",
              "      <td>Fare_t</td>\n",
              "      <td>0.016320</td>\n",
              "      <td>elastic_net</td>\n",
              "    </tr>\n",
              "    <tr>\n",
              "      <th>2</th>\n",
              "      <td>SibSp_t</td>\n",
              "      <td>-0.347499</td>\n",
              "      <td>elastic_net</td>\n",
              "    </tr>\n",
              "    <tr>\n",
              "      <th>3</th>\n",
              "      <td>Parch_t</td>\n",
              "      <td>0.108889</td>\n",
              "      <td>elastic_net</td>\n",
              "    </tr>\n",
              "    <tr>\n",
              "      <th>4</th>\n",
              "      <td>Pclass_num</td>\n",
              "      <td>0.334190</td>\n",
              "      <td>elastic_net</td>\n",
              "    </tr>\n",
              "    <tr>\n",
              "      <th>5</th>\n",
              "      <td>Sex_num</td>\n",
              "      <td>1.202953</td>\n",
              "      <td>elastic_net</td>\n",
              "    </tr>\n",
              "    <tr>\n",
              "      <th>6</th>\n",
              "      <td>Embarked_num</td>\n",
              "      <td>0.148644</td>\n",
              "      <td>elastic_net</td>\n",
              "    </tr>\n",
              "  </tbody>\n",
              "</table>\n",
              "</div>\n",
              "      <button class=\"colab-df-convert\" onclick=\"convertToInteractive('df-a50ab8d9-c8a6-4819-8f2e-e58f9dce49f6')\"\n",
              "              title=\"Convert this dataframe to an interactive table.\"\n",
              "              style=\"display:none;\">\n",
              "        \n",
              "  <svg xmlns=\"http://www.w3.org/2000/svg\" height=\"24px\"viewBox=\"0 0 24 24\"\n",
              "       width=\"24px\">\n",
              "    <path d=\"M0 0h24v24H0V0z\" fill=\"none\"/>\n",
              "    <path d=\"M18.56 5.44l.94 2.06.94-2.06 2.06-.94-2.06-.94-.94-2.06-.94 2.06-2.06.94zm-11 1L8.5 8.5l.94-2.06 2.06-.94-2.06-.94L8.5 2.5l-.94 2.06-2.06.94zm10 10l.94 2.06.94-2.06 2.06-.94-2.06-.94-.94-2.06-.94 2.06-2.06.94z\"/><path d=\"M17.41 7.96l-1.37-1.37c-.4-.4-.92-.59-1.43-.59-.52 0-1.04.2-1.43.59L10.3 9.45l-7.72 7.72c-.78.78-.78 2.05 0 2.83L4 21.41c.39.39.9.59 1.41.59.51 0 1.02-.2 1.41-.59l7.78-7.78 2.81-2.81c.8-.78.8-2.07 0-2.86zM5.41 20L4 18.59l7.72-7.72 1.47 1.35L5.41 20z\"/>\n",
              "  </svg>\n",
              "      </button>\n",
              "      \n",
              "  <style>\n",
              "    .colab-df-container {\n",
              "      display:flex;\n",
              "      flex-wrap:wrap;\n",
              "      gap: 12px;\n",
              "    }\n",
              "\n",
              "    .colab-df-convert {\n",
              "      background-color: #E8F0FE;\n",
              "      border: none;\n",
              "      border-radius: 50%;\n",
              "      cursor: pointer;\n",
              "      display: none;\n",
              "      fill: #1967D2;\n",
              "      height: 32px;\n",
              "      padding: 0 0 0 0;\n",
              "      width: 32px;\n",
              "    }\n",
              "\n",
              "    .colab-df-convert:hover {\n",
              "      background-color: #E2EBFA;\n",
              "      box-shadow: 0px 1px 2px rgba(60, 64, 67, 0.3), 0px 1px 3px 1px rgba(60, 64, 67, 0.15);\n",
              "      fill: #174EA6;\n",
              "    }\n",
              "\n",
              "    [theme=dark] .colab-df-convert {\n",
              "      background-color: #3B4455;\n",
              "      fill: #D2E3FC;\n",
              "    }\n",
              "\n",
              "    [theme=dark] .colab-df-convert:hover {\n",
              "      background-color: #434B5C;\n",
              "      box-shadow: 0px 1px 3px 1px rgba(0, 0, 0, 0.15);\n",
              "      filter: drop-shadow(0px 1px 2px rgba(0, 0, 0, 0.3));\n",
              "      fill: #FFFFFF;\n",
              "    }\n",
              "  </style>\n",
              "\n",
              "      <script>\n",
              "        const buttonEl =\n",
              "          document.querySelector('#df-a50ab8d9-c8a6-4819-8f2e-e58f9dce49f6 button.colab-df-convert');\n",
              "        buttonEl.style.display =\n",
              "          google.colab.kernel.accessAllowed ? 'block' : 'none';\n",
              "\n",
              "        async function convertToInteractive(key) {\n",
              "          const element = document.querySelector('#df-a50ab8d9-c8a6-4819-8f2e-e58f9dce49f6');\n",
              "          const dataTable =\n",
              "            await google.colab.kernel.invokeFunction('convertToInteractive',\n",
              "                                                     [key], {});\n",
              "          if (!dataTable) return;\n",
              "\n",
              "          const docLinkHtml = 'Like what you see? Visit the ' +\n",
              "            '<a target=\"_blank\" href=https://colab.research.google.com/notebooks/data_table.ipynb>data table notebook</a>'\n",
              "            + ' to learn more about interactive tables.';\n",
              "          element.innerHTML = '';\n",
              "          dataTable['output_type'] = 'display_data';\n",
              "          await google.colab.output.renderOutput(dataTable, element);\n",
              "          const docLink = document.createElement('div');\n",
              "          docLink.innerHTML = docLinkHtml;\n",
              "          element.appendChild(docLink);\n",
              "        }\n",
              "      </script>\n",
              "    </div>\n",
              "  </div>\n",
              "  "
            ]
          },
          "metadata": {},
          "execution_count": 114
        }
      ]
    },
    {
      "cell_type": "code",
      "metadata": {
        "id": "_zspw9SqMh5K",
        "colab": {
          "base_uri": "https://localhost:8080/",
          "height": 411
        },
        "outputId": "bdaf14b7-6c81-4803-8cfc-db243236236e"
      },
      "source": [
        "resumen = paramLogistic.append(paramElasticNet)\n",
        "\n",
        "sns.barplot(x='feature', y='parámetro', hue='metod', data=resumen)\n"
      ],
      "execution_count": null,
      "outputs": [
        {
          "output_type": "execute_result",
          "data": {
            "text/plain": [
              "<matplotlib.axes._subplots.AxesSubplot at 0x7fc1ce888350>"
            ]
          },
          "metadata": {},
          "execution_count": 115
        },
        {
          "output_type": "display_data",
          "data": {
            "text/plain": [
              "<Figure size 720x432 with 1 Axes>"
            ],
            "image/png": "[encoded data removed]"
          },
          "metadata": {}
        }
      ]
    },
    {
      "cell_type": "code",
      "metadata": {
        "id": "0r3zz7sbSHSd"
      },
      "source": [
        "# Usando el modelo para predecir\n",
        "\n",
        "X_train['probability'] = eltNet.predict_proba(X_train[numFeatures + catFeatures])[:,1]\n",
        "X_test['probability']  = eltNet.predict_proba(X_test[numFeatures + catFeatures])[:,1]\n",
        "\n",
        "X_train['prediction'] = eltNet.predict(X_train[numFeatures + catFeatures])\n",
        "X_test['prediction']  = eltNet.predict(X_test[numFeatures + catFeatures])\n",
        "\n",
        "X_train['Survived'] = y_train\n",
        "X_test['Survived'] = y_test\n"
      ],
      "execution_count": null,
      "outputs": []
    },
    {
      "cell_type": "code",
      "metadata": {
        "id": "kD_fibykNaRT",
        "colab": {
          "base_uri": "https://localhost:8080/",
          "height": 237
        },
        "outputId": "6641b985-d5de-4991-f153-343ad20bae25"
      },
      "source": [
        "#Resumen de todas las métricas del modelo\n",
        "\n",
        "metricsElasticNet = pd.DataFrame({'metric':['AUC','Gini','Accuracy','Precision','Recall','F1-score'],\n",
        "                                'ElasticNet_train':[roc_auc_score(y_train, X_train.probability),\n",
        "                                        (roc_auc_score(y_train, X_train.probability)*2-1),\n",
        "                                        accuracy_score(y_train, X_train.prediction),\n",
        "                                        precision_score(y_train, X_train.prediction),\n",
        "                                        recall_score(y_train, X_train.prediction),\n",
        "                                        f1_score(y_train, X_train.prediction)],\n",
        "\n",
        "                                'ElasticNet_test':[roc_auc_score(y_test, X_test.probability),\n",
        "                                        (roc_auc_score(y_test, X_test.probability)*2-1),\n",
        "                                        accuracy_score(y_test, X_test.prediction),\n",
        "                                        precision_score(y_test, X_test.prediction),\n",
        "                                        recall_score(y_test, X_test.prediction),\n",
        "                                        f1_score(y_test, X_test.prediction)]})\n",
        "\n",
        "metricsElasticNet"
      ],
      "execution_count": null,
      "outputs": [
        {
          "output_type": "execute_result",
          "data": {
            "text/plain": [
              "      metric  ElasticNet_train  ElasticNet_test\n",
              "0        AUC          0.822554         0.823049\n",
              "1       Gini          0.645108         0.646098\n",
              "2   Accuracy          0.661316         0.652985\n",
              "3  Precision          0.541353         0.515337\n",
              "4     Recall          0.885246         0.857143\n",
              "5   F1-score          0.671851         0.643678"
            ],
            "text/html": [
              "\n",
              "  <div id=\"df-6fe91ba5-2034-4813-be17-c862ca8ccb1d\">\n",
              "    <div class=\"colab-df-container\">\n",
              "      <div>\n",
              "<style scoped>\n",
              "    .dataframe tbody tr th:only-of-type {\n",
              "        vertical-align: middle;\n",
              "    }\n",
              "\n",
              "    .dataframe tbody tr th {\n",
              "        vertical-align: top;\n",
              "    }\n",
              "\n",
              "    .dataframe thead th {\n",
              "        text-align: right;\n",
              "    }\n",
              "</style>\n",
              "<table border=\"1\" class=\"dataframe\">\n",
              "  <thead>\n",
              "    <tr style=\"text-align: right;\">\n",
              "      <th></th>\n",
              "      <th>metric</th>\n",
              "      <th>ElasticNet_train</th>\n",
              "      <th>ElasticNet_test</th>\n",
              "    </tr>\n",
              "  </thead>\n",
              "  <tbody>\n",
              "    <tr>\n",
              "      <th>0</th>\n",
              "      <td>AUC</td>\n",
              "      <td>0.822554</td>\n",
              "      <td>0.823049</td>\n",
              "    </tr>\n",
              "    <tr>\n",
              "      <th>1</th>\n",
              "      <td>Gini</td>\n",
              "      <td>0.645108</td>\n",
              "      <td>0.646098</td>\n",
              "    </tr>\n",
              "    <tr>\n",
              "      <th>2</th>\n",
              "      <td>Accuracy</td>\n",
              "      <td>0.661316</td>\n",
              "      <td>0.652985</td>\n",
              "    </tr>\n",
              "    <tr>\n",
              "      <th>3</th>\n",
              "      <td>Precision</td>\n",
              "      <td>0.541353</td>\n",
              "      <td>0.515337</td>\n",
              "    </tr>\n",
              "    <tr>\n",
              "      <th>4</th>\n",
              "      <td>Recall</td>\n",
              "      <td>0.885246</td>\n",
              "      <td>0.857143</td>\n",
              "    </tr>\n",
              "    <tr>\n",
              "      <th>5</th>\n",
              "      <td>F1-score</td>\n",
              "      <td>0.671851</td>\n",
              "      <td>0.643678</td>\n",
              "    </tr>\n",
              "  </tbody>\n",
              "</table>\n",
              "</div>\n",
              "      <button class=\"colab-df-convert\" onclick=\"convertToInteractive('df-6fe91ba5-2034-4813-be17-c862ca8ccb1d')\"\n",
              "              title=\"Convert this dataframe to an interactive table.\"\n",
              "              style=\"display:none;\">\n",
              "        \n",
              "  <svg xmlns=\"http://www.w3.org/2000/svg\" height=\"24px\"viewBox=\"0 0 24 24\"\n",
              "       width=\"24px\">\n",
              "    <path d=\"M0 0h24v24H0V0z\" fill=\"none\"/>\n",
              "    <path d=\"M18.56 5.44l.94 2.06.94-2.06 2.06-.94-2.06-.94-.94-2.06-.94 2.06-2.06.94zm-11 1L8.5 8.5l.94-2.06 2.06-.94-2.06-.94L8.5 2.5l-.94 2.06-2.06.94zm10 10l.94 2.06.94-2.06 2.06-.94-2.06-.94-.94-2.06-.94 2.06-2.06.94z\"/><path d=\"M17.41 7.96l-1.37-1.37c-.4-.4-.92-.59-1.43-.59-.52 0-1.04.2-1.43.59L10.3 9.45l-7.72 7.72c-.78.78-.78 2.05 0 2.83L4 21.41c.39.39.9.59 1.41.59.51 0 1.02-.2 1.41-.59l7.78-7.78 2.81-2.81c.8-.78.8-2.07 0-2.86zM5.41 20L4 18.59l7.72-7.72 1.47 1.35L5.41 20z\"/>\n",
              "  </svg>\n",
              "      </button>\n",
              "      \n",
              "  <style>\n",
              "    .colab-df-container {\n",
              "      display:flex;\n",
              "      flex-wrap:wrap;\n",
              "      gap: 12px;\n",
              "    }\n",
              "\n",
              "    .colab-df-convert {\n",
              "      background-color: #E8F0FE;\n",
              "      border: none;\n",
              "      border-radius: 50%;\n",
              "      cursor: pointer;\n",
              "      display: none;\n",
              "      fill: #1967D2;\n",
              "      height: 32px;\n",
              "      padding: 0 0 0 0;\n",
              "      width: 32px;\n",
              "    }\n",
              "\n",
              "    .colab-df-convert:hover {\n",
              "      background-color: #E2EBFA;\n",
              "      box-shadow: 0px 1px 2px rgba(60, 64, 67, 0.3), 0px 1px 3px 1px rgba(60, 64, 67, 0.15);\n",
              "      fill: #174EA6;\n",
              "    }\n",
              "\n",
              "    [theme=dark] .colab-df-convert {\n",
              "      background-color: #3B4455;\n",
              "      fill: #D2E3FC;\n",
              "    }\n",
              "\n",
              "    [theme=dark] .colab-df-convert:hover {\n",
              "      background-color: #434B5C;\n",
              "      box-shadow: 0px 1px 3px 1px rgba(0, 0, 0, 0.15);\n",
              "      filter: drop-shadow(0px 1px 2px rgba(0, 0, 0, 0.3));\n",
              "      fill: #FFFFFF;\n",
              "    }\n",
              "  </style>\n",
              "\n",
              "      <script>\n",
              "        const buttonEl =\n",
              "          document.querySelector('#df-6fe91ba5-2034-4813-be17-c862ca8ccb1d button.colab-df-convert');\n",
              "        buttonEl.style.display =\n",
              "          google.colab.kernel.accessAllowed ? 'block' : 'none';\n",
              "\n",
              "        async function convertToInteractive(key) {\n",
              "          const element = document.querySelector('#df-6fe91ba5-2034-4813-be17-c862ca8ccb1d');\n",
              "          const dataTable =\n",
              "            await google.colab.kernel.invokeFunction('convertToInteractive',\n",
              "                                                     [key], {});\n",
              "          if (!dataTable) return;\n",
              "\n",
              "          const docLinkHtml = 'Like what you see? Visit the ' +\n",
              "            '<a target=\"_blank\" href=https://colab.research.google.com/notebooks/data_table.ipynb>data table notebook</a>'\n",
              "            + ' to learn more about interactive tables.';\n",
              "          element.innerHTML = '';\n",
              "          dataTable['output_type'] = 'display_data';\n",
              "          await google.colab.output.renderOutput(dataTable, element);\n",
              "          const docLink = document.createElement('div');\n",
              "          docLink.innerHTML = docLinkHtml;\n",
              "          element.appendChild(docLink);\n",
              "        }\n",
              "      </script>\n",
              "    </div>\n",
              "  </div>\n",
              "  "
            ]
          },
          "metadata": {},
          "execution_count": 117
        }
      ]
    },
    {
      "cell_type": "code",
      "metadata": {
        "id": "TV_v57h3VmCE",
        "colab": {
          "base_uri": "https://localhost:8080/",
          "height": 237
        },
        "outputId": "8d7570fc-c47d-4043-d179-c11b6c3b2bfb"
      },
      "source": [
        "pdRes = pd.merge(metricsLogisitc, metricsElasticNet, on = 'metric', how='left')\n",
        "pdRes"
      ],
      "execution_count": null,
      "outputs": [
        {
          "output_type": "execute_result",
          "data": {
            "text/plain": [
              "      metric  logistic_train  logistic_test  ElasticNet_train  ElasticNet_test\n",
              "0        AUC        0.853816       0.862185          0.822554         0.823049\n",
              "1       Gini        0.707632       0.724370          0.645108         0.646098\n",
              "2   Accuracy        0.791332       0.805970          0.661316         0.652985\n",
              "3  Precision        0.761468       0.755556          0.541353         0.515337\n",
              "4     Recall        0.680328       0.693878          0.885246         0.857143\n",
              "5   F1-score        0.718615       0.723404          0.671851         0.643678"
            ],
            "text/html": [
              "\n",
              "  <div id=\"df-8fb0a04a-bd66-44a6-b557-1b85741463fc\">\n",
              "    <div class=\"colab-df-container\">\n",
              "      <div>\n",
              "<style scoped>\n",
              "    .dataframe tbody tr th:only-of-type {\n",
              "        vertical-align: middle;\n",
              "    }\n",
              "\n",
              "    .dataframe tbody tr th {\n",
              "        vertical-align: top;\n",
              "    }\n",
              "\n",
              "    .dataframe thead th {\n",
              "        text-align: right;\n",
              "    }\n",
              "</style>\n",
              "<table border=\"1\" class=\"dataframe\">\n",
              "  <thead>\n",
              "    <tr style=\"text-align: right;\">\n",
              "      <th></th>\n",
              "      <th>metric</th>\n",
              "      <th>logistic_train</th>\n",
              "      <th>logistic_test</th>\n",
              "      <th>ElasticNet_train</th>\n",
              "      <th>ElasticNet_test</th>\n",
              "    </tr>\n",
              "  </thead>\n",
              "  <tbody>\n",
              "    <tr>\n",
              "      <th>0</th>\n",
              "      <td>AUC</td>\n",
              "      <td>0.853816</td>\n",
              "      <td>0.862185</td>\n",
              "      <td>0.822554</td>\n",
              "      <td>0.823049</td>\n",
              "    </tr>\n",
              "    <tr>\n",
              "      <th>1</th>\n",
              "      <td>Gini</td>\n",
              "      <td>0.707632</td>\n",
              "      <td>0.724370</td>\n",
              "      <td>0.645108</td>\n",
              "      <td>0.646098</td>\n",
              "    </tr>\n",
              "    <tr>\n",
              "      <th>2</th>\n",
              "      <td>Accuracy</td>\n",
              "      <td>0.791332</td>\n",
              "      <td>0.805970</td>\n",
              "      <td>0.661316</td>\n",
              "      <td>0.652985</td>\n",
              "    </tr>\n",
              "    <tr>\n",
              "      <th>3</th>\n",
              "      <td>Precision</td>\n",
              "      <td>0.761468</td>\n",
              "      <td>0.755556</td>\n",
              "      <td>0.541353</td>\n",
              "      <td>0.515337</td>\n",
              "    </tr>\n",
              "    <tr>\n",
              "      <th>4</th>\n",
              "      <td>Recall</td>\n",
              "      <td>0.680328</td>\n",
              "      <td>0.693878</td>\n",
              "      <td>0.885246</td>\n",
              "      <td>0.857143</td>\n",
              "    </tr>\n",
              "    <tr>\n",
              "      <th>5</th>\n",
              "      <td>F1-score</td>\n",
              "      <td>0.718615</td>\n",
              "      <td>0.723404</td>\n",
              "      <td>0.671851</td>\n",
              "      <td>0.643678</td>\n",
              "    </tr>\n",
              "  </tbody>\n",
              "</table>\n",
              "</div>\n",
              "      <button class=\"colab-df-convert\" onclick=\"convertToInteractive('df-8fb0a04a-bd66-44a6-b557-1b85741463fc')\"\n",
              "              title=\"Convert this dataframe to an interactive table.\"\n",
              "              style=\"display:none;\">\n",
              "        \n",
              "  <svg xmlns=\"http://www.w3.org/2000/svg\" height=\"24px\"viewBox=\"0 0 24 24\"\n",
              "       width=\"24px\">\n",
              "    <path d=\"M0 0h24v24H0V0z\" fill=\"none\"/>\n",
              "    <path d=\"M18.56 5.44l.94 2.06.94-2.06 2.06-.94-2.06-.94-.94-2.06-.94 2.06-2.06.94zm-11 1L8.5 8.5l.94-2.06 2.06-.94-2.06-.94L8.5 2.5l-.94 2.06-2.06.94zm10 10l.94 2.06.94-2.06 2.06-.94-2.06-.94-.94-2.06-.94 2.06-2.06.94z\"/><path d=\"M17.41 7.96l-1.37-1.37c-.4-.4-.92-.59-1.43-.59-.52 0-1.04.2-1.43.59L10.3 9.45l-7.72 7.72c-.78.78-.78 2.05 0 2.83L4 21.41c.39.39.9.59 1.41.59.51 0 1.02-.2 1.41-.59l7.78-7.78 2.81-2.81c.8-.78.8-2.07 0-2.86zM5.41 20L4 18.59l7.72-7.72 1.47 1.35L5.41 20z\"/>\n",
              "  </svg>\n",
              "      </button>\n",
              "      \n",
              "  <style>\n",
              "    .colab-df-container {\n",
              "      display:flex;\n",
              "      flex-wrap:wrap;\n",
              "      gap: 12px;\n",
              "    }\n",
              "\n",
              "    .colab-df-convert {\n",
              "      background-color: #E8F0FE;\n",
              "      border: none;\n",
              "      border-radius: 50%;\n",
              "      cursor: pointer;\n",
              "      display: none;\n",
              "      fill: #1967D2;\n",
              "      height: 32px;\n",
              "      padding: 0 0 0 0;\n",
              "      width: 32px;\n",
              "    }\n",
              "\n",
              "    .colab-df-convert:hover {\n",
              "      background-color: #E2EBFA;\n",
              "      box-shadow: 0px 1px 2px rgba(60, 64, 67, 0.3), 0px 1px 3px 1px rgba(60, 64, 67, 0.15);\n",
              "      fill: #174EA6;\n",
              "    }\n",
              "\n",
              "    [theme=dark] .colab-df-convert {\n",
              "      background-color: #3B4455;\n",
              "      fill: #D2E3FC;\n",
              "    }\n",
              "\n",
              "    [theme=dark] .colab-df-convert:hover {\n",
              "      background-color: #434B5C;\n",
              "      box-shadow: 0px 1px 3px 1px rgba(0, 0, 0, 0.15);\n",
              "      filter: drop-shadow(0px 1px 2px rgba(0, 0, 0, 0.3));\n",
              "      fill: #FFFFFF;\n",
              "    }\n",
              "  </style>\n",
              "\n",
              "      <script>\n",
              "        const buttonEl =\n",
              "          document.querySelector('#df-8fb0a04a-bd66-44a6-b557-1b85741463fc button.colab-df-convert');\n",
              "        buttonEl.style.display =\n",
              "          google.colab.kernel.accessAllowed ? 'block' : 'none';\n",
              "\n",
              "        async function convertToInteractive(key) {\n",
              "          const element = document.querySelector('#df-8fb0a04a-bd66-44a6-b557-1b85741463fc');\n",
              "          const dataTable =\n",
              "            await google.colab.kernel.invokeFunction('convertToInteractive',\n",
              "                                                     [key], {});\n",
              "          if (!dataTable) return;\n",
              "\n",
              "          const docLinkHtml = 'Like what you see? Visit the ' +\n",
              "            '<a target=\"_blank\" href=https://colab.research.google.com/notebooks/data_table.ipynb>data table notebook</a>'\n",
              "            + ' to learn more about interactive tables.';\n",
              "          element.innerHTML = '';\n",
              "          dataTable['output_type'] = 'display_data';\n",
              "          await google.colab.output.renderOutput(dataTable, element);\n",
              "          const docLink = document.createElement('div');\n",
              "          docLink.innerHTML = docLinkHtml;\n",
              "          element.appendChild(docLink);\n",
              "        }\n",
              "      </script>\n",
              "    </div>\n",
              "  </div>\n",
              "  "
            ]
          },
          "metadata": {},
          "execution_count": 118
        }
      ]
    },
    {
      "cell_type": "markdown",
      "metadata": {
        "id": "nDoufVbcpOuR"
      },
      "source": [
        "## Naive Bayes"
      ]
    },
    {
      "cell_type": "code",
      "metadata": {
        "id": "omqDR2f1v5bm",
        "colab": {
          "base_uri": "https://localhost:8080/",
          "height": 302
        },
        "outputId": "ca4a3920-1d72-435b-c7c8-5256fcdabe8f"
      },
      "source": [
        "# Cargar Data\n",
        "import pandas as pd\n",
        "data = pd.read_csv(\"train.csv\")\n",
        "data.head()"
      ],
      "execution_count": null,
      "outputs": [
        {
          "output_type": "execute_result",
          "data": {
            "text/plain": [
              "   PassengerId  Survived  Pclass  \\\n",
              "0            1         0       3   \n",
              "1            2         1       1   \n",
              "2            3         1       3   \n",
              "3            4         1       1   \n",
              "4            5         0       3   \n",
              "\n",
              "                                                Name     Sex   Age  SibSp  \\\n",
              "0                            Braund, Mr. Owen Harris    male  22.0      1   \n",
              "1  Cumings, Mrs. John Bradley (Florence Briggs Th...  female  38.0      1   \n",
              "2                             Heikkinen, Miss. Laina  female  26.0      0   \n",
              "3       Futrelle, Mrs. Jacques Heath (Lily May Peel)  female  35.0      1   \n",
              "4                           Allen, Mr. William Henry    male  35.0      0   \n",
              "\n",
              "   Parch            Ticket     Fare Cabin Embarked  \n",
              "0      0         A/5 21171   7.2500   NaN        S  \n",
              "1      0          PC 17599  71.2833   C85        C  \n",
              "2      0  STON/O2. 3101282   7.9250   NaN        S  \n",
              "3      0            113803  53.1000  C123        S  \n",
              "4      0            373450   8.0500   NaN        S  "
            ],
            "text/html": [
              "\n",
              "  <div id=\"df-68867793-928c-4d5e-ae5b-fb3a990a6ca1\">\n",
              "    <div class=\"colab-df-container\">\n",
              "      <div>\n",
              "<style scoped>\n",
              "    .dataframe tbody tr th:only-of-type {\n",
              "        vertical-align: middle;\n",
              "    }\n",
              "\n",
              "    .dataframe tbody tr th {\n",
              "        vertical-align: top;\n",
              "    }\n",
              "\n",
              "    .dataframe thead th {\n",
              "        text-align: right;\n",
              "    }\n",
              "</style>\n",
              "<table border=\"1\" class=\"dataframe\">\n",
              "  <thead>\n",
              "    <tr style=\"text-align: right;\">\n",
              "      <th></th>\n",
              "      <th>PassengerId</th>\n",
              "      <th>Survived</th>\n",
              "      <th>Pclass</th>\n",
              "      <th>Name</th>\n",
              "      <th>Sex</th>\n",
              "      <th>Age</th>\n",
              "      <th>SibSp</th>\n",
              "      <th>Parch</th>\n",
              "      <th>Ticket</th>\n",
              "      <th>Fare</th>\n",
              "      <th>Cabin</th>\n",
              "      <th>Embarked</th>\n",
              "    </tr>\n",
              "  </thead>\n",
              "  <tbody>\n",
              "    <tr>\n",
              "      <th>0</th>\n",
              "      <td>1</td>\n",
              "      <td>0</td>\n",
              "      <td>3</td>\n",
              "      <td>Braund, Mr. Owen Harris</td>\n",
              "      <td>male</td>\n",
              "      <td>22.0</td>\n",
              "      <td>1</td>\n",
              "      <td>0</td>\n",
              "      <td>A/5 21171</td>\n",
              "      <td>7.2500</td>\n",
              "      <td>NaN</td>\n",
              "      <td>S</td>\n",
              "    </tr>\n",
              "    <tr>\n",
              "      <th>1</th>\n",
              "      <td>2</td>\n",
              "      <td>1</td>\n",
              "      <td>1</td>\n",
              "      <td>Cumings, Mrs. John Bradley (Florence Briggs Th...</td>\n",
              "      <td>female</td>\n",
              "      <td>38.0</td>\n",
              "      <td>1</td>\n",
              "      <td>0</td>\n",
              "      <td>PC 17599</td>\n",
              "      <td>71.2833</td>\n",
              "      <td>C85</td>\n",
              "      <td>C</td>\n",
              "    </tr>\n",
              "    <tr>\n",
              "      <th>2</th>\n",
              "      <td>3</td>\n",
              "      <td>1</td>\n",
              "      <td>3</td>\n",
              "      <td>Heikkinen, Miss. Laina</td>\n",
              "      <td>female</td>\n",
              "      <td>26.0</td>\n",
              "      <td>0</td>\n",
              "      <td>0</td>\n",
              "      <td>STON/O2. 3101282</td>\n",
              "      <td>7.9250</td>\n",
              "      <td>NaN</td>\n",
              "      <td>S</td>\n",
              "    </tr>\n",
              "    <tr>\n",
              "      <th>3</th>\n",
              "      <td>4</td>\n",
              "      <td>1</td>\n",
              "      <td>1</td>\n",
              "      <td>Futrelle, Mrs. Jacques Heath (Lily May Peel)</td>\n",
              "      <td>female</td>\n",
              "      <td>35.0</td>\n",
              "      <td>1</td>\n",
              "      <td>0</td>\n",
              "      <td>113803</td>\n",
              "      <td>53.1000</td>\n",
              "      <td>C123</td>\n",
              "      <td>S</td>\n",
              "    </tr>\n",
              "    <tr>\n",
              "      <th>4</th>\n",
              "      <td>5</td>\n",
              "      <td>0</td>\n",
              "      <td>3</td>\n",
              "      <td>Allen, Mr. William Henry</td>\n",
              "      <td>male</td>\n",
              "      <td>35.0</td>\n",
              "      <td>0</td>\n",
              "      <td>0</td>\n",
              "      <td>373450</td>\n",
              "      <td>8.0500</td>\n",
              "      <td>NaN</td>\n",
              "      <td>S</td>\n",
              "    </tr>\n",
              "  </tbody>\n",
              "</table>\n",
              "</div>\n",
              "      <button class=\"colab-df-convert\" onclick=\"convertToInteractive('df-68867793-928c-4d5e-ae5b-fb3a990a6ca1')\"\n",
              "              title=\"Convert this dataframe to an interactive table.\"\n",
              "              style=\"display:none;\">\n",
              "        \n",
              "  <svg xmlns=\"http://www.w3.org/2000/svg\" height=\"24px\"viewBox=\"0 0 24 24\"\n",
              "       width=\"24px\">\n",
              "    <path d=\"M0 0h24v24H0V0z\" fill=\"none\"/>\n",
              "    <path d=\"M18.56 5.44l.94 2.06.94-2.06 2.06-.94-2.06-.94-.94-2.06-.94 2.06-2.06.94zm-11 1L8.5 8.5l.94-2.06 2.06-.94-2.06-.94L8.5 2.5l-.94 2.06-2.06.94zm10 10l.94 2.06.94-2.06 2.06-.94-2.06-.94-.94-2.06-.94 2.06-2.06.94z\"/><path d=\"M17.41 7.96l-1.37-1.37c-.4-.4-.92-.59-1.43-.59-.52 0-1.04.2-1.43.59L10.3 9.45l-7.72 7.72c-.78.78-.78 2.05 0 2.83L4 21.41c.39.39.9.59 1.41.59.51 0 1.02-.2 1.41-.59l7.78-7.78 2.81-2.81c.8-.78.8-2.07 0-2.86zM5.41 20L4 18.59l7.72-7.72 1.47 1.35L5.41 20z\"/>\n",
              "  </svg>\n",
              "      </button>\n",
              "      \n",
              "  <style>\n",
              "    .colab-df-container {\n",
              "      display:flex;\n",
              "      flex-wrap:wrap;\n",
              "      gap: 12px;\n",
              "    }\n",
              "\n",
              "    .colab-df-convert {\n",
              "      background-color: #E8F0FE;\n",
              "      border: none;\n",
              "      border-radius: 50%;\n",
              "      cursor: pointer;\n",
              "      display: none;\n",
              "      fill: #1967D2;\n",
              "      height: 32px;\n",
              "      padding: 0 0 0 0;\n",
              "      width: 32px;\n",
              "    }\n",
              "\n",
              "    .colab-df-convert:hover {\n",
              "      background-color: #E2EBFA;\n",
              "      box-shadow: 0px 1px 2px rgba(60, 64, 67, 0.3), 0px 1px 3px 1px rgba(60, 64, 67, 0.15);\n",
              "      fill: #174EA6;\n",
              "    }\n",
              "\n",
              "    [theme=dark] .colab-df-convert {\n",
              "      background-color: #3B4455;\n",
              "      fill: #D2E3FC;\n",
              "    }\n",
              "\n",
              "    [theme=dark] .colab-df-convert:hover {\n",
              "      background-color: #434B5C;\n",
              "      box-shadow: 0px 1px 3px 1px rgba(0, 0, 0, 0.15);\n",
              "      filter: drop-shadow(0px 1px 2px rgba(0, 0, 0, 0.3));\n",
              "      fill: #FFFFFF;\n",
              "    }\n",
              "  </style>\n",
              "\n",
              "      <script>\n",
              "        const buttonEl =\n",
              "          document.querySelector('#df-68867793-928c-4d5e-ae5b-fb3a990a6ca1 button.colab-df-convert');\n",
              "        buttonEl.style.display =\n",
              "          google.colab.kernel.accessAllowed ? 'block' : 'none';\n",
              "\n",
              "        async function convertToInteractive(key) {\n",
              "          const element = document.querySelector('#df-68867793-928c-4d5e-ae5b-fb3a990a6ca1');\n",
              "          const dataTable =\n",
              "            await google.colab.kernel.invokeFunction('convertToInteractive',\n",
              "                                                     [key], {});\n",
              "          if (!dataTable) return;\n",
              "\n",
              "          const docLinkHtml = 'Like what you see? Visit the ' +\n",
              "            '<a target=\"_blank\" href=https://colab.research.google.com/notebooks/data_table.ipynb>data table notebook</a>'\n",
              "            + ' to learn more about interactive tables.';\n",
              "          element.innerHTML = '';\n",
              "          dataTable['output_type'] = 'display_data';\n",
              "          await google.colab.output.renderOutput(dataTable, element);\n",
              "          const docLink = document.createElement('div');\n",
              "          docLink.innerHTML = docLinkHtml;\n",
              "          element.appendChild(docLink);\n",
              "        }\n",
              "      </script>\n",
              "    </div>\n",
              "  </div>\n",
              "  "
            ]
          },
          "metadata": {},
          "execution_count": 141
        }
      ]
    },
    {
      "cell_type": "code",
      "metadata": {
        "id": "4D6Vhaz4PhoX"
      },
      "source": [
        "#Variables\n",
        "\n",
        "numFeatures = ['Age','Fare','SibSp','Parch']\n",
        "catFeatures = ['Pclass','Sex','Embarked']"
      ],
      "execution_count": null,
      "outputs": []
    },
    {
      "cell_type": "code",
      "metadata": {
        "id": "MNQvxpbcv0XZ"
      },
      "source": [
        "data[[x + '_t' for x in numFeatures]] = data[numFeatures].fillna(data[numFeatures].median())"
      ],
      "execution_count": null,
      "outputs": []
    },
    {
      "cell_type": "code",
      "metadata": {
        "id": "0TFQwmzTuQfV"
      },
      "source": [
        "#Variables para el modelo\n",
        "\n",
        "numFeatures = ['Age_t','Fare_t','SibSp_t','Parch_t']\n",
        "\n",
        "X = data[numFeatures]\n",
        "y = data.Survived"
      ],
      "execution_count": null,
      "outputs": []
    },
    {
      "cell_type": "code",
      "metadata": {
        "id": "am-54BkPuRE-"
      },
      "source": [
        "# Muestreo de data\n",
        "from sklearn.model_selection import train_test_split\n",
        "\n",
        "X_train, X_test, y_train, y_test = train_test_split(X, y,\n",
        "                                                    test_size = 0.3,\n",
        "                                                    random_state = 123)"
      ],
      "execution_count": null,
      "outputs": []
    },
    {
      "cell_type": "code",
      "metadata": {
        "id": "16aSZCXjPq8M",
        "colab": {
          "base_uri": "https://localhost:8080/",
          "height": 175
        },
        "outputId": "75501872-cb4a-40a6-9326-b236f6afc04e"
      },
      "source": [
        "X_train.corr()"
      ],
      "execution_count": null,
      "outputs": [
        {
          "output_type": "execute_result",
          "data": {
            "text/plain": [
              "            Age_t    Fare_t   SibSp_t   Parch_t\n",
              "Age_t    1.000000  0.104797 -0.184710 -0.163742\n",
              "Fare_t   0.104797  1.000000  0.167693  0.236887\n",
              "SibSp_t -0.184710  0.167693  1.000000  0.434061\n",
              "Parch_t -0.163742  0.236887  0.434061  1.000000"
            ],
            "text/html": [
              "\n",
              "  <div id=\"df-18d8ec7a-b680-44c3-ae6f-66a785b32da9\">\n",
              "    <div class=\"colab-df-container\">\n",
              "      <div>\n",
              "<style scoped>\n",
              "    .dataframe tbody tr th:only-of-type {\n",
              "        vertical-align: middle;\n",
              "    }\n",
              "\n",
              "    .dataframe tbody tr th {\n",
              "        vertical-align: top;\n",
              "    }\n",
              "\n",
              "    .dataframe thead th {\n",
              "        text-align: right;\n",
              "    }\n",
              "</style>\n",
              "<table border=\"1\" class=\"dataframe\">\n",
              "  <thead>\n",
              "    <tr style=\"text-align: right;\">\n",
              "      <th></th>\n",
              "      <th>Age_t</th>\n",
              "      <th>Fare_t</th>\n",
              "      <th>SibSp_t</th>\n",
              "      <th>Parch_t</th>\n",
              "    </tr>\n",
              "  </thead>\n",
              "  <tbody>\n",
              "    <tr>\n",
              "      <th>Age_t</th>\n",
              "      <td>1.000000</td>\n",
              "      <td>0.104797</td>\n",
              "      <td>-0.184710</td>\n",
              "      <td>-0.163742</td>\n",
              "    </tr>\n",
              "    <tr>\n",
              "      <th>Fare_t</th>\n",
              "      <td>0.104797</td>\n",
              "      <td>1.000000</td>\n",
              "      <td>0.167693</td>\n",
              "      <td>0.236887</td>\n",
              "    </tr>\n",
              "    <tr>\n",
              "      <th>SibSp_t</th>\n",
              "      <td>-0.184710</td>\n",
              "      <td>0.167693</td>\n",
              "      <td>1.000000</td>\n",
              "      <td>0.434061</td>\n",
              "    </tr>\n",
              "    <tr>\n",
              "      <th>Parch_t</th>\n",
              "      <td>-0.163742</td>\n",
              "      <td>0.236887</td>\n",
              "      <td>0.434061</td>\n",
              "      <td>1.000000</td>\n",
              "    </tr>\n",
              "  </tbody>\n",
              "</table>\n",
              "</div>\n",
              "      <button class=\"colab-df-convert\" onclick=\"convertToInteractive('df-18d8ec7a-b680-44c3-ae6f-66a785b32da9')\"\n",
              "              title=\"Convert this dataframe to an interactive table.\"\n",
              "              style=\"display:none;\">\n",
              "        \n",
              "  <svg xmlns=\"http://www.w3.org/2000/svg\" height=\"24px\"viewBox=\"0 0 24 24\"\n",
              "       width=\"24px\">\n",
              "    <path d=\"M0 0h24v24H0V0z\" fill=\"none\"/>\n",
              "    <path d=\"M18.56 5.44l.94 2.06.94-2.06 2.06-.94-2.06-.94-.94-2.06-.94 2.06-2.06.94zm-11 1L8.5 8.5l.94-2.06 2.06-.94-2.06-.94L8.5 2.5l-.94 2.06-2.06.94zm10 10l.94 2.06.94-2.06 2.06-.94-2.06-.94-.94-2.06-.94 2.06-2.06.94z\"/><path d=\"M17.41 7.96l-1.37-1.37c-.4-.4-.92-.59-1.43-.59-.52 0-1.04.2-1.43.59L10.3 9.45l-7.72 7.72c-.78.78-.78 2.05 0 2.83L4 21.41c.39.39.9.59 1.41.59.51 0 1.02-.2 1.41-.59l7.78-7.78 2.81-2.81c.8-.78.8-2.07 0-2.86zM5.41 20L4 18.59l7.72-7.72 1.47 1.35L5.41 20z\"/>\n",
              "  </svg>\n",
              "      </button>\n",
              "      \n",
              "  <style>\n",
              "    .colab-df-container {\n",
              "      display:flex;\n",
              "      flex-wrap:wrap;\n",
              "      gap: 12px;\n",
              "    }\n",
              "\n",
              "    .colab-df-convert {\n",
              "      background-color: #E8F0FE;\n",
              "      border: none;\n",
              "      border-radius: 50%;\n",
              "      cursor: pointer;\n",
              "      display: none;\n",
              "      fill: #1967D2;\n",
              "      height: 32px;\n",
              "      padding: 0 0 0 0;\n",
              "      width: 32px;\n",
              "    }\n",
              "\n",
              "    .colab-df-convert:hover {\n",
              "      background-color: #E2EBFA;\n",
              "      box-shadow: 0px 1px 2px rgba(60, 64, 67, 0.3), 0px 1px 3px 1px rgba(60, 64, 67, 0.15);\n",
              "      fill: #174EA6;\n",
              "    }\n",
              "\n",
              "    [theme=dark] .colab-df-convert {\n",
              "      background-color: #3B4455;\n",
              "      fill: #D2E3FC;\n",
              "    }\n",
              "\n",
              "    [theme=dark] .colab-df-convert:hover {\n",
              "      background-color: #434B5C;\n",
              "      box-shadow: 0px 1px 3px 1px rgba(0, 0, 0, 0.15);\n",
              "      filter: drop-shadow(0px 1px 2px rgba(0, 0, 0, 0.3));\n",
              "      fill: #FFFFFF;\n",
              "    }\n",
              "  </style>\n",
              "\n",
              "      <script>\n",
              "        const buttonEl =\n",
              "          document.querySelector('#df-18d8ec7a-b680-44c3-ae6f-66a785b32da9 button.colab-df-convert');\n",
              "        buttonEl.style.display =\n",
              "          google.colab.kernel.accessAllowed ? 'block' : 'none';\n",
              "\n",
              "        async function convertToInteractive(key) {\n",
              "          const element = document.querySelector('#df-18d8ec7a-b680-44c3-ae6f-66a785b32da9');\n",
              "          const dataTable =\n",
              "            await google.colab.kernel.invokeFunction('convertToInteractive',\n",
              "                                                     [key], {});\n",
              "          if (!dataTable) return;\n",
              "\n",
              "          const docLinkHtml = 'Like what you see? Visit the ' +\n",
              "            '<a target=\"_blank\" href=https://colab.research.google.com/notebooks/data_table.ipynb>data table notebook</a>'\n",
              "            + ' to learn more about interactive tables.';\n",
              "          element.innerHTML = '';\n",
              "          dataTable['output_type'] = 'display_data';\n",
              "          await google.colab.output.renderOutput(dataTable, element);\n",
              "          const docLink = document.createElement('div');\n",
              "          docLink.innerHTML = docLinkHtml;\n",
              "          element.appendChild(docLink);\n",
              "        }\n",
              "      </script>\n",
              "    </div>\n",
              "  </div>\n",
              "  "
            ]
          },
          "metadata": {},
          "execution_count": 146
        }
      ]
    },
    {
      "cell_type": "code",
      "metadata": {
        "id": "pnTqztrJvDOQ"
      },
      "source": [
        "from sklearn.naive_bayes import GaussianNB"
      ],
      "execution_count": null,
      "outputs": []
    },
    {
      "cell_type": "code",
      "metadata": {
        "id": "UP8WypyNulj6"
      },
      "source": [
        "gnb = GaussianNB()\n",
        "gnb = gnb.fit(X_train, y_train)\n"
      ],
      "execution_count": null,
      "outputs": []
    },
    {
      "cell_type": "code",
      "metadata": {
        "id": "EyFzd3C7ww1_",
        "colab": {
          "base_uri": "https://localhost:8080/"
        },
        "outputId": "ba7c052e-49c0-4fc1-c945-6fda3ba506bf"
      },
      "source": [
        "gnb.predict_proba(X_train[numFeatures])"
      ],
      "execution_count": null,
      "outputs": [
        {
          "output_type": "execute_result",
          "data": {
            "text/plain": [
              "array([[0.68313158, 0.31686842],\n",
              "       [0.69047955, 0.30952045],\n",
              "       [0.72529459, 0.27470541],\n",
              "       ...,\n",
              "       [0.7237841 , 0.2762159 ],\n",
              "       [0.71873977, 0.28126023],\n",
              "       [0.7167673 , 0.2832327 ]])"
            ]
          },
          "metadata": {},
          "execution_count": 149
        }
      ]
    },
    {
      "cell_type": "code",
      "metadata": {
        "id": "2zR9jmOqwiBQ"
      },
      "source": [
        "# Usando el modelo para predecir\n",
        "\n",
        "X_train['probability'] = gnb.predict_proba(X_train[numFeatures])[:,1]\n",
        "X_test['probability']  = gnb.predict_proba(X_test[numFeatures])[:,1]\n",
        "\n",
        "X_train['prediction'] = gnb.predict(X_train[numFeatures])\n",
        "X_test['prediction']  = gnb.predict(X_test[numFeatures])\n",
        "\n",
        "X_train['Survived'] = y_train\n",
        "X_test['Survived'] = y_test"
      ],
      "execution_count": null,
      "outputs": []
    },
    {
      "cell_type": "code",
      "metadata": {
        "id": "LTyHVbA6xg6w",
        "colab": {
          "base_uri": "https://localhost:8080/",
          "height": 238
        },
        "outputId": "2e8f9c65-fbcd-4430-a6f1-fa9ea5ae68f7"
      },
      "source": [
        "#Resumen de todas las métricas del modelo\n",
        "\n",
        "metricsgnb = pd.DataFrame({'metric':['AUC','Gini','Accuracy','Precision','Recall','F1-score'],\n",
        "                                'gnb_train':[roc_auc_score(y_train, X_train.probability),\n",
        "                                        (roc_auc_score(y_train, X_train.probability)*2-1),\n",
        "                                        accuracy_score(y_train, X_train.prediction),\n",
        "                                        precision_score(y_train, X_train.prediction),\n",
        "                                        recall_score(y_train, X_train.prediction),\n",
        "                                        f1_score(y_train, X_train.prediction)],\n",
        "\n",
        "                                'gnb_test':[roc_auc_score(y_test, X_test.probability),\n",
        "                                        (roc_auc_score(y_test, X_test.probability)*2-1),\n",
        "                                        accuracy_score(y_test, X_test.prediction),\n",
        "                                        precision_score(y_test, X_test.prediction),\n",
        "                                        recall_score(y_test, X_test.prediction),\n",
        "                                        f1_score(y_test, X_test.prediction)]})\n",
        "\n",
        "metricsgnb"
      ],
      "execution_count": null,
      "outputs": [
        {
          "output_type": "execute_result",
          "data": {
            "text/plain": [
              "      metric  gnb_train  gnb_test\n",
              "0        AUC   0.674521  0.693097\n",
              "1       Gini   0.349042  0.386194\n",
              "2   Accuracy   0.685393  0.716418\n",
              "3  Precision   0.744898  0.805556\n",
              "4     Recall   0.299180  0.295918\n",
              "5   F1-score   0.426901  0.432836"
            ],
            "text/html": [
              "\n",
              "  <div id=\"df-278112db-b8a6-42ef-abbd-6d5c945ce8f5\">\n",
              "    <div class=\"colab-df-container\">\n",
              "      <div>\n",
              "<style scoped>\n",
              "    .dataframe tbody tr th:only-of-type {\n",
              "        vertical-align: middle;\n",
              "    }\n",
              "\n",
              "    .dataframe tbody tr th {\n",
              "        vertical-align: top;\n",
              "    }\n",
              "\n",
              "    .dataframe thead th {\n",
              "        text-align: right;\n",
              "    }\n",
              "</style>\n",
              "<table border=\"1\" class=\"dataframe\">\n",
              "  <thead>\n",
              "    <tr style=\"text-align: right;\">\n",
              "      <th></th>\n",
              "      <th>metric</th>\n",
              "      <th>gnb_train</th>\n",
              "      <th>gnb_test</th>\n",
              "    </tr>\n",
              "  </thead>\n",
              "  <tbody>\n",
              "    <tr>\n",
              "      <th>0</th>\n",
              "      <td>AUC</td>\n",
              "      <td>0.674521</td>\n",
              "      <td>0.693097</td>\n",
              "    </tr>\n",
              "    <tr>\n",
              "      <th>1</th>\n",
              "      <td>Gini</td>\n",
              "      <td>0.349042</td>\n",
              "      <td>0.386194</td>\n",
              "    </tr>\n",
              "    <tr>\n",
              "      <th>2</th>\n",
              "      <td>Accuracy</td>\n",
              "      <td>0.685393</td>\n",
              "      <td>0.716418</td>\n",
              "    </tr>\n",
              "    <tr>\n",
              "      <th>3</th>\n",
              "      <td>Precision</td>\n",
              "      <td>0.744898</td>\n",
              "      <td>0.805556</td>\n",
              "    </tr>\n",
              "    <tr>\n",
              "      <th>4</th>\n",
              "      <td>Recall</td>\n",
              "      <td>0.299180</td>\n",
              "      <td>0.295918</td>\n",
              "    </tr>\n",
              "    <tr>\n",
              "      <th>5</th>\n",
              "      <td>F1-score</td>\n",
              "      <td>0.426901</td>\n",
              "      <td>0.432836</td>\n",
              "    </tr>\n",
              "  </tbody>\n",
              "</table>\n",
              "</div>\n",
              "      <button class=\"colab-df-convert\" onclick=\"convertToInteractive('df-278112db-b8a6-42ef-abbd-6d5c945ce8f5')\"\n",
              "              title=\"Convert this dataframe to an interactive table.\"\n",
              "              style=\"display:none;\">\n",
              "        \n",
              "  <svg xmlns=\"http://www.w3.org/2000/svg\" height=\"24px\"viewBox=\"0 0 24 24\"\n",
              "       width=\"24px\">\n",
              "    <path d=\"M0 0h24v24H0V0z\" fill=\"none\"/>\n",
              "    <path d=\"M18.56 5.44l.94 2.06.94-2.06 2.06-.94-2.06-.94-.94-2.06-.94 2.06-2.06.94zm-11 1L8.5 8.5l.94-2.06 2.06-.94-2.06-.94L8.5 2.5l-.94 2.06-2.06.94zm10 10l.94 2.06.94-2.06 2.06-.94-2.06-.94-.94-2.06-.94 2.06-2.06.94z\"/><path d=\"M17.41 7.96l-1.37-1.37c-.4-.4-.92-.59-1.43-.59-.52 0-1.04.2-1.43.59L10.3 9.45l-7.72 7.72c-.78.78-.78 2.05 0 2.83L4 21.41c.39.39.9.59 1.41.59.51 0 1.02-.2 1.41-.59l7.78-7.78 2.81-2.81c.8-.78.8-2.07 0-2.86zM5.41 20L4 18.59l7.72-7.72 1.47 1.35L5.41 20z\"/>\n",
              "  </svg>\n",
              "      </button>\n",
              "      \n",
              "  <style>\n",
              "    .colab-df-container {\n",
              "      display:flex;\n",
              "      flex-wrap:wrap;\n",
              "      gap: 12px;\n",
              "    }\n",
              "\n",
              "    .colab-df-convert {\n",
              "      background-color: #E8F0FE;\n",
              "      border: none;\n",
              "      border-radius: 50%;\n",
              "      cursor: pointer;\n",
              "      display: none;\n",
              "      fill: #1967D2;\n",
              "      height: 32px;\n",
              "      padding: 0 0 0 0;\n",
              "      width: 32px;\n",
              "    }\n",
              "\n",
              "    .colab-df-convert:hover {\n",
              "      background-color: #E2EBFA;\n",
              "      box-shadow: 0px 1px 2px rgba(60, 64, 67, 0.3), 0px 1px 3px 1px rgba(60, 64, 67, 0.15);\n",
              "      fill: #174EA6;\n",
              "    }\n",
              "\n",
              "    [theme=dark] .colab-df-convert {\n",
              "      background-color: #3B4455;\n",
              "      fill: #D2E3FC;\n",
              "    }\n",
              "\n",
              "    [theme=dark] .colab-df-convert:hover {\n",
              "      background-color: #434B5C;\n",
              "      box-shadow: 0px 1px 3px 1px rgba(0, 0, 0, 0.15);\n",
              "      filter: drop-shadow(0px 1px 2px rgba(0, 0, 0, 0.3));\n",
              "      fill: #FFFFFF;\n",
              "    }\n",
              "  </style>\n",
              "\n",
              "      <script>\n",
              "        const buttonEl =\n",
              "          document.querySelector('#df-278112db-b8a6-42ef-abbd-6d5c945ce8f5 button.colab-df-convert');\n",
              "        buttonEl.style.display =\n",
              "          google.colab.kernel.accessAllowed ? 'block' : 'none';\n",
              "\n",
              "        async function convertToInteractive(key) {\n",
              "          const element = document.querySelector('#df-278112db-b8a6-42ef-abbd-6d5c945ce8f5');\n",
              "          const dataTable =\n",
              "            await google.colab.kernel.invokeFunction('convertToInteractive',\n",
              "                                                     [key], {});\n",
              "          if (!dataTable) return;\n",
              "\n",
              "          const docLinkHtml = 'Like what you see? Visit the ' +\n",
              "            '<a target=\"_blank\" href=https://colab.research.google.com/notebooks/data_table.ipynb>data table notebook</a>'\n",
              "            + ' to learn more about interactive tables.';\n",
              "          element.innerHTML = '';\n",
              "          dataTable['output_type'] = 'display_data';\n",
              "          await google.colab.output.renderOutput(dataTable, element);\n",
              "          const docLink = document.createElement('div');\n",
              "          docLink.innerHTML = docLinkHtml;\n",
              "          element.appendChild(docLink);\n",
              "        }\n",
              "      </script>\n",
              "    </div>\n",
              "  </div>\n",
              "  "
            ]
          },
          "metadata": {},
          "execution_count": 151
        }
      ]
    },
    {
      "cell_type": "code",
      "metadata": {
        "id": "CZQwOln1QIEg",
        "colab": {
          "base_uri": "https://localhost:8080/",
          "height": 238
        },
        "outputId": "06dd0d94-be16-419e-f779-3b71cb6cd1a8"
      },
      "source": [
        "pdRes = pd.merge(pdRes, metricsgnb, on = 'metric', how='left')\n",
        "pdRes"
      ],
      "execution_count": null,
      "outputs": [
        {
          "output_type": "execute_result",
          "data": {
            "text/plain": [
              "      metric  logistic_train  logistic_test  ElasticNet_train  \\\n",
              "0        AUC        0.853816       0.862185          0.761425   \n",
              "1       Gini        0.707632       0.724370          0.522849   \n",
              "2   Accuracy        0.791332       0.805970          0.566613   \n",
              "3  Precision        0.761468       0.755556          0.472917   \n",
              "4     Recall        0.680328       0.693878          0.930328   \n",
              "5   F1-score        0.718615       0.723404          0.627072   \n",
              "\n",
              "   ElasticNet_test  gnb_train  gnb_test  \n",
              "0         0.782833   0.674521  0.693097  \n",
              "1         0.565666   0.349042  0.386194  \n",
              "2         0.537313   0.685393  0.716418  \n",
              "3         0.436893   0.744898  0.805556  \n",
              "4         0.918367   0.299180  0.295918  \n",
              "5         0.592105   0.426901  0.432836  "
            ],
            "text/html": [
              "\n",
              "  <div id=\"df-5f9f85ce-898d-47d9-8bfb-1b2467738a4f\">\n",
              "    <div class=\"colab-df-container\">\n",
              "      <div>\n",
              "<style scoped>\n",
              "    .dataframe tbody tr th:only-of-type {\n",
              "        vertical-align: middle;\n",
              "    }\n",
              "\n",
              "    .dataframe tbody tr th {\n",
              "        vertical-align: top;\n",
              "    }\n",
              "\n",
              "    .dataframe thead th {\n",
              "        text-align: right;\n",
              "    }\n",
              "</style>\n",
              "<table border=\"1\" class=\"dataframe\">\n",
              "  <thead>\n",
              "    <tr style=\"text-align: right;\">\n",
              "      <th></th>\n",
              "      <th>metric</th>\n",
              "      <th>logistic_train</th>\n",
              "      <th>logistic_test</th>\n",
              "      <th>ElasticNet_train</th>\n",
              "      <th>ElasticNet_test</th>\n",
              "      <th>gnb_train</th>\n",
              "      <th>gnb_test</th>\n",
              "    </tr>\n",
              "  </thead>\n",
              "  <tbody>\n",
              "    <tr>\n",
              "      <th>0</th>\n",
              "      <td>AUC</td>\n",
              "      <td>0.853816</td>\n",
              "      <td>0.862185</td>\n",
              "      <td>0.761425</td>\n",
              "      <td>0.782833</td>\n",
              "      <td>0.674521</td>\n",
              "      <td>0.693097</td>\n",
              "    </tr>\n",
              "    <tr>\n",
              "      <th>1</th>\n",
              "      <td>Gini</td>\n",
              "      <td>0.707632</td>\n",
              "      <td>0.724370</td>\n",
              "      <td>0.522849</td>\n",
              "      <td>0.565666</td>\n",
              "      <td>0.349042</td>\n",
              "      <td>0.386194</td>\n",
              "    </tr>\n",
              "    <tr>\n",
              "      <th>2</th>\n",
              "      <td>Accuracy</td>\n",
              "      <td>0.791332</td>\n",
              "      <td>0.805970</td>\n",
              "      <td>0.566613</td>\n",
              "      <td>0.537313</td>\n",
              "      <td>0.685393</td>\n",
              "      <td>0.716418</td>\n",
              "    </tr>\n",
              "    <tr>\n",
              "      <th>3</th>\n",
              "      <td>Precision</td>\n",
              "      <td>0.761468</td>\n",
              "      <td>0.755556</td>\n",
              "      <td>0.472917</td>\n",
              "      <td>0.436893</td>\n",
              "      <td>0.744898</td>\n",
              "      <td>0.805556</td>\n",
              "    </tr>\n",
              "    <tr>\n",
              "      <th>4</th>\n",
              "      <td>Recall</td>\n",
              "      <td>0.680328</td>\n",
              "      <td>0.693878</td>\n",
              "      <td>0.930328</td>\n",
              "      <td>0.918367</td>\n",
              "      <td>0.299180</td>\n",
              "      <td>0.295918</td>\n",
              "    </tr>\n",
              "    <tr>\n",
              "      <th>5</th>\n",
              "      <td>F1-score</td>\n",
              "      <td>0.718615</td>\n",
              "      <td>0.723404</td>\n",
              "      <td>0.627072</td>\n",
              "      <td>0.592105</td>\n",
              "      <td>0.426901</td>\n",
              "      <td>0.432836</td>\n",
              "    </tr>\n",
              "  </tbody>\n",
              "</table>\n",
              "</div>\n",
              "      <button class=\"colab-df-convert\" onclick=\"convertToInteractive('df-5f9f85ce-898d-47d9-8bfb-1b2467738a4f')\"\n",
              "              title=\"Convert this dataframe to an interactive table.\"\n",
              "              style=\"display:none;\">\n",
              "        \n",
              "  <svg xmlns=\"http://www.w3.org/2000/svg\" height=\"24px\"viewBox=\"0 0 24 24\"\n",
              "       width=\"24px\">\n",
              "    <path d=\"M0 0h24v24H0V0z\" fill=\"none\"/>\n",
              "    <path d=\"M18.56 5.44l.94 2.06.94-2.06 2.06-.94-2.06-.94-.94-2.06-.94 2.06-2.06.94zm-11 1L8.5 8.5l.94-2.06 2.06-.94-2.06-.94L8.5 2.5l-.94 2.06-2.06.94zm10 10l.94 2.06.94-2.06 2.06-.94-2.06-.94-.94-2.06-.94 2.06-2.06.94z\"/><path d=\"M17.41 7.96l-1.37-1.37c-.4-.4-.92-.59-1.43-.59-.52 0-1.04.2-1.43.59L10.3 9.45l-7.72 7.72c-.78.78-.78 2.05 0 2.83L4 21.41c.39.39.9.59 1.41.59.51 0 1.02-.2 1.41-.59l7.78-7.78 2.81-2.81c.8-.78.8-2.07 0-2.86zM5.41 20L4 18.59l7.72-7.72 1.47 1.35L5.41 20z\"/>\n",
              "  </svg>\n",
              "      </button>\n",
              "      \n",
              "  <style>\n",
              "    .colab-df-container {\n",
              "      display:flex;\n",
              "      flex-wrap:wrap;\n",
              "      gap: 12px;\n",
              "    }\n",
              "\n",
              "    .colab-df-convert {\n",
              "      background-color: #E8F0FE;\n",
              "      border: none;\n",
              "      border-radius: 50%;\n",
              "      cursor: pointer;\n",
              "      display: none;\n",
              "      fill: #1967D2;\n",
              "      height: 32px;\n",
              "      padding: 0 0 0 0;\n",
              "      width: 32px;\n",
              "    }\n",
              "\n",
              "    .colab-df-convert:hover {\n",
              "      background-color: #E2EBFA;\n",
              "      box-shadow: 0px 1px 2px rgba(60, 64, 67, 0.3), 0px 1px 3px 1px rgba(60, 64, 67, 0.15);\n",
              "      fill: #174EA6;\n",
              "    }\n",
              "\n",
              "    [theme=dark] .colab-df-convert {\n",
              "      background-color: #3B4455;\n",
              "      fill: #D2E3FC;\n",
              "    }\n",
              "\n",
              "    [theme=dark] .colab-df-convert:hover {\n",
              "      background-color: #434B5C;\n",
              "      box-shadow: 0px 1px 3px 1px rgba(0, 0, 0, 0.15);\n",
              "      filter: drop-shadow(0px 1px 2px rgba(0, 0, 0, 0.3));\n",
              "      fill: #FFFFFF;\n",
              "    }\n",
              "  </style>\n",
              "\n",
              "      <script>\n",
              "        const buttonEl =\n",
              "          document.querySelector('#df-5f9f85ce-898d-47d9-8bfb-1b2467738a4f button.colab-df-convert');\n",
              "        buttonEl.style.display =\n",
              "          google.colab.kernel.accessAllowed ? 'block' : 'none';\n",
              "\n",
              "        async function convertToInteractive(key) {\n",
              "          const element = document.querySelector('#df-5f9f85ce-898d-47d9-8bfb-1b2467738a4f');\n",
              "          const dataTable =\n",
              "            await google.colab.kernel.invokeFunction('convertToInteractive',\n",
              "                                                     [key], {});\n",
              "          if (!dataTable) return;\n",
              "\n",
              "          const docLinkHtml = 'Like what you see? Visit the ' +\n",
              "            '<a target=\"_blank\" href=https://colab.research.google.com/notebooks/data_table.ipynb>data table notebook</a>'\n",
              "            + ' to learn more about interactive tables.';\n",
              "          element.innerHTML = '';\n",
              "          dataTable['output_type'] = 'display_data';\n",
              "          await google.colab.output.renderOutput(dataTable, element);\n",
              "          const docLink = document.createElement('div');\n",
              "          docLink.innerHTML = docLinkHtml;\n",
              "          element.appendChild(docLink);\n",
              "        }\n",
              "      </script>\n",
              "    </div>\n",
              "  </div>\n",
              "  "
            ]
          },
          "metadata": {},
          "execution_count": 152
        }
      ]
    },
    {
      "cell_type": "markdown",
      "metadata": {
        "id": "C4rG_SoNWC-z"
      },
      "source": [
        "## Decision Tree"
      ]
    },
    {
      "cell_type": "code",
      "source": [
        "data = pd.read_csv(\"train_titanic.csv\")"
      ],
      "metadata": {
        "id": "AJBpgd4AhF-7"
      },
      "execution_count": null,
      "outputs": []
    },
    {
      "cell_type": "code",
      "source": [
        "data[c] = data[c].replace(np.nan,'missing')\n"
      ],
      "metadata": {
        "id": "yDd5fqhkhDa1"
      },
      "execution_count": null,
      "outputs": []
    },
    {
      "cell_type": "code",
      "source": [
        "\n",
        "numFeatures = ['Age','Fare','SibSp','Parch']\n",
        "catFeatures = ['Pclass','Sex','Embarked']\n",
        "\n",
        "for c in catFeatures:\n",
        "  data[c] = data[c].replace(np.nan,'missing')"
      ],
      "metadata": {
        "id": "fkxf685zgq1-"
      },
      "execution_count": null,
      "outputs": []
    },
    {
      "cell_type": "code",
      "source": [
        "data[[x + '_t' for x in numFeatures]] = data[numFeatures].fillna(data[numFeatures].median())\n"
      ],
      "metadata": {
        "id": "s4_1nqPSgqn5"
      },
      "execution_count": null,
      "outputs": []
    },
    {
      "cell_type": "code",
      "source": [
        "# Target Encoding\n",
        "from category_encoders import TargetEncoder\n",
        "encoder = TargetEncoder()\n",
        "\n",
        "data[[x + '_num' for x in catFeatures]] = encoder.fit_transform(data[catFeatures], data['Survived'])\n"
      ],
      "metadata": {
        "colab": {
          "base_uri": "https://localhost:8080/"
        },
        "id": "5q4Mor1UgqVy",
        "outputId": "9a1b0967-8775-4a67-c4d7-a3d87cf5bc5e"
      },
      "execution_count": null,
      "outputs": [
        {
          "output_type": "stream",
          "name": "stderr",
          "text": [
            "/usr/local/lib/python3.7/dist-packages/category_encoders/target_encoder.py:94: FutureWarning: Default parameter min_samples_leaf will change in version 2.6.See https://github.com/scikit-learn-contrib/category_encoders/issues/327\n",
            "  category=FutureWarning)\n",
            "/usr/local/lib/python3.7/dist-packages/category_encoders/target_encoder.py:99: FutureWarning: Default parameter smoothing will change in version 2.6.See https://github.com/scikit-learn-contrib/category_encoders/issues/327\n",
            "  category=FutureWarning)\n"
          ]
        }
      ]
    },
    {
      "cell_type": "code",
      "metadata": {
        "id": "vn8LsYCxqdmn"
      },
      "source": [
        "#Variables para el modelo\n",
        "\n",
        "numFeatures = ['Age_t','Fare_t','SibSp_t','Parch_t']\n",
        "catFeatures = ['Pclass_num','Sex_num','Embarked_num']\n",
        "\n",
        "X = data[numFeatures + catFeatures]\n",
        "y = data.Survived"
      ],
      "execution_count": null,
      "outputs": []
    },
    {
      "cell_type": "code",
      "metadata": {
        "id": "TEpxkOCIqjQu"
      },
      "source": [
        "# Muestreo de data\n",
        "from sklearn.model_selection import train_test_split\n",
        "\n",
        "X_train, X_test, y_train, y_test = train_test_split(X, y,\n",
        "                                                    test_size = 0.3,\n",
        "                                                    random_state = 123)"
      ],
      "execution_count": null,
      "outputs": []
    },
    {
      "cell_type": "code",
      "source": [
        "# Configuramos el modelo\n",
        "\n",
        "from sklearn.tree import DecisionTreeClassifier\n",
        "\n",
        "dtree = DecisionTreeClassifier()\n",
        "dtree = dtree.fit(X_train, y_train)\n",
        "\n"
      ],
      "metadata": {
        "id": "svcGHx7miqdJ"
      },
      "execution_count": null,
      "outputs": []
    },
    {
      "cell_type": "code",
      "source": [
        "from sklearn.tree import export_graphviz\n",
        "from pydotplus import graph_from_dot_data\n",
        "\n",
        "dot_data = export_graphviz(dtree,\n",
        "                           feature_names = numFeatures + catFeatures,\n",
        "                           filled = True,\n",
        "                           rounded = True,\n",
        "                           special_characters = True)\n",
        "\n",
        "graph = graph_from_dot_data(dot_data)\n",
        "graph.write_png('tree.png')\n",
        "print(graph)\n"
      ],
      "metadata": {
        "colab": {
          "base_uri": "https://localhost:8080/"
        },
        "id": "8bOzfBRwiweA",
        "outputId": "43fbe313-1952-4f96-ae20-117248af1581"
      },
      "execution_count": null,
      "outputs": [
        {
          "output_type": "stream",
          "name": "stdout",
          "text": [
            "<pydotplus.graphviz.Dot object at 0x7fc1ce717d10>\n"
          ]
        }
      ]
    },
    {
      "cell_type": "code",
      "metadata": {
        "id": "qadf_-tSqqd2",
        "colab": {
          "base_uri": "https://localhost:8080/"
        },
        "outputId": "4854abf5-83c3-44a2-8b4b-1b89d9c557fc"
      },
      "source": [
        "# Configuramos el modelo\n",
        "\n",
        "from sklearn.tree import DecisionTreeClassifier\n",
        "\n",
        "dtree = DecisionTreeClassifier(max_depth = 3,\n",
        "                               min_samples_leaf = 0.03,\n",
        "                               min_samples_split = 0.1,\n",
        "                               #class_weight = {andom_state = 1230:y_train.mean(),1:1},\n",
        "                               r)\n",
        "dtree = dtree.fit(X_train, y_train)\n",
        "\n",
        "dtree"
      ],
      "execution_count": null,
      "outputs": [
        {
          "output_type": "execute_result",
          "data": {
            "text/plain": [
              "DecisionTreeClassifier(max_depth=3, min_samples_leaf=0.03,\n",
              "                       min_samples_split=0.1, random_state=123)"
            ]
          },
          "metadata": {},
          "execution_count": 132
        }
      ]
    },
    {
      "cell_type": "code",
      "metadata": {
        "id": "tU-ydY5PsbXr",
        "colab": {
          "base_uri": "https://localhost:8080/"
        },
        "outputId": "b41c94f3-d0a5-43d3-87d6-7bb23f12ece1"
      },
      "source": [
        "from sklearn.tree import export_graphviz\n",
        "from pydotplus import graph_from_dot_data\n",
        "\n",
        "dot_data = export_graphviz(dtree,\n",
        "                           feature_names = numFeatures + catFeatures,\n",
        "                           filled = True,\n",
        "                           rounded = True,\n",
        "                           special_characters = True)\n",
        "\n",
        "graph = graph_from_dot_data(dot_data)\n",
        "graph.write_png('tree.png')\n",
        "print(graph)\n"
      ],
      "execution_count": null,
      "outputs": [
        {
          "output_type": "stream",
          "name": "stdout",
          "text": [
            "<pydotplus.graphviz.Dot object at 0x7fc1cc889510>\n"
          ]
        }
      ]
    },
    {
      "cell_type": "code",
      "metadata": {
        "id": "HoPohYMMtJhH"
      },
      "source": [
        "# Usando el modelo para predecir\n",
        "\n",
        "X_train['probability'] = dtree.predict_proba(X_train[numFeatures + catFeatures])[:,1]\n",
        "X_test['probability']  = dtree.predict_proba(X_test[numFeatures + catFeatures])[:,1]\n",
        "\n",
        "X_train['prediction'] = dtree.predict(X_train[numFeatures + catFeatures])\n",
        "X_test['prediction']  = dtree.predict(X_test[numFeatures + catFeatures])\n",
        "\n",
        "X_train['Survived'] = y_train\n",
        "X_test['Survived'] = y_test"
      ],
      "execution_count": null,
      "outputs": []
    },
    {
      "cell_type": "code",
      "metadata": {
        "id": "Cg6dDrRityJd"
      },
      "source": [
        "#Resumen de todas las métricas del modelo\n",
        "\n",
        "metricsDtree = pd.DataFrame({'metric':['AUC','Gini','Accuracy','Precision','Recall','F1-score'],\n",
        "                                'dTree_train':[roc_auc_score(y_train, X_train.probability),\n",
        "                                        (roc_auc_score(y_train, X_train.probability)*2-1),\n",
        "                                        accuracy_score(y_train, X_train.prediction),\n",
        "                                        precision_score(y_train, X_train.prediction),\n",
        "                                        recall_score(y_train, X_train.prediction),\n",
        "                                        f1_score(y_train, X_train.prediction)],\n",
        "\n",
        "                                'dTree_test':[roc_auc_score(y_test, X_test.probability),\n",
        "                                        (roc_auc_score(y_test, X_test.probability)*2-1),\n",
        "                                        accuracy_score(y_test, X_test.prediction),\n",
        "                                        precision_score(y_test, X_test.prediction),\n",
        "                                        recall_score(y_test, X_test.prediction),\n",
        "                                        f1_score(y_test, X_test.prediction)]})\n",
        "\n",
        "metricsDtree"
      ],
      "execution_count": null,
      "outputs": []
    },
    {
      "cell_type": "code",
      "metadata": {
        "id": "XLM4Wzu1xArc"
      },
      "source": [
        "pd.merge(metricsLogisitc, metricsDtree, on = 'metric', how='left')"
      ],
      "execution_count": null,
      "outputs": []
    },
    {
      "cell_type": "markdown",
      "metadata": {
        "id": "x-4g7hHrRY22"
      },
      "source": [
        "### Gracias por completar este laboratorio!\n",
        "\n",
        "---\n",
        "\n"
      ]
    }
  ]
}