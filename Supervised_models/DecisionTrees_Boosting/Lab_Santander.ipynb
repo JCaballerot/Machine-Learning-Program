{
  "nbformat": 4,
  "nbformat_minor": 0,
  "metadata": {
    "colab": {
      "name": "Lab: Santander.ipynb",
      "provenance": [],
      "machine_shape": "hm",
      "history_visible": true,
      "authorship_tag": "ABX9TyOBlZP3D66q/nCm62Fel1f8",
      "include_colab_link": true
    },
    "kernelspec": {
      "name": "python3",
      "display_name": "Python 3"
    },
    "gpuClass": "standard"
  },
  "cells": [
    {
      "cell_type": "markdown",
      "metadata": {
        "id": "view-in-github",
        "colab_type": "text"
      },
      "source": [
        "<a href=\"https://colab.research.google.com/github/JCaballerot/Machine_learning_program/blob/main/Supervised_models/DecisionTrees_Boosting/Lab_Santander.ipynb\" target=\"_parent\"><img src=\"https://colab.research.google.com/assets/colab-badge.svg\" alt=\"Open In Colab\"/></a>"
      ]
    },
    {
      "cell_type": "markdown",
      "metadata": {
        "id": "d52SmLiMKz01"
      },
      "source": [
        "\n",
        "<h1 align=center><font size = 5>Santander Customer Satisfaction\n",
        "</font></h1>\n",
        "\n",
        "---"
      ]
    },
    {
      "cell_type": "markdown",
      "metadata": {
        "id": "Is3nFhGglsft"
      },
      "source": [
        "## Tabla de Contenidos\n",
        "\n",
        "<div class=\"alert alert-block alert-info\" style=\"margin-top: 20px\">\n",
        "\n",
        "<font size = 3>\n",
        "    \n",
        "1. <a href=\"#item31\">Introducción</a>  \n",
        "2. <a href=\"#item32\">Santander Problem</a>  \n",
        "3. <a href=\"#item33\">Descargar y limpiar el Dataset</a>  \n",
        "4. <a href=\"#item34\">SMOTE Algorithm</a>  \n",
        "5. <a href=\"#item34\">Decision Trees</a>  \n",
        "7. <a href=\"#item34\">Cross Validation y GridSearch</a>  \n",
        "6. <a href=\"#item34\">Random Forest</a>  \n",
        "8. <a href=\"#item34\">AdaBoost</a>  \n",
        "9. <a href=\"#item34\">XGBoost</a> \n",
        "10. <a href=\"#item34\">RandomSearch</a> \n",
        "11. <a href=\"#item34\">¿Cómo implementar un modelo?</a>  \n",
        "\n",
        "</font>\n",
        "</div>"
      ]
    },
    {
      "cell_type": "markdown",
      "metadata": {
        "button": false,
        "deletable": true,
        "new_sheet": false,
        "run_control": {
          "read_only": false
        },
        "id": "R_NIQeNlLo19"
      },
      "source": [
        "## Introducción\n"
      ]
    },
    {
      "cell_type": "markdown",
      "metadata": {
        "id": "g7LRGuxBHMpw"
      },
      "source": [
        "En este laboratorio, aprenderá a usar python para construir modelos de ensemble."
      ]
    },
    {
      "cell_type": "markdown",
      "metadata": {
        "id": "yFB_r2dkHMp7"
      },
      "source": [
        "\n",
        "<h3>Objetivo de este Notebook<h3>    \n",
        "<h5> 1. Como construir e interpretar un modelo de ensemble.</h5>\n",
        "<h5> 2. Descargar y limpiar un Dataset </h5>\n",
        "<h5> 3. Realizar los pasos necesarios previos a la etapa de modelamiento </h5>\n",
        "<h5> 4. Entrenar y Testear modelo </h5>     "
      ]
    },
    {
      "cell_type": "markdown",
      "metadata": {
        "id": "cWBGqVX6HMp8"
      },
      "source": [
        "Primero, importemos algunos módulos que necesitaremos para el análisis y construcción del modelo."
      ]
    },
    {
      "cell_type": "code",
      "metadata": {
        "id": "PEMIsurDJf4M"
      },
      "source": [
        "\n",
        "# Scikit-Learn \n",
        "import sklearn\n",
        "assert sklearn.__version__ >= \"0.20\"\n",
        "\n",
        "# Imports comunes\n",
        "import pandas as pd\n",
        "import numpy as np\n",
        "import os\n",
        "\n",
        "# Configuración de tamaño de gráficos matplotlib\n",
        "%matplotlib inline\n",
        "import matplotlib as mpl\n",
        "import matplotlib.pyplot as plt\n",
        "\n",
        "mpl.rc('axes', labelsize=14)\n",
        "mpl.rc('xtick', labelsize=12)\n",
        "mpl.rc('ytick', labelsize=12)\n",
        "\n",
        "# Ignore las advertencias poco útiles\n",
        "import warnings\n",
        "warnings.filterwarnings(action=\"ignore\", message=\"^internal gelsd\")"
      ],
      "execution_count": 1,
      "outputs": []
    },
    {
      "cell_type": "markdown",
      "metadata": {
        "id": "rtJhMpGIoKSg"
      },
      "source": [
        "## Santander Customer Satisfaction"
      ]
    },
    {
      "cell_type": "markdown",
      "metadata": {
        "id": "KZwf0QHnLBB6"
      },
      "source": [
        "\n",
        "Desde los equipos de soporte de primera línea hasta los ejecutivos, la satisfacción del cliente es una medida clave del éxito de una empresa. Los clientes insatisfechos no se quedan. Es más, los clientes insatisfechos rara vez expresan su insatisfacción antes de irse.\n",
        "\n",
        "El banco Santander está pidiendo a la comunidad data scientist que los ayude a identificar clientes insatisfechos desde su primera interacción. Hacerlo permitiría a Santander tomar medidas proactivas para mejorar la felicidad de un cliente antes de que sea demasiado tarde.\n",
        "\n",
        "En este laboratorio, trabajará con cientos de variables anónimas para predecir si un cliente está satisfecho o insatisfecho con su experiencia bancaria."
      ]
    },
    {
      "cell_type": "markdown",
      "metadata": {
        "id": "WMTTs7KsMZIF"
      },
      "source": [
        "<img src=\"https://storage.googleapis.com/kaggle-competitions/kaggle/4986/media/santander_custsat_red.png\" alt=\"HTML5 Icon\" style=\"width: 600px; height: 450px;\">\n",
        "<div style=\"text-align: center\">¿Qué clientes son clientes satisfechos? </div>"
      ]
    },
    {
      "cell_type": "markdown",
      "metadata": {
        "id": "RA0bDOj5LtM7"
      },
      "source": [
        "\n",
        "<b>Descripción de datos</b>\n",
        "\n",
        "El data frame de Santander tiene 76,020 filas y 371 columnas.\n",
        "\n",
        "\n",
        "---\n",
        "\n",
        "Se le proporciona un conjunto de datos anónimos que contiene una gran cantidad de variables numéricas. La columna <b>\"OBJETIVO\"</b> es la variable a predecir. Es igual a uno para clientes insatisfechos y 0 para clientes satisfechos.\n",
        "\n",
        "La tarea consiste en predecir la probabilidad de que cada cliente del conjunto de prueba sea un cliente insatisfecho.\n",
        "\n",
        "\n",
        "---\n",
        "\n",
        "\n",
        "<strong>Puede consultar este [link](https://www.kaggle.com/c/santander-customer-satisfaction/overview) para leer más sobre la fuente de datos Santander.</strong>\n"
      ]
    },
    {
      "cell_type": "markdown",
      "metadata": {
        "button": false,
        "deletable": true,
        "new_sheet": false,
        "run_control": {
          "read_only": false
        },
        "id": "_dC4JellLo2B"
      },
      "source": [
        "## Descargar y limpiar Dataset\n"
      ]
    },
    {
      "cell_type": "code",
      "metadata": {
        "id": "5NynpymMcdab"
      },
      "source": [
        "# Cargar Data\n",
        "import pandas as pd\n",
        "pddf = pd.read_csv(\"santander.csv\")\n",
        "pddf.head()"
      ],
      "execution_count": null,
      "outputs": []
    },
    {
      "cell_type": "code",
      "metadata": {
        "id": "9uoUNKzPhEEx",
        "colab": {
          "base_uri": "https://localhost:8080/"
        },
        "outputId": "65dd8ba9-6e6e-4b5b-d186-2a30d5f881f4"
      },
      "source": [
        "pddf.shape"
      ],
      "execution_count": 20,
      "outputs": [
        {
          "output_type": "execute_result",
          "data": {
            "text/plain": [
              "(76020, 371)"
            ]
          },
          "metadata": {},
          "execution_count": 20
        }
      ]
    },
    {
      "cell_type": "code",
      "metadata": {
        "id": "4tuDnh9shR1u"
      },
      "source": [
        "# Cargar seaborn \n",
        "import seaborn as sns\n",
        "sns.set(style=\"whitegrid\", color_codes = True)\n",
        "sns.set(rc={'figure.figsize':(10,6)})"
      ],
      "execution_count": null,
      "outputs": []
    },
    {
      "cell_type": "code",
      "metadata": {
        "id": "5FRnVO_GhTwz"
      },
      "source": [
        "# Analizando el target \n",
        "sns.countplot(x = 'TARGET', data = pddf, palette = 'hls')\n"
      ],
      "execution_count": null,
      "outputs": []
    },
    {
      "cell_type": "code",
      "source": [
        "pddf.groupby('TARGET')['ID'].count()"
      ],
      "metadata": {
        "colab": {
          "base_uri": "https://localhost:8080/"
        },
        "id": "-mR9zrqmjXIl",
        "outputId": "6bd2ff03-bb7b-414a-8f90-8191ba17b695"
      },
      "execution_count": null,
      "outputs": [
        {
          "output_type": "execute_result",
          "data": {
            "text/plain": [
              "TARGET\n",
              "0    73012\n",
              "1     3008\n",
              "Name: ID, dtype: int64"
            ]
          },
          "metadata": {},
          "execution_count": 10
        }
      ]
    },
    {
      "cell_type": "code",
      "metadata": {
        "id": "IXN9cJ2H2JZQ"
      },
      "source": [
        "pddf[['TARGET']].describe()"
      ],
      "execution_count": null,
      "outputs": []
    },
    {
      "cell_type": "code",
      "metadata": {
        "id": "Gp3tJewWi2Al"
      },
      "source": [
        "# Indentificar las variables \n",
        "\n",
        "features = list(set(pddf.columns.tolist()) - set(['ID','TARGET']))\n",
        "features"
      ],
      "execution_count": null,
      "outputs": []
    },
    {
      "cell_type": "code",
      "metadata": {
        "id": "S3f-viEzjfAu"
      },
      "source": [
        "# Determinando matrices de datos\n",
        "\n",
        "X = pddf[features]\n",
        "y = pddf.TARGET\n"
      ],
      "execution_count": 4,
      "outputs": []
    },
    {
      "cell_type": "code",
      "metadata": {
        "id": "mzy50oqNjwPG"
      },
      "source": [
        "# Muestreo de data\n",
        "\n",
        "from sklearn.model_selection import train_test_split\n",
        "\n",
        "X_train, X_test, y_train, y_test = train_test_split(X, y, \n",
        "                                                    stratify = y,\n",
        "                                                    test_size = 0.3,\n",
        "                                                    random_state = 123)\n"
      ],
      "execution_count": null,
      "outputs": []
    },
    {
      "cell_type": "markdown",
      "metadata": {
        "id": "acYMp0BJbTca"
      },
      "source": [
        "# SMOTE Algorithm"
      ]
    },
    {
      "cell_type": "markdown",
      "metadata": {
        "id": "lmJ90AeP1a2L"
      },
      "source": [
        "\n",
        "<b>Synthetic Minority Oversampling Technique</b>\n",
        "\n",
        "Es uno de los métodos de sobremuestreo más utilizados para resolver el problema del desbalanceo.\n",
        "Su objetivo es equilibrar la distribución de clases aumentando aleatoriamente los ejemplos de clases minoritarias al replicarlos."
      ]
    },
    {
      "cell_type": "markdown",
      "metadata": {
        "id": "xMphbZhrkadV"
      },
      "source": [
        "\n",
        "SMOTE sintetiza nuevas instancias minoritarias entre instancias minoritarias existentes. Genera los registros de entrenamiento virtual por interpolación lineal para la clase minoritaria. Estos registros de entrenamiento sintéticos se generan seleccionando aleatoriamente uno o más de los k vecinos más cercanos para cada ejemplo en la clase minoritaria. Después del proceso de sobremuestreo, los datos se reconstruyen y se pueden aplicar varios modelos de clasificación para los datos procesados.\n",
        "¡Más información detallada sobre cómo funciona el algoritmo SMOTE!\n",
        "\n",
        "<strong>Puede consultar este [link](https://imbalanced-learn.org/stable/generated/imblearn.over_sampling.SMOTE.html) para leer más sobre SMOTE.</strong>\n",
        "\n",
        "<img src=\"https://i.ytimg.com/vi/U3X98xZ4_no/maxresdefault.jpg\" alt=\"HTML5 Icon\" style=\"width: 400px; height: 250px;\">\n",
        "\n",
        "\n",
        "\n"
      ]
    },
    {
      "cell_type": "code",
      "metadata": {
        "id": "33eQ1J8BillH"
      },
      "source": [
        "# Aplicando SMOTE para oversampling\n",
        "\n",
        "from imblearn.over_sampling import SMOTE\n"
      ],
      "execution_count": null,
      "outputs": []
    },
    {
      "cell_type": "code",
      "source": [
        "sm = SMOTE(random_state = 123)\n",
        "X_train_res, y_train_res = sm.fit_resample(X_train, y_train.ravel())\n"
      ],
      "metadata": {
        "id": "PU3B7ZNUqu0M"
      },
      "execution_count": null,
      "outputs": []
    },
    {
      "cell_type": "code",
      "metadata": {
        "colab": {
          "base_uri": "https://localhost:8080/",
          "height": 394
        },
        "id": "5dN-0BsBFjpB",
        "outputId": "cdb42e7b-dd38-4e03-ff0c-8403afd4b560"
      },
      "source": [
        "# Analizando el target \n",
        "sns.countplot(x = y_train_res, palette = 'hls')"
      ],
      "execution_count": null,
      "outputs": [
        {
          "output_type": "execute_result",
          "data": {
            "text/plain": [
              "<matplotlib.axes._subplots.AxesSubplot at 0x7f021cc63050>"
            ]
          },
          "metadata": {},
          "execution_count": 21
        },
        {
          "output_type": "display_data",
          "data": {
            "text/plain": [
              "<Figure size 720x432 with 1 Axes>"
            ],
            "image/png": "[encoded data removed]"
          },
          "metadata": {}
        }
      ]
    },
    {
      "cell_type": "markdown",
      "metadata": {
        "id": "yIKZh3IJ_w6B"
      },
      "source": [
        "# Decision Tree"
      ]
    },
    {
      "cell_type": "code",
      "metadata": {
        "id": "5wwflOn2M1xa"
      },
      "source": [
        "# Cargar librerías \n",
        "\n",
        "from sklearn.tree import DecisionTreeClassifier\n"
      ],
      "execution_count": null,
      "outputs": []
    },
    {
      "cell_type": "code",
      "metadata": {
        "colab": {
          "base_uri": "https://localhost:8080/"
        },
        "id": "ji5YxHcwM6Rv",
        "outputId": "22cf3e16-427e-4325-f41e-db712f9aa486"
      },
      "source": [
        "# Definiendo modelo\n",
        "\n",
        "\n",
        "dtree = DecisionTreeClassifier(max_depth = 3, \n",
        "                               #class_weight = {0: 1, 1: 25.272},\n",
        "                               min_samples_leaf = int(round(y_train_res.shape[0]*0.05,0)),\n",
        "                               random_state = 123)\n",
        "\n",
        "dtree = dtree.fit(X_train_res, y_train_res)\n",
        "    \n",
        "dtree"
      ],
      "execution_count": null,
      "outputs": [
        {
          "output_type": "execute_result",
          "data": {
            "text/plain": [
              "DecisionTreeClassifier(max_depth=3, min_samples_leaf=5111, random_state=123)"
            ]
          },
          "metadata": {},
          "execution_count": 24
        }
      ]
    },
    {
      "cell_type": "code",
      "metadata": {
        "colab": {
          "base_uri": "https://localhost:8080/"
        },
        "id": "fueCZLMlM9bm",
        "outputId": "f605d7a8-92d1-46fc-cc3f-53c1eacfb288"
      },
      "source": [
        "# Graficando resultados\n",
        "\n",
        "from sklearn.tree import export_graphviz\n",
        "from pydotplus import graph_from_dot_data\n",
        "\n",
        "dot_data = export_graphviz(dtree,\n",
        "                           feature_names = features,\n",
        "                           filled = True,\n",
        "                           rounded = True,\n",
        "                           special_characters = True)\n",
        "\n",
        "graph = graph_from_dot_data(dot_data)\n",
        "graph.write_png('tree.png')\n",
        "print(graph)\n"
      ],
      "execution_count": null,
      "outputs": [
        {
          "output_type": "stream",
          "name": "stdout",
          "text": [
            "<pydotplus.graphviz.Dot object at 0x7f0218405f90>\n"
          ]
        }
      ]
    },
    {
      "cell_type": "markdown",
      "metadata": {
        "id": "G6VZANgBNsvr"
      },
      "source": [
        "<b>Bondad de ajuste</b>"
      ]
    },
    {
      "cell_type": "code",
      "metadata": {
        "id": "W1FA5RrONrrC"
      },
      "source": [
        "# Usando el modelo para predecir\n",
        "\n",
        "X_train['probability'] = dtree.predict_proba(X_train[features])[:,1]\n",
        "X_test['probability']  = dtree.predict_proba(X_test[features])[:,1]\n",
        "\n",
        "X_train['prediction'] = dtree.predict(X_train[features])\n",
        "X_test['prediction']  = dtree.predict(X_test[features])"
      ],
      "execution_count": null,
      "outputs": []
    },
    {
      "cell_type": "code",
      "metadata": {
        "id": "-ERcxSdUN33K",
        "colab": {
          "base_uri": "https://localhost:8080/",
          "height": 238
        },
        "outputId": "409e2ab9-da40-43ab-f25a-991649e0a090"
      },
      "source": [
        "#Resumen de todas las métricas del modelo\n",
        "from sklearn.metrics import *\n",
        "\n",
        "metricsDtree_smote = pd.DataFrame({'metric':['AUC','Gini','Accuracy','Precision','Recall','F1-score'],\n",
        "                                'dTree_smote_train':[roc_auc_score(y_train, X_train.probability),\n",
        "                                        (roc_auc_score(y_train, X_train.probability)*2-1),\n",
        "                                        accuracy_score(y_train, X_train.prediction),\n",
        "                                        precision_score(y_train, X_train.prediction),\n",
        "                                        recall_score(y_train, X_train.prediction),\n",
        "                                        f1_score(y_train, X_train.prediction)],\n",
        "\n",
        "                                'dTree_smote_test':[roc_auc_score(y_test, X_test.probability),\n",
        "                                        (roc_auc_score(y_test, X_test.probability)*2-1),\n",
        "                                        accuracy_score(y_test, X_test.prediction),\n",
        "                                        precision_score(y_test, X_test.prediction),\n",
        "                                        recall_score(y_test, X_test.prediction),\n",
        "                                        f1_score(y_test, X_test.prediction)]})\n",
        "\n",
        "metricsDtree_smote"
      ],
      "execution_count": null,
      "outputs": [
        {
          "output_type": "execute_result",
          "data": {
            "text/plain": [
              "      metric  dTree_smote_train  dTree_smote_test\n",
              "0        AUC           0.770306          0.773140\n",
              "1       Gini           0.540613          0.546280\n",
              "2   Accuracy           0.783309          0.788389\n",
              "3  Precision           0.112491          0.115143\n",
              "4     Recall           0.649573          0.650776\n",
              "5   F1-score           0.191771          0.195667"
            ],
            "text/html": [
              "\n",
              "  <div id=\"df-0685fb70-03bc-40d5-982a-d05b0b0c98af\">\n",
              "    <div class=\"colab-df-container\">\n",
              "      <div>\n",
              "<style scoped>\n",
              "    .dataframe tbody tr th:only-of-type {\n",
              "        vertical-align: middle;\n",
              "    }\n",
              "\n",
              "    .dataframe tbody tr th {\n",
              "        vertical-align: top;\n",
              "    }\n",
              "\n",
              "    .dataframe thead th {\n",
              "        text-align: right;\n",
              "    }\n",
              "</style>\n",
              "<table border=\"1\" class=\"dataframe\">\n",
              "  <thead>\n",
              "    <tr style=\"text-align: right;\">\n",
              "      <th></th>\n",
              "      <th>metric</th>\n",
              "      <th>dTree_smote_train</th>\n",
              "      <th>dTree_smote_test</th>\n",
              "    </tr>\n",
              "  </thead>\n",
              "  <tbody>\n",
              "    <tr>\n",
              "      <th>0</th>\n",
              "      <td>AUC</td>\n",
              "      <td>0.770306</td>\n",
              "      <td>0.773140</td>\n",
              "    </tr>\n",
              "    <tr>\n",
              "      <th>1</th>\n",
              "      <td>Gini</td>\n",
              "      <td>0.540613</td>\n",
              "      <td>0.546280</td>\n",
              "    </tr>\n",
              "    <tr>\n",
              "      <th>2</th>\n",
              "      <td>Accuracy</td>\n",
              "      <td>0.783309</td>\n",
              "      <td>0.788389</td>\n",
              "    </tr>\n",
              "    <tr>\n",
              "      <th>3</th>\n",
              "      <td>Precision</td>\n",
              "      <td>0.112491</td>\n",
              "      <td>0.115143</td>\n",
              "    </tr>\n",
              "    <tr>\n",
              "      <th>4</th>\n",
              "      <td>Recall</td>\n",
              "      <td>0.649573</td>\n",
              "      <td>0.650776</td>\n",
              "    </tr>\n",
              "    <tr>\n",
              "      <th>5</th>\n",
              "      <td>F1-score</td>\n",
              "      <td>0.191771</td>\n",
              "      <td>0.195667</td>\n",
              "    </tr>\n",
              "  </tbody>\n",
              "</table>\n",
              "</div>\n",
              "      <button class=\"colab-df-convert\" onclick=\"convertToInteractive('df-0685fb70-03bc-40d5-982a-d05b0b0c98af')\"\n",
              "              title=\"Convert this dataframe to an interactive table.\"\n",
              "              style=\"display:none;\">\n",
              "        \n",
              "  <svg xmlns=\"http://www.w3.org/2000/svg\" height=\"24px\"viewBox=\"0 0 24 24\"\n",
              "       width=\"24px\">\n",
              "    <path d=\"M0 0h24v24H0V0z\" fill=\"none\"/>\n",
              "    <path d=\"M18.56 5.44l.94 2.06.94-2.06 2.06-.94-2.06-.94-.94-2.06-.94 2.06-2.06.94zm-11 1L8.5 8.5l.94-2.06 2.06-.94-2.06-.94L8.5 2.5l-.94 2.06-2.06.94zm10 10l.94 2.06.94-2.06 2.06-.94-2.06-.94-.94-2.06-.94 2.06-2.06.94z\"/><path d=\"M17.41 7.96l-1.37-1.37c-.4-.4-.92-.59-1.43-.59-.52 0-1.04.2-1.43.59L10.3 9.45l-7.72 7.72c-.78.78-.78 2.05 0 2.83L4 21.41c.39.39.9.59 1.41.59.51 0 1.02-.2 1.41-.59l7.78-7.78 2.81-2.81c.8-.78.8-2.07 0-2.86zM5.41 20L4 18.59l7.72-7.72 1.47 1.35L5.41 20z\"/>\n",
              "  </svg>\n",
              "      </button>\n",
              "      \n",
              "  <style>\n",
              "    .colab-df-container {\n",
              "      display:flex;\n",
              "      flex-wrap:wrap;\n",
              "      gap: 12px;\n",
              "    }\n",
              "\n",
              "    .colab-df-convert {\n",
              "      background-color: #E8F0FE;\n",
              "      border: none;\n",
              "      border-radius: 50%;\n",
              "      cursor: pointer;\n",
              "      display: none;\n",
              "      fill: #1967D2;\n",
              "      height: 32px;\n",
              "      padding: 0 0 0 0;\n",
              "      width: 32px;\n",
              "    }\n",
              "\n",
              "    .colab-df-convert:hover {\n",
              "      background-color: #E2EBFA;\n",
              "      box-shadow: 0px 1px 2px rgba(60, 64, 67, 0.3), 0px 1px 3px 1px rgba(60, 64, 67, 0.15);\n",
              "      fill: #174EA6;\n",
              "    }\n",
              "\n",
              "    [theme=dark] .colab-df-convert {\n",
              "      background-color: #3B4455;\n",
              "      fill: #D2E3FC;\n",
              "    }\n",
              "\n",
              "    [theme=dark] .colab-df-convert:hover {\n",
              "      background-color: #434B5C;\n",
              "      box-shadow: 0px 1px 3px 1px rgba(0, 0, 0, 0.15);\n",
              "      filter: drop-shadow(0px 1px 2px rgba(0, 0, 0, 0.3));\n",
              "      fill: #FFFFFF;\n",
              "    }\n",
              "  </style>\n",
              "\n",
              "      <script>\n",
              "        const buttonEl =\n",
              "          document.querySelector('#df-0685fb70-03bc-40d5-982a-d05b0b0c98af button.colab-df-convert');\n",
              "        buttonEl.style.display =\n",
              "          google.colab.kernel.accessAllowed ? 'block' : 'none';\n",
              "\n",
              "        async function convertToInteractive(key) {\n",
              "          const element = document.querySelector('#df-0685fb70-03bc-40d5-982a-d05b0b0c98af');\n",
              "          const dataTable =\n",
              "            await google.colab.kernel.invokeFunction('convertToInteractive',\n",
              "                                                     [key], {});\n",
              "          if (!dataTable) return;\n",
              "\n",
              "          const docLinkHtml = 'Like what you see? Visit the ' +\n",
              "            '<a target=\"_blank\" href=https://colab.research.google.com/notebooks/data_table.ipynb>data table notebook</a>'\n",
              "            + ' to learn more about interactive tables.';\n",
              "          element.innerHTML = '';\n",
              "          dataTable['output_type'] = 'display_data';\n",
              "          await google.colab.output.renderOutput(dataTable, element);\n",
              "          const docLink = document.createElement('div');\n",
              "          docLink.innerHTML = docLinkHtml;\n",
              "          element.appendChild(docLink);\n",
              "        }\n",
              "      </script>\n",
              "    </div>\n",
              "  </div>\n",
              "  "
            ]
          },
          "metadata": {},
          "execution_count": 28
        }
      ]
    },
    {
      "cell_type": "markdown",
      "source": [
        "### balanceo por pesos"
      ],
      "metadata": {
        "id": "HWFSMtPOs26a"
      }
    },
    {
      "cell_type": "code",
      "source": [
        "# Muestreo de data\n",
        "from sklearn.model_selection import train_test_split\n",
        "\n",
        "X_train, X_test, y_train, y_test = train_test_split(X, y, \n",
        "                                                    stratify = y,\n",
        "                                                    test_size = 0.3,\n",
        "                                                    random_state = 123)\n"
      ],
      "metadata": {
        "id": "j7ca0VxwupBW"
      },
      "execution_count": null,
      "outputs": []
    },
    {
      "cell_type": "code",
      "source": [
        "y_train.shape[0] - y_train.sum()"
      ],
      "metadata": {
        "colab": {
          "base_uri": "https://localhost:8080/"
        },
        "id": "T7GFotgi1xNr",
        "outputId": "381b89cf-0322-47ed-8d81-c5bd2ddd42fd"
      },
      "execution_count": null,
      "outputs": [
        {
          "output_type": "execute_result",
          "data": {
            "text/plain": [
              "51108"
            ]
          },
          "metadata": {},
          "execution_count": 52
        }
      ]
    },
    {
      "cell_type": "code",
      "source": [
        "y_train.sum()"
      ],
      "metadata": {
        "colab": {
          "base_uri": "https://localhost:8080/"
        },
        "id": "l633NoTQ1r2A",
        "outputId": "7dacaf5f-2f27-4bbb-f7f6-4c857d76ccb2"
      },
      "execution_count": null,
      "outputs": [
        {
          "output_type": "execute_result",
          "data": {
            "text/plain": [
              "2106"
            ]
          },
          "metadata": {},
          "execution_count": 47
        }
      ]
    },
    {
      "cell_type": "code",
      "source": [
        "(y_train.shape[0] - y_train.sum())/y_train.sum()"
      ],
      "metadata": {
        "colab": {
          "base_uri": "https://localhost:8080/"
        },
        "id": "aGMl7HzE16Ll",
        "outputId": "73e5e647-e25f-48a2-e9b4-b37f3d5f9893"
      },
      "execution_count": null,
      "outputs": [
        {
          "output_type": "execute_result",
          "data": {
            "text/plain": [
              "24.267806267806268"
            ]
          },
          "metadata": {},
          "execution_count": 54
        }
      ]
    },
    {
      "cell_type": "code",
      "metadata": {
        "colab": {
          "base_uri": "https://localhost:8080/"
        },
        "id": "uIz4-gQv9I5h",
        "outputId": "d3f76114-38b1-4429-f035-3a2a1895e065"
      },
      "source": [
        "# Definiendo modelo\n",
        "\n",
        "\n",
        "dtree = DecisionTreeClassifier(max_depth = 3, \n",
        "                               class_weight = {0: 1, 1: 24.267},\n",
        "                               min_samples_leaf = int(round(y_train.shape[0]*0.05,0)),\n",
        "                               random_state = 123)\n",
        "\n",
        "dtree = dtree.fit(X_train, y_train)\n",
        "    \n",
        "dtree"
      ],
      "execution_count": null,
      "outputs": [
        {
          "output_type": "execute_result",
          "data": {
            "text/plain": [
              "DecisionTreeClassifier(class_weight={0: 1, 1: 24.267}, max_depth=3,\n",
              "                       min_samples_leaf=2661, random_state=123)"
            ]
          },
          "metadata": {},
          "execution_count": 56
        }
      ]
    },
    {
      "cell_type": "code",
      "metadata": {
        "id": "8bZkXPOOG-4u"
      },
      "source": [
        "# Usando el modelo para predecir\n",
        "\n",
        "X_train['probability'] = dtree.predict_proba(X_train[features])[:,1]\n",
        "X_test['probability']  = dtree.predict_proba(X_test[features])[:,1]\n",
        "\n",
        "X_train['prediction'] = dtree.predict(X_train[features])\n",
        "X_test['prediction']  = dtree.predict(X_test[features])"
      ],
      "execution_count": null,
      "outputs": []
    },
    {
      "cell_type": "code",
      "source": [
        "#Resumen de todas las métricas del modelo\n",
        "from sklearn.metrics import *\n",
        "\n",
        "metricsDtree_w = pd.DataFrame({'metric':['AUC','Gini','Accuracy','Precision','Recall','F1-score'],\n",
        "                                'dTree_w_train':[roc_auc_score(y_train, X_train.probability),\n",
        "                                        (roc_auc_score(y_train, X_train.probability)*2-1),\n",
        "                                        accuracy_score(y_train, X_train.prediction),\n",
        "                                        precision_score(y_train, X_train.prediction),\n",
        "                                        recall_score(y_train, X_train.prediction),\n",
        "                                        f1_score(y_train, X_train.prediction)],\n",
        "\n",
        "                                'dTree_w_test':[roc_auc_score(y_test, X_test.probability),\n",
        "                                        (roc_auc_score(y_test, X_test.probability)*2-1),\n",
        "                                        accuracy_score(y_test, X_test.prediction),\n",
        "                                        precision_score(y_test, X_test.prediction),\n",
        "                                        recall_score(y_test, X_test.prediction),\n",
        "                                        f1_score(y_test, X_test.prediction)]})\n",
        "\n",
        "metricsDtree_w"
      ],
      "metadata": {
        "colab": {
          "base_uri": "https://localhost:8080/",
          "height": 238
        },
        "id": "HC7kRVzRusZy",
        "outputId": "2cc3bead-a3eb-42be-fa5c-f58a570e8936"
      },
      "execution_count": null,
      "outputs": [
        {
          "output_type": "execute_result",
          "data": {
            "text/plain": [
              "      metric  dTree_w_train  dTree_w_test\n",
              "0        AUC       0.806572      0.792548\n",
              "1       Gini       0.613143      0.585097\n",
              "2   Accuracy       0.638535      0.643778\n",
              "3  Precision       0.085395      0.083506\n",
              "4     Recall       0.837607      0.802661\n",
              "5   F1-score       0.154988      0.151275"
            ],
            "text/html": [
              "\n",
              "  <div id=\"df-ebf31924-ff54-42e7-bc0a-6514a66e117d\">\n",
              "    <div class=\"colab-df-container\">\n",
              "      <div>\n",
              "<style scoped>\n",
              "    .dataframe tbody tr th:only-of-type {\n",
              "        vertical-align: middle;\n",
              "    }\n",
              "\n",
              "    .dataframe tbody tr th {\n",
              "        vertical-align: top;\n",
              "    }\n",
              "\n",
              "    .dataframe thead th {\n",
              "        text-align: right;\n",
              "    }\n",
              "</style>\n",
              "<table border=\"1\" class=\"dataframe\">\n",
              "  <thead>\n",
              "    <tr style=\"text-align: right;\">\n",
              "      <th></th>\n",
              "      <th>metric</th>\n",
              "      <th>dTree_w_train</th>\n",
              "      <th>dTree_w_test</th>\n",
              "    </tr>\n",
              "  </thead>\n",
              "  <tbody>\n",
              "    <tr>\n",
              "      <th>0</th>\n",
              "      <td>AUC</td>\n",
              "      <td>0.806572</td>\n",
              "      <td>0.792548</td>\n",
              "    </tr>\n",
              "    <tr>\n",
              "      <th>1</th>\n",
              "      <td>Gini</td>\n",
              "      <td>0.613143</td>\n",
              "      <td>0.585097</td>\n",
              "    </tr>\n",
              "    <tr>\n",
              "      <th>2</th>\n",
              "      <td>Accuracy</td>\n",
              "      <td>0.638535</td>\n",
              "      <td>0.643778</td>\n",
              "    </tr>\n",
              "    <tr>\n",
              "      <th>3</th>\n",
              "      <td>Precision</td>\n",
              "      <td>0.085395</td>\n",
              "      <td>0.083506</td>\n",
              "    </tr>\n",
              "    <tr>\n",
              "      <th>4</th>\n",
              "      <td>Recall</td>\n",
              "      <td>0.837607</td>\n",
              "      <td>0.802661</td>\n",
              "    </tr>\n",
              "    <tr>\n",
              "      <th>5</th>\n",
              "      <td>F1-score</td>\n",
              "      <td>0.154988</td>\n",
              "      <td>0.151275</td>\n",
              "    </tr>\n",
              "  </tbody>\n",
              "</table>\n",
              "</div>\n",
              "      <button class=\"colab-df-convert\" onclick=\"convertToInteractive('df-ebf31924-ff54-42e7-bc0a-6514a66e117d')\"\n",
              "              title=\"Convert this dataframe to an interactive table.\"\n",
              "              style=\"display:none;\">\n",
              "        \n",
              "  <svg xmlns=\"http://www.w3.org/2000/svg\" height=\"24px\"viewBox=\"0 0 24 24\"\n",
              "       width=\"24px\">\n",
              "    <path d=\"M0 0h24v24H0V0z\" fill=\"none\"/>\n",
              "    <path d=\"M18.56 5.44l.94 2.06.94-2.06 2.06-.94-2.06-.94-.94-2.06-.94 2.06-2.06.94zm-11 1L8.5 8.5l.94-2.06 2.06-.94-2.06-.94L8.5 2.5l-.94 2.06-2.06.94zm10 10l.94 2.06.94-2.06 2.06-.94-2.06-.94-.94-2.06-.94 2.06-2.06.94z\"/><path d=\"M17.41 7.96l-1.37-1.37c-.4-.4-.92-.59-1.43-.59-.52 0-1.04.2-1.43.59L10.3 9.45l-7.72 7.72c-.78.78-.78 2.05 0 2.83L4 21.41c.39.39.9.59 1.41.59.51 0 1.02-.2 1.41-.59l7.78-7.78 2.81-2.81c.8-.78.8-2.07 0-2.86zM5.41 20L4 18.59l7.72-7.72 1.47 1.35L5.41 20z\"/>\n",
              "  </svg>\n",
              "      </button>\n",
              "      \n",
              "  <style>\n",
              "    .colab-df-container {\n",
              "      display:flex;\n",
              "      flex-wrap:wrap;\n",
              "      gap: 12px;\n",
              "    }\n",
              "\n",
              "    .colab-df-convert {\n",
              "      background-color: #E8F0FE;\n",
              "      border: none;\n",
              "      border-radius: 50%;\n",
              "      cursor: pointer;\n",
              "      display: none;\n",
              "      fill: #1967D2;\n",
              "      height: 32px;\n",
              "      padding: 0 0 0 0;\n",
              "      width: 32px;\n",
              "    }\n",
              "\n",
              "    .colab-df-convert:hover {\n",
              "      background-color: #E2EBFA;\n",
              "      box-shadow: 0px 1px 2px rgba(60, 64, 67, 0.3), 0px 1px 3px 1px rgba(60, 64, 67, 0.15);\n",
              "      fill: #174EA6;\n",
              "    }\n",
              "\n",
              "    [theme=dark] .colab-df-convert {\n",
              "      background-color: #3B4455;\n",
              "      fill: #D2E3FC;\n",
              "    }\n",
              "\n",
              "    [theme=dark] .colab-df-convert:hover {\n",
              "      background-color: #434B5C;\n",
              "      box-shadow: 0px 1px 3px 1px rgba(0, 0, 0, 0.15);\n",
              "      filter: drop-shadow(0px 1px 2px rgba(0, 0, 0, 0.3));\n",
              "      fill: #FFFFFF;\n",
              "    }\n",
              "  </style>\n",
              "\n",
              "      <script>\n",
              "        const buttonEl =\n",
              "          document.querySelector('#df-ebf31924-ff54-42e7-bc0a-6514a66e117d button.colab-df-convert');\n",
              "        buttonEl.style.display =\n",
              "          google.colab.kernel.accessAllowed ? 'block' : 'none';\n",
              "\n",
              "        async function convertToInteractive(key) {\n",
              "          const element = document.querySelector('#df-ebf31924-ff54-42e7-bc0a-6514a66e117d');\n",
              "          const dataTable =\n",
              "            await google.colab.kernel.invokeFunction('convertToInteractive',\n",
              "                                                     [key], {});\n",
              "          if (!dataTable) return;\n",
              "\n",
              "          const docLinkHtml = 'Like what you see? Visit the ' +\n",
              "            '<a target=\"_blank\" href=https://colab.research.google.com/notebooks/data_table.ipynb>data table notebook</a>'\n",
              "            + ' to learn more about interactive tables.';\n",
              "          element.innerHTML = '';\n",
              "          dataTable['output_type'] = 'display_data';\n",
              "          await google.colab.output.renderOutput(dataTable, element);\n",
              "          const docLink = document.createElement('div');\n",
              "          docLink.innerHTML = docLinkHtml;\n",
              "          element.appendChild(docLink);\n",
              "        }\n",
              "      </script>\n",
              "    </div>\n",
              "  </div>\n",
              "  "
            ]
          },
          "metadata": {},
          "execution_count": 58
        }
      ]
    },
    {
      "cell_type": "code",
      "source": [
        "pd.merge(metricsDtree_smote, metricsDtree_w, on = ['metric'], how= 'left')"
      ],
      "metadata": {
        "colab": {
          "base_uri": "https://localhost:8080/",
          "height": 238
        },
        "id": "rJpM3Q17u3DP",
        "outputId": "4916fbe2-f12b-4c48-aa5b-2d32cee01530"
      },
      "execution_count": null,
      "outputs": [
        {
          "output_type": "execute_result",
          "data": {
            "text/plain": [
              "      metric  dTree_smote_train  dTree_smote_test  dTree_w_train  dTree_w_test\n",
              "0        AUC           0.770306          0.773140       0.806572      0.792548\n",
              "1       Gini           0.540613          0.546280       0.613143      0.585097\n",
              "2   Accuracy           0.783309          0.788389       0.638535      0.643778\n",
              "3  Precision           0.112491          0.115143       0.085395      0.083506\n",
              "4     Recall           0.649573          0.650776       0.837607      0.802661\n",
              "5   F1-score           0.191771          0.195667       0.154988      0.151275"
            ],
            "text/html": [
              "\n",
              "  <div id=\"df-11286205-295e-4c8f-9cec-10987e369cb1\">\n",
              "    <div class=\"colab-df-container\">\n",
              "      <div>\n",
              "<style scoped>\n",
              "    .dataframe tbody tr th:only-of-type {\n",
              "        vertical-align: middle;\n",
              "    }\n",
              "\n",
              "    .dataframe tbody tr th {\n",
              "        vertical-align: top;\n",
              "    }\n",
              "\n",
              "    .dataframe thead th {\n",
              "        text-align: right;\n",
              "    }\n",
              "</style>\n",
              "<table border=\"1\" class=\"dataframe\">\n",
              "  <thead>\n",
              "    <tr style=\"text-align: right;\">\n",
              "      <th></th>\n",
              "      <th>metric</th>\n",
              "      <th>dTree_smote_train</th>\n",
              "      <th>dTree_smote_test</th>\n",
              "      <th>dTree_w_train</th>\n",
              "      <th>dTree_w_test</th>\n",
              "    </tr>\n",
              "  </thead>\n",
              "  <tbody>\n",
              "    <tr>\n",
              "      <th>0</th>\n",
              "      <td>AUC</td>\n",
              "      <td>0.770306</td>\n",
              "      <td>0.773140</td>\n",
              "      <td>0.806572</td>\n",
              "      <td>0.792548</td>\n",
              "    </tr>\n",
              "    <tr>\n",
              "      <th>1</th>\n",
              "      <td>Gini</td>\n",
              "      <td>0.540613</td>\n",
              "      <td>0.546280</td>\n",
              "      <td>0.613143</td>\n",
              "      <td>0.585097</td>\n",
              "    </tr>\n",
              "    <tr>\n",
              "      <th>2</th>\n",
              "      <td>Accuracy</td>\n",
              "      <td>0.783309</td>\n",
              "      <td>0.788389</td>\n",
              "      <td>0.638535</td>\n",
              "      <td>0.643778</td>\n",
              "    </tr>\n",
              "    <tr>\n",
              "      <th>3</th>\n",
              "      <td>Precision</td>\n",
              "      <td>0.112491</td>\n",
              "      <td>0.115143</td>\n",
              "      <td>0.085395</td>\n",
              "      <td>0.083506</td>\n",
              "    </tr>\n",
              "    <tr>\n",
              "      <th>4</th>\n",
              "      <td>Recall</td>\n",
              "      <td>0.649573</td>\n",
              "      <td>0.650776</td>\n",
              "      <td>0.837607</td>\n",
              "      <td>0.802661</td>\n",
              "    </tr>\n",
              "    <tr>\n",
              "      <th>5</th>\n",
              "      <td>F1-score</td>\n",
              "      <td>0.191771</td>\n",
              "      <td>0.195667</td>\n",
              "      <td>0.154988</td>\n",
              "      <td>0.151275</td>\n",
              "    </tr>\n",
              "  </tbody>\n",
              "</table>\n",
              "</div>\n",
              "      <button class=\"colab-df-convert\" onclick=\"convertToInteractive('df-11286205-295e-4c8f-9cec-10987e369cb1')\"\n",
              "              title=\"Convert this dataframe to an interactive table.\"\n",
              "              style=\"display:none;\">\n",
              "        \n",
              "  <svg xmlns=\"http://www.w3.org/2000/svg\" height=\"24px\"viewBox=\"0 0 24 24\"\n",
              "       width=\"24px\">\n",
              "    <path d=\"M0 0h24v24H0V0z\" fill=\"none\"/>\n",
              "    <path d=\"M18.56 5.44l.94 2.06.94-2.06 2.06-.94-2.06-.94-.94-2.06-.94 2.06-2.06.94zm-11 1L8.5 8.5l.94-2.06 2.06-.94-2.06-.94L8.5 2.5l-.94 2.06-2.06.94zm10 10l.94 2.06.94-2.06 2.06-.94-2.06-.94-.94-2.06-.94 2.06-2.06.94z\"/><path d=\"M17.41 7.96l-1.37-1.37c-.4-.4-.92-.59-1.43-.59-.52 0-1.04.2-1.43.59L10.3 9.45l-7.72 7.72c-.78.78-.78 2.05 0 2.83L4 21.41c.39.39.9.59 1.41.59.51 0 1.02-.2 1.41-.59l7.78-7.78 2.81-2.81c.8-.78.8-2.07 0-2.86zM5.41 20L4 18.59l7.72-7.72 1.47 1.35L5.41 20z\"/>\n",
              "  </svg>\n",
              "      </button>\n",
              "      \n",
              "  <style>\n",
              "    .colab-df-container {\n",
              "      display:flex;\n",
              "      flex-wrap:wrap;\n",
              "      gap: 12px;\n",
              "    }\n",
              "\n",
              "    .colab-df-convert {\n",
              "      background-color: #E8F0FE;\n",
              "      border: none;\n",
              "      border-radius: 50%;\n",
              "      cursor: pointer;\n",
              "      display: none;\n",
              "      fill: #1967D2;\n",
              "      height: 32px;\n",
              "      padding: 0 0 0 0;\n",
              "      width: 32px;\n",
              "    }\n",
              "\n",
              "    .colab-df-convert:hover {\n",
              "      background-color: #E2EBFA;\n",
              "      box-shadow: 0px 1px 2px rgba(60, 64, 67, 0.3), 0px 1px 3px 1px rgba(60, 64, 67, 0.15);\n",
              "      fill: #174EA6;\n",
              "    }\n",
              "\n",
              "    [theme=dark] .colab-df-convert {\n",
              "      background-color: #3B4455;\n",
              "      fill: #D2E3FC;\n",
              "    }\n",
              "\n",
              "    [theme=dark] .colab-df-convert:hover {\n",
              "      background-color: #434B5C;\n",
              "      box-shadow: 0px 1px 3px 1px rgba(0, 0, 0, 0.15);\n",
              "      filter: drop-shadow(0px 1px 2px rgba(0, 0, 0, 0.3));\n",
              "      fill: #FFFFFF;\n",
              "    }\n",
              "  </style>\n",
              "\n",
              "      <script>\n",
              "        const buttonEl =\n",
              "          document.querySelector('#df-11286205-295e-4c8f-9cec-10987e369cb1 button.colab-df-convert');\n",
              "        buttonEl.style.display =\n",
              "          google.colab.kernel.accessAllowed ? 'block' : 'none';\n",
              "\n",
              "        async function convertToInteractive(key) {\n",
              "          const element = document.querySelector('#df-11286205-295e-4c8f-9cec-10987e369cb1');\n",
              "          const dataTable =\n",
              "            await google.colab.kernel.invokeFunction('convertToInteractive',\n",
              "                                                     [key], {});\n",
              "          if (!dataTable) return;\n",
              "\n",
              "          const docLinkHtml = 'Like what you see? Visit the ' +\n",
              "            '<a target=\"_blank\" href=https://colab.research.google.com/notebooks/data_table.ipynb>data table notebook</a>'\n",
              "            + ' to learn more about interactive tables.';\n",
              "          element.innerHTML = '';\n",
              "          dataTable['output_type'] = 'display_data';\n",
              "          await google.colab.output.renderOutput(dataTable, element);\n",
              "          const docLink = document.createElement('div');\n",
              "          docLink.innerHTML = docLinkHtml;\n",
              "          element.appendChild(docLink);\n",
              "        }\n",
              "      </script>\n",
              "    </div>\n",
              "  </div>\n",
              "  "
            ]
          },
          "metadata": {},
          "execution_count": 59
        }
      ]
    },
    {
      "cell_type": "markdown",
      "metadata": {
        "id": "-12F-kygbFlA"
      },
      "source": [
        "# Cross Validation"
      ]
    },
    {
      "cell_type": "markdown",
      "metadata": {
        "id": "017Hk3aQ1gxe"
      },
      "source": [
        "\n",
        "\n",
        "<b>evaluar el desempeño del estimador</b>\n",
        " \n",
        " ---\n",
        "\n",
        "Aprender los parámetros de una función de predicción y probarlos con los mismos datos es un error metodológico: un modelo que simplemente repetiría las etiquetas de las muestras que acaba de ver tendría una puntuación perfecta, pero no podría predecir nada útil datos no vistos.\n",
        "Esta situación se llama Overfitting. Para evitarlo, es una práctica común cuando se realiza un modelo de machine learning (supervisado) mantener parte de los datos disponibles como un conjunto de pruebas X_test, y_test. \n"
      ]
    },
    {
      "cell_type": "markdown",
      "metadata": {
        "id": "B-8dUcfU1rBK"
      },
      "source": [
        "\n",
        "Al evaluar diferentes configuraciones (\"hiperparámetros\") para estimadores, todavía existe el riesgo de Overfitting en el conjunto de prueba porque los parámetros se pueden ajustar hasta que el estimador funcione de manera óptima. De esta manera, el conocimiento sobre el conjunto de pruebas puede \"filtrarse\" en el modelo y las métricas de evaluación ya no informan sobre el desempeño de generalización. Para resolver este problema, se puede presentar otra parte del conjunto de datos como el llamado \"conjunto de validación\": el entrenamiento continúa en el conjunto de entrenamiento, después de lo cual se realiza la evaluación en el conjunto de validación y cuando el experimento parece tener éxito , la evaluación final se puede realizar en el equipo de prueba.\n",
        " "
      ]
    },
    {
      "cell_type": "markdown",
      "metadata": {
        "id": "4a9DL3JGxmf_"
      },
      "source": [
        "\n",
        "\n",
        " \n",
        "Sin embargo, al dividir los datos disponibles en tres conjuntos, reducimos drásticamente la cantidad de muestras que se pueden usar para aprender el modelo, y los resultados pueden depender de una elección aleatoria particular para el par de conjuntos (entrenamiento, validación).\n",
        "\n",
        "\n",
        "Una solución a este problema es un procedimiento llamado validación cruzada. Un conjunto de prueba aún debe mantenerse para la evaluación final, pero el conjunto de validación ya no es necesario al hacer CV. En el enfoque básico, llamado k-fold CV, el conjunto de entrenamiento se divide en k conjuntos más pequeños . Se sigue el siguiente procedimiento para cada uno de los k \"folds\":\n",
        "\n",
        "\n",
        "\n",
        "\n",
        "\n",
        "\n",
        "\n",
        "1.   Se entrena un modelo utilizando los folds como datos de entrenamiento\n",
        "\n",
        "2.   El modelo resultante se valida en la parte restante de los datos (es decir, se utiliza como un conjunto de prueba para calcular una medida de rendimiento como la precisión)\n",
        "\n",
        "\n",
        "<img src=\"https://scikit-learn.org/stable/_images/grid_search_cross_validation.png\" alt=\"HTML5 Icon\" style=\"width: 400px; height: 250px;\">\n",
        "\n",
        "---\n",
        "\n",
        "La medida de rendimiento informada por la validación cruzada de k veces es el promedio de los valores calculados en el ciclo. Este enfoque puede ser computacionalmente costoso, pero no desperdicia demasiados datos (como es el caso cuando se fija un conjunto de validación arbitrario), lo cual es una gran ventaja en problemas como la inferencia inversa donde el número de muestras es muy pequeño.\n",
        "\n",
        "---\n",
        "\n",
        "\n",
        "<strong>Puede consultar este [link](https://scikit-learn.org/stable/modules/cross_validation.html) para leer más sobre CrossValidation.</strong>\n",
        "\n",
        "\n",
        "\n",
        "\n",
        "\n"
      ]
    },
    {
      "cell_type": "code",
      "metadata": {
        "id": "lsgndgPM_0pW"
      },
      "source": [
        "# Cargar librerías para grid search\n",
        "\n",
        "from sklearn.model_selection import GridSearchCV\n",
        "from sklearn.metrics import *\n"
      ],
      "execution_count": null,
      "outputs": []
    },
    {
      "cell_type": "code",
      "metadata": {
        "id": "WcPPbO8XpsMV"
      },
      "source": [
        "# Definiendo los parámetros a probar\n",
        "\n",
        "parameters = {'max_depth': np.linspace(2, 15, 14),\n",
        "              'min_samples_leaf' : np.array([0.01, 0.05, 0.1, 0.2])}\n"
      ],
      "execution_count": null,
      "outputs": []
    },
    {
      "cell_type": "markdown",
      "source": [
        "Joseph: 60\n",
        "Katherine: 4, 12\n",
        "Reynaldo 60, 12\n",
        "Liam:168, 280\n",
        "Pablo: 300\n",
        "Edward: 56, 280\n",
        "Dennys: 34\n",
        "Jose: 150\n",
        "Carlos: 60\n",
        "Jaime: 280\n",
        "Ronald: 12"
      ],
      "metadata": {
        "id": "Had8Tp58768G"
      }
    },
    {
      "cell_type": "code",
      "metadata": {
        "id": "JXR3A7CK_165"
      },
      "source": [
        "# Definiendo modelo\n",
        "\n",
        "dtree = DecisionTreeClassifier(random_state = 123)\n"
      ],
      "execution_count": null,
      "outputs": []
    },
    {
      "cell_type": "code",
      "metadata": {
        "id": "gJmYXBZXrrOc",
        "colab": {
          "base_uri": "https://localhost:8080/"
        },
        "outputId": "ef6caf11-7a09-4de9-f0dd-12d1e89791dc"
      },
      "source": [
        "# Ejecutando grid search con 5 folds\n",
        "\n",
        "GridSearch = GridSearchCV(dtree, parameters, cv = 5, verbose = 5, n_jobs = 5,\n",
        "                          refit = 'AUC',\n",
        "                          return_train_score = True)\n",
        "\n",
        "GridSearch.fit(X_train_res, y_train_res.ravel())\n",
        "#elapsed:  4.6min finished\n"
      ],
      "execution_count": null,
      "outputs": [
        {
          "output_type": "stream",
          "name": "stdout",
          "text": [
            "Fitting 5 folds for each of 56 candidates, totalling 280 fits\n"
          ]
        },
        {
          "output_type": "execute_result",
          "data": {
            "text/plain": [
              "GridSearchCV(cv=5, estimator=DecisionTreeClassifier(random_state=123), n_jobs=5,\n",
              "             param_grid={'max_depth': array([ 2.,  3.,  4.,  5.,  6.,  7.,  8.,  9., 10., 11., 12., 13., 14.,\n",
              "       15.]),\n",
              "                         'min_samples_leaf': array([0.01, 0.05, 0.1 , 0.2 ])},\n",
              "             refit='AUC', return_train_score=True, verbose=5)"
            ]
          },
          "metadata": {},
          "execution_count": 68
        }
      ]
    },
    {
      "cell_type": "code",
      "metadata": {
        "id": "6Ed2TLBPwhdq",
        "colab": {
          "base_uri": "https://localhost:8080/"
        },
        "outputId": "6fc35d86-3a25-4c95-8b9c-1282fda17902"
      },
      "source": [
        "GridSearch.best_params_"
      ],
      "execution_count": null,
      "outputs": [
        {
          "output_type": "execute_result",
          "data": {
            "text/plain": [
              "{'max_depth': 8.0, 'min_samples_leaf': 0.01}"
            ]
          },
          "metadata": {},
          "execution_count": 69
        }
      ]
    },
    {
      "cell_type": "code",
      "metadata": {
        "id": "Beqga9lp3yKn"
      },
      "source": [
        "def plot_search_results(grid):\n",
        "    \"\"\"\n",
        "    Params: \n",
        "        grid: A trained GridSearchCV object.\n",
        "    \"\"\"\n",
        "    ## Results from grid search\n",
        "    results = grid.cv_results_\n",
        "    means_test = results['mean_test_score']\n",
        "    stds_test = results['std_test_score']\n",
        "    means_train = results['mean_train_score']\n",
        "    stds_train = results['std_train_score']\n",
        "\n",
        "    ## Getting indexes of values per hyper-parameter\n",
        "    masks=[]\n",
        "    masks_names= list(grid.best_params_.keys())\n",
        "    for p_k, p_v in grid.best_params_.items():\n",
        "        masks.append(list(results['param_'+p_k].data==p_v))\n",
        "\n",
        "    params=grid.param_grid\n",
        "\n",
        "    ## Ploting results\n",
        "    fig, ax = plt.subplots(1,len(params),sharex='none', sharey='all',figsize=(20,5))\n",
        "    fig.suptitle('Score per parameter')\n",
        "    fig.text(0.04, 0.5, 'MEAN SCORE', va='center', rotation='vertical')\n",
        "    pram_preformace_in_best = {}\n",
        "    for i, p in enumerate(masks_names):\n",
        "        m = np.stack(masks[:i] + masks[i+1:])\n",
        "        pram_preformace_in_best\n",
        "        best_parms_mask = m.all(axis=0)\n",
        "        best_index = np.where(best_parms_mask)[0]\n",
        "        x = np.array(params[p])\n",
        "        y_1 = np.array(means_test[best_index])\n",
        "        e_1 = np.array(stds_test[best_index])\n",
        "        y_2 = np.array(means_train[best_index])\n",
        "        e_2 = np.array(stds_train[best_index])\n",
        "        ax[i].errorbar(x, y_1, e_1, linestyle='--', marker='o', label='test')\n",
        "        ax[i].errorbar(x, y_2, e_2, linestyle='-', marker='^',label='train' )\n",
        "        ax[i].set_xlabel(p.upper())\n",
        "\n",
        "    plt.legend()\n",
        "    plt.show()"
      ],
      "execution_count": null,
      "outputs": []
    },
    {
      "cell_type": "code",
      "metadata": {
        "id": "MNRLjWmi4TH_",
        "colab": {
          "base_uri": "https://localhost:8080/",
          "height": 332
        },
        "outputId": "81bb3f21-6bbd-422d-af93-f3f703f154c9"
      },
      "source": [
        "\n",
        "# Calling Method \n",
        "plot_search_results(GridSearch)\n"
      ],
      "execution_count": null,
      "outputs": [
        {
          "output_type": "display_data",
          "data": {
            "text/plain": [
              "<Figure size 1440x360 with 2 Axes>"
            ],
            "image/png": "[encoded data removed]"
          },
          "metadata": {}
        }
      ]
    },
    {
      "cell_type": "code",
      "metadata": {
        "id": "8ma6g_3-wxD5",
        "colab": {
          "base_uri": "https://localhost:8080/"
        },
        "outputId": "78009c53-a0f5-4c31-853e-317c9cff8000"
      },
      "source": [
        "# Entrenamiento Óptimizado\n",
        "\n",
        "dtree = DecisionTreeClassifier(max_depth = 6, \n",
        "                               min_samples_leaf = 0.01,\n",
        "                               random_state = 123)\n",
        "\n",
        "dtree = dtree.fit(X_train_res, y_train_res)\n",
        "    \n",
        "dtree"
      ],
      "execution_count": null,
      "outputs": [
        {
          "output_type": "execute_result",
          "data": {
            "text/plain": [
              "DecisionTreeClassifier(max_depth=6, min_samples_leaf=0.01, random_state=123)"
            ]
          },
          "metadata": {},
          "execution_count": 72
        }
      ]
    },
    {
      "cell_type": "code",
      "metadata": {
        "id": "VcJQAjQkAt06"
      },
      "source": [
        "# Graficando resultados\n",
        "\n",
        "from sklearn.tree import export_graphviz\n",
        "from pydotplus import graph_from_dot_data\n",
        "\n",
        "dot_data = export_graphviz(dtree,\n",
        "                           feature_names = features,\n",
        "                           filled = True,\n",
        "                           rounded = True,\n",
        "                           special_characters = True)\n",
        "\n",
        "graph = graph_from_dot_data(dot_data)\n",
        "graph.write_png('tree.png')\n",
        "print(graph)"
      ],
      "execution_count": null,
      "outputs": []
    },
    {
      "cell_type": "markdown",
      "metadata": {
        "id": "Nx2FhGCj139S"
      },
      "source": [
        "<b>Bondad de ajuste</b>"
      ]
    },
    {
      "cell_type": "code",
      "metadata": {
        "id": "ZRo01-D713Lv"
      },
      "source": [
        "# Usando el modelo para predecir\n",
        "\n",
        "X_train['probability'] = dtree.predict_proba(X_train[features])[:,1]\n",
        "X_test['probability']  = dtree.predict_proba(X_test[features])[:,1]\n",
        "\n",
        "X_train['prediction'] = dtree.predict(X_train[features])\n",
        "X_test['prediction']  = dtree.predict(X_test[features])\n"
      ],
      "execution_count": null,
      "outputs": []
    },
    {
      "cell_type": "code",
      "metadata": {
        "id": "H_1Osv5N1_kO",
        "colab": {
          "base_uri": "https://localhost:8080/",
          "height": 238
        },
        "outputId": "8b784754-0888-4357-f74d-b7f780f1c736"
      },
      "source": [
        "#Resumen de todas las métricas del modelo\n",
        "\n",
        "metricsDtreeOpt = pd.DataFrame({'metric':['AUC','Gini','Accuracy','Precision','Recall','F1-score'],\n",
        "                                'dTree_train':[roc_auc_score(y_train, X_train.probability),\n",
        "                                        (roc_auc_score(y_train, X_train.probability)*2-1),\n",
        "                                        accuracy_score(y_train, X_train.prediction),\n",
        "                                        precision_score(y_train, X_train.prediction),\n",
        "                                        recall_score(y_train, X_train.prediction),\n",
        "                                        f1_score(y_train, X_train.prediction)],\n",
        "\n",
        "                                'dTree_test':[roc_auc_score(y_test, X_test.probability),\n",
        "                                        (roc_auc_score(y_test, X_test.probability)*2-1),\n",
        "                                        accuracy_score(y_test, X_test.prediction),\n",
        "                                        precision_score(y_test, X_test.prediction),\n",
        "                                        recall_score(y_test, X_test.prediction),\n",
        "                                        f1_score(y_test, X_test.prediction)]})\n",
        "\n",
        "metricsDtreeOpt          "
      ],
      "execution_count": null,
      "outputs": [
        {
          "output_type": "execute_result",
          "data": {
            "text/plain": [
              "      metric  dTree_train  dTree_test\n",
              "0        AUC     0.808261    0.798188\n",
              "1       Gini     0.616523    0.596376\n",
              "2   Accuracy     0.819127    0.818776\n",
              "3  Precision     0.133041    0.129727\n",
              "4     Recall     0.647198    0.627494\n",
              "5   F1-score     0.220711    0.215005"
            ],
            "text/html": [
              "\n",
              "  <div id=\"df-edff5553-e8a8-49ee-adad-0557741f2740\">\n",
              "    <div class=\"colab-df-container\">\n",
              "      <div>\n",
              "<style scoped>\n",
              "    .dataframe tbody tr th:only-of-type {\n",
              "        vertical-align: middle;\n",
              "    }\n",
              "\n",
              "    .dataframe tbody tr th {\n",
              "        vertical-align: top;\n",
              "    }\n",
              "\n",
              "    .dataframe thead th {\n",
              "        text-align: right;\n",
              "    }\n",
              "</style>\n",
              "<table border=\"1\" class=\"dataframe\">\n",
              "  <thead>\n",
              "    <tr style=\"text-align: right;\">\n",
              "      <th></th>\n",
              "      <th>metric</th>\n",
              "      <th>dTree_train</th>\n",
              "      <th>dTree_test</th>\n",
              "    </tr>\n",
              "  </thead>\n",
              "  <tbody>\n",
              "    <tr>\n",
              "      <th>0</th>\n",
              "      <td>AUC</td>\n",
              "      <td>0.808261</td>\n",
              "      <td>0.798188</td>\n",
              "    </tr>\n",
              "    <tr>\n",
              "      <th>1</th>\n",
              "      <td>Gini</td>\n",
              "      <td>0.616523</td>\n",
              "      <td>0.596376</td>\n",
              "    </tr>\n",
              "    <tr>\n",
              "      <th>2</th>\n",
              "      <td>Accuracy</td>\n",
              "      <td>0.819127</td>\n",
              "      <td>0.818776</td>\n",
              "    </tr>\n",
              "    <tr>\n",
              "      <th>3</th>\n",
              "      <td>Precision</td>\n",
              "      <td>0.133041</td>\n",
              "      <td>0.129727</td>\n",
              "    </tr>\n",
              "    <tr>\n",
              "      <th>4</th>\n",
              "      <td>Recall</td>\n",
              "      <td>0.647198</td>\n",
              "      <td>0.627494</td>\n",
              "    </tr>\n",
              "    <tr>\n",
              "      <th>5</th>\n",
              "      <td>F1-score</td>\n",
              "      <td>0.220711</td>\n",
              "      <td>0.215005</td>\n",
              "    </tr>\n",
              "  </tbody>\n",
              "</table>\n",
              "</div>\n",
              "      <button class=\"colab-df-convert\" onclick=\"convertToInteractive('df-edff5553-e8a8-49ee-adad-0557741f2740')\"\n",
              "              title=\"Convert this dataframe to an interactive table.\"\n",
              "              style=\"display:none;\">\n",
              "        \n",
              "  <svg xmlns=\"http://www.w3.org/2000/svg\" height=\"24px\"viewBox=\"0 0 24 24\"\n",
              "       width=\"24px\">\n",
              "    <path d=\"M0 0h24v24H0V0z\" fill=\"none\"/>\n",
              "    <path d=\"M18.56 5.44l.94 2.06.94-2.06 2.06-.94-2.06-.94-.94-2.06-.94 2.06-2.06.94zm-11 1L8.5 8.5l.94-2.06 2.06-.94-2.06-.94L8.5 2.5l-.94 2.06-2.06.94zm10 10l.94 2.06.94-2.06 2.06-.94-2.06-.94-.94-2.06-.94 2.06-2.06.94z\"/><path d=\"M17.41 7.96l-1.37-1.37c-.4-.4-.92-.59-1.43-.59-.52 0-1.04.2-1.43.59L10.3 9.45l-7.72 7.72c-.78.78-.78 2.05 0 2.83L4 21.41c.39.39.9.59 1.41.59.51 0 1.02-.2 1.41-.59l7.78-7.78 2.81-2.81c.8-.78.8-2.07 0-2.86zM5.41 20L4 18.59l7.72-7.72 1.47 1.35L5.41 20z\"/>\n",
              "  </svg>\n",
              "      </button>\n",
              "      \n",
              "  <style>\n",
              "    .colab-df-container {\n",
              "      display:flex;\n",
              "      flex-wrap:wrap;\n",
              "      gap: 12px;\n",
              "    }\n",
              "\n",
              "    .colab-df-convert {\n",
              "      background-color: #E8F0FE;\n",
              "      border: none;\n",
              "      border-radius: 50%;\n",
              "      cursor: pointer;\n",
              "      display: none;\n",
              "      fill: #1967D2;\n",
              "      height: 32px;\n",
              "      padding: 0 0 0 0;\n",
              "      width: 32px;\n",
              "    }\n",
              "\n",
              "    .colab-df-convert:hover {\n",
              "      background-color: #E2EBFA;\n",
              "      box-shadow: 0px 1px 2px rgba(60, 64, 67, 0.3), 0px 1px 3px 1px rgba(60, 64, 67, 0.15);\n",
              "      fill: #174EA6;\n",
              "    }\n",
              "\n",
              "    [theme=dark] .colab-df-convert {\n",
              "      background-color: #3B4455;\n",
              "      fill: #D2E3FC;\n",
              "    }\n",
              "\n",
              "    [theme=dark] .colab-df-convert:hover {\n",
              "      background-color: #434B5C;\n",
              "      box-shadow: 0px 1px 3px 1px rgba(0, 0, 0, 0.15);\n",
              "      filter: drop-shadow(0px 1px 2px rgba(0, 0, 0, 0.3));\n",
              "      fill: #FFFFFF;\n",
              "    }\n",
              "  </style>\n",
              "\n",
              "      <script>\n",
              "        const buttonEl =\n",
              "          document.querySelector('#df-edff5553-e8a8-49ee-adad-0557741f2740 button.colab-df-convert');\n",
              "        buttonEl.style.display =\n",
              "          google.colab.kernel.accessAllowed ? 'block' : 'none';\n",
              "\n",
              "        async function convertToInteractive(key) {\n",
              "          const element = document.querySelector('#df-edff5553-e8a8-49ee-adad-0557741f2740');\n",
              "          const dataTable =\n",
              "            await google.colab.kernel.invokeFunction('convertToInteractive',\n",
              "                                                     [key], {});\n",
              "          if (!dataTable) return;\n",
              "\n",
              "          const docLinkHtml = 'Like what you see? Visit the ' +\n",
              "            '<a target=\"_blank\" href=https://colab.research.google.com/notebooks/data_table.ipynb>data table notebook</a>'\n",
              "            + ' to learn more about interactive tables.';\n",
              "          element.innerHTML = '';\n",
              "          dataTable['output_type'] = 'display_data';\n",
              "          await google.colab.output.renderOutput(dataTable, element);\n",
              "          const docLink = document.createElement('div');\n",
              "          docLink.innerHTML = docLinkHtml;\n",
              "          element.appendChild(docLink);\n",
              "        }\n",
              "      </script>\n",
              "    </div>\n",
              "  </div>\n",
              "  "
            ]
          },
          "metadata": {},
          "execution_count": 74
        }
      ]
    },
    {
      "cell_type": "code",
      "source": [
        "pd.merge(metricsDtree_w, metricsDtreeOpt, on = 'metric', how='left')"
      ],
      "metadata": {
        "colab": {
          "base_uri": "https://localhost:8080/",
          "height": 238
        },
        "id": "5U3JYapA_fOy",
        "outputId": "211fc381-819a-4615-b943-15d8626193e9"
      },
      "execution_count": null,
      "outputs": [
        {
          "output_type": "execute_result",
          "data": {
            "text/plain": [
              "      metric  dTree_w_train  dTree_w_test  dTree_train  dTree_test\n",
              "0        AUC       0.806572      0.792548     0.808261    0.798188\n",
              "1       Gini       0.613143      0.585097     0.616523    0.596376\n",
              "2   Accuracy       0.638535      0.643778     0.819127    0.818776\n",
              "3  Precision       0.085395      0.083506     0.133041    0.129727\n",
              "4     Recall       0.837607      0.802661     0.647198    0.627494\n",
              "5   F1-score       0.154988      0.151275     0.220711    0.215005"
            ],
            "text/html": [
              "\n",
              "  <div id=\"df-796ff2ec-3493-4998-9e77-449723ae6015\">\n",
              "    <div class=\"colab-df-container\">\n",
              "      <div>\n",
              "<style scoped>\n",
              "    .dataframe tbody tr th:only-of-type {\n",
              "        vertical-align: middle;\n",
              "    }\n",
              "\n",
              "    .dataframe tbody tr th {\n",
              "        vertical-align: top;\n",
              "    }\n",
              "\n",
              "    .dataframe thead th {\n",
              "        text-align: right;\n",
              "    }\n",
              "</style>\n",
              "<table border=\"1\" class=\"dataframe\">\n",
              "  <thead>\n",
              "    <tr style=\"text-align: right;\">\n",
              "      <th></th>\n",
              "      <th>metric</th>\n",
              "      <th>dTree_w_train</th>\n",
              "      <th>dTree_w_test</th>\n",
              "      <th>dTree_train</th>\n",
              "      <th>dTree_test</th>\n",
              "    </tr>\n",
              "  </thead>\n",
              "  <tbody>\n",
              "    <tr>\n",
              "      <th>0</th>\n",
              "      <td>AUC</td>\n",
              "      <td>0.806572</td>\n",
              "      <td>0.792548</td>\n",
              "      <td>0.808261</td>\n",
              "      <td>0.798188</td>\n",
              "    </tr>\n",
              "    <tr>\n",
              "      <th>1</th>\n",
              "      <td>Gini</td>\n",
              "      <td>0.613143</td>\n",
              "      <td>0.585097</td>\n",
              "      <td>0.616523</td>\n",
              "      <td>0.596376</td>\n",
              "    </tr>\n",
              "    <tr>\n",
              "      <th>2</th>\n",
              "      <td>Accuracy</td>\n",
              "      <td>0.638535</td>\n",
              "      <td>0.643778</td>\n",
              "      <td>0.819127</td>\n",
              "      <td>0.818776</td>\n",
              "    </tr>\n",
              "    <tr>\n",
              "      <th>3</th>\n",
              "      <td>Precision</td>\n",
              "      <td>0.085395</td>\n",
              "      <td>0.083506</td>\n",
              "      <td>0.133041</td>\n",
              "      <td>0.129727</td>\n",
              "    </tr>\n",
              "    <tr>\n",
              "      <th>4</th>\n",
              "      <td>Recall</td>\n",
              "      <td>0.837607</td>\n",
              "      <td>0.802661</td>\n",
              "      <td>0.647198</td>\n",
              "      <td>0.627494</td>\n",
              "    </tr>\n",
              "    <tr>\n",
              "      <th>5</th>\n",
              "      <td>F1-score</td>\n",
              "      <td>0.154988</td>\n",
              "      <td>0.151275</td>\n",
              "      <td>0.220711</td>\n",
              "      <td>0.215005</td>\n",
              "    </tr>\n",
              "  </tbody>\n",
              "</table>\n",
              "</div>\n",
              "      <button class=\"colab-df-convert\" onclick=\"convertToInteractive('df-796ff2ec-3493-4998-9e77-449723ae6015')\"\n",
              "              title=\"Convert this dataframe to an interactive table.\"\n",
              "              style=\"display:none;\">\n",
              "        \n",
              "  <svg xmlns=\"http://www.w3.org/2000/svg\" height=\"24px\"viewBox=\"0 0 24 24\"\n",
              "       width=\"24px\">\n",
              "    <path d=\"M0 0h24v24H0V0z\" fill=\"none\"/>\n",
              "    <path d=\"M18.56 5.44l.94 2.06.94-2.06 2.06-.94-2.06-.94-.94-2.06-.94 2.06-2.06.94zm-11 1L8.5 8.5l.94-2.06 2.06-.94-2.06-.94L8.5 2.5l-.94 2.06-2.06.94zm10 10l.94 2.06.94-2.06 2.06-.94-2.06-.94-.94-2.06-.94 2.06-2.06.94z\"/><path d=\"M17.41 7.96l-1.37-1.37c-.4-.4-.92-.59-1.43-.59-.52 0-1.04.2-1.43.59L10.3 9.45l-7.72 7.72c-.78.78-.78 2.05 0 2.83L4 21.41c.39.39.9.59 1.41.59.51 0 1.02-.2 1.41-.59l7.78-7.78 2.81-2.81c.8-.78.8-2.07 0-2.86zM5.41 20L4 18.59l7.72-7.72 1.47 1.35L5.41 20z\"/>\n",
              "  </svg>\n",
              "      </button>\n",
              "      \n",
              "  <style>\n",
              "    .colab-df-container {\n",
              "      display:flex;\n",
              "      flex-wrap:wrap;\n",
              "      gap: 12px;\n",
              "    }\n",
              "\n",
              "    .colab-df-convert {\n",
              "      background-color: #E8F0FE;\n",
              "      border: none;\n",
              "      border-radius: 50%;\n",
              "      cursor: pointer;\n",
              "      display: none;\n",
              "      fill: #1967D2;\n",
              "      height: 32px;\n",
              "      padding: 0 0 0 0;\n",
              "      width: 32px;\n",
              "    }\n",
              "\n",
              "    .colab-df-convert:hover {\n",
              "      background-color: #E2EBFA;\n",
              "      box-shadow: 0px 1px 2px rgba(60, 64, 67, 0.3), 0px 1px 3px 1px rgba(60, 64, 67, 0.15);\n",
              "      fill: #174EA6;\n",
              "    }\n",
              "\n",
              "    [theme=dark] .colab-df-convert {\n",
              "      background-color: #3B4455;\n",
              "      fill: #D2E3FC;\n",
              "    }\n",
              "\n",
              "    [theme=dark] .colab-df-convert:hover {\n",
              "      background-color: #434B5C;\n",
              "      box-shadow: 0px 1px 3px 1px rgba(0, 0, 0, 0.15);\n",
              "      filter: drop-shadow(0px 1px 2px rgba(0, 0, 0, 0.3));\n",
              "      fill: #FFFFFF;\n",
              "    }\n",
              "  </style>\n",
              "\n",
              "      <script>\n",
              "        const buttonEl =\n",
              "          document.querySelector('#df-796ff2ec-3493-4998-9e77-449723ae6015 button.colab-df-convert');\n",
              "        buttonEl.style.display =\n",
              "          google.colab.kernel.accessAllowed ? 'block' : 'none';\n",
              "\n",
              "        async function convertToInteractive(key) {\n",
              "          const element = document.querySelector('#df-796ff2ec-3493-4998-9e77-449723ae6015');\n",
              "          const dataTable =\n",
              "            await google.colab.kernel.invokeFunction('convertToInteractive',\n",
              "                                                     [key], {});\n",
              "          if (!dataTable) return;\n",
              "\n",
              "          const docLinkHtml = 'Like what you see? Visit the ' +\n",
              "            '<a target=\"_blank\" href=https://colab.research.google.com/notebooks/data_table.ipynb>data table notebook</a>'\n",
              "            + ' to learn more about interactive tables.';\n",
              "          element.innerHTML = '';\n",
              "          dataTable['output_type'] = 'display_data';\n",
              "          await google.colab.output.renderOutput(dataTable, element);\n",
              "          const docLink = document.createElement('div');\n",
              "          docLink.innerHTML = docLinkHtml;\n",
              "          element.appendChild(docLink);\n",
              "        }\n",
              "      </script>\n",
              "    </div>\n",
              "  </div>\n",
              "  "
            ]
          },
          "metadata": {},
          "execution_count": 75
        }
      ]
    },
    {
      "cell_type": "markdown",
      "metadata": {
        "id": "GmVIV52EEYRj"
      },
      "source": [
        "<b>Importancias del modelo</b>"
      ]
    },
    {
      "cell_type": "code",
      "metadata": {
        "id": "lAjdljBUSFDp"
      },
      "source": [
        "# Muestreo de data\n",
        "\n",
        "from sklearn.model_selection import train_test_split\n",
        "\n",
        "X_train, X_test, y_train, y_test = train_test_split(X, y, \n",
        "                                                    stratify = y,\n",
        "                                                    test_size = 0.3,\n",
        "                                                    random_state = 123)"
      ],
      "execution_count": null,
      "outputs": []
    },
    {
      "cell_type": "code",
      "metadata": {
        "id": "M6x8uQXSEYwf",
        "colab": {
          "base_uri": "https://localhost:8080/",
          "height": 551
        },
        "outputId": "f94db7fd-987a-4b68-ccbd-9375348e7ab0"
      },
      "source": [
        "\n",
        "importances = pd.DataFrame({'features' : X_train.columns.tolist() ,\n",
        "                            'importance' : dtree.feature_importances_}).sort_values('importance', ascending = False)\n",
        "\n",
        "importances.loc[importances.importance > 0]"
      ],
      "execution_count": null,
      "outputs": [
        {
          "output_type": "execute_result",
          "data": {
            "text/plain": [
              "                     features  importance\n",
              "96                  ind_var30    0.490011\n",
              "346                     var15    0.280840\n",
              "253               saldo_var30    0.068182\n",
              "181   imp_op_var41_efect_ult3    0.044419\n",
              "156                     var38    0.038223\n",
              "348               saldo_var37    0.021746\n",
              "288             ind_var37_cte    0.018888\n",
              "350            num_var22_ult3    0.015840\n",
              "249            num_var22_ult1    0.006266\n",
              "203                  num_var4    0.005822\n",
              "74                      var36    0.003209\n",
              "183  num_meses_var39_vig_ult3    0.002604\n",
              "79     saldo_medio_var5_hace3    0.002280\n",
              "34        num_meses_var5_ult3    0.001586\n",
              "24      saldo_medio_var5_ult3    0.000058\n",
              "59                num_var41_0    0.000026"
            ],
            "text/html": [
              "\n",
              "  <div id=\"df-801bce3e-bc2f-42ca-86dd-d39d11242a20\">\n",
              "    <div class=\"colab-df-container\">\n",
              "      <div>\n",
              "<style scoped>\n",
              "    .dataframe tbody tr th:only-of-type {\n",
              "        vertical-align: middle;\n",
              "    }\n",
              "\n",
              "    .dataframe tbody tr th {\n",
              "        vertical-align: top;\n",
              "    }\n",
              "\n",
              "    .dataframe thead th {\n",
              "        text-align: right;\n",
              "    }\n",
              "</style>\n",
              "<table border=\"1\" class=\"dataframe\">\n",
              "  <thead>\n",
              "    <tr style=\"text-align: right;\">\n",
              "      <th></th>\n",
              "      <th>features</th>\n",
              "      <th>importance</th>\n",
              "    </tr>\n",
              "  </thead>\n",
              "  <tbody>\n",
              "    <tr>\n",
              "      <th>96</th>\n",
              "      <td>ind_var30</td>\n",
              "      <td>0.490011</td>\n",
              "    </tr>\n",
              "    <tr>\n",
              "      <th>346</th>\n",
              "      <td>var15</td>\n",
              "      <td>0.280840</td>\n",
              "    </tr>\n",
              "    <tr>\n",
              "      <th>253</th>\n",
              "      <td>saldo_var30</td>\n",
              "      <td>0.068182</td>\n",
              "    </tr>\n",
              "    <tr>\n",
              "      <th>181</th>\n",
              "      <td>imp_op_var41_efect_ult3</td>\n",
              "      <td>0.044419</td>\n",
              "    </tr>\n",
              "    <tr>\n",
              "      <th>156</th>\n",
              "      <td>var38</td>\n",
              "      <td>0.038223</td>\n",
              "    </tr>\n",
              "    <tr>\n",
              "      <th>348</th>\n",
              "      <td>saldo_var37</td>\n",
              "      <td>0.021746</td>\n",
              "    </tr>\n",
              "    <tr>\n",
              "      <th>288</th>\n",
              "      <td>ind_var37_cte</td>\n",
              "      <td>0.018888</td>\n",
              "    </tr>\n",
              "    <tr>\n",
              "      <th>350</th>\n",
              "      <td>num_var22_ult3</td>\n",
              "      <td>0.015840</td>\n",
              "    </tr>\n",
              "    <tr>\n",
              "      <th>249</th>\n",
              "      <td>num_var22_ult1</td>\n",
              "      <td>0.006266</td>\n",
              "    </tr>\n",
              "    <tr>\n",
              "      <th>203</th>\n",
              "      <td>num_var4</td>\n",
              "      <td>0.005822</td>\n",
              "    </tr>\n",
              "    <tr>\n",
              "      <th>74</th>\n",
              "      <td>var36</td>\n",
              "      <td>0.003209</td>\n",
              "    </tr>\n",
              "    <tr>\n",
              "      <th>183</th>\n",
              "      <td>num_meses_var39_vig_ult3</td>\n",
              "      <td>0.002604</td>\n",
              "    </tr>\n",
              "    <tr>\n",
              "      <th>79</th>\n",
              "      <td>saldo_medio_var5_hace3</td>\n",
              "      <td>0.002280</td>\n",
              "    </tr>\n",
              "    <tr>\n",
              "      <th>34</th>\n",
              "      <td>num_meses_var5_ult3</td>\n",
              "      <td>0.001586</td>\n",
              "    </tr>\n",
              "    <tr>\n",
              "      <th>24</th>\n",
              "      <td>saldo_medio_var5_ult3</td>\n",
              "      <td>0.000058</td>\n",
              "    </tr>\n",
              "    <tr>\n",
              "      <th>59</th>\n",
              "      <td>num_var41_0</td>\n",
              "      <td>0.000026</td>\n",
              "    </tr>\n",
              "  </tbody>\n",
              "</table>\n",
              "</div>\n",
              "      <button class=\"colab-df-convert\" onclick=\"convertToInteractive('df-801bce3e-bc2f-42ca-86dd-d39d11242a20')\"\n",
              "              title=\"Convert this dataframe to an interactive table.\"\n",
              "              style=\"display:none;\">\n",
              "        \n",
              "  <svg xmlns=\"http://www.w3.org/2000/svg\" height=\"24px\"viewBox=\"0 0 24 24\"\n",
              "       width=\"24px\">\n",
              "    <path d=\"M0 0h24v24H0V0z\" fill=\"none\"/>\n",
              "    <path d=\"M18.56 5.44l.94 2.06.94-2.06 2.06-.94-2.06-.94-.94-2.06-.94 2.06-2.06.94zm-11 1L8.5 8.5l.94-2.06 2.06-.94-2.06-.94L8.5 2.5l-.94 2.06-2.06.94zm10 10l.94 2.06.94-2.06 2.06-.94-2.06-.94-.94-2.06-.94 2.06-2.06.94z\"/><path d=\"M17.41 7.96l-1.37-1.37c-.4-.4-.92-.59-1.43-.59-.52 0-1.04.2-1.43.59L10.3 9.45l-7.72 7.72c-.78.78-.78 2.05 0 2.83L4 21.41c.39.39.9.59 1.41.59.51 0 1.02-.2 1.41-.59l7.78-7.78 2.81-2.81c.8-.78.8-2.07 0-2.86zM5.41 20L4 18.59l7.72-7.72 1.47 1.35L5.41 20z\"/>\n",
              "  </svg>\n",
              "      </button>\n",
              "      \n",
              "  <style>\n",
              "    .colab-df-container {\n",
              "      display:flex;\n",
              "      flex-wrap:wrap;\n",
              "      gap: 12px;\n",
              "    }\n",
              "\n",
              "    .colab-df-convert {\n",
              "      background-color: #E8F0FE;\n",
              "      border: none;\n",
              "      border-radius: 50%;\n",
              "      cursor: pointer;\n",
              "      display: none;\n",
              "      fill: #1967D2;\n",
              "      height: 32px;\n",
              "      padding: 0 0 0 0;\n",
              "      width: 32px;\n",
              "    }\n",
              "\n",
              "    .colab-df-convert:hover {\n",
              "      background-color: #E2EBFA;\n",
              "      box-shadow: 0px 1px 2px rgba(60, 64, 67, 0.3), 0px 1px 3px 1px rgba(60, 64, 67, 0.15);\n",
              "      fill: #174EA6;\n",
              "    }\n",
              "\n",
              "    [theme=dark] .colab-df-convert {\n",
              "      background-color: #3B4455;\n",
              "      fill: #D2E3FC;\n",
              "    }\n",
              "\n",
              "    [theme=dark] .colab-df-convert:hover {\n",
              "      background-color: #434B5C;\n",
              "      box-shadow: 0px 1px 3px 1px rgba(0, 0, 0, 0.15);\n",
              "      filter: drop-shadow(0px 1px 2px rgba(0, 0, 0, 0.3));\n",
              "      fill: #FFFFFF;\n",
              "    }\n",
              "  </style>\n",
              "\n",
              "      <script>\n",
              "        const buttonEl =\n",
              "          document.querySelector('#df-801bce3e-bc2f-42ca-86dd-d39d11242a20 button.colab-df-convert');\n",
              "        buttonEl.style.display =\n",
              "          google.colab.kernel.accessAllowed ? 'block' : 'none';\n",
              "\n",
              "        async function convertToInteractive(key) {\n",
              "          const element = document.querySelector('#df-801bce3e-bc2f-42ca-86dd-d39d11242a20');\n",
              "          const dataTable =\n",
              "            await google.colab.kernel.invokeFunction('convertToInteractive',\n",
              "                                                     [key], {});\n",
              "          if (!dataTable) return;\n",
              "\n",
              "          const docLinkHtml = 'Like what you see? Visit the ' +\n",
              "            '<a target=\"_blank\" href=https://colab.research.google.com/notebooks/data_table.ipynb>data table notebook</a>'\n",
              "            + ' to learn more about interactive tables.';\n",
              "          element.innerHTML = '';\n",
              "          dataTable['output_type'] = 'display_data';\n",
              "          await google.colab.output.renderOutput(dataTable, element);\n",
              "          const docLink = document.createElement('div');\n",
              "          docLink.innerHTML = docLinkHtml;\n",
              "          element.appendChild(docLink);\n",
              "        }\n",
              "      </script>\n",
              "    </div>\n",
              "  </div>\n",
              "  "
            ]
          },
          "metadata": {},
          "execution_count": 77
        }
      ]
    },
    {
      "cell_type": "markdown",
      "metadata": {
        "id": "WVj_S8JYEVdt"
      },
      "source": [
        "# Random Forest"
      ]
    },
    {
      "cell_type": "code",
      "metadata": {
        "id": "Gzp9XSwgQGen"
      },
      "source": [
        "# Muestreo de data\n",
        "\n",
        "from sklearn.model_selection import train_test_split\n",
        "\n",
        "X_train, X_test, y_train, y_test = train_test_split(X, y, \n",
        "                                                    stratify = y,\n",
        "                                                    test_size = 0.3,\n",
        "                                                    random_state = 123)\n",
        "\n"
      ],
      "execution_count": null,
      "outputs": []
    },
    {
      "cell_type": "code",
      "metadata": {
        "id": "1iDJJfkx6Rk1"
      },
      "source": [
        "# Cargando librerías\n",
        "\n",
        "from sklearn.ensemble import RandomForestClassifier\n",
        "from sklearn.ensemble import RandomForestRegressor\n",
        "import time\n"
      ],
      "execution_count": null,
      "outputs": []
    },
    {
      "cell_type": "code",
      "metadata": {
        "id": "y147KKmj6UOz"
      },
      "source": [
        "# Configurando modelo de random forest\n",
        "\n",
        "rfc = RandomForestClassifier(n_estimators = 100,\n",
        "                             max_depth = 6, \n",
        "                             min_samples_leaf = 0.01,\n",
        "                             class_weight = {0: 1, 1: 24.267},\n",
        "                             oob_score = True,\n",
        "                             verbose = 1, \n",
        "                             n_jobs = -1,\n",
        "                             random_state = 123)\n",
        "\n",
        "#oob_score: Out of bagging score, es el desempeño del modelo en la muestra que se \n",
        "#queda fuera del proceso de extraccion de subespacios de la data\n",
        "#es importante analizarlo por si el modelo deja fuera algunas caracteristicas importantes de la data"
      ],
      "execution_count": null,
      "outputs": []
    },
    {
      "cell_type": "code",
      "source": [
        "import multiprocessing\n",
        "multiprocessing.cpu_count()"
      ],
      "metadata": {
        "colab": {
          "base_uri": "https://localhost:8080/"
        },
        "id": "OODpcooYY95W",
        "outputId": "f7604ae5-86d4-4d25-ee2b-5f33b3352f04"
      },
      "execution_count": null,
      "outputs": [
        {
          "output_type": "execute_result",
          "data": {
            "text/plain": [
              "4"
            ]
          },
          "metadata": {},
          "execution_count": 90
        }
      ]
    },
    {
      "cell_type": "code",
      "metadata": {
        "colab": {
          "base_uri": "https://localhost:8080/"
        },
        "id": "96K6OPOfAQbK",
        "outputId": "d4e143fa-194e-4dfa-bd1f-eaa2c518e410"
      },
      "source": [
        "\n",
        "\n",
        "start_time = time.time()\n",
        "rfc = rfc.fit(X_train, y_train)\n",
        "print(\"----%s seconds ---\" % ((time.time() - start_time)))\n"
      ],
      "execution_count": null,
      "outputs": [
        {
          "output_type": "stream",
          "name": "stderr",
          "text": [
            "[Parallel(n_jobs=-1)]: Using backend ThreadingBackend with 4 concurrent workers.\n",
            "[Parallel(n_jobs=-1)]: Done  42 tasks      | elapsed:    0.6s\n",
            "[Parallel(n_jobs=-1)]: Done 100 out of 100 | elapsed:    1.4s finished\n"
          ]
        },
        {
          "output_type": "stream",
          "name": "stdout",
          "text": [
            "----4.458308696746826 seconds ---\n"
          ]
        }
      ]
    },
    {
      "cell_type": "code",
      "metadata": {
        "id": "Wmr96VSSMLaD",
        "colab": {
          "base_uri": "https://localhost:8080/",
          "height": 424
        },
        "outputId": "d0f52f18-04ab-4fce-9321-6434320207d1"
      },
      "source": [
        "importances = pd.DataFrame({'features' : X_train.columns.tolist() ,\n",
        "                            'importance' : rfc.feature_importances_}).sort_values('importance', ascending = False)\n",
        "\n",
        "importances.loc[importances.importance > 0]"
      ],
      "execution_count": null,
      "outputs": [
        {
          "output_type": "execute_result",
          "data": {
            "text/plain": [
              "                      features  importance\n",
              "346                      var15    0.142715\n",
              "286                 saldo_var5    0.077388\n",
              "170                saldo_var42    0.073433\n",
              "147                  num_var30    0.071220\n",
              "253                saldo_var30    0.070592\n",
              "..                         ...         ...\n",
              "311                ind_var25_0    0.000060\n",
              "269    num_op_var41_comer_ult1    0.000051\n",
              "128  delta_imp_aport_var13_1y3    0.000023\n",
              "80                   num_var37    0.000013\n",
              "139                num_var24_0    0.000012\n",
              "\n",
              "[120 rows x 2 columns]"
            ],
            "text/html": [
              "\n",
              "  <div id=\"df-8c63d987-4e2e-4d5a-bdde-7f7714b65f53\">\n",
              "    <div class=\"colab-df-container\">\n",
              "      <div>\n",
              "<style scoped>\n",
              "    .dataframe tbody tr th:only-of-type {\n",
              "        vertical-align: middle;\n",
              "    }\n",
              "\n",
              "    .dataframe tbody tr th {\n",
              "        vertical-align: top;\n",
              "    }\n",
              "\n",
              "    .dataframe thead th {\n",
              "        text-align: right;\n",
              "    }\n",
              "</style>\n",
              "<table border=\"1\" class=\"dataframe\">\n",
              "  <thead>\n",
              "    <tr style=\"text-align: right;\">\n",
              "      <th></th>\n",
              "      <th>features</th>\n",
              "      <th>importance</th>\n",
              "    </tr>\n",
              "  </thead>\n",
              "  <tbody>\n",
              "    <tr>\n",
              "      <th>346</th>\n",
              "      <td>var15</td>\n",
              "      <td>0.142715</td>\n",
              "    </tr>\n",
              "    <tr>\n",
              "      <th>286</th>\n",
              "      <td>saldo_var5</td>\n",
              "      <td>0.077388</td>\n",
              "    </tr>\n",
              "    <tr>\n",
              "      <th>170</th>\n",
              "      <td>saldo_var42</td>\n",
              "      <td>0.073433</td>\n",
              "    </tr>\n",
              "    <tr>\n",
              "      <th>147</th>\n",
              "      <td>num_var30</td>\n",
              "      <td>0.071220</td>\n",
              "    </tr>\n",
              "    <tr>\n",
              "      <th>253</th>\n",
              "      <td>saldo_var30</td>\n",
              "      <td>0.070592</td>\n",
              "    </tr>\n",
              "    <tr>\n",
              "      <th>...</th>\n",
              "      <td>...</td>\n",
              "      <td>...</td>\n",
              "    </tr>\n",
              "    <tr>\n",
              "      <th>311</th>\n",
              "      <td>ind_var25_0</td>\n",
              "      <td>0.000060</td>\n",
              "    </tr>\n",
              "    <tr>\n",
              "      <th>269</th>\n",
              "      <td>num_op_var41_comer_ult1</td>\n",
              "      <td>0.000051</td>\n",
              "    </tr>\n",
              "    <tr>\n",
              "      <th>128</th>\n",
              "      <td>delta_imp_aport_var13_1y3</td>\n",
              "      <td>0.000023</td>\n",
              "    </tr>\n",
              "    <tr>\n",
              "      <th>80</th>\n",
              "      <td>num_var37</td>\n",
              "      <td>0.000013</td>\n",
              "    </tr>\n",
              "    <tr>\n",
              "      <th>139</th>\n",
              "      <td>num_var24_0</td>\n",
              "      <td>0.000012</td>\n",
              "    </tr>\n",
              "  </tbody>\n",
              "</table>\n",
              "<p>120 rows × 2 columns</p>\n",
              "</div>\n",
              "      <button class=\"colab-df-convert\" onclick=\"convertToInteractive('df-8c63d987-4e2e-4d5a-bdde-7f7714b65f53')\"\n",
              "              title=\"Convert this dataframe to an interactive table.\"\n",
              "              style=\"display:none;\">\n",
              "        \n",
              "  <svg xmlns=\"http://www.w3.org/2000/svg\" height=\"24px\"viewBox=\"0 0 24 24\"\n",
              "       width=\"24px\">\n",
              "    <path d=\"M0 0h24v24H0V0z\" fill=\"none\"/>\n",
              "    <path d=\"M18.56 5.44l.94 2.06.94-2.06 2.06-.94-2.06-.94-.94-2.06-.94 2.06-2.06.94zm-11 1L8.5 8.5l.94-2.06 2.06-.94-2.06-.94L8.5 2.5l-.94 2.06-2.06.94zm10 10l.94 2.06.94-2.06 2.06-.94-2.06-.94-.94-2.06-.94 2.06-2.06.94z\"/><path d=\"M17.41 7.96l-1.37-1.37c-.4-.4-.92-.59-1.43-.59-.52 0-1.04.2-1.43.59L10.3 9.45l-7.72 7.72c-.78.78-.78 2.05 0 2.83L4 21.41c.39.39.9.59 1.41.59.51 0 1.02-.2 1.41-.59l7.78-7.78 2.81-2.81c.8-.78.8-2.07 0-2.86zM5.41 20L4 18.59l7.72-7.72 1.47 1.35L5.41 20z\"/>\n",
              "  </svg>\n",
              "      </button>\n",
              "      \n",
              "  <style>\n",
              "    .colab-df-container {\n",
              "      display:flex;\n",
              "      flex-wrap:wrap;\n",
              "      gap: 12px;\n",
              "    }\n",
              "\n",
              "    .colab-df-convert {\n",
              "      background-color: #E8F0FE;\n",
              "      border: none;\n",
              "      border-radius: 50%;\n",
              "      cursor: pointer;\n",
              "      display: none;\n",
              "      fill: #1967D2;\n",
              "      height: 32px;\n",
              "      padding: 0 0 0 0;\n",
              "      width: 32px;\n",
              "    }\n",
              "\n",
              "    .colab-df-convert:hover {\n",
              "      background-color: #E2EBFA;\n",
              "      box-shadow: 0px 1px 2px rgba(60, 64, 67, 0.3), 0px 1px 3px 1px rgba(60, 64, 67, 0.15);\n",
              "      fill: #174EA6;\n",
              "    }\n",
              "\n",
              "    [theme=dark] .colab-df-convert {\n",
              "      background-color: #3B4455;\n",
              "      fill: #D2E3FC;\n",
              "    }\n",
              "\n",
              "    [theme=dark] .colab-df-convert:hover {\n",
              "      background-color: #434B5C;\n",
              "      box-shadow: 0px 1px 3px 1px rgba(0, 0, 0, 0.15);\n",
              "      filter: drop-shadow(0px 1px 2px rgba(0, 0, 0, 0.3));\n",
              "      fill: #FFFFFF;\n",
              "    }\n",
              "  </style>\n",
              "\n",
              "      <script>\n",
              "        const buttonEl =\n",
              "          document.querySelector('#df-8c63d987-4e2e-4d5a-bdde-7f7714b65f53 button.colab-df-convert');\n",
              "        buttonEl.style.display =\n",
              "          google.colab.kernel.accessAllowed ? 'block' : 'none';\n",
              "\n",
              "        async function convertToInteractive(key) {\n",
              "          const element = document.querySelector('#df-8c63d987-4e2e-4d5a-bdde-7f7714b65f53');\n",
              "          const dataTable =\n",
              "            await google.colab.kernel.invokeFunction('convertToInteractive',\n",
              "                                                     [key], {});\n",
              "          if (!dataTable) return;\n",
              "\n",
              "          const docLinkHtml = 'Like what you see? Visit the ' +\n",
              "            '<a target=\"_blank\" href=https://colab.research.google.com/notebooks/data_table.ipynb>data table notebook</a>'\n",
              "            + ' to learn more about interactive tables.';\n",
              "          element.innerHTML = '';\n",
              "          dataTable['output_type'] = 'display_data';\n",
              "          await google.colab.output.renderOutput(dataTable, element);\n",
              "          const docLink = document.createElement('div');\n",
              "          docLink.innerHTML = docLinkHtml;\n",
              "          element.appendChild(docLink);\n",
              "        }\n",
              "      </script>\n",
              "    </div>\n",
              "  </div>\n",
              "  "
            ]
          },
          "metadata": {},
          "execution_count": 103
        }
      ]
    },
    {
      "cell_type": "code",
      "metadata": {
        "id": "vl3qXL3JAmKv",
        "colab": {
          "base_uri": "https://localhost:8080/"
        },
        "outputId": "fc6c69f9-2416-484f-c853-8b1cdcd2a831"
      },
      "source": [
        "# Usando el modelo para predecir\n",
        "\n",
        "X_train['probability'] = rfc.predict_proba(X_train[features])[:,1]\n",
        "X_test['probability']  = rfc.predict_proba(X_test[features])[:,1]\n",
        "\n",
        "X_train['prediction'] = rfc.predict(X_train[features])\n",
        "X_test['prediction']  = rfc.predict(X_test[features])\n",
        "\n"
      ],
      "execution_count": null,
      "outputs": [
        {
          "output_type": "stream",
          "name": "stderr",
          "text": [
            "[Parallel(n_jobs=4)]: Using backend ThreadingBackend with 4 concurrent workers.\n",
            "[Parallel(n_jobs=4)]: Done  42 tasks      | elapsed:    0.1s\n",
            "[Parallel(n_jobs=4)]: Done 100 out of 100 | elapsed:    0.2s finished\n",
            "[Parallel(n_jobs=4)]: Using backend ThreadingBackend with 4 concurrent workers.\n",
            "[Parallel(n_jobs=4)]: Done  42 tasks      | elapsed:    0.0s\n",
            "[Parallel(n_jobs=4)]: Done 100 out of 100 | elapsed:    0.1s finished\n",
            "[Parallel(n_jobs=4)]: Using backend ThreadingBackend with 4 concurrent workers.\n",
            "[Parallel(n_jobs=4)]: Done  42 tasks      | elapsed:    0.1s\n",
            "[Parallel(n_jobs=4)]: Done 100 out of 100 | elapsed:    0.2s finished\n",
            "[Parallel(n_jobs=4)]: Using backend ThreadingBackend with 4 concurrent workers.\n",
            "[Parallel(n_jobs=4)]: Done  42 tasks      | elapsed:    0.0s\n",
            "[Parallel(n_jobs=4)]: Done 100 out of 100 | elapsed:    0.1s finished\n"
          ]
        }
      ]
    },
    {
      "cell_type": "code",
      "metadata": {
        "id": "4ffk7L4xBGIb",
        "colab": {
          "base_uri": "https://localhost:8080/",
          "height": 238
        },
        "outputId": "6ac6db66-376b-4abb-f5de-45e859640332"
      },
      "source": [
        "#Resumen de todas las métricas del modelo\n",
        "\n",
        "metricsRfc = pd.DataFrame({'metric':['AUC','Gini','Accuracy','Precision','Recall','F1-score'],\n",
        "                                'rfc_train':[roc_auc_score(y_train, X_train.probability),\n",
        "                                        (roc_auc_score(y_train, X_train.probability)*2-1),\n",
        "                                        accuracy_score(y_train, X_train.prediction),\n",
        "                                        precision_score(y_train, X_train.prediction),\n",
        "                                        recall_score(y_train, X_train.prediction),\n",
        "                                        f1_score(y_train, X_train.prediction)],\n",
        "\n",
        "                                'rfc_test':[roc_auc_score(y_test, X_test.probability),\n",
        "                                        (roc_auc_score(y_test, X_test.probability)*2-1),\n",
        "                                        accuracy_score(y_test, X_test.prediction),\n",
        "                                        precision_score(y_test, X_test.prediction),\n",
        "                                        recall_score(y_test, X_test.prediction),\n",
        "                                        f1_score(y_test, X_test.prediction)]})\n",
        "\n",
        " \n",
        "metricsRes = pd.merge(metricsDtree_w, metricsRfc, on = 'metric', how='left') \n",
        "metricsRes        "
      ],
      "execution_count": null,
      "outputs": [
        {
          "output_type": "execute_result",
          "data": {
            "text/plain": [
              "      metric  dTree_w_train  dTree_w_test  rfc_train  rfc_test\n",
              "0        AUC       0.806572      0.792548   0.804376  0.801842\n",
              "1       Gini       0.613143      0.585097   0.608752  0.603685\n",
              "2   Accuracy       0.638535      0.643778   0.711486  0.711041\n",
              "3  Precision       0.085395      0.083506   0.090712  0.091262\n",
              "4     Recall       0.837607      0.802661   0.697056  0.703991\n",
              "5   F1-score       0.154988      0.151275   0.160534  0.161578"
            ],
            "text/html": [
              "\n",
              "  <div id=\"df-1dfa2e37-d371-4655-8f57-a619ffec679b\">\n",
              "    <div class=\"colab-df-container\">\n",
              "      <div>\n",
              "<style scoped>\n",
              "    .dataframe tbody tr th:only-of-type {\n",
              "        vertical-align: middle;\n",
              "    }\n",
              "\n",
              "    .dataframe tbody tr th {\n",
              "        vertical-align: top;\n",
              "    }\n",
              "\n",
              "    .dataframe thead th {\n",
              "        text-align: right;\n",
              "    }\n",
              "</style>\n",
              "<table border=\"1\" class=\"dataframe\">\n",
              "  <thead>\n",
              "    <tr style=\"text-align: right;\">\n",
              "      <th></th>\n",
              "      <th>metric</th>\n",
              "      <th>dTree_w_train</th>\n",
              "      <th>dTree_w_test</th>\n",
              "      <th>rfc_train</th>\n",
              "      <th>rfc_test</th>\n",
              "    </tr>\n",
              "  </thead>\n",
              "  <tbody>\n",
              "    <tr>\n",
              "      <th>0</th>\n",
              "      <td>AUC</td>\n",
              "      <td>0.806572</td>\n",
              "      <td>0.792548</td>\n",
              "      <td>0.804376</td>\n",
              "      <td>0.801842</td>\n",
              "    </tr>\n",
              "    <tr>\n",
              "      <th>1</th>\n",
              "      <td>Gini</td>\n",
              "      <td>0.613143</td>\n",
              "      <td>0.585097</td>\n",
              "      <td>0.608752</td>\n",
              "      <td>0.603685</td>\n",
              "    </tr>\n",
              "    <tr>\n",
              "      <th>2</th>\n",
              "      <td>Accuracy</td>\n",
              "      <td>0.638535</td>\n",
              "      <td>0.643778</td>\n",
              "      <td>0.711486</td>\n",
              "      <td>0.711041</td>\n",
              "    </tr>\n",
              "    <tr>\n",
              "      <th>3</th>\n",
              "      <td>Precision</td>\n",
              "      <td>0.085395</td>\n",
              "      <td>0.083506</td>\n",
              "      <td>0.090712</td>\n",
              "      <td>0.091262</td>\n",
              "    </tr>\n",
              "    <tr>\n",
              "      <th>4</th>\n",
              "      <td>Recall</td>\n",
              "      <td>0.837607</td>\n",
              "      <td>0.802661</td>\n",
              "      <td>0.697056</td>\n",
              "      <td>0.703991</td>\n",
              "    </tr>\n",
              "    <tr>\n",
              "      <th>5</th>\n",
              "      <td>F1-score</td>\n",
              "      <td>0.154988</td>\n",
              "      <td>0.151275</td>\n",
              "      <td>0.160534</td>\n",
              "      <td>0.161578</td>\n",
              "    </tr>\n",
              "  </tbody>\n",
              "</table>\n",
              "</div>\n",
              "      <button class=\"colab-df-convert\" onclick=\"convertToInteractive('df-1dfa2e37-d371-4655-8f57-a619ffec679b')\"\n",
              "              title=\"Convert this dataframe to an interactive table.\"\n",
              "              style=\"display:none;\">\n",
              "        \n",
              "  <svg xmlns=\"http://www.w3.org/2000/svg\" height=\"24px\"viewBox=\"0 0 24 24\"\n",
              "       width=\"24px\">\n",
              "    <path d=\"M0 0h24v24H0V0z\" fill=\"none\"/>\n",
              "    <path d=\"M18.56 5.44l.94 2.06.94-2.06 2.06-.94-2.06-.94-.94-2.06-.94 2.06-2.06.94zm-11 1L8.5 8.5l.94-2.06 2.06-.94-2.06-.94L8.5 2.5l-.94 2.06-2.06.94zm10 10l.94 2.06.94-2.06 2.06-.94-2.06-.94-.94-2.06-.94 2.06-2.06.94z\"/><path d=\"M17.41 7.96l-1.37-1.37c-.4-.4-.92-.59-1.43-.59-.52 0-1.04.2-1.43.59L10.3 9.45l-7.72 7.72c-.78.78-.78 2.05 0 2.83L4 21.41c.39.39.9.59 1.41.59.51 0 1.02-.2 1.41-.59l7.78-7.78 2.81-2.81c.8-.78.8-2.07 0-2.86zM5.41 20L4 18.59l7.72-7.72 1.47 1.35L5.41 20z\"/>\n",
              "  </svg>\n",
              "      </button>\n",
              "      \n",
              "  <style>\n",
              "    .colab-df-container {\n",
              "      display:flex;\n",
              "      flex-wrap:wrap;\n",
              "      gap: 12px;\n",
              "    }\n",
              "\n",
              "    .colab-df-convert {\n",
              "      background-color: #E8F0FE;\n",
              "      border: none;\n",
              "      border-radius: 50%;\n",
              "      cursor: pointer;\n",
              "      display: none;\n",
              "      fill: #1967D2;\n",
              "      height: 32px;\n",
              "      padding: 0 0 0 0;\n",
              "      width: 32px;\n",
              "    }\n",
              "\n",
              "    .colab-df-convert:hover {\n",
              "      background-color: #E2EBFA;\n",
              "      box-shadow: 0px 1px 2px rgba(60, 64, 67, 0.3), 0px 1px 3px 1px rgba(60, 64, 67, 0.15);\n",
              "      fill: #174EA6;\n",
              "    }\n",
              "\n",
              "    [theme=dark] .colab-df-convert {\n",
              "      background-color: #3B4455;\n",
              "      fill: #D2E3FC;\n",
              "    }\n",
              "\n",
              "    [theme=dark] .colab-df-convert:hover {\n",
              "      background-color: #434B5C;\n",
              "      box-shadow: 0px 1px 3px 1px rgba(0, 0, 0, 0.15);\n",
              "      filter: drop-shadow(0px 1px 2px rgba(0, 0, 0, 0.3));\n",
              "      fill: #FFFFFF;\n",
              "    }\n",
              "  </style>\n",
              "\n",
              "      <script>\n",
              "        const buttonEl =\n",
              "          document.querySelector('#df-1dfa2e37-d371-4655-8f57-a619ffec679b button.colab-df-convert');\n",
              "        buttonEl.style.display =\n",
              "          google.colab.kernel.accessAllowed ? 'block' : 'none';\n",
              "\n",
              "        async function convertToInteractive(key) {\n",
              "          const element = document.querySelector('#df-1dfa2e37-d371-4655-8f57-a619ffec679b');\n",
              "          const dataTable =\n",
              "            await google.colab.kernel.invokeFunction('convertToInteractive',\n",
              "                                                     [key], {});\n",
              "          if (!dataTable) return;\n",
              "\n",
              "          const docLinkHtml = 'Like what you see? Visit the ' +\n",
              "            '<a target=\"_blank\" href=https://colab.research.google.com/notebooks/data_table.ipynb>data table notebook</a>'\n",
              "            + ' to learn more about interactive tables.';\n",
              "          element.innerHTML = '';\n",
              "          dataTable['output_type'] = 'display_data';\n",
              "          await google.colab.output.renderOutput(dataTable, element);\n",
              "          const docLink = document.createElement('div');\n",
              "          docLink.innerHTML = docLinkHtml;\n",
              "          element.appendChild(docLink);\n",
              "        }\n",
              "      </script>\n",
              "    </div>\n",
              "  </div>\n",
              "  "
            ]
          },
          "metadata": {},
          "execution_count": 105
        }
      ]
    },
    {
      "cell_type": "markdown",
      "metadata": {
        "id": "O2fNkkfZ6K2I"
      },
      "source": [
        ""
      ]
    },
    {
      "cell_type": "markdown",
      "metadata": {
        "id": "V1LDuvW4qm9_"
      },
      "source": [
        "# AdaBoost"
      ]
    },
    {
      "cell_type": "code",
      "metadata": {
        "id": "yJ98Ze3jR7Hz"
      },
      "source": [
        "# Muestreo de data\n",
        "\n",
        "from sklearn.model_selection import train_test_split\n",
        "\n",
        "X_train, X_test, y_train, y_test = train_test_split(X, y, \n",
        "                                                    stratify = y,\n",
        "                                                    test_size = 0.3,\n",
        "                                                    random_state = 123)\n"
      ],
      "execution_count": null,
      "outputs": []
    },
    {
      "cell_type": "code",
      "metadata": {
        "id": "wVu1x48_RYgW"
      },
      "source": [
        "# Cargando librerías\n",
        "\n",
        "from sklearn.ensemble import AdaBoostClassifier\n",
        "from sklearn.tree import DecisionTreeClassifier\n",
        "import time\n"
      ],
      "execution_count": null,
      "outputs": []
    },
    {
      "cell_type": "code",
      "metadata": {
        "id": "teVH6RQmRfnm"
      },
      "source": [
        "# Configuramos el modelo de adaboost\n",
        "\n",
        "ada_clf = AdaBoostClassifier(\n",
        "          DecisionTreeClassifier(max_depth = 1),\n",
        "          n_estimators = 200,\n",
        "          algorithm = 'SAMME.R',\n",
        "          learning_rate = 0.5,\n",
        "          random_state = 123)\n"
      ],
      "execution_count": null,
      "outputs": []
    },
    {
      "cell_type": "code",
      "metadata": {
        "colab": {
          "base_uri": "https://localhost:8080/"
        },
        "id": "nsuLZk2AR3qT",
        "outputId": "391b58c9-4b05-4fff-c890-2a36c9518508"
      },
      "source": [
        "start_time = time.time()\n",
        "ada_clf.fit(X_train, y_train)\n",
        "print(\"----%s seconds ---\" % ((time.time() - start_time)))\n"
      ],
      "execution_count": null,
      "outputs": [
        {
          "output_type": "stream",
          "name": "stdout",
          "text": [
            "----47.548227310180664 seconds ---\n"
          ]
        }
      ]
    },
    {
      "cell_type": "code",
      "metadata": {
        "id": "W6Djb2INTCqA",
        "colab": {
          "base_uri": "https://localhost:8080/",
          "height": 424
        },
        "outputId": "316326d3-732a-4dac-e7dc-e5904f1bd3e6"
      },
      "source": [
        "importances = pd.DataFrame({'features' : X_train.columns.tolist() ,\n",
        "                            'importance' : ada_clf.feature_importances_}).sort_values('importance', ascending = False)\n",
        "\n",
        "importances.loc[importances.importance > 0]"
      ],
      "execution_count": null,
      "outputs": [
        {
          "output_type": "execute_result",
          "data": {
            "text/plain": [
              "                          features  importance\n",
              "156                          var38       0.075\n",
              "346                          var15       0.065\n",
              "253                    saldo_var30       0.050\n",
              "79          saldo_medio_var5_hace3       0.050\n",
              "326        imp_op_var39_comer_ult1       0.040\n",
              "..                             ...         ...\n",
              "122        imp_op_var39_efect_ult3       0.005\n",
              "282     num_meses_var13_largo_ult3       0.005\n",
              "129  saldo_medio_var13_corto_hace3       0.005\n",
              "343        saldo_medio_var12_hace3       0.005\n",
              "116        imp_op_var41_efect_ult1       0.005\n",
              "\n",
              "[65 rows x 2 columns]"
            ],
            "text/html": [
              "\n",
              "  <div id=\"df-37710f0a-e35a-420d-8a39-d65ac14a7570\">\n",
              "    <div class=\"colab-df-container\">\n",
              "      <div>\n",
              "<style scoped>\n",
              "    .dataframe tbody tr th:only-of-type {\n",
              "        vertical-align: middle;\n",
              "    }\n",
              "\n",
              "    .dataframe tbody tr th {\n",
              "        vertical-align: top;\n",
              "    }\n",
              "\n",
              "    .dataframe thead th {\n",
              "        text-align: right;\n",
              "    }\n",
              "</style>\n",
              "<table border=\"1\" class=\"dataframe\">\n",
              "  <thead>\n",
              "    <tr style=\"text-align: right;\">\n",
              "      <th></th>\n",
              "      <th>features</th>\n",
              "      <th>importance</th>\n",
              "    </tr>\n",
              "  </thead>\n",
              "  <tbody>\n",
              "    <tr>\n",
              "      <th>156</th>\n",
              "      <td>var38</td>\n",
              "      <td>0.075</td>\n",
              "    </tr>\n",
              "    <tr>\n",
              "      <th>346</th>\n",
              "      <td>var15</td>\n",
              "      <td>0.065</td>\n",
              "    </tr>\n",
              "    <tr>\n",
              "      <th>253</th>\n",
              "      <td>saldo_var30</td>\n",
              "      <td>0.050</td>\n",
              "    </tr>\n",
              "    <tr>\n",
              "      <th>79</th>\n",
              "      <td>saldo_medio_var5_hace3</td>\n",
              "      <td>0.050</td>\n",
              "    </tr>\n",
              "    <tr>\n",
              "      <th>326</th>\n",
              "      <td>imp_op_var39_comer_ult1</td>\n",
              "      <td>0.040</td>\n",
              "    </tr>\n",
              "    <tr>\n",
              "      <th>...</th>\n",
              "      <td>...</td>\n",
              "      <td>...</td>\n",
              "    </tr>\n",
              "    <tr>\n",
              "      <th>122</th>\n",
              "      <td>imp_op_var39_efect_ult3</td>\n",
              "      <td>0.005</td>\n",
              "    </tr>\n",
              "    <tr>\n",
              "      <th>282</th>\n",
              "      <td>num_meses_var13_largo_ult3</td>\n",
              "      <td>0.005</td>\n",
              "    </tr>\n",
              "    <tr>\n",
              "      <th>129</th>\n",
              "      <td>saldo_medio_var13_corto_hace3</td>\n",
              "      <td>0.005</td>\n",
              "    </tr>\n",
              "    <tr>\n",
              "      <th>343</th>\n",
              "      <td>saldo_medio_var12_hace3</td>\n",
              "      <td>0.005</td>\n",
              "    </tr>\n",
              "    <tr>\n",
              "      <th>116</th>\n",
              "      <td>imp_op_var41_efect_ult1</td>\n",
              "      <td>0.005</td>\n",
              "    </tr>\n",
              "  </tbody>\n",
              "</table>\n",
              "<p>65 rows × 2 columns</p>\n",
              "</div>\n",
              "      <button class=\"colab-df-convert\" onclick=\"convertToInteractive('df-37710f0a-e35a-420d-8a39-d65ac14a7570')\"\n",
              "              title=\"Convert this dataframe to an interactive table.\"\n",
              "              style=\"display:none;\">\n",
              "        \n",
              "  <svg xmlns=\"http://www.w3.org/2000/svg\" height=\"24px\"viewBox=\"0 0 24 24\"\n",
              "       width=\"24px\">\n",
              "    <path d=\"M0 0h24v24H0V0z\" fill=\"none\"/>\n",
              "    <path d=\"M18.56 5.44l.94 2.06.94-2.06 2.06-.94-2.06-.94-.94-2.06-.94 2.06-2.06.94zm-11 1L8.5 8.5l.94-2.06 2.06-.94-2.06-.94L8.5 2.5l-.94 2.06-2.06.94zm10 10l.94 2.06.94-2.06 2.06-.94-2.06-.94-.94-2.06-.94 2.06-2.06.94z\"/><path d=\"M17.41 7.96l-1.37-1.37c-.4-.4-.92-.59-1.43-.59-.52 0-1.04.2-1.43.59L10.3 9.45l-7.72 7.72c-.78.78-.78 2.05 0 2.83L4 21.41c.39.39.9.59 1.41.59.51 0 1.02-.2 1.41-.59l7.78-7.78 2.81-2.81c.8-.78.8-2.07 0-2.86zM5.41 20L4 18.59l7.72-7.72 1.47 1.35L5.41 20z\"/>\n",
              "  </svg>\n",
              "      </button>\n",
              "      \n",
              "  <style>\n",
              "    .colab-df-container {\n",
              "      display:flex;\n",
              "      flex-wrap:wrap;\n",
              "      gap: 12px;\n",
              "    }\n",
              "\n",
              "    .colab-df-convert {\n",
              "      background-color: #E8F0FE;\n",
              "      border: none;\n",
              "      border-radius: 50%;\n",
              "      cursor: pointer;\n",
              "      display: none;\n",
              "      fill: #1967D2;\n",
              "      height: 32px;\n",
              "      padding: 0 0 0 0;\n",
              "      width: 32px;\n",
              "    }\n",
              "\n",
              "    .colab-df-convert:hover {\n",
              "      background-color: #E2EBFA;\n",
              "      box-shadow: 0px 1px 2px rgba(60, 64, 67, 0.3), 0px 1px 3px 1px rgba(60, 64, 67, 0.15);\n",
              "      fill: #174EA6;\n",
              "    }\n",
              "\n",
              "    [theme=dark] .colab-df-convert {\n",
              "      background-color: #3B4455;\n",
              "      fill: #D2E3FC;\n",
              "    }\n",
              "\n",
              "    [theme=dark] .colab-df-convert:hover {\n",
              "      background-color: #434B5C;\n",
              "      box-shadow: 0px 1px 3px 1px rgba(0, 0, 0, 0.15);\n",
              "      filter: drop-shadow(0px 1px 2px rgba(0, 0, 0, 0.3));\n",
              "      fill: #FFFFFF;\n",
              "    }\n",
              "  </style>\n",
              "\n",
              "      <script>\n",
              "        const buttonEl =\n",
              "          document.querySelector('#df-37710f0a-e35a-420d-8a39-d65ac14a7570 button.colab-df-convert');\n",
              "        buttonEl.style.display =\n",
              "          google.colab.kernel.accessAllowed ? 'block' : 'none';\n",
              "\n",
              "        async function convertToInteractive(key) {\n",
              "          const element = document.querySelector('#df-37710f0a-e35a-420d-8a39-d65ac14a7570');\n",
              "          const dataTable =\n",
              "            await google.colab.kernel.invokeFunction('convertToInteractive',\n",
              "                                                     [key], {});\n",
              "          if (!dataTable) return;\n",
              "\n",
              "          const docLinkHtml = 'Like what you see? Visit the ' +\n",
              "            '<a target=\"_blank\" href=https://colab.research.google.com/notebooks/data_table.ipynb>data table notebook</a>'\n",
              "            + ' to learn more about interactive tables.';\n",
              "          element.innerHTML = '';\n",
              "          dataTable['output_type'] = 'display_data';\n",
              "          await google.colab.output.renderOutput(dataTable, element);\n",
              "          const docLink = document.createElement('div');\n",
              "          docLink.innerHTML = docLinkHtml;\n",
              "          element.appendChild(docLink);\n",
              "        }\n",
              "      </script>\n",
              "    </div>\n",
              "  </div>\n",
              "  "
            ]
          },
          "metadata": {},
          "execution_count": 110
        }
      ]
    },
    {
      "cell_type": "code",
      "metadata": {
        "id": "KH8IEp0BTHr0"
      },
      "source": [
        "# Usando el modelo para predecir\n",
        "\n",
        "X_train['probability'] = ada_clf.predict_proba(X_train[features])[:,1]\n",
        "X_test['probability']  = ada_clf.predict_proba(X_test[features])[:,1]\n",
        "\n",
        "X_train['prediction'] = ada_clf.predict(X_train[features])\n",
        "X_test['prediction']  = ada_clf.predict(X_test[features])\n",
        "\n"
      ],
      "execution_count": null,
      "outputs": []
    },
    {
      "cell_type": "code",
      "metadata": {
        "colab": {
          "base_uri": "https://localhost:8080/",
          "height": 238
        },
        "id": "4sciIpB0TP1T",
        "outputId": "e9e84ce4-974b-4f1d-8d62-9f159fd5e01f"
      },
      "source": [
        "#Resumen de todas las métricas del modelo\n",
        "\n",
        "metricsAdab = pd.DataFrame({'metric':['AUC','Gini','Accuracy','Precision','Recall','F1-score'],\n",
        "                                'adab_train':[roc_auc_score(y_train, X_train.probability),\n",
        "                                        (roc_auc_score(y_train, X_train.probability)*2-1),\n",
        "                                        accuracy_score(y_train, X_train.prediction),\n",
        "                                        precision_score(y_train, X_train.prediction),\n",
        "                                        recall_score(y_train, X_train.prediction),\n",
        "                                        f1_score(y_train, X_train.prediction)],\n",
        "\n",
        "                                'adab_test':[roc_auc_score(y_test, X_test.probability),\n",
        "                                        (roc_auc_score(y_test, X_test.probability)*2-1),\n",
        "                                        accuracy_score(y_test, X_test.prediction),\n",
        "                                        precision_score(y_test, X_test.prediction),\n",
        "                                        recall_score(y_test, X_test.prediction),\n",
        "                                        f1_score(y_test, X_test.prediction)]})\n",
        "\n",
        " \n",
        "metricsRes = pd.merge(metricsRes, metricsAdab, on = 'metric', how='left') \n",
        "metricsRes        "
      ],
      "execution_count": null,
      "outputs": [
        {
          "output_type": "execute_result",
          "data": {
            "text/plain": [
              "      metric  dTree_w_train  dTree_w_test  rfc_train  rfc_test  adab_train  \\\n",
              "0        AUC       0.806572      0.792548   0.804376  0.801842    0.858622   \n",
              "1       Gini       0.613143      0.585097   0.608752  0.603685    0.717244   \n",
              "2   Accuracy       0.638535      0.643778   0.711486  0.711041    0.960631   \n",
              "3  Precision       0.085395      0.083506   0.090712  0.091262    0.720000   \n",
              "4     Recall       0.837607      0.802661   0.697056  0.703991    0.008547   \n",
              "5   F1-score       0.154988      0.151275   0.160534  0.161578    0.016893   \n",
              "\n",
              "   adab_test  \n",
              "0   0.821658  \n",
              "1   0.643317  \n",
              "2   0.960405  \n",
              "3   0.444444  \n",
              "4   0.004435  \n",
              "5   0.008782  "
            ],
            "text/html": [
              "\n",
              "  <div id=\"df-3270126e-bf60-4b84-9887-5dae3b1b9d8b\">\n",
              "    <div class=\"colab-df-container\">\n",
              "      <div>\n",
              "<style scoped>\n",
              "    .dataframe tbody tr th:only-of-type {\n",
              "        vertical-align: middle;\n",
              "    }\n",
              "\n",
              "    .dataframe tbody tr th {\n",
              "        vertical-align: top;\n",
              "    }\n",
              "\n",
              "    .dataframe thead th {\n",
              "        text-align: right;\n",
              "    }\n",
              "</style>\n",
              "<table border=\"1\" class=\"dataframe\">\n",
              "  <thead>\n",
              "    <tr style=\"text-align: right;\">\n",
              "      <th></th>\n",
              "      <th>metric</th>\n",
              "      <th>dTree_w_train</th>\n",
              "      <th>dTree_w_test</th>\n",
              "      <th>rfc_train</th>\n",
              "      <th>rfc_test</th>\n",
              "      <th>adab_train</th>\n",
              "      <th>adab_test</th>\n",
              "    </tr>\n",
              "  </thead>\n",
              "  <tbody>\n",
              "    <tr>\n",
              "      <th>0</th>\n",
              "      <td>AUC</td>\n",
              "      <td>0.806572</td>\n",
              "      <td>0.792548</td>\n",
              "      <td>0.804376</td>\n",
              "      <td>0.801842</td>\n",
              "      <td>0.858622</td>\n",
              "      <td>0.821658</td>\n",
              "    </tr>\n",
              "    <tr>\n",
              "      <th>1</th>\n",
              "      <td>Gini</td>\n",
              "      <td>0.613143</td>\n",
              "      <td>0.585097</td>\n",
              "      <td>0.608752</td>\n",
              "      <td>0.603685</td>\n",
              "      <td>0.717244</td>\n",
              "      <td>0.643317</td>\n",
              "    </tr>\n",
              "    <tr>\n",
              "      <th>2</th>\n",
              "      <td>Accuracy</td>\n",
              "      <td>0.638535</td>\n",
              "      <td>0.643778</td>\n",
              "      <td>0.711486</td>\n",
              "      <td>0.711041</td>\n",
              "      <td>0.960631</td>\n",
              "      <td>0.960405</td>\n",
              "    </tr>\n",
              "    <tr>\n",
              "      <th>3</th>\n",
              "      <td>Precision</td>\n",
              "      <td>0.085395</td>\n",
              "      <td>0.083506</td>\n",
              "      <td>0.090712</td>\n",
              "      <td>0.091262</td>\n",
              "      <td>0.720000</td>\n",
              "      <td>0.444444</td>\n",
              "    </tr>\n",
              "    <tr>\n",
              "      <th>4</th>\n",
              "      <td>Recall</td>\n",
              "      <td>0.837607</td>\n",
              "      <td>0.802661</td>\n",
              "      <td>0.697056</td>\n",
              "      <td>0.703991</td>\n",
              "      <td>0.008547</td>\n",
              "      <td>0.004435</td>\n",
              "    </tr>\n",
              "    <tr>\n",
              "      <th>5</th>\n",
              "      <td>F1-score</td>\n",
              "      <td>0.154988</td>\n",
              "      <td>0.151275</td>\n",
              "      <td>0.160534</td>\n",
              "      <td>0.161578</td>\n",
              "      <td>0.016893</td>\n",
              "      <td>0.008782</td>\n",
              "    </tr>\n",
              "  </tbody>\n",
              "</table>\n",
              "</div>\n",
              "      <button class=\"colab-df-convert\" onclick=\"convertToInteractive('df-3270126e-bf60-4b84-9887-5dae3b1b9d8b')\"\n",
              "              title=\"Convert this dataframe to an interactive table.\"\n",
              "              style=\"display:none;\">\n",
              "        \n",
              "  <svg xmlns=\"http://www.w3.org/2000/svg\" height=\"24px\"viewBox=\"0 0 24 24\"\n",
              "       width=\"24px\">\n",
              "    <path d=\"M0 0h24v24H0V0z\" fill=\"none\"/>\n",
              "    <path d=\"M18.56 5.44l.94 2.06.94-2.06 2.06-.94-2.06-.94-.94-2.06-.94 2.06-2.06.94zm-11 1L8.5 8.5l.94-2.06 2.06-.94-2.06-.94L8.5 2.5l-.94 2.06-2.06.94zm10 10l.94 2.06.94-2.06 2.06-.94-2.06-.94-.94-2.06-.94 2.06-2.06.94z\"/><path d=\"M17.41 7.96l-1.37-1.37c-.4-.4-.92-.59-1.43-.59-.52 0-1.04.2-1.43.59L10.3 9.45l-7.72 7.72c-.78.78-.78 2.05 0 2.83L4 21.41c.39.39.9.59 1.41.59.51 0 1.02-.2 1.41-.59l7.78-7.78 2.81-2.81c.8-.78.8-2.07 0-2.86zM5.41 20L4 18.59l7.72-7.72 1.47 1.35L5.41 20z\"/>\n",
              "  </svg>\n",
              "      </button>\n",
              "      \n",
              "  <style>\n",
              "    .colab-df-container {\n",
              "      display:flex;\n",
              "      flex-wrap:wrap;\n",
              "      gap: 12px;\n",
              "    }\n",
              "\n",
              "    .colab-df-convert {\n",
              "      background-color: #E8F0FE;\n",
              "      border: none;\n",
              "      border-radius: 50%;\n",
              "      cursor: pointer;\n",
              "      display: none;\n",
              "      fill: #1967D2;\n",
              "      height: 32px;\n",
              "      padding: 0 0 0 0;\n",
              "      width: 32px;\n",
              "    }\n",
              "\n",
              "    .colab-df-convert:hover {\n",
              "      background-color: #E2EBFA;\n",
              "      box-shadow: 0px 1px 2px rgba(60, 64, 67, 0.3), 0px 1px 3px 1px rgba(60, 64, 67, 0.15);\n",
              "      fill: #174EA6;\n",
              "    }\n",
              "\n",
              "    [theme=dark] .colab-df-convert {\n",
              "      background-color: #3B4455;\n",
              "      fill: #D2E3FC;\n",
              "    }\n",
              "\n",
              "    [theme=dark] .colab-df-convert:hover {\n",
              "      background-color: #434B5C;\n",
              "      box-shadow: 0px 1px 3px 1px rgba(0, 0, 0, 0.15);\n",
              "      filter: drop-shadow(0px 1px 2px rgba(0, 0, 0, 0.3));\n",
              "      fill: #FFFFFF;\n",
              "    }\n",
              "  </style>\n",
              "\n",
              "      <script>\n",
              "        const buttonEl =\n",
              "          document.querySelector('#df-3270126e-bf60-4b84-9887-5dae3b1b9d8b button.colab-df-convert');\n",
              "        buttonEl.style.display =\n",
              "          google.colab.kernel.accessAllowed ? 'block' : 'none';\n",
              "\n",
              "        async function convertToInteractive(key) {\n",
              "          const element = document.querySelector('#df-3270126e-bf60-4b84-9887-5dae3b1b9d8b');\n",
              "          const dataTable =\n",
              "            await google.colab.kernel.invokeFunction('convertToInteractive',\n",
              "                                                     [key], {});\n",
              "          if (!dataTable) return;\n",
              "\n",
              "          const docLinkHtml = 'Like what you see? Visit the ' +\n",
              "            '<a target=\"_blank\" href=https://colab.research.google.com/notebooks/data_table.ipynb>data table notebook</a>'\n",
              "            + ' to learn more about interactive tables.';\n",
              "          element.innerHTML = '';\n",
              "          dataTable['output_type'] = 'display_data';\n",
              "          await google.colab.output.renderOutput(dataTable, element);\n",
              "          const docLink = document.createElement('div');\n",
              "          docLink.innerHTML = docLinkHtml;\n",
              "          element.appendChild(docLink);\n",
              "        }\n",
              "      </script>\n",
              "    </div>\n",
              "  </div>\n",
              "  "
            ]
          },
          "metadata": {},
          "execution_count": 112
        }
      ]
    },
    {
      "cell_type": "markdown",
      "metadata": {
        "id": "k22vTC0X1nLV"
      },
      "source": [
        "# XGBoost"
      ]
    },
    {
      "cell_type": "code",
      "metadata": {
        "id": "5hmm0d4tTyir"
      },
      "source": [
        "# Muestreo de data\n",
        "\n",
        "from sklearn.model_selection import train_test_split\n",
        "\n",
        "X_train, X_test, y_train, y_test = train_test_split(X, y, \n",
        "                                                    stratify = y,\n",
        "                                                    test_size = 0.3,\n",
        "                                                    random_state = 123)\n"
      ],
      "execution_count": 5,
      "outputs": []
    },
    {
      "cell_type": "code",
      "metadata": {
        "id": "iFg_jH_oTshe"
      },
      "source": [
        "# Cargando librerías\n",
        "\n",
        "import numpy as np\n",
        "import xgboost as xgb"
      ],
      "execution_count": 6,
      "outputs": []
    },
    {
      "cell_type": "code",
      "metadata": {
        "id": "wBuS6S3CT2Ji"
      },
      "source": [
        "\n",
        "dtrain = xgb.DMatrix(X_train, label = y_train)\n",
        "dtest  = xgb.DMatrix(X_test, label = y_test)\n"
      ],
      "execution_count": 7,
      "outputs": []
    },
    {
      "cell_type": "code",
      "metadata": {
        "id": "mp_hF3TNUBlQ"
      },
      "source": [
        "# Definiendo parámetros\n",
        "\n",
        "param = {'objetive' : 'binary_logistic',\n",
        "         'max_depth' : 8,\n",
        "         'learning_rate': 0.05,\n",
        "         'seed' : 123,\n",
        "         'min_data_leaf' : int(round(y_train.shape[0]*0.01,0)),\n",
        "         'grow_policy' : 'lossguide'}\n",
        "\n",
        "param['eval_metric'] = 'auc'\n",
        "num_round = 300         \n",
        "\n",
        "evallist = [(dtrain,'train'), (dtest,'valid')]"
      ],
      "execution_count": 8,
      "outputs": []
    },
    {
      "cell_type": "code",
      "metadata": {
        "id": "nsoCfJBDT8_k",
        "colab": {
          "base_uri": "https://localhost:8080/"
        },
        "outputId": "807dd4a1-18bb-405d-9c38-4f7812d45209"
      },
      "source": [
        "import time\n",
        "\n",
        "start_time = time.time()\n",
        "xgBoost = xgb.train(param, dtrain, num_round, evallist, \n",
        "                    early_stopping_rounds = 10)\n",
        "print(\"----%s seconds ---\" % ((time.time() - start_time)))\n"
      ],
      "execution_count": 10,
      "outputs": [
        {
          "output_type": "stream",
          "name": "stdout",
          "text": [
            "[0]\ttrain-auc:0.844481\tvalid-auc:0.810516\n",
            "Multiple eval metrics have been passed: 'valid-auc' will be used for early stopping.\n",
            "\n",
            "Will train until valid-auc hasn't improved in 10 rounds.\n",
            "[1]\ttrain-auc:0.848087\tvalid-auc:0.812872\n",
            "[2]\ttrain-auc:0.84898\tvalid-auc:0.813589\n",
            "[3]\ttrain-auc:0.850116\tvalid-auc:0.814109\n",
            "[4]\ttrain-auc:0.854076\tvalid-auc:0.815951\n",
            "[5]\ttrain-auc:0.857889\tvalid-auc:0.818954\n",
            "[6]\ttrain-auc:0.860024\tvalid-auc:0.820378\n",
            "[7]\ttrain-auc:0.861052\tvalid-auc:0.820038\n",
            "[8]\ttrain-auc:0.861382\tvalid-auc:0.820159\n",
            "[9]\ttrain-auc:0.863015\tvalid-auc:0.821463\n",
            "[10]\ttrain-auc:0.864243\tvalid-auc:0.821015\n",
            "[11]\ttrain-auc:0.864603\tvalid-auc:0.821189\n",
            "[12]\ttrain-auc:0.865923\tvalid-auc:0.822253\n",
            "[13]\ttrain-auc:0.866923\tvalid-auc:0.822619\n",
            "[14]\ttrain-auc:0.868345\tvalid-auc:0.822985\n",
            "[15]\ttrain-auc:0.869441\tvalid-auc:0.824924\n",
            "[16]\ttrain-auc:0.870931\tvalid-auc:0.825178\n",
            "[17]\ttrain-auc:0.87141\tvalid-auc:0.824844\n",
            "[18]\ttrain-auc:0.872809\tvalid-auc:0.82596\n",
            "[19]\ttrain-auc:0.874678\tvalid-auc:0.825923\n",
            "[20]\ttrain-auc:0.876041\tvalid-auc:0.825959\n",
            "[21]\ttrain-auc:0.877281\tvalid-auc:0.825835\n",
            "[22]\ttrain-auc:0.87813\tvalid-auc:0.826035\n",
            "[23]\ttrain-auc:0.879271\tvalid-auc:0.826169\n",
            "[24]\ttrain-auc:0.880353\tvalid-auc:0.826121\n",
            "[25]\ttrain-auc:0.881954\tvalid-auc:0.826707\n",
            "[26]\ttrain-auc:0.88361\tvalid-auc:0.827315\n",
            "[27]\ttrain-auc:0.884483\tvalid-auc:0.827619\n",
            "[28]\ttrain-auc:0.885296\tvalid-auc:0.82823\n",
            "[29]\ttrain-auc:0.885645\tvalid-auc:0.828158\n",
            "[30]\ttrain-auc:0.885924\tvalid-auc:0.828468\n",
            "[31]\ttrain-auc:0.886195\tvalid-auc:0.828861\n",
            "[32]\ttrain-auc:0.88708\tvalid-auc:0.829252\n",
            "[33]\ttrain-auc:0.887463\tvalid-auc:0.829225\n",
            "[34]\ttrain-auc:0.889071\tvalid-auc:0.829152\n",
            "[35]\ttrain-auc:0.889732\tvalid-auc:0.82922\n",
            "[36]\ttrain-auc:0.890919\tvalid-auc:0.829343\n",
            "[37]\ttrain-auc:0.891333\tvalid-auc:0.829277\n",
            "[38]\ttrain-auc:0.891812\tvalid-auc:0.829167\n",
            "[39]\ttrain-auc:0.892845\tvalid-auc:0.829391\n",
            "[40]\ttrain-auc:0.893674\tvalid-auc:0.829673\n",
            "[41]\ttrain-auc:0.894399\tvalid-auc:0.829881\n",
            "[42]\ttrain-auc:0.894681\tvalid-auc:0.830247\n",
            "[43]\ttrain-auc:0.895757\tvalid-auc:0.830322\n",
            "[44]\ttrain-auc:0.896265\tvalid-auc:0.830333\n",
            "[45]\ttrain-auc:0.897549\tvalid-auc:0.83033\n",
            "[46]\ttrain-auc:0.898242\tvalid-auc:0.830361\n",
            "[47]\ttrain-auc:0.898678\tvalid-auc:0.830444\n",
            "[48]\ttrain-auc:0.899139\tvalid-auc:0.83036\n",
            "[49]\ttrain-auc:0.899622\tvalid-auc:0.830012\n",
            "[50]\ttrain-auc:0.900249\tvalid-auc:0.830231\n",
            "[51]\ttrain-auc:0.901174\tvalid-auc:0.830449\n",
            "[52]\ttrain-auc:0.90201\tvalid-auc:0.830724\n",
            "[53]\ttrain-auc:0.902421\tvalid-auc:0.830647\n",
            "[54]\ttrain-auc:0.902757\tvalid-auc:0.830687\n",
            "[55]\ttrain-auc:0.903196\tvalid-auc:0.830746\n",
            "[56]\ttrain-auc:0.9039\tvalid-auc:0.830923\n",
            "[57]\ttrain-auc:0.904193\tvalid-auc:0.830955\n",
            "[58]\ttrain-auc:0.904506\tvalid-auc:0.830888\n",
            "[59]\ttrain-auc:0.904736\tvalid-auc:0.83089\n",
            "[60]\ttrain-auc:0.904961\tvalid-auc:0.830821\n",
            "[61]\ttrain-auc:0.90539\tvalid-auc:0.830705\n",
            "[62]\ttrain-auc:0.905523\tvalid-auc:0.83056\n",
            "[63]\ttrain-auc:0.905932\tvalid-auc:0.830754\n",
            "[64]\ttrain-auc:0.90639\tvalid-auc:0.830743\n",
            "[65]\ttrain-auc:0.906478\tvalid-auc:0.830639\n",
            "[66]\ttrain-auc:0.9067\tvalid-auc:0.830962\n",
            "[67]\ttrain-auc:0.906996\tvalid-auc:0.830884\n",
            "[68]\ttrain-auc:0.907234\tvalid-auc:0.830856\n",
            "[69]\ttrain-auc:0.907506\tvalid-auc:0.830953\n",
            "[70]\ttrain-auc:0.907808\tvalid-auc:0.830904\n",
            "[71]\ttrain-auc:0.907937\tvalid-auc:0.830918\n",
            "[72]\ttrain-auc:0.908647\tvalid-auc:0.830825\n",
            "[73]\ttrain-auc:0.909082\tvalid-auc:0.831033\n",
            "[74]\ttrain-auc:0.909182\tvalid-auc:0.830996\n",
            "[75]\ttrain-auc:0.909301\tvalid-auc:0.83085\n",
            "[76]\ttrain-auc:0.909354\tvalid-auc:0.830877\n",
            "[77]\ttrain-auc:0.910009\tvalid-auc:0.830551\n",
            "[78]\ttrain-auc:0.910122\tvalid-auc:0.830496\n",
            "[79]\ttrain-auc:0.91016\tvalid-auc:0.830486\n",
            "[80]\ttrain-auc:0.910251\tvalid-auc:0.830486\n",
            "[81]\ttrain-auc:0.910364\tvalid-auc:0.830494\n",
            "[82]\ttrain-auc:0.910748\tvalid-auc:0.830453\n",
            "[83]\ttrain-auc:0.91093\tvalid-auc:0.829935\n",
            "Stopping. Best iteration:\n",
            "[73]\ttrain-auc:0.909082\tvalid-auc:0.831033\n",
            "\n",
            "----41.15146732330322 seconds ---\n"
          ]
        }
      ]
    },
    {
      "cell_type": "markdown",
      "metadata": {
        "id": "C4z0wIVH-MIX"
      },
      "source": [
        "<b>Variables del Modelo</b>"
      ]
    },
    {
      "cell_type": "code",
      "metadata": {
        "id": "H4AWrUcz-Q3K"
      },
      "source": [
        "importance = xgBoost.get_score(importance_type = 'total_gain')\n",
        "importance"
      ],
      "execution_count": null,
      "outputs": []
    },
    {
      "cell_type": "code",
      "metadata": {
        "id": "yg81nbtE_WzY",
        "colab": {
          "base_uri": "https://localhost:8080/",
          "height": 319
        },
        "outputId": "8a83bb9f-d8f4-4d35-de5b-fc6d088bab6b"
      },
      "source": [
        "xgb.plot_importance(xgBoost, max_num_features=20, importance_type = 'total_gain')"
      ],
      "execution_count": 12,
      "outputs": [
        {
          "output_type": "execute_result",
          "data": {
            "text/plain": [
              "<matplotlib.axes._subplots.AxesSubplot at 0x7f83c74a2ed0>"
            ]
          },
          "metadata": {},
          "execution_count": 12
        },
        {
          "output_type": "display_data",
          "data": {
            "text/plain": [
              "<Figure size 432x288 with 1 Axes>"
            ],
            "image/png": "[encoded data removed]"
          },
          "metadata": {
            "needs_background": "light"
          }
        }
      ]
    },
    {
      "cell_type": "code",
      "metadata": {
        "id": "1GIK4-wkOdWm",
        "colab": {
          "base_uri": "https://localhost:8080/",
          "height": 423
        },
        "outputId": "825ab7ac-8ad0-44d4-b635-cd9fe25c935b"
      },
      "source": [
        "pdVarImp = pd.DataFrame({'Feature': list(importance.keys()),\n",
        "                         'Importance' : list(importance.values())}).sort_values('Importance', ascending = False)\n",
        "\n",
        "pdVarImp['C'] = np.arange(len(pdVarImp)) + 1\n",
        "pdVarImp"
      ],
      "execution_count": 13,
      "outputs": [
        {
          "output_type": "execute_result",
          "data": {
            "text/plain": [
              "                          Feature   Importance    C\n",
              "1                           var15  1077.453196    1\n",
              "0                     saldo_var30   775.809473    2\n",
              "2                           var38   691.277801    3\n",
              "22              num_op_var41_ult3   116.248245    4\n",
              "5          saldo_medio_var5_hace2   113.235727    5\n",
              "..                            ...          ...  ...\n",
              "134  saldo_medio_var13_largo_ult3     0.000685  131\n",
              "126                     num_var30     0.000616  132\n",
              "132     delta_num_reemb_var33_1y3     0.000525  133\n",
              "125          num_meses_var12_ult3     0.000447  134\n",
              "133                   saldo_var31     0.000445  135\n",
              "\n",
              "[135 rows x 3 columns]"
            ],
            "text/html": [
              "\n",
              "  <div id=\"df-c87c701a-db54-4633-acd0-369b583368e4\">\n",
              "    <div class=\"colab-df-container\">\n",
              "      <div>\n",
              "<style scoped>\n",
              "    .dataframe tbody tr th:only-of-type {\n",
              "        vertical-align: middle;\n",
              "    }\n",
              "\n",
              "    .dataframe tbody tr th {\n",
              "        vertical-align: top;\n",
              "    }\n",
              "\n",
              "    .dataframe thead th {\n",
              "        text-align: right;\n",
              "    }\n",
              "</style>\n",
              "<table border=\"1\" class=\"dataframe\">\n",
              "  <thead>\n",
              "    <tr style=\"text-align: right;\">\n",
              "      <th></th>\n",
              "      <th>Feature</th>\n",
              "      <th>Importance</th>\n",
              "      <th>C</th>\n",
              "    </tr>\n",
              "  </thead>\n",
              "  <tbody>\n",
              "    <tr>\n",
              "      <th>1</th>\n",
              "      <td>var15</td>\n",
              "      <td>1077.453196</td>\n",
              "      <td>1</td>\n",
              "    </tr>\n",
              "    <tr>\n",
              "      <th>0</th>\n",
              "      <td>saldo_var30</td>\n",
              "      <td>775.809473</td>\n",
              "      <td>2</td>\n",
              "    </tr>\n",
              "    <tr>\n",
              "      <th>2</th>\n",
              "      <td>var38</td>\n",
              "      <td>691.277801</td>\n",
              "      <td>3</td>\n",
              "    </tr>\n",
              "    <tr>\n",
              "      <th>22</th>\n",
              "      <td>num_op_var41_ult3</td>\n",
              "      <td>116.248245</td>\n",
              "      <td>4</td>\n",
              "    </tr>\n",
              "    <tr>\n",
              "      <th>5</th>\n",
              "      <td>saldo_medio_var5_hace2</td>\n",
              "      <td>113.235727</td>\n",
              "      <td>5</td>\n",
              "    </tr>\n",
              "    <tr>\n",
              "      <th>...</th>\n",
              "      <td>...</td>\n",
              "      <td>...</td>\n",
              "      <td>...</td>\n",
              "    </tr>\n",
              "    <tr>\n",
              "      <th>134</th>\n",
              "      <td>saldo_medio_var13_largo_ult3</td>\n",
              "      <td>0.000685</td>\n",
              "      <td>131</td>\n",
              "    </tr>\n",
              "    <tr>\n",
              "      <th>126</th>\n",
              "      <td>num_var30</td>\n",
              "      <td>0.000616</td>\n",
              "      <td>132</td>\n",
              "    </tr>\n",
              "    <tr>\n",
              "      <th>132</th>\n",
              "      <td>delta_num_reemb_var33_1y3</td>\n",
              "      <td>0.000525</td>\n",
              "      <td>133</td>\n",
              "    </tr>\n",
              "    <tr>\n",
              "      <th>125</th>\n",
              "      <td>num_meses_var12_ult3</td>\n",
              "      <td>0.000447</td>\n",
              "      <td>134</td>\n",
              "    </tr>\n",
              "    <tr>\n",
              "      <th>133</th>\n",
              "      <td>saldo_var31</td>\n",
              "      <td>0.000445</td>\n",
              "      <td>135</td>\n",
              "    </tr>\n",
              "  </tbody>\n",
              "</table>\n",
              "<p>135 rows × 3 columns</p>\n",
              "</div>\n",
              "      <button class=\"colab-df-convert\" onclick=\"convertToInteractive('df-c87c701a-db54-4633-acd0-369b583368e4')\"\n",
              "              title=\"Convert this dataframe to an interactive table.\"\n",
              "              style=\"display:none;\">\n",
              "        \n",
              "  <svg xmlns=\"http://www.w3.org/2000/svg\" height=\"24px\"viewBox=\"0 0 24 24\"\n",
              "       width=\"24px\">\n",
              "    <path d=\"M0 0h24v24H0V0z\" fill=\"none\"/>\n",
              "    <path d=\"M18.56 5.44l.94 2.06.94-2.06 2.06-.94-2.06-.94-.94-2.06-.94 2.06-2.06.94zm-11 1L8.5 8.5l.94-2.06 2.06-.94-2.06-.94L8.5 2.5l-.94 2.06-2.06.94zm10 10l.94 2.06.94-2.06 2.06-.94-2.06-.94-.94-2.06-.94 2.06-2.06.94z\"/><path d=\"M17.41 7.96l-1.37-1.37c-.4-.4-.92-.59-1.43-.59-.52 0-1.04.2-1.43.59L10.3 9.45l-7.72 7.72c-.78.78-.78 2.05 0 2.83L4 21.41c.39.39.9.59 1.41.59.51 0 1.02-.2 1.41-.59l7.78-7.78 2.81-2.81c.8-.78.8-2.07 0-2.86zM5.41 20L4 18.59l7.72-7.72 1.47 1.35L5.41 20z\"/>\n",
              "  </svg>\n",
              "      </button>\n",
              "      \n",
              "  <style>\n",
              "    .colab-df-container {\n",
              "      display:flex;\n",
              "      flex-wrap:wrap;\n",
              "      gap: 12px;\n",
              "    }\n",
              "\n",
              "    .colab-df-convert {\n",
              "      background-color: #E8F0FE;\n",
              "      border: none;\n",
              "      border-radius: 50%;\n",
              "      cursor: pointer;\n",
              "      display: none;\n",
              "      fill: #1967D2;\n",
              "      height: 32px;\n",
              "      padding: 0 0 0 0;\n",
              "      width: 32px;\n",
              "    }\n",
              "\n",
              "    .colab-df-convert:hover {\n",
              "      background-color: #E2EBFA;\n",
              "      box-shadow: 0px 1px 2px rgba(60, 64, 67, 0.3), 0px 1px 3px 1px rgba(60, 64, 67, 0.15);\n",
              "      fill: #174EA6;\n",
              "    }\n",
              "\n",
              "    [theme=dark] .colab-df-convert {\n",
              "      background-color: #3B4455;\n",
              "      fill: #D2E3FC;\n",
              "    }\n",
              "\n",
              "    [theme=dark] .colab-df-convert:hover {\n",
              "      background-color: #434B5C;\n",
              "      box-shadow: 0px 1px 3px 1px rgba(0, 0, 0, 0.15);\n",
              "      filter: drop-shadow(0px 1px 2px rgba(0, 0, 0, 0.3));\n",
              "      fill: #FFFFFF;\n",
              "    }\n",
              "  </style>\n",
              "\n",
              "      <script>\n",
              "        const buttonEl =\n",
              "          document.querySelector('#df-c87c701a-db54-4633-acd0-369b583368e4 button.colab-df-convert');\n",
              "        buttonEl.style.display =\n",
              "          google.colab.kernel.accessAllowed ? 'block' : 'none';\n",
              "\n",
              "        async function convertToInteractive(key) {\n",
              "          const element = document.querySelector('#df-c87c701a-db54-4633-acd0-369b583368e4');\n",
              "          const dataTable =\n",
              "            await google.colab.kernel.invokeFunction('convertToInteractive',\n",
              "                                                     [key], {});\n",
              "          if (!dataTable) return;\n",
              "\n",
              "          const docLinkHtml = 'Like what you see? Visit the ' +\n",
              "            '<a target=\"_blank\" href=https://colab.research.google.com/notebooks/data_table.ipynb>data table notebook</a>'\n",
              "            + ' to learn more about interactive tables.';\n",
              "          element.innerHTML = '';\n",
              "          dataTable['output_type'] = 'display_data';\n",
              "          await google.colab.output.renderOutput(dataTable, element);\n",
              "          const docLink = document.createElement('div');\n",
              "          docLink.innerHTML = docLinkHtml;\n",
              "          element.appendChild(docLink);\n",
              "        }\n",
              "      </script>\n",
              "    </div>\n",
              "  </div>\n",
              "  "
            ]
          },
          "metadata": {},
          "execution_count": 13
        }
      ]
    },
    {
      "cell_type": "code",
      "metadata": {
        "id": "ADGsicCEP67k",
        "colab": {
          "base_uri": "https://localhost:8080/",
          "height": 285
        },
        "outputId": "6a984cfa-69cf-408f-ed05-59cd5c6a8f6a"
      },
      "source": [
        "plt.plot(pdVarImp.C,pdVarImp.Importance.cumsum(axis=0))"
      ],
      "execution_count": 14,
      "outputs": [
        {
          "output_type": "execute_result",
          "data": {
            "text/plain": [
              "[<matplotlib.lines.Line2D at 0x7f83c5b97410>]"
            ]
          },
          "metadata": {},
          "execution_count": 14
        },
        {
          "output_type": "display_data",
          "data": {
            "text/plain": [
              "<Figure size 432x288 with 1 Axes>"
            ],
            "image/png": "[encoded data removed]"
          },
          "metadata": {
            "needs_background": "light"
          }
        }
      ]
    },
    {
      "cell_type": "code",
      "metadata": {
        "id": "cWZjq9vHQS2H",
        "colab": {
          "base_uri": "https://localhost:8080/",
          "height": 285
        },
        "outputId": "068ca655-4f95-4e2d-f037-ed92205dd348"
      },
      "source": [
        "pdVarImp['porc_gain'] = pdVarImp.Importance.apply(lambda x: x/pdVarImp.Importance.sum())\n",
        "plt.plot(pdVarImp.C,pdVarImp.porc_gain.cumsum(axis=0))"
      ],
      "execution_count": 15,
      "outputs": [
        {
          "output_type": "execute_result",
          "data": {
            "text/plain": [
              "[<matplotlib.lines.Line2D at 0x7f83c3e1a790>]"
            ]
          },
          "metadata": {},
          "execution_count": 15
        },
        {
          "output_type": "display_data",
          "data": {
            "text/plain": [
              "<Figure size 432x288 with 1 Axes>"
            ],
            "image/png": "[encoded data removed]"
          },
          "metadata": {
            "needs_background": "light"
          }
        }
      ]
    },
    {
      "cell_type": "code",
      "metadata": {
        "id": "bgIOmJGnRelh"
      },
      "source": [
        "pdVarImp['porc_gain_acum'] = pdVarImp.porc_gain.cumsum(axis = 0)\n"
      ],
      "execution_count": 16,
      "outputs": []
    },
    {
      "cell_type": "code",
      "metadata": {
        "id": "3Vc3JuvLRiIY",
        "colab": {
          "base_uri": "https://localhost:8080/",
          "height": 299
        },
        "outputId": "1787dfd5-c0eb-4d8c-ad27-4783f695b693"
      },
      "source": [
        "pdVarImp.transpose()"
      ],
      "execution_count": 17,
      "outputs": [
        {
          "output_type": "execute_result",
          "data": {
            "text/plain": [
              "                        1            0           2                  22   \\\n",
              "Feature               var15  saldo_var30       var38  num_op_var41_ult3   \n",
              "Importance      1077.453196   775.809473  691.277801         116.248245   \n",
              "C                         1            2           3                  4   \n",
              "porc_gain          0.229233     0.165057    0.147073           0.024732   \n",
              "porc_gain_acum     0.229233      0.39429    0.541363           0.566095   \n",
              "\n",
              "                                   5                       45   \\\n",
              "Feature         saldo_medio_var5_hace2  saldo_medio_var5_hace3   \n",
              "Importance                  113.235727              100.913448   \n",
              "C                                    5                       6   \n",
              "porc_gain                     0.024091                 0.02147   \n",
              "porc_gain_acum                0.590186                0.611656   \n",
              "\n",
              "                            8                      81                     76   \\\n",
              "Feature         num_var45_hace3  saldo_medio_var5_ult3  saldo_medio_var5_ult1   \n",
              "Importance            76.106149              67.292375              59.967691   \n",
              "C                             7                      8                      9   \n",
              "porc_gain              0.016192               0.014317               0.012758   \n",
              "porc_gain_acum         0.627848               0.642165               0.654923   \n",
              "\n",
              "                      29   ...          130                131  \\\n",
              "Feature              var3  ...  num_var31_0  saldo_var13_corto   \n",
              "Importance      58.330454  ...     0.077247           0.064836   \n",
              "C                      10  ...          126                127   \n",
              "porc_gain         0.01241  ...     0.000016           0.000014   \n",
              "porc_gain_acum   0.667333  ...     0.999971           0.999985   \n",
              "\n",
              "                                   104                        123  \\\n",
              "Feature         saldo_medio_var17_ult1  delta_num_aport_var17_1y3   \n",
              "Importance                    0.038162                   0.030659   \n",
              "C                                  128                        129   \n",
              "porc_gain                     0.000008                   0.000007   \n",
              "porc_gain_acum                0.999993                   0.999999   \n",
              "\n",
              "                                   128                           134  \\\n",
              "Feature         saldo_medio_var44_ult3  saldo_medio_var13_largo_ult3   \n",
              "Importance                    0.000777                      0.000685   \n",
              "C                                  130                           131   \n",
              "porc_gain                          0.0                           0.0   \n",
              "porc_gain_acum                0.999999                           1.0   \n",
              "\n",
              "                      126                        132                   125  \\\n",
              "Feature         num_var30  delta_num_reemb_var33_1y3  num_meses_var12_ult3   \n",
              "Importance       0.000616                   0.000525              0.000447   \n",
              "C                     132                        133                   134   \n",
              "porc_gain             0.0                        0.0                   0.0   \n",
              "porc_gain_acum        1.0                        1.0                   1.0   \n",
              "\n",
              "                        133  \n",
              "Feature         saldo_var31  \n",
              "Importance         0.000445  \n",
              "C                       135  \n",
              "porc_gain               0.0  \n",
              "porc_gain_acum          1.0  \n",
              "\n",
              "[5 rows x 135 columns]"
            ],
            "text/html": [
              "\n",
              "  <div id=\"df-e11282d0-7c7d-4c95-a808-44cc3b9d11e9\">\n",
              "    <div class=\"colab-df-container\">\n",
              "      <div>\n",
              "<style scoped>\n",
              "    .dataframe tbody tr th:only-of-type {\n",
              "        vertical-align: middle;\n",
              "    }\n",
              "\n",
              "    .dataframe tbody tr th {\n",
              "        vertical-align: top;\n",
              "    }\n",
              "\n",
              "    .dataframe thead th {\n",
              "        text-align: right;\n",
              "    }\n",
              "</style>\n",
              "<table border=\"1\" class=\"dataframe\">\n",
              "  <thead>\n",
              "    <tr style=\"text-align: right;\">\n",
              "      <th></th>\n",
              "      <th>1</th>\n",
              "      <th>0</th>\n",
              "      <th>2</th>\n",
              "      <th>22</th>\n",
              "      <th>5</th>\n",
              "      <th>45</th>\n",
              "      <th>8</th>\n",
              "      <th>81</th>\n",
              "      <th>76</th>\n",
              "      <th>29</th>\n",
              "      <th>...</th>\n",
              "      <th>130</th>\n",
              "      <th>131</th>\n",
              "      <th>104</th>\n",
              "      <th>123</th>\n",
              "      <th>128</th>\n",
              "      <th>134</th>\n",
              "      <th>126</th>\n",
              "      <th>132</th>\n",
              "      <th>125</th>\n",
              "      <th>133</th>\n",
              "    </tr>\n",
              "  </thead>\n",
              "  <tbody>\n",
              "    <tr>\n",
              "      <th>Feature</th>\n",
              "      <td>var15</td>\n",
              "      <td>saldo_var30</td>\n",
              "      <td>var38</td>\n",
              "      <td>num_op_var41_ult3</td>\n",
              "      <td>saldo_medio_var5_hace2</td>\n",
              "      <td>saldo_medio_var5_hace3</td>\n",
              "      <td>num_var45_hace3</td>\n",
              "      <td>saldo_medio_var5_ult3</td>\n",
              "      <td>saldo_medio_var5_ult1</td>\n",
              "      <td>var3</td>\n",
              "      <td>...</td>\n",
              "      <td>num_var31_0</td>\n",
              "      <td>saldo_var13_corto</td>\n",
              "      <td>saldo_medio_var17_ult1</td>\n",
              "      <td>delta_num_aport_var17_1y3</td>\n",
              "      <td>saldo_medio_var44_ult3</td>\n",
              "      <td>saldo_medio_var13_largo_ult3</td>\n",
              "      <td>num_var30</td>\n",
              "      <td>delta_num_reemb_var33_1y3</td>\n",
              "      <td>num_meses_var12_ult3</td>\n",
              "      <td>saldo_var31</td>\n",
              "    </tr>\n",
              "    <tr>\n",
              "      <th>Importance</th>\n",
              "      <td>1077.453196</td>\n",
              "      <td>775.809473</td>\n",
              "      <td>691.277801</td>\n",
              "      <td>116.248245</td>\n",
              "      <td>113.235727</td>\n",
              "      <td>100.913448</td>\n",
              "      <td>76.106149</td>\n",
              "      <td>67.292375</td>\n",
              "      <td>59.967691</td>\n",
              "      <td>58.330454</td>\n",
              "      <td>...</td>\n",
              "      <td>0.077247</td>\n",
              "      <td>0.064836</td>\n",
              "      <td>0.038162</td>\n",
              "      <td>0.030659</td>\n",
              "      <td>0.000777</td>\n",
              "      <td>0.000685</td>\n",
              "      <td>0.000616</td>\n",
              "      <td>0.000525</td>\n",
              "      <td>0.000447</td>\n",
              "      <td>0.000445</td>\n",
              "    </tr>\n",
              "    <tr>\n",
              "      <th>C</th>\n",
              "      <td>1</td>\n",
              "      <td>2</td>\n",
              "      <td>3</td>\n",
              "      <td>4</td>\n",
              "      <td>5</td>\n",
              "      <td>6</td>\n",
              "      <td>7</td>\n",
              "      <td>8</td>\n",
              "      <td>9</td>\n",
              "      <td>10</td>\n",
              "      <td>...</td>\n",
              "      <td>126</td>\n",
              "      <td>127</td>\n",
              "      <td>128</td>\n",
              "      <td>129</td>\n",
              "      <td>130</td>\n",
              "      <td>131</td>\n",
              "      <td>132</td>\n",
              "      <td>133</td>\n",
              "      <td>134</td>\n",
              "      <td>135</td>\n",
              "    </tr>\n",
              "    <tr>\n",
              "      <th>porc_gain</th>\n",
              "      <td>0.229233</td>\n",
              "      <td>0.165057</td>\n",
              "      <td>0.147073</td>\n",
              "      <td>0.024732</td>\n",
              "      <td>0.024091</td>\n",
              "      <td>0.02147</td>\n",
              "      <td>0.016192</td>\n",
              "      <td>0.014317</td>\n",
              "      <td>0.012758</td>\n",
              "      <td>0.01241</td>\n",
              "      <td>...</td>\n",
              "      <td>0.000016</td>\n",
              "      <td>0.000014</td>\n",
              "      <td>0.000008</td>\n",
              "      <td>0.000007</td>\n",
              "      <td>0.0</td>\n",
              "      <td>0.0</td>\n",
              "      <td>0.0</td>\n",
              "      <td>0.0</td>\n",
              "      <td>0.0</td>\n",
              "      <td>0.0</td>\n",
              "    </tr>\n",
              "    <tr>\n",
              "      <th>porc_gain_acum</th>\n",
              "      <td>0.229233</td>\n",
              "      <td>0.39429</td>\n",
              "      <td>0.541363</td>\n",
              "      <td>0.566095</td>\n",
              "      <td>0.590186</td>\n",
              "      <td>0.611656</td>\n",
              "      <td>0.627848</td>\n",
              "      <td>0.642165</td>\n",
              "      <td>0.654923</td>\n",
              "      <td>0.667333</td>\n",
              "      <td>...</td>\n",
              "      <td>0.999971</td>\n",
              "      <td>0.999985</td>\n",
              "      <td>0.999993</td>\n",
              "      <td>0.999999</td>\n",
              "      <td>0.999999</td>\n",
              "      <td>1.0</td>\n",
              "      <td>1.0</td>\n",
              "      <td>1.0</td>\n",
              "      <td>1.0</td>\n",
              "      <td>1.0</td>\n",
              "    </tr>\n",
              "  </tbody>\n",
              "</table>\n",
              "<p>5 rows × 135 columns</p>\n",
              "</div>\n",
              "      <button class=\"colab-df-convert\" onclick=\"convertToInteractive('df-e11282d0-7c7d-4c95-a808-44cc3b9d11e9')\"\n",
              "              title=\"Convert this dataframe to an interactive table.\"\n",
              "              style=\"display:none;\">\n",
              "        \n",
              "  <svg xmlns=\"http://www.w3.org/2000/svg\" height=\"24px\"viewBox=\"0 0 24 24\"\n",
              "       width=\"24px\">\n",
              "    <path d=\"M0 0h24v24H0V0z\" fill=\"none\"/>\n",
              "    <path d=\"M18.56 5.44l.94 2.06.94-2.06 2.06-.94-2.06-.94-.94-2.06-.94 2.06-2.06.94zm-11 1L8.5 8.5l.94-2.06 2.06-.94-2.06-.94L8.5 2.5l-.94 2.06-2.06.94zm10 10l.94 2.06.94-2.06 2.06-.94-2.06-.94-.94-2.06-.94 2.06-2.06.94z\"/><path d=\"M17.41 7.96l-1.37-1.37c-.4-.4-.92-.59-1.43-.59-.52 0-1.04.2-1.43.59L10.3 9.45l-7.72 7.72c-.78.78-.78 2.05 0 2.83L4 21.41c.39.39.9.59 1.41.59.51 0 1.02-.2 1.41-.59l7.78-7.78 2.81-2.81c.8-.78.8-2.07 0-2.86zM5.41 20L4 18.59l7.72-7.72 1.47 1.35L5.41 20z\"/>\n",
              "  </svg>\n",
              "      </button>\n",
              "      \n",
              "  <style>\n",
              "    .colab-df-container {\n",
              "      display:flex;\n",
              "      flex-wrap:wrap;\n",
              "      gap: 12px;\n",
              "    }\n",
              "\n",
              "    .colab-df-convert {\n",
              "      background-color: #E8F0FE;\n",
              "      border: none;\n",
              "      border-radius: 50%;\n",
              "      cursor: pointer;\n",
              "      display: none;\n",
              "      fill: #1967D2;\n",
              "      height: 32px;\n",
              "      padding: 0 0 0 0;\n",
              "      width: 32px;\n",
              "    }\n",
              "\n",
              "    .colab-df-convert:hover {\n",
              "      background-color: #E2EBFA;\n",
              "      box-shadow: 0px 1px 2px rgba(60, 64, 67, 0.3), 0px 1px 3px 1px rgba(60, 64, 67, 0.15);\n",
              "      fill: #174EA6;\n",
              "    }\n",
              "\n",
              "    [theme=dark] .colab-df-convert {\n",
              "      background-color: #3B4455;\n",
              "      fill: #D2E3FC;\n",
              "    }\n",
              "\n",
              "    [theme=dark] .colab-df-convert:hover {\n",
              "      background-color: #434B5C;\n",
              "      box-shadow: 0px 1px 3px 1px rgba(0, 0, 0, 0.15);\n",
              "      filter: drop-shadow(0px 1px 2px rgba(0, 0, 0, 0.3));\n",
              "      fill: #FFFFFF;\n",
              "    }\n",
              "  </style>\n",
              "\n",
              "      <script>\n",
              "        const buttonEl =\n",
              "          document.querySelector('#df-e11282d0-7c7d-4c95-a808-44cc3b9d11e9 button.colab-df-convert');\n",
              "        buttonEl.style.display =\n",
              "          google.colab.kernel.accessAllowed ? 'block' : 'none';\n",
              "\n",
              "        async function convertToInteractive(key) {\n",
              "          const element = document.querySelector('#df-e11282d0-7c7d-4c95-a808-44cc3b9d11e9');\n",
              "          const dataTable =\n",
              "            await google.colab.kernel.invokeFunction('convertToInteractive',\n",
              "                                                     [key], {});\n",
              "          if (!dataTable) return;\n",
              "\n",
              "          const docLinkHtml = 'Like what you see? Visit the ' +\n",
              "            '<a target=\"_blank\" href=https://colab.research.google.com/notebooks/data_table.ipynb>data table notebook</a>'\n",
              "            + ' to learn more about interactive tables.';\n",
              "          element.innerHTML = '';\n",
              "          dataTable['output_type'] = 'display_data';\n",
              "          await google.colab.output.renderOutput(dataTable, element);\n",
              "          const docLink = document.createElement('div');\n",
              "          docLink.innerHTML = docLinkHtml;\n",
              "          element.appendChild(docLink);\n",
              "        }\n",
              "      </script>\n",
              "    </div>\n",
              "  </div>\n",
              "  "
            ]
          },
          "metadata": {},
          "execution_count": 17
        }
      ]
    },
    {
      "cell_type": "code",
      "metadata": {
        "id": "XgocmyNHVsb9"
      },
      "source": [
        "# Usando el modelo para predecir\n",
        "\n",
        "X_train['probability']  = xgBoost.predict(xgb.DMatrix(X_train[features], label = y_train))\n",
        "X_test['probability'] = xgBoost.predict(xgb.DMatrix(X_test[features], label = y_test))\n",
        "\n",
        "X_train['prediction']  = X_train.probability.apply(lambda x: 1 if x > 0.5 else 0)\n",
        "X_test['prediction'] = X_test.probability.apply(lambda x: 1 if x > 0.5 else 0)"
      ],
      "execution_count": 18,
      "outputs": []
    },
    {
      "cell_type": "code",
      "metadata": {
        "id": "i12M9tBeVsWK",
        "colab": {
          "base_uri": "https://localhost:8080/",
          "height": 237
        },
        "outputId": "5b51ca6d-b09e-436b-cab6-1344ef8d10ae"
      },
      "source": [
        "#Resumen de todas las métricas del modelo\n",
        "from sklearn.metrics import *\n",
        "\n",
        "metricsXGB = pd.DataFrame({'metric':['AUC','Gini','Accuracy','Precision','Recall','F1-score'],\n",
        "                                'xgb_train':[roc_auc_score(y_train, X_train.probability),\n",
        "                                        (roc_auc_score(y_train, X_train.probability)*2-1),\n",
        "                                        accuracy_score(y_train, X_train.prediction),\n",
        "                                        precision_score(y_train, X_train.prediction),\n",
        "                                        recall_score(y_train, X_train.prediction),\n",
        "                                        f1_score(y_train, X_train.prediction)],\n",
        "\n",
        "                                'xgb_test':[roc_auc_score(y_test, X_test.probability),\n",
        "                                        (roc_auc_score(y_test, X_test.probability)*2-1),\n",
        "                                        accuracy_score(y_test, X_test.prediction),\n",
        "                                        precision_score(y_test, X_test.prediction),\n",
        "                                        recall_score(y_test, X_test.prediction),\n",
        "                                        f1_score(y_test, X_test.prediction)]})\n",
        "\n",
        "metricsXGB\n",
        "#metricsRes = pd.merge(metricsRes, metricsXGB, on = 'metric', how='left') \n",
        "#metricsRes       "
      ],
      "execution_count": 21,
      "outputs": [
        {
          "output_type": "execute_result",
          "data": {
            "text/plain": [
              "      metric  xgb_train  xgb_test\n",
              "0        AUC   0.910930  0.829935\n",
              "1       Gini   0.821860  0.659870\n",
              "2   Accuracy   0.963224  0.960361\n",
              "3  Precision   1.000000  0.416667\n",
              "4     Recall   0.070750  0.005543\n",
              "5   F1-score   0.132151  0.010941"
            ],
            "text/html": [
              "\n",
              "  <div id=\"df-438ba6ed-099e-4587-8b92-882af140d211\">\n",
              "    <div class=\"colab-df-container\">\n",
              "      <div>\n",
              "<style scoped>\n",
              "    .dataframe tbody tr th:only-of-type {\n",
              "        vertical-align: middle;\n",
              "    }\n",
              "\n",
              "    .dataframe tbody tr th {\n",
              "        vertical-align: top;\n",
              "    }\n",
              "\n",
              "    .dataframe thead th {\n",
              "        text-align: right;\n",
              "    }\n",
              "</style>\n",
              "<table border=\"1\" class=\"dataframe\">\n",
              "  <thead>\n",
              "    <tr style=\"text-align: right;\">\n",
              "      <th></th>\n",
              "      <th>metric</th>\n",
              "      <th>xgb_train</th>\n",
              "      <th>xgb_test</th>\n",
              "    </tr>\n",
              "  </thead>\n",
              "  <tbody>\n",
              "    <tr>\n",
              "      <th>0</th>\n",
              "      <td>AUC</td>\n",
              "      <td>0.910930</td>\n",
              "      <td>0.829935</td>\n",
              "    </tr>\n",
              "    <tr>\n",
              "      <th>1</th>\n",
              "      <td>Gini</td>\n",
              "      <td>0.821860</td>\n",
              "      <td>0.659870</td>\n",
              "    </tr>\n",
              "    <tr>\n",
              "      <th>2</th>\n",
              "      <td>Accuracy</td>\n",
              "      <td>0.963224</td>\n",
              "      <td>0.960361</td>\n",
              "    </tr>\n",
              "    <tr>\n",
              "      <th>3</th>\n",
              "      <td>Precision</td>\n",
              "      <td>1.000000</td>\n",
              "      <td>0.416667</td>\n",
              "    </tr>\n",
              "    <tr>\n",
              "      <th>4</th>\n",
              "      <td>Recall</td>\n",
              "      <td>0.070750</td>\n",
              "      <td>0.005543</td>\n",
              "    </tr>\n",
              "    <tr>\n",
              "      <th>5</th>\n",
              "      <td>F1-score</td>\n",
              "      <td>0.132151</td>\n",
              "      <td>0.010941</td>\n",
              "    </tr>\n",
              "  </tbody>\n",
              "</table>\n",
              "</div>\n",
              "      <button class=\"colab-df-convert\" onclick=\"convertToInteractive('df-438ba6ed-099e-4587-8b92-882af140d211')\"\n",
              "              title=\"Convert this dataframe to an interactive table.\"\n",
              "              style=\"display:none;\">\n",
              "        \n",
              "  <svg xmlns=\"http://www.w3.org/2000/svg\" height=\"24px\"viewBox=\"0 0 24 24\"\n",
              "       width=\"24px\">\n",
              "    <path d=\"M0 0h24v24H0V0z\" fill=\"none\"/>\n",
              "    <path d=\"M18.56 5.44l.94 2.06.94-2.06 2.06-.94-2.06-.94-.94-2.06-.94 2.06-2.06.94zm-11 1L8.5 8.5l.94-2.06 2.06-.94-2.06-.94L8.5 2.5l-.94 2.06-2.06.94zm10 10l.94 2.06.94-2.06 2.06-.94-2.06-.94-.94-2.06-.94 2.06-2.06.94z\"/><path d=\"M17.41 7.96l-1.37-1.37c-.4-.4-.92-.59-1.43-.59-.52 0-1.04.2-1.43.59L10.3 9.45l-7.72 7.72c-.78.78-.78 2.05 0 2.83L4 21.41c.39.39.9.59 1.41.59.51 0 1.02-.2 1.41-.59l7.78-7.78 2.81-2.81c.8-.78.8-2.07 0-2.86zM5.41 20L4 18.59l7.72-7.72 1.47 1.35L5.41 20z\"/>\n",
              "  </svg>\n",
              "      </button>\n",
              "      \n",
              "  <style>\n",
              "    .colab-df-container {\n",
              "      display:flex;\n",
              "      flex-wrap:wrap;\n",
              "      gap: 12px;\n",
              "    }\n",
              "\n",
              "    .colab-df-convert {\n",
              "      background-color: #E8F0FE;\n",
              "      border: none;\n",
              "      border-radius: 50%;\n",
              "      cursor: pointer;\n",
              "      display: none;\n",
              "      fill: #1967D2;\n",
              "      height: 32px;\n",
              "      padding: 0 0 0 0;\n",
              "      width: 32px;\n",
              "    }\n",
              "\n",
              "    .colab-df-convert:hover {\n",
              "      background-color: #E2EBFA;\n",
              "      box-shadow: 0px 1px 2px rgba(60, 64, 67, 0.3), 0px 1px 3px 1px rgba(60, 64, 67, 0.15);\n",
              "      fill: #174EA6;\n",
              "    }\n",
              "\n",
              "    [theme=dark] .colab-df-convert {\n",
              "      background-color: #3B4455;\n",
              "      fill: #D2E3FC;\n",
              "    }\n",
              "\n",
              "    [theme=dark] .colab-df-convert:hover {\n",
              "      background-color: #434B5C;\n",
              "      box-shadow: 0px 1px 3px 1px rgba(0, 0, 0, 0.15);\n",
              "      filter: drop-shadow(0px 1px 2px rgba(0, 0, 0, 0.3));\n",
              "      fill: #FFFFFF;\n",
              "    }\n",
              "  </style>\n",
              "\n",
              "      <script>\n",
              "        const buttonEl =\n",
              "          document.querySelector('#df-438ba6ed-099e-4587-8b92-882af140d211 button.colab-df-convert');\n",
              "        buttonEl.style.display =\n",
              "          google.colab.kernel.accessAllowed ? 'block' : 'none';\n",
              "\n",
              "        async function convertToInteractive(key) {\n",
              "          const element = document.querySelector('#df-438ba6ed-099e-4587-8b92-882af140d211');\n",
              "          const dataTable =\n",
              "            await google.colab.kernel.invokeFunction('convertToInteractive',\n",
              "                                                     [key], {});\n",
              "          if (!dataTable) return;\n",
              "\n",
              "          const docLinkHtml = 'Like what you see? Visit the ' +\n",
              "            '<a target=\"_blank\" href=https://colab.research.google.com/notebooks/data_table.ipynb>data table notebook</a>'\n",
              "            + ' to learn more about interactive tables.';\n",
              "          element.innerHTML = '';\n",
              "          dataTable['output_type'] = 'display_data';\n",
              "          await google.colab.output.renderOutput(dataTable, element);\n",
              "          const docLink = document.createElement('div');\n",
              "          docLink.innerHTML = docLinkHtml;\n",
              "          element.appendChild(docLink);\n",
              "        }\n",
              "      </script>\n",
              "    </div>\n",
              "  </div>\n",
              "  "
            ]
          },
          "metadata": {},
          "execution_count": 21
        }
      ]
    },
    {
      "cell_type": "markdown",
      "metadata": {
        "id": "FttmZ9QVR5q4"
      },
      "source": [
        "# Random Search"
      ]
    },
    {
      "cell_type": "code",
      "metadata": {
        "id": "DSmFXeYTZ6Ou"
      },
      "source": [
        "# Muestreo de data\n",
        "\n",
        "from sklearn.model_selection import train_test_split\n",
        "\n",
        "X_train, X_test, y_train, y_test = train_test_split(X, y, \n",
        "                                                    stratify = y,\n",
        "                                                    test_size = 0.3,\n",
        "                                                    random_state = 123)\n"
      ],
      "execution_count": null,
      "outputs": []
    },
    {
      "cell_type": "code",
      "metadata": {
        "id": "Mhcz2Zj1SmaL"
      },
      "source": [
        "# setear valores iniciales\n",
        "\n",
        "paramGrid = {'objetive' : ['binary_logistic'],\n",
        "         'max_depth' : [2,3,4,5,6,7,8,9,10,11,12],\n",
        "         'learning_rate': [0.01, 0.02, 0.05, 0.1, 0.2],\n",
        "         'seed' : [123],\n",
        "         'max_leaves' : [2, 4, 8],\n",
        "         'min_data_leaf' : [0.01, 0.02, 0.05, 0.08, 0.1, 0.15, 0.2],\n",
        "         'grow_policy' : ['lossguide'],\n",
        "         'min_child_weight' : [1,2,3,4,5,6,7,8,9,10]}\n",
        "\n",
        "param['eval_metric'] = 'auc'\n",
        "num_round = 100\n",
        "\n",
        "pdResults = pd.DataFrame()\n",
        "\n"
      ],
      "execution_count": 22,
      "outputs": []
    },
    {
      "cell_type": "code",
      "metadata": {
        "id": "MWM4-xnrUaZs"
      },
      "source": [
        "dtrain = xgb.DMatrix(X_train, label = y_train)\n",
        "dtest  = xgb.DMatrix(X_test, label = y_test)"
      ],
      "execution_count": 25,
      "outputs": []
    },
    {
      "cell_type": "code",
      "metadata": {
        "id": "bklFI4QqUvwv"
      },
      "source": [
        "# Iniciar iteración de Hyperparámetros\n",
        "import random\n",
        "\n",
        "for i in range(1000):\n",
        "  print(\"****** Iteration : \" + str(i))\n",
        "  param = {}\n",
        "  for paramName, paramValue in paramGrid.items():\n",
        "    param[paramName] = random.choice(paramValue)\n",
        "  param['eval_metric' ] = 'auc'\n",
        "  evallist = [(dtrain,'train'),(dtest,'valid')]\n",
        "  num_round = 10     \n",
        "\n",
        "  bst = xgb.train(param, dtrain, num_round, evallist, verbose_eval = 5)\n",
        "\n",
        "  y_train_pred = bst.predict(dtrain)\n",
        "  y_test_pred = bst.predict(dtest)\n",
        "\n",
        "  giniTrain = ((roc_auc_score(y_train, y_train_pred) - 0.5)*200)\n",
        "  giniTest =  ((roc_auc_score(y_test, y_test_pred) - 0.5)*200)\n",
        "\n",
        "  pdResults = pdResults.append(pd.DataFrame({'iter' : i,\n",
        "                                             'paramName': list(param.keys()),\n",
        "                                             'paramValue': list(param.values()),\n",
        "                                             'giniTrain' : giniTrain,\n",
        "                                             'giniTest' : giniTest}))\n",
        "\n",
        "  pdResults.to_csv('HyperParamSearch.csv', index = False)"
      ],
      "execution_count": null,
      "outputs": []
    },
    {
      "cell_type": "code",
      "metadata": {
        "id": "BS8ggXhrdy8b",
        "colab": {
          "base_uri": "https://localhost:8080/",
          "height": 423
        },
        "outputId": "88d0a195-ac80-4ac1-feb1-6670a7b824bc"
      },
      "source": [
        "pddf = pd.read_csv(\"HyperParamSearch.csv\")\n",
        "pddf.sort_values('giniTest', ascending=False)"
      ],
      "execution_count": 28,
      "outputs": [
        {
          "output_type": "execute_result",
          "data": {
            "text/plain": [
              "     iter         paramName       paramValue  giniTrain   giniTest\n",
              "416    46     learning_rate             0.05  83.519085  65.496942\n",
              "414    46          objetive  binary_logistic  83.519085  65.496942\n",
              "420    46       grow_policy        lossguide  83.519085  65.496942\n",
              "419    46     min_data_leaf              0.2  83.519085  65.496942\n",
              "418    46        max_leaves                4  83.519085  65.496942\n",
              "..    ...               ...              ...        ...        ...\n",
              "269    29       eval_metric              auc  90.363464  56.468389\n",
              "268    29  min_child_weight                8  90.363464  56.468389\n",
              "267    29       grow_policy        lossguide  90.363464  56.468389\n",
              "266    29     min_data_leaf             0.02  90.363464  56.468389\n",
              "600    66       grow_policy        lossguide  90.363464  56.468389\n",
              "\n",
              "[963 rows x 5 columns]"
            ],
            "text/html": [
              "\n",
              "  <div id=\"df-6a2d5ea4-2941-47a9-aaaf-407f42e5d16c\">\n",
              "    <div class=\"colab-df-container\">\n",
              "      <div>\n",
              "<style scoped>\n",
              "    .dataframe tbody tr th:only-of-type {\n",
              "        vertical-align: middle;\n",
              "    }\n",
              "\n",
              "    .dataframe tbody tr th {\n",
              "        vertical-align: top;\n",
              "    }\n",
              "\n",
              "    .dataframe thead th {\n",
              "        text-align: right;\n",
              "    }\n",
              "</style>\n",
              "<table border=\"1\" class=\"dataframe\">\n",
              "  <thead>\n",
              "    <tr style=\"text-align: right;\">\n",
              "      <th></th>\n",
              "      <th>iter</th>\n",
              "      <th>paramName</th>\n",
              "      <th>paramValue</th>\n",
              "      <th>giniTrain</th>\n",
              "      <th>giniTest</th>\n",
              "    </tr>\n",
              "  </thead>\n",
              "  <tbody>\n",
              "    <tr>\n",
              "      <th>416</th>\n",
              "      <td>46</td>\n",
              "      <td>learning_rate</td>\n",
              "      <td>0.05</td>\n",
              "      <td>83.519085</td>\n",
              "      <td>65.496942</td>\n",
              "    </tr>\n",
              "    <tr>\n",
              "      <th>414</th>\n",
              "      <td>46</td>\n",
              "      <td>objetive</td>\n",
              "      <td>binary_logistic</td>\n",
              "      <td>83.519085</td>\n",
              "      <td>65.496942</td>\n",
              "    </tr>\n",
              "    <tr>\n",
              "      <th>420</th>\n",
              "      <td>46</td>\n",
              "      <td>grow_policy</td>\n",
              "      <td>lossguide</td>\n",
              "      <td>83.519085</td>\n",
              "      <td>65.496942</td>\n",
              "    </tr>\n",
              "    <tr>\n",
              "      <th>419</th>\n",
              "      <td>46</td>\n",
              "      <td>min_data_leaf</td>\n",
              "      <td>0.2</td>\n",
              "      <td>83.519085</td>\n",
              "      <td>65.496942</td>\n",
              "    </tr>\n",
              "    <tr>\n",
              "      <th>418</th>\n",
              "      <td>46</td>\n",
              "      <td>max_leaves</td>\n",
              "      <td>4</td>\n",
              "      <td>83.519085</td>\n",
              "      <td>65.496942</td>\n",
              "    </tr>\n",
              "    <tr>\n",
              "      <th>...</th>\n",
              "      <td>...</td>\n",
              "      <td>...</td>\n",
              "      <td>...</td>\n",
              "      <td>...</td>\n",
              "      <td>...</td>\n",
              "    </tr>\n",
              "    <tr>\n",
              "      <th>269</th>\n",
              "      <td>29</td>\n",
              "      <td>eval_metric</td>\n",
              "      <td>auc</td>\n",
              "      <td>90.363464</td>\n",
              "      <td>56.468389</td>\n",
              "    </tr>\n",
              "    <tr>\n",
              "      <th>268</th>\n",
              "      <td>29</td>\n",
              "      <td>min_child_weight</td>\n",
              "      <td>8</td>\n",
              "      <td>90.363464</td>\n",
              "      <td>56.468389</td>\n",
              "    </tr>\n",
              "    <tr>\n",
              "      <th>267</th>\n",
              "      <td>29</td>\n",
              "      <td>grow_policy</td>\n",
              "      <td>lossguide</td>\n",
              "      <td>90.363464</td>\n",
              "      <td>56.468389</td>\n",
              "    </tr>\n",
              "    <tr>\n",
              "      <th>266</th>\n",
              "      <td>29</td>\n",
              "      <td>min_data_leaf</td>\n",
              "      <td>0.02</td>\n",
              "      <td>90.363464</td>\n",
              "      <td>56.468389</td>\n",
              "    </tr>\n",
              "    <tr>\n",
              "      <th>600</th>\n",
              "      <td>66</td>\n",
              "      <td>grow_policy</td>\n",
              "      <td>lossguide</td>\n",
              "      <td>90.363464</td>\n",
              "      <td>56.468389</td>\n",
              "    </tr>\n",
              "  </tbody>\n",
              "</table>\n",
              "<p>963 rows × 5 columns</p>\n",
              "</div>\n",
              "      <button class=\"colab-df-convert\" onclick=\"convertToInteractive('df-6a2d5ea4-2941-47a9-aaaf-407f42e5d16c')\"\n",
              "              title=\"Convert this dataframe to an interactive table.\"\n",
              "              style=\"display:none;\">\n",
              "        \n",
              "  <svg xmlns=\"http://www.w3.org/2000/svg\" height=\"24px\"viewBox=\"0 0 24 24\"\n",
              "       width=\"24px\">\n",
              "    <path d=\"M0 0h24v24H0V0z\" fill=\"none\"/>\n",
              "    <path d=\"M18.56 5.44l.94 2.06.94-2.06 2.06-.94-2.06-.94-.94-2.06-.94 2.06-2.06.94zm-11 1L8.5 8.5l.94-2.06 2.06-.94-2.06-.94L8.5 2.5l-.94 2.06-2.06.94zm10 10l.94 2.06.94-2.06 2.06-.94-2.06-.94-.94-2.06-.94 2.06-2.06.94z\"/><path d=\"M17.41 7.96l-1.37-1.37c-.4-.4-.92-.59-1.43-.59-.52 0-1.04.2-1.43.59L10.3 9.45l-7.72 7.72c-.78.78-.78 2.05 0 2.83L4 21.41c.39.39.9.59 1.41.59.51 0 1.02-.2 1.41-.59l7.78-7.78 2.81-2.81c.8-.78.8-2.07 0-2.86zM5.41 20L4 18.59l7.72-7.72 1.47 1.35L5.41 20z\"/>\n",
              "  </svg>\n",
              "      </button>\n",
              "      \n",
              "  <style>\n",
              "    .colab-df-container {\n",
              "      display:flex;\n",
              "      flex-wrap:wrap;\n",
              "      gap: 12px;\n",
              "    }\n",
              "\n",
              "    .colab-df-convert {\n",
              "      background-color: #E8F0FE;\n",
              "      border: none;\n",
              "      border-radius: 50%;\n",
              "      cursor: pointer;\n",
              "      display: none;\n",
              "      fill: #1967D2;\n",
              "      height: 32px;\n",
              "      padding: 0 0 0 0;\n",
              "      width: 32px;\n",
              "    }\n",
              "\n",
              "    .colab-df-convert:hover {\n",
              "      background-color: #E2EBFA;\n",
              "      box-shadow: 0px 1px 2px rgba(60, 64, 67, 0.3), 0px 1px 3px 1px rgba(60, 64, 67, 0.15);\n",
              "      fill: #174EA6;\n",
              "    }\n",
              "\n",
              "    [theme=dark] .colab-df-convert {\n",
              "      background-color: #3B4455;\n",
              "      fill: #D2E3FC;\n",
              "    }\n",
              "\n",
              "    [theme=dark] .colab-df-convert:hover {\n",
              "      background-color: #434B5C;\n",
              "      box-shadow: 0px 1px 3px 1px rgba(0, 0, 0, 0.15);\n",
              "      filter: drop-shadow(0px 1px 2px rgba(0, 0, 0, 0.3));\n",
              "      fill: #FFFFFF;\n",
              "    }\n",
              "  </style>\n",
              "\n",
              "      <script>\n",
              "        const buttonEl =\n",
              "          document.querySelector('#df-6a2d5ea4-2941-47a9-aaaf-407f42e5d16c button.colab-df-convert');\n",
              "        buttonEl.style.display =\n",
              "          google.colab.kernel.accessAllowed ? 'block' : 'none';\n",
              "\n",
              "        async function convertToInteractive(key) {\n",
              "          const element = document.querySelector('#df-6a2d5ea4-2941-47a9-aaaf-407f42e5d16c');\n",
              "          const dataTable =\n",
              "            await google.colab.kernel.invokeFunction('convertToInteractive',\n",
              "                                                     [key], {});\n",
              "          if (!dataTable) return;\n",
              "\n",
              "          const docLinkHtml = 'Like what you see? Visit the ' +\n",
              "            '<a target=\"_blank\" href=https://colab.research.google.com/notebooks/data_table.ipynb>data table notebook</a>'\n",
              "            + ' to learn more about interactive tables.';\n",
              "          element.innerHTML = '';\n",
              "          dataTable['output_type'] = 'display_data';\n",
              "          await google.colab.output.renderOutput(dataTable, element);\n",
              "          const docLink = document.createElement('div');\n",
              "          docLink.innerHTML = docLinkHtml;\n",
              "          element.appendChild(docLink);\n",
              "        }\n",
              "      </script>\n",
              "    </div>\n",
              "  </div>\n",
              "  "
            ]
          },
          "metadata": {},
          "execution_count": 28
        }
      ]
    },
    {
      "cell_type": "code",
      "metadata": {
        "id": "WVZSfXk6ewE0",
        "colab": {
          "base_uri": "https://localhost:8080/",
          "height": 423
        },
        "outputId": "ec49a797-0212-44e5-e643-a5bc9da1be19"
      },
      "source": [
        "pddf['overfitting'] = pddf.giniTrain - pddf.giniTest\n",
        "pddf.sort_values('overfitting')"
      ],
      "execution_count": 29,
      "outputs": [
        {
          "output_type": "execute_result",
          "data": {
            "text/plain": [
              "     iter         paramName       paramValue  giniTrain   giniTest  \\\n",
              "117    13          objetive  binary_logistic   82.76427  65.272570   \n",
              "119    13     learning_rate             0.01   82.76427  65.272570   \n",
              "120    13              seed              123   82.76427  65.272570   \n",
              "121    13        max_leaves                4   82.76427  65.272570   \n",
              "122    13     min_data_leaf             0.02   82.76427  65.272570   \n",
              "..    ...               ...              ...        ...        ...   \n",
              "686    76     learning_rate              0.2   91.95508  56.705475   \n",
              "685    76         max_depth               11   91.95508  56.705475   \n",
              "692    76       eval_metric              auc   91.95508  56.705475   \n",
              "687    76              seed              123   91.95508  56.705475   \n",
              "691    76  min_child_weight                4   91.95508  56.705475   \n",
              "\n",
              "     overfitting  \n",
              "117    17.491700  \n",
              "119    17.491700  \n",
              "120    17.491700  \n",
              "121    17.491700  \n",
              "122    17.491700  \n",
              "..           ...  \n",
              "686    35.249605  \n",
              "685    35.249605  \n",
              "692    35.249605  \n",
              "687    35.249605  \n",
              "691    35.249605  \n",
              "\n",
              "[963 rows x 6 columns]"
            ],
            "text/html": [
              "\n",
              "  <div id=\"df-9af95b41-0f70-42ee-8cad-000fdd841f71\">\n",
              "    <div class=\"colab-df-container\">\n",
              "      <div>\n",
              "<style scoped>\n",
              "    .dataframe tbody tr th:only-of-type {\n",
              "        vertical-align: middle;\n",
              "    }\n",
              "\n",
              "    .dataframe tbody tr th {\n",
              "        vertical-align: top;\n",
              "    }\n",
              "\n",
              "    .dataframe thead th {\n",
              "        text-align: right;\n",
              "    }\n",
              "</style>\n",
              "<table border=\"1\" class=\"dataframe\">\n",
              "  <thead>\n",
              "    <tr style=\"text-align: right;\">\n",
              "      <th></th>\n",
              "      <th>iter</th>\n",
              "      <th>paramName</th>\n",
              "      <th>paramValue</th>\n",
              "      <th>giniTrain</th>\n",
              "      <th>giniTest</th>\n",
              "      <th>overfitting</th>\n",
              "    </tr>\n",
              "  </thead>\n",
              "  <tbody>\n",
              "    <tr>\n",
              "      <th>117</th>\n",
              "      <td>13</td>\n",
              "      <td>objetive</td>\n",
              "      <td>binary_logistic</td>\n",
              "      <td>82.76427</td>\n",
              "      <td>65.272570</td>\n",
              "      <td>17.491700</td>\n",
              "    </tr>\n",
              "    <tr>\n",
              "      <th>119</th>\n",
              "      <td>13</td>\n",
              "      <td>learning_rate</td>\n",
              "      <td>0.01</td>\n",
              "      <td>82.76427</td>\n",
              "      <td>65.272570</td>\n",
              "      <td>17.491700</td>\n",
              "    </tr>\n",
              "    <tr>\n",
              "      <th>120</th>\n",
              "      <td>13</td>\n",
              "      <td>seed</td>\n",
              "      <td>123</td>\n",
              "      <td>82.76427</td>\n",
              "      <td>65.272570</td>\n",
              "      <td>17.491700</td>\n",
              "    </tr>\n",
              "    <tr>\n",
              "      <th>121</th>\n",
              "      <td>13</td>\n",
              "      <td>max_leaves</td>\n",
              "      <td>4</td>\n",
              "      <td>82.76427</td>\n",
              "      <td>65.272570</td>\n",
              "      <td>17.491700</td>\n",
              "    </tr>\n",
              "    <tr>\n",
              "      <th>122</th>\n",
              "      <td>13</td>\n",
              "      <td>min_data_leaf</td>\n",
              "      <td>0.02</td>\n",
              "      <td>82.76427</td>\n",
              "      <td>65.272570</td>\n",
              "      <td>17.491700</td>\n",
              "    </tr>\n",
              "    <tr>\n",
              "      <th>...</th>\n",
              "      <td>...</td>\n",
              "      <td>...</td>\n",
              "      <td>...</td>\n",
              "      <td>...</td>\n",
              "      <td>...</td>\n",
              "      <td>...</td>\n",
              "    </tr>\n",
              "    <tr>\n",
              "      <th>686</th>\n",
              "      <td>76</td>\n",
              "      <td>learning_rate</td>\n",
              "      <td>0.2</td>\n",
              "      <td>91.95508</td>\n",
              "      <td>56.705475</td>\n",
              "      <td>35.249605</td>\n",
              "    </tr>\n",
              "    <tr>\n",
              "      <th>685</th>\n",
              "      <td>76</td>\n",
              "      <td>max_depth</td>\n",
              "      <td>11</td>\n",
              "      <td>91.95508</td>\n",
              "      <td>56.705475</td>\n",
              "      <td>35.249605</td>\n",
              "    </tr>\n",
              "    <tr>\n",
              "      <th>692</th>\n",
              "      <td>76</td>\n",
              "      <td>eval_metric</td>\n",
              "      <td>auc</td>\n",
              "      <td>91.95508</td>\n",
              "      <td>56.705475</td>\n",
              "      <td>35.249605</td>\n",
              "    </tr>\n",
              "    <tr>\n",
              "      <th>687</th>\n",
              "      <td>76</td>\n",
              "      <td>seed</td>\n",
              "      <td>123</td>\n",
              "      <td>91.95508</td>\n",
              "      <td>56.705475</td>\n",
              "      <td>35.249605</td>\n",
              "    </tr>\n",
              "    <tr>\n",
              "      <th>691</th>\n",
              "      <td>76</td>\n",
              "      <td>min_child_weight</td>\n",
              "      <td>4</td>\n",
              "      <td>91.95508</td>\n",
              "      <td>56.705475</td>\n",
              "      <td>35.249605</td>\n",
              "    </tr>\n",
              "  </tbody>\n",
              "</table>\n",
              "<p>963 rows × 6 columns</p>\n",
              "</div>\n",
              "      <button class=\"colab-df-convert\" onclick=\"convertToInteractive('df-9af95b41-0f70-42ee-8cad-000fdd841f71')\"\n",
              "              title=\"Convert this dataframe to an interactive table.\"\n",
              "              style=\"display:none;\">\n",
              "        \n",
              "  <svg xmlns=\"http://www.w3.org/2000/svg\" height=\"24px\"viewBox=\"0 0 24 24\"\n",
              "       width=\"24px\">\n",
              "    <path d=\"M0 0h24v24H0V0z\" fill=\"none\"/>\n",
              "    <path d=\"M18.56 5.44l.94 2.06.94-2.06 2.06-.94-2.06-.94-.94-2.06-.94 2.06-2.06.94zm-11 1L8.5 8.5l.94-2.06 2.06-.94-2.06-.94L8.5 2.5l-.94 2.06-2.06.94zm10 10l.94 2.06.94-2.06 2.06-.94-2.06-.94-.94-2.06-.94 2.06-2.06.94z\"/><path d=\"M17.41 7.96l-1.37-1.37c-.4-.4-.92-.59-1.43-.59-.52 0-1.04.2-1.43.59L10.3 9.45l-7.72 7.72c-.78.78-.78 2.05 0 2.83L4 21.41c.39.39.9.59 1.41.59.51 0 1.02-.2 1.41-.59l7.78-7.78 2.81-2.81c.8-.78.8-2.07 0-2.86zM5.41 20L4 18.59l7.72-7.72 1.47 1.35L5.41 20z\"/>\n",
              "  </svg>\n",
              "      </button>\n",
              "      \n",
              "  <style>\n",
              "    .colab-df-container {\n",
              "      display:flex;\n",
              "      flex-wrap:wrap;\n",
              "      gap: 12px;\n",
              "    }\n",
              "\n",
              "    .colab-df-convert {\n",
              "      background-color: #E8F0FE;\n",
              "      border: none;\n",
              "      border-radius: 50%;\n",
              "      cursor: pointer;\n",
              "      display: none;\n",
              "      fill: #1967D2;\n",
              "      height: 32px;\n",
              "      padding: 0 0 0 0;\n",
              "      width: 32px;\n",
              "    }\n",
              "\n",
              "    .colab-df-convert:hover {\n",
              "      background-color: #E2EBFA;\n",
              "      box-shadow: 0px 1px 2px rgba(60, 64, 67, 0.3), 0px 1px 3px 1px rgba(60, 64, 67, 0.15);\n",
              "      fill: #174EA6;\n",
              "    }\n",
              "\n",
              "    [theme=dark] .colab-df-convert {\n",
              "      background-color: #3B4455;\n",
              "      fill: #D2E3FC;\n",
              "    }\n",
              "\n",
              "    [theme=dark] .colab-df-convert:hover {\n",
              "      background-color: #434B5C;\n",
              "      box-shadow: 0px 1px 3px 1px rgba(0, 0, 0, 0.15);\n",
              "      filter: drop-shadow(0px 1px 2px rgba(0, 0, 0, 0.3));\n",
              "      fill: #FFFFFF;\n",
              "    }\n",
              "  </style>\n",
              "\n",
              "      <script>\n",
              "        const buttonEl =\n",
              "          document.querySelector('#df-9af95b41-0f70-42ee-8cad-000fdd841f71 button.colab-df-convert');\n",
              "        buttonEl.style.display =\n",
              "          google.colab.kernel.accessAllowed ? 'block' : 'none';\n",
              "\n",
              "        async function convertToInteractive(key) {\n",
              "          const element = document.querySelector('#df-9af95b41-0f70-42ee-8cad-000fdd841f71');\n",
              "          const dataTable =\n",
              "            await google.colab.kernel.invokeFunction('convertToInteractive',\n",
              "                                                     [key], {});\n",
              "          if (!dataTable) return;\n",
              "\n",
              "          const docLinkHtml = 'Like what you see? Visit the ' +\n",
              "            '<a target=\"_blank\" href=https://colab.research.google.com/notebooks/data_table.ipynb>data table notebook</a>'\n",
              "            + ' to learn more about interactive tables.';\n",
              "          element.innerHTML = '';\n",
              "          dataTable['output_type'] = 'display_data';\n",
              "          await google.colab.output.renderOutput(dataTable, element);\n",
              "          const docLink = document.createElement('div');\n",
              "          docLink.innerHTML = docLinkHtml;\n",
              "          element.appendChild(docLink);\n",
              "        }\n",
              "      </script>\n",
              "    </div>\n",
              "  </div>\n",
              "  "
            ]
          },
          "metadata": {},
          "execution_count": 29
        }
      ]
    },
    {
      "cell_type": "code",
      "metadata": {
        "id": "HHbUYYLSfLo6"
      },
      "source": [
        "import seaborn as sns\n",
        "import matplotlib.pyplot as plt\n"
      ],
      "execution_count": 30,
      "outputs": []
    },
    {
      "cell_type": "code",
      "metadata": {
        "id": "OsXym2Dpe4Ok",
        "colab": {
          "base_uri": "https://localhost:8080/",
          "height": 476
        },
        "outputId": "e4782928-52c0-413e-b64f-d4cf93d30890"
      },
      "source": [
        "pdResults = pdResults[~pdResults.paramName.isin(['objective', 'eval_metric', 'eta'])]\n",
        "set(pdResults['paramName'])\n",
        "\n",
        "\n",
        "sns.FacetGrid(pdResults.loc[pdResults.paramName=='learning_rate'],\n",
        "              row=\"paramName\", \n",
        "              sharex=False, size=5, aspect=1.5).\\\n",
        "          map(sns.boxplot,\n",
        "              'paramValue',\n",
        "              'giniTest')"
      ],
      "execution_count": 31,
      "outputs": [
        {
          "output_type": "stream",
          "name": "stderr",
          "text": [
            "/usr/local/lib/python3.7/dist-packages/seaborn/axisgrid.py:337: UserWarning: The `size` parameter has been renamed to `height`; please update your code.\n",
            "  warnings.warn(msg, UserWarning)\n",
            "/usr/local/lib/python3.7/dist-packages/seaborn/axisgrid.py:670: UserWarning: Using the boxplot function without specifying `order` is likely to produce an incorrect plot.\n",
            "  warnings.warn(warning)\n"
          ]
        },
        {
          "output_type": "execute_result",
          "data": {
            "text/plain": [
              "<seaborn.axisgrid.FacetGrid at 0x7f83c3bdbf90>"
            ]
          },
          "metadata": {},
          "execution_count": 31
        },
        {
          "output_type": "display_data",
          "data": {
            "text/plain": [
              "<Figure size 540x360 with 1 Axes>"
            ],
            "image/png": "[encoded data removed]"
          },
          "metadata": {
            "needs_background": "light"
          }
        }
      ]
    },
    {
      "cell_type": "code",
      "metadata": {
        "id": "mQJt2G5TU0IJ",
        "colab": {
          "base_uri": "https://localhost:8080/",
          "height": 476
        },
        "outputId": "f823da38-37a0-4929-c0ed-8c5b5c053c7b"
      },
      "source": [
        "sns.FacetGrid(pdResults.loc[pdResults.paramName=='max_depth'],\n",
        "              row=\"paramName\", \n",
        "              sharex=False, size=5, aspect=1.5).\\\n",
        "          map(sns.boxplot,\n",
        "              'paramValue',\n",
        "              'giniTest')"
      ],
      "execution_count": 32,
      "outputs": [
        {
          "output_type": "stream",
          "name": "stderr",
          "text": [
            "/usr/local/lib/python3.7/dist-packages/seaborn/axisgrid.py:337: UserWarning: The `size` parameter has been renamed to `height`; please update your code.\n",
            "  warnings.warn(msg, UserWarning)\n",
            "/usr/local/lib/python3.7/dist-packages/seaborn/axisgrid.py:670: UserWarning: Using the boxplot function without specifying `order` is likely to produce an incorrect plot.\n",
            "  warnings.warn(warning)\n"
          ]
        },
        {
          "output_type": "execute_result",
          "data": {
            "text/plain": [
              "<seaborn.axisgrid.FacetGrid at 0x7f83c3315c10>"
            ]
          },
          "metadata": {},
          "execution_count": 32
        },
        {
          "output_type": "display_data",
          "data": {
            "text/plain": [
              "<Figure size 540x360 with 1 Axes>"
            ],
            "image/png": "[encoded data removed]"
          },
          "metadata": {
            "needs_background": "light"
          }
        }
      ]
    },
    {
      "cell_type": "markdown",
      "metadata": {
        "id": "4iMhUa5-gNCX"
      },
      "source": [
        "# Implementación de Modelos"
      ]
    },
    {
      "cell_type": "code",
      "metadata": {
        "id": "KYP3ZL4HgoGJ"
      },
      "source": [
        "import pickle"
      ],
      "execution_count": null,
      "outputs": []
    },
    {
      "cell_type": "code",
      "metadata": {
        "id": "VDD_3bR1gSGv"
      },
      "source": [
        "xgBoost"
      ],
      "execution_count": null,
      "outputs": []
    },
    {
      "cell_type": "code",
      "metadata": {
        "id": "jSXX5_Qsgx9B"
      },
      "source": [
        "objectToSave = xgBoost\n",
        "filename = \"./XGBoost.xgb\"\n",
        "pickle.dump(objectToSave, open(filename, 'wb'))\n",
        "print(\"done\")"
      ],
      "execution_count": null,
      "outputs": []
    },
    {
      "cell_type": "code",
      "metadata": {
        "id": "HfhT8AyRhdSj"
      },
      "source": [
        "filename = \"./XGBoost.xgb\"\n",
        "loaded_model = pickle.load(open(filename, 'rb'))"
      ],
      "execution_count": null,
      "outputs": []
    },
    {
      "cell_type": "code",
      "metadata": {
        "id": "RWdsHBSrhteA"
      },
      "source": [
        "loaded_model"
      ],
      "execution_count": null,
      "outputs": []
    },
    {
      "cell_type": "code",
      "metadata": {
        "id": "SjPOv4jG-2Oc"
      },
      "source": [
        "loaded_model.predict(xgb.DMatrix(X_test[features], label = y_test))\n"
      ],
      "execution_count": null,
      "outputs": []
    },
    {
      "cell_type": "markdown",
      "metadata": {
        "id": "x-4g7hHrRY22"
      },
      "source": [
        "---\n",
        "\n",
        "# Gracias por completar este laboratorio!\n",
        "\n",
        "---\n",
        "\n"
      ]
    }
  ]
}