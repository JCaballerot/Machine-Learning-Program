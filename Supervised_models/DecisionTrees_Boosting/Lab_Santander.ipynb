{
  "nbformat": 4,
  "nbformat_minor": 0,
  "metadata": {
    "colab": {
      "name": "Lab: Santander.ipynb",
      "provenance": [],
      "machine_shape": "hm",
      "authorship_tag": "ABX9TyNZ4SEIMjS5pmst5g0v94PG",
      "include_colab_link": true
    },
    "kernelspec": {
      "name": "python3",
      "display_name": "Python 3"
    }
  },
  "cells": [
    {
      "cell_type": "markdown",
      "metadata": {
        "id": "view-in-github",
        "colab_type": "text"
      },
      "source": [
        "<a href=\"https://colab.research.google.com/github/JCaballerot/Machine_learning_program/blob/main/Supervised_models/DecisionTrees_Boosting/Lab_Santander.ipynb\" target=\"_parent\"><img src=\"https://colab.research.google.com/assets/colab-badge.svg\" alt=\"Open In Colab\"/></a>"
      ]
    },
    {
      "cell_type": "markdown",
      "metadata": {
        "id": "d52SmLiMKz01"
      },
      "source": [
        "\n",
        "<h1 align=center><font size = 5>Santander Customer Satisfaction\n",
        "</font></h1>\n",
        "\n",
        "---"
      ]
    },
    {
      "cell_type": "markdown",
      "metadata": {
        "id": "Is3nFhGglsft"
      },
      "source": [
        "## Tabla de Contenidos\n",
        "\n",
        "<div class=\"alert alert-block alert-info\" style=\"margin-top: 20px\">\n",
        "\n",
        "<font size = 3>\n",
        "    \n",
        "1. <a href=\"#item31\">Introducción</a>  \n",
        "2. <a href=\"#item32\">Santander Problem</a>  \n",
        "3. <a href=\"#item33\">Descargar y limpiar el Dataset</a>  \n",
        "4. <a href=\"#item34\">SMOTE Algorithm</a>  \n",
        "5. <a href=\"#item34\">Decision Trees</a>  \n",
        "7. <a href=\"#item34\">Cross Validation y GridSearch</a>  \n",
        "6. <a href=\"#item34\">Random Forest</a>  \n",
        "8. <a href=\"#item34\">AdaBoost</a>  \n",
        "9. <a href=\"#item34\">XGBoost</a> \n",
        "10. <a href=\"#item34\">RandomSearch</a> \n",
        "11. <a href=\"#item34\">¿Cómo implementar un modelo?</a>  \n",
        "\n",
        "</font>\n",
        "</div>"
      ]
    },
    {
      "cell_type": "markdown",
      "metadata": {
        "button": false,
        "deletable": true,
        "new_sheet": false,
        "run_control": {
          "read_only": false
        },
        "id": "R_NIQeNlLo19"
      },
      "source": [
        "## Introducción\n"
      ]
    },
    {
      "cell_type": "markdown",
      "metadata": {
        "id": "g7LRGuxBHMpw"
      },
      "source": [
        "En este laboratorio, aprenderá a usar python para construir modelos de ensemble."
      ]
    },
    {
      "cell_type": "markdown",
      "metadata": {
        "id": "yFB_r2dkHMp7"
      },
      "source": [
        "\n",
        "<h3>Objetivo de este Notebook<h3>    \n",
        "<h5> 1. Como construir e interpretar un modelo de ensemble.</h5>\n",
        "<h5> 2. Descargar y limpiar un Dataset </h5>\n",
        "<h5> 3. Realizar los pasos necesarios previos a la etapa de modelamiento </h5>\n",
        "<h5> 4. Entrenar y Testear modelo </h5>     "
      ]
    },
    {
      "cell_type": "markdown",
      "metadata": {
        "id": "cWBGqVX6HMp8"
      },
      "source": [
        "Primero, importemos algunos módulos que necesitaremos para el análisis y construcción del modelo."
      ]
    },
    {
      "cell_type": "code",
      "metadata": {
        "id": "PEMIsurDJf4M"
      },
      "source": [
        "\n",
        "# Scikit-Learn \n",
        "import sklearn\n",
        "assert sklearn.__version__ >= \"0.20\"\n",
        "\n",
        "# Imports comunes\n",
        "import pandas as pd\n",
        "import numpy as np\n",
        "import os\n",
        "\n",
        "# Configuración de tamaño de gráficos matplotlib\n",
        "%matplotlib inline\n",
        "import matplotlib as mpl\n",
        "import matplotlib.pyplot as plt\n",
        "\n",
        "mpl.rc('axes', labelsize=14)\n",
        "mpl.rc('xtick', labelsize=12)\n",
        "mpl.rc('ytick', labelsize=12)\n",
        "\n",
        "# Ignore las advertencias poco útiles\n",
        "import warnings\n",
        "warnings.filterwarnings(action=\"ignore\", message=\"^internal gelsd\")"
      ],
      "execution_count": null,
      "outputs": []
    },
    {
      "cell_type": "markdown",
      "metadata": {
        "id": "rtJhMpGIoKSg"
      },
      "source": [
        "## Santander Customer Satisfaction"
      ]
    },
    {
      "cell_type": "markdown",
      "metadata": {
        "id": "KZwf0QHnLBB6"
      },
      "source": [
        "\n",
        "Desde los equipos de soporte de primera línea hasta los ejecutivos, la satisfacción del cliente es una medida clave del éxito de una empresa. Los clientes insatisfechos no se quedan. Es más, los clientes insatisfechos rara vez expresan su insatisfacción antes de irse.\n",
        "\n",
        "El banco Santander está pidiendo a la comunidad data scientist que los ayude a identificar clientes insatisfechos desde su primera interacción. Hacerlo permitiría a Santander tomar medidas proactivas para mejorar la felicidad de un cliente antes de que sea demasiado tarde.\n",
        "\n",
        "En este laboratorio, trabajará con cientos de variables anónimas para predecir si un cliente está satisfecho o insatisfecho con su experiencia bancaria."
      ]
    },
    {
      "cell_type": "markdown",
      "metadata": {
        "id": "WMTTs7KsMZIF"
      },
      "source": [
        "<img src=\"https://storage.googleapis.com/kaggle-competitions/kaggle/4986/media/santander_custsat_red.png\" alt=\"HTML5 Icon\" style=\"width: 600px; height: 450px;\">\n",
        "<div style=\"text-align: center\">¿Qué clientes son clientes satisfechos? </div>"
      ]
    },
    {
      "cell_type": "markdown",
      "metadata": {
        "id": "RA0bDOj5LtM7"
      },
      "source": [
        "\n",
        "<b>Descripción de datos</b>\n",
        "\n",
        "El data frame de Santander tiene 76,020 filas y 371 columnas.\n",
        "\n",
        "\n",
        "---\n",
        "\n",
        "Se le proporciona un conjunto de datos anónimos que contiene una gran cantidad de variables numéricas. La columna <b>\"OBJETIVO\"</b> es la variable a predecir. Es igual a uno para clientes insatisfechos y 0 para clientes satisfechos.\n",
        "\n",
        "La tarea consiste en predecir la probabilidad de que cada cliente del conjunto de prueba sea un cliente insatisfecho.\n",
        "\n",
        "\n",
        "---\n",
        "\n",
        "\n",
        "<strong>Puede consultar este [link](https://www.kaggle.com/c/santander-customer-satisfaction/overview) para leer más sobre la fuente de datos Santander.</strong>\n"
      ]
    },
    {
      "cell_type": "markdown",
      "metadata": {
        "button": false,
        "deletable": true,
        "new_sheet": false,
        "run_control": {
          "read_only": false
        },
        "id": "_dC4JellLo2B"
      },
      "source": [
        "## Descargar y limpiar Dataset\n"
      ]
    },
    {
      "cell_type": "code",
      "metadata": {
        "id": "5NynpymMcdab",
        "colab": {
          "base_uri": "https://localhost:8080/",
          "height": 253
        },
        "outputId": "fb265221-fce4-4195-866b-3ac92c0c1ef6"
      },
      "source": [
        "# Cargar Data\n",
        "import pandas as pd\n",
        "pddf = pd.read_csv(\"santander.csv\")\n",
        "pddf.head()"
      ],
      "execution_count": null,
      "outputs": [
        {
          "output_type": "execute_result",
          "data": {
            "text/html": [
              "<div>\n",
              "<style scoped>\n",
              "    .dataframe tbody tr th:only-of-type {\n",
              "        vertical-align: middle;\n",
              "    }\n",
              "\n",
              "    .dataframe tbody tr th {\n",
              "        vertical-align: top;\n",
              "    }\n",
              "\n",
              "    .dataframe thead th {\n",
              "        text-align: right;\n",
              "    }\n",
              "</style>\n",
              "<table border=\"1\" class=\"dataframe\">\n",
              "  <thead>\n",
              "    <tr style=\"text-align: right;\">\n",
              "      <th></th>\n",
              "      <th>ID</th>\n",
              "      <th>var3</th>\n",
              "      <th>var15</th>\n",
              "      <th>imp_ent_var16_ult1</th>\n",
              "      <th>imp_op_var39_comer_ult1</th>\n",
              "      <th>imp_op_var39_comer_ult3</th>\n",
              "      <th>imp_op_var40_comer_ult1</th>\n",
              "      <th>imp_op_var40_comer_ult3</th>\n",
              "      <th>imp_op_var40_efect_ult1</th>\n",
              "      <th>imp_op_var40_efect_ult3</th>\n",
              "      <th>imp_op_var40_ult1</th>\n",
              "      <th>imp_op_var41_comer_ult1</th>\n",
              "      <th>imp_op_var41_comer_ult3</th>\n",
              "      <th>imp_op_var41_efect_ult1</th>\n",
              "      <th>imp_op_var41_efect_ult3</th>\n",
              "      <th>imp_op_var41_ult1</th>\n",
              "      <th>imp_op_var39_efect_ult1</th>\n",
              "      <th>imp_op_var39_efect_ult3</th>\n",
              "      <th>imp_op_var39_ult1</th>\n",
              "      <th>imp_sal_var16_ult1</th>\n",
              "      <th>ind_var1_0</th>\n",
              "      <th>ind_var1</th>\n",
              "      <th>ind_var2_0</th>\n",
              "      <th>ind_var2</th>\n",
              "      <th>ind_var5_0</th>\n",
              "      <th>ind_var5</th>\n",
              "      <th>ind_var6_0</th>\n",
              "      <th>ind_var6</th>\n",
              "      <th>ind_var8_0</th>\n",
              "      <th>ind_var8</th>\n",
              "      <th>ind_var12_0</th>\n",
              "      <th>ind_var12</th>\n",
              "      <th>ind_var13_0</th>\n",
              "      <th>ind_var13_corto_0</th>\n",
              "      <th>ind_var13_corto</th>\n",
              "      <th>ind_var13_largo_0</th>\n",
              "      <th>ind_var13_largo</th>\n",
              "      <th>ind_var13_medio_0</th>\n",
              "      <th>ind_var13_medio</th>\n",
              "      <th>ind_var13</th>\n",
              "      <th>...</th>\n",
              "      <th>saldo_medio_var5_ult1</th>\n",
              "      <th>saldo_medio_var5_ult3</th>\n",
              "      <th>saldo_medio_var8_hace2</th>\n",
              "      <th>saldo_medio_var8_hace3</th>\n",
              "      <th>saldo_medio_var8_ult1</th>\n",
              "      <th>saldo_medio_var8_ult3</th>\n",
              "      <th>saldo_medio_var12_hace2</th>\n",
              "      <th>saldo_medio_var12_hace3</th>\n",
              "      <th>saldo_medio_var12_ult1</th>\n",
              "      <th>saldo_medio_var12_ult3</th>\n",
              "      <th>saldo_medio_var13_corto_hace2</th>\n",
              "      <th>saldo_medio_var13_corto_hace3</th>\n",
              "      <th>saldo_medio_var13_corto_ult1</th>\n",
              "      <th>saldo_medio_var13_corto_ult3</th>\n",
              "      <th>saldo_medio_var13_largo_hace2</th>\n",
              "      <th>saldo_medio_var13_largo_hace3</th>\n",
              "      <th>saldo_medio_var13_largo_ult1</th>\n",
              "      <th>saldo_medio_var13_largo_ult3</th>\n",
              "      <th>saldo_medio_var13_medio_hace2</th>\n",
              "      <th>saldo_medio_var13_medio_hace3</th>\n",
              "      <th>saldo_medio_var13_medio_ult1</th>\n",
              "      <th>saldo_medio_var13_medio_ult3</th>\n",
              "      <th>saldo_medio_var17_hace2</th>\n",
              "      <th>saldo_medio_var17_hace3</th>\n",
              "      <th>saldo_medio_var17_ult1</th>\n",
              "      <th>saldo_medio_var17_ult3</th>\n",
              "      <th>saldo_medio_var29_hace2</th>\n",
              "      <th>saldo_medio_var29_hace3</th>\n",
              "      <th>saldo_medio_var29_ult1</th>\n",
              "      <th>saldo_medio_var29_ult3</th>\n",
              "      <th>saldo_medio_var33_hace2</th>\n",
              "      <th>saldo_medio_var33_hace3</th>\n",
              "      <th>saldo_medio_var33_ult1</th>\n",
              "      <th>saldo_medio_var33_ult3</th>\n",
              "      <th>saldo_medio_var44_hace2</th>\n",
              "      <th>saldo_medio_var44_hace3</th>\n",
              "      <th>saldo_medio_var44_ult1</th>\n",
              "      <th>saldo_medio_var44_ult3</th>\n",
              "      <th>var38</th>\n",
              "      <th>TARGET</th>\n",
              "    </tr>\n",
              "  </thead>\n",
              "  <tbody>\n",
              "    <tr>\n",
              "      <th>0</th>\n",
              "      <td>1</td>\n",
              "      <td>2</td>\n",
              "      <td>23</td>\n",
              "      <td>0.0</td>\n",
              "      <td>0.0</td>\n",
              "      <td>0.0</td>\n",
              "      <td>0.0</td>\n",
              "      <td>0.0</td>\n",
              "      <td>0.0</td>\n",
              "      <td>0.0</td>\n",
              "      <td>0.0</td>\n",
              "      <td>0.0</td>\n",
              "      <td>0.0</td>\n",
              "      <td>0.0</td>\n",
              "      <td>0.0</td>\n",
              "      <td>0.0</td>\n",
              "      <td>0.0</td>\n",
              "      <td>0.0</td>\n",
              "      <td>0.0</td>\n",
              "      <td>0.0</td>\n",
              "      <td>0</td>\n",
              "      <td>0</td>\n",
              "      <td>0</td>\n",
              "      <td>0</td>\n",
              "      <td>1</td>\n",
              "      <td>0</td>\n",
              "      <td>0</td>\n",
              "      <td>0</td>\n",
              "      <td>0</td>\n",
              "      <td>0</td>\n",
              "      <td>0</td>\n",
              "      <td>0</td>\n",
              "      <td>0</td>\n",
              "      <td>0</td>\n",
              "      <td>0</td>\n",
              "      <td>0</td>\n",
              "      <td>0</td>\n",
              "      <td>0</td>\n",
              "      <td>0</td>\n",
              "      <td>0</td>\n",
              "      <td>...</td>\n",
              "      <td>0.00</td>\n",
              "      <td>0.00</td>\n",
              "      <td>0.0</td>\n",
              "      <td>0.0</td>\n",
              "      <td>0.0</td>\n",
              "      <td>0.0</td>\n",
              "      <td>0.0</td>\n",
              "      <td>0.0</td>\n",
              "      <td>0.00</td>\n",
              "      <td>0.00</td>\n",
              "      <td>0.0</td>\n",
              "      <td>0.00</td>\n",
              "      <td>0.0</td>\n",
              "      <td>0.00</td>\n",
              "      <td>0.0</td>\n",
              "      <td>0.0</td>\n",
              "      <td>0.0</td>\n",
              "      <td>0.0</td>\n",
              "      <td>0.0</td>\n",
              "      <td>0</td>\n",
              "      <td>0</td>\n",
              "      <td>0.0</td>\n",
              "      <td>0.0</td>\n",
              "      <td>0.0</td>\n",
              "      <td>0.0</td>\n",
              "      <td>0.0</td>\n",
              "      <td>0.0</td>\n",
              "      <td>0.0</td>\n",
              "      <td>0.0</td>\n",
              "      <td>0.0</td>\n",
              "      <td>0.0</td>\n",
              "      <td>0.0</td>\n",
              "      <td>0.0</td>\n",
              "      <td>0.0</td>\n",
              "      <td>0.0</td>\n",
              "      <td>0.0</td>\n",
              "      <td>0.0</td>\n",
              "      <td>0.0</td>\n",
              "      <td>39205.170000</td>\n",
              "      <td>0</td>\n",
              "    </tr>\n",
              "    <tr>\n",
              "      <th>1</th>\n",
              "      <td>3</td>\n",
              "      <td>2</td>\n",
              "      <td>34</td>\n",
              "      <td>0.0</td>\n",
              "      <td>0.0</td>\n",
              "      <td>0.0</td>\n",
              "      <td>0.0</td>\n",
              "      <td>0.0</td>\n",
              "      <td>0.0</td>\n",
              "      <td>0.0</td>\n",
              "      <td>0.0</td>\n",
              "      <td>0.0</td>\n",
              "      <td>0.0</td>\n",
              "      <td>0.0</td>\n",
              "      <td>0.0</td>\n",
              "      <td>0.0</td>\n",
              "      <td>0.0</td>\n",
              "      <td>0.0</td>\n",
              "      <td>0.0</td>\n",
              "      <td>0.0</td>\n",
              "      <td>0</td>\n",
              "      <td>0</td>\n",
              "      <td>0</td>\n",
              "      <td>0</td>\n",
              "      <td>1</td>\n",
              "      <td>0</td>\n",
              "      <td>0</td>\n",
              "      <td>0</td>\n",
              "      <td>0</td>\n",
              "      <td>0</td>\n",
              "      <td>0</td>\n",
              "      <td>0</td>\n",
              "      <td>1</td>\n",
              "      <td>1</td>\n",
              "      <td>1</td>\n",
              "      <td>0</td>\n",
              "      <td>0</td>\n",
              "      <td>0</td>\n",
              "      <td>0</td>\n",
              "      <td>1</td>\n",
              "      <td>...</td>\n",
              "      <td>0.00</td>\n",
              "      <td>0.00</td>\n",
              "      <td>0.0</td>\n",
              "      <td>0.0</td>\n",
              "      <td>0.0</td>\n",
              "      <td>0.0</td>\n",
              "      <td>0.0</td>\n",
              "      <td>0.0</td>\n",
              "      <td>0.00</td>\n",
              "      <td>0.00</td>\n",
              "      <td>300.0</td>\n",
              "      <td>122.22</td>\n",
              "      <td>300.0</td>\n",
              "      <td>240.75</td>\n",
              "      <td>0.0</td>\n",
              "      <td>0.0</td>\n",
              "      <td>0.0</td>\n",
              "      <td>0.0</td>\n",
              "      <td>0.0</td>\n",
              "      <td>0</td>\n",
              "      <td>0</td>\n",
              "      <td>0.0</td>\n",
              "      <td>0.0</td>\n",
              "      <td>0.0</td>\n",
              "      <td>0.0</td>\n",
              "      <td>0.0</td>\n",
              "      <td>0.0</td>\n",
              "      <td>0.0</td>\n",
              "      <td>0.0</td>\n",
              "      <td>0.0</td>\n",
              "      <td>0.0</td>\n",
              "      <td>0.0</td>\n",
              "      <td>0.0</td>\n",
              "      <td>0.0</td>\n",
              "      <td>0.0</td>\n",
              "      <td>0.0</td>\n",
              "      <td>0.0</td>\n",
              "      <td>0.0</td>\n",
              "      <td>49278.030000</td>\n",
              "      <td>0</td>\n",
              "    </tr>\n",
              "    <tr>\n",
              "      <th>2</th>\n",
              "      <td>4</td>\n",
              "      <td>2</td>\n",
              "      <td>23</td>\n",
              "      <td>0.0</td>\n",
              "      <td>0.0</td>\n",
              "      <td>0.0</td>\n",
              "      <td>0.0</td>\n",
              "      <td>0.0</td>\n",
              "      <td>0.0</td>\n",
              "      <td>0.0</td>\n",
              "      <td>0.0</td>\n",
              "      <td>0.0</td>\n",
              "      <td>0.0</td>\n",
              "      <td>0.0</td>\n",
              "      <td>0.0</td>\n",
              "      <td>0.0</td>\n",
              "      <td>0.0</td>\n",
              "      <td>0.0</td>\n",
              "      <td>0.0</td>\n",
              "      <td>0.0</td>\n",
              "      <td>0</td>\n",
              "      <td>0</td>\n",
              "      <td>0</td>\n",
              "      <td>0</td>\n",
              "      <td>1</td>\n",
              "      <td>1</td>\n",
              "      <td>0</td>\n",
              "      <td>0</td>\n",
              "      <td>0</td>\n",
              "      <td>0</td>\n",
              "      <td>0</td>\n",
              "      <td>0</td>\n",
              "      <td>0</td>\n",
              "      <td>0</td>\n",
              "      <td>0</td>\n",
              "      <td>0</td>\n",
              "      <td>0</td>\n",
              "      <td>0</td>\n",
              "      <td>0</td>\n",
              "      <td>0</td>\n",
              "      <td>...</td>\n",
              "      <td>3.00</td>\n",
              "      <td>2.07</td>\n",
              "      <td>0.0</td>\n",
              "      <td>0.0</td>\n",
              "      <td>0.0</td>\n",
              "      <td>0.0</td>\n",
              "      <td>0.0</td>\n",
              "      <td>0.0</td>\n",
              "      <td>0.00</td>\n",
              "      <td>0.00</td>\n",
              "      <td>0.0</td>\n",
              "      <td>0.00</td>\n",
              "      <td>0.0</td>\n",
              "      <td>0.00</td>\n",
              "      <td>0.0</td>\n",
              "      <td>0.0</td>\n",
              "      <td>0.0</td>\n",
              "      <td>0.0</td>\n",
              "      <td>0.0</td>\n",
              "      <td>0</td>\n",
              "      <td>0</td>\n",
              "      <td>0.0</td>\n",
              "      <td>0.0</td>\n",
              "      <td>0.0</td>\n",
              "      <td>0.0</td>\n",
              "      <td>0.0</td>\n",
              "      <td>0.0</td>\n",
              "      <td>0.0</td>\n",
              "      <td>0.0</td>\n",
              "      <td>0.0</td>\n",
              "      <td>0.0</td>\n",
              "      <td>0.0</td>\n",
              "      <td>0.0</td>\n",
              "      <td>0.0</td>\n",
              "      <td>0.0</td>\n",
              "      <td>0.0</td>\n",
              "      <td>0.0</td>\n",
              "      <td>0.0</td>\n",
              "      <td>67333.770000</td>\n",
              "      <td>0</td>\n",
              "    </tr>\n",
              "    <tr>\n",
              "      <th>3</th>\n",
              "      <td>8</td>\n",
              "      <td>2</td>\n",
              "      <td>37</td>\n",
              "      <td>0.0</td>\n",
              "      <td>195.0</td>\n",
              "      <td>195.0</td>\n",
              "      <td>0.0</td>\n",
              "      <td>0.0</td>\n",
              "      <td>0.0</td>\n",
              "      <td>0.0</td>\n",
              "      <td>0.0</td>\n",
              "      <td>195.0</td>\n",
              "      <td>195.0</td>\n",
              "      <td>0.0</td>\n",
              "      <td>0.0</td>\n",
              "      <td>195.0</td>\n",
              "      <td>0.0</td>\n",
              "      <td>0.0</td>\n",
              "      <td>195.0</td>\n",
              "      <td>0.0</td>\n",
              "      <td>0</td>\n",
              "      <td>0</td>\n",
              "      <td>0</td>\n",
              "      <td>0</td>\n",
              "      <td>1</td>\n",
              "      <td>1</td>\n",
              "      <td>0</td>\n",
              "      <td>0</td>\n",
              "      <td>0</td>\n",
              "      <td>0</td>\n",
              "      <td>0</td>\n",
              "      <td>0</td>\n",
              "      <td>0</td>\n",
              "      <td>0</td>\n",
              "      <td>0</td>\n",
              "      <td>0</td>\n",
              "      <td>0</td>\n",
              "      <td>0</td>\n",
              "      <td>0</td>\n",
              "      <td>0</td>\n",
              "      <td>...</td>\n",
              "      <td>91.56</td>\n",
              "      <td>138.84</td>\n",
              "      <td>0.0</td>\n",
              "      <td>0.0</td>\n",
              "      <td>0.0</td>\n",
              "      <td>0.0</td>\n",
              "      <td>0.0</td>\n",
              "      <td>0.0</td>\n",
              "      <td>0.00</td>\n",
              "      <td>0.00</td>\n",
              "      <td>0.0</td>\n",
              "      <td>0.00</td>\n",
              "      <td>0.0</td>\n",
              "      <td>0.00</td>\n",
              "      <td>0.0</td>\n",
              "      <td>0.0</td>\n",
              "      <td>0.0</td>\n",
              "      <td>0.0</td>\n",
              "      <td>0.0</td>\n",
              "      <td>0</td>\n",
              "      <td>0</td>\n",
              "      <td>0.0</td>\n",
              "      <td>0.0</td>\n",
              "      <td>0.0</td>\n",
              "      <td>0.0</td>\n",
              "      <td>0.0</td>\n",
              "      <td>0.0</td>\n",
              "      <td>0.0</td>\n",
              "      <td>0.0</td>\n",
              "      <td>0.0</td>\n",
              "      <td>0.0</td>\n",
              "      <td>0.0</td>\n",
              "      <td>0.0</td>\n",
              "      <td>0.0</td>\n",
              "      <td>0.0</td>\n",
              "      <td>0.0</td>\n",
              "      <td>0.0</td>\n",
              "      <td>0.0</td>\n",
              "      <td>64007.970000</td>\n",
              "      <td>0</td>\n",
              "    </tr>\n",
              "    <tr>\n",
              "      <th>4</th>\n",
              "      <td>10</td>\n",
              "      <td>2</td>\n",
              "      <td>39</td>\n",
              "      <td>0.0</td>\n",
              "      <td>0.0</td>\n",
              "      <td>0.0</td>\n",
              "      <td>0.0</td>\n",
              "      <td>0.0</td>\n",
              "      <td>0.0</td>\n",
              "      <td>0.0</td>\n",
              "      <td>0.0</td>\n",
              "      <td>0.0</td>\n",
              "      <td>0.0</td>\n",
              "      <td>0.0</td>\n",
              "      <td>0.0</td>\n",
              "      <td>0.0</td>\n",
              "      <td>0.0</td>\n",
              "      <td>0.0</td>\n",
              "      <td>0.0</td>\n",
              "      <td>0.0</td>\n",
              "      <td>0</td>\n",
              "      <td>0</td>\n",
              "      <td>0</td>\n",
              "      <td>0</td>\n",
              "      <td>1</td>\n",
              "      <td>0</td>\n",
              "      <td>0</td>\n",
              "      <td>0</td>\n",
              "      <td>0</td>\n",
              "      <td>0</td>\n",
              "      <td>1</td>\n",
              "      <td>1</td>\n",
              "      <td>0</td>\n",
              "      <td>0</td>\n",
              "      <td>0</td>\n",
              "      <td>0</td>\n",
              "      <td>0</td>\n",
              "      <td>0</td>\n",
              "      <td>0</td>\n",
              "      <td>0</td>\n",
              "      <td>...</td>\n",
              "      <td>40501.08</td>\n",
              "      <td>13501.47</td>\n",
              "      <td>0.0</td>\n",
              "      <td>0.0</td>\n",
              "      <td>0.0</td>\n",
              "      <td>0.0</td>\n",
              "      <td>0.0</td>\n",
              "      <td>0.0</td>\n",
              "      <td>85501.89</td>\n",
              "      <td>85501.89</td>\n",
              "      <td>0.0</td>\n",
              "      <td>0.00</td>\n",
              "      <td>0.0</td>\n",
              "      <td>0.00</td>\n",
              "      <td>0.0</td>\n",
              "      <td>0.0</td>\n",
              "      <td>0.0</td>\n",
              "      <td>0.0</td>\n",
              "      <td>0.0</td>\n",
              "      <td>0</td>\n",
              "      <td>0</td>\n",
              "      <td>0.0</td>\n",
              "      <td>0.0</td>\n",
              "      <td>0.0</td>\n",
              "      <td>0.0</td>\n",
              "      <td>0.0</td>\n",
              "      <td>0.0</td>\n",
              "      <td>0.0</td>\n",
              "      <td>0.0</td>\n",
              "      <td>0.0</td>\n",
              "      <td>0.0</td>\n",
              "      <td>0.0</td>\n",
              "      <td>0.0</td>\n",
              "      <td>0.0</td>\n",
              "      <td>0.0</td>\n",
              "      <td>0.0</td>\n",
              "      <td>0.0</td>\n",
              "      <td>0.0</td>\n",
              "      <td>117310.979016</td>\n",
              "      <td>0</td>\n",
              "    </tr>\n",
              "  </tbody>\n",
              "</table>\n",
              "<p>5 rows × 371 columns</p>\n",
              "</div>"
            ],
            "text/plain": [
              "   ID  var3  var15  ...  saldo_medio_var44_ult3          var38  TARGET\n",
              "0   1     2     23  ...                     0.0   39205.170000       0\n",
              "1   3     2     34  ...                     0.0   49278.030000       0\n",
              "2   4     2     23  ...                     0.0   67333.770000       0\n",
              "3   8     2     37  ...                     0.0   64007.970000       0\n",
              "4  10     2     39  ...                     0.0  117310.979016       0\n",
              "\n",
              "[5 rows x 371 columns]"
            ]
          },
          "metadata": {},
          "execution_count": 2
        }
      ]
    },
    {
      "cell_type": "code",
      "metadata": {
        "id": "9uoUNKzPhEEx",
        "colab": {
          "base_uri": "https://localhost:8080/"
        },
        "outputId": "a61b2207-ceca-46c1-8fc7-c2a127867a94"
      },
      "source": [
        "pddf.shape"
      ],
      "execution_count": null,
      "outputs": [
        {
          "output_type": "execute_result",
          "data": {
            "text/plain": [
              "(76020, 371)"
            ]
          },
          "metadata": {},
          "execution_count": 3
        }
      ]
    },
    {
      "cell_type": "code",
      "metadata": {
        "id": "4tuDnh9shR1u"
      },
      "source": [
        "# Cargar seaborn \n",
        "import seaborn as sns\n",
        "sns.set(style=\"whitegrid\", color_codes = True)\n",
        "sns.set(rc={'figure.figsize':(10,6)})"
      ],
      "execution_count": null,
      "outputs": []
    },
    {
      "cell_type": "code",
      "metadata": {
        "id": "5FRnVO_GhTwz",
        "colab": {
          "base_uri": "https://localhost:8080/",
          "height": 411
        },
        "outputId": "de81bc13-c687-41a2-8cb7-962b2092158f"
      },
      "source": [
        "# Analizando el target \n",
        "sns.countplot(x='TARGET', data = pddf, palette = 'hls')"
      ],
      "execution_count": null,
      "outputs": [
        {
          "output_type": "execute_result",
          "data": {
            "text/plain": [
              "<matplotlib.axes._subplots.AxesSubplot at 0x7fa96cb48d10>"
            ]
          },
          "metadata": {},
          "execution_count": 5
        },
        {
          "output_type": "display_data",
          "data": {
            "image/png": "[encoded data removed]",
            "text/plain": [
              "<Figure size 720x432 with 1 Axes>"
            ]
          },
          "metadata": {}
        }
      ]
    },
    {
      "cell_type": "code",
      "metadata": {
        "colab": {
          "base_uri": "https://localhost:8080/",
          "height": 297
        },
        "id": "IXN9cJ2H2JZQ",
        "outputId": "76c3a57f-8d12-48af-f993-45ada72a0923"
      },
      "source": [
        "pddf[['TARGET']].describe()"
      ],
      "execution_count": null,
      "outputs": [
        {
          "output_type": "execute_result",
          "data": {
            "text/html": [
              "<div>\n",
              "<style scoped>\n",
              "    .dataframe tbody tr th:only-of-type {\n",
              "        vertical-align: middle;\n",
              "    }\n",
              "\n",
              "    .dataframe tbody tr th {\n",
              "        vertical-align: top;\n",
              "    }\n",
              "\n",
              "    .dataframe thead th {\n",
              "        text-align: right;\n",
              "    }\n",
              "</style>\n",
              "<table border=\"1\" class=\"dataframe\">\n",
              "  <thead>\n",
              "    <tr style=\"text-align: right;\">\n",
              "      <th></th>\n",
              "      <th>TARGET</th>\n",
              "    </tr>\n",
              "  </thead>\n",
              "  <tbody>\n",
              "    <tr>\n",
              "      <th>count</th>\n",
              "      <td>76020.000000</td>\n",
              "    </tr>\n",
              "    <tr>\n",
              "      <th>mean</th>\n",
              "      <td>0.039569</td>\n",
              "    </tr>\n",
              "    <tr>\n",
              "      <th>std</th>\n",
              "      <td>0.194945</td>\n",
              "    </tr>\n",
              "    <tr>\n",
              "      <th>min</th>\n",
              "      <td>0.000000</td>\n",
              "    </tr>\n",
              "    <tr>\n",
              "      <th>25%</th>\n",
              "      <td>0.000000</td>\n",
              "    </tr>\n",
              "    <tr>\n",
              "      <th>50%</th>\n",
              "      <td>0.000000</td>\n",
              "    </tr>\n",
              "    <tr>\n",
              "      <th>75%</th>\n",
              "      <td>0.000000</td>\n",
              "    </tr>\n",
              "    <tr>\n",
              "      <th>max</th>\n",
              "      <td>1.000000</td>\n",
              "    </tr>\n",
              "  </tbody>\n",
              "</table>\n",
              "</div>"
            ],
            "text/plain": [
              "             TARGET\n",
              "count  76020.000000\n",
              "mean       0.039569\n",
              "std        0.194945\n",
              "min        0.000000\n",
              "25%        0.000000\n",
              "50%        0.000000\n",
              "75%        0.000000\n",
              "max        1.000000"
            ]
          },
          "metadata": {},
          "execution_count": 6
        }
      ]
    },
    {
      "cell_type": "code",
      "metadata": {
        "id": "Gp3tJewWi2Al"
      },
      "source": [
        "# Indentificar las variables \n",
        "\n",
        "features = list(set(pddf.columns.tolist()) - set(['ID','TARGET']))\n",
        "features"
      ],
      "execution_count": null,
      "outputs": []
    },
    {
      "cell_type": "code",
      "metadata": {
        "id": "S3f-viEzjfAu"
      },
      "source": [
        "# Determinando matrices de datos\n",
        "\n",
        "X = pddf[features]\n",
        "y = pddf.TARGET\n"
      ],
      "execution_count": null,
      "outputs": []
    },
    {
      "cell_type": "code",
      "metadata": {
        "id": "mzy50oqNjwPG"
      },
      "source": [
        "# Muestreo de data\n",
        "\n",
        "from sklearn.model_selection import train_test_split\n",
        "\n",
        "X_train, X_test, y_train, y_test = train_test_split(X, y, \n",
        "                                                    stratify = y,\n",
        "                                                    test_size = 0.3,\n",
        "                                                    random_state = 123)\n"
      ],
      "execution_count": null,
      "outputs": []
    },
    {
      "cell_type": "markdown",
      "metadata": {
        "id": "acYMp0BJbTca"
      },
      "source": [
        "# SMOTE Algorithm"
      ]
    },
    {
      "cell_type": "markdown",
      "metadata": {
        "id": "lmJ90AeP1a2L"
      },
      "source": [
        "\n",
        "<b>Synthetic Minority Oversampling Technique</b>\n",
        "\n",
        "Es uno de los métodos de sobremuestreo más utilizados para resolver el problema del desbalanceo.\n",
        "Su objetivo es equilibrar la distribución de clases aumentando aleatoriamente los ejemplos de clases minoritarias al replicarlos."
      ]
    },
    {
      "cell_type": "markdown",
      "metadata": {
        "id": "xMphbZhrkadV"
      },
      "source": [
        "\n",
        "SMOTE sintetiza nuevas instancias minoritarias entre instancias minoritarias existentes. Genera los registros de entrenamiento virtual por interpolación lineal para la clase minoritaria. Estos registros de entrenamiento sintéticos se generan seleccionando aleatoriamente uno o más de los k vecinos más cercanos para cada ejemplo en la clase minoritaria. Después del proceso de sobremuestreo, los datos se reconstruyen y se pueden aplicar varios modelos de clasificación para los datos procesados.\n",
        "¡Más información detallada sobre cómo funciona el algoritmo SMOTE!\n",
        "\n",
        "<strong>Puede consultar este [link](https://imbalanced-learn.org/stable/generated/imblearn.over_sampling.SMOTE.html) para leer más sobre SMOTE.</strong>\n",
        "\n",
        "<img src=\"https://i.ytimg.com/vi/U3X98xZ4_no/maxresdefault.jpg\" alt=\"HTML5 Icon\" style=\"width: 400px; height: 250px;\">\n",
        "\n",
        "\n",
        "\n"
      ]
    },
    {
      "cell_type": "code",
      "metadata": {
        "colab": {
          "base_uri": "https://localhost:8080/"
        },
        "id": "33eQ1J8BillH",
        "outputId": "0aecf53a-0a56-40de-8a7c-49e4d7535b08"
      },
      "source": [
        "# Aplicando SMOTE para oversampling\n",
        "\n",
        "from imblearn.over_sampling import SMOTE\n",
        "\n",
        "sm = SMOTE(random_state = 123)\n",
        "X_train_res, y_train_res = sm.fit_sample(X_train, y_train.ravel())\n"
      ],
      "execution_count": null,
      "outputs": [
        {
          "output_type": "stream",
          "text": [
            "/usr/local/lib/python3.7/dist-packages/sklearn/externals/six.py:31: FutureWarning: The module is deprecated in version 0.21 and will be removed in version 0.23 since we've dropped support for Python 2.7. Please rely on the official version of six (https://pypi.org/project/six/).\n",
            "  \"(https://pypi.org/project/six/).\", FutureWarning)\n",
            "/usr/local/lib/python3.7/dist-packages/sklearn/utils/deprecation.py:144: FutureWarning: The sklearn.neighbors.base module is  deprecated in version 0.22 and will be removed in version 0.24. The corresponding classes / functions should instead be imported from sklearn.neighbors. Anything that cannot be imported from sklearn.neighbors is now part of the private API.\n",
            "  warnings.warn(message, FutureWarning)\n",
            "/usr/local/lib/python3.7/dist-packages/sklearn/utils/deprecation.py:87: FutureWarning: Function safe_indexing is deprecated; safe_indexing is deprecated in version 0.22 and will be removed in version 0.24.\n",
            "  warnings.warn(msg, category=FutureWarning)\n"
          ],
          "name": "stderr"
        }
      ]
    },
    {
      "cell_type": "code",
      "metadata": {
        "colab": {
          "base_uri": "https://localhost:8080/",
          "height": 410
        },
        "id": "5dN-0BsBFjpB",
        "outputId": "31465332-838e-486a-b28f-520243d66209"
      },
      "source": [
        "# Analizando el target \n",
        "sns.countplot(x = y_train_res, palette = 'hls')"
      ],
      "execution_count": null,
      "outputs": [
        {
          "output_type": "execute_result",
          "data": {
            "text/plain": [
              "<matplotlib.axes._subplots.AxesSubplot at 0x7fa96465dfd0>"
            ]
          },
          "metadata": {},
          "execution_count": 14
        },
        {
          "output_type": "display_data",
          "data": {
            "image/png": "[encoded data removed]",
            "text/plain": [
              "<Figure size 720x432 with 1 Axes>"
            ]
          },
          "metadata": {}
        }
      ]
    },
    {
      "cell_type": "markdown",
      "metadata": {
        "id": "yIKZh3IJ_w6B"
      },
      "source": [
        "# Decision Tree"
      ]
    },
    {
      "cell_type": "code",
      "metadata": {
        "id": "5wwflOn2M1xa"
      },
      "source": [
        "# Cargar librerías \n",
        "\n",
        "from sklearn.tree import DecisionTreeClassifier\n"
      ],
      "execution_count": null,
      "outputs": []
    },
    {
      "cell_type": "code",
      "metadata": {
        "colab": {
          "base_uri": "https://localhost:8080/"
        },
        "id": "ji5YxHcwM6Rv",
        "outputId": "a93083c2-8796-4045-8223-a5785b4a6706"
      },
      "source": [
        "# Definiendo modelo\n",
        "\n",
        "\n",
        "dtree = DecisionTreeClassifier(max_depth = 3, class_weight = {0: 1, 1: 25.272},\n",
        "                               min_samples_leaf = int(round(y_train_res.shape[0]*0.05,0)),\n",
        "                               random_state = 123)\n",
        "\n",
        "dtree = dtree.fit(X_train, y_train)\n",
        "    \n",
        "dtree"
      ],
      "execution_count": null,
      "outputs": [
        {
          "output_type": "execute_result",
          "data": {
            "text/plain": [
              "DecisionTreeClassifier(ccp_alpha=0.0, class_weight={0: 1, 1: 25.272},\n",
              "                       criterion='gini', max_depth=3, max_features=None,\n",
              "                       max_leaf_nodes=None, min_impurity_decrease=0.0,\n",
              "                       min_impurity_split=None, min_samples_leaf=5111,\n",
              "                       min_samples_split=2, min_weight_fraction_leaf=0.0,\n",
              "                       presort='deprecated', random_state=123, splitter='best')"
            ]
          },
          "metadata": {},
          "execution_count": 37
        }
      ]
    },
    {
      "cell_type": "code",
      "metadata": {
        "colab": {
          "base_uri": "https://localhost:8080/"
        },
        "id": "fueCZLMlM9bm",
        "outputId": "d1137d8d-af91-4798-8e9b-74ac97aaa835"
      },
      "source": [
        "# Graficando resultados\n",
        "\n",
        "from sklearn.tree import export_graphviz\n",
        "from pydotplus import graph_from_dot_data\n",
        "\n",
        "dot_data = export_graphviz(dtree,\n",
        "                           feature_names = features,\n",
        "                           filled = True,\n",
        "                           rounded = True,\n",
        "                           special_characters = True)\n",
        "\n",
        "graph = graph_from_dot_data(dot_data)\n",
        "graph.write_png('tree.png')\n",
        "print(graph)\n"
      ],
      "execution_count": null,
      "outputs": [
        {
          "output_type": "stream",
          "text": [
            "<pydotplus.graphviz.Dot object at 0x7fa963549410>\n"
          ],
          "name": "stdout"
        }
      ]
    },
    {
      "cell_type": "markdown",
      "metadata": {
        "id": "G6VZANgBNsvr"
      },
      "source": [
        "<b>Bondad de ajuste</b>"
      ]
    },
    {
      "cell_type": "code",
      "metadata": {
        "id": "W1FA5RrONrrC",
        "colab": {
          "base_uri": "https://localhost:8080/"
        },
        "outputId": "654ff73a-34ef-4a62-d999-810877acdc20"
      },
      "source": [
        "# Usando el modelo para predecir\n",
        "\n",
        "X_train['probability'] = dtree.predict_proba(X_train[features])[:,1]\n",
        "X_test['probability']  = dtree.predict_proba(X_test[features])[:,1]\n",
        "\n",
        "X_train['prediction'] = dtree.predict(X_train[features])\n",
        "X_test['prediction']  = dtree.predict(X_test[features])"
      ],
      "execution_count": null,
      "outputs": [
        {
          "output_type": "stream",
          "text": [
            "/usr/local/lib/python3.7/dist-packages/ipykernel_launcher.py:3: SettingWithCopyWarning: \n",
            "A value is trying to be set on a copy of a slice from a DataFrame.\n",
            "Try using .loc[row_indexer,col_indexer] = value instead\n",
            "\n",
            "See the caveats in the documentation: https://pandas.pydata.org/pandas-docs/stable/user_guide/indexing.html#returning-a-view-versus-a-copy\n",
            "  This is separate from the ipykernel package so we can avoid doing imports until\n",
            "/usr/local/lib/python3.7/dist-packages/ipykernel_launcher.py:4: SettingWithCopyWarning: \n",
            "A value is trying to be set on a copy of a slice from a DataFrame.\n",
            "Try using .loc[row_indexer,col_indexer] = value instead\n",
            "\n",
            "See the caveats in the documentation: https://pandas.pydata.org/pandas-docs/stable/user_guide/indexing.html#returning-a-view-versus-a-copy\n",
            "  after removing the cwd from sys.path.\n",
            "/usr/local/lib/python3.7/dist-packages/ipykernel_launcher.py:6: SettingWithCopyWarning: \n",
            "A value is trying to be set on a copy of a slice from a DataFrame.\n",
            "Try using .loc[row_indexer,col_indexer] = value instead\n",
            "\n",
            "See the caveats in the documentation: https://pandas.pydata.org/pandas-docs/stable/user_guide/indexing.html#returning-a-view-versus-a-copy\n",
            "  \n",
            "/usr/local/lib/python3.7/dist-packages/ipykernel_launcher.py:7: SettingWithCopyWarning: \n",
            "A value is trying to be set on a copy of a slice from a DataFrame.\n",
            "Try using .loc[row_indexer,col_indexer] = value instead\n",
            "\n",
            "See the caveats in the documentation: https://pandas.pydata.org/pandas-docs/stable/user_guide/indexing.html#returning-a-view-versus-a-copy\n",
            "  import sys\n"
          ],
          "name": "stderr"
        }
      ]
    },
    {
      "cell_type": "code",
      "metadata": {
        "id": "-ERcxSdUN33K",
        "colab": {
          "base_uri": "https://localhost:8080/",
          "height": 235
        },
        "outputId": "e0a997de-1374-4799-811a-ca7a6f6f5975"
      },
      "source": [
        "#Resumen de todas las métricas del modelo\n",
        "from sklearn.metrics import *\n",
        "\n",
        "metricsDtree_w = pd.DataFrame({'metric':['AUC','Gini','Accuracy','Precision','Recall','F1-score'],\n",
        "                                'dTree_train':[roc_auc_score(y_train, X_train.probability),\n",
        "                                        (roc_auc_score(y_train, X_train.probability)*2-1),\n",
        "                                        accuracy_score(y_train, X_train.prediction),\n",
        "                                        precision_score(y_train, X_train.prediction),\n",
        "                                        recall_score(y_train, X_train.prediction),\n",
        "                                        f1_score(y_train, X_train.prediction)],\n",
        "\n",
        "                                'dTree_test':[roc_auc_score(y_test, X_test.probability),\n",
        "                                        (roc_auc_score(y_test, X_test.probability)*2-1),\n",
        "                                        accuracy_score(y_test, X_test.prediction),\n",
        "                                        precision_score(y_test, X_test.prediction),\n",
        "                                        recall_score(y_test, X_test.prediction),\n",
        "                                        f1_score(y_test, X_test.prediction)]})\n",
        "\n",
        "metricsDtree_w"
      ],
      "execution_count": null,
      "outputs": [
        {
          "output_type": "execute_result",
          "data": {
            "text/html": [
              "<div>\n",
              "<style scoped>\n",
              "    .dataframe tbody tr th:only-of-type {\n",
              "        vertical-align: middle;\n",
              "    }\n",
              "\n",
              "    .dataframe tbody tr th {\n",
              "        vertical-align: top;\n",
              "    }\n",
              "\n",
              "    .dataframe thead th {\n",
              "        text-align: right;\n",
              "    }\n",
              "</style>\n",
              "<table border=\"1\" class=\"dataframe\">\n",
              "  <thead>\n",
              "    <tr style=\"text-align: right;\">\n",
              "      <th></th>\n",
              "      <th>metric</th>\n",
              "      <th>dTree_train</th>\n",
              "      <th>dTree_test</th>\n",
              "    </tr>\n",
              "  </thead>\n",
              "  <tbody>\n",
              "    <tr>\n",
              "      <th>0</th>\n",
              "      <td>AUC</td>\n",
              "      <td>0.805864</td>\n",
              "      <td>0.791502</td>\n",
              "    </tr>\n",
              "    <tr>\n",
              "      <th>1</th>\n",
              "      <td>Gini</td>\n",
              "      <td>0.611728</td>\n",
              "      <td>0.583004</td>\n",
              "    </tr>\n",
              "    <tr>\n",
              "      <th>2</th>\n",
              "      <td>Accuracy</td>\n",
              "      <td>0.719867</td>\n",
              "      <td>0.721652</td>\n",
              "    </tr>\n",
              "    <tr>\n",
              "      <th>3</th>\n",
              "      <td>Precision</td>\n",
              "      <td>0.100543</td>\n",
              "      <td>0.097070</td>\n",
              "    </tr>\n",
              "    <tr>\n",
              "      <th>4</th>\n",
              "      <td>Recall</td>\n",
              "      <td>0.764957</td>\n",
              "      <td>0.727273</td>\n",
              "    </tr>\n",
              "    <tr>\n",
              "      <th>5</th>\n",
              "      <td>F1-score</td>\n",
              "      <td>0.177726</td>\n",
              "      <td>0.171279</td>\n",
              "    </tr>\n",
              "  </tbody>\n",
              "</table>\n",
              "</div>"
            ],
            "text/plain": [
              "      metric  dTree_train  dTree_test\n",
              "0        AUC     0.805864    0.791502\n",
              "1       Gini     0.611728    0.583004\n",
              "2   Accuracy     0.719867    0.721652\n",
              "3  Precision     0.100543    0.097070\n",
              "4     Recall     0.764957    0.727273\n",
              "5   F1-score     0.177726    0.171279"
            ]
          },
          "metadata": {},
          "execution_count": 40
        }
      ]
    },
    {
      "cell_type": "code",
      "metadata": {
        "colab": {
          "base_uri": "https://localhost:8080/",
          "height": 235
        },
        "id": "uIz4-gQv9I5h",
        "outputId": "20db0bb3-d224-4877-c6a9-cb4fd3cd3baa"
      },
      "source": [
        "metricsDtree"
      ],
      "execution_count": null,
      "outputs": [
        {
          "output_type": "execute_result",
          "data": {
            "text/html": [
              "<div>\n",
              "<style scoped>\n",
              "    .dataframe tbody tr th:only-of-type {\n",
              "        vertical-align: middle;\n",
              "    }\n",
              "\n",
              "    .dataframe tbody tr th {\n",
              "        vertical-align: top;\n",
              "    }\n",
              "\n",
              "    .dataframe thead th {\n",
              "        text-align: right;\n",
              "    }\n",
              "</style>\n",
              "<table border=\"1\" class=\"dataframe\">\n",
              "  <thead>\n",
              "    <tr style=\"text-align: right;\">\n",
              "      <th></th>\n",
              "      <th>metric</th>\n",
              "      <th>dTree_train</th>\n",
              "      <th>dTree_test</th>\n",
              "    </tr>\n",
              "  </thead>\n",
              "  <tbody>\n",
              "    <tr>\n",
              "      <th>0</th>\n",
              "      <td>AUC</td>\n",
              "      <td>0.797236</td>\n",
              "      <td>0.781922</td>\n",
              "    </tr>\n",
              "    <tr>\n",
              "      <th>1</th>\n",
              "      <td>Gini</td>\n",
              "      <td>0.594472</td>\n",
              "      <td>0.563845</td>\n",
              "    </tr>\n",
              "    <tr>\n",
              "      <th>2</th>\n",
              "      <td>Accuracy</td>\n",
              "      <td>0.960424</td>\n",
              "      <td>0.960449</td>\n",
              "    </tr>\n",
              "    <tr>\n",
              "      <th>3</th>\n",
              "      <td>Precision</td>\n",
              "      <td>0.000000</td>\n",
              "      <td>0.000000</td>\n",
              "    </tr>\n",
              "    <tr>\n",
              "      <th>4</th>\n",
              "      <td>Recall</td>\n",
              "      <td>0.000000</td>\n",
              "      <td>0.000000</td>\n",
              "    </tr>\n",
              "    <tr>\n",
              "      <th>5</th>\n",
              "      <td>F1-score</td>\n",
              "      <td>0.000000</td>\n",
              "      <td>0.000000</td>\n",
              "    </tr>\n",
              "  </tbody>\n",
              "</table>\n",
              "</div>"
            ],
            "text/plain": [
              "      metric  dTree_train  dTree_test\n",
              "0        AUC     0.797236    0.781922\n",
              "1       Gini     0.594472    0.563845\n",
              "2   Accuracy     0.960424    0.960449\n",
              "3  Precision     0.000000    0.000000\n",
              "4     Recall     0.000000    0.000000\n",
              "5   F1-score     0.000000    0.000000"
            ]
          },
          "metadata": {},
          "execution_count": 41
        }
      ]
    },
    {
      "cell_type": "code",
      "metadata": {
        "colab": {
          "base_uri": "https://localhost:8080/",
          "height": 235
        },
        "id": "8bZkXPOOG-4u",
        "outputId": "c1f8d4d5-6a59-4c45-a2c7-ef86c4803aec"
      },
      "source": [
        "metricsDtree_sm"
      ],
      "execution_count": null,
      "outputs": [
        {
          "output_type": "execute_result",
          "data": {
            "text/html": [
              "<div>\n",
              "<style scoped>\n",
              "    .dataframe tbody tr th:only-of-type {\n",
              "        vertical-align: middle;\n",
              "    }\n",
              "\n",
              "    .dataframe tbody tr th {\n",
              "        vertical-align: top;\n",
              "    }\n",
              "\n",
              "    .dataframe thead th {\n",
              "        text-align: right;\n",
              "    }\n",
              "</style>\n",
              "<table border=\"1\" class=\"dataframe\">\n",
              "  <thead>\n",
              "    <tr style=\"text-align: right;\">\n",
              "      <th></th>\n",
              "      <th>metric</th>\n",
              "      <th>dTree_train</th>\n",
              "      <th>dTree_test</th>\n",
              "    </tr>\n",
              "  </thead>\n",
              "  <tbody>\n",
              "    <tr>\n",
              "      <th>0</th>\n",
              "      <td>AUC</td>\n",
              "      <td>0.779664</td>\n",
              "      <td>0.777347</td>\n",
              "    </tr>\n",
              "    <tr>\n",
              "      <th>1</th>\n",
              "      <td>Gini</td>\n",
              "      <td>0.559329</td>\n",
              "      <td>0.554693</td>\n",
              "    </tr>\n",
              "    <tr>\n",
              "      <th>2</th>\n",
              "      <td>Accuracy</td>\n",
              "      <td>0.788984</td>\n",
              "      <td>0.790976</td>\n",
              "    </tr>\n",
              "    <tr>\n",
              "      <th>3</th>\n",
              "      <td>Precision</td>\n",
              "      <td>0.113334</td>\n",
              "      <td>0.113732</td>\n",
              "    </tr>\n",
              "    <tr>\n",
              "      <th>4</th>\n",
              "      <td>Recall</td>\n",
              "      <td>0.634853</td>\n",
              "      <td>0.630820</td>\n",
              "    </tr>\n",
              "    <tr>\n",
              "      <th>5</th>\n",
              "      <td>F1-score</td>\n",
              "      <td>0.192333</td>\n",
              "      <td>0.192718</td>\n",
              "    </tr>\n",
              "  </tbody>\n",
              "</table>\n",
              "</div>"
            ],
            "text/plain": [
              "      metric  dTree_train  dTree_test\n",
              "0        AUC     0.779664    0.777347\n",
              "1       Gini     0.559329    0.554693\n",
              "2   Accuracy     0.788984    0.790976\n",
              "3  Precision     0.113334    0.113732\n",
              "4     Recall     0.634853    0.630820\n",
              "5   F1-score     0.192333    0.192718"
            ]
          },
          "metadata": {},
          "execution_count": 42
        }
      ]
    },
    {
      "cell_type": "markdown",
      "metadata": {
        "id": "-12F-kygbFlA"
      },
      "source": [
        "# Cross Validation"
      ]
    },
    {
      "cell_type": "markdown",
      "metadata": {
        "id": "017Hk3aQ1gxe"
      },
      "source": [
        "\n",
        "\n",
        "<b>evaluar el desempeño del estimador</b>\n",
        " \n",
        " ---\n",
        "\n",
        "Aprender los parámetros de una función de predicción y probarlos con los mismos datos es un error metodológico: un modelo que simplemente repetiría las etiquetas de las muestras que acaba de ver tendría una puntuación perfecta, pero no podría predecir nada útil datos no vistos.\n",
        "Esta situación se llama Overfitting. Para evitarlo, es una práctica común cuando se realiza un modelo de machine learning (supervisado) mantener parte de los datos disponibles como un conjunto de pruebas X_test, y_test. \n"
      ]
    },
    {
      "cell_type": "markdown",
      "metadata": {
        "id": "B-8dUcfU1rBK"
      },
      "source": [
        "\n",
        "Al evaluar diferentes configuraciones (\"hiperparámetros\") para estimadores, todavía existe el riesgo de Overfitting en el conjunto de prueba porque los parámetros se pueden ajustar hasta que el estimador funcione de manera óptima. De esta manera, el conocimiento sobre el conjunto de pruebas puede \"filtrarse\" en el modelo y las métricas de evaluación ya no informan sobre el desempeño de generalización. Para resolver este problema, se puede presentar otra parte del conjunto de datos como el llamado \"conjunto de validación\": el entrenamiento continúa en el conjunto de entrenamiento, después de lo cual se realiza la evaluación en el conjunto de validación y cuando el experimento parece tener éxito , la evaluación final se puede realizar en el equipo de prueba.\n",
        " "
      ]
    },
    {
      "cell_type": "markdown",
      "metadata": {
        "id": "4a9DL3JGxmf_"
      },
      "source": [
        "\n",
        "\n",
        " \n",
        "Sin embargo, al dividir los datos disponibles en tres conjuntos, reducimos drásticamente la cantidad de muestras que se pueden usar para aprender el modelo, y los resultados pueden depender de una elección aleatoria particular para el par de conjuntos (entrenamiento, validación).\n",
        "\n",
        "\n",
        "Una solución a este problema es un procedimiento llamado validación cruzada. Un conjunto de prueba aún debe mantenerse para la evaluación final, pero el conjunto de validación ya no es necesario al hacer CV. En el enfoque básico, llamado k-fold CV, el conjunto de entrenamiento se divide en k conjuntos más pequeños . Se sigue el siguiente procedimiento para cada uno de los k \"folds\":\n",
        "\n",
        "\n",
        "\n",
        "\n",
        "\n",
        "\n",
        "\n",
        "1.   Se entrena un modelo utilizando los folds como datos de entrenamiento\n",
        "\n",
        "2.   El modelo resultante se valida en la parte restante de los datos (es decir, se utiliza como un conjunto de prueba para calcular una medida de rendimiento como la precisión)\n",
        "\n",
        "\n",
        "<img src=\"https://scikit-learn.org/stable/_images/grid_search_cross_validation.png\" alt=\"HTML5 Icon\" style=\"width: 400px; height: 250px;\">\n",
        "\n",
        "---\n",
        "\n",
        "La medida de rendimiento informada por la validación cruzada de k veces es el promedio de los valores calculados en el ciclo. Este enfoque puede ser computacionalmente costoso, pero no desperdicia demasiados datos (como es el caso cuando se fija un conjunto de validación arbitrario), lo cual es una gran ventaja en problemas como la inferencia inversa donde el número de muestras es muy pequeño.\n",
        "\n",
        "---\n",
        "\n",
        "\n",
        "<strong>Puede consultar este [link](https://scikit-learn.org/stable/modules/cross_validation.html) para leer más sobre CrossValidation.</strong>\n",
        "\n",
        "\n",
        "\n",
        "\n",
        "\n"
      ]
    },
    {
      "cell_type": "code",
      "metadata": {
        "id": "lsgndgPM_0pW"
      },
      "source": [
        "# Cargar librerías para grid search\n",
        "\n",
        "from sklearn.model_selection import GridSearchCV\n",
        "from sklearn.metrics import *\n"
      ],
      "execution_count": null,
      "outputs": []
    },
    {
      "cell_type": "code",
      "metadata": {
        "id": "WcPPbO8XpsMV"
      },
      "source": [
        "# Definiendo los parámetros a probar\n",
        "\n",
        "parameters = {'max_depth': np.linspace(2, 15, 14),\n",
        "              'min_samples_leaf' : np.linspace(0.01, 0.2, 9)}\n"
      ],
      "execution_count": null,
      "outputs": []
    },
    {
      "cell_type": "code",
      "metadata": {
        "id": "JXR3A7CK_165"
      },
      "source": [
        "# Definiendo modelo\n",
        "\n",
        "dtree = DecisionTreeClassifier(random_state = 123)\n"
      ],
      "execution_count": null,
      "outputs": []
    },
    {
      "cell_type": "code",
      "metadata": {
        "id": "gJmYXBZXrrOc",
        "colab": {
          "base_uri": "https://localhost:8080/"
        },
        "outputId": "c36a347e-b9ba-4154-da0d-7d6d6a1921cf"
      },
      "source": [
        "# Ejecutando grid search con 3 folds\n",
        "\n",
        "GridSearch = GridSearchCV(dtree, parameters, cv = 3, verbose = 5, n_jobs = 3,\n",
        "                          refit = 'AUC',\n",
        "                          return_train_score = True)\n",
        "\n",
        "GridSearch.fit(X_train_res, y_train_res.ravel())\n",
        "#elapsed:  4.6min finished\n"
      ],
      "execution_count": null,
      "outputs": [
        {
          "output_type": "stream",
          "text": [
            "Fitting 3 folds for each of 126 candidates, totalling 378 fits\n"
          ],
          "name": "stdout"
        },
        {
          "output_type": "stream",
          "text": [
            "[Parallel(n_jobs=3)]: Using backend LokyBackend with 3 concurrent workers.\n",
            "[Parallel(n_jobs=3)]: Done  12 tasks      | elapsed:    5.1s\n",
            "[Parallel(n_jobs=3)]: Done  66 tasks      | elapsed:   28.2s\n",
            "[Parallel(n_jobs=3)]: Done 156 tasks      | elapsed:  1.2min\n",
            "[Parallel(n_jobs=3)]: Done 282 tasks      | elapsed:  2.2min\n",
            "[Parallel(n_jobs=3)]: Done 378 out of 378 | elapsed:  3.0min finished\n"
          ],
          "name": "stderr"
        },
        {
          "output_type": "execute_result",
          "data": {
            "text/plain": [
              "GridSearchCV(cv=3, error_score=nan,\n",
              "             estimator=DecisionTreeClassifier(ccp_alpha=0.0, class_weight=None,\n",
              "                                              criterion='gini', max_depth=None,\n",
              "                                              max_features=None,\n",
              "                                              max_leaf_nodes=None,\n",
              "                                              min_impurity_decrease=0.0,\n",
              "                                              min_impurity_split=None,\n",
              "                                              min_samples_leaf=1,\n",
              "                                              min_samples_split=2,\n",
              "                                              min_weight_fraction_leaf=0.0,\n",
              "                                              presort='deprecated',\n",
              "                                              random_state=123,\n",
              "                                              splitter='best'),\n",
              "             iid='deprecated', n_jobs=3,\n",
              "             param_grid={'max_depth': array([ 2.,  3.,  4.,  5.,  6.,  7.,  8.,  9., 10., 11., 12., 13., 14.,\n",
              "       15.]),\n",
              "                         'min_samples_leaf': array([0.01   , 0.03375, 0.0575 , 0.08125, 0.105  , 0.12875, 0.1525 ,\n",
              "       0.17625, 0.2    ])},\n",
              "             pre_dispatch='2*n_jobs', refit='AUC', return_train_score=True,\n",
              "             scoring=None, verbose=5)"
            ]
          },
          "metadata": {},
          "execution_count": 49
        }
      ]
    },
    {
      "cell_type": "code",
      "metadata": {
        "id": "6Ed2TLBPwhdq",
        "colab": {
          "base_uri": "https://localhost:8080/"
        },
        "outputId": "fd46641c-411c-4c93-d540-af5201cf0705"
      },
      "source": [
        "GridSearch.best_params_"
      ],
      "execution_count": null,
      "outputs": [
        {
          "output_type": "execute_result",
          "data": {
            "text/plain": [
              "{'max_depth': 8.0, 'min_samples_leaf': 0.01}"
            ]
          },
          "metadata": {},
          "execution_count": 50
        }
      ]
    },
    {
      "cell_type": "code",
      "metadata": {
        "id": "Beqga9lp3yKn"
      },
      "source": [
        "def plot_search_results(grid):\n",
        "    \"\"\"\n",
        "    Params: \n",
        "        grid: A trained GridSearchCV object.\n",
        "    \"\"\"\n",
        "    ## Results from grid search\n",
        "    results = grid.cv_results_\n",
        "    means_test = results['mean_test_score']\n",
        "    stds_test = results['std_test_score']\n",
        "    means_train = results['mean_train_score']\n",
        "    stds_train = results['std_train_score']\n",
        "\n",
        "    ## Getting indexes of values per hyper-parameter\n",
        "    masks=[]\n",
        "    masks_names= list(grid.best_params_.keys())\n",
        "    for p_k, p_v in grid.best_params_.items():\n",
        "        masks.append(list(results['param_'+p_k].data==p_v))\n",
        "\n",
        "    params=grid.param_grid\n",
        "\n",
        "    ## Ploting results\n",
        "    fig, ax = plt.subplots(1,len(params),sharex='none', sharey='all',figsize=(20,5))\n",
        "    fig.suptitle('Score per parameter')\n",
        "    fig.text(0.04, 0.5, 'MEAN SCORE', va='center', rotation='vertical')\n",
        "    pram_preformace_in_best = {}\n",
        "    for i, p in enumerate(masks_names):\n",
        "        m = np.stack(masks[:i] + masks[i+1:])\n",
        "        pram_preformace_in_best\n",
        "        best_parms_mask = m.all(axis=0)\n",
        "        best_index = np.where(best_parms_mask)[0]\n",
        "        x = np.array(params[p])\n",
        "        y_1 = np.array(means_test[best_index])\n",
        "        e_1 = np.array(stds_test[best_index])\n",
        "        y_2 = np.array(means_train[best_index])\n",
        "        e_2 = np.array(stds_train[best_index])\n",
        "        ax[i].errorbar(x, y_1, e_1, linestyle='--', marker='o', label='test')\n",
        "        ax[i].errorbar(x, y_2, e_2, linestyle='-', marker='^',label='train' )\n",
        "        ax[i].set_xlabel(p.upper())\n",
        "\n",
        "    plt.legend()\n",
        "    plt.show()"
      ],
      "execution_count": null,
      "outputs": []
    },
    {
      "cell_type": "code",
      "metadata": {
        "id": "MNRLjWmi4TH_",
        "colab": {
          "base_uri": "https://localhost:8080/",
          "height": 308
        },
        "outputId": "28b1c277-f938-4364-9fe4-0da9d0be34c5"
      },
      "source": [
        "\n",
        "# Calling Method \n",
        "plot_search_results(GridSearch)\n"
      ],
      "execution_count": null,
      "outputs": [
        {
          "output_type": "display_data",
          "data": {
            "image/png": "[encoded data removed]",
            "text/plain": [
              "<Figure size 1440x360 with 2 Axes>"
            ]
          },
          "metadata": {}
        }
      ]
    },
    {
      "cell_type": "code",
      "metadata": {
        "id": "8ma6g_3-wxD5",
        "colab": {
          "base_uri": "https://localhost:8080/"
        },
        "outputId": "b8bfa378-e31c-4403-eac7-e4a529c8dfbe"
      },
      "source": [
        "# Entrenamiento Óptimizado\n",
        "\n",
        "dtree = DecisionTreeClassifier(max_depth = 8, \n",
        "                               min_samples_leaf = 0.01,\n",
        "                               random_state = 123)\n",
        "\n",
        "dtree = dtree.fit(X_train_res, y_train_res)\n",
        "    \n",
        "dtree"
      ],
      "execution_count": null,
      "outputs": [
        {
          "output_type": "execute_result",
          "data": {
            "text/plain": [
              "DecisionTreeClassifier(ccp_alpha=0.0, class_weight=None, criterion='gini',\n",
              "                       max_depth=8, max_features=None, max_leaf_nodes=None,\n",
              "                       min_impurity_decrease=0.0, min_impurity_split=None,\n",
              "                       min_samples_leaf=0.01, min_samples_split=2,\n",
              "                       min_weight_fraction_leaf=0.0, presort='deprecated',\n",
              "                       random_state=123, splitter='best')"
            ]
          },
          "metadata": {},
          "execution_count": 54
        }
      ]
    },
    {
      "cell_type": "code",
      "metadata": {
        "id": "VcJQAjQkAt06",
        "colab": {
          "base_uri": "https://localhost:8080/"
        },
        "outputId": "3cafc86c-34fe-4285-8cab-c67ea196aedf"
      },
      "source": [
        "# Graficando resultados\n",
        "\n",
        "from sklearn.tree import export_graphviz\n",
        "from pydotplus import graph_from_dot_data\n",
        "\n",
        "dot_data = export_graphviz(dtree,\n",
        "                           feature_names = features,\n",
        "                           filled = True,\n",
        "                           rounded = True,\n",
        "                           special_characters = True)\n",
        "\n",
        "graph = graph_from_dot_data(dot_data)\n",
        "graph.write_png('tree.png')\n",
        "print(graph)"
      ],
      "execution_count": null,
      "outputs": [
        {
          "output_type": "stream",
          "text": [
            "<pydotplus.graphviz.Dot object at 0x7fa963388ad0>\n"
          ],
          "name": "stdout"
        }
      ]
    },
    {
      "cell_type": "markdown",
      "metadata": {
        "id": "Nx2FhGCj139S"
      },
      "source": [
        "<b>Bondad de ajuste</b>"
      ]
    },
    {
      "cell_type": "code",
      "metadata": {
        "id": "ZRo01-D713Lv",
        "colab": {
          "base_uri": "https://localhost:8080/"
        },
        "outputId": "48902dc6-ee5d-4d8d-9cd7-d83ceaeddde3"
      },
      "source": [
        "# Usando el modelo para predecir\n",
        "\n",
        "X_train['probability'] = dtree.predict_proba(X_train[features])[:,1]\n",
        "X_test['probability']  = dtree.predict_proba(X_test[features])[:,1]\n",
        "\n",
        "X_train['prediction'] = dtree.predict(X_train[features])\n",
        "X_test['prediction']  = dtree.predict(X_test[features])\n"
      ],
      "execution_count": null,
      "outputs": [
        {
          "output_type": "stream",
          "text": [
            "/usr/local/lib/python3.7/dist-packages/ipykernel_launcher.py:3: SettingWithCopyWarning: \n",
            "A value is trying to be set on a copy of a slice from a DataFrame.\n",
            "Try using .loc[row_indexer,col_indexer] = value instead\n",
            "\n",
            "See the caveats in the documentation: https://pandas.pydata.org/pandas-docs/stable/user_guide/indexing.html#returning-a-view-versus-a-copy\n",
            "  This is separate from the ipykernel package so we can avoid doing imports until\n",
            "/usr/local/lib/python3.7/dist-packages/ipykernel_launcher.py:4: SettingWithCopyWarning: \n",
            "A value is trying to be set on a copy of a slice from a DataFrame.\n",
            "Try using .loc[row_indexer,col_indexer] = value instead\n",
            "\n",
            "See the caveats in the documentation: https://pandas.pydata.org/pandas-docs/stable/user_guide/indexing.html#returning-a-view-versus-a-copy\n",
            "  after removing the cwd from sys.path.\n",
            "/usr/local/lib/python3.7/dist-packages/ipykernel_launcher.py:6: SettingWithCopyWarning: \n",
            "A value is trying to be set on a copy of a slice from a DataFrame.\n",
            "Try using .loc[row_indexer,col_indexer] = value instead\n",
            "\n",
            "See the caveats in the documentation: https://pandas.pydata.org/pandas-docs/stable/user_guide/indexing.html#returning-a-view-versus-a-copy\n",
            "  \n",
            "/usr/local/lib/python3.7/dist-packages/ipykernel_launcher.py:7: SettingWithCopyWarning: \n",
            "A value is trying to be set on a copy of a slice from a DataFrame.\n",
            "Try using .loc[row_indexer,col_indexer] = value instead\n",
            "\n",
            "See the caveats in the documentation: https://pandas.pydata.org/pandas-docs/stable/user_guide/indexing.html#returning-a-view-versus-a-copy\n",
            "  import sys\n"
          ],
          "name": "stderr"
        }
      ]
    },
    {
      "cell_type": "code",
      "metadata": {
        "id": "H_1Osv5N1_kO",
        "colab": {
          "base_uri": "https://localhost:8080/",
          "height": 235
        },
        "outputId": "17342725-0b70-464b-8970-83e443fa5ab7"
      },
      "source": [
        "#Resumen de todas las métricas del modelo\n",
        "\n",
        "metricsDtreeOpt = pd.DataFrame({'metric':['AUC','Gini','Accuracy','Precision','Recall','F1-score'],\n",
        "                                'dTree_train':[roc_auc_score(y_train, X_train.probability),\n",
        "                                        (roc_auc_score(y_train, X_train.probability)*2-1),\n",
        "                                        accuracy_score(y_train, X_train.prediction),\n",
        "                                        precision_score(y_train, X_train.prediction),\n",
        "                                        recall_score(y_train, X_train.prediction),\n",
        "                                        f1_score(y_train, X_train.prediction)],\n",
        "\n",
        "                                'dTree_test':[roc_auc_score(y_test, X_test.probability),\n",
        "                                        (roc_auc_score(y_test, X_test.probability)*2-1),\n",
        "                                        accuracy_score(y_test, X_test.prediction),\n",
        "                                        precision_score(y_test, X_test.prediction),\n",
        "                                        recall_score(y_test, X_test.prediction),\n",
        "                                        f1_score(y_test, X_test.prediction)]})\n",
        "\n",
        "metricsDtreeOpt          "
      ],
      "execution_count": null,
      "outputs": [
        {
          "output_type": "execute_result",
          "data": {
            "text/html": [
              "<div>\n",
              "<style scoped>\n",
              "    .dataframe tbody tr th:only-of-type {\n",
              "        vertical-align: middle;\n",
              "    }\n",
              "\n",
              "    .dataframe tbody tr th {\n",
              "        vertical-align: top;\n",
              "    }\n",
              "\n",
              "    .dataframe thead th {\n",
              "        text-align: right;\n",
              "    }\n",
              "</style>\n",
              "<table border=\"1\" class=\"dataframe\">\n",
              "  <thead>\n",
              "    <tr style=\"text-align: right;\">\n",
              "      <th></th>\n",
              "      <th>metric</th>\n",
              "      <th>dTree_train</th>\n",
              "      <th>dTree_test</th>\n",
              "    </tr>\n",
              "  </thead>\n",
              "  <tbody>\n",
              "    <tr>\n",
              "      <th>0</th>\n",
              "      <td>AUC</td>\n",
              "      <td>0.803110</td>\n",
              "      <td>0.786351</td>\n",
              "    </tr>\n",
              "    <tr>\n",
              "      <th>1</th>\n",
              "      <td>Gini</td>\n",
              "      <td>0.606220</td>\n",
              "      <td>0.572702</td>\n",
              "    </tr>\n",
              "    <tr>\n",
              "      <th>2</th>\n",
              "      <td>Accuracy</td>\n",
              "      <td>0.843312</td>\n",
              "      <td>0.841752</td>\n",
              "    </tr>\n",
              "    <tr>\n",
              "      <th>3</th>\n",
              "      <td>Precision</td>\n",
              "      <td>0.137168</td>\n",
              "      <td>0.133098</td>\n",
              "    </tr>\n",
              "    <tr>\n",
              "      <th>4</th>\n",
              "      <td>Recall</td>\n",
              "      <td>0.559354</td>\n",
              "      <td>0.544346</td>\n",
              "    </tr>\n",
              "    <tr>\n",
              "      <th>5</th>\n",
              "      <td>F1-score</td>\n",
              "      <td>0.220310</td>\n",
              "      <td>0.213897</td>\n",
              "    </tr>\n",
              "  </tbody>\n",
              "</table>\n",
              "</div>"
            ],
            "text/plain": [
              "      metric  dTree_train  dTree_test\n",
              "0        AUC     0.803110    0.786351\n",
              "1       Gini     0.606220    0.572702\n",
              "2   Accuracy     0.843312    0.841752\n",
              "3  Precision     0.137168    0.133098\n",
              "4     Recall     0.559354    0.544346\n",
              "5   F1-score     0.220310    0.213897"
            ]
          },
          "metadata": {},
          "execution_count": 57
        }
      ]
    },
    {
      "cell_type": "markdown",
      "metadata": {
        "id": "GmVIV52EEYRj"
      },
      "source": [
        "<b>Importancias del modelo</b>"
      ]
    },
    {
      "cell_type": "code",
      "metadata": {
        "id": "lAjdljBUSFDp"
      },
      "source": [
        "# Muestreo de data\n",
        "\n",
        "from sklearn.model_selection import train_test_split\n",
        "\n",
        "X_train, X_test, y_train, y_test = train_test_split(X, y, \n",
        "                                                    stratify = y,\n",
        "                                                    test_size = 0.3,\n",
        "                                                    random_state = 123)"
      ],
      "execution_count": null,
      "outputs": []
    },
    {
      "cell_type": "code",
      "metadata": {
        "id": "M6x8uQXSEYwf",
        "colab": {
          "base_uri": "https://localhost:8080/",
          "height": 762
        },
        "outputId": "85fb30df-12ad-44cf-9548-c0d5e5d818c1"
      },
      "source": [
        "\n",
        "importances = pd.DataFrame({'features' : X_train.columns.tolist() ,\n",
        "                            'importance' : dtree.feature_importances_}).sort_values('importance', ascending = False)\n",
        "\n",
        "importances.loc[importances.importance > 0]"
      ],
      "execution_count": null,
      "outputs": [
        {
          "output_type": "execute_result",
          "data": {
            "text/html": [
              "<div>\n",
              "<style scoped>\n",
              "    .dataframe tbody tr th:only-of-type {\n",
              "        vertical-align: middle;\n",
              "    }\n",
              "\n",
              "    .dataframe tbody tr th {\n",
              "        vertical-align: top;\n",
              "    }\n",
              "\n",
              "    .dataframe thead th {\n",
              "        text-align: right;\n",
              "    }\n",
              "</style>\n",
              "<table border=\"1\" class=\"dataframe\">\n",
              "  <thead>\n",
              "    <tr style=\"text-align: right;\">\n",
              "      <th></th>\n",
              "      <th>features</th>\n",
              "      <th>importance</th>\n",
              "    </tr>\n",
              "  </thead>\n",
              "  <tbody>\n",
              "    <tr>\n",
              "      <th>314</th>\n",
              "      <td>ind_var30</td>\n",
              "      <td>4.148250e-01</td>\n",
              "    </tr>\n",
              "    <tr>\n",
              "      <th>142</th>\n",
              "      <td>var15</td>\n",
              "      <td>2.724633e-01</td>\n",
              "    </tr>\n",
              "    <tr>\n",
              "      <th>166</th>\n",
              "      <td>num_var22_ult1</td>\n",
              "      <td>1.171071e-01</td>\n",
              "    </tr>\n",
              "    <tr>\n",
              "      <th>365</th>\n",
              "      <td>num_var22_ult3</td>\n",
              "      <td>5.065551e-02</td>\n",
              "    </tr>\n",
              "    <tr>\n",
              "      <th>77</th>\n",
              "      <td>var38</td>\n",
              "      <td>3.335636e-02</td>\n",
              "    </tr>\n",
              "    <tr>\n",
              "      <th>295</th>\n",
              "      <td>num_var30</td>\n",
              "      <td>3.015470e-02</td>\n",
              "    </tr>\n",
              "    <tr>\n",
              "      <th>360</th>\n",
              "      <td>saldo_var30</td>\n",
              "      <td>2.508327e-02</td>\n",
              "    </tr>\n",
              "    <tr>\n",
              "      <th>105</th>\n",
              "      <td>ind_var41_0</td>\n",
              "      <td>1.247545e-02</td>\n",
              "    </tr>\n",
              "    <tr>\n",
              "      <th>137</th>\n",
              "      <td>imp_op_var41_efect_ult1</td>\n",
              "      <td>9.450797e-03</td>\n",
              "    </tr>\n",
              "    <tr>\n",
              "      <th>301</th>\n",
              "      <td>num_var41_0</td>\n",
              "      <td>8.950042e-03</td>\n",
              "    </tr>\n",
              "    <tr>\n",
              "      <th>183</th>\n",
              "      <td>num_med_var22_ult3</td>\n",
              "      <td>6.851903e-03</td>\n",
              "    </tr>\n",
              "    <tr>\n",
              "      <th>134</th>\n",
              "      <td>num_op_var41_efect_ult3</td>\n",
              "      <td>4.182864e-03</td>\n",
              "    </tr>\n",
              "    <tr>\n",
              "      <th>254</th>\n",
              "      <td>saldo_medio_var5_ult3</td>\n",
              "      <td>3.413588e-03</td>\n",
              "    </tr>\n",
              "    <tr>\n",
              "      <th>307</th>\n",
              "      <td>saldo_medio_var5_hace2</td>\n",
              "      <td>2.791532e-03</td>\n",
              "    </tr>\n",
              "    <tr>\n",
              "      <th>78</th>\n",
              "      <td>num_var45_ult3</td>\n",
              "      <td>2.605445e-03</td>\n",
              "    </tr>\n",
              "    <tr>\n",
              "      <th>346</th>\n",
              "      <td>num_meses_var39_vig_ult3</td>\n",
              "      <td>2.302478e-03</td>\n",
              "    </tr>\n",
              "    <tr>\n",
              "      <th>83</th>\n",
              "      <td>ind_var37_cte</td>\n",
              "      <td>2.170983e-03</td>\n",
              "    </tr>\n",
              "    <tr>\n",
              "      <th>320</th>\n",
              "      <td>num_meses_var5_ult3</td>\n",
              "      <td>8.021360e-04</td>\n",
              "    </tr>\n",
              "    <tr>\n",
              "      <th>262</th>\n",
              "      <td>saldo_medio_var5_hace3</td>\n",
              "      <td>1.693658e-04</td>\n",
              "    </tr>\n",
              "    <tr>\n",
              "      <th>220</th>\n",
              "      <td>num_var35</td>\n",
              "      <td>1.632709e-04</td>\n",
              "    </tr>\n",
              "    <tr>\n",
              "      <th>241</th>\n",
              "      <td>num_var22_hace2</td>\n",
              "      <td>2.420883e-05</td>\n",
              "    </tr>\n",
              "    <tr>\n",
              "      <th>355</th>\n",
              "      <td>num_var45_hace3</td>\n",
              "      <td>7.045954e-07</td>\n",
              "    </tr>\n",
              "    <tr>\n",
              "      <th>1</th>\n",
              "      <td>var36</td>\n",
              "      <td>3.169662e-08</td>\n",
              "    </tr>\n",
              "  </tbody>\n",
              "</table>\n",
              "</div>"
            ],
            "text/plain": [
              "                     features    importance\n",
              "314                 ind_var30  4.148250e-01\n",
              "142                     var15  2.724633e-01\n",
              "166            num_var22_ult1  1.171071e-01\n",
              "365            num_var22_ult3  5.065551e-02\n",
              "77                      var38  3.335636e-02\n",
              "295                 num_var30  3.015470e-02\n",
              "360               saldo_var30  2.508327e-02\n",
              "105               ind_var41_0  1.247545e-02\n",
              "137   imp_op_var41_efect_ult1  9.450797e-03\n",
              "301               num_var41_0  8.950042e-03\n",
              "183        num_med_var22_ult3  6.851903e-03\n",
              "134   num_op_var41_efect_ult3  4.182864e-03\n",
              "254     saldo_medio_var5_ult3  3.413588e-03\n",
              "307    saldo_medio_var5_hace2  2.791532e-03\n",
              "78             num_var45_ult3  2.605445e-03\n",
              "346  num_meses_var39_vig_ult3  2.302478e-03\n",
              "83              ind_var37_cte  2.170983e-03\n",
              "320       num_meses_var5_ult3  8.021360e-04\n",
              "262    saldo_medio_var5_hace3  1.693658e-04\n",
              "220                 num_var35  1.632709e-04\n",
              "241           num_var22_hace2  2.420883e-05\n",
              "355           num_var45_hace3  7.045954e-07\n",
              "1                       var36  3.169662e-08"
            ]
          },
          "metadata": {},
          "execution_count": 59
        }
      ]
    },
    {
      "cell_type": "markdown",
      "metadata": {
        "id": "WVj_S8JYEVdt"
      },
      "source": [
        "# Random Forest"
      ]
    },
    {
      "cell_type": "code",
      "metadata": {
        "id": "Gzp9XSwgQGen"
      },
      "source": [
        "# Muestreo de data\n",
        "\n",
        "from sklearn.model_selection import train_test_split\n",
        "\n",
        "X_train, X_test, y_train, y_test = train_test_split(X, y, \n",
        "                                                    stratify = y,\n",
        "                                                    test_size = 0.3,\n",
        "                                                    random_state = 123)\n"
      ],
      "execution_count": null,
      "outputs": []
    },
    {
      "cell_type": "code",
      "metadata": {
        "id": "1iDJJfkx6Rk1"
      },
      "source": [
        "# Cargando librerías\n",
        "\n",
        "from sklearn.ensemble import RandomForestClassifier\n",
        "import time\n"
      ],
      "execution_count": null,
      "outputs": []
    },
    {
      "cell_type": "code",
      "metadata": {
        "id": "y147KKmj6UOz"
      },
      "source": [
        "# Configurando modelo de random forest\n",
        "\n",
        "rfc = RandomForestClassifier(n_estimators = 100,\n",
        "                             max_depth = 8, \n",
        "                             min_samples_leaf = 0.01,\n",
        "                             oob_score = True,\n",
        "                             verbose = 1, \n",
        "                             n_jobs = -1,\n",
        "                             random_state = 123)\n"
      ],
      "execution_count": null,
      "outputs": []
    },
    {
      "cell_type": "code",
      "metadata": {
        "colab": {
          "base_uri": "https://localhost:8080/"
        },
        "id": "96K6OPOfAQbK",
        "outputId": "cea8dc62-a4f1-4115-9cc1-9d52e115bf8c"
      },
      "source": [
        "\n",
        "import time\n",
        "start_time = time.time()\n",
        "rfc = rfc.fit(X_train, y_train)\n",
        "print(\"----%s seconds ---\" % ((time.time() - start_time)))\n"
      ],
      "execution_count": null,
      "outputs": [
        {
          "output_type": "stream",
          "text": [
            "[Parallel(n_jobs=1)]: Using backend SequentialBackend with 1 concurrent workers.\n",
            "[Parallel(n_jobs=1)]: Done 100 out of 100 | elapsed:    3.5s finished\n"
          ],
          "name": "stderr"
        },
        {
          "output_type": "stream",
          "text": [
            "----5.1053667068481445 seconds ---\n"
          ],
          "name": "stdout"
        }
      ]
    },
    {
      "cell_type": "code",
      "metadata": {
        "id": "Wmr96VSSMLaD",
        "colab": {
          "base_uri": "https://localhost:8080/",
          "height": 419
        },
        "outputId": "d0c02c3e-0ad5-434f-ae88-7f21412f8a28"
      },
      "source": [
        "importances = pd.DataFrame({'features' : X_train.columns.tolist() ,\n",
        "                            'importance' : rfc.feature_importances_}).sort_values('importance', ascending = False)\n",
        "\n",
        "importances.loc[importances.importance > 0]"
      ],
      "execution_count": null,
      "outputs": [
        {
          "output_type": "execute_result",
          "data": {
            "text/html": [
              "<div>\n",
              "<style scoped>\n",
              "    .dataframe tbody tr th:only-of-type {\n",
              "        vertical-align: middle;\n",
              "    }\n",
              "\n",
              "    .dataframe tbody tr th {\n",
              "        vertical-align: top;\n",
              "    }\n",
              "\n",
              "    .dataframe thead th {\n",
              "        text-align: right;\n",
              "    }\n",
              "</style>\n",
              "<table border=\"1\" class=\"dataframe\">\n",
              "  <thead>\n",
              "    <tr style=\"text-align: right;\">\n",
              "      <th></th>\n",
              "      <th>features</th>\n",
              "      <th>importance</th>\n",
              "    </tr>\n",
              "  </thead>\n",
              "  <tbody>\n",
              "    <tr>\n",
              "      <th>360</th>\n",
              "      <td>saldo_var30</td>\n",
              "      <td>0.107009</td>\n",
              "    </tr>\n",
              "    <tr>\n",
              "      <th>142</th>\n",
              "      <td>var15</td>\n",
              "      <td>0.104692</td>\n",
              "    </tr>\n",
              "    <tr>\n",
              "      <th>320</th>\n",
              "      <td>num_meses_var5_ult3</td>\n",
              "      <td>0.069349</td>\n",
              "    </tr>\n",
              "    <tr>\n",
              "      <th>314</th>\n",
              "      <td>ind_var30</td>\n",
              "      <td>0.063554</td>\n",
              "    </tr>\n",
              "    <tr>\n",
              "      <th>307</th>\n",
              "      <td>saldo_medio_var5_hace2</td>\n",
              "      <td>0.059775</td>\n",
              "    </tr>\n",
              "    <tr>\n",
              "      <th>...</th>\n",
              "      <td>...</td>\n",
              "      <td>...</td>\n",
              "    </tr>\n",
              "    <tr>\n",
              "      <th>325</th>\n",
              "      <td>num_var24</td>\n",
              "      <td>0.000027</td>\n",
              "    </tr>\n",
              "    <tr>\n",
              "      <th>181</th>\n",
              "      <td>ind_var10cte_ult1</td>\n",
              "      <td>0.000017</td>\n",
              "    </tr>\n",
              "    <tr>\n",
              "      <th>339</th>\n",
              "      <td>ind_var43_emit_ult1</td>\n",
              "      <td>0.000016</td>\n",
              "    </tr>\n",
              "    <tr>\n",
              "      <th>102</th>\n",
              "      <td>imp_aport_var13_hace3</td>\n",
              "      <td>0.000013</td>\n",
              "    </tr>\n",
              "    <tr>\n",
              "      <th>148</th>\n",
              "      <td>num_var25</td>\n",
              "      <td>0.000004</td>\n",
              "    </tr>\n",
              "  </tbody>\n",
              "</table>\n",
              "<p>129 rows × 2 columns</p>\n",
              "</div>"
            ],
            "text/plain": [
              "                   features  importance\n",
              "360             saldo_var30    0.107009\n",
              "142                   var15    0.104692\n",
              "320     num_meses_var5_ult3    0.069349\n",
              "314               ind_var30    0.063554\n",
              "307  saldo_medio_var5_hace2    0.059775\n",
              "..                      ...         ...\n",
              "325               num_var24    0.000027\n",
              "181       ind_var10cte_ult1    0.000017\n",
              "339     ind_var43_emit_ult1    0.000016\n",
              "102   imp_aport_var13_hace3    0.000013\n",
              "148               num_var25    0.000004\n",
              "\n",
              "[129 rows x 2 columns]"
            ]
          },
          "metadata": {},
          "execution_count": 67
        }
      ]
    },
    {
      "cell_type": "code",
      "metadata": {
        "id": "vl3qXL3JAmKv",
        "colab": {
          "base_uri": "https://localhost:8080/"
        },
        "outputId": "d270c8c9-f3f6-41e1-aa72-a3a688a20184"
      },
      "source": [
        "# Usando el modelo para predecir\n",
        "\n",
        "X_train['probability'] = rfc.predict_proba(X_train[features])[:,1]\n",
        "X_test['probability']  = rfc.predict_proba(X_test[features])[:,1]\n",
        "\n",
        "X_train['prediction'] = rfc.predict(X_train[features])\n",
        "X_test['prediction']  = rfc.predict(X_test[features])\n",
        "\n"
      ],
      "execution_count": null,
      "outputs": [
        {
          "output_type": "stream",
          "text": [
            "[Parallel(n_jobs=1)]: Using backend SequentialBackend with 1 concurrent workers.\n",
            "[Parallel(n_jobs=1)]: Done 100 out of 100 | elapsed:    0.3s finished\n",
            "/usr/local/lib/python3.7/dist-packages/ipykernel_launcher.py:3: SettingWithCopyWarning: \n",
            "A value is trying to be set on a copy of a slice from a DataFrame.\n",
            "Try using .loc[row_indexer,col_indexer] = value instead\n",
            "\n",
            "See the caveats in the documentation: https://pandas.pydata.org/pandas-docs/stable/user_guide/indexing.html#returning-a-view-versus-a-copy\n",
            "  This is separate from the ipykernel package so we can avoid doing imports until\n",
            "[Parallel(n_jobs=1)]: Using backend SequentialBackend with 1 concurrent workers.\n",
            "[Parallel(n_jobs=1)]: Done 100 out of 100 | elapsed:    0.1s finished\n",
            "/usr/local/lib/python3.7/dist-packages/ipykernel_launcher.py:4: SettingWithCopyWarning: \n",
            "A value is trying to be set on a copy of a slice from a DataFrame.\n",
            "Try using .loc[row_indexer,col_indexer] = value instead\n",
            "\n",
            "See the caveats in the documentation: https://pandas.pydata.org/pandas-docs/stable/user_guide/indexing.html#returning-a-view-versus-a-copy\n",
            "  after removing the cwd from sys.path.\n",
            "[Parallel(n_jobs=1)]: Using backend SequentialBackend with 1 concurrent workers.\n",
            "[Parallel(n_jobs=1)]: Done 100 out of 100 | elapsed:    0.3s finished\n",
            "/usr/local/lib/python3.7/dist-packages/ipykernel_launcher.py:6: SettingWithCopyWarning: \n",
            "A value is trying to be set on a copy of a slice from a DataFrame.\n",
            "Try using .loc[row_indexer,col_indexer] = value instead\n",
            "\n",
            "See the caveats in the documentation: https://pandas.pydata.org/pandas-docs/stable/user_guide/indexing.html#returning-a-view-versus-a-copy\n",
            "  \n",
            "[Parallel(n_jobs=1)]: Using backend SequentialBackend with 1 concurrent workers.\n",
            "[Parallel(n_jobs=1)]: Done 100 out of 100 | elapsed:    0.1s finished\n",
            "/usr/local/lib/python3.7/dist-packages/ipykernel_launcher.py:7: SettingWithCopyWarning: \n",
            "A value is trying to be set on a copy of a slice from a DataFrame.\n",
            "Try using .loc[row_indexer,col_indexer] = value instead\n",
            "\n",
            "See the caveats in the documentation: https://pandas.pydata.org/pandas-docs/stable/user_guide/indexing.html#returning-a-view-versus-a-copy\n",
            "  import sys\n"
          ],
          "name": "stderr"
        }
      ]
    },
    {
      "cell_type": "code",
      "metadata": {
        "id": "4ffk7L4xBGIb",
        "colab": {
          "base_uri": "https://localhost:8080/",
          "height": 323
        },
        "outputId": "483982af-086f-41d8-e9a6-a925969cc3cb"
      },
      "source": [
        "#Resumen de todas las métricas del modelo\n",
        "\n",
        "metricsRfc = pd.DataFrame({'metric':['AUC','Gini','Accuracy','Precision','Recall','F1-score'],\n",
        "                                'rfc_train':[roc_auc_score(y_train, X_train.probability),\n",
        "                                        (roc_auc_score(y_train, X_train.probability)*2-1),\n",
        "                                        accuracy_score(y_train, X_train.prediction),\n",
        "                                        precision_score(y_train, X_train.prediction),\n",
        "                                        recall_score(y_train, X_train.prediction),\n",
        "                                        f1_score(y_train, X_train.prediction)],\n",
        "\n",
        "                                'rfc_test':[roc_auc_score(y_test, X_test.probability),\n",
        "                                        (roc_auc_score(y_test, X_test.probability)*2-1),\n",
        "                                        accuracy_score(y_test, X_test.prediction),\n",
        "                                        precision_score(y_test, X_test.prediction),\n",
        "                                        recall_score(y_test, X_test.prediction),\n",
        "                                        f1_score(y_test, X_test.prediction)]})\n",
        "\n",
        " \n",
        "metricsRes = pd.merge(metricsDtree, metricsRfc, on = 'metric', how='left') \n",
        "metricsRes        "
      ],
      "execution_count": null,
      "outputs": [
        {
          "output_type": "stream",
          "text": [
            "/usr/local/lib/python3.7/dist-packages/sklearn/metrics/_classification.py:1272: UndefinedMetricWarning: Precision is ill-defined and being set to 0.0 due to no predicted samples. Use `zero_division` parameter to control this behavior.\n",
            "  _warn_prf(average, modifier, msg_start, len(result))\n",
            "/usr/local/lib/python3.7/dist-packages/sklearn/metrics/_classification.py:1272: UndefinedMetricWarning: Precision is ill-defined and being set to 0.0 due to no predicted samples. Use `zero_division` parameter to control this behavior.\n",
            "  _warn_prf(average, modifier, msg_start, len(result))\n"
          ],
          "name": "stderr"
        },
        {
          "output_type": "execute_result",
          "data": {
            "text/html": [
              "<div>\n",
              "<style scoped>\n",
              "    .dataframe tbody tr th:only-of-type {\n",
              "        vertical-align: middle;\n",
              "    }\n",
              "\n",
              "    .dataframe tbody tr th {\n",
              "        vertical-align: top;\n",
              "    }\n",
              "\n",
              "    .dataframe thead th {\n",
              "        text-align: right;\n",
              "    }\n",
              "</style>\n",
              "<table border=\"1\" class=\"dataframe\">\n",
              "  <thead>\n",
              "    <tr style=\"text-align: right;\">\n",
              "      <th></th>\n",
              "      <th>metric</th>\n",
              "      <th>dTree_train</th>\n",
              "      <th>dTree_test</th>\n",
              "      <th>rfc_train</th>\n",
              "      <th>rfc_test</th>\n",
              "    </tr>\n",
              "  </thead>\n",
              "  <tbody>\n",
              "    <tr>\n",
              "      <th>0</th>\n",
              "      <td>AUC</td>\n",
              "      <td>0.797236</td>\n",
              "      <td>0.781922</td>\n",
              "      <td>0.799951</td>\n",
              "      <td>0.798694</td>\n",
              "    </tr>\n",
              "    <tr>\n",
              "      <th>1</th>\n",
              "      <td>Gini</td>\n",
              "      <td>0.594472</td>\n",
              "      <td>0.563845</td>\n",
              "      <td>0.599901</td>\n",
              "      <td>0.597388</td>\n",
              "    </tr>\n",
              "    <tr>\n",
              "      <th>2</th>\n",
              "      <td>Accuracy</td>\n",
              "      <td>0.960424</td>\n",
              "      <td>0.960449</td>\n",
              "      <td>0.960424</td>\n",
              "      <td>0.960449</td>\n",
              "    </tr>\n",
              "    <tr>\n",
              "      <th>3</th>\n",
              "      <td>Precision</td>\n",
              "      <td>0.000000</td>\n",
              "      <td>0.000000</td>\n",
              "      <td>0.000000</td>\n",
              "      <td>0.000000</td>\n",
              "    </tr>\n",
              "    <tr>\n",
              "      <th>4</th>\n",
              "      <td>Recall</td>\n",
              "      <td>0.000000</td>\n",
              "      <td>0.000000</td>\n",
              "      <td>0.000000</td>\n",
              "      <td>0.000000</td>\n",
              "    </tr>\n",
              "    <tr>\n",
              "      <th>5</th>\n",
              "      <td>F1-score</td>\n",
              "      <td>0.000000</td>\n",
              "      <td>0.000000</td>\n",
              "      <td>0.000000</td>\n",
              "      <td>0.000000</td>\n",
              "    </tr>\n",
              "  </tbody>\n",
              "</table>\n",
              "</div>"
            ],
            "text/plain": [
              "      metric  dTree_train  dTree_test  rfc_train  rfc_test\n",
              "0        AUC     0.797236    0.781922   0.799951  0.798694\n",
              "1       Gini     0.594472    0.563845   0.599901  0.597388\n",
              "2   Accuracy     0.960424    0.960449   0.960424  0.960449\n",
              "3  Precision     0.000000    0.000000   0.000000  0.000000\n",
              "4     Recall     0.000000    0.000000   0.000000  0.000000\n",
              "5   F1-score     0.000000    0.000000   0.000000  0.000000"
            ]
          },
          "metadata": {},
          "execution_count": 69
        }
      ]
    },
    {
      "cell_type": "markdown",
      "metadata": {
        "id": "O2fNkkfZ6K2I"
      },
      "source": [
        ""
      ]
    },
    {
      "cell_type": "markdown",
      "metadata": {
        "id": "V1LDuvW4qm9_"
      },
      "source": [
        "# AdaBoost"
      ]
    },
    {
      "cell_type": "code",
      "metadata": {
        "id": "yJ98Ze3jR7Hz"
      },
      "source": [
        "# Muestreo de data\n",
        "\n",
        "from sklearn.model_selection import train_test_split\n",
        "\n",
        "X_train, X_test, y_train, y_test = train_test_split(X, y, \n",
        "                                                    stratify = y,\n",
        "                                                    test_size = 0.3,\n",
        "                                                    random_state = 123)\n"
      ],
      "execution_count": null,
      "outputs": []
    },
    {
      "cell_type": "code",
      "metadata": {
        "id": "wVu1x48_RYgW"
      },
      "source": [
        "# Cargando librerías\n",
        "\n",
        "from sklearn.ensemble import AdaBoostClassifier\n",
        "from sklearn.tree import DecisionTreeClassifier\n",
        "import time\n"
      ],
      "execution_count": null,
      "outputs": []
    },
    {
      "cell_type": "code",
      "metadata": {
        "id": "teVH6RQmRfnm"
      },
      "source": [
        "# Configuramos el modelo de adaboost\n",
        "\n",
        "ada_clf = AdaBoostClassifier(\n",
        "          DecisionTreeClassifier(max_depth = 1),\n",
        "          n_estimators = 200,\n",
        "          algorithm = 'SAMME.R',\n",
        "          learning_rate = 0.5,\n",
        "          random_state = 123)\n"
      ],
      "execution_count": null,
      "outputs": []
    },
    {
      "cell_type": "code",
      "metadata": {
        "colab": {
          "base_uri": "https://localhost:8080/"
        },
        "id": "nsuLZk2AR3qT",
        "outputId": "753e9bef-e73f-4b3d-8eec-a3a706a96369"
      },
      "source": [
        "start_time = time.time()\n",
        "ada_clf.fit(X_train, y_train)\n",
        "print(\"----%s seconds ---\" % ((time.time() - start_time)))\n"
      ],
      "execution_count": null,
      "outputs": [
        {
          "output_type": "stream",
          "text": [
            "----36.69933032989502 seconds ---\n"
          ],
          "name": "stdout"
        }
      ]
    },
    {
      "cell_type": "code",
      "metadata": {
        "id": "W6Djb2INTCqA",
        "colab": {
          "base_uri": "https://localhost:8080/",
          "height": 419
        },
        "outputId": "01bb307f-8af9-47db-9aa2-16b3bfe15376"
      },
      "source": [
        "importances = pd.DataFrame({'features' : X_train.columns.tolist() ,\n",
        "                            'importance' : ada_clf.feature_importances_}).sort_values('importance', ascending = False)\n",
        "\n",
        "importances.loc[importances.importance > 0]"
      ],
      "execution_count": null,
      "outputs": [
        {
          "output_type": "execute_result",
          "data": {
            "text/html": [
              "<div>\n",
              "<style scoped>\n",
              "    .dataframe tbody tr th:only-of-type {\n",
              "        vertical-align: middle;\n",
              "    }\n",
              "\n",
              "    .dataframe tbody tr th {\n",
              "        vertical-align: top;\n",
              "    }\n",
              "\n",
              "    .dataframe thead th {\n",
              "        text-align: right;\n",
              "    }\n",
              "</style>\n",
              "<table border=\"1\" class=\"dataframe\">\n",
              "  <thead>\n",
              "    <tr style=\"text-align: right;\">\n",
              "      <th></th>\n",
              "      <th>features</th>\n",
              "      <th>importance</th>\n",
              "    </tr>\n",
              "  </thead>\n",
              "  <tbody>\n",
              "    <tr>\n",
              "      <th>77</th>\n",
              "      <td>var38</td>\n",
              "      <td>0.075</td>\n",
              "    </tr>\n",
              "    <tr>\n",
              "      <th>142</th>\n",
              "      <td>var15</td>\n",
              "      <td>0.065</td>\n",
              "    </tr>\n",
              "    <tr>\n",
              "      <th>262</th>\n",
              "      <td>saldo_medio_var5_hace3</td>\n",
              "      <td>0.050</td>\n",
              "    </tr>\n",
              "    <tr>\n",
              "      <th>360</th>\n",
              "      <td>saldo_var30</td>\n",
              "      <td>0.050</td>\n",
              "    </tr>\n",
              "    <tr>\n",
              "      <th>322</th>\n",
              "      <td>imp_op_var39_comer_ult1</td>\n",
              "      <td>0.040</td>\n",
              "    </tr>\n",
              "    <tr>\n",
              "      <th>...</th>\n",
              "      <td>...</td>\n",
              "      <td>...</td>\n",
              "    </tr>\n",
              "    <tr>\n",
              "      <th>214</th>\n",
              "      <td>saldo_medio_var8_hace3</td>\n",
              "      <td>0.005</td>\n",
              "    </tr>\n",
              "    <tr>\n",
              "      <th>273</th>\n",
              "      <td>saldo_medio_var13_corto_hace3</td>\n",
              "      <td>0.005</td>\n",
              "    </tr>\n",
              "    <tr>\n",
              "      <th>173</th>\n",
              "      <td>num_var5_0</td>\n",
              "      <td>0.005</td>\n",
              "    </tr>\n",
              "    <tr>\n",
              "      <th>189</th>\n",
              "      <td>imp_op_var40_efect_ult3</td>\n",
              "      <td>0.005</td>\n",
              "    </tr>\n",
              "    <tr>\n",
              "      <th>2</th>\n",
              "      <td>saldo_medio_var13_corto_ult1</td>\n",
              "      <td>0.005</td>\n",
              "    </tr>\n",
              "  </tbody>\n",
              "</table>\n",
              "<p>65 rows × 2 columns</p>\n",
              "</div>"
            ],
            "text/plain": [
              "                          features  importance\n",
              "77                           var38       0.075\n",
              "142                          var15       0.065\n",
              "262         saldo_medio_var5_hace3       0.050\n",
              "360                    saldo_var30       0.050\n",
              "322        imp_op_var39_comer_ult1       0.040\n",
              "..                             ...         ...\n",
              "214         saldo_medio_var8_hace3       0.005\n",
              "273  saldo_medio_var13_corto_hace3       0.005\n",
              "173                     num_var5_0       0.005\n",
              "189        imp_op_var40_efect_ult3       0.005\n",
              "2     saldo_medio_var13_corto_ult1       0.005\n",
              "\n",
              "[65 rows x 2 columns]"
            ]
          },
          "metadata": {},
          "execution_count": 75
        }
      ]
    },
    {
      "cell_type": "code",
      "metadata": {
        "id": "KH8IEp0BTHr0",
        "colab": {
          "base_uri": "https://localhost:8080/"
        },
        "outputId": "ff097667-3041-4fbb-e230-31d6909bfb37"
      },
      "source": [
        "# Usando el modelo para predecir\n",
        "\n",
        "X_train['probability'] = ada_clf.predict_proba(X_train[features])[:,1]\n",
        "X_test['probability']  = ada_clf.predict_proba(X_test[features])[:,1]\n",
        "\n",
        "X_train['prediction'] = ada_clf.predict(X_train[features])\n",
        "X_test['prediction']  = ada_clf.predict(X_test[features])\n",
        "\n"
      ],
      "execution_count": null,
      "outputs": [
        {
          "output_type": "stream",
          "text": [
            "/usr/local/lib/python3.7/dist-packages/ipykernel_launcher.py:3: SettingWithCopyWarning: \n",
            "A value is trying to be set on a copy of a slice from a DataFrame.\n",
            "Try using .loc[row_indexer,col_indexer] = value instead\n",
            "\n",
            "See the caveats in the documentation: https://pandas.pydata.org/pandas-docs/stable/user_guide/indexing.html#returning-a-view-versus-a-copy\n",
            "  This is separate from the ipykernel package so we can avoid doing imports until\n",
            "/usr/local/lib/python3.7/dist-packages/ipykernel_launcher.py:4: SettingWithCopyWarning: \n",
            "A value is trying to be set on a copy of a slice from a DataFrame.\n",
            "Try using .loc[row_indexer,col_indexer] = value instead\n",
            "\n",
            "See the caveats in the documentation: https://pandas.pydata.org/pandas-docs/stable/user_guide/indexing.html#returning-a-view-versus-a-copy\n",
            "  after removing the cwd from sys.path.\n",
            "/usr/local/lib/python3.7/dist-packages/ipykernel_launcher.py:6: SettingWithCopyWarning: \n",
            "A value is trying to be set on a copy of a slice from a DataFrame.\n",
            "Try using .loc[row_indexer,col_indexer] = value instead\n",
            "\n",
            "See the caveats in the documentation: https://pandas.pydata.org/pandas-docs/stable/user_guide/indexing.html#returning-a-view-versus-a-copy\n",
            "  \n",
            "/usr/local/lib/python3.7/dist-packages/ipykernel_launcher.py:7: SettingWithCopyWarning: \n",
            "A value is trying to be set on a copy of a slice from a DataFrame.\n",
            "Try using .loc[row_indexer,col_indexer] = value instead\n",
            "\n",
            "See the caveats in the documentation: https://pandas.pydata.org/pandas-docs/stable/user_guide/indexing.html#returning-a-view-versus-a-copy\n",
            "  import sys\n"
          ],
          "name": "stderr"
        }
      ]
    },
    {
      "cell_type": "code",
      "metadata": {
        "colab": {
          "base_uri": "https://localhost:8080/",
          "height": 235
        },
        "id": "4sciIpB0TP1T",
        "outputId": "7f791af5-4f89-4ffa-e539-80d061ded1f2"
      },
      "source": [
        "#Resumen de todas las métricas del modelo\n",
        "\n",
        "metricsAdab = pd.DataFrame({'metric':['AUC','Gini','Accuracy','Precision','Recall','F1-score'],\n",
        "                                'adab_train':[roc_auc_score(y_train, X_train.probability),\n",
        "                                        (roc_auc_score(y_train, X_train.probability)*2-1),\n",
        "                                        accuracy_score(y_train, X_train.prediction),\n",
        "                                        precision_score(y_train, X_train.prediction),\n",
        "                                        recall_score(y_train, X_train.prediction),\n",
        "                                        f1_score(y_train, X_train.prediction)],\n",
        "\n",
        "                                'adab_test':[roc_auc_score(y_test, X_test.probability),\n",
        "                                        (roc_auc_score(y_test, X_test.probability)*2-1),\n",
        "                                        accuracy_score(y_test, X_test.prediction),\n",
        "                                        precision_score(y_test, X_test.prediction),\n",
        "                                        recall_score(y_test, X_test.prediction),\n",
        "                                        f1_score(y_test, X_test.prediction)]})\n",
        "\n",
        " \n",
        "metricsRes = pd.merge(metricsRes, metricsAdab, on = 'metric', how='left') \n",
        "metricsRes        "
      ],
      "execution_count": null,
      "outputs": [
        {
          "output_type": "execute_result",
          "data": {
            "text/html": [
              "<div>\n",
              "<style scoped>\n",
              "    .dataframe tbody tr th:only-of-type {\n",
              "        vertical-align: middle;\n",
              "    }\n",
              "\n",
              "    .dataframe tbody tr th {\n",
              "        vertical-align: top;\n",
              "    }\n",
              "\n",
              "    .dataframe thead th {\n",
              "        text-align: right;\n",
              "    }\n",
              "</style>\n",
              "<table border=\"1\" class=\"dataframe\">\n",
              "  <thead>\n",
              "    <tr style=\"text-align: right;\">\n",
              "      <th></th>\n",
              "      <th>metric</th>\n",
              "      <th>dTree_train</th>\n",
              "      <th>dTree_test</th>\n",
              "      <th>rfc_train</th>\n",
              "      <th>rfc_test</th>\n",
              "      <th>adab_train</th>\n",
              "      <th>adab_test</th>\n",
              "    </tr>\n",
              "  </thead>\n",
              "  <tbody>\n",
              "    <tr>\n",
              "      <th>0</th>\n",
              "      <td>AUC</td>\n",
              "      <td>0.797236</td>\n",
              "      <td>0.781922</td>\n",
              "      <td>0.799951</td>\n",
              "      <td>0.798694</td>\n",
              "      <td>0.858622</td>\n",
              "      <td>0.821658</td>\n",
              "    </tr>\n",
              "    <tr>\n",
              "      <th>1</th>\n",
              "      <td>Gini</td>\n",
              "      <td>0.594472</td>\n",
              "      <td>0.563845</td>\n",
              "      <td>0.599901</td>\n",
              "      <td>0.597388</td>\n",
              "      <td>0.717244</td>\n",
              "      <td>0.643317</td>\n",
              "    </tr>\n",
              "    <tr>\n",
              "      <th>2</th>\n",
              "      <td>Accuracy</td>\n",
              "      <td>0.960424</td>\n",
              "      <td>0.960449</td>\n",
              "      <td>0.960424</td>\n",
              "      <td>0.960449</td>\n",
              "      <td>0.960631</td>\n",
              "      <td>0.960405</td>\n",
              "    </tr>\n",
              "    <tr>\n",
              "      <th>3</th>\n",
              "      <td>Precision</td>\n",
              "      <td>0.000000</td>\n",
              "      <td>0.000000</td>\n",
              "      <td>0.000000</td>\n",
              "      <td>0.000000</td>\n",
              "      <td>0.720000</td>\n",
              "      <td>0.444444</td>\n",
              "    </tr>\n",
              "    <tr>\n",
              "      <th>4</th>\n",
              "      <td>Recall</td>\n",
              "      <td>0.000000</td>\n",
              "      <td>0.000000</td>\n",
              "      <td>0.000000</td>\n",
              "      <td>0.000000</td>\n",
              "      <td>0.008547</td>\n",
              "      <td>0.004435</td>\n",
              "    </tr>\n",
              "    <tr>\n",
              "      <th>5</th>\n",
              "      <td>F1-score</td>\n",
              "      <td>0.000000</td>\n",
              "      <td>0.000000</td>\n",
              "      <td>0.000000</td>\n",
              "      <td>0.000000</td>\n",
              "      <td>0.016893</td>\n",
              "      <td>0.008782</td>\n",
              "    </tr>\n",
              "  </tbody>\n",
              "</table>\n",
              "</div>"
            ],
            "text/plain": [
              "      metric  dTree_train  dTree_test  ...  rfc_test  adab_train  adab_test\n",
              "0        AUC     0.797236    0.781922  ...  0.798694    0.858622   0.821658\n",
              "1       Gini     0.594472    0.563845  ...  0.597388    0.717244   0.643317\n",
              "2   Accuracy     0.960424    0.960449  ...  0.960449    0.960631   0.960405\n",
              "3  Precision     0.000000    0.000000  ...  0.000000    0.720000   0.444444\n",
              "4     Recall     0.000000    0.000000  ...  0.000000    0.008547   0.004435\n",
              "5   F1-score     0.000000    0.000000  ...  0.000000    0.016893   0.008782\n",
              "\n",
              "[6 rows x 7 columns]"
            ]
          },
          "metadata": {},
          "execution_count": 77
        }
      ]
    },
    {
      "cell_type": "markdown",
      "metadata": {
        "id": "k22vTC0X1nLV"
      },
      "source": [
        "# XGBoost"
      ]
    },
    {
      "cell_type": "code",
      "metadata": {
        "id": "5hmm0d4tTyir"
      },
      "source": [
        "# Muestreo de data\n",
        "\n",
        "from sklearn.model_selection import train_test_split\n",
        "\n",
        "X_train, X_test, y_train, y_test = train_test_split(X, y, \n",
        "                                                    stratify = y,\n",
        "                                                    test_size = 0.3,\n",
        "                                                    random_state = 123)\n"
      ],
      "execution_count": null,
      "outputs": []
    },
    {
      "cell_type": "code",
      "metadata": {
        "id": "iFg_jH_oTshe"
      },
      "source": [
        "# Cargando librerías\n",
        "\n",
        "import numpy as np\n",
        "import xgboost as xgb"
      ],
      "execution_count": null,
      "outputs": []
    },
    {
      "cell_type": "code",
      "metadata": {
        "id": "wBuS6S3CT2Ji"
      },
      "source": [
        "\n",
        "dtrain = xgb.DMatrix(X_train, label = y_train)\n",
        "dtest  = xgb.DMatrix(X_test, label = y_test)\n"
      ],
      "execution_count": null,
      "outputs": []
    },
    {
      "cell_type": "code",
      "metadata": {
        "id": "mp_hF3TNUBlQ"
      },
      "source": [
        "# Definiendo parámetros\n",
        "\n",
        "param = {'objetive' : 'binary_logistic',\n",
        "         'max_depth' : 8,\n",
        "         'learning_rate': 0.05,\n",
        "         'seed' : 123,\n",
        "         'min_data_leaf' : int(round(y_train.shape[0]*0.01,0)),\n",
        "         'grow_policy' : 'lossguide'}\n",
        "\n",
        "param['eval_metric'] = 'auc'\n",
        "num_round = 300         \n",
        "\n",
        "evallist = [(dtrain,'train'), (dtest,'valid')]"
      ],
      "execution_count": null,
      "outputs": []
    },
    {
      "cell_type": "code",
      "metadata": {
        "id": "nsoCfJBDT8_k",
        "colab": {
          "base_uri": "https://localhost:8080/"
        },
        "outputId": "950af04f-a540-4e1b-b112-b4cb1f057257"
      },
      "source": [
        "\n",
        "start_time = time.time()\n",
        "xgBoost = xgb.train(param, dtrain, num_round, evallist, \n",
        "                    early_stopping_rounds = 10)\n",
        "print(\"----%s seconds ---\" % ((time.time() - start_time)))\n"
      ],
      "execution_count": null,
      "outputs": [
        {
          "output_type": "stream",
          "text": [
            "[0]\ttrain-auc:0.844481\tvalid-auc:0.810725\n",
            "Multiple eval metrics have been passed: 'valid-auc' will be used for early stopping.\n",
            "\n",
            "Will train until valid-auc hasn't improved in 10 rounds.\n",
            "[1]\ttrain-auc:0.848087\tvalid-auc:0.81317\n",
            "[2]\ttrain-auc:0.849033\tvalid-auc:0.813555\n",
            "[3]\ttrain-auc:0.850163\tvalid-auc:0.814168\n",
            "[4]\ttrain-auc:0.854143\tvalid-auc:0.816095\n",
            "[5]\ttrain-auc:0.857931\tvalid-auc:0.81916\n",
            "[6]\ttrain-auc:0.86008\tvalid-auc:0.820514\n",
            "[7]\ttrain-auc:0.861248\tvalid-auc:0.820431\n",
            "[8]\ttrain-auc:0.861431\tvalid-auc:0.820732\n",
            "[9]\ttrain-auc:0.862765\tvalid-auc:0.82123\n",
            "[10]\ttrain-auc:0.863181\tvalid-auc:0.821329\n",
            "[11]\ttrain-auc:0.864099\tvalid-auc:0.822415\n",
            "[12]\ttrain-auc:0.865626\tvalid-auc:0.822824\n",
            "[13]\ttrain-auc:0.866495\tvalid-auc:0.822201\n",
            "[14]\ttrain-auc:0.867308\tvalid-auc:0.822737\n",
            "[15]\ttrain-auc:0.868949\tvalid-auc:0.825208\n",
            "[16]\ttrain-auc:0.871409\tvalid-auc:0.825085\n",
            "[17]\ttrain-auc:0.872002\tvalid-auc:0.82578\n",
            "[18]\ttrain-auc:0.873106\tvalid-auc:0.826551\n",
            "[19]\ttrain-auc:0.874557\tvalid-auc:0.826692\n",
            "[20]\ttrain-auc:0.875897\tvalid-auc:0.826795\n",
            "[21]\ttrain-auc:0.876582\tvalid-auc:0.826681\n",
            "[22]\ttrain-auc:0.877943\tvalid-auc:0.827029\n",
            "[23]\ttrain-auc:0.879324\tvalid-auc:0.8277\n",
            "[24]\ttrain-auc:0.879822\tvalid-auc:0.827859\n",
            "[25]\ttrain-auc:0.881027\tvalid-auc:0.829103\n",
            "[26]\ttrain-auc:0.881738\tvalid-auc:0.829164\n",
            "[27]\ttrain-auc:0.883763\tvalid-auc:0.829551\n",
            "[28]\ttrain-auc:0.884436\tvalid-auc:0.829748\n",
            "[29]\ttrain-auc:0.885094\tvalid-auc:0.829691\n",
            "[30]\ttrain-auc:0.885453\tvalid-auc:0.829569\n",
            "[31]\ttrain-auc:0.885784\tvalid-auc:0.829757\n",
            "[32]\ttrain-auc:0.886492\tvalid-auc:0.830233\n",
            "[33]\ttrain-auc:0.887093\tvalid-auc:0.830131\n",
            "[34]\ttrain-auc:0.888504\tvalid-auc:0.830815\n",
            "[35]\ttrain-auc:0.88913\tvalid-auc:0.830653\n",
            "[36]\ttrain-auc:0.889891\tvalid-auc:0.830959\n",
            "[37]\ttrain-auc:0.890589\tvalid-auc:0.830571\n",
            "[38]\ttrain-auc:0.891767\tvalid-auc:0.830869\n",
            "[39]\ttrain-auc:0.892733\tvalid-auc:0.831012\n",
            "[40]\ttrain-auc:0.893289\tvalid-auc:0.83126\n",
            "[41]\ttrain-auc:0.89413\tvalid-auc:0.831305\n",
            "[42]\ttrain-auc:0.894582\tvalid-auc:0.831769\n",
            "[43]\ttrain-auc:0.895708\tvalid-auc:0.831494\n",
            "[44]\ttrain-auc:0.896842\tvalid-auc:0.831372\n",
            "[45]\ttrain-auc:0.897265\tvalid-auc:0.831241\n",
            "[46]\ttrain-auc:0.898621\tvalid-auc:0.831184\n",
            "[47]\ttrain-auc:0.898946\tvalid-auc:0.831657\n",
            "[48]\ttrain-auc:0.899481\tvalid-auc:0.831263\n",
            "[49]\ttrain-auc:0.900006\tvalid-auc:0.831834\n",
            "[50]\ttrain-auc:0.900509\tvalid-auc:0.831513\n",
            "[51]\ttrain-auc:0.900946\tvalid-auc:0.83138\n",
            "[52]\ttrain-auc:0.901321\tvalid-auc:0.831336\n",
            "[53]\ttrain-auc:0.901891\tvalid-auc:0.831375\n",
            "[54]\ttrain-auc:0.902367\tvalid-auc:0.831141\n",
            "[55]\ttrain-auc:0.902709\tvalid-auc:0.831078\n",
            "[56]\ttrain-auc:0.90337\tvalid-auc:0.831467\n",
            "[57]\ttrain-auc:0.903635\tvalid-auc:0.831507\n",
            "[58]\ttrain-auc:0.90391\tvalid-auc:0.831453\n",
            "[59]\ttrain-auc:0.904127\tvalid-auc:0.831392\n",
            "Stopping. Best iteration:\n",
            "[49]\ttrain-auc:0.900006\tvalid-auc:0.831834\n",
            "\n",
            "----18.81567621231079 seconds ---\n"
          ],
          "name": "stdout"
        }
      ]
    },
    {
      "cell_type": "markdown",
      "metadata": {
        "id": "C4z0wIVH-MIX"
      },
      "source": [
        "<b>Variables del Modelo</b>"
      ]
    },
    {
      "cell_type": "code",
      "metadata": {
        "id": "H4AWrUcz-Q3K",
        "colab": {
          "base_uri": "https://localhost:8080/"
        },
        "outputId": "830cabc8-e4fe-40b3-e5fd-a96387361cd3"
      },
      "source": [
        "importance = xgBoost.get_score(importance_type = 'total_gain')\n",
        "importance"
      ],
      "execution_count": null,
      "outputs": [
        {
          "output_type": "execute_result",
          "data": {
            "text/plain": [
              "{'delta_imp_venta_var44_1y3': 0.9369742569999999,\n",
              " 'delta_num_reemb_var13_1y3': 0.3946550338,\n",
              " 'imp_aport_var13_ult1': 0.47077179,\n",
              " 'imp_ent_var16_ult1': 55.27039617640005,\n",
              " 'imp_op_var39_comer_ult1': 5.9525393829999995,\n",
              " 'imp_op_var39_comer_ult3': 0.5969581608,\n",
              " 'imp_op_var39_efect_ult1': 31.632717530380006,\n",
              " 'imp_op_var39_efect_ult3': 1.010629653,\n",
              " 'imp_op_var39_ult1': 4.860885141110002,\n",
              " 'imp_op_var40_comer_ult1': 1.7053107010000002,\n",
              " 'imp_op_var40_efect_ult1': 13.918794156800002,\n",
              " 'imp_op_var40_ult1': 1.06797791,\n",
              " 'imp_op_var41_comer_ult1': 49.090054156799994,\n",
              " 'imp_op_var41_comer_ult3': 14.456933642899996,\n",
              " 'imp_op_var41_efect_ult1': 9.010196678000002,\n",
              " 'imp_op_var41_efect_ult3': 64.25952408590001,\n",
              " 'imp_op_var41_ult1': 36.977809563750014,\n",
              " 'imp_reemb_var13_ult1': 0.34481811500000004,\n",
              " 'imp_sal_var16_ult1': 0.429574013,\n",
              " 'imp_trans_var37_ult1': 18.2632438055,\n",
              " 'imp_var43_emit_ult1': 45.956629541399984,\n",
              " 'imp_var7_recib_ult1': 3.4806997474000005,\n",
              " 'ind_var10cte_ult1': 4.283131361000001,\n",
              " 'ind_var12_0': 0.893272818,\n",
              " 'ind_var19': 0.615755841,\n",
              " 'ind_var24_0': 3.073065996,\n",
              " 'ind_var25_cte': 1.8061133624999999,\n",
              " 'ind_var26_cte': 49.808563236,\n",
              " 'ind_var30_0': 0.07959809161,\n",
              " 'ind_var31': 0.3518938352,\n",
              " 'ind_var32_cte': 2.03764987,\n",
              " 'ind_var37_cte': 4.699473202000001,\n",
              " 'ind_var41_0': 14.257620199580002,\n",
              " 'ind_var5_0': 9.300545068300002,\n",
              " 'ind_var9_cte_ult1': 0.20054996,\n",
              " 'ind_var9_ult1': 0.49342849899999996,\n",
              " 'num_aport_var13_ult1': 0.963848472,\n",
              " 'num_ent_var16_ult1': 7.772085221499999,\n",
              " 'num_med_var22_ult3': 31.406474650000003,\n",
              " 'num_meses_var12_ult3': 6.208303809999999,\n",
              " 'num_meses_var39_vig_ult3': 30.500561296999994,\n",
              " 'num_meses_var5_ult3': 14.47282493043,\n",
              " 'num_meses_var8_ult3': 15.375820007000002,\n",
              " 'num_op_var39_comer_ult1': 0.9072594649999999,\n",
              " 'num_op_var39_comer_ult3': 0.0922012329,\n",
              " 'num_op_var39_efect_ult3': 65.83393130118303,\n",
              " 'num_op_var39_hace2': 12.621588929540001,\n",
              " 'num_op_var39_hace3': 0.0538351536,\n",
              " 'num_op_var39_ult1': 25.807641242,\n",
              " 'num_op_var39_ult3': 2.065737012,\n",
              " 'num_op_var40_comer_ult3': 2.664613901,\n",
              " 'num_op_var40_efect_ult3': 1.624870302,\n",
              " 'num_op_var40_hace2': 1.8371410369999999,\n",
              " 'num_op_var40_ult3': 3.6367813549999997,\n",
              " 'num_op_var41_comer_ult1': 3.5463813542339997,\n",
              " 'num_op_var41_comer_ult3': 17.395370379,\n",
              " 'num_op_var41_efect_ult1': 11.663437690999997,\n",
              " 'num_op_var41_efect_ult3': 0.312783718,\n",
              " 'num_op_var41_hace2': 1.481782912,\n",
              " 'num_op_var41_hace3': 12.356256855085897,\n",
              " 'num_op_var41_ult1': 1.6228954794,\n",
              " 'num_op_var41_ult3': 17.594782866,\n",
              " 'num_sal_var16_ult1': 11.492146876000001,\n",
              " 'num_trasp_var11_ult1': 2.4277486194000004,\n",
              " 'num_var13_corto_0': 0.692423344,\n",
              " 'num_var14_0': 1.1264595979999998,\n",
              " 'num_var1_0': 22.087207149482996,\n",
              " 'num_var22_hace2': 45.83909308769999,\n",
              " 'num_var22_hace3': 34.0879229438,\n",
              " 'num_var22_ult1': 53.0773666794,\n",
              " 'num_var22_ult3': 37.04890762237,\n",
              " 'num_var25_0': 5.727574764999999,\n",
              " 'num_var30': 2.770563217,\n",
              " 'num_var30_0': 0.5718986987,\n",
              " 'num_var32': 4.108281031,\n",
              " 'num_var35': 9.858352251000001,\n",
              " 'num_var37_0': 12.260523079999999,\n",
              " 'num_var37_med_ult2': 10.262423991,\n",
              " 'num_var39_0': 6.754077526437999,\n",
              " 'num_var4': 16.677670293600002,\n",
              " 'num_var41_0': 0.9978103626,\n",
              " 'num_var42': 0.49175691559999996,\n",
              " 'num_var42_0': 24.023442865299998,\n",
              " 'num_var43_emit_ult1': 6.478850902100001,\n",
              " 'num_var43_recib_ult1': 1.4983171521,\n",
              " 'num_var45_hace2': 46.38594766199997,\n",
              " 'num_var45_hace3': 60.664011085400034,\n",
              " 'num_var45_ult1': 32.20430079949999,\n",
              " 'num_var45_ult3': 79.35774851464002,\n",
              " 'num_var5': 9.704308417796,\n",
              " 'num_var5_0': 2.7304813860999997,\n",
              " 'num_var7_recib_ult1': 11.014935373900002,\n",
              " 'num_var8_0': 8.809316546,\n",
              " 'saldo_medio_var12_hace2': 2.14306359,\n",
              " 'saldo_medio_var12_hace3': 5.211693645,\n",
              " 'saldo_medio_var13_corto_hace2': 5.051085027100001,\n",
              " 'saldo_medio_var13_corto_ult1': 9.769451736144998,\n",
              " 'saldo_medio_var13_corto_ult3': 2.1110188954000004,\n",
              " 'saldo_medio_var17_ult1': 3.4913497875,\n",
              " 'saldo_medio_var5_hace2': 107.30537321381,\n",
              " 'saldo_medio_var5_hace3': 91.70904473158,\n",
              " 'saldo_medio_var5_ult1': 55.24262207923002,\n",
              " 'saldo_medio_var5_ult3': 62.29055774119998,\n",
              " 'saldo_medio_var8_hace2': 16.187498342618,\n",
              " 'saldo_medio_var8_hace3': 5.8010798058,\n",
              " 'saldo_medio_var8_ult1': 24.452086335999997,\n",
              " 'saldo_medio_var8_ult3': 24.073439184300003,\n",
              " 'saldo_var12': 0.951066971,\n",
              " 'saldo_var13_corto': 1.9639961860000001,\n",
              " 'saldo_var14': 1.1987609860000001,\n",
              " 'saldo_var24': 0.7620989979999999,\n",
              " 'saldo_var25': 6.347387164,\n",
              " 'saldo_var26': 15.156662588429999,\n",
              " 'saldo_var30': 616.5298529985198,\n",
              " 'saldo_var32': 0.889892578,\n",
              " 'saldo_var37': 38.5957611433,\n",
              " 'saldo_var40': 6.465514873000001,\n",
              " 'saldo_var42': 110.65315203264304,\n",
              " 'saldo_var5': 32.7691099906,\n",
              " 'saldo_var8': 18.909114365800004,\n",
              " 'var15': 1041.4127754587598,\n",
              " 'var21': 4.671231806000001,\n",
              " 'var3': 50.311422989499995,\n",
              " 'var36': 34.358974728691,\n",
              " 'var38': 633.8161908078943}"
            ]
          },
          "metadata": {},
          "execution_count": 84
        }
      ]
    },
    {
      "cell_type": "code",
      "metadata": {
        "id": "yg81nbtE_WzY",
        "colab": {
          "base_uri": "https://localhost:8080/",
          "height": 427
        },
        "outputId": "3dc7b0fc-8f79-4c38-9b9a-67f86022b065"
      },
      "source": [
        "xgb.plot_importance(xgBoost, max_num_features=20, importance_type = 'total_gain')"
      ],
      "execution_count": null,
      "outputs": [
        {
          "output_type": "execute_result",
          "data": {
            "text/plain": [
              "<matplotlib.axes._subplots.AxesSubplot at 0x7fa962d8e8d0>"
            ]
          },
          "metadata": {},
          "execution_count": 85
        },
        {
          "output_type": "display_data",
          "data": {
            "image/png": "[encoded data removed]",
            "text/plain": [
              "<Figure size 720x432 with 1 Axes>"
            ]
          },
          "metadata": {}
        }
      ]
    },
    {
      "cell_type": "code",
      "metadata": {
        "id": "1GIK4-wkOdWm",
        "colab": {
          "base_uri": "https://localhost:8080/",
          "height": 419
        },
        "outputId": "7bf49d84-a13a-45e6-b4eb-c1452f0a7599"
      },
      "source": [
        "pdVarImp = pd.DataFrame({'Feature': list(importance.keys()),\n",
        "                         'Importance' : list(importance.values())}).sort_values('Importance', ascending = False)\n",
        "\n",
        "pdVarImp['C'] = np.arange(len(pdVarImp)) + 1\n",
        "pdVarImp"
      ],
      "execution_count": null,
      "outputs": [
        {
          "output_type": "execute_result",
          "data": {
            "text/html": [
              "<div>\n",
              "<style scoped>\n",
              "    .dataframe tbody tr th:only-of-type {\n",
              "        vertical-align: middle;\n",
              "    }\n",
              "\n",
              "    .dataframe tbody tr th {\n",
              "        vertical-align: top;\n",
              "    }\n",
              "\n",
              "    .dataframe thead th {\n",
              "        text-align: right;\n",
              "    }\n",
              "</style>\n",
              "<table border=\"1\" class=\"dataframe\">\n",
              "  <thead>\n",
              "    <tr style=\"text-align: right;\">\n",
              "      <th></th>\n",
              "      <th>Feature</th>\n",
              "      <th>Importance</th>\n",
              "      <th>C</th>\n",
              "    </tr>\n",
              "  </thead>\n",
              "  <tbody>\n",
              "    <tr>\n",
              "      <th>1</th>\n",
              "      <td>var15</td>\n",
              "      <td>1041.412775</td>\n",
              "      <td>1</td>\n",
              "    </tr>\n",
              "    <tr>\n",
              "      <th>2</th>\n",
              "      <td>var38</td>\n",
              "      <td>633.816191</td>\n",
              "      <td>2</td>\n",
              "    </tr>\n",
              "    <tr>\n",
              "      <th>0</th>\n",
              "      <td>saldo_var30</td>\n",
              "      <td>616.529853</td>\n",
              "      <td>3</td>\n",
              "    </tr>\n",
              "    <tr>\n",
              "      <th>38</th>\n",
              "      <td>saldo_var42</td>\n",
              "      <td>110.653152</td>\n",
              "      <td>4</td>\n",
              "    </tr>\n",
              "    <tr>\n",
              "      <th>5</th>\n",
              "      <td>saldo_medio_var5_hace2</td>\n",
              "      <td>107.305373</td>\n",
              "      <td>5</td>\n",
              "    </tr>\n",
              "    <tr>\n",
              "      <th>...</th>\n",
              "      <td>...</td>\n",
              "      <td>...</td>\n",
              "      <td>...</td>\n",
              "    </tr>\n",
              "    <tr>\n",
              "      <th>113</th>\n",
              "      <td>num_op_var41_efect_ult3</td>\n",
              "      <td>0.312784</td>\n",
              "      <td>121</td>\n",
              "    </tr>\n",
              "    <tr>\n",
              "      <th>123</th>\n",
              "      <td>ind_var9_cte_ult1</td>\n",
              "      <td>0.200550</td>\n",
              "      <td>122</td>\n",
              "    </tr>\n",
              "    <tr>\n",
              "      <th>121</th>\n",
              "      <td>num_op_var39_comer_ult3</td>\n",
              "      <td>0.092201</td>\n",
              "      <td>123</td>\n",
              "    </tr>\n",
              "    <tr>\n",
              "      <th>102</th>\n",
              "      <td>ind_var30_0</td>\n",
              "      <td>0.079598</td>\n",
              "      <td>124</td>\n",
              "    </tr>\n",
              "    <tr>\n",
              "      <th>124</th>\n",
              "      <td>num_op_var39_hace3</td>\n",
              "      <td>0.053835</td>\n",
              "      <td>125</td>\n",
              "    </tr>\n",
              "  </tbody>\n",
              "</table>\n",
              "<p>125 rows × 3 columns</p>\n",
              "</div>"
            ],
            "text/plain": [
              "                     Feature   Importance    C\n",
              "1                      var15  1041.412775    1\n",
              "2                      var38   633.816191    2\n",
              "0                saldo_var30   616.529853    3\n",
              "38               saldo_var42   110.653152    4\n",
              "5     saldo_medio_var5_hace2   107.305373    5\n",
              "..                       ...          ...  ...\n",
              "113  num_op_var41_efect_ult3     0.312784  121\n",
              "123        ind_var9_cte_ult1     0.200550  122\n",
              "121  num_op_var39_comer_ult3     0.092201  123\n",
              "102              ind_var30_0     0.079598  124\n",
              "124       num_op_var39_hace3     0.053835  125\n",
              "\n",
              "[125 rows x 3 columns]"
            ]
          },
          "metadata": {},
          "execution_count": 86
        }
      ]
    },
    {
      "cell_type": "code",
      "metadata": {
        "id": "ADGsicCEP67k",
        "colab": {
          "base_uri": "https://localhost:8080/",
          "height": 394
        },
        "outputId": "7884abfe-00d2-4632-b497-7995a9127dbb"
      },
      "source": [
        "plt.plot(pdVarImp.C,pdVarImp.Importance.cumsum(axis=0))"
      ],
      "execution_count": null,
      "outputs": [
        {
          "output_type": "execute_result",
          "data": {
            "text/plain": [
              "[<matplotlib.lines.Line2D at 0x7fa9605a1490>]"
            ]
          },
          "metadata": {},
          "execution_count": 87
        },
        {
          "output_type": "display_data",
          "data": {
            "image/png": "[encoded data removed]",
            "text/plain": [
              "<Figure size 720x432 with 1 Axes>"
            ]
          },
          "metadata": {}
        }
      ]
    },
    {
      "cell_type": "code",
      "metadata": {
        "id": "cWZjq9vHQS2H",
        "colab": {
          "base_uri": "https://localhost:8080/",
          "height": 394
        },
        "outputId": "99720833-a3dd-470a-b4dc-c4e1c9738709"
      },
      "source": [
        "pdVarImp['porc_gain'] = pdVarImp.Importance.apply(lambda x: x/pdVarImp.Importance.sum())\n",
        "plt.plot(pdVarImp.C,pdVarImp.porc_gain.cumsum(axis=0))"
      ],
      "execution_count": null,
      "outputs": [
        {
          "output_type": "execute_result",
          "data": {
            "text/plain": [
              "[<matplotlib.lines.Line2D at 0x7fa96054a990>]"
            ]
          },
          "metadata": {},
          "execution_count": 88
        },
        {
          "output_type": "display_data",
          "data": {
            "image/png": "[encoded data removed]",
            "text/plain": [
              "<Figure size 720x432 with 1 Axes>"
            ]
          },
          "metadata": {}
        }
      ]
    },
    {
      "cell_type": "code",
      "metadata": {
        "id": "bgIOmJGnRelh"
      },
      "source": [
        "pdVarImp['porc_gain_acum'] = pdVarImp.porc_gain.cumsum(axis = 0)\n"
      ],
      "execution_count": null,
      "outputs": []
    },
    {
      "cell_type": "code",
      "metadata": {
        "id": "3Vc3JuvLRiIY",
        "colab": {
          "base_uri": "https://localhost:8080/",
          "height": 270
        },
        "outputId": "81b09d3a-7e60-4c76-bcda-7cad4606e482"
      },
      "source": [
        "pdVarImp.transpose()"
      ],
      "execution_count": null,
      "outputs": [
        {
          "output_type": "execute_result",
          "data": {
            "text/html": [
              "<div>\n",
              "<style scoped>\n",
              "    .dataframe tbody tr th:only-of-type {\n",
              "        vertical-align: middle;\n",
              "    }\n",
              "\n",
              "    .dataframe tbody tr th {\n",
              "        vertical-align: top;\n",
              "    }\n",
              "\n",
              "    .dataframe thead th {\n",
              "        text-align: right;\n",
              "    }\n",
              "</style>\n",
              "<table border=\"1\" class=\"dataframe\">\n",
              "  <thead>\n",
              "    <tr style=\"text-align: right;\">\n",
              "      <th></th>\n",
              "      <th>1</th>\n",
              "      <th>2</th>\n",
              "      <th>0</th>\n",
              "      <th>38</th>\n",
              "      <th>5</th>\n",
              "      <th>46</th>\n",
              "      <th>10</th>\n",
              "      <th>31</th>\n",
              "      <th>20</th>\n",
              "      <th>78</th>\n",
              "      <th>8</th>\n",
              "      <th>28</th>\n",
              "      <th>52</th>\n",
              "      <th>13</th>\n",
              "      <th>49</th>\n",
              "      <th>29</th>\n",
              "      <th>43</th>\n",
              "      <th>3</th>\n",
              "      <th>9</th>\n",
              "      <th>36</th>\n",
              "      <th>37</th>\n",
              "      <th>4</th>\n",
              "      <th>27</th>\n",
              "      <th>24</th>\n",
              "      <th>6</th>\n",
              "      <th>23</th>\n",
              "      <th>18</th>\n",
              "      <th>39</th>\n",
              "      <th>25</th>\n",
              "      <th>19</th>\n",
              "      <th>7</th>\n",
              "      <th>21</th>\n",
              "      <th>32</th>\n",
              "      <th>14</th>\n",
              "      <th>35</th>\n",
              "      <th>15</th>\n",
              "      <th>30</th>\n",
              "      <th>77</th>\n",
              "      <th>51</th>\n",
              "      <th>11</th>\n",
              "      <th>...</th>\n",
              "      <th>92</th>\n",
              "      <th>112</th>\n",
              "      <th>67</th>\n",
              "      <th>85</th>\n",
              "      <th>110</th>\n",
              "      <th>70</th>\n",
              "      <th>106</th>\n",
              "      <th>108</th>\n",
              "      <th>93</th>\n",
              "      <th>86</th>\n",
              "      <th>104</th>\n",
              "      <th>109</th>\n",
              "      <th>58</th>\n",
              "      <th>60</th>\n",
              "      <th>54</th>\n",
              "      <th>103</th>\n",
              "      <th>65</th>\n",
              "      <th>115</th>\n",
              "      <th>96</th>\n",
              "      <th>72</th>\n",
              "      <th>100</th>\n",
              "      <th>111</th>\n",
              "      <th>95</th>\n",
              "      <th>122</th>\n",
              "      <th>119</th>\n",
              "      <th>117</th>\n",
              "      <th>105</th>\n",
              "      <th>118</th>\n",
              "      <th>116</th>\n",
              "      <th>114</th>\n",
              "      <th>120</th>\n",
              "      <th>101</th>\n",
              "      <th>97</th>\n",
              "      <th>94</th>\n",
              "      <th>99</th>\n",
              "      <th>113</th>\n",
              "      <th>123</th>\n",
              "      <th>121</th>\n",
              "      <th>102</th>\n",
              "      <th>124</th>\n",
              "    </tr>\n",
              "  </thead>\n",
              "  <tbody>\n",
              "    <tr>\n",
              "      <th>Feature</th>\n",
              "      <td>var15</td>\n",
              "      <td>var38</td>\n",
              "      <td>saldo_var30</td>\n",
              "      <td>saldo_var42</td>\n",
              "      <td>saldo_medio_var5_hace2</td>\n",
              "      <td>saldo_medio_var5_hace3</td>\n",
              "      <td>num_var45_ult3</td>\n",
              "      <td>num_op_var39_efect_ult3</td>\n",
              "      <td>imp_op_var41_efect_ult3</td>\n",
              "      <td>saldo_medio_var5_ult3</td>\n",
              "      <td>num_var45_hace3</td>\n",
              "      <td>imp_ent_var16_ult1</td>\n",
              "      <td>saldo_medio_var5_ult1</td>\n",
              "      <td>num_var22_ult1</td>\n",
              "      <td>var3</td>\n",
              "      <td>ind_var26_cte</td>\n",
              "      <td>imp_op_var41_comer_ult1</td>\n",
              "      <td>num_var45_hace2</td>\n",
              "      <td>imp_var43_emit_ult1</td>\n",
              "      <td>num_var22_hace2</td>\n",
              "      <td>saldo_var37</td>\n",
              "      <td>num_var22_ult3</td>\n",
              "      <td>imp_op_var41_ult1</td>\n",
              "      <td>var36</td>\n",
              "      <td>num_var22_hace3</td>\n",
              "      <td>saldo_var5</td>\n",
              "      <td>num_var45_ult1</td>\n",
              "      <td>imp_op_var39_efect_ult1</td>\n",
              "      <td>num_med_var22_ult3</td>\n",
              "      <td>num_meses_var39_vig_ult3</td>\n",
              "      <td>num_op_var39_ult1</td>\n",
              "      <td>saldo_medio_var8_ult1</td>\n",
              "      <td>saldo_medio_var8_ult3</td>\n",
              "      <td>num_var42_0</td>\n",
              "      <td>num_var1_0</td>\n",
              "      <td>saldo_var8</td>\n",
              "      <td>imp_trans_var37_ult1</td>\n",
              "      <td>num_op_var41_ult3</td>\n",
              "      <td>num_op_var41_comer_ult3</td>\n",
              "      <td>num_var4</td>\n",
              "      <td>...</td>\n",
              "      <td>saldo_medio_var12_hace2</td>\n",
              "      <td>saldo_medio_var13_corto_ult3</td>\n",
              "      <td>num_op_var39_ult3</td>\n",
              "      <td>ind_var32_cte</td>\n",
              "      <td>saldo_var13_corto</td>\n",
              "      <td>num_op_var40_hace2</td>\n",
              "      <td>ind_var25_cte</td>\n",
              "      <td>imp_op_var40_comer_ult1</td>\n",
              "      <td>num_op_var40_efect_ult3</td>\n",
              "      <td>num_op_var41_ult1</td>\n",
              "      <td>num_var43_recib_ult1</td>\n",
              "      <td>num_op_var41_hace2</td>\n",
              "      <td>saldo_var14</td>\n",
              "      <td>num_var14_0</td>\n",
              "      <td>imp_op_var40_ult1</td>\n",
              "      <td>imp_op_var39_efect_ult3</td>\n",
              "      <td>num_var41_0</td>\n",
              "      <td>num_aport_var13_ult1</td>\n",
              "      <td>saldo_var12</td>\n",
              "      <td>delta_imp_venta_var44_1y3</td>\n",
              "      <td>num_op_var39_comer_ult1</td>\n",
              "      <td>ind_var12_0</td>\n",
              "      <td>saldo_var32</td>\n",
              "      <td>saldo_var24</td>\n",
              "      <td>num_var13_corto_0</td>\n",
              "      <td>ind_var19</td>\n",
              "      <td>imp_op_var39_comer_ult3</td>\n",
              "      <td>num_var30_0</td>\n",
              "      <td>ind_var9_ult1</td>\n",
              "      <td>num_var42</td>\n",
              "      <td>imp_aport_var13_ult1</td>\n",
              "      <td>imp_sal_var16_ult1</td>\n",
              "      <td>delta_num_reemb_var13_1y3</td>\n",
              "      <td>ind_var31</td>\n",
              "      <td>imp_reemb_var13_ult1</td>\n",
              "      <td>num_op_var41_efect_ult3</td>\n",
              "      <td>ind_var9_cte_ult1</td>\n",
              "      <td>num_op_var39_comer_ult3</td>\n",
              "      <td>ind_var30_0</td>\n",
              "      <td>num_op_var39_hace3</td>\n",
              "    </tr>\n",
              "    <tr>\n",
              "      <th>Importance</th>\n",
              "      <td>1041.41</td>\n",
              "      <td>633.816</td>\n",
              "      <td>616.53</td>\n",
              "      <td>110.653</td>\n",
              "      <td>107.305</td>\n",
              "      <td>91.709</td>\n",
              "      <td>79.3577</td>\n",
              "      <td>65.8339</td>\n",
              "      <td>64.2595</td>\n",
              "      <td>62.2906</td>\n",
              "      <td>60.664</td>\n",
              "      <td>55.2704</td>\n",
              "      <td>55.2426</td>\n",
              "      <td>53.0774</td>\n",
              "      <td>50.3114</td>\n",
              "      <td>49.8086</td>\n",
              "      <td>49.0901</td>\n",
              "      <td>46.3859</td>\n",
              "      <td>45.9566</td>\n",
              "      <td>45.8391</td>\n",
              "      <td>38.5958</td>\n",
              "      <td>37.0489</td>\n",
              "      <td>36.9778</td>\n",
              "      <td>34.359</td>\n",
              "      <td>34.0879</td>\n",
              "      <td>32.7691</td>\n",
              "      <td>32.2043</td>\n",
              "      <td>31.6327</td>\n",
              "      <td>31.4065</td>\n",
              "      <td>30.5006</td>\n",
              "      <td>25.8076</td>\n",
              "      <td>24.4521</td>\n",
              "      <td>24.0734</td>\n",
              "      <td>24.0234</td>\n",
              "      <td>22.0872</td>\n",
              "      <td>18.9091</td>\n",
              "      <td>18.2632</td>\n",
              "      <td>17.5948</td>\n",
              "      <td>17.3954</td>\n",
              "      <td>16.6777</td>\n",
              "      <td>...</td>\n",
              "      <td>2.14306</td>\n",
              "      <td>2.11102</td>\n",
              "      <td>2.06574</td>\n",
              "      <td>2.03765</td>\n",
              "      <td>1.964</td>\n",
              "      <td>1.83714</td>\n",
              "      <td>1.80611</td>\n",
              "      <td>1.70531</td>\n",
              "      <td>1.62487</td>\n",
              "      <td>1.6229</td>\n",
              "      <td>1.49832</td>\n",
              "      <td>1.48178</td>\n",
              "      <td>1.19876</td>\n",
              "      <td>1.12646</td>\n",
              "      <td>1.06798</td>\n",
              "      <td>1.01063</td>\n",
              "      <td>0.99781</td>\n",
              "      <td>0.963848</td>\n",
              "      <td>0.951067</td>\n",
              "      <td>0.936974</td>\n",
              "      <td>0.907259</td>\n",
              "      <td>0.893273</td>\n",
              "      <td>0.889893</td>\n",
              "      <td>0.762099</td>\n",
              "      <td>0.692423</td>\n",
              "      <td>0.615756</td>\n",
              "      <td>0.596958</td>\n",
              "      <td>0.571899</td>\n",
              "      <td>0.493428</td>\n",
              "      <td>0.491757</td>\n",
              "      <td>0.470772</td>\n",
              "      <td>0.429574</td>\n",
              "      <td>0.394655</td>\n",
              "      <td>0.351894</td>\n",
              "      <td>0.344818</td>\n",
              "      <td>0.312784</td>\n",
              "      <td>0.20055</td>\n",
              "      <td>0.0922012</td>\n",
              "      <td>0.0795981</td>\n",
              "      <td>0.0538352</td>\n",
              "    </tr>\n",
              "    <tr>\n",
              "      <th>C</th>\n",
              "      <td>1</td>\n",
              "      <td>2</td>\n",
              "      <td>3</td>\n",
              "      <td>4</td>\n",
              "      <td>5</td>\n",
              "      <td>6</td>\n",
              "      <td>7</td>\n",
              "      <td>8</td>\n",
              "      <td>9</td>\n",
              "      <td>10</td>\n",
              "      <td>11</td>\n",
              "      <td>12</td>\n",
              "      <td>13</td>\n",
              "      <td>14</td>\n",
              "      <td>15</td>\n",
              "      <td>16</td>\n",
              "      <td>17</td>\n",
              "      <td>18</td>\n",
              "      <td>19</td>\n",
              "      <td>20</td>\n",
              "      <td>21</td>\n",
              "      <td>22</td>\n",
              "      <td>23</td>\n",
              "      <td>24</td>\n",
              "      <td>25</td>\n",
              "      <td>26</td>\n",
              "      <td>27</td>\n",
              "      <td>28</td>\n",
              "      <td>29</td>\n",
              "      <td>30</td>\n",
              "      <td>31</td>\n",
              "      <td>32</td>\n",
              "      <td>33</td>\n",
              "      <td>34</td>\n",
              "      <td>35</td>\n",
              "      <td>36</td>\n",
              "      <td>37</td>\n",
              "      <td>38</td>\n",
              "      <td>39</td>\n",
              "      <td>40</td>\n",
              "      <td>...</td>\n",
              "      <td>86</td>\n",
              "      <td>87</td>\n",
              "      <td>88</td>\n",
              "      <td>89</td>\n",
              "      <td>90</td>\n",
              "      <td>91</td>\n",
              "      <td>92</td>\n",
              "      <td>93</td>\n",
              "      <td>94</td>\n",
              "      <td>95</td>\n",
              "      <td>96</td>\n",
              "      <td>97</td>\n",
              "      <td>98</td>\n",
              "      <td>99</td>\n",
              "      <td>100</td>\n",
              "      <td>101</td>\n",
              "      <td>102</td>\n",
              "      <td>103</td>\n",
              "      <td>104</td>\n",
              "      <td>105</td>\n",
              "      <td>106</td>\n",
              "      <td>107</td>\n",
              "      <td>108</td>\n",
              "      <td>109</td>\n",
              "      <td>110</td>\n",
              "      <td>111</td>\n",
              "      <td>112</td>\n",
              "      <td>113</td>\n",
              "      <td>114</td>\n",
              "      <td>115</td>\n",
              "      <td>116</td>\n",
              "      <td>117</td>\n",
              "      <td>118</td>\n",
              "      <td>119</td>\n",
              "      <td>120</td>\n",
              "      <td>121</td>\n",
              "      <td>122</td>\n",
              "      <td>123</td>\n",
              "      <td>124</td>\n",
              "      <td>125</td>\n",
              "    </tr>\n",
              "    <tr>\n",
              "      <th>porc_gain</th>\n",
              "      <td>0.240309</td>\n",
              "      <td>0.146255</td>\n",
              "      <td>0.142266</td>\n",
              "      <td>0.0255335</td>\n",
              "      <td>0.024761</td>\n",
              "      <td>0.0211621</td>\n",
              "      <td>0.018312</td>\n",
              "      <td>0.0151914</td>\n",
              "      <td>0.0148281</td>\n",
              "      <td>0.0143737</td>\n",
              "      <td>0.0139984</td>\n",
              "      <td>0.0127538</td>\n",
              "      <td>0.0127474</td>\n",
              "      <td>0.0122478</td>\n",
              "      <td>0.0116095</td>\n",
              "      <td>0.0114935</td>\n",
              "      <td>0.0113277</td>\n",
              "      <td>0.0107037</td>\n",
              "      <td>0.0106046</td>\n",
              "      <td>0.0105775</td>\n",
              "      <td>0.00890608</td>\n",
              "      <td>0.00854914</td>\n",
              "      <td>0.00853273</td>\n",
              "      <td>0.00792843</td>\n",
              "      <td>0.00786588</td>\n",
              "      <td>0.00756156</td>\n",
              "      <td>0.00743123</td>\n",
              "      <td>0.00729934</td>\n",
              "      <td>0.00724713</td>\n",
              "      <td>0.00703809</td>\n",
              "      <td>0.00595519</td>\n",
              "      <td>0.00564239</td>\n",
              "      <td>0.00555501</td>\n",
              "      <td>0.00554348</td>\n",
              "      <td>0.00509668</td>\n",
              "      <td>0.00436333</td>\n",
              "      <td>0.00421429</td>\n",
              "      <td>0.00406005</td>\n",
              "      <td>0.00401403</td>\n",
              "      <td>0.00384842</td>\n",
              "      <td>...</td>\n",
              "      <td>0.000494518</td>\n",
              "      <td>0.000487123</td>\n",
              "      <td>0.000476675</td>\n",
              "      <td>0.000470193</td>\n",
              "      <td>0.000453198</td>\n",
              "      <td>0.000423925</td>\n",
              "      <td>0.000416766</td>\n",
              "      <td>0.000393505</td>\n",
              "      <td>0.000374943</td>\n",
              "      <td>0.000374488</td>\n",
              "      <td>0.000345741</td>\n",
              "      <td>0.000341926</td>\n",
              "      <td>0.000276617</td>\n",
              "      <td>0.000259934</td>\n",
              "      <td>0.000246439</td>\n",
              "      <td>0.000233206</td>\n",
              "      <td>0.000230248</td>\n",
              "      <td>0.000222411</td>\n",
              "      <td>0.000219461</td>\n",
              "      <td>0.000216209</td>\n",
              "      <td>0.000209353</td>\n",
              "      <td>0.000206125</td>\n",
              "      <td>0.000205345</td>\n",
              "      <td>0.000175856</td>\n",
              "      <td>0.000159779</td>\n",
              "      <td>0.000142087</td>\n",
              "      <td>0.00013775</td>\n",
              "      <td>0.000131967</td>\n",
              "      <td>0.00011386</td>\n",
              "      <td>0.000113474</td>\n",
              "      <td>0.000108632</td>\n",
              "      <td>9.91254e-05</td>\n",
              "      <td>9.10677e-05</td>\n",
              "      <td>8.12005e-05</td>\n",
              "      <td>7.95677e-05</td>\n",
              "      <td>7.21757e-05</td>\n",
              "      <td>4.62775e-05</td>\n",
              "      <td>2.12757e-05</td>\n",
              "      <td>1.83675e-05</td>\n",
              "      <td>1.24226e-05</td>\n",
              "    </tr>\n",
              "    <tr>\n",
              "      <th>porc_gain_acum</th>\n",
              "      <td>0.240309</td>\n",
              "      <td>0.386564</td>\n",
              "      <td>0.52883</td>\n",
              "      <td>0.554363</td>\n",
              "      <td>0.579124</td>\n",
              "      <td>0.600286</td>\n",
              "      <td>0.618598</td>\n",
              "      <td>0.63379</td>\n",
              "      <td>0.648618</td>\n",
              "      <td>0.662992</td>\n",
              "      <td>0.67699</td>\n",
              "      <td>0.689744</td>\n",
              "      <td>0.702491</td>\n",
              "      <td>0.714739</td>\n",
              "      <td>0.726348</td>\n",
              "      <td>0.737842</td>\n",
              "      <td>0.74917</td>\n",
              "      <td>0.759873</td>\n",
              "      <td>0.770478</td>\n",
              "      <td>0.781055</td>\n",
              "      <td>0.789961</td>\n",
              "      <td>0.798511</td>\n",
              "      <td>0.807043</td>\n",
              "      <td>0.814972</td>\n",
              "      <td>0.822838</td>\n",
              "      <td>0.830399</td>\n",
              "      <td>0.83783</td>\n",
              "      <td>0.84513</td>\n",
              "      <td>0.852377</td>\n",
              "      <td>0.859415</td>\n",
              "      <td>0.86537</td>\n",
              "      <td>0.871013</td>\n",
              "      <td>0.876568</td>\n",
              "      <td>0.882111</td>\n",
              "      <td>0.887208</td>\n",
              "      <td>0.891571</td>\n",
              "      <td>0.895785</td>\n",
              "      <td>0.899845</td>\n",
              "      <td>0.903859</td>\n",
              "      <td>0.907708</td>\n",
              "      <td>...</td>\n",
              "      <td>0.991311</td>\n",
              "      <td>0.991798</td>\n",
              "      <td>0.992275</td>\n",
              "      <td>0.992745</td>\n",
              "      <td>0.993198</td>\n",
              "      <td>0.993622</td>\n",
              "      <td>0.994039</td>\n",
              "      <td>0.994433</td>\n",
              "      <td>0.994808</td>\n",
              "      <td>0.995182</td>\n",
              "      <td>0.995528</td>\n",
              "      <td>0.99587</td>\n",
              "      <td>0.996146</td>\n",
              "      <td>0.996406</td>\n",
              "      <td>0.996653</td>\n",
              "      <td>0.996886</td>\n",
              "      <td>0.997116</td>\n",
              "      <td>0.997339</td>\n",
              "      <td>0.997558</td>\n",
              "      <td>0.997774</td>\n",
              "      <td>0.997984</td>\n",
              "      <td>0.99819</td>\n",
              "      <td>0.998395</td>\n",
              "      <td>0.998571</td>\n",
              "      <td>0.998731</td>\n",
              "      <td>0.998873</td>\n",
              "      <td>0.999011</td>\n",
              "      <td>0.999143</td>\n",
              "      <td>0.999256</td>\n",
              "      <td>0.99937</td>\n",
              "      <td>0.999479</td>\n",
              "      <td>0.999578</td>\n",
              "      <td>0.999669</td>\n",
              "      <td>0.99975</td>\n",
              "      <td>0.999829</td>\n",
              "      <td>0.999902</td>\n",
              "      <td>0.999948</td>\n",
              "      <td>0.999969</td>\n",
              "      <td>0.999988</td>\n",
              "      <td>1</td>\n",
              "    </tr>\n",
              "  </tbody>\n",
              "</table>\n",
              "<p>5 rows × 125 columns</p>\n",
              "</div>"
            ],
            "text/plain": [
              "                     1         2    ...          102                 124\n",
              "Feature            var15     var38  ...  ind_var30_0  num_op_var39_hace3\n",
              "Importance       1041.41   633.816  ...    0.0795981           0.0538352\n",
              "C                      1         2  ...          124                 125\n",
              "porc_gain       0.240309  0.146255  ...  1.83675e-05         1.24226e-05\n",
              "porc_gain_acum  0.240309  0.386564  ...     0.999988                   1\n",
              "\n",
              "[5 rows x 125 columns]"
            ]
          },
          "metadata": {},
          "execution_count": 90
        }
      ]
    },
    {
      "cell_type": "code",
      "metadata": {
        "id": "XgocmyNHVsb9",
        "colab": {
          "base_uri": "https://localhost:8080/"
        },
        "outputId": "0a3f5414-30a4-4d7d-ded3-b5fe4e000fff"
      },
      "source": [
        "# Usando el modelo para predecir\n",
        "\n",
        "X_train['probability']  = xgBoost.predict(xgb.DMatrix(X_train[features], label = y_train))\n",
        "X_test['probability'] = xgBoost.predict(xgb.DMatrix(X_test[features], label = y_test))\n",
        "\n",
        "X_train['prediction']  = X_train.probability.apply(lambda x: 1 if x > 0.5 else 0)\n",
        "X_test['prediction'] = X_test.probability.apply(lambda x: 1 if x > 0.5 else 0)"
      ],
      "execution_count": null,
      "outputs": [
        {
          "output_type": "stream",
          "text": [
            "/usr/local/lib/python3.7/dist-packages/ipykernel_launcher.py:3: SettingWithCopyWarning: \n",
            "A value is trying to be set on a copy of a slice from a DataFrame.\n",
            "Try using .loc[row_indexer,col_indexer] = value instead\n",
            "\n",
            "See the caveats in the documentation: https://pandas.pydata.org/pandas-docs/stable/user_guide/indexing.html#returning-a-view-versus-a-copy\n",
            "  This is separate from the ipykernel package so we can avoid doing imports until\n",
            "/usr/local/lib/python3.7/dist-packages/ipykernel_launcher.py:4: SettingWithCopyWarning: \n",
            "A value is trying to be set on a copy of a slice from a DataFrame.\n",
            "Try using .loc[row_indexer,col_indexer] = value instead\n",
            "\n",
            "See the caveats in the documentation: https://pandas.pydata.org/pandas-docs/stable/user_guide/indexing.html#returning-a-view-versus-a-copy\n",
            "  after removing the cwd from sys.path.\n",
            "/usr/local/lib/python3.7/dist-packages/ipykernel_launcher.py:6: SettingWithCopyWarning: \n",
            "A value is trying to be set on a copy of a slice from a DataFrame.\n",
            "Try using .loc[row_indexer,col_indexer] = value instead\n",
            "\n",
            "See the caveats in the documentation: https://pandas.pydata.org/pandas-docs/stable/user_guide/indexing.html#returning-a-view-versus-a-copy\n",
            "  \n",
            "/usr/local/lib/python3.7/dist-packages/ipykernel_launcher.py:7: SettingWithCopyWarning: \n",
            "A value is trying to be set on a copy of a slice from a DataFrame.\n",
            "Try using .loc[row_indexer,col_indexer] = value instead\n",
            "\n",
            "See the caveats in the documentation: https://pandas.pydata.org/pandas-docs/stable/user_guide/indexing.html#returning-a-view-versus-a-copy\n",
            "  import sys\n"
          ],
          "name": "stderr"
        }
      ]
    },
    {
      "cell_type": "code",
      "metadata": {
        "id": "i12M9tBeVsWK",
        "colab": {
          "base_uri": "https://localhost:8080/",
          "height": 235
        },
        "outputId": "cbbdd08b-0820-43f1-e1e5-3b173dcec63e"
      },
      "source": [
        "#Resumen de todas las métricas del modelo\n",
        "\n",
        "metricsXGB = pd.DataFrame({'metric':['AUC','Gini','Accuracy','Precision','Recall','F1-score'],\n",
        "                                'xgb_train':[roc_auc_score(y_train, X_train.probability),\n",
        "                                        (roc_auc_score(y_train, X_train.probability)*2-1),\n",
        "                                        accuracy_score(y_train, X_train.prediction),\n",
        "                                        precision_score(y_train, X_train.prediction),\n",
        "                                        recall_score(y_train, X_train.prediction),\n",
        "                                        f1_score(y_train, X_train.prediction)],\n",
        "\n",
        "                                'xgb_test':[roc_auc_score(y_test, X_test.probability),\n",
        "                                        (roc_auc_score(y_test, X_test.probability)*2-1),\n",
        "                                        accuracy_score(y_test, X_test.prediction),\n",
        "                                        precision_score(y_test, X_test.prediction),\n",
        "                                        recall_score(y_test, X_test.prediction),\n",
        "                                        f1_score(y_test, X_test.prediction)]})\n",
        "\n",
        " \n",
        "metricsRes = pd.merge(metricsRes, metricsXGB, on = 'metric', how='left') \n",
        "metricsRes       "
      ],
      "execution_count": null,
      "outputs": [
        {
          "output_type": "execute_result",
          "data": {
            "text/html": [
              "<div>\n",
              "<style scoped>\n",
              "    .dataframe tbody tr th:only-of-type {\n",
              "        vertical-align: middle;\n",
              "    }\n",
              "\n",
              "    .dataframe tbody tr th {\n",
              "        vertical-align: top;\n",
              "    }\n",
              "\n",
              "    .dataframe thead th {\n",
              "        text-align: right;\n",
              "    }\n",
              "</style>\n",
              "<table border=\"1\" class=\"dataframe\">\n",
              "  <thead>\n",
              "    <tr style=\"text-align: right;\">\n",
              "      <th></th>\n",
              "      <th>metric</th>\n",
              "      <th>dTree_train</th>\n",
              "      <th>dTree_test</th>\n",
              "      <th>rfc_train</th>\n",
              "      <th>rfc_test</th>\n",
              "      <th>adab_train</th>\n",
              "      <th>adab_test</th>\n",
              "      <th>xgb_train</th>\n",
              "      <th>xgb_test</th>\n",
              "    </tr>\n",
              "  </thead>\n",
              "  <tbody>\n",
              "    <tr>\n",
              "      <th>0</th>\n",
              "      <td>AUC</td>\n",
              "      <td>0.797236</td>\n",
              "      <td>0.781922</td>\n",
              "      <td>0.799951</td>\n",
              "      <td>0.798694</td>\n",
              "      <td>0.858622</td>\n",
              "      <td>0.821658</td>\n",
              "      <td>0.904127</td>\n",
              "      <td>0.831392</td>\n",
              "    </tr>\n",
              "    <tr>\n",
              "      <th>1</th>\n",
              "      <td>Gini</td>\n",
              "      <td>0.594472</td>\n",
              "      <td>0.563845</td>\n",
              "      <td>0.599901</td>\n",
              "      <td>0.597388</td>\n",
              "      <td>0.717244</td>\n",
              "      <td>0.643317</td>\n",
              "      <td>0.808254</td>\n",
              "      <td>0.662784</td>\n",
              "    </tr>\n",
              "    <tr>\n",
              "      <th>2</th>\n",
              "      <td>Accuracy</td>\n",
              "      <td>0.960424</td>\n",
              "      <td>0.960449</td>\n",
              "      <td>0.960424</td>\n",
              "      <td>0.960449</td>\n",
              "      <td>0.960631</td>\n",
              "      <td>0.960405</td>\n",
              "      <td>0.962942</td>\n",
              "      <td>0.960142</td>\n",
              "    </tr>\n",
              "    <tr>\n",
              "      <th>3</th>\n",
              "      <td>Precision</td>\n",
              "      <td>0.000000</td>\n",
              "      <td>0.000000</td>\n",
              "      <td>0.000000</td>\n",
              "      <td>0.000000</td>\n",
              "      <td>0.720000</td>\n",
              "      <td>0.444444</td>\n",
              "      <td>1.000000</td>\n",
              "      <td>0.266667</td>\n",
              "    </tr>\n",
              "    <tr>\n",
              "      <th>4</th>\n",
              "      <td>Recall</td>\n",
              "      <td>0.000000</td>\n",
              "      <td>0.000000</td>\n",
              "      <td>0.000000</td>\n",
              "      <td>0.000000</td>\n",
              "      <td>0.008547</td>\n",
              "      <td>0.004435</td>\n",
              "      <td>0.063628</td>\n",
              "      <td>0.004435</td>\n",
              "    </tr>\n",
              "    <tr>\n",
              "      <th>5</th>\n",
              "      <td>F1-score</td>\n",
              "      <td>0.000000</td>\n",
              "      <td>0.000000</td>\n",
              "      <td>0.000000</td>\n",
              "      <td>0.000000</td>\n",
              "      <td>0.016893</td>\n",
              "      <td>0.008782</td>\n",
              "      <td>0.119643</td>\n",
              "      <td>0.008724</td>\n",
              "    </tr>\n",
              "  </tbody>\n",
              "</table>\n",
              "</div>"
            ],
            "text/plain": [
              "      metric  dTree_train  dTree_test  ...  adab_test  xgb_train  xgb_test\n",
              "0        AUC     0.797236    0.781922  ...   0.821658   0.904127  0.831392\n",
              "1       Gini     0.594472    0.563845  ...   0.643317   0.808254  0.662784\n",
              "2   Accuracy     0.960424    0.960449  ...   0.960405   0.962942  0.960142\n",
              "3  Precision     0.000000    0.000000  ...   0.444444   1.000000  0.266667\n",
              "4     Recall     0.000000    0.000000  ...   0.004435   0.063628  0.004435\n",
              "5   F1-score     0.000000    0.000000  ...   0.008782   0.119643  0.008724\n",
              "\n",
              "[6 rows x 9 columns]"
            ]
          },
          "metadata": {},
          "execution_count": 92
        }
      ]
    },
    {
      "cell_type": "markdown",
      "metadata": {
        "id": "FttmZ9QVR5q4"
      },
      "source": [
        "# Random Search"
      ]
    },
    {
      "cell_type": "code",
      "metadata": {
        "id": "DSmFXeYTZ6Ou"
      },
      "source": [
        "# Muestreo de data\n",
        "\n",
        "from sklearn.model_selection import train_test_split\n",
        "\n",
        "X_train, X_test, y_train, y_test = train_test_split(X, y, \n",
        "                                                    stratify = y,\n",
        "                                                    test_size = 0.3,\n",
        "                                                    random_state = 123)\n"
      ],
      "execution_count": null,
      "outputs": []
    },
    {
      "cell_type": "code",
      "metadata": {
        "id": "Mhcz2Zj1SmaL"
      },
      "source": [
        "# setear valores iniciales\n",
        "\n",
        "paramGrid = {'objetive' : ['binary_logistic'],\n",
        "         'max_depth' : [5,6,7,8,9,10],\n",
        "         'learning_rate': [0.01, 0.02, 0.05, 0.1, 0.2],\n",
        "         'seed' : [123],\n",
        "         'max_leaves' : [2],\n",
        "         'min_data_leaf' : [int(round(y_train.shape[0]*0.01,0)), int(round(y_train.shape[0]*0.025,0)), int(round(y_train.shape[0]*0.05,0))],\n",
        "         'grow_policy' : ['lossguide'],\n",
        "         'min_child_weight' : [1,2,3,4,5,6,7,8,9,10]}\n",
        "\n",
        "param['eval_metric'] = 'auc'\n",
        "num_round = 100\n",
        "\n",
        "pdResults = pd.DataFrame()\n",
        "\n"
      ],
      "execution_count": null,
      "outputs": []
    },
    {
      "cell_type": "code",
      "metadata": {
        "id": "MWM4-xnrUaZs"
      },
      "source": [
        "dtrain = xgb.DMatrix(X_train, label = y_train)\n",
        "dtest  = xgb.DMatrix(X_test, label = y_test)"
      ],
      "execution_count": null,
      "outputs": []
    },
    {
      "cell_type": "code",
      "metadata": {
        "id": "bklFI4QqUvwv",
        "colab": {
          "base_uri": "https://localhost:8080/",
          "height": 1000
        },
        "outputId": "8b8ed4d8-cff2-4c3a-bf89-679d7c952395"
      },
      "source": [
        "# Iniciar iteración de Hyperparámetros\n",
        "import random\n",
        "\n",
        "for i in range(100):\n",
        "  print(\"****** Iteration : \" + str(i))\n",
        "  param = {}\n",
        "  for paramName, paramValue in paramGrid.items():\n",
        "    param[paramName] = random.choice(paramValue)\n",
        "  param['eval_metric' ] = 'auc'\n",
        "  evallist = [(dtrain,'train'),(dtest,'valid')]\n",
        "  num_round = 10     \n",
        "\n",
        "  bst = xgb.train(param, dtrain, num_round, evallist, verbose_eval = 5)\n",
        "\n",
        "  y_train_pred = bst.predict(dtrain)\n",
        "  y_test_pred = bst.predict(dtest)\n",
        "\n",
        "  giniTrain = ((roc_auc_score(y_train, y_train_pred) - 0.5)*200)\n",
        "  giniTest =  ((roc_auc_score(y_test, y_test_pred) - 0.5)*200)\n",
        "\n",
        "  pdResults = pdResults.append(pd.DataFrame({'iter' : i,\n",
        "                                             'paramName': list(param.keys()),\n",
        "                                             'paramValue': list(param.values()),\n",
        "                                             'giniTrain' : giniTrain,\n",
        "                                             'giniTest' : giniTest}))\n",
        "\n",
        "  pdResults.to_csv('HyperParamSearch.csv', index = False)"
      ],
      "execution_count": null,
      "outputs": [
        {
          "output_type": "stream",
          "text": [
            "****** Iteration : 0\n",
            "[0]\ttrain-auc:0.838721\tvalid-auc:0.813491\n",
            "[5]\ttrain-auc:0.842727\tvalid-auc:0.816582\n",
            "[9]\ttrain-auc:0.84373\tvalid-auc:0.816719\n",
            "****** Iteration : 1\n",
            "[0]\ttrain-auc:0.831758\tvalid-auc:0.808203\n",
            "[5]\ttrain-auc:0.849043\tvalid-auc:0.822288\n",
            "[9]\ttrain-auc:0.856714\tvalid-auc:0.825254\n",
            "****** Iteration : 2\n",
            "[0]\ttrain-auc:0.854739\tvalid-auc:0.808661\n",
            "[5]\ttrain-auc:0.857766\tvalid-auc:0.811516\n",
            "[9]\ttrain-auc:0.860685\tvalid-auc:0.812316\n",
            "****** Iteration : 3\n",
            "[0]\ttrain-auc:0.841616\tvalid-auc:0.811086\n",
            "[5]\ttrain-auc:0.858271\tvalid-auc:0.81953\n",
            "[9]\ttrain-auc:0.866432\tvalid-auc:0.824472\n",
            "****** Iteration : 4\n",
            "[0]\ttrain-auc:0.854108\tvalid-auc:0.806773\n",
            "[5]\ttrain-auc:0.858864\tvalid-auc:0.810273\n",
            "[9]\ttrain-auc:0.860092\tvalid-auc:0.811236\n",
            "****** Iteration : 5\n",
            "[0]\ttrain-auc:0.831794\tvalid-auc:0.808306\n",
            "[5]\ttrain-auc:0.833838\tvalid-auc:0.810218\n",
            "[9]\ttrain-auc:0.833866\tvalid-auc:0.810762\n",
            "****** Iteration : 6\n",
            "[0]\ttrain-auc:0.83879\tvalid-auc:0.813744\n",
            "[5]\ttrain-auc:0.848733\tvalid-auc:0.819912\n",
            "[9]\ttrain-auc:0.854082\tvalid-auc:0.823729\n",
            "****** Iteration : 7\n",
            "[0]\ttrain-auc:0.842731\tvalid-auc:0.810982\n",
            "[5]\ttrain-auc:0.866473\tvalid-auc:0.823702\n",
            "[9]\ttrain-auc:0.876298\tvalid-auc:0.826893\n",
            "****** Iteration : 8\n",
            "[0]\ttrain-auc:0.842731\tvalid-auc:0.810982\n",
            "[5]\ttrain-auc:0.866473\tvalid-auc:0.823702\n",
            "[9]\ttrain-auc:0.876298\tvalid-auc:0.826893\n",
            "****** Iteration : 9\n",
            "[0]\ttrain-auc:0.842731\tvalid-auc:0.810982\n",
            "[5]\ttrain-auc:0.861592\tvalid-auc:0.823865\n",
            "[9]\ttrain-auc:0.86801\tvalid-auc:0.826239\n",
            "****** Iteration : 10\n",
            "[0]\ttrain-auc:0.841616\tvalid-auc:0.811086\n",
            "[5]\ttrain-auc:0.867079\tvalid-auc:0.824997\n",
            "[9]\ttrain-auc:0.87701\tvalid-auc:0.828098\n",
            "****** Iteration : 11\n",
            "[0]\ttrain-auc:0.856032\tvalid-auc:0.808564\n",
            "[5]\ttrain-auc:0.881068\tvalid-auc:0.817682\n",
            "[9]\ttrain-auc:0.89283\tvalid-auc:0.822761\n",
            "****** Iteration : 12\n",
            "[0]\ttrain-auc:0.831758\tvalid-auc:0.808203\n",
            "[5]\ttrain-auc:0.832994\tvalid-auc:0.809974\n",
            "[9]\ttrain-auc:0.833075\tvalid-auc:0.809825\n",
            "****** Iteration : 13\n",
            "[0]\ttrain-auc:0.839764\tvalid-auc:0.812969\n",
            "[5]\ttrain-auc:0.857956\tvalid-auc:0.826103\n",
            "[9]\ttrain-auc:0.865681\tvalid-auc:0.830901\n",
            "****** Iteration : 14\n",
            "[0]\ttrain-auc:0.841616\tvalid-auc:0.811086\n",
            "[5]\ttrain-auc:0.845232\tvalid-auc:0.813971\n",
            "[9]\ttrain-auc:0.84707\tvalid-auc:0.814624\n",
            "****** Iteration : 15\n",
            "[0]\ttrain-auc:0.858807\tvalid-auc:0.805806\n",
            "[5]\ttrain-auc:0.868561\tvalid-auc:0.808909\n",
            "[9]\ttrain-auc:0.872454\tvalid-auc:0.812491\n",
            "****** Iteration : 16\n",
            "[0]\ttrain-auc:0.841616\tvalid-auc:0.811086\n",
            "[5]\ttrain-auc:0.847361\tvalid-auc:0.814505\n",
            "[9]\ttrain-auc:0.851135\tvalid-auc:0.816846\n",
            "****** Iteration : 17\n",
            "[0]\ttrain-auc:0.84542\tvalid-auc:0.811006\n",
            "[5]\ttrain-auc:0.865887\tvalid-auc:0.82006\n",
            "[9]\ttrain-auc:0.874162\tvalid-auc:0.822747\n",
            "****** Iteration : 18\n",
            "[0]\ttrain-auc:0.843818\tvalid-auc:0.809953\n",
            "[5]\ttrain-auc:0.847966\tvalid-auc:0.815101\n",
            "[9]\ttrain-auc:0.84994\tvalid-auc:0.815941\n",
            "****** Iteration : 19\n",
            "[0]\ttrain-auc:0.838721\tvalid-auc:0.813491\n",
            "[5]\ttrain-auc:0.842727\tvalid-auc:0.816582\n",
            "[9]\ttrain-auc:0.84373\tvalid-auc:0.816719\n",
            "****** Iteration : 20\n",
            "[0]\ttrain-auc:0.84735\tvalid-auc:0.809721\n",
            "[5]\ttrain-auc:0.877843\tvalid-auc:0.823842\n",
            "[9]\ttrain-auc:0.88807\tvalid-auc:0.827687\n",
            "****** Iteration : 21\n",
            "[0]\ttrain-auc:0.841998\tvalid-auc:0.808817\n",
            "[5]\ttrain-auc:0.847366\tvalid-auc:0.814824\n",
            "[9]\ttrain-auc:0.85079\tvalid-auc:0.816328\n",
            "****** Iteration : 22\n",
            "[0]\ttrain-auc:0.851328\tvalid-auc:0.811094\n",
            "[5]\ttrain-auc:0.874651\tvalid-auc:0.818471\n",
            "[9]\ttrain-auc:0.884123\tvalid-auc:0.823921\n",
            "****** Iteration : 23\n",
            "[0]\ttrain-auc:0.844086\tvalid-auc:0.80988\n",
            "[5]\ttrain-auc:0.860835\tvalid-auc:0.822274\n",
            "[9]\ttrain-auc:0.867918\tvalid-auc:0.825273\n",
            "****** Iteration : 24\n",
            "[0]\ttrain-auc:0.831701\tvalid-auc:0.808248\n",
            "[5]\ttrain-auc:0.832928\tvalid-auc:0.8099\n",
            "[9]\ttrain-auc:0.838149\tvalid-auc:0.813479\n",
            "****** Iteration : 25\n",
            "[0]\ttrain-auc:0.844383\tvalid-auc:0.809802\n",
            "[5]\ttrain-auc:0.850073\tvalid-auc:0.81568\n",
            "[9]\ttrain-auc:0.85411\tvalid-auc:0.81792\n",
            "****** Iteration : 26\n",
            "[0]\ttrain-auc:0.83996\tvalid-auc:0.812847\n",
            "[5]\ttrain-auc:0.843771\tvalid-auc:0.816453\n",
            "[9]\ttrain-auc:0.844858\tvalid-auc:0.816665\n",
            "****** Iteration : 27\n",
            "[0]\ttrain-auc:0.831855\tvalid-auc:0.808339\n",
            "[5]\ttrain-auc:0.850284\tvalid-auc:0.822191\n",
            "[9]\ttrain-auc:0.858197\tvalid-auc:0.825485\n",
            "****** Iteration : 28\n",
            "[0]\ttrain-auc:0.84542\tvalid-auc:0.811006\n",
            "[5]\ttrain-auc:0.872908\tvalid-auc:0.823504\n",
            "[9]\ttrain-auc:0.884286\tvalid-auc:0.82457\n",
            "****** Iteration : 29\n",
            "[0]\ttrain-auc:0.838721\tvalid-auc:0.813491\n",
            "[5]\ttrain-auc:0.853066\tvalid-auc:0.823276\n",
            "[9]\ttrain-auc:0.858741\tvalid-auc:0.825693\n",
            "****** Iteration : 30\n",
            "[0]\ttrain-auc:0.848218\tvalid-auc:0.809898\n",
            "[5]\ttrain-auc:0.869268\tvalid-auc:0.818263\n",
            "[9]\ttrain-auc:0.876498\tvalid-auc:0.825626\n",
            "****** Iteration : 31\n",
            "[0]\ttrain-auc:0.832721\tvalid-auc:0.80795\n",
            "[5]\ttrain-auc:0.834596\tvalid-auc:0.810973\n",
            "[9]\ttrain-auc:0.834662\tvalid-auc:0.811091\n",
            "****** Iteration : 32\n",
            "[0]\ttrain-auc:0.860206\tvalid-auc:0.803906\n",
            "[5]\ttrain-auc:0.882553\tvalid-auc:0.816524\n",
            "[9]\ttrain-auc:0.892443\tvalid-auc:0.822494\n",
            "****** Iteration : 33\n",
            "[0]\ttrain-auc:0.856727\tvalid-auc:0.807507\n",
            "[5]\ttrain-auc:0.863169\tvalid-auc:0.810857\n",
            "[9]\ttrain-auc:0.868388\tvalid-auc:0.813922\n",
            "****** Iteration : 34\n",
            "[0]\ttrain-auc:0.841434\tvalid-auc:0.811127\n",
            "[5]\ttrain-auc:0.844732\tvalid-auc:0.814599\n",
            "[9]\ttrain-auc:0.846799\tvalid-auc:0.815423\n",
            "****** Iteration : 35\n",
            "[0]\ttrain-auc:0.860661\tvalid-auc:0.803766\n",
            "[5]\ttrain-auc:0.875177\tvalid-auc:0.814067\n",
            "[9]\ttrain-auc:0.88343\tvalid-auc:0.819642\n",
            "****** Iteration : 36\n",
            "[0]\ttrain-auc:0.841998\tvalid-auc:0.808817\n",
            "[5]\ttrain-auc:0.86016\tvalid-auc:0.82047\n",
            "[9]\ttrain-auc:0.867377\tvalid-auc:0.82734\n",
            "****** Iteration : 37\n",
            "[0]\ttrain-auc:0.839764\tvalid-auc:0.812969\n",
            "[5]\ttrain-auc:0.844702\tvalid-auc:0.817124\n",
            "[9]\ttrain-auc:0.847908\tvalid-auc:0.819655\n",
            "****** Iteration : 38\n",
            "[0]\ttrain-auc:0.856032\tvalid-auc:0.808564\n",
            "[5]\ttrain-auc:0.86167\tvalid-auc:0.812594\n",
            "[9]\ttrain-auc:0.86468\tvalid-auc:0.813072\n",
            "****** Iteration : 39\n",
            "[0]\ttrain-auc:0.831701\tvalid-auc:0.808248\n",
            "[5]\ttrain-auc:0.843233\tvalid-auc:0.817663\n",
            "[9]\ttrain-auc:0.85053\tvalid-auc:0.823066\n",
            "****** Iteration : 40\n",
            "[0]\ttrain-auc:0.847673\tvalid-auc:0.809773\n",
            "[5]\ttrain-auc:0.855414\tvalid-auc:0.814402\n",
            "[9]\ttrain-auc:0.858607\tvalid-auc:0.815574\n",
            "****** Iteration : 41\n",
            "[0]\ttrain-auc:0.843818\tvalid-auc:0.809953\n",
            "[5]\ttrain-auc:0.847966\tvalid-auc:0.815101\n",
            "[9]\ttrain-auc:0.84994\tvalid-auc:0.815941\n",
            "****** Iteration : 42\n"
          ],
          "name": "stdout"
        },
        {
          "output_type": "error",
          "ename": "KeyboardInterrupt",
          "evalue": "ignored",
          "traceback": [
            "\u001b[0;31m---------------------------------------------------------------------------\u001b[0m",
            "\u001b[0;31mKeyboardInterrupt\u001b[0m                         Traceback (most recent call last)",
            "\u001b[0;32m<ipython-input-98-2345e3e9b7ee>\u001b[0m in \u001b[0;36m<module>\u001b[0;34m()\u001b[0m\n\u001b[1;32m     11\u001b[0m   \u001b[0mnum_round\u001b[0m \u001b[0;34m=\u001b[0m \u001b[0;36m10\u001b[0m\u001b[0;34m\u001b[0m\u001b[0;34m\u001b[0m\u001b[0m\n\u001b[1;32m     12\u001b[0m \u001b[0;34m\u001b[0m\u001b[0m\n\u001b[0;32m---> 13\u001b[0;31m   \u001b[0mbst\u001b[0m \u001b[0;34m=\u001b[0m \u001b[0mxgb\u001b[0m\u001b[0;34m.\u001b[0m\u001b[0mtrain\u001b[0m\u001b[0;34m(\u001b[0m\u001b[0mparam\u001b[0m\u001b[0;34m,\u001b[0m \u001b[0mdtrain\u001b[0m\u001b[0;34m,\u001b[0m \u001b[0mnum_round\u001b[0m\u001b[0;34m,\u001b[0m \u001b[0mevallist\u001b[0m\u001b[0;34m,\u001b[0m \u001b[0mverbose_eval\u001b[0m \u001b[0;34m=\u001b[0m \u001b[0;36m5\u001b[0m\u001b[0;34m)\u001b[0m\u001b[0;34m\u001b[0m\u001b[0;34m\u001b[0m\u001b[0m\n\u001b[0m\u001b[1;32m     14\u001b[0m \u001b[0;34m\u001b[0m\u001b[0m\n\u001b[1;32m     15\u001b[0m   \u001b[0my_train_pred\u001b[0m \u001b[0;34m=\u001b[0m \u001b[0mbst\u001b[0m\u001b[0;34m.\u001b[0m\u001b[0mpredict\u001b[0m\u001b[0;34m(\u001b[0m\u001b[0mdtrain\u001b[0m\u001b[0;34m)\u001b[0m\u001b[0;34m\u001b[0m\u001b[0;34m\u001b[0m\u001b[0m\n",
            "\u001b[0;32m/usr/local/lib/python3.7/dist-packages/xgboost/training.py\u001b[0m in \u001b[0;36mtrain\u001b[0;34m(params, dtrain, num_boost_round, evals, obj, feval, maximize, early_stopping_rounds, evals_result, verbose_eval, xgb_model, callbacks, learning_rates)\u001b[0m\n\u001b[1;32m    214\u001b[0m                            \u001b[0mevals\u001b[0m\u001b[0;34m=\u001b[0m\u001b[0mevals\u001b[0m\u001b[0;34m,\u001b[0m\u001b[0;34m\u001b[0m\u001b[0;34m\u001b[0m\u001b[0m\n\u001b[1;32m    215\u001b[0m                            \u001b[0mobj\u001b[0m\u001b[0;34m=\u001b[0m\u001b[0mobj\u001b[0m\u001b[0;34m,\u001b[0m \u001b[0mfeval\u001b[0m\u001b[0;34m=\u001b[0m\u001b[0mfeval\u001b[0m\u001b[0;34m,\u001b[0m\u001b[0;34m\u001b[0m\u001b[0;34m\u001b[0m\u001b[0m\n\u001b[0;32m--> 216\u001b[0;31m                            xgb_model=xgb_model, callbacks=callbacks)\n\u001b[0m\u001b[1;32m    217\u001b[0m \u001b[0;34m\u001b[0m\u001b[0m\n\u001b[1;32m    218\u001b[0m \u001b[0;34m\u001b[0m\u001b[0m\n",
            "\u001b[0;32m/usr/local/lib/python3.7/dist-packages/xgboost/training.py\u001b[0m in \u001b[0;36m_train_internal\u001b[0;34m(params, dtrain, num_boost_round, evals, obj, feval, xgb_model, callbacks)\u001b[0m\n\u001b[1;32m     72\u001b[0m         \u001b[0;31m# Skip the first update if it is a recovery step.\u001b[0m\u001b[0;34m\u001b[0m\u001b[0;34m\u001b[0m\u001b[0;34m\u001b[0m\u001b[0m\n\u001b[1;32m     73\u001b[0m         \u001b[0;32mif\u001b[0m \u001b[0mversion\u001b[0m \u001b[0;34m%\u001b[0m \u001b[0;36m2\u001b[0m \u001b[0;34m==\u001b[0m \u001b[0;36m0\u001b[0m\u001b[0;34m:\u001b[0m\u001b[0;34m\u001b[0m\u001b[0;34m\u001b[0m\u001b[0m\n\u001b[0;32m---> 74\u001b[0;31m             \u001b[0mbst\u001b[0m\u001b[0;34m.\u001b[0m\u001b[0mupdate\u001b[0m\u001b[0;34m(\u001b[0m\u001b[0mdtrain\u001b[0m\u001b[0;34m,\u001b[0m \u001b[0mi\u001b[0m\u001b[0;34m,\u001b[0m \u001b[0mobj\u001b[0m\u001b[0;34m)\u001b[0m\u001b[0;34m\u001b[0m\u001b[0;34m\u001b[0m\u001b[0m\n\u001b[0m\u001b[1;32m     75\u001b[0m             \u001b[0mbst\u001b[0m\u001b[0;34m.\u001b[0m\u001b[0msave_rabit_checkpoint\u001b[0m\u001b[0;34m(\u001b[0m\u001b[0;34m)\u001b[0m\u001b[0;34m\u001b[0m\u001b[0;34m\u001b[0m\u001b[0m\n\u001b[1;32m     76\u001b[0m             \u001b[0mversion\u001b[0m \u001b[0;34m+=\u001b[0m \u001b[0;36m1\u001b[0m\u001b[0;34m\u001b[0m\u001b[0;34m\u001b[0m\u001b[0m\n",
            "\u001b[0;32m/usr/local/lib/python3.7/dist-packages/xgboost/core.py\u001b[0m in \u001b[0;36mupdate\u001b[0;34m(self, dtrain, iteration, fobj)\u001b[0m\n\u001b[1;32m   1107\u001b[0m         \u001b[0;32mif\u001b[0m \u001b[0mfobj\u001b[0m \u001b[0;32mis\u001b[0m \u001b[0;32mNone\u001b[0m\u001b[0;34m:\u001b[0m\u001b[0;34m\u001b[0m\u001b[0;34m\u001b[0m\u001b[0m\n\u001b[1;32m   1108\u001b[0m             _check_call(_LIB.XGBoosterUpdateOneIter(self.handle, ctypes.c_int(iteration),\n\u001b[0;32m-> 1109\u001b[0;31m                                                     dtrain.handle))\n\u001b[0m\u001b[1;32m   1110\u001b[0m         \u001b[0;32melse\u001b[0m\u001b[0;34m:\u001b[0m\u001b[0;34m\u001b[0m\u001b[0;34m\u001b[0m\u001b[0m\n\u001b[1;32m   1111\u001b[0m             \u001b[0mpred\u001b[0m \u001b[0;34m=\u001b[0m \u001b[0mself\u001b[0m\u001b[0;34m.\u001b[0m\u001b[0mpredict\u001b[0m\u001b[0;34m(\u001b[0m\u001b[0mdtrain\u001b[0m\u001b[0;34m)\u001b[0m\u001b[0;34m\u001b[0m\u001b[0;34m\u001b[0m\u001b[0m\n",
            "\u001b[0;31mKeyboardInterrupt\u001b[0m: "
          ]
        }
      ]
    },
    {
      "cell_type": "code",
      "metadata": {
        "id": "BS8ggXhrdy8b"
      },
      "source": [
        "pddf = pd.read_csv(\"HyperParamSearch.csv\")\n",
        "pddf.sort_values('giniTest', ascending=False)"
      ],
      "execution_count": null,
      "outputs": []
    },
    {
      "cell_type": "code",
      "metadata": {
        "id": "WVZSfXk6ewE0",
        "colab": {
          "base_uri": "https://localhost:8080/",
          "height": 419
        },
        "outputId": "c9565c9f-41b8-4873-ef7c-4f09ddef5622"
      },
      "source": [
        "pddf['overfitting'] = pddf.giniTrain - pddf.giniTest\n",
        "pddf.sort_values('overfitting')"
      ],
      "execution_count": null,
      "outputs": [
        {
          "output_type": "execute_result",
          "data": {
            "text/html": [
              "<div>\n",
              "<style scoped>\n",
              "    .dataframe tbody tr th:only-of-type {\n",
              "        vertical-align: middle;\n",
              "    }\n",
              "\n",
              "    .dataframe tbody tr th {\n",
              "        vertical-align: top;\n",
              "    }\n",
              "\n",
              "    .dataframe thead th {\n",
              "        text-align: right;\n",
              "    }\n",
              "</style>\n",
              "<table border=\"1\" class=\"dataframe\">\n",
              "  <thead>\n",
              "    <tr style=\"text-align: right;\">\n",
              "      <th></th>\n",
              "      <th>iter</th>\n",
              "      <th>paramName</th>\n",
              "      <th>paramValue</th>\n",
              "      <th>giniTrain</th>\n",
              "      <th>giniTest</th>\n",
              "      <th>overfitting</th>\n",
              "    </tr>\n",
              "  </thead>\n",
              "  <tbody>\n",
              "    <tr>\n",
              "      <th>92</th>\n",
              "      <td>10</td>\n",
              "      <td>learning_rate</td>\n",
              "      <td>0.01</td>\n",
              "      <td>66.921746</td>\n",
              "      <td>62.349869</td>\n",
              "      <td>4.571877</td>\n",
              "    </tr>\n",
              "    <tr>\n",
              "      <th>90</th>\n",
              "      <td>10</td>\n",
              "      <td>objetive</td>\n",
              "      <td>binary_logistic</td>\n",
              "      <td>66.921746</td>\n",
              "      <td>62.349869</td>\n",
              "      <td>4.571877</td>\n",
              "    </tr>\n",
              "    <tr>\n",
              "      <th>91</th>\n",
              "      <td>10</td>\n",
              "      <td>max_depth</td>\n",
              "      <td>5</td>\n",
              "      <td>66.921746</td>\n",
              "      <td>62.349869</td>\n",
              "      <td>4.571877</td>\n",
              "    </tr>\n",
              "    <tr>\n",
              "      <th>93</th>\n",
              "      <td>10</td>\n",
              "      <td>seed</td>\n",
              "      <td>123</td>\n",
              "      <td>66.921746</td>\n",
              "      <td>62.349869</td>\n",
              "      <td>4.571877</td>\n",
              "    </tr>\n",
              "    <tr>\n",
              "      <th>94</th>\n",
              "      <td>10</td>\n",
              "      <td>max_leaves</td>\n",
              "      <td>2</td>\n",
              "      <td>66.921746</td>\n",
              "      <td>62.349869</td>\n",
              "      <td>4.571877</td>\n",
              "    </tr>\n",
              "    <tr>\n",
              "      <th>...</th>\n",
              "      <td>...</td>\n",
              "      <td>...</td>\n",
              "      <td>...</td>\n",
              "      <td>...</td>\n",
              "      <td>...</td>\n",
              "      <td>...</td>\n",
              "    </tr>\n",
              "    <tr>\n",
              "      <th>86</th>\n",
              "      <td>9</td>\n",
              "      <td>min_data_leaf</td>\n",
              "      <td>532</td>\n",
              "      <td>81.927446</td>\n",
              "      <td>63.931089</td>\n",
              "      <td>17.996357</td>\n",
              "    </tr>\n",
              "    <tr>\n",
              "      <th>87</th>\n",
              "      <td>9</td>\n",
              "      <td>grow_policy</td>\n",
              "      <td>lossguide</td>\n",
              "      <td>81.927446</td>\n",
              "      <td>63.931089</td>\n",
              "      <td>17.996357</td>\n",
              "    </tr>\n",
              "    <tr>\n",
              "      <th>88</th>\n",
              "      <td>9</td>\n",
              "      <td>min_child_weight</td>\n",
              "      <td>5</td>\n",
              "      <td>81.927446</td>\n",
              "      <td>63.931089</td>\n",
              "      <td>17.996357</td>\n",
              "    </tr>\n",
              "    <tr>\n",
              "      <th>403</th>\n",
              "      <td>44</td>\n",
              "      <td>min_child_weight</td>\n",
              "      <td>5</td>\n",
              "      <td>81.927446</td>\n",
              "      <td>63.931089</td>\n",
              "      <td>17.996357</td>\n",
              "    </tr>\n",
              "    <tr>\n",
              "      <th>82</th>\n",
              "      <td>9</td>\n",
              "      <td>max_depth</td>\n",
              "      <td>10</td>\n",
              "      <td>81.927446</td>\n",
              "      <td>63.931089</td>\n",
              "      <td>17.996357</td>\n",
              "    </tr>\n",
              "  </tbody>\n",
              "</table>\n",
              "<p>576 rows × 6 columns</p>\n",
              "</div>"
            ],
            "text/plain": [
              "     iter         paramName       paramValue  giniTrain   giniTest  overfitting\n",
              "92     10     learning_rate             0.01  66.921746  62.349869     4.571877\n",
              "90     10          objetive  binary_logistic  66.921746  62.349869     4.571877\n",
              "91     10         max_depth                5  66.921746  62.349869     4.571877\n",
              "93     10              seed              123  66.921746  62.349869     4.571877\n",
              "94     10        max_leaves                2  66.921746  62.349869     4.571877\n",
              "..    ...               ...              ...        ...        ...          ...\n",
              "86      9     min_data_leaf              532  81.927446  63.931089    17.996357\n",
              "87      9       grow_policy        lossguide  81.927446  63.931089    17.996357\n",
              "88      9  min_child_weight                5  81.927446  63.931089    17.996357\n",
              "403    44  min_child_weight                5  81.927446  63.931089    17.996357\n",
              "82      9         max_depth               10  81.927446  63.931089    17.996357\n",
              "\n",
              "[576 rows x 6 columns]"
            ]
          },
          "metadata": {
            "tags": []
          },
          "execution_count": 87
        }
      ]
    },
    {
      "cell_type": "code",
      "metadata": {
        "id": "HHbUYYLSfLo6"
      },
      "source": [
        "import seaborn as sns\n",
        "import matplotlib.pyplot as plt\n"
      ],
      "execution_count": null,
      "outputs": []
    },
    {
      "cell_type": "code",
      "metadata": {
        "id": "OsXym2Dpe4Ok",
        "colab": {
          "base_uri": "https://localhost:8080/",
          "height": 470
        },
        "outputId": "12c6168b-f94b-477d-d099-df415272f34b"
      },
      "source": [
        "pdResults = pdResults[~pdResults.paramName.isin(['objective', 'eval_metric', 'eta'])]\n",
        "set(pdResults['paramName'])\n",
        "\n",
        "\n",
        "sns.FacetGrid(pdResults.loc[pdResults.paramName=='learning_rate'],\n",
        "              row=\"paramName\", \n",
        "              sharex=False, size=5, aspect=1.5).\\\n",
        "          map(sns.boxplot,\n",
        "              'paramValue',\n",
        "              'giniTest')"
      ],
      "execution_count": null,
      "outputs": [
        {
          "output_type": "stream",
          "text": [
            "/usr/local/lib/python3.6/dist-packages/seaborn/axisgrid.py:316: UserWarning: The `size` parameter has been renamed to `height`; please update your code.\n",
            "  warnings.warn(msg, UserWarning)\n",
            "/usr/local/lib/python3.6/dist-packages/seaborn/axisgrid.py:643: UserWarning: Using the boxplot function without specifying `order` is likely to produce an incorrect plot.\n",
            "  warnings.warn(warning)\n"
          ],
          "name": "stderr"
        },
        {
          "output_type": "execute_result",
          "data": {
            "text/plain": [
              "<seaborn.axisgrid.FacetGrid at 0x7fb56cd9e240>"
            ]
          },
          "metadata": {
            "tags": []
          },
          "execution_count": 89
        },
        {
          "output_type": "display_data",
          "data": {
            "image/png": "[encoded data removed]",
            "text/plain": [
              "<Figure size 540x360 with 1 Axes>"
            ]
          },
          "metadata": {
            "tags": []
          }
        }
      ]
    },
    {
      "cell_type": "code",
      "metadata": {
        "id": "mQJt2G5TU0IJ",
        "colab": {
          "base_uri": "https://localhost:8080/",
          "height": 470
        },
        "outputId": "3340b270-c76e-44e0-99de-b9c6c25648c4"
      },
      "source": [
        "sns.FacetGrid(pdResults.loc[pdResults.paramName=='max_depth'],\n",
        "              row=\"paramName\", \n",
        "              sharex=False, size=5, aspect=1.5).\\\n",
        "          map(sns.boxplot,\n",
        "              'paramValue',\n",
        "              'giniTest')"
      ],
      "execution_count": null,
      "outputs": [
        {
          "output_type": "stream",
          "text": [
            "/usr/local/lib/python3.6/dist-packages/seaborn/axisgrid.py:316: UserWarning: The `size` parameter has been renamed to `height`; please update your code.\n",
            "  warnings.warn(msg, UserWarning)\n",
            "/usr/local/lib/python3.6/dist-packages/seaborn/axisgrid.py:643: UserWarning: Using the boxplot function without specifying `order` is likely to produce an incorrect plot.\n",
            "  warnings.warn(warning)\n"
          ],
          "name": "stderr"
        },
        {
          "output_type": "execute_result",
          "data": {
            "text/plain": [
              "<seaborn.axisgrid.FacetGrid at 0x7fb577b67da0>"
            ]
          },
          "metadata": {
            "tags": []
          },
          "execution_count": 90
        },
        {
          "output_type": "display_data",
          "data": {
            "image/png": "[encoded data removed]",
            "text/plain": [
              "<Figure size 540x360 with 1 Axes>"
            ]
          },
          "metadata": {
            "tags": []
          }
        }
      ]
    },
    {
      "cell_type": "markdown",
      "metadata": {
        "id": "4iMhUa5-gNCX"
      },
      "source": [
        "# Implementación de Modelos"
      ]
    },
    {
      "cell_type": "code",
      "metadata": {
        "id": "KYP3ZL4HgoGJ"
      },
      "source": [
        "import pickle"
      ],
      "execution_count": null,
      "outputs": []
    },
    {
      "cell_type": "code",
      "metadata": {
        "id": "VDD_3bR1gSGv",
        "colab": {
          "base_uri": "https://localhost:8080/"
        },
        "outputId": "b4aff7a1-6ce6-4ec1-ceb8-fdf87ad4f9ba"
      },
      "source": [
        "xgBoost"
      ],
      "execution_count": null,
      "outputs": [
        {
          "output_type": "execute_result",
          "data": {
            "text/plain": [
              "<xgboost.core.Booster at 0x7fa9605bc850>"
            ]
          },
          "metadata": {},
          "execution_count": 100
        }
      ]
    },
    {
      "cell_type": "code",
      "metadata": {
        "id": "jSXX5_Qsgx9B",
        "colab": {
          "base_uri": "https://localhost:8080/"
        },
        "outputId": "cbf5c88f-e144-410a-8ace-5682251458a2"
      },
      "source": [
        "objectToSave = xgBoost\n",
        "filename = \"./XGBoost.xgb\"\n",
        "pickle.dump(objectToSave, open(filename, 'wb'))\n",
        "print(\"done\")"
      ],
      "execution_count": null,
      "outputs": [
        {
          "output_type": "stream",
          "text": [
            "done\n"
          ],
          "name": "stdout"
        }
      ]
    },
    {
      "cell_type": "code",
      "metadata": {
        "id": "HfhT8AyRhdSj"
      },
      "source": [
        "filename = \"./XGBoost.xgb\"\n",
        "loaded_model = pickle.load(open(filename, 'rb'))"
      ],
      "execution_count": null,
      "outputs": []
    },
    {
      "cell_type": "code",
      "metadata": {
        "id": "RWdsHBSrhteA",
        "colab": {
          "base_uri": "https://localhost:8080/"
        },
        "outputId": "db4644a3-73b7-4064-bfd5-38612160e29f"
      },
      "source": [
        "loaded_model"
      ],
      "execution_count": null,
      "outputs": [
        {
          "output_type": "execute_result",
          "data": {
            "text/plain": [
              "<xgboost.core.Booster at 0x7fa9603aa5d0>"
            ]
          },
          "metadata": {},
          "execution_count": 103
        }
      ]
    },
    {
      "cell_type": "code",
      "metadata": {
        "colab": {
          "base_uri": "https://localhost:8080/"
        },
        "id": "SjPOv4jG-2Oc",
        "outputId": "51ccd1ce-0156-419d-9d49-59f5c740a13f"
      },
      "source": [
        "loaded_model.predict(xgb.DMatrix(X_test[features], label = y_test))\n"
      ],
      "execution_count": null,
      "outputs": [
        {
          "output_type": "execute_result",
          "data": {
            "text/plain": [
              "array([0.03025776, 0.04972455, 0.02464089, ..., 0.01750395, 0.11165103,\n",
              "       0.03048143], dtype=float32)"
            ]
          },
          "metadata": {},
          "execution_count": 104
        }
      ]
    },
    {
      "cell_type": "markdown",
      "metadata": {
        "id": "x-4g7hHrRY22"
      },
      "source": [
        "---\n",
        "\n",
        "# Gracias por completar este laboratorio!\n",
        "\n",
        "---\n",
        "\n"
      ]
    }
  ]
}