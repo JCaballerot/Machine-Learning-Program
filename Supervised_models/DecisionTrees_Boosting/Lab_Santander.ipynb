{
  "nbformat": 4,
  "nbformat_minor": 0,
  "metadata": {
    "colab": {
      "name": "Lab: Santander.ipynb",
      "provenance": [],
      "machine_shape": "hm",
      "authorship_tag": "ABX9TyNV5v2qi1fWsyVLUXZap8iw",
      "include_colab_link": true
    },
    "kernelspec": {
      "name": "python3",
      "display_name": "Python 3"
    },
    "gpuClass": "standard"
  },
  "cells": [
    {
      "cell_type": "markdown",
      "metadata": {
        "id": "view-in-github",
        "colab_type": "text"
      },
      "source": [
        "<a href=\"https://colab.research.google.com/github/JCaballerot/Machine_learning_program/blob/main/Supervised_models/DecisionTrees_Boosting/Lab_Santander.ipynb\" target=\"_parent\"><img src=\"https://colab.research.google.com/assets/colab-badge.svg\" alt=\"Open In Colab\"/></a>"
      ]
    },
    {
      "cell_type": "markdown",
      "metadata": {
        "id": "d52SmLiMKz01"
      },
      "source": [
        "\n",
        "<h1 align=center><font size = 5>Santander Customer Satisfaction\n",
        "</font></h1>\n",
        "\n",
        "---"
      ]
    },
    {
      "cell_type": "markdown",
      "metadata": {
        "id": "Is3nFhGglsft"
      },
      "source": [
        "## Tabla de Contenidos\n",
        "\n",
        "<div class=\"alert alert-block alert-info\" style=\"margin-top: 20px\">\n",
        "\n",
        "<font size = 3>\n",
        "    \n",
        "1. <a href=\"#item31\">Introducción</a>  \n",
        "2. <a href=\"#item32\">Santander Problem</a>  \n",
        "3. <a href=\"#item33\">Descargar y limpiar el Dataset</a>  \n",
        "4. <a href=\"#item34\">SMOTE Algorithm</a>  \n",
        "5. <a href=\"#item34\">Decision Trees</a>  \n",
        "7. <a href=\"#item34\">Cross Validation y GridSearch</a>  \n",
        "6. <a href=\"#item34\">Random Forest</a>  \n",
        "8. <a href=\"#item34\">AdaBoost</a>  \n",
        "9. <a href=\"#item34\">XGBoost</a> \n",
        "10. <a href=\"#item34\">RandomSearch</a> \n",
        "11. <a href=\"#item34\">¿Cómo implementar un modelo?</a>  \n",
        "\n",
        "</font>\n",
        "</div>"
      ]
    },
    {
      "cell_type": "markdown",
      "metadata": {
        "button": false,
        "deletable": true,
        "new_sheet": false,
        "run_control": {
          "read_only": false
        },
        "id": "R_NIQeNlLo19"
      },
      "source": [
        "## Introducción\n"
      ]
    },
    {
      "cell_type": "markdown",
      "metadata": {
        "id": "g7LRGuxBHMpw"
      },
      "source": [
        "En este laboratorio, aprenderá a usar python para construir modelos de ensemble."
      ]
    },
    {
      "cell_type": "markdown",
      "metadata": {
        "id": "yFB_r2dkHMp7"
      },
      "source": [
        "\n",
        "<h3>Objetivo de este Notebook<h3>    \n",
        "<h5> 1. Como construir e interpretar un modelo de ensemble.</h5>\n",
        "<h5> 2. Descargar y limpiar un Dataset </h5>\n",
        "<h5> 3. Realizar los pasos necesarios previos a la etapa de modelamiento </h5>\n",
        "<h5> 4. Entrenar y Testear modelo </h5>     "
      ]
    },
    {
      "cell_type": "markdown",
      "metadata": {
        "id": "cWBGqVX6HMp8"
      },
      "source": [
        "Primero, importemos algunos módulos que necesitaremos para el análisis y construcción del modelo."
      ]
    },
    {
      "cell_type": "code",
      "metadata": {
        "id": "PEMIsurDJf4M"
      },
      "source": [
        "\n",
        "# Scikit-Learn \n",
        "import sklearn\n",
        "assert sklearn.__version__ >= \"0.20\"\n",
        "\n",
        "# Imports comunes\n",
        "import pandas as pd\n",
        "import numpy as np\n",
        "import os\n",
        "\n",
        "# Configuración de tamaño de gráficos matplotlib\n",
        "%matplotlib inline\n",
        "import matplotlib as mpl\n",
        "import matplotlib.pyplot as plt\n",
        "\n",
        "mpl.rc('axes', labelsize=14)\n",
        "mpl.rc('xtick', labelsize=12)\n",
        "mpl.rc('ytick', labelsize=12)\n",
        "\n",
        "# Ignore las advertencias poco útiles\n",
        "import warnings\n",
        "warnings.filterwarnings(action=\"ignore\", message=\"^internal gelsd\")"
      ],
      "execution_count": 1,
      "outputs": []
    },
    {
      "cell_type": "markdown",
      "metadata": {
        "id": "rtJhMpGIoKSg"
      },
      "source": [
        "## Santander Customer Satisfaction"
      ]
    },
    {
      "cell_type": "markdown",
      "metadata": {
        "id": "KZwf0QHnLBB6"
      },
      "source": [
        "\n",
        "Desde los equipos de soporte de primera línea hasta los ejecutivos, la satisfacción del cliente es una medida clave del éxito de una empresa. Los clientes insatisfechos no se quedan. Es más, los clientes insatisfechos rara vez expresan su insatisfacción antes de irse.\n",
        "\n",
        "El banco Santander está pidiendo a la comunidad data scientist que los ayude a identificar clientes insatisfechos desde su primera interacción. Hacerlo permitiría a Santander tomar medidas proactivas para mejorar la felicidad de un cliente antes de que sea demasiado tarde.\n",
        "\n",
        "En este laboratorio, trabajará con cientos de variables anónimas para predecir si un cliente está satisfecho o insatisfecho con su experiencia bancaria."
      ]
    },
    {
      "cell_type": "markdown",
      "metadata": {
        "id": "WMTTs7KsMZIF"
      },
      "source": [
        "<img src=\"https://storage.googleapis.com/kaggle-competitions/kaggle/4986/media/santander_custsat_red.png\" alt=\"HTML5 Icon\" style=\"width: 600px; height: 450px;\">\n",
        "<div style=\"text-align: center\">¿Qué clientes son clientes satisfechos? </div>"
      ]
    },
    {
      "cell_type": "markdown",
      "metadata": {
        "id": "RA0bDOj5LtM7"
      },
      "source": [
        "\n",
        "<b>Descripción de datos</b>\n",
        "\n",
        "El data frame de Santander tiene 76,020 filas y 371 columnas.\n",
        "\n",
        "\n",
        "---\n",
        "\n",
        "Se le proporciona un conjunto de datos anónimos que contiene una gran cantidad de variables numéricas. La columna <b>\"OBJETIVO\"</b> es la variable a predecir. Es igual a uno para clientes insatisfechos y 0 para clientes satisfechos.\n",
        "\n",
        "La tarea consiste en predecir la probabilidad de que cada cliente del conjunto de prueba sea un cliente insatisfecho.\n",
        "\n",
        "\n",
        "---\n",
        "\n",
        "\n",
        "<strong>Puede consultar este [link](https://www.kaggle.com/c/santander-customer-satisfaction/overview) para leer más sobre la fuente de datos Santander.</strong>\n"
      ]
    },
    {
      "cell_type": "markdown",
      "metadata": {
        "button": false,
        "deletable": true,
        "new_sheet": false,
        "run_control": {
          "read_only": false
        },
        "id": "_dC4JellLo2B"
      },
      "source": [
        "## Descargar y limpiar Dataset\n"
      ]
    },
    {
      "cell_type": "code",
      "metadata": {
        "id": "5NynpymMcdab",
        "outputId": "b681562b-d95f-4fb6-d1bd-05ead924bd62",
        "colab": {
          "base_uri": "https://localhost:8080/",
          "height": 300
        }
      },
      "source": [
        "# Cargar Data\n",
        "import pandas as pd\n",
        "pddf = pd.read_csv(\"santander.csv\")\n",
        "pddf.head()"
      ],
      "execution_count": 2,
      "outputs": [
        {
          "output_type": "execute_result",
          "data": {
            "text/plain": [
              "   ID  var3  var15  imp_ent_var16_ult1  imp_op_var39_comer_ult1  \\\n",
              "0   1     2     23                 0.0                      0.0   \n",
              "1   3     2     34                 0.0                      0.0   \n",
              "2   4     2     23                 0.0                      0.0   \n",
              "3   8     2     37                 0.0                    195.0   \n",
              "4  10     2     39                 0.0                      0.0   \n",
              "\n",
              "   imp_op_var39_comer_ult3  imp_op_var40_comer_ult1  imp_op_var40_comer_ult3  \\\n",
              "0                      0.0                      0.0                      0.0   \n",
              "1                      0.0                      0.0                      0.0   \n",
              "2                      0.0                      0.0                      0.0   \n",
              "3                    195.0                      0.0                      0.0   \n",
              "4                      0.0                      0.0                      0.0   \n",
              "\n",
              "   imp_op_var40_efect_ult1  imp_op_var40_efect_ult3  ...  \\\n",
              "0                      0.0                      0.0  ...   \n",
              "1                      0.0                      0.0  ...   \n",
              "2                      0.0                      0.0  ...   \n",
              "3                      0.0                      0.0  ...   \n",
              "4                      0.0                      0.0  ...   \n",
              "\n",
              "   saldo_medio_var33_hace2  saldo_medio_var33_hace3  saldo_medio_var33_ult1  \\\n",
              "0                      0.0                      0.0                     0.0   \n",
              "1                      0.0                      0.0                     0.0   \n",
              "2                      0.0                      0.0                     0.0   \n",
              "3                      0.0                      0.0                     0.0   \n",
              "4                      0.0                      0.0                     0.0   \n",
              "\n",
              "   saldo_medio_var33_ult3  saldo_medio_var44_hace2  saldo_medio_var44_hace3  \\\n",
              "0                     0.0                      0.0                      0.0   \n",
              "1                     0.0                      0.0                      0.0   \n",
              "2                     0.0                      0.0                      0.0   \n",
              "3                     0.0                      0.0                      0.0   \n",
              "4                     0.0                      0.0                      0.0   \n",
              "\n",
              "   saldo_medio_var44_ult1  saldo_medio_var44_ult3          var38  TARGET  \n",
              "0                     0.0                     0.0   39205.170000       0  \n",
              "1                     0.0                     0.0   49278.030000       0  \n",
              "2                     0.0                     0.0   67333.770000       0  \n",
              "3                     0.0                     0.0   64007.970000       0  \n",
              "4                     0.0                     0.0  117310.979016       0  \n",
              "\n",
              "[5 rows x 371 columns]"
            ],
            "text/html": [
              "\n",
              "  <div id=\"df-9cc9f973-f0c5-4b91-aa2f-00d5e93b9599\">\n",
              "    <div class=\"colab-df-container\">\n",
              "      <div>\n",
              "<style scoped>\n",
              "    .dataframe tbody tr th:only-of-type {\n",
              "        vertical-align: middle;\n",
              "    }\n",
              "\n",
              "    .dataframe tbody tr th {\n",
              "        vertical-align: top;\n",
              "    }\n",
              "\n",
              "    .dataframe thead th {\n",
              "        text-align: right;\n",
              "    }\n",
              "</style>\n",
              "<table border=\"1\" class=\"dataframe\">\n",
              "  <thead>\n",
              "    <tr style=\"text-align: right;\">\n",
              "      <th></th>\n",
              "      <th>ID</th>\n",
              "      <th>var3</th>\n",
              "      <th>var15</th>\n",
              "      <th>imp_ent_var16_ult1</th>\n",
              "      <th>imp_op_var39_comer_ult1</th>\n",
              "      <th>imp_op_var39_comer_ult3</th>\n",
              "      <th>imp_op_var40_comer_ult1</th>\n",
              "      <th>imp_op_var40_comer_ult3</th>\n",
              "      <th>imp_op_var40_efect_ult1</th>\n",
              "      <th>imp_op_var40_efect_ult3</th>\n",
              "      <th>...</th>\n",
              "      <th>saldo_medio_var33_hace2</th>\n",
              "      <th>saldo_medio_var33_hace3</th>\n",
              "      <th>saldo_medio_var33_ult1</th>\n",
              "      <th>saldo_medio_var33_ult3</th>\n",
              "      <th>saldo_medio_var44_hace2</th>\n",
              "      <th>saldo_medio_var44_hace3</th>\n",
              "      <th>saldo_medio_var44_ult1</th>\n",
              "      <th>saldo_medio_var44_ult3</th>\n",
              "      <th>var38</th>\n",
              "      <th>TARGET</th>\n",
              "    </tr>\n",
              "  </thead>\n",
              "  <tbody>\n",
              "    <tr>\n",
              "      <th>0</th>\n",
              "      <td>1</td>\n",
              "      <td>2</td>\n",
              "      <td>23</td>\n",
              "      <td>0.0</td>\n",
              "      <td>0.0</td>\n",
              "      <td>0.0</td>\n",
              "      <td>0.0</td>\n",
              "      <td>0.0</td>\n",
              "      <td>0.0</td>\n",
              "      <td>0.0</td>\n",
              "      <td>...</td>\n",
              "      <td>0.0</td>\n",
              "      <td>0.0</td>\n",
              "      <td>0.0</td>\n",
              "      <td>0.0</td>\n",
              "      <td>0.0</td>\n",
              "      <td>0.0</td>\n",
              "      <td>0.0</td>\n",
              "      <td>0.0</td>\n",
              "      <td>39205.170000</td>\n",
              "      <td>0</td>\n",
              "    </tr>\n",
              "    <tr>\n",
              "      <th>1</th>\n",
              "      <td>3</td>\n",
              "      <td>2</td>\n",
              "      <td>34</td>\n",
              "      <td>0.0</td>\n",
              "      <td>0.0</td>\n",
              "      <td>0.0</td>\n",
              "      <td>0.0</td>\n",
              "      <td>0.0</td>\n",
              "      <td>0.0</td>\n",
              "      <td>0.0</td>\n",
              "      <td>...</td>\n",
              "      <td>0.0</td>\n",
              "      <td>0.0</td>\n",
              "      <td>0.0</td>\n",
              "      <td>0.0</td>\n",
              "      <td>0.0</td>\n",
              "      <td>0.0</td>\n",
              "      <td>0.0</td>\n",
              "      <td>0.0</td>\n",
              "      <td>49278.030000</td>\n",
              "      <td>0</td>\n",
              "    </tr>\n",
              "    <tr>\n",
              "      <th>2</th>\n",
              "      <td>4</td>\n",
              "      <td>2</td>\n",
              "      <td>23</td>\n",
              "      <td>0.0</td>\n",
              "      <td>0.0</td>\n",
              "      <td>0.0</td>\n",
              "      <td>0.0</td>\n",
              "      <td>0.0</td>\n",
              "      <td>0.0</td>\n",
              "      <td>0.0</td>\n",
              "      <td>...</td>\n",
              "      <td>0.0</td>\n",
              "      <td>0.0</td>\n",
              "      <td>0.0</td>\n",
              "      <td>0.0</td>\n",
              "      <td>0.0</td>\n",
              "      <td>0.0</td>\n",
              "      <td>0.0</td>\n",
              "      <td>0.0</td>\n",
              "      <td>67333.770000</td>\n",
              "      <td>0</td>\n",
              "    </tr>\n",
              "    <tr>\n",
              "      <th>3</th>\n",
              "      <td>8</td>\n",
              "      <td>2</td>\n",
              "      <td>37</td>\n",
              "      <td>0.0</td>\n",
              "      <td>195.0</td>\n",
              "      <td>195.0</td>\n",
              "      <td>0.0</td>\n",
              "      <td>0.0</td>\n",
              "      <td>0.0</td>\n",
              "      <td>0.0</td>\n",
              "      <td>...</td>\n",
              "      <td>0.0</td>\n",
              "      <td>0.0</td>\n",
              "      <td>0.0</td>\n",
              "      <td>0.0</td>\n",
              "      <td>0.0</td>\n",
              "      <td>0.0</td>\n",
              "      <td>0.0</td>\n",
              "      <td>0.0</td>\n",
              "      <td>64007.970000</td>\n",
              "      <td>0</td>\n",
              "    </tr>\n",
              "    <tr>\n",
              "      <th>4</th>\n",
              "      <td>10</td>\n",
              "      <td>2</td>\n",
              "      <td>39</td>\n",
              "      <td>0.0</td>\n",
              "      <td>0.0</td>\n",
              "      <td>0.0</td>\n",
              "      <td>0.0</td>\n",
              "      <td>0.0</td>\n",
              "      <td>0.0</td>\n",
              "      <td>0.0</td>\n",
              "      <td>...</td>\n",
              "      <td>0.0</td>\n",
              "      <td>0.0</td>\n",
              "      <td>0.0</td>\n",
              "      <td>0.0</td>\n",
              "      <td>0.0</td>\n",
              "      <td>0.0</td>\n",
              "      <td>0.0</td>\n",
              "      <td>0.0</td>\n",
              "      <td>117310.979016</td>\n",
              "      <td>0</td>\n",
              "    </tr>\n",
              "  </tbody>\n",
              "</table>\n",
              "<p>5 rows × 371 columns</p>\n",
              "</div>\n",
              "      <button class=\"colab-df-convert\" onclick=\"convertToInteractive('df-9cc9f973-f0c5-4b91-aa2f-00d5e93b9599')\"\n",
              "              title=\"Convert this dataframe to an interactive table.\"\n",
              "              style=\"display:none;\">\n",
              "        \n",
              "  <svg xmlns=\"http://www.w3.org/2000/svg\" height=\"24px\"viewBox=\"0 0 24 24\"\n",
              "       width=\"24px\">\n",
              "    <path d=\"M0 0h24v24H0V0z\" fill=\"none\"/>\n",
              "    <path d=\"M18.56 5.44l.94 2.06.94-2.06 2.06-.94-2.06-.94-.94-2.06-.94 2.06-2.06.94zm-11 1L8.5 8.5l.94-2.06 2.06-.94-2.06-.94L8.5 2.5l-.94 2.06-2.06.94zm10 10l.94 2.06.94-2.06 2.06-.94-2.06-.94-.94-2.06-.94 2.06-2.06.94z\"/><path d=\"M17.41 7.96l-1.37-1.37c-.4-.4-.92-.59-1.43-.59-.52 0-1.04.2-1.43.59L10.3 9.45l-7.72 7.72c-.78.78-.78 2.05 0 2.83L4 21.41c.39.39.9.59 1.41.59.51 0 1.02-.2 1.41-.59l7.78-7.78 2.81-2.81c.8-.78.8-2.07 0-2.86zM5.41 20L4 18.59l7.72-7.72 1.47 1.35L5.41 20z\"/>\n",
              "  </svg>\n",
              "      </button>\n",
              "      \n",
              "  <style>\n",
              "    .colab-df-container {\n",
              "      display:flex;\n",
              "      flex-wrap:wrap;\n",
              "      gap: 12px;\n",
              "    }\n",
              "\n",
              "    .colab-df-convert {\n",
              "      background-color: #E8F0FE;\n",
              "      border: none;\n",
              "      border-radius: 50%;\n",
              "      cursor: pointer;\n",
              "      display: none;\n",
              "      fill: #1967D2;\n",
              "      height: 32px;\n",
              "      padding: 0 0 0 0;\n",
              "      width: 32px;\n",
              "    }\n",
              "\n",
              "    .colab-df-convert:hover {\n",
              "      background-color: #E2EBFA;\n",
              "      box-shadow: 0px 1px 2px rgba(60, 64, 67, 0.3), 0px 1px 3px 1px rgba(60, 64, 67, 0.15);\n",
              "      fill: #174EA6;\n",
              "    }\n",
              "\n",
              "    [theme=dark] .colab-df-convert {\n",
              "      background-color: #3B4455;\n",
              "      fill: #D2E3FC;\n",
              "    }\n",
              "\n",
              "    [theme=dark] .colab-df-convert:hover {\n",
              "      background-color: #434B5C;\n",
              "      box-shadow: 0px 1px 3px 1px rgba(0, 0, 0, 0.15);\n",
              "      filter: drop-shadow(0px 1px 2px rgba(0, 0, 0, 0.3));\n",
              "      fill: #FFFFFF;\n",
              "    }\n",
              "  </style>\n",
              "\n",
              "      <script>\n",
              "        const buttonEl =\n",
              "          document.querySelector('#df-9cc9f973-f0c5-4b91-aa2f-00d5e93b9599 button.colab-df-convert');\n",
              "        buttonEl.style.display =\n",
              "          google.colab.kernel.accessAllowed ? 'block' : 'none';\n",
              "\n",
              "        async function convertToInteractive(key) {\n",
              "          const element = document.querySelector('#df-9cc9f973-f0c5-4b91-aa2f-00d5e93b9599');\n",
              "          const dataTable =\n",
              "            await google.colab.kernel.invokeFunction('convertToInteractive',\n",
              "                                                     [key], {});\n",
              "          if (!dataTable) return;\n",
              "\n",
              "          const docLinkHtml = 'Like what you see? Visit the ' +\n",
              "            '<a target=\"_blank\" href=https://colab.research.google.com/notebooks/data_table.ipynb>data table notebook</a>'\n",
              "            + ' to learn more about interactive tables.';\n",
              "          element.innerHTML = '';\n",
              "          dataTable['output_type'] = 'display_data';\n",
              "          await google.colab.output.renderOutput(dataTable, element);\n",
              "          const docLink = document.createElement('div');\n",
              "          docLink.innerHTML = docLinkHtml;\n",
              "          element.appendChild(docLink);\n",
              "        }\n",
              "      </script>\n",
              "    </div>\n",
              "  </div>\n",
              "  "
            ]
          },
          "metadata": {},
          "execution_count": 2
        }
      ]
    },
    {
      "cell_type": "code",
      "metadata": {
        "id": "9uoUNKzPhEEx",
        "colab": {
          "base_uri": "https://localhost:8080/"
        },
        "outputId": "19f622c3-476b-45be-a9db-f89e7a6c3f28"
      },
      "source": [
        "pddf.shape"
      ],
      "execution_count": 3,
      "outputs": [
        {
          "output_type": "execute_result",
          "data": {
            "text/plain": [
              "(76020, 371)"
            ]
          },
          "metadata": {},
          "execution_count": 3
        }
      ]
    },
    {
      "cell_type": "code",
      "metadata": {
        "id": "4tuDnh9shR1u"
      },
      "source": [
        "# Cargar seaborn \n",
        "import seaborn as sns\n",
        "sns.set(style=\"whitegrid\", color_codes = True)\n",
        "sns.set(rc={'figure.figsize':(10,6)})"
      ],
      "execution_count": 4,
      "outputs": []
    },
    {
      "cell_type": "code",
      "metadata": {
        "id": "5FRnVO_GhTwz",
        "outputId": "e31333be-6d47-4d12-9f7b-a45d4de522fc",
        "colab": {
          "base_uri": "https://localhost:8080/",
          "height": 411
        }
      },
      "source": [
        "# Analizando el target \n",
        "sns.countplot(x = 'TARGET', data = pddf, palette = 'hls')\n"
      ],
      "execution_count": 5,
      "outputs": [
        {
          "output_type": "execute_result",
          "data": {
            "text/plain": [
              "<matplotlib.axes._subplots.AxesSubplot at 0x7f9c369cfa90>"
            ]
          },
          "metadata": {},
          "execution_count": 5
        },
        {
          "output_type": "display_data",
          "data": {
            "text/plain": [
              "<Figure size 720x432 with 1 Axes>"
            ],
            "image/png": "[encoded data removed]"
          },
          "metadata": {}
        }
      ]
    },
    {
      "cell_type": "code",
      "source": [
        "pddf.groupby('TARGET')['ID'].count()"
      ],
      "metadata": {
        "colab": {
          "base_uri": "https://localhost:8080/"
        },
        "id": "-mR9zrqmjXIl",
        "outputId": "effe1085-e226-4c7f-b7e9-253c2b0b3d0f"
      },
      "execution_count": 6,
      "outputs": [
        {
          "output_type": "execute_result",
          "data": {
            "text/plain": [
              "TARGET\n",
              "0    73012\n",
              "1     3008\n",
              "Name: ID, dtype: int64"
            ]
          },
          "metadata": {},
          "execution_count": 6
        }
      ]
    },
    {
      "cell_type": "code",
      "metadata": {
        "id": "IXN9cJ2H2JZQ",
        "outputId": "99e8808d-beeb-485a-b574-3abc4dcbd35b",
        "colab": {
          "base_uri": "https://localhost:8080/",
          "height": 300
        }
      },
      "source": [
        "pddf[['TARGET']].describe()"
      ],
      "execution_count": 7,
      "outputs": [
        {
          "output_type": "execute_result",
          "data": {
            "text/plain": [
              "             TARGET\n",
              "count  76020.000000\n",
              "mean       0.039569\n",
              "std        0.194945\n",
              "min        0.000000\n",
              "25%        0.000000\n",
              "50%        0.000000\n",
              "75%        0.000000\n",
              "max        1.000000"
            ],
            "text/html": [
              "\n",
              "  <div id=\"df-ac77d141-9d36-453f-9d0b-32f64aa1f90c\">\n",
              "    <div class=\"colab-df-container\">\n",
              "      <div>\n",
              "<style scoped>\n",
              "    .dataframe tbody tr th:only-of-type {\n",
              "        vertical-align: middle;\n",
              "    }\n",
              "\n",
              "    .dataframe tbody tr th {\n",
              "        vertical-align: top;\n",
              "    }\n",
              "\n",
              "    .dataframe thead th {\n",
              "        text-align: right;\n",
              "    }\n",
              "</style>\n",
              "<table border=\"1\" class=\"dataframe\">\n",
              "  <thead>\n",
              "    <tr style=\"text-align: right;\">\n",
              "      <th></th>\n",
              "      <th>TARGET</th>\n",
              "    </tr>\n",
              "  </thead>\n",
              "  <tbody>\n",
              "    <tr>\n",
              "      <th>count</th>\n",
              "      <td>76020.000000</td>\n",
              "    </tr>\n",
              "    <tr>\n",
              "      <th>mean</th>\n",
              "      <td>0.039569</td>\n",
              "    </tr>\n",
              "    <tr>\n",
              "      <th>std</th>\n",
              "      <td>0.194945</td>\n",
              "    </tr>\n",
              "    <tr>\n",
              "      <th>min</th>\n",
              "      <td>0.000000</td>\n",
              "    </tr>\n",
              "    <tr>\n",
              "      <th>25%</th>\n",
              "      <td>0.000000</td>\n",
              "    </tr>\n",
              "    <tr>\n",
              "      <th>50%</th>\n",
              "      <td>0.000000</td>\n",
              "    </tr>\n",
              "    <tr>\n",
              "      <th>75%</th>\n",
              "      <td>0.000000</td>\n",
              "    </tr>\n",
              "    <tr>\n",
              "      <th>max</th>\n",
              "      <td>1.000000</td>\n",
              "    </tr>\n",
              "  </tbody>\n",
              "</table>\n",
              "</div>\n",
              "      <button class=\"colab-df-convert\" onclick=\"convertToInteractive('df-ac77d141-9d36-453f-9d0b-32f64aa1f90c')\"\n",
              "              title=\"Convert this dataframe to an interactive table.\"\n",
              "              style=\"display:none;\">\n",
              "        \n",
              "  <svg xmlns=\"http://www.w3.org/2000/svg\" height=\"24px\"viewBox=\"0 0 24 24\"\n",
              "       width=\"24px\">\n",
              "    <path d=\"M0 0h24v24H0V0z\" fill=\"none\"/>\n",
              "    <path d=\"M18.56 5.44l.94 2.06.94-2.06 2.06-.94-2.06-.94-.94-2.06-.94 2.06-2.06.94zm-11 1L8.5 8.5l.94-2.06 2.06-.94-2.06-.94L8.5 2.5l-.94 2.06-2.06.94zm10 10l.94 2.06.94-2.06 2.06-.94-2.06-.94-.94-2.06-.94 2.06-2.06.94z\"/><path d=\"M17.41 7.96l-1.37-1.37c-.4-.4-.92-.59-1.43-.59-.52 0-1.04.2-1.43.59L10.3 9.45l-7.72 7.72c-.78.78-.78 2.05 0 2.83L4 21.41c.39.39.9.59 1.41.59.51 0 1.02-.2 1.41-.59l7.78-7.78 2.81-2.81c.8-.78.8-2.07 0-2.86zM5.41 20L4 18.59l7.72-7.72 1.47 1.35L5.41 20z\"/>\n",
              "  </svg>\n",
              "      </button>\n",
              "      \n",
              "  <style>\n",
              "    .colab-df-container {\n",
              "      display:flex;\n",
              "      flex-wrap:wrap;\n",
              "      gap: 12px;\n",
              "    }\n",
              "\n",
              "    .colab-df-convert {\n",
              "      background-color: #E8F0FE;\n",
              "      border: none;\n",
              "      border-radius: 50%;\n",
              "      cursor: pointer;\n",
              "      display: none;\n",
              "      fill: #1967D2;\n",
              "      height: 32px;\n",
              "      padding: 0 0 0 0;\n",
              "      width: 32px;\n",
              "    }\n",
              "\n",
              "    .colab-df-convert:hover {\n",
              "      background-color: #E2EBFA;\n",
              "      box-shadow: 0px 1px 2px rgba(60, 64, 67, 0.3), 0px 1px 3px 1px rgba(60, 64, 67, 0.15);\n",
              "      fill: #174EA6;\n",
              "    }\n",
              "\n",
              "    [theme=dark] .colab-df-convert {\n",
              "      background-color: #3B4455;\n",
              "      fill: #D2E3FC;\n",
              "    }\n",
              "\n",
              "    [theme=dark] .colab-df-convert:hover {\n",
              "      background-color: #434B5C;\n",
              "      box-shadow: 0px 1px 3px 1px rgba(0, 0, 0, 0.15);\n",
              "      filter: drop-shadow(0px 1px 2px rgba(0, 0, 0, 0.3));\n",
              "      fill: #FFFFFF;\n",
              "    }\n",
              "  </style>\n",
              "\n",
              "      <script>\n",
              "        const buttonEl =\n",
              "          document.querySelector('#df-ac77d141-9d36-453f-9d0b-32f64aa1f90c button.colab-df-convert');\n",
              "        buttonEl.style.display =\n",
              "          google.colab.kernel.accessAllowed ? 'block' : 'none';\n",
              "\n",
              "        async function convertToInteractive(key) {\n",
              "          const element = document.querySelector('#df-ac77d141-9d36-453f-9d0b-32f64aa1f90c');\n",
              "          const dataTable =\n",
              "            await google.colab.kernel.invokeFunction('convertToInteractive',\n",
              "                                                     [key], {});\n",
              "          if (!dataTable) return;\n",
              "\n",
              "          const docLinkHtml = 'Like what you see? Visit the ' +\n",
              "            '<a target=\"_blank\" href=https://colab.research.google.com/notebooks/data_table.ipynb>data table notebook</a>'\n",
              "            + ' to learn more about interactive tables.';\n",
              "          element.innerHTML = '';\n",
              "          dataTable['output_type'] = 'display_data';\n",
              "          await google.colab.output.renderOutput(dataTable, element);\n",
              "          const docLink = document.createElement('div');\n",
              "          docLink.innerHTML = docLinkHtml;\n",
              "          element.appendChild(docLink);\n",
              "        }\n",
              "      </script>\n",
              "    </div>\n",
              "  </div>\n",
              "  "
            ]
          },
          "metadata": {},
          "execution_count": 7
        }
      ]
    },
    {
      "cell_type": "code",
      "metadata": {
        "id": "Gp3tJewWi2Al",
        "outputId": "a89d6a68-8533-4c60-9a9a-eca0fcc97304",
        "colab": {
          "base_uri": "https://localhost:8080/"
        }
      },
      "source": [
        "# Indentificar las variables \n",
        "\n",
        "features = list(set(pddf.columns.tolist()) - set(['ID','TARGET']))\n",
        "features"
      ],
      "execution_count": 8,
      "outputs": [
        {
          "output_type": "execute_result",
          "data": {
            "text/plain": [
              "['saldo_medio_var12_ult3',\n",
              " 'imp_aport_var17_ult1',\n",
              " 'ind_var41',\n",
              " 'delta_num_reemb_var13_1y3',\n",
              " 'ind_var27_0',\n",
              " 'saldo_var25',\n",
              " 'num_var14_0',\n",
              " 'num_op_var41_ult1',\n",
              " 'ind_var26_cte',\n",
              " 'ind_var25_cte',\n",
              " 'ind_var13_corto_0',\n",
              " 'saldo_medio_var17_ult3',\n",
              " 'saldo_var33',\n",
              " 'num_var37_0',\n",
              " 'saldo_medio_var44_hace3',\n",
              " 'saldo_medio_var44_hace2',\n",
              " 'ind_var39_0',\n",
              " 'num_op_var39_efect_ult3',\n",
              " 'saldo_var34',\n",
              " 'num_meses_var13_largo_ult3',\n",
              " 'ind_var25_0',\n",
              " 'num_trasp_var17_out_ult1',\n",
              " 'saldo_var41',\n",
              " 'imp_op_var40_efect_ult3',\n",
              " 'saldo_medio_var5_hace2',\n",
              " 'delta_imp_venta_var44_1y3',\n",
              " 'imp_op_var39_comer_ult1',\n",
              " 'saldo_var40',\n",
              " 'ind_var44',\n",
              " 'imp_trasp_var33_out_ult1',\n",
              " 'num_op_var41_ult3',\n",
              " 'num_var25',\n",
              " 'saldo_var8',\n",
              " 'num_var22_hace2',\n",
              " 'saldo_var27',\n",
              " 'saldo_medio_var12_hace3',\n",
              " 'num_aport_var33_hace3',\n",
              " 'num_var29',\n",
              " 'num_var39',\n",
              " 'ind_var37_0',\n",
              " 'saldo_var31',\n",
              " 'saldo_var30',\n",
              " 'imp_op_var39_efect_ult3',\n",
              " 'num_var18',\n",
              " 'delta_num_venta_var44_1y3',\n",
              " 'num_var41_0',\n",
              " 'ind_var8',\n",
              " 'ind_var43_emit_ult1',\n",
              " 'ind_var8_0',\n",
              " 'num_var46_0',\n",
              " 'ind_var34_0',\n",
              " 'num_var22_ult1',\n",
              " 'imp_op_var40_ult1',\n",
              " 'num_op_var40_hace3',\n",
              " 'saldo_var32',\n",
              " 'num_meses_var12_ult3',\n",
              " 'num_var27_0',\n",
              " 'ind_var37_cte',\n",
              " 'num_reemb_var17_ult1',\n",
              " 'delta_imp_amort_var34_1y3',\n",
              " 'ind_var27',\n",
              " 'num_compra_var44_ult1',\n",
              " 'imp_op_var41_comer_ult1',\n",
              " 'imp_ent_var16_ult1',\n",
              " 'saldo_medio_var33_hace2',\n",
              " 'num_aport_var17_hace3',\n",
              " 'saldo_var1',\n",
              " 'delta_imp_amort_var18_1y3',\n",
              " 'num_var6',\n",
              " 'delta_imp_aport_var17_1y3',\n",
              " 'num_var45_hace3',\n",
              " 'num_var7_emit_ult1',\n",
              " 'ind_var28',\n",
              " 'ind_var26_0',\n",
              " 'ind_var20',\n",
              " 'ind_var40',\n",
              " 'num_var20',\n",
              " 'imp_reemb_var17_hace3',\n",
              " 'imp_reemb_var13_ult1',\n",
              " 'saldo_var13_medio',\n",
              " 'delta_imp_trasp_var17_out_1y3',\n",
              " 'saldo_var24',\n",
              " 'num_meses_var29_ult3',\n",
              " 'imp_venta_var44_ult1',\n",
              " 'num_var1_0',\n",
              " 'num_var30',\n",
              " 'imp_amort_var18_ult1',\n",
              " 'num_trasp_var11_ult1',\n",
              " 'saldo_medio_var13_largo_hace2',\n",
              " 'saldo_var26',\n",
              " 'imp_trasp_var33_in_hace3',\n",
              " 'saldo_medio_var13_largo_hace3',\n",
              " 'ind_var44_0',\n",
              " 'num_trasp_var17_out_hace3',\n",
              " 'saldo_medio_var5_ult1',\n",
              " 'saldo_medio_var13_medio_hace3',\n",
              " 'saldo_medio_var17_ult1',\n",
              " 'num_aport_var17_ult1',\n",
              " 'ind_var13_medio_0',\n",
              " 'num_var44_0',\n",
              " 'num_var32_0',\n",
              " 'imp_op_var39_ult1',\n",
              " 'num_var8_0',\n",
              " 'num_var35',\n",
              " 'saldo_var18',\n",
              " 'ind_var20_0',\n",
              " 'num_var13_medio_0',\n",
              " 'ind_var19',\n",
              " 'saldo_medio_var33_hace3',\n",
              " 'delta_imp_trasp_var33_out_1y3',\n",
              " 'imp_reemb_var33_ult1',\n",
              " 'num_trasp_var17_in_ult1',\n",
              " 'saldo_var5',\n",
              " 'ind_var29_0',\n",
              " 'imp_trasp_var17_out_hace3',\n",
              " 'num_reemb_var17_hace3',\n",
              " 'imp_op_var39_comer_ult3',\n",
              " 'saldo_medio_var17_hace3',\n",
              " 'num_var39_0',\n",
              " 'imp_var7_emit_ult1',\n",
              " 'num_var13_0',\n",
              " 'imp_trasp_var17_in_ult1',\n",
              " 'saldo_medio_var13_medio_hace2',\n",
              " 'saldo_medio_var29_ult1',\n",
              " 'delta_num_trasp_var33_out_1y3',\n",
              " 'saldo_medio_var44_ult3',\n",
              " 'num_var20_0',\n",
              " 'num_op_var40_comer_ult1',\n",
              " 'ind_var12_0',\n",
              " 'ind_var2',\n",
              " 'num_var22_ult3',\n",
              " 'num_meses_var13_medio_ult3',\n",
              " 'num_var5',\n",
              " 'ind_var18_0',\n",
              " 'num_var41',\n",
              " 'imp_var7_recib_ult1',\n",
              " 'num_var8',\n",
              " 'ind_var32_cte',\n",
              " 'delta_imp_trasp_var17_in_1y3',\n",
              " 'ind_var13_largo_0',\n",
              " 'num_op_var41_hace2',\n",
              " 'num_var2_0_ult1',\n",
              " 'saldo_medio_var13_corto_ult1',\n",
              " 'num_var13_largo_0',\n",
              " 'num_var33_0',\n",
              " 'ind_var13_0',\n",
              " 'saldo_medio_var29_hace2',\n",
              " 'ind_var9_ult1',\n",
              " 'num_var26_0',\n",
              " 'ind_var10_ult1',\n",
              " 'num_var12',\n",
              " 'num_op_var40_ult1',\n",
              " 'ind_var34',\n",
              " 'imp_aport_var33_ult1',\n",
              " 'saldo_medio_var33_ult3',\n",
              " 'num_meses_var8_ult3',\n",
              " 'ind_var14_0',\n",
              " 'num_meses_var17_ult3',\n",
              " 'delta_imp_trasp_var33_in_1y3',\n",
              " 'num_var43_emit_ult1',\n",
              " 'num_var13_corto',\n",
              " 'num_op_var39_hace3',\n",
              " 'ind_var6_0',\n",
              " 'num_var42',\n",
              " 'num_var24_0',\n",
              " 'num_var31',\n",
              " 'delta_imp_reemb_var17_1y3',\n",
              " 'num_op_var40_efect_ult1',\n",
              " 'var21',\n",
              " 'saldo_medio_var8_ult3',\n",
              " 'ind_var1_0',\n",
              " 'num_var34_0',\n",
              " 'imp_amort_var34_ult1',\n",
              " 'var15',\n",
              " 'ind_var31',\n",
              " 'saldo_medio_var13_corto_hace2',\n",
              " 'saldo_medio_var13_corto_hace3',\n",
              " 'num_aport_var33_ult1',\n",
              " 'ind_var13',\n",
              " 'imp_trasp_var33_in_ult1',\n",
              " 'saldo_medio_var5_hace3',\n",
              " 'delta_imp_aport_var33_1y3',\n",
              " 'num_op_var41_hace3',\n",
              " 'num_op_var39_comer_ult1',\n",
              " 'imp_aport_var17_hace3',\n",
              " 'num_var34',\n",
              " 'num_op_var39_hace2',\n",
              " 'saldo_var12',\n",
              " 'imp_aport_var33_hace3',\n",
              " 'num_trasp_var33_out_hace3',\n",
              " 'imp_sal_var16_ult1',\n",
              " 'ind_var2_0',\n",
              " 'saldo_medio_var13_medio_ult1',\n",
              " 'ind_var39',\n",
              " 'imp_op_var41_efect_ult1',\n",
              " 'num_med_var22_ult3',\n",
              " 'ind_var32_0',\n",
              " 'num_var2_ult1',\n",
              " 'ind_var33',\n",
              " 'imp_op_var41_ult1',\n",
              " 'ind_var33_0',\n",
              " 'num_op_var40_comer_ult3',\n",
              " 'delta_num_aport_var33_1y3',\n",
              " 'num_var5_0',\n",
              " 'num_op_var39_ult1',\n",
              " 'num_var37_med_ult2',\n",
              " 'ind_var24',\n",
              " 'num_op_var41_comer_ult1',\n",
              " 'num_var17_0',\n",
              " 'var3',\n",
              " 'num_var44',\n",
              " 'ind_var37',\n",
              " 'imp_aport_var13_ult1',\n",
              " 'imp_op_var40_efect_ult1',\n",
              " 'num_var40_0',\n",
              " 'delta_imp_reemb_var13_1y3',\n",
              " 'ind_var25',\n",
              " 'num_var45_hace2',\n",
              " 'num_var46',\n",
              " 'imp_trasp_var33_out_hace3',\n",
              " 'saldo_medio_var29_hace3',\n",
              " 'num_trasp_var33_in_ult1',\n",
              " 'imp_trasp_var17_in_hace3',\n",
              " 'num_meses_var44_ult3',\n",
              " 'num_meses_var13_corto_ult3',\n",
              " 'saldo_var13_largo',\n",
              " 'num_op_var41_efect_ult1',\n",
              " 'num_var18_0',\n",
              " 'num_var29_0',\n",
              " 'ind_var12',\n",
              " 'num_trasp_var33_in_hace3',\n",
              " 'imp_op_var40_comer_ult1',\n",
              " 'ind_var28_0',\n",
              " 'num_trasp_var17_in_hace3',\n",
              " 'num_op_var39_efect_ult1',\n",
              " 'saldo_medio_var8_hace3',\n",
              " 'imp_op_var39_efect_ult1',\n",
              " 'ind_var41_0',\n",
              " 'ind_var17_0',\n",
              " 'ind_var46_0',\n",
              " 'num_var31_0',\n",
              " 'num_meses_var39_vig_ult3',\n",
              " 'saldo_medio_var44_ult1',\n",
              " 'delta_num_aport_var13_1y3',\n",
              " 'ind_var13_medio',\n",
              " 'num_sal_var16_ult1',\n",
              " 'imp_amort_var18_hace3',\n",
              " 'imp_reemb_var17_ult1',\n",
              " 'delta_num_trasp_var17_out_1y3',\n",
              " 'num_trasp_var33_out_ult1',\n",
              " 'imp_amort_var34_hace3',\n",
              " 'saldo_var29',\n",
              " 'num_var7_recib_ult1',\n",
              " 'saldo_var42',\n",
              " 'num_var37',\n",
              " 'num_var42_0',\n",
              " 'imp_aport_var13_hace3',\n",
              " 'num_var28',\n",
              " 'num_var27',\n",
              " 'ind_var13_largo',\n",
              " 'delta_imp_compra_var44_1y3',\n",
              " 'delta_imp_reemb_var33_1y3',\n",
              " 'num_var45_ult1',\n",
              " 'num_op_var39_comer_ult3',\n",
              " 'delta_num_aport_var17_1y3',\n",
              " 'delta_num_reemb_var17_1y3',\n",
              " 'ind_var24_0',\n",
              " 'imp_op_var41_comer_ult3',\n",
              " 'var36',\n",
              " 'imp_compra_var44_hace3',\n",
              " 'ind_var18',\n",
              " 'num_var1',\n",
              " 'num_var12_0',\n",
              " 'saldo_medio_var5_ult3',\n",
              " 'ind_var31_0',\n",
              " 'num_med_var45_ult3',\n",
              " 'saldo_medio_var12_hace2',\n",
              " 'num_var30_0',\n",
              " 'num_reemb_var33_ult1',\n",
              " 'saldo_medio_var29_ult3',\n",
              " 'num_var13_medio',\n",
              " 'ind_var7_recib_ult1',\n",
              " 'imp_op_var41_efect_ult3',\n",
              " 'ind_var17',\n",
              " 'imp_compra_var44_ult1',\n",
              " 'saldo_var6',\n",
              " 'num_aport_var13_hace3',\n",
              " 'imp_var43_emit_ult1',\n",
              " 'saldo_medio_var8_hace2',\n",
              " 'ind_var10cte_ult1',\n",
              " 'ind_var32',\n",
              " 'num_venta_var44_ult1',\n",
              " 'ind_var13_corto',\n",
              " 'saldo_var20',\n",
              " 'imp_trasp_var17_out_ult1',\n",
              " 'imp_reemb_var13_hace3',\n",
              " 'num_var45_ult3',\n",
              " 'num_venta_var44_hace3',\n",
              " 'ind_var46',\n",
              " 'delta_num_reemb_var33_1y3',\n",
              " 'saldo_var14',\n",
              " 'num_var13_corto_0',\n",
              " 'num_op_var41_efect_ult3',\n",
              " 'imp_trans_var37_ult1',\n",
              " 'delta_num_trasp_var17_in_1y3',\n",
              " 'saldo_medio_var17_hace2',\n",
              " 'num_var6_0',\n",
              " 'ind_var30_0',\n",
              " 'num_compra_var44_hace3',\n",
              " 'ind_var9_cte_ult1',\n",
              " 'num_reemb_var13_hace3',\n",
              " 'ind_var7_emit_ult1',\n",
              " 'saldo_medio_var13_medio_ult3',\n",
              " 'num_var17',\n",
              " 'ind_var5',\n",
              " 'saldo_var28',\n",
              " 'num_aport_var13_ult1',\n",
              " 'ind_var29',\n",
              " 'ind_var14',\n",
              " 'saldo_var2_ult1',\n",
              " 'delta_num_compra_var44_1y3',\n",
              " 'num_var43_recib_ult1',\n",
              " 'num_op_var40_ult3',\n",
              " 'delta_num_trasp_var33_in_1y3',\n",
              " 'num_var22_hace3',\n",
              " 'saldo_medio_var12_ult1',\n",
              " 'ind_var40_0',\n",
              " 'saldo_medio_var13_largo_ult1',\n",
              " 'num_var28_0',\n",
              " 'num_var26',\n",
              " 'num_op_var41_comer_ult3',\n",
              " 'num_op_var40_hace2',\n",
              " 'num_var14',\n",
              " 'num_var40',\n",
              " 'saldo_medio_var33_ult1',\n",
              " 'ind_var5_0',\n",
              " 'imp_op_var40_comer_ult3',\n",
              " 'num_var13_largo',\n",
              " 'num_op_var40_efect_ult3',\n",
              " 'saldo_medio_var13_corto_ult3',\n",
              " 'num_var33',\n",
              " 'num_meses_var33_ult3',\n",
              " 'saldo_var17',\n",
              " 'ind_var1',\n",
              " 'ind_var30',\n",
              " 'var38',\n",
              " 'num_op_var39_ult3',\n",
              " 'saldo_medio_var8_ult1',\n",
              " 'saldo_var37',\n",
              " 'num_ent_var16_ult1',\n",
              " 'num_var25_0',\n",
              " 'num_reemb_var13_ult1',\n",
              " 'ind_var6',\n",
              " 'saldo_var13_corto',\n",
              " 'saldo_medio_var13_largo_ult3',\n",
              " 'saldo_var46',\n",
              " 'imp_reemb_var33_hace3',\n",
              " 'ind_var43_recib_ult1',\n",
              " 'saldo_var13',\n",
              " 'num_var13',\n",
              " 'num_reemb_var33_hace3',\n",
              " 'num_meses_var5_ult3',\n",
              " 'saldo_var44',\n",
              " 'imp_venta_var44_hace3',\n",
              " 'delta_imp_aport_var13_1y3',\n",
              " 'ind_var26',\n",
              " 'num_var4',\n",
              " 'num_var32',\n",
              " 'num_var24']"
            ]
          },
          "metadata": {},
          "execution_count": 8
        }
      ]
    },
    {
      "cell_type": "code",
      "metadata": {
        "id": "S3f-viEzjfAu"
      },
      "source": [
        "# Determinando matrices de datos\n",
        "\n",
        "X = pddf[features]\n",
        "y = pddf.TARGET\n"
      ],
      "execution_count": 9,
      "outputs": []
    },
    {
      "cell_type": "code",
      "metadata": {
        "id": "mzy50oqNjwPG"
      },
      "source": [
        "# Muestreo de data\n",
        "\n",
        "from sklearn.model_selection import train_test_split\n",
        "\n",
        "X_train, X_test, y_train, y_test = train_test_split(X, y, \n",
        "                                                    stratify = y,\n",
        "                                                    test_size = 0.3,\n",
        "                                                    random_state = 123)\n"
      ],
      "execution_count": 10,
      "outputs": []
    },
    {
      "cell_type": "code",
      "source": [
        "y_train.mean()"
      ],
      "metadata": {
        "id": "1mBfZirX71EU",
        "outputId": "d4f2f9c2-9479-4824-989f-58b0c6b79a8b",
        "colab": {
          "base_uri": "https://localhost:8080/"
        }
      },
      "execution_count": 11,
      "outputs": [
        {
          "output_type": "execute_result",
          "data": {
            "text/plain": [
              "0.039576051415041155"
            ]
          },
          "metadata": {},
          "execution_count": 11
        }
      ]
    },
    {
      "cell_type": "code",
      "source": [
        "y_test.mean()"
      ],
      "metadata": {
        "id": "5NdPLei379rp",
        "outputId": "7766add5-480c-45fe-e469-dd6f5e76ae95",
        "colab": {
          "base_uri": "https://localhost:8080/"
        }
      },
      "execution_count": 12,
      "outputs": [
        {
          "output_type": "execute_result",
          "data": {
            "text/plain": [
              "0.03955099535210033"
            ]
          },
          "metadata": {},
          "execution_count": 12
        }
      ]
    },
    {
      "cell_type": "markdown",
      "metadata": {
        "id": "acYMp0BJbTca"
      },
      "source": [
        "# SMOTE Algorithm"
      ]
    },
    {
      "cell_type": "markdown",
      "metadata": {
        "id": "lmJ90AeP1a2L"
      },
      "source": [
        "\n",
        "<b>Synthetic Minority Oversampling Technique</b>\n",
        "\n",
        "Es uno de los métodos de sobremuestreo más utilizados para resolver el problema del desbalanceo.\n",
        "Su objetivo es equilibrar la distribución de clases aumentando aleatoriamente los ejemplos de clases minoritarias al replicarlos."
      ]
    },
    {
      "cell_type": "markdown",
      "metadata": {
        "id": "xMphbZhrkadV"
      },
      "source": [
        "\n",
        "SMOTE sintetiza nuevas instancias minoritarias entre instancias minoritarias existentes. Genera los registros de entrenamiento virtual por interpolación lineal para la clase minoritaria. Estos registros de entrenamiento sintéticos se generan seleccionando aleatoriamente uno o más de los k vecinos más cercanos para cada ejemplo en la clase minoritaria. Después del proceso de sobremuestreo, los datos se reconstruyen y se pueden aplicar varios modelos de clasificación para los datos procesados.\n",
        "¡Más información detallada sobre cómo funciona el algoritmo SMOTE!\n",
        "\n",
        "<strong>Puede consultar este [link](https://imbalanced-learn.org/stable/generated/imblearn.over_sampling.SMOTE.html) para leer más sobre SMOTE.</strong>\n",
        "\n",
        "<img src=\"https://i.ytimg.com/vi/U3X98xZ4_no/maxresdefault.jpg\" alt=\"HTML5 Icon\" style=\"width: 400px; height: 250px;\">\n",
        "\n",
        "\n",
        "\n"
      ]
    },
    {
      "cell_type": "code",
      "metadata": {
        "id": "33eQ1J8BillH"
      },
      "source": [
        "# Aplicando SMOTE para oversampling\n",
        "\n",
        "from imblearn.over_sampling import SMOTE\n"
      ],
      "execution_count": 13,
      "outputs": []
    },
    {
      "cell_type": "code",
      "source": [
        "sm = SMOTE(random_state = 123)\n",
        "X_train_res, y_train_res = sm.fit_resample(X_train, y_train.ravel())\n"
      ],
      "metadata": {
        "id": "PU3B7ZNUqu0M"
      },
      "execution_count": 14,
      "outputs": []
    },
    {
      "cell_type": "code",
      "metadata": {
        "colab": {
          "base_uri": "https://localhost:8080/",
          "height": 0
        },
        "id": "5dN-0BsBFjpB",
        "outputId": "e0eac525-5621-42d7-ac02-fbe10f21764f"
      },
      "source": [
        "# Analizando el target \n",
        "sns.countplot(x = y_train_res, palette = 'hls')"
      ],
      "execution_count": 15,
      "outputs": [
        {
          "output_type": "execute_result",
          "data": {
            "text/plain": [
              "<matplotlib.axes._subplots.AxesSubplot at 0x7f9c36119dd0>"
            ]
          },
          "metadata": {},
          "execution_count": 15
        },
        {
          "output_type": "display_data",
          "data": {
            "text/plain": [
              "<Figure size 720x432 with 1 Axes>"
            ],
            "image/png": "[encoded data removed]"
          },
          "metadata": {}
        }
      ]
    },
    {
      "cell_type": "markdown",
      "metadata": {
        "id": "yIKZh3IJ_w6B"
      },
      "source": [
        "# Decision Tree"
      ]
    },
    {
      "cell_type": "code",
      "metadata": {
        "id": "5wwflOn2M1xa"
      },
      "source": [
        "# Cargar librerías \n",
        "\n",
        "from sklearn.tree import DecisionTreeClassifier\n"
      ],
      "execution_count": 16,
      "outputs": []
    },
    {
      "cell_type": "code",
      "metadata": {
        "colab": {
          "base_uri": "https://localhost:8080/"
        },
        "id": "ji5YxHcwM6Rv",
        "outputId": "80ce1362-641b-4eeb-cfb3-61cd6cd4a03e"
      },
      "source": [
        "# Definiendo modelo\n",
        "\n",
        "\n",
        "dtree = DecisionTreeClassifier(max_depth = 5, \n",
        "                               #class_weight = {0: 1, 1: 25.272},\n",
        "                               min_samples_leaf = 0.05,\n",
        "                               random_state = 123)\n",
        "\n",
        "dtree = dtree.fit(X_train_res, y_train_res)\n",
        "    \n",
        "dtree"
      ],
      "execution_count": 17,
      "outputs": [
        {
          "output_type": "execute_result",
          "data": {
            "text/plain": [
              "DecisionTreeClassifier(max_depth=5, min_samples_leaf=0.05, random_state=123)"
            ]
          },
          "metadata": {},
          "execution_count": 17
        }
      ]
    },
    {
      "cell_type": "code",
      "metadata": {
        "colab": {
          "base_uri": "https://localhost:8080/"
        },
        "id": "fueCZLMlM9bm",
        "outputId": "5370895a-7c58-4c44-bb10-972e500a3994"
      },
      "source": [
        "# Graficando resultados\n",
        "\n",
        "from sklearn.tree import export_graphviz\n",
        "from pydotplus import graph_from_dot_data\n",
        "\n",
        "dot_data = export_graphviz(dtree,\n",
        "                           feature_names = features,\n",
        "                           filled = True,\n",
        "                           rounded = True,\n",
        "                           special_characters = True)\n",
        "\n",
        "graph = graph_from_dot_data(dot_data)\n",
        "graph.write_png('tree.png')\n",
        "print(graph)\n"
      ],
      "execution_count": 18,
      "outputs": [
        {
          "output_type": "stream",
          "name": "stdout",
          "text": [
            "<pydotplus.graphviz.Dot object at 0x7f9c31220d10>\n"
          ]
        }
      ]
    },
    {
      "cell_type": "markdown",
      "metadata": {
        "id": "G6VZANgBNsvr"
      },
      "source": [
        "<b>Bondad de ajuste</b>"
      ]
    },
    {
      "cell_type": "code",
      "metadata": {
        "id": "W1FA5RrONrrC"
      },
      "source": [
        "# Usando el modelo para predecir\n",
        "\n",
        "X_train['probability'] = dtree.predict_proba(X_train[features])[:,1]\n",
        "X_test['probability']  = dtree.predict_proba(X_test[features])[:,1]\n",
        "\n",
        "X_train['prediction'] = dtree.predict(X_train[features])\n",
        "X_test['prediction']  = dtree.predict(X_test[features])"
      ],
      "execution_count": 19,
      "outputs": []
    },
    {
      "cell_type": "code",
      "metadata": {
        "id": "-ERcxSdUN33K",
        "colab": {
          "base_uri": "https://localhost:8080/",
          "height": 0
        },
        "outputId": "47b6fa48-bd5c-425d-9886-a10d528f744d"
      },
      "source": [
        "#Resumen de todas las métricas del modelo\n",
        "from sklearn.metrics import *\n",
        "\n",
        "metricsDtree_smote = pd.DataFrame({'metric':['AUC','Gini','Accuracy','Precision','Recall','F1-score'],\n",
        "                                'dTree_smote_train':[roc_auc_score(y_train, X_train.probability),\n",
        "                                        (roc_auc_score(y_train, X_train.probability)*2-1),\n",
        "                                        accuracy_score(y_train, X_train.prediction),\n",
        "                                        precision_score(y_train, X_train.prediction),\n",
        "                                        recall_score(y_train, X_train.prediction),\n",
        "                                        f1_score(y_train, X_train.prediction)],\n",
        "\n",
        "                                'dTree_smote_test':[roc_auc_score(y_test, X_test.probability),\n",
        "                                        (roc_auc_score(y_test, X_test.probability)*2-1),\n",
        "                                        accuracy_score(y_test, X_test.prediction),\n",
        "                                        precision_score(y_test, X_test.prediction),\n",
        "                                        recall_score(y_test, X_test.prediction),\n",
        "                                        f1_score(y_test, X_test.prediction)]})\n",
        "\n",
        "metricsDtree_smote"
      ],
      "execution_count": 20,
      "outputs": [
        {
          "output_type": "execute_result",
          "data": {
            "text/plain": [
              "      metric  dTree_smote_train  dTree_smote_test\n",
              "0        AUC           0.800894          0.799110\n",
              "1       Gini           0.601789          0.598221\n",
              "2   Accuracy           0.783309          0.788389\n",
              "3  Precision           0.112491          0.115143\n",
              "4     Recall           0.649573          0.650776\n",
              "5   F1-score           0.191771          0.195667"
            ],
            "text/html": [
              "\n",
              "  <div id=\"df-cd80b279-d444-4e7c-9ad3-033b51d0c38c\">\n",
              "    <div class=\"colab-df-container\">\n",
              "      <div>\n",
              "<style scoped>\n",
              "    .dataframe tbody tr th:only-of-type {\n",
              "        vertical-align: middle;\n",
              "    }\n",
              "\n",
              "    .dataframe tbody tr th {\n",
              "        vertical-align: top;\n",
              "    }\n",
              "\n",
              "    .dataframe thead th {\n",
              "        text-align: right;\n",
              "    }\n",
              "</style>\n",
              "<table border=\"1\" class=\"dataframe\">\n",
              "  <thead>\n",
              "    <tr style=\"text-align: right;\">\n",
              "      <th></th>\n",
              "      <th>metric</th>\n",
              "      <th>dTree_smote_train</th>\n",
              "      <th>dTree_smote_test</th>\n",
              "    </tr>\n",
              "  </thead>\n",
              "  <tbody>\n",
              "    <tr>\n",
              "      <th>0</th>\n",
              "      <td>AUC</td>\n",
              "      <td>0.800894</td>\n",
              "      <td>0.799110</td>\n",
              "    </tr>\n",
              "    <tr>\n",
              "      <th>1</th>\n",
              "      <td>Gini</td>\n",
              "      <td>0.601789</td>\n",
              "      <td>0.598221</td>\n",
              "    </tr>\n",
              "    <tr>\n",
              "      <th>2</th>\n",
              "      <td>Accuracy</td>\n",
              "      <td>0.783309</td>\n",
              "      <td>0.788389</td>\n",
              "    </tr>\n",
              "    <tr>\n",
              "      <th>3</th>\n",
              "      <td>Precision</td>\n",
              "      <td>0.112491</td>\n",
              "      <td>0.115143</td>\n",
              "    </tr>\n",
              "    <tr>\n",
              "      <th>4</th>\n",
              "      <td>Recall</td>\n",
              "      <td>0.649573</td>\n",
              "      <td>0.650776</td>\n",
              "    </tr>\n",
              "    <tr>\n",
              "      <th>5</th>\n",
              "      <td>F1-score</td>\n",
              "      <td>0.191771</td>\n",
              "      <td>0.195667</td>\n",
              "    </tr>\n",
              "  </tbody>\n",
              "</table>\n",
              "</div>\n",
              "      <button class=\"colab-df-convert\" onclick=\"convertToInteractive('df-cd80b279-d444-4e7c-9ad3-033b51d0c38c')\"\n",
              "              title=\"Convert this dataframe to an interactive table.\"\n",
              "              style=\"display:none;\">\n",
              "        \n",
              "  <svg xmlns=\"http://www.w3.org/2000/svg\" height=\"24px\"viewBox=\"0 0 24 24\"\n",
              "       width=\"24px\">\n",
              "    <path d=\"M0 0h24v24H0V0z\" fill=\"none\"/>\n",
              "    <path d=\"M18.56 5.44l.94 2.06.94-2.06 2.06-.94-2.06-.94-.94-2.06-.94 2.06-2.06.94zm-11 1L8.5 8.5l.94-2.06 2.06-.94-2.06-.94L8.5 2.5l-.94 2.06-2.06.94zm10 10l.94 2.06.94-2.06 2.06-.94-2.06-.94-.94-2.06-.94 2.06-2.06.94z\"/><path d=\"M17.41 7.96l-1.37-1.37c-.4-.4-.92-.59-1.43-.59-.52 0-1.04.2-1.43.59L10.3 9.45l-7.72 7.72c-.78.78-.78 2.05 0 2.83L4 21.41c.39.39.9.59 1.41.59.51 0 1.02-.2 1.41-.59l7.78-7.78 2.81-2.81c.8-.78.8-2.07 0-2.86zM5.41 20L4 18.59l7.72-7.72 1.47 1.35L5.41 20z\"/>\n",
              "  </svg>\n",
              "      </button>\n",
              "      \n",
              "  <style>\n",
              "    .colab-df-container {\n",
              "      display:flex;\n",
              "      flex-wrap:wrap;\n",
              "      gap: 12px;\n",
              "    }\n",
              "\n",
              "    .colab-df-convert {\n",
              "      background-color: #E8F0FE;\n",
              "      border: none;\n",
              "      border-radius: 50%;\n",
              "      cursor: pointer;\n",
              "      display: none;\n",
              "      fill: #1967D2;\n",
              "      height: 32px;\n",
              "      padding: 0 0 0 0;\n",
              "      width: 32px;\n",
              "    }\n",
              "\n",
              "    .colab-df-convert:hover {\n",
              "      background-color: #E2EBFA;\n",
              "      box-shadow: 0px 1px 2px rgba(60, 64, 67, 0.3), 0px 1px 3px 1px rgba(60, 64, 67, 0.15);\n",
              "      fill: #174EA6;\n",
              "    }\n",
              "\n",
              "    [theme=dark] .colab-df-convert {\n",
              "      background-color: #3B4455;\n",
              "      fill: #D2E3FC;\n",
              "    }\n",
              "\n",
              "    [theme=dark] .colab-df-convert:hover {\n",
              "      background-color: #434B5C;\n",
              "      box-shadow: 0px 1px 3px 1px rgba(0, 0, 0, 0.15);\n",
              "      filter: drop-shadow(0px 1px 2px rgba(0, 0, 0, 0.3));\n",
              "      fill: #FFFFFF;\n",
              "    }\n",
              "  </style>\n",
              "\n",
              "      <script>\n",
              "        const buttonEl =\n",
              "          document.querySelector('#df-cd80b279-d444-4e7c-9ad3-033b51d0c38c button.colab-df-convert');\n",
              "        buttonEl.style.display =\n",
              "          google.colab.kernel.accessAllowed ? 'block' : 'none';\n",
              "\n",
              "        async function convertToInteractive(key) {\n",
              "          const element = document.querySelector('#df-cd80b279-d444-4e7c-9ad3-033b51d0c38c');\n",
              "          const dataTable =\n",
              "            await google.colab.kernel.invokeFunction('convertToInteractive',\n",
              "                                                     [key], {});\n",
              "          if (!dataTable) return;\n",
              "\n",
              "          const docLinkHtml = 'Like what you see? Visit the ' +\n",
              "            '<a target=\"_blank\" href=https://colab.research.google.com/notebooks/data_table.ipynb>data table notebook</a>'\n",
              "            + ' to learn more about interactive tables.';\n",
              "          element.innerHTML = '';\n",
              "          dataTable['output_type'] = 'display_data';\n",
              "          await google.colab.output.renderOutput(dataTable, element);\n",
              "          const docLink = document.createElement('div');\n",
              "          docLink.innerHTML = docLinkHtml;\n",
              "          element.appendChild(docLink);\n",
              "        }\n",
              "      </script>\n",
              "    </div>\n",
              "  </div>\n",
              "  "
            ]
          },
          "metadata": {},
          "execution_count": 20
        }
      ]
    },
    {
      "cell_type": "markdown",
      "source": [
        "### balanceo por pesos"
      ],
      "metadata": {
        "id": "HWFSMtPOs26a"
      }
    },
    {
      "cell_type": "code",
      "source": [
        "# Muestreo de data\n",
        "from sklearn.model_selection import train_test_split\n",
        "\n",
        "X_train, X_test, y_train, y_test = train_test_split(X, y, \n",
        "                                                    stratify = y,\n",
        "                                                    test_size = 0.3,\n",
        "                                                    random_state = 123)\n"
      ],
      "metadata": {
        "id": "j7ca0VxwupBW"
      },
      "execution_count": 21,
      "outputs": []
    },
    {
      "cell_type": "code",
      "source": [
        "y_train.shape[0] - y_train.sum()"
      ],
      "metadata": {
        "colab": {
          "base_uri": "https://localhost:8080/"
        },
        "id": "T7GFotgi1xNr",
        "outputId": "92cf596b-06f3-46f9-c63b-835478aad543"
      },
      "execution_count": 22,
      "outputs": [
        {
          "output_type": "execute_result",
          "data": {
            "text/plain": [
              "51108"
            ]
          },
          "metadata": {},
          "execution_count": 22
        }
      ]
    },
    {
      "cell_type": "code",
      "source": [
        "y_train.sum()"
      ],
      "metadata": {
        "colab": {
          "base_uri": "https://localhost:8080/"
        },
        "id": "l633NoTQ1r2A",
        "outputId": "6f2cc520-4715-48c8-d608-608d18c7c634"
      },
      "execution_count": 23,
      "outputs": [
        {
          "output_type": "execute_result",
          "data": {
            "text/plain": [
              "2106"
            ]
          },
          "metadata": {},
          "execution_count": 23
        }
      ]
    },
    {
      "cell_type": "code",
      "source": [
        "(y_train.shape[0] - y_train.sum())/y_train.sum()"
      ],
      "metadata": {
        "colab": {
          "base_uri": "https://localhost:8080/"
        },
        "id": "aGMl7HzE16Ll",
        "outputId": "a44107d6-b8f2-4ad0-84d2-ddd2bb074f3c"
      },
      "execution_count": 24,
      "outputs": [
        {
          "output_type": "execute_result",
          "data": {
            "text/plain": [
              "24.267806267806268"
            ]
          },
          "metadata": {},
          "execution_count": 24
        }
      ]
    },
    {
      "cell_type": "code",
      "metadata": {
        "colab": {
          "base_uri": "https://localhost:8080/"
        },
        "id": "uIz4-gQv9I5h",
        "outputId": "bcf85ad1-bf2d-49ad-a8b7-2acfa92c8eed"
      },
      "source": [
        "# Definiendo modelo\n",
        "\n",
        "\n",
        "dtree = DecisionTreeClassifier(max_depth = 5, \n",
        "                               class_weight = {0: 1, 1: 24.267},\n",
        "                               min_samples_leaf = 0.05,\n",
        "                               random_state = 123)\n",
        "\n",
        "dtree = dtree.fit(X_train, y_train)\n",
        "    \n",
        "dtree"
      ],
      "execution_count": 25,
      "outputs": [
        {
          "output_type": "execute_result",
          "data": {
            "text/plain": [
              "DecisionTreeClassifier(class_weight={0: 1, 1: 24.267}, max_depth=5,\n",
              "                       min_samples_leaf=0.05, random_state=123)"
            ]
          },
          "metadata": {},
          "execution_count": 25
        }
      ]
    },
    {
      "cell_type": "code",
      "metadata": {
        "id": "8bZkXPOOG-4u"
      },
      "source": [
        "# Usando el modelo para predecir\n",
        "\n",
        "X_train['probability'] = dtree.predict_proba(X_train[features])[:,1]\n",
        "X_test['probability']  = dtree.predict_proba(X_test[features])[:,1]\n",
        "\n",
        "X_train['prediction'] = dtree.predict(X_train[features])\n",
        "X_test['prediction']  = dtree.predict(X_test[features])"
      ],
      "execution_count": 26,
      "outputs": []
    },
    {
      "cell_type": "code",
      "source": [
        "#Resumen de todas las métricas del modelo\n",
        "from sklearn.metrics import *\n",
        "\n",
        "metricsDtree_w = pd.DataFrame({'metric':['AUC','Gini','Accuracy','Precision','Recall','F1-score'],\n",
        "                                'dTree_w_train':[roc_auc_score(y_train, X_train.probability),\n",
        "                                        (roc_auc_score(y_train, X_train.probability)*2-1),\n",
        "                                        accuracy_score(y_train, X_train.prediction),\n",
        "                                        precision_score(y_train, X_train.prediction),\n",
        "                                        recall_score(y_train, X_train.prediction),\n",
        "                                        f1_score(y_train, X_train.prediction)],\n",
        "\n",
        "                                'dTree_w_test':[roc_auc_score(y_test, X_test.probability),\n",
        "                                        (roc_auc_score(y_test, X_test.probability)*2-1),\n",
        "                                        accuracy_score(y_test, X_test.prediction),\n",
        "                                        precision_score(y_test, X_test.prediction),\n",
        "                                        recall_score(y_test, X_test.prediction),\n",
        "                                        f1_score(y_test, X_test.prediction)]})\n",
        "\n",
        "metricsDtree_w"
      ],
      "metadata": {
        "colab": {
          "base_uri": "https://localhost:8080/",
          "height": 0
        },
        "id": "HC7kRVzRusZy",
        "outputId": "c64bbd6b-5719-4662-a8ea-5f1d07a0f7d7"
      },
      "execution_count": 27,
      "outputs": [
        {
          "output_type": "execute_result",
          "data": {
            "text/plain": [
              "      metric  dTree_w_train  dTree_w_test\n",
              "0        AUC       0.820066      0.803175\n",
              "1       Gini       0.640132      0.606351\n",
              "2   Accuracy       0.704645      0.707402\n",
              "3  Precision       0.099323      0.095472\n",
              "4     Recall       0.801045      0.754989\n",
              "5   F1-score       0.176732      0.169508"
            ],
            "text/html": [
              "\n",
              "  <div id=\"df-3c3b531c-3851-46c3-8c11-b299fe892650\">\n",
              "    <div class=\"colab-df-container\">\n",
              "      <div>\n",
              "<style scoped>\n",
              "    .dataframe tbody tr th:only-of-type {\n",
              "        vertical-align: middle;\n",
              "    }\n",
              "\n",
              "    .dataframe tbody tr th {\n",
              "        vertical-align: top;\n",
              "    }\n",
              "\n",
              "    .dataframe thead th {\n",
              "        text-align: right;\n",
              "    }\n",
              "</style>\n",
              "<table border=\"1\" class=\"dataframe\">\n",
              "  <thead>\n",
              "    <tr style=\"text-align: right;\">\n",
              "      <th></th>\n",
              "      <th>metric</th>\n",
              "      <th>dTree_w_train</th>\n",
              "      <th>dTree_w_test</th>\n",
              "    </tr>\n",
              "  </thead>\n",
              "  <tbody>\n",
              "    <tr>\n",
              "      <th>0</th>\n",
              "      <td>AUC</td>\n",
              "      <td>0.820066</td>\n",
              "      <td>0.803175</td>\n",
              "    </tr>\n",
              "    <tr>\n",
              "      <th>1</th>\n",
              "      <td>Gini</td>\n",
              "      <td>0.640132</td>\n",
              "      <td>0.606351</td>\n",
              "    </tr>\n",
              "    <tr>\n",
              "      <th>2</th>\n",
              "      <td>Accuracy</td>\n",
              "      <td>0.704645</td>\n",
              "      <td>0.707402</td>\n",
              "    </tr>\n",
              "    <tr>\n",
              "      <th>3</th>\n",
              "      <td>Precision</td>\n",
              "      <td>0.099323</td>\n",
              "      <td>0.095472</td>\n",
              "    </tr>\n",
              "    <tr>\n",
              "      <th>4</th>\n",
              "      <td>Recall</td>\n",
              "      <td>0.801045</td>\n",
              "      <td>0.754989</td>\n",
              "    </tr>\n",
              "    <tr>\n",
              "      <th>5</th>\n",
              "      <td>F1-score</td>\n",
              "      <td>0.176732</td>\n",
              "      <td>0.169508</td>\n",
              "    </tr>\n",
              "  </tbody>\n",
              "</table>\n",
              "</div>\n",
              "      <button class=\"colab-df-convert\" onclick=\"convertToInteractive('df-3c3b531c-3851-46c3-8c11-b299fe892650')\"\n",
              "              title=\"Convert this dataframe to an interactive table.\"\n",
              "              style=\"display:none;\">\n",
              "        \n",
              "  <svg xmlns=\"http://www.w3.org/2000/svg\" height=\"24px\"viewBox=\"0 0 24 24\"\n",
              "       width=\"24px\">\n",
              "    <path d=\"M0 0h24v24H0V0z\" fill=\"none\"/>\n",
              "    <path d=\"M18.56 5.44l.94 2.06.94-2.06 2.06-.94-2.06-.94-.94-2.06-.94 2.06-2.06.94zm-11 1L8.5 8.5l.94-2.06 2.06-.94-2.06-.94L8.5 2.5l-.94 2.06-2.06.94zm10 10l.94 2.06.94-2.06 2.06-.94-2.06-.94-.94-2.06-.94 2.06-2.06.94z\"/><path d=\"M17.41 7.96l-1.37-1.37c-.4-.4-.92-.59-1.43-.59-.52 0-1.04.2-1.43.59L10.3 9.45l-7.72 7.72c-.78.78-.78 2.05 0 2.83L4 21.41c.39.39.9.59 1.41.59.51 0 1.02-.2 1.41-.59l7.78-7.78 2.81-2.81c.8-.78.8-2.07 0-2.86zM5.41 20L4 18.59l7.72-7.72 1.47 1.35L5.41 20z\"/>\n",
              "  </svg>\n",
              "      </button>\n",
              "      \n",
              "  <style>\n",
              "    .colab-df-container {\n",
              "      display:flex;\n",
              "      flex-wrap:wrap;\n",
              "      gap: 12px;\n",
              "    }\n",
              "\n",
              "    .colab-df-convert {\n",
              "      background-color: #E8F0FE;\n",
              "      border: none;\n",
              "      border-radius: 50%;\n",
              "      cursor: pointer;\n",
              "      display: none;\n",
              "      fill: #1967D2;\n",
              "      height: 32px;\n",
              "      padding: 0 0 0 0;\n",
              "      width: 32px;\n",
              "    }\n",
              "\n",
              "    .colab-df-convert:hover {\n",
              "      background-color: #E2EBFA;\n",
              "      box-shadow: 0px 1px 2px rgba(60, 64, 67, 0.3), 0px 1px 3px 1px rgba(60, 64, 67, 0.15);\n",
              "      fill: #174EA6;\n",
              "    }\n",
              "\n",
              "    [theme=dark] .colab-df-convert {\n",
              "      background-color: #3B4455;\n",
              "      fill: #D2E3FC;\n",
              "    }\n",
              "\n",
              "    [theme=dark] .colab-df-convert:hover {\n",
              "      background-color: #434B5C;\n",
              "      box-shadow: 0px 1px 3px 1px rgba(0, 0, 0, 0.15);\n",
              "      filter: drop-shadow(0px 1px 2px rgba(0, 0, 0, 0.3));\n",
              "      fill: #FFFFFF;\n",
              "    }\n",
              "  </style>\n",
              "\n",
              "      <script>\n",
              "        const buttonEl =\n",
              "          document.querySelector('#df-3c3b531c-3851-46c3-8c11-b299fe892650 button.colab-df-convert');\n",
              "        buttonEl.style.display =\n",
              "          google.colab.kernel.accessAllowed ? 'block' : 'none';\n",
              "\n",
              "        async function convertToInteractive(key) {\n",
              "          const element = document.querySelector('#df-3c3b531c-3851-46c3-8c11-b299fe892650');\n",
              "          const dataTable =\n",
              "            await google.colab.kernel.invokeFunction('convertToInteractive',\n",
              "                                                     [key], {});\n",
              "          if (!dataTable) return;\n",
              "\n",
              "          const docLinkHtml = 'Like what you see? Visit the ' +\n",
              "            '<a target=\"_blank\" href=https://colab.research.google.com/notebooks/data_table.ipynb>data table notebook</a>'\n",
              "            + ' to learn more about interactive tables.';\n",
              "          element.innerHTML = '';\n",
              "          dataTable['output_type'] = 'display_data';\n",
              "          await google.colab.output.renderOutput(dataTable, element);\n",
              "          const docLink = document.createElement('div');\n",
              "          docLink.innerHTML = docLinkHtml;\n",
              "          element.appendChild(docLink);\n",
              "        }\n",
              "      </script>\n",
              "    </div>\n",
              "  </div>\n",
              "  "
            ]
          },
          "metadata": {},
          "execution_count": 27
        }
      ]
    },
    {
      "cell_type": "code",
      "source": [
        "# Definiendo modelo\n",
        "\n",
        "dtree_unb = DecisionTreeClassifier(max_depth = 5, \n",
        "                               min_samples_leaf = 0.05,\n",
        "                               random_state = 123)\n",
        "\n",
        "dtree_unb = dtree_unb.fit(X_train[features], y_train)\n",
        "    \n",
        "# Usando el modelo para predecir\n",
        "\n",
        "X_train['probability_unb'] = dtree_unb.predict_proba(X_train[features])[:,1]\n",
        "X_test['probability_unb']  = dtree_unb.predict_proba(X_test[features])[:,1]\n",
        "\n",
        "X_train['prediction_unb'] = dtree_unb.predict(X_train[features])\n",
        "X_test['prediction_unb']  = dtree_unb.predict(X_test[features])\n",
        "\n",
        "#Resumen de todas las métricas del modelo\n",
        "metricsDtree_unb = pd.DataFrame({'metric':['AUC','Gini','Accuracy','Precision','Recall','F1-score'],\n",
        "                                'dTree_unb_train':[roc_auc_score(y_train, X_train.probability_unb),\n",
        "                                        (roc_auc_score(y_train, X_train.probability_unb)*2-1),\n",
        "                                        accuracy_score(y_train, X_train.prediction_unb),\n",
        "                                        precision_score(y_train, X_train.prediction_unb),\n",
        "                                        recall_score(y_train, X_train.prediction_unb),\n",
        "                                        f1_score(y_train, X_train.prediction_unb)],\n",
        "\n",
        "                                'dTree_unb_test':[roc_auc_score(y_test, X_test.probability_unb),\n",
        "                                        (roc_auc_score(y_test, X_test.probability_unb)*2-1),\n",
        "                                        accuracy_score(y_test, X_test.prediction_unb),\n",
        "                                        precision_score(y_test, X_test.prediction_unb),\n",
        "                                        recall_score(y_test, X_test.prediction_unb),\n",
        "                                        f1_score(y_test, X_test.prediction_unb)]})\n"
      ],
      "metadata": {
        "id": "JXaUiMmD-yTE",
        "outputId": "b5b3e336-0c45-478f-d48b-4fba1a9ea68e",
        "colab": {
          "base_uri": "https://localhost:8080/"
        }
      },
      "execution_count": 28,
      "outputs": [
        {
          "output_type": "stream",
          "name": "stderr",
          "text": [
            "/usr/local/lib/python3.7/dist-packages/sklearn/metrics/_classification.py:1318: UndefinedMetricWarning: Precision is ill-defined and being set to 0.0 due to no predicted samples. Use `zero_division` parameter to control this behavior.\n",
            "  _warn_prf(average, modifier, msg_start, len(result))\n",
            "/usr/local/lib/python3.7/dist-packages/sklearn/metrics/_classification.py:1318: UndefinedMetricWarning: Precision is ill-defined and being set to 0.0 due to no predicted samples. Use `zero_division` parameter to control this behavior.\n",
            "  _warn_prf(average, modifier, msg_start, len(result))\n"
          ]
        }
      ]
    },
    {
      "cell_type": "code",
      "source": [
        "temp = pd.merge(metricsDtree_smote, metricsDtree_w, on = ['metric'], how= 'left')\n",
        "pd.merge(temp, metricsDtree_unb, on = ['metric'], how= 'left')\n",
        "\n"
      ],
      "metadata": {
        "colab": {
          "base_uri": "https://localhost:8080/",
          "height": 0
        },
        "id": "rJpM3Q17u3DP",
        "outputId": "5f266bb0-c706-4ef5-bbe2-b459722ae65c"
      },
      "execution_count": 29,
      "outputs": [
        {
          "output_type": "execute_result",
          "data": {
            "text/plain": [
              "      metric  dTree_smote_train  dTree_smote_test  dTree_w_train  \\\n",
              "0        AUC           0.800894          0.799110       0.820066   \n",
              "1       Gini           0.601789          0.598221       0.640132   \n",
              "2   Accuracy           0.783309          0.788389       0.704645   \n",
              "3  Precision           0.112491          0.115143       0.099323   \n",
              "4     Recall           0.649573          0.650776       0.801045   \n",
              "5   F1-score           0.191771          0.195667       0.176732   \n",
              "\n",
              "   dTree_w_test  dTree_unb_train  dTree_unb_test  \n",
              "0      0.803175         0.823127        0.804982  \n",
              "1      0.606351         0.646253        0.609964  \n",
              "2      0.707402         0.960424        0.960449  \n",
              "3      0.095472         0.000000        0.000000  \n",
              "4      0.754989         0.000000        0.000000  \n",
              "5      0.169508         0.000000        0.000000  "
            ],
            "text/html": [
              "\n",
              "  <div id=\"df-748ef5db-0da2-4823-b9a5-0f95d5ca9340\">\n",
              "    <div class=\"colab-df-container\">\n",
              "      <div>\n",
              "<style scoped>\n",
              "    .dataframe tbody tr th:only-of-type {\n",
              "        vertical-align: middle;\n",
              "    }\n",
              "\n",
              "    .dataframe tbody tr th {\n",
              "        vertical-align: top;\n",
              "    }\n",
              "\n",
              "    .dataframe thead th {\n",
              "        text-align: right;\n",
              "    }\n",
              "</style>\n",
              "<table border=\"1\" class=\"dataframe\">\n",
              "  <thead>\n",
              "    <tr style=\"text-align: right;\">\n",
              "      <th></th>\n",
              "      <th>metric</th>\n",
              "      <th>dTree_smote_train</th>\n",
              "      <th>dTree_smote_test</th>\n",
              "      <th>dTree_w_train</th>\n",
              "      <th>dTree_w_test</th>\n",
              "      <th>dTree_unb_train</th>\n",
              "      <th>dTree_unb_test</th>\n",
              "    </tr>\n",
              "  </thead>\n",
              "  <tbody>\n",
              "    <tr>\n",
              "      <th>0</th>\n",
              "      <td>AUC</td>\n",
              "      <td>0.800894</td>\n",
              "      <td>0.799110</td>\n",
              "      <td>0.820066</td>\n",
              "      <td>0.803175</td>\n",
              "      <td>0.823127</td>\n",
              "      <td>0.804982</td>\n",
              "    </tr>\n",
              "    <tr>\n",
              "      <th>1</th>\n",
              "      <td>Gini</td>\n",
              "      <td>0.601789</td>\n",
              "      <td>0.598221</td>\n",
              "      <td>0.640132</td>\n",
              "      <td>0.606351</td>\n",
              "      <td>0.646253</td>\n",
              "      <td>0.609964</td>\n",
              "    </tr>\n",
              "    <tr>\n",
              "      <th>2</th>\n",
              "      <td>Accuracy</td>\n",
              "      <td>0.783309</td>\n",
              "      <td>0.788389</td>\n",
              "      <td>0.704645</td>\n",
              "      <td>0.707402</td>\n",
              "      <td>0.960424</td>\n",
              "      <td>0.960449</td>\n",
              "    </tr>\n",
              "    <tr>\n",
              "      <th>3</th>\n",
              "      <td>Precision</td>\n",
              "      <td>0.112491</td>\n",
              "      <td>0.115143</td>\n",
              "      <td>0.099323</td>\n",
              "      <td>0.095472</td>\n",
              "      <td>0.000000</td>\n",
              "      <td>0.000000</td>\n",
              "    </tr>\n",
              "    <tr>\n",
              "      <th>4</th>\n",
              "      <td>Recall</td>\n",
              "      <td>0.649573</td>\n",
              "      <td>0.650776</td>\n",
              "      <td>0.801045</td>\n",
              "      <td>0.754989</td>\n",
              "      <td>0.000000</td>\n",
              "      <td>0.000000</td>\n",
              "    </tr>\n",
              "    <tr>\n",
              "      <th>5</th>\n",
              "      <td>F1-score</td>\n",
              "      <td>0.191771</td>\n",
              "      <td>0.195667</td>\n",
              "      <td>0.176732</td>\n",
              "      <td>0.169508</td>\n",
              "      <td>0.000000</td>\n",
              "      <td>0.000000</td>\n",
              "    </tr>\n",
              "  </tbody>\n",
              "</table>\n",
              "</div>\n",
              "      <button class=\"colab-df-convert\" onclick=\"convertToInteractive('df-748ef5db-0da2-4823-b9a5-0f95d5ca9340')\"\n",
              "              title=\"Convert this dataframe to an interactive table.\"\n",
              "              style=\"display:none;\">\n",
              "        \n",
              "  <svg xmlns=\"http://www.w3.org/2000/svg\" height=\"24px\"viewBox=\"0 0 24 24\"\n",
              "       width=\"24px\">\n",
              "    <path d=\"M0 0h24v24H0V0z\" fill=\"none\"/>\n",
              "    <path d=\"M18.56 5.44l.94 2.06.94-2.06 2.06-.94-2.06-.94-.94-2.06-.94 2.06-2.06.94zm-11 1L8.5 8.5l.94-2.06 2.06-.94-2.06-.94L8.5 2.5l-.94 2.06-2.06.94zm10 10l.94 2.06.94-2.06 2.06-.94-2.06-.94-.94-2.06-.94 2.06-2.06.94z\"/><path d=\"M17.41 7.96l-1.37-1.37c-.4-.4-.92-.59-1.43-.59-.52 0-1.04.2-1.43.59L10.3 9.45l-7.72 7.72c-.78.78-.78 2.05 0 2.83L4 21.41c.39.39.9.59 1.41.59.51 0 1.02-.2 1.41-.59l7.78-7.78 2.81-2.81c.8-.78.8-2.07 0-2.86zM5.41 20L4 18.59l7.72-7.72 1.47 1.35L5.41 20z\"/>\n",
              "  </svg>\n",
              "      </button>\n",
              "      \n",
              "  <style>\n",
              "    .colab-df-container {\n",
              "      display:flex;\n",
              "      flex-wrap:wrap;\n",
              "      gap: 12px;\n",
              "    }\n",
              "\n",
              "    .colab-df-convert {\n",
              "      background-color: #E8F0FE;\n",
              "      border: none;\n",
              "      border-radius: 50%;\n",
              "      cursor: pointer;\n",
              "      display: none;\n",
              "      fill: #1967D2;\n",
              "      height: 32px;\n",
              "      padding: 0 0 0 0;\n",
              "      width: 32px;\n",
              "    }\n",
              "\n",
              "    .colab-df-convert:hover {\n",
              "      background-color: #E2EBFA;\n",
              "      box-shadow: 0px 1px 2px rgba(60, 64, 67, 0.3), 0px 1px 3px 1px rgba(60, 64, 67, 0.15);\n",
              "      fill: #174EA6;\n",
              "    }\n",
              "\n",
              "    [theme=dark] .colab-df-convert {\n",
              "      background-color: #3B4455;\n",
              "      fill: #D2E3FC;\n",
              "    }\n",
              "\n",
              "    [theme=dark] .colab-df-convert:hover {\n",
              "      background-color: #434B5C;\n",
              "      box-shadow: 0px 1px 3px 1px rgba(0, 0, 0, 0.15);\n",
              "      filter: drop-shadow(0px 1px 2px rgba(0, 0, 0, 0.3));\n",
              "      fill: #FFFFFF;\n",
              "    }\n",
              "  </style>\n",
              "\n",
              "      <script>\n",
              "        const buttonEl =\n",
              "          document.querySelector('#df-748ef5db-0da2-4823-b9a5-0f95d5ca9340 button.colab-df-convert');\n",
              "        buttonEl.style.display =\n",
              "          google.colab.kernel.accessAllowed ? 'block' : 'none';\n",
              "\n",
              "        async function convertToInteractive(key) {\n",
              "          const element = document.querySelector('#df-748ef5db-0da2-4823-b9a5-0f95d5ca9340');\n",
              "          const dataTable =\n",
              "            await google.colab.kernel.invokeFunction('convertToInteractive',\n",
              "                                                     [key], {});\n",
              "          if (!dataTable) return;\n",
              "\n",
              "          const docLinkHtml = 'Like what you see? Visit the ' +\n",
              "            '<a target=\"_blank\" href=https://colab.research.google.com/notebooks/data_table.ipynb>data table notebook</a>'\n",
              "            + ' to learn more about interactive tables.';\n",
              "          element.innerHTML = '';\n",
              "          dataTable['output_type'] = 'display_data';\n",
              "          await google.colab.output.renderOutput(dataTable, element);\n",
              "          const docLink = document.createElement('div');\n",
              "          docLink.innerHTML = docLinkHtml;\n",
              "          element.appendChild(docLink);\n",
              "        }\n",
              "      </script>\n",
              "    </div>\n",
              "  </div>\n",
              "  "
            ]
          },
          "metadata": {},
          "execution_count": 29
        }
      ]
    },
    {
      "cell_type": "code",
      "source": [
        "X_train['TARGET'] = y_train"
      ],
      "metadata": {
        "id": "2c1JABVUBU_3"
      },
      "execution_count": 30,
      "outputs": []
    },
    {
      "cell_type": "code",
      "source": [
        "X_train.probability_unb.hist(bins = 30)"
      ],
      "metadata": {
        "id": "K6wSrnhr_8Oo",
        "outputId": "bc12a742-ed50-4b0f-cdea-2afba5a1e386",
        "colab": {
          "base_uri": "https://localhost:8080/",
          "height": 0
        }
      },
      "execution_count": 31,
      "outputs": [
        {
          "output_type": "execute_result",
          "data": {
            "text/plain": [
              "<matplotlib.axes._subplots.AxesSubplot at 0x7f9c310a2290>"
            ]
          },
          "metadata": {},
          "execution_count": 31
        },
        {
          "output_type": "display_data",
          "data": {
            "text/plain": [
              "<Figure size 720x432 with 1 Axes>"
            ],
            "image/png": "[encoded data removed]"
          },
          "metadata": {}
        }
      ]
    },
    {
      "cell_type": "code",
      "source": [
        "X_train.loc[X_train.probability_unb < 0.04].TARGET.mean()"
      ],
      "metadata": {
        "id": "NvCNlaCkBp2w",
        "outputId": "19d6727c-7851-4a80-c098-5702a070b00c",
        "colab": {
          "base_uri": "https://localhost:8080/"
        }
      },
      "execution_count": 32,
      "outputs": [
        {
          "output_type": "execute_result",
          "data": {
            "text/plain": [
              "0.016576626494897724"
            ]
          },
          "metadata": {},
          "execution_count": 32
        }
      ]
    },
    {
      "cell_type": "code",
      "source": [
        "X_train.probability.hist(bins = 30)"
      ],
      "metadata": {
        "id": "OuEUEOP5-kj1",
        "outputId": "5dd45940-98b6-4034-ab8f-fa4ecf872997",
        "colab": {
          "base_uri": "https://localhost:8080/",
          "height": 0
        }
      },
      "execution_count": 33,
      "outputs": [
        {
          "output_type": "execute_result",
          "data": {
            "text/plain": [
              "<matplotlib.axes._subplots.AxesSubplot at 0x7f9c3133b710>"
            ]
          },
          "metadata": {},
          "execution_count": 33
        },
        {
          "output_type": "display_data",
          "data": {
            "text/plain": [
              "<Figure size 720x432 with 1 Axes>"
            ],
            "image/png": "[encoded data removed]"
          },
          "metadata": {}
        }
      ]
    },
    {
      "cell_type": "code",
      "source": [
        "X_train.loc[X_train.probability < 0.04].TARGET.mean()"
      ],
      "metadata": {
        "id": "PXXCMCuhA8cx",
        "outputId": "096b8c4f-f2e7-4dc1-ebfb-2a39ab6a434c",
        "colab": {
          "base_uri": "https://localhost:8080/"
        }
      },
      "execution_count": 34,
      "outputs": [
        {
          "output_type": "execute_result",
          "data": {
            "text/plain": [
              "0.0007365126127784938"
            ]
          },
          "metadata": {},
          "execution_count": 34
        }
      ]
    },
    {
      "cell_type": "markdown",
      "metadata": {
        "id": "-12F-kygbFlA"
      },
      "source": [
        "# Cross Validation"
      ]
    },
    {
      "cell_type": "markdown",
      "metadata": {
        "id": "017Hk3aQ1gxe"
      },
      "source": [
        "\n",
        "\n",
        "<b>evaluar el desempeño del estimador</b>\n",
        " \n",
        " ---\n",
        "\n",
        "Aprender los parámetros de una función de predicción y probarlos con los mismos datos es un error metodológico: un modelo que simplemente repetiría las etiquetas de las muestras que acaba de ver tendría una puntuación perfecta, pero no podría predecir nada útil datos no vistos.\n",
        "Esta situación se llama Overfitting. Para evitarlo, es una práctica común cuando se realiza un modelo de machine learning (supervisado) mantener parte de los datos disponibles como un conjunto de pruebas X_test, y_test. \n"
      ]
    },
    {
      "cell_type": "markdown",
      "metadata": {
        "id": "B-8dUcfU1rBK"
      },
      "source": [
        "\n",
        "Al evaluar diferentes configuraciones (\"hiperparámetros\") para estimadores, todavía existe el riesgo de Overfitting en el conjunto de prueba porque los parámetros se pueden ajustar hasta que el estimador funcione de manera óptima. De esta manera, el conocimiento sobre el conjunto de pruebas puede \"filtrarse\" en el modelo y las métricas de evaluación ya no informan sobre el desempeño de generalización. Para resolver este problema, se puede presentar otra parte del conjunto de datos como el llamado \"conjunto de validación\": el entrenamiento continúa en el conjunto de entrenamiento, después de lo cual se realiza la evaluación en el conjunto de validación y cuando el experimento parece tener éxito , la evaluación final se puede realizar en el equipo de prueba.\n",
        " "
      ]
    },
    {
      "cell_type": "markdown",
      "metadata": {
        "id": "4a9DL3JGxmf_"
      },
      "source": [
        "\n",
        "\n",
        " \n",
        "Sin embargo, al dividir los datos disponibles en tres conjuntos, reducimos drásticamente la cantidad de muestras que se pueden usar para aprender el modelo, y los resultados pueden depender de una elección aleatoria particular para el par de conjuntos (entrenamiento, validación).\n",
        "\n",
        "\n",
        "Una solución a este problema es un procedimiento llamado validación cruzada. Un conjunto de prueba aún debe mantenerse para la evaluación final, pero el conjunto de validación ya no es necesario al hacer CV. En el enfoque básico, llamado k-fold CV, el conjunto de entrenamiento se divide en k conjuntos más pequeños . Se sigue el siguiente procedimiento para cada uno de los k \"folds\":\n",
        "\n",
        "\n",
        "\n",
        "\n",
        "\n",
        "\n",
        "\n",
        "1.   Se entrena un modelo utilizando los folds como datos de entrenamiento\n",
        "\n",
        "2.   El modelo resultante se valida en la parte restante de los datos (es decir, se utiliza como un conjunto de prueba para calcular una medida de rendimiento como la precisión)\n",
        "\n",
        "\n",
        "<img src=\"https://scikit-learn.org/stable/_images/grid_search_cross_validation.png\" alt=\"HTML5 Icon\" style=\"width: 400px; height: 250px;\">\n",
        "\n",
        "---\n",
        "\n",
        "La medida de rendimiento informada por la validación cruzada de k veces es el promedio de los valores calculados en el ciclo. Este enfoque puede ser computacionalmente costoso, pero no desperdicia demasiados datos (como es el caso cuando se fija un conjunto de validación arbitrario), lo cual es una gran ventaja en problemas como la inferencia inversa donde el número de muestras es muy pequeño.\n",
        "\n",
        "---\n",
        "\n",
        "\n",
        "<strong>Puede consultar este [link](https://scikit-learn.org/stable/modules/cross_validation.html) para leer más sobre CrossValidation.</strong>\n",
        "\n",
        "\n",
        "\n",
        "\n",
        "\n"
      ]
    },
    {
      "cell_type": "code",
      "metadata": {
        "id": "lsgndgPM_0pW"
      },
      "source": [
        "# Cargar librerías para grid search\n",
        "\n",
        "from sklearn.model_selection import GridSearchCV\n",
        "from sklearn.metrics import *\n"
      ],
      "execution_count": 35,
      "outputs": []
    },
    {
      "cell_type": "code",
      "metadata": {
        "id": "WcPPbO8XpsMV"
      },
      "source": [
        "# Definiendo los parámetros a probar\n",
        "\n",
        "parameters = {'max_depth': np.linspace(2, 15, 14),\n",
        "              'min_samples_leaf' : np.array([0.01, 0.025, 0.05, 0.1, 0.2])}\n"
      ],
      "execution_count": 36,
      "outputs": []
    },
    {
      "cell_type": "code",
      "metadata": {
        "id": "JXR3A7CK_165"
      },
      "source": [
        "# Definiendo modelo\n",
        "\n",
        "dtree = DecisionTreeClassifier(random_state = 123)\n"
      ],
      "execution_count": 37,
      "outputs": []
    },
    {
      "cell_type": "code",
      "metadata": {
        "id": "gJmYXBZXrrOc",
        "colab": {
          "base_uri": "https://localhost:8080/"
        },
        "outputId": "0277765c-f721-4992-bd5c-5f2499ab5137"
      },
      "source": [
        "# Ejecutando grid search con 5 folds\n",
        "\n",
        "GridSearch = GridSearchCV(dtree, parameters, cv = 5, verbose = 5, n_jobs = 5,\n",
        "                          refit = 'AUC',\n",
        "                          return_train_score = True)\n",
        "\n",
        "GridSearch.fit(X_train_res, y_train_res.ravel())\n",
        "#elapsed:  4.6min finished\n"
      ],
      "execution_count": 38,
      "outputs": [
        {
          "output_type": "stream",
          "name": "stdout",
          "text": [
            "Fitting 5 folds for each of 70 candidates, totalling 350 fits\n"
          ]
        },
        {
          "output_type": "execute_result",
          "data": {
            "text/plain": [
              "GridSearchCV(cv=5, estimator=DecisionTreeClassifier(random_state=123), n_jobs=5,\n",
              "             param_grid={'max_depth': array([ 2.,  3.,  4.,  5.,  6.,  7.,  8.,  9., 10., 11., 12., 13., 14.,\n",
              "       15.]),\n",
              "                         'min_samples_leaf': array([0.01 , 0.025, 0.05 , 0.1  , 0.2  ])},\n",
              "             refit='AUC', return_train_score=True, verbose=5)"
            ]
          },
          "metadata": {},
          "execution_count": 38
        }
      ]
    },
    {
      "cell_type": "code",
      "metadata": {
        "id": "6Ed2TLBPwhdq",
        "colab": {
          "base_uri": "https://localhost:8080/"
        },
        "outputId": "db9887f5-2885-4013-bccb-0a5460e2cfc5"
      },
      "source": [
        "GridSearch.best_params_"
      ],
      "execution_count": 39,
      "outputs": [
        {
          "output_type": "execute_result",
          "data": {
            "text/plain": [
              "{'max_depth': 8.0, 'min_samples_leaf': 0.01}"
            ]
          },
          "metadata": {},
          "execution_count": 39
        }
      ]
    },
    {
      "cell_type": "code",
      "metadata": {
        "id": "Beqga9lp3yKn"
      },
      "source": [
        "def plot_search_results(grid):\n",
        "    \"\"\"\n",
        "    Params: \n",
        "        grid: A trained GridSearchCV object.\n",
        "    \"\"\"\n",
        "    ## Results from grid search\n",
        "    results = grid.cv_results_\n",
        "    means_test = results['mean_test_score']\n",
        "    stds_test = results['std_test_score']\n",
        "    means_train = results['mean_train_score']\n",
        "    stds_train = results['std_train_score']\n",
        "\n",
        "    ## Getting indexes of values per hyper-parameter\n",
        "    masks=[]\n",
        "    masks_names= list(grid.best_params_.keys())\n",
        "    for p_k, p_v in grid.best_params_.items():\n",
        "        masks.append(list(results['param_'+p_k].data==p_v))\n",
        "\n",
        "    params=grid.param_grid\n",
        "\n",
        "    ## Ploting results\n",
        "    fig, ax = plt.subplots(1,len(params),sharex='none', sharey='all',figsize=(20,5))\n",
        "    fig.suptitle('Score per parameter')\n",
        "    fig.text(0.04, 0.5, 'MEAN SCORE', va='center', rotation='vertical')\n",
        "    pram_preformace_in_best = {}\n",
        "    for i, p in enumerate(masks_names):\n",
        "        m = np.stack(masks[:i] + masks[i+1:])\n",
        "        pram_preformace_in_best\n",
        "        best_parms_mask = m.all(axis=0)\n",
        "        best_index = np.where(best_parms_mask)[0]\n",
        "        x = np.array(params[p])\n",
        "        y_1 = np.array(means_test[best_index])\n",
        "        e_1 = np.array(stds_test[best_index])\n",
        "        y_2 = np.array(means_train[best_index])\n",
        "        e_2 = np.array(stds_train[best_index])\n",
        "        ax[i].errorbar(x, y_1, e_1, linestyle='--', marker='o', label='test')\n",
        "        ax[i].errorbar(x, y_2, e_2, linestyle='-', marker='^',label='train' )\n",
        "        ax[i].set_xlabel(p.upper())\n",
        "\n",
        "    plt.legend()\n",
        "    plt.show()"
      ],
      "execution_count": 40,
      "outputs": []
    },
    {
      "cell_type": "code",
      "metadata": {
        "id": "MNRLjWmi4TH_",
        "colab": {
          "base_uri": "https://localhost:8080/",
          "height": 323
        },
        "outputId": "e8f5a7fd-8587-4ba8-832c-f405ac85d257"
      },
      "source": [
        "\n",
        "# Calling Method \n",
        "plot_search_results(GridSearch)\n"
      ],
      "execution_count": 41,
      "outputs": [
        {
          "output_type": "display_data",
          "data": {
            "text/plain": [
              "<Figure size 1440x360 with 2 Axes>"
            ],
            "image/png": "[encoded data removed]"
          },
          "metadata": {}
        }
      ]
    },
    {
      "cell_type": "code",
      "metadata": {
        "id": "8ma6g_3-wxD5",
        "colab": {
          "base_uri": "https://localhost:8080/"
        },
        "outputId": "f7065dea-29c0-4109-9c2d-9e41316132bf"
      },
      "source": [
        "# Entrenamiento Óptimizado\n",
        "\n",
        "dtree = DecisionTreeClassifier(max_depth = 6, \n",
        "                               min_samples_leaf = 0.01,\n",
        "                               random_state = 123)\n",
        "\n",
        "dtree = dtree.fit(X_train_res, y_train_res)\n",
        "    \n",
        "dtree"
      ],
      "execution_count": 42,
      "outputs": [
        {
          "output_type": "execute_result",
          "data": {
            "text/plain": [
              "DecisionTreeClassifier(max_depth=6, min_samples_leaf=0.01, random_state=123)"
            ]
          },
          "metadata": {},
          "execution_count": 42
        }
      ]
    },
    {
      "cell_type": "code",
      "metadata": {
        "id": "VcJQAjQkAt06",
        "outputId": "7bc4cf98-7817-401d-dd42-7738fbc60f50",
        "colab": {
          "base_uri": "https://localhost:8080/"
        }
      },
      "source": [
        "# Graficando resultados\n",
        "\n",
        "from sklearn.tree import export_graphviz\n",
        "from pydotplus import graph_from_dot_data\n",
        "\n",
        "dot_data = export_graphviz(dtree,\n",
        "                           feature_names = features,\n",
        "                           filled = True,\n",
        "                           rounded = True,\n",
        "                           special_characters = True)\n",
        "\n",
        "graph = graph_from_dot_data(dot_data)\n",
        "graph.write_png('tree.png')\n",
        "print(graph)"
      ],
      "execution_count": 43,
      "outputs": [
        {
          "output_type": "stream",
          "name": "stdout",
          "text": [
            "<pydotplus.graphviz.Dot object at 0x7f9c30ac0dd0>\n"
          ]
        }
      ]
    },
    {
      "cell_type": "markdown",
      "metadata": {
        "id": "Nx2FhGCj139S"
      },
      "source": [
        "<b>Bondad de ajuste</b>"
      ]
    },
    {
      "cell_type": "code",
      "metadata": {
        "id": "ZRo01-D713Lv"
      },
      "source": [
        "# Usando el modelo para predecir\n",
        "\n",
        "X_train['probability'] = dtree.predict_proba(X_train[features])[:,1]\n",
        "X_test['probability']  = dtree.predict_proba(X_test[features])[:,1]\n",
        "\n",
        "X_train['prediction'] = dtree.predict(X_train[features])\n",
        "X_test['prediction']  = dtree.predict(X_test[features])\n"
      ],
      "execution_count": 44,
      "outputs": []
    },
    {
      "cell_type": "code",
      "metadata": {
        "id": "H_1Osv5N1_kO",
        "colab": {
          "base_uri": "https://localhost:8080/",
          "height": 238
        },
        "outputId": "bd0b3f6f-d89b-4ecc-ca80-c19c33624a28"
      },
      "source": [
        "#Resumen de todas las métricas del modelo\n",
        "\n",
        "metricsDtreeOpt = pd.DataFrame({'metric':['AUC','Gini','Accuracy','Precision','Recall','F1-score'],\n",
        "                                'dTree_train':[roc_auc_score(y_train, X_train.probability),\n",
        "                                        (roc_auc_score(y_train, X_train.probability)*2-1),\n",
        "                                        accuracy_score(y_train, X_train.prediction),\n",
        "                                        precision_score(y_train, X_train.prediction),\n",
        "                                        recall_score(y_train, X_train.prediction),\n",
        "                                        f1_score(y_train, X_train.prediction)],\n",
        "\n",
        "                                'dTree_test':[roc_auc_score(y_test, X_test.probability),\n",
        "                                        (roc_auc_score(y_test, X_test.probability)*2-1),\n",
        "                                        accuracy_score(y_test, X_test.prediction),\n",
        "                                        precision_score(y_test, X_test.prediction),\n",
        "                                        recall_score(y_test, X_test.prediction),\n",
        "                                        f1_score(y_test, X_test.prediction)]})\n",
        "\n",
        "metricsDtreeOpt          "
      ],
      "execution_count": 45,
      "outputs": [
        {
          "output_type": "execute_result",
          "data": {
            "text/plain": [
              "      metric  dTree_train  dTree_test\n",
              "0        AUC     0.808261    0.798188\n",
              "1       Gini     0.616523    0.596376\n",
              "2   Accuracy     0.819127    0.818776\n",
              "3  Precision     0.133041    0.129727\n",
              "4     Recall     0.647198    0.627494\n",
              "5   F1-score     0.220711    0.215005"
            ],
            "text/html": [
              "\n",
              "  <div id=\"df-08d06706-2856-4f65-add8-d5124846e29d\">\n",
              "    <div class=\"colab-df-container\">\n",
              "      <div>\n",
              "<style scoped>\n",
              "    .dataframe tbody tr th:only-of-type {\n",
              "        vertical-align: middle;\n",
              "    }\n",
              "\n",
              "    .dataframe tbody tr th {\n",
              "        vertical-align: top;\n",
              "    }\n",
              "\n",
              "    .dataframe thead th {\n",
              "        text-align: right;\n",
              "    }\n",
              "</style>\n",
              "<table border=\"1\" class=\"dataframe\">\n",
              "  <thead>\n",
              "    <tr style=\"text-align: right;\">\n",
              "      <th></th>\n",
              "      <th>metric</th>\n",
              "      <th>dTree_train</th>\n",
              "      <th>dTree_test</th>\n",
              "    </tr>\n",
              "  </thead>\n",
              "  <tbody>\n",
              "    <tr>\n",
              "      <th>0</th>\n",
              "      <td>AUC</td>\n",
              "      <td>0.808261</td>\n",
              "      <td>0.798188</td>\n",
              "    </tr>\n",
              "    <tr>\n",
              "      <th>1</th>\n",
              "      <td>Gini</td>\n",
              "      <td>0.616523</td>\n",
              "      <td>0.596376</td>\n",
              "    </tr>\n",
              "    <tr>\n",
              "      <th>2</th>\n",
              "      <td>Accuracy</td>\n",
              "      <td>0.819127</td>\n",
              "      <td>0.818776</td>\n",
              "    </tr>\n",
              "    <tr>\n",
              "      <th>3</th>\n",
              "      <td>Precision</td>\n",
              "      <td>0.133041</td>\n",
              "      <td>0.129727</td>\n",
              "    </tr>\n",
              "    <tr>\n",
              "      <th>4</th>\n",
              "      <td>Recall</td>\n",
              "      <td>0.647198</td>\n",
              "      <td>0.627494</td>\n",
              "    </tr>\n",
              "    <tr>\n",
              "      <th>5</th>\n",
              "      <td>F1-score</td>\n",
              "      <td>0.220711</td>\n",
              "      <td>0.215005</td>\n",
              "    </tr>\n",
              "  </tbody>\n",
              "</table>\n",
              "</div>\n",
              "      <button class=\"colab-df-convert\" onclick=\"convertToInteractive('df-08d06706-2856-4f65-add8-d5124846e29d')\"\n",
              "              title=\"Convert this dataframe to an interactive table.\"\n",
              "              style=\"display:none;\">\n",
              "        \n",
              "  <svg xmlns=\"http://www.w3.org/2000/svg\" height=\"24px\"viewBox=\"0 0 24 24\"\n",
              "       width=\"24px\">\n",
              "    <path d=\"M0 0h24v24H0V0z\" fill=\"none\"/>\n",
              "    <path d=\"M18.56 5.44l.94 2.06.94-2.06 2.06-.94-2.06-.94-.94-2.06-.94 2.06-2.06.94zm-11 1L8.5 8.5l.94-2.06 2.06-.94-2.06-.94L8.5 2.5l-.94 2.06-2.06.94zm10 10l.94 2.06.94-2.06 2.06-.94-2.06-.94-.94-2.06-.94 2.06-2.06.94z\"/><path d=\"M17.41 7.96l-1.37-1.37c-.4-.4-.92-.59-1.43-.59-.52 0-1.04.2-1.43.59L10.3 9.45l-7.72 7.72c-.78.78-.78 2.05 0 2.83L4 21.41c.39.39.9.59 1.41.59.51 0 1.02-.2 1.41-.59l7.78-7.78 2.81-2.81c.8-.78.8-2.07 0-2.86zM5.41 20L4 18.59l7.72-7.72 1.47 1.35L5.41 20z\"/>\n",
              "  </svg>\n",
              "      </button>\n",
              "      \n",
              "  <style>\n",
              "    .colab-df-container {\n",
              "      display:flex;\n",
              "      flex-wrap:wrap;\n",
              "      gap: 12px;\n",
              "    }\n",
              "\n",
              "    .colab-df-convert {\n",
              "      background-color: #E8F0FE;\n",
              "      border: none;\n",
              "      border-radius: 50%;\n",
              "      cursor: pointer;\n",
              "      display: none;\n",
              "      fill: #1967D2;\n",
              "      height: 32px;\n",
              "      padding: 0 0 0 0;\n",
              "      width: 32px;\n",
              "    }\n",
              "\n",
              "    .colab-df-convert:hover {\n",
              "      background-color: #E2EBFA;\n",
              "      box-shadow: 0px 1px 2px rgba(60, 64, 67, 0.3), 0px 1px 3px 1px rgba(60, 64, 67, 0.15);\n",
              "      fill: #174EA6;\n",
              "    }\n",
              "\n",
              "    [theme=dark] .colab-df-convert {\n",
              "      background-color: #3B4455;\n",
              "      fill: #D2E3FC;\n",
              "    }\n",
              "\n",
              "    [theme=dark] .colab-df-convert:hover {\n",
              "      background-color: #434B5C;\n",
              "      box-shadow: 0px 1px 3px 1px rgba(0, 0, 0, 0.15);\n",
              "      filter: drop-shadow(0px 1px 2px rgba(0, 0, 0, 0.3));\n",
              "      fill: #FFFFFF;\n",
              "    }\n",
              "  </style>\n",
              "\n",
              "      <script>\n",
              "        const buttonEl =\n",
              "          document.querySelector('#df-08d06706-2856-4f65-add8-d5124846e29d button.colab-df-convert');\n",
              "        buttonEl.style.display =\n",
              "          google.colab.kernel.accessAllowed ? 'block' : 'none';\n",
              "\n",
              "        async function convertToInteractive(key) {\n",
              "          const element = document.querySelector('#df-08d06706-2856-4f65-add8-d5124846e29d');\n",
              "          const dataTable =\n",
              "            await google.colab.kernel.invokeFunction('convertToInteractive',\n",
              "                                                     [key], {});\n",
              "          if (!dataTable) return;\n",
              "\n",
              "          const docLinkHtml = 'Like what you see? Visit the ' +\n",
              "            '<a target=\"_blank\" href=https://colab.research.google.com/notebooks/data_table.ipynb>data table notebook</a>'\n",
              "            + ' to learn more about interactive tables.';\n",
              "          element.innerHTML = '';\n",
              "          dataTable['output_type'] = 'display_data';\n",
              "          await google.colab.output.renderOutput(dataTable, element);\n",
              "          const docLink = document.createElement('div');\n",
              "          docLink.innerHTML = docLinkHtml;\n",
              "          element.appendChild(docLink);\n",
              "        }\n",
              "      </script>\n",
              "    </div>\n",
              "  </div>\n",
              "  "
            ]
          },
          "metadata": {},
          "execution_count": 45
        }
      ]
    },
    {
      "cell_type": "code",
      "source": [
        "pd.merge(metricsDtree_smote, metricsDtreeOpt, on = 'metric', how='left')"
      ],
      "metadata": {
        "colab": {
          "base_uri": "https://localhost:8080/",
          "height": 238
        },
        "id": "5U3JYapA_fOy",
        "outputId": "7c5608c9-1cf4-4719-f8d3-4666cb8f0ed2"
      },
      "execution_count": 46,
      "outputs": [
        {
          "output_type": "execute_result",
          "data": {
            "text/plain": [
              "      metric  dTree_smote_train  dTree_smote_test  dTree_train  dTree_test\n",
              "0        AUC           0.800894          0.799110     0.808261    0.798188\n",
              "1       Gini           0.601789          0.598221     0.616523    0.596376\n",
              "2   Accuracy           0.783309          0.788389     0.819127    0.818776\n",
              "3  Precision           0.112491          0.115143     0.133041    0.129727\n",
              "4     Recall           0.649573          0.650776     0.647198    0.627494\n",
              "5   F1-score           0.191771          0.195667     0.220711    0.215005"
            ],
            "text/html": [
              "\n",
              "  <div id=\"df-05f42166-d877-4b5c-91fd-ec326c12bab3\">\n",
              "    <div class=\"colab-df-container\">\n",
              "      <div>\n",
              "<style scoped>\n",
              "    .dataframe tbody tr th:only-of-type {\n",
              "        vertical-align: middle;\n",
              "    }\n",
              "\n",
              "    .dataframe tbody tr th {\n",
              "        vertical-align: top;\n",
              "    }\n",
              "\n",
              "    .dataframe thead th {\n",
              "        text-align: right;\n",
              "    }\n",
              "</style>\n",
              "<table border=\"1\" class=\"dataframe\">\n",
              "  <thead>\n",
              "    <tr style=\"text-align: right;\">\n",
              "      <th></th>\n",
              "      <th>metric</th>\n",
              "      <th>dTree_smote_train</th>\n",
              "      <th>dTree_smote_test</th>\n",
              "      <th>dTree_train</th>\n",
              "      <th>dTree_test</th>\n",
              "    </tr>\n",
              "  </thead>\n",
              "  <tbody>\n",
              "    <tr>\n",
              "      <th>0</th>\n",
              "      <td>AUC</td>\n",
              "      <td>0.800894</td>\n",
              "      <td>0.799110</td>\n",
              "      <td>0.808261</td>\n",
              "      <td>0.798188</td>\n",
              "    </tr>\n",
              "    <tr>\n",
              "      <th>1</th>\n",
              "      <td>Gini</td>\n",
              "      <td>0.601789</td>\n",
              "      <td>0.598221</td>\n",
              "      <td>0.616523</td>\n",
              "      <td>0.596376</td>\n",
              "    </tr>\n",
              "    <tr>\n",
              "      <th>2</th>\n",
              "      <td>Accuracy</td>\n",
              "      <td>0.783309</td>\n",
              "      <td>0.788389</td>\n",
              "      <td>0.819127</td>\n",
              "      <td>0.818776</td>\n",
              "    </tr>\n",
              "    <tr>\n",
              "      <th>3</th>\n",
              "      <td>Precision</td>\n",
              "      <td>0.112491</td>\n",
              "      <td>0.115143</td>\n",
              "      <td>0.133041</td>\n",
              "      <td>0.129727</td>\n",
              "    </tr>\n",
              "    <tr>\n",
              "      <th>4</th>\n",
              "      <td>Recall</td>\n",
              "      <td>0.649573</td>\n",
              "      <td>0.650776</td>\n",
              "      <td>0.647198</td>\n",
              "      <td>0.627494</td>\n",
              "    </tr>\n",
              "    <tr>\n",
              "      <th>5</th>\n",
              "      <td>F1-score</td>\n",
              "      <td>0.191771</td>\n",
              "      <td>0.195667</td>\n",
              "      <td>0.220711</td>\n",
              "      <td>0.215005</td>\n",
              "    </tr>\n",
              "  </tbody>\n",
              "</table>\n",
              "</div>\n",
              "      <button class=\"colab-df-convert\" onclick=\"convertToInteractive('df-05f42166-d877-4b5c-91fd-ec326c12bab3')\"\n",
              "              title=\"Convert this dataframe to an interactive table.\"\n",
              "              style=\"display:none;\">\n",
              "        \n",
              "  <svg xmlns=\"http://www.w3.org/2000/svg\" height=\"24px\"viewBox=\"0 0 24 24\"\n",
              "       width=\"24px\">\n",
              "    <path d=\"M0 0h24v24H0V0z\" fill=\"none\"/>\n",
              "    <path d=\"M18.56 5.44l.94 2.06.94-2.06 2.06-.94-2.06-.94-.94-2.06-.94 2.06-2.06.94zm-11 1L8.5 8.5l.94-2.06 2.06-.94-2.06-.94L8.5 2.5l-.94 2.06-2.06.94zm10 10l.94 2.06.94-2.06 2.06-.94-2.06-.94-.94-2.06-.94 2.06-2.06.94z\"/><path d=\"M17.41 7.96l-1.37-1.37c-.4-.4-.92-.59-1.43-.59-.52 0-1.04.2-1.43.59L10.3 9.45l-7.72 7.72c-.78.78-.78 2.05 0 2.83L4 21.41c.39.39.9.59 1.41.59.51 0 1.02-.2 1.41-.59l7.78-7.78 2.81-2.81c.8-.78.8-2.07 0-2.86zM5.41 20L4 18.59l7.72-7.72 1.47 1.35L5.41 20z\"/>\n",
              "  </svg>\n",
              "      </button>\n",
              "      \n",
              "  <style>\n",
              "    .colab-df-container {\n",
              "      display:flex;\n",
              "      flex-wrap:wrap;\n",
              "      gap: 12px;\n",
              "    }\n",
              "\n",
              "    .colab-df-convert {\n",
              "      background-color: #E8F0FE;\n",
              "      border: none;\n",
              "      border-radius: 50%;\n",
              "      cursor: pointer;\n",
              "      display: none;\n",
              "      fill: #1967D2;\n",
              "      height: 32px;\n",
              "      padding: 0 0 0 0;\n",
              "      width: 32px;\n",
              "    }\n",
              "\n",
              "    .colab-df-convert:hover {\n",
              "      background-color: #E2EBFA;\n",
              "      box-shadow: 0px 1px 2px rgba(60, 64, 67, 0.3), 0px 1px 3px 1px rgba(60, 64, 67, 0.15);\n",
              "      fill: #174EA6;\n",
              "    }\n",
              "\n",
              "    [theme=dark] .colab-df-convert {\n",
              "      background-color: #3B4455;\n",
              "      fill: #D2E3FC;\n",
              "    }\n",
              "\n",
              "    [theme=dark] .colab-df-convert:hover {\n",
              "      background-color: #434B5C;\n",
              "      box-shadow: 0px 1px 3px 1px rgba(0, 0, 0, 0.15);\n",
              "      filter: drop-shadow(0px 1px 2px rgba(0, 0, 0, 0.3));\n",
              "      fill: #FFFFFF;\n",
              "    }\n",
              "  </style>\n",
              "\n",
              "      <script>\n",
              "        const buttonEl =\n",
              "          document.querySelector('#df-05f42166-d877-4b5c-91fd-ec326c12bab3 button.colab-df-convert');\n",
              "        buttonEl.style.display =\n",
              "          google.colab.kernel.accessAllowed ? 'block' : 'none';\n",
              "\n",
              "        async function convertToInteractive(key) {\n",
              "          const element = document.querySelector('#df-05f42166-d877-4b5c-91fd-ec326c12bab3');\n",
              "          const dataTable =\n",
              "            await google.colab.kernel.invokeFunction('convertToInteractive',\n",
              "                                                     [key], {});\n",
              "          if (!dataTable) return;\n",
              "\n",
              "          const docLinkHtml = 'Like what you see? Visit the ' +\n",
              "            '<a target=\"_blank\" href=https://colab.research.google.com/notebooks/data_table.ipynb>data table notebook</a>'\n",
              "            + ' to learn more about interactive tables.';\n",
              "          element.innerHTML = '';\n",
              "          dataTable['output_type'] = 'display_data';\n",
              "          await google.colab.output.renderOutput(dataTable, element);\n",
              "          const docLink = document.createElement('div');\n",
              "          docLink.innerHTML = docLinkHtml;\n",
              "          element.appendChild(docLink);\n",
              "        }\n",
              "      </script>\n",
              "    </div>\n",
              "  </div>\n",
              "  "
            ]
          },
          "metadata": {},
          "execution_count": 46
        }
      ]
    },
    {
      "cell_type": "markdown",
      "metadata": {
        "id": "GmVIV52EEYRj"
      },
      "source": [
        "<b>Importancias del modelo</b>"
      ]
    },
    {
      "cell_type": "code",
      "metadata": {
        "id": "lAjdljBUSFDp"
      },
      "source": [
        "# Muestreo de data\n",
        "\n",
        "from sklearn.model_selection import train_test_split\n",
        "\n",
        "X_train, X_test, y_train, y_test = train_test_split(X, y, \n",
        "                                                    stratify = y,\n",
        "                                                    test_size = 0.3,\n",
        "                                                    random_state = 123)"
      ],
      "execution_count": 47,
      "outputs": []
    },
    {
      "cell_type": "code",
      "metadata": {
        "id": "M6x8uQXSEYwf",
        "colab": {
          "base_uri": "https://localhost:8080/",
          "height": 551
        },
        "outputId": "2793cc2a-3ade-43e5-a970-0cd5fd7fceb0"
      },
      "source": [
        "\n",
        "importances = pd.DataFrame({'features' : X_train.columns.tolist() ,\n",
        "                            'importance' : dtree.feature_importances_}).sort_values('importance', ascending = False)\n",
        "\n",
        "importances.loc[importances.importance > 0]"
      ],
      "execution_count": 48,
      "outputs": [
        {
          "output_type": "execute_result",
          "data": {
            "text/plain": [
              "                     features  importance\n",
              "344                 ind_var30    0.490011\n",
              "173                     var15    0.280840\n",
              "41                saldo_var30    0.068182\n",
              "282   imp_op_var41_efect_ult3    0.044419\n",
              "345                     var38    0.038223\n",
              "348               saldo_var37    0.021746\n",
              "57              ind_var37_cte    0.018888\n",
              "130            num_var22_ult3    0.015840\n",
              "51             num_var22_ult1    0.006266\n",
              "366                  num_var4    0.005822\n",
              "268                     var36    0.003209\n",
              "241  num_meses_var39_vig_ult3    0.002604\n",
              "180    saldo_medio_var5_hace3    0.002280\n",
              "361       num_meses_var5_ult3    0.001586\n",
              "273     saldo_medio_var5_ult3    0.000058\n",
              "118               num_var39_0    0.000026"
            ],
            "text/html": [
              "\n",
              "  <div id=\"df-7f7cf738-99b8-43ce-8de3-eaa51d39dca3\">\n",
              "    <div class=\"colab-df-container\">\n",
              "      <div>\n",
              "<style scoped>\n",
              "    .dataframe tbody tr th:only-of-type {\n",
              "        vertical-align: middle;\n",
              "    }\n",
              "\n",
              "    .dataframe tbody tr th {\n",
              "        vertical-align: top;\n",
              "    }\n",
              "\n",
              "    .dataframe thead th {\n",
              "        text-align: right;\n",
              "    }\n",
              "</style>\n",
              "<table border=\"1\" class=\"dataframe\">\n",
              "  <thead>\n",
              "    <tr style=\"text-align: right;\">\n",
              "      <th></th>\n",
              "      <th>features</th>\n",
              "      <th>importance</th>\n",
              "    </tr>\n",
              "  </thead>\n",
              "  <tbody>\n",
              "    <tr>\n",
              "      <th>344</th>\n",
              "      <td>ind_var30</td>\n",
              "      <td>0.490011</td>\n",
              "    </tr>\n",
              "    <tr>\n",
              "      <th>173</th>\n",
              "      <td>var15</td>\n",
              "      <td>0.280840</td>\n",
              "    </tr>\n",
              "    <tr>\n",
              "      <th>41</th>\n",
              "      <td>saldo_var30</td>\n",
              "      <td>0.068182</td>\n",
              "    </tr>\n",
              "    <tr>\n",
              "      <th>282</th>\n",
              "      <td>imp_op_var41_efect_ult3</td>\n",
              "      <td>0.044419</td>\n",
              "    </tr>\n",
              "    <tr>\n",
              "      <th>345</th>\n",
              "      <td>var38</td>\n",
              "      <td>0.038223</td>\n",
              "    </tr>\n",
              "    <tr>\n",
              "      <th>348</th>\n",
              "      <td>saldo_var37</td>\n",
              "      <td>0.021746</td>\n",
              "    </tr>\n",
              "    <tr>\n",
              "      <th>57</th>\n",
              "      <td>ind_var37_cte</td>\n",
              "      <td>0.018888</td>\n",
              "    </tr>\n",
              "    <tr>\n",
              "      <th>130</th>\n",
              "      <td>num_var22_ult3</td>\n",
              "      <td>0.015840</td>\n",
              "    </tr>\n",
              "    <tr>\n",
              "      <th>51</th>\n",
              "      <td>num_var22_ult1</td>\n",
              "      <td>0.006266</td>\n",
              "    </tr>\n",
              "    <tr>\n",
              "      <th>366</th>\n",
              "      <td>num_var4</td>\n",
              "      <td>0.005822</td>\n",
              "    </tr>\n",
              "    <tr>\n",
              "      <th>268</th>\n",
              "      <td>var36</td>\n",
              "      <td>0.003209</td>\n",
              "    </tr>\n",
              "    <tr>\n",
              "      <th>241</th>\n",
              "      <td>num_meses_var39_vig_ult3</td>\n",
              "      <td>0.002604</td>\n",
              "    </tr>\n",
              "    <tr>\n",
              "      <th>180</th>\n",
              "      <td>saldo_medio_var5_hace3</td>\n",
              "      <td>0.002280</td>\n",
              "    </tr>\n",
              "    <tr>\n",
              "      <th>361</th>\n",
              "      <td>num_meses_var5_ult3</td>\n",
              "      <td>0.001586</td>\n",
              "    </tr>\n",
              "    <tr>\n",
              "      <th>273</th>\n",
              "      <td>saldo_medio_var5_ult3</td>\n",
              "      <td>0.000058</td>\n",
              "    </tr>\n",
              "    <tr>\n",
              "      <th>118</th>\n",
              "      <td>num_var39_0</td>\n",
              "      <td>0.000026</td>\n",
              "    </tr>\n",
              "  </tbody>\n",
              "</table>\n",
              "</div>\n",
              "      <button class=\"colab-df-convert\" onclick=\"convertToInteractive('df-7f7cf738-99b8-43ce-8de3-eaa51d39dca3')\"\n",
              "              title=\"Convert this dataframe to an interactive table.\"\n",
              "              style=\"display:none;\">\n",
              "        \n",
              "  <svg xmlns=\"http://www.w3.org/2000/svg\" height=\"24px\"viewBox=\"0 0 24 24\"\n",
              "       width=\"24px\">\n",
              "    <path d=\"M0 0h24v24H0V0z\" fill=\"none\"/>\n",
              "    <path d=\"M18.56 5.44l.94 2.06.94-2.06 2.06-.94-2.06-.94-.94-2.06-.94 2.06-2.06.94zm-11 1L8.5 8.5l.94-2.06 2.06-.94-2.06-.94L8.5 2.5l-.94 2.06-2.06.94zm10 10l.94 2.06.94-2.06 2.06-.94-2.06-.94-.94-2.06-.94 2.06-2.06.94z\"/><path d=\"M17.41 7.96l-1.37-1.37c-.4-.4-.92-.59-1.43-.59-.52 0-1.04.2-1.43.59L10.3 9.45l-7.72 7.72c-.78.78-.78 2.05 0 2.83L4 21.41c.39.39.9.59 1.41.59.51 0 1.02-.2 1.41-.59l7.78-7.78 2.81-2.81c.8-.78.8-2.07 0-2.86zM5.41 20L4 18.59l7.72-7.72 1.47 1.35L5.41 20z\"/>\n",
              "  </svg>\n",
              "      </button>\n",
              "      \n",
              "  <style>\n",
              "    .colab-df-container {\n",
              "      display:flex;\n",
              "      flex-wrap:wrap;\n",
              "      gap: 12px;\n",
              "    }\n",
              "\n",
              "    .colab-df-convert {\n",
              "      background-color: #E8F0FE;\n",
              "      border: none;\n",
              "      border-radius: 50%;\n",
              "      cursor: pointer;\n",
              "      display: none;\n",
              "      fill: #1967D2;\n",
              "      height: 32px;\n",
              "      padding: 0 0 0 0;\n",
              "      width: 32px;\n",
              "    }\n",
              "\n",
              "    .colab-df-convert:hover {\n",
              "      background-color: #E2EBFA;\n",
              "      box-shadow: 0px 1px 2px rgba(60, 64, 67, 0.3), 0px 1px 3px 1px rgba(60, 64, 67, 0.15);\n",
              "      fill: #174EA6;\n",
              "    }\n",
              "\n",
              "    [theme=dark] .colab-df-convert {\n",
              "      background-color: #3B4455;\n",
              "      fill: #D2E3FC;\n",
              "    }\n",
              "\n",
              "    [theme=dark] .colab-df-convert:hover {\n",
              "      background-color: #434B5C;\n",
              "      box-shadow: 0px 1px 3px 1px rgba(0, 0, 0, 0.15);\n",
              "      filter: drop-shadow(0px 1px 2px rgba(0, 0, 0, 0.3));\n",
              "      fill: #FFFFFF;\n",
              "    }\n",
              "  </style>\n",
              "\n",
              "      <script>\n",
              "        const buttonEl =\n",
              "          document.querySelector('#df-7f7cf738-99b8-43ce-8de3-eaa51d39dca3 button.colab-df-convert');\n",
              "        buttonEl.style.display =\n",
              "          google.colab.kernel.accessAllowed ? 'block' : 'none';\n",
              "\n",
              "        async function convertToInteractive(key) {\n",
              "          const element = document.querySelector('#df-7f7cf738-99b8-43ce-8de3-eaa51d39dca3');\n",
              "          const dataTable =\n",
              "            await google.colab.kernel.invokeFunction('convertToInteractive',\n",
              "                                                     [key], {});\n",
              "          if (!dataTable) return;\n",
              "\n",
              "          const docLinkHtml = 'Like what you see? Visit the ' +\n",
              "            '<a target=\"_blank\" href=https://colab.research.google.com/notebooks/data_table.ipynb>data table notebook</a>'\n",
              "            + ' to learn more about interactive tables.';\n",
              "          element.innerHTML = '';\n",
              "          dataTable['output_type'] = 'display_data';\n",
              "          await google.colab.output.renderOutput(dataTable, element);\n",
              "          const docLink = document.createElement('div');\n",
              "          docLink.innerHTML = docLinkHtml;\n",
              "          element.appendChild(docLink);\n",
              "        }\n",
              "      </script>\n",
              "    </div>\n",
              "  </div>\n",
              "  "
            ]
          },
          "metadata": {},
          "execution_count": 48
        }
      ]
    },
    {
      "cell_type": "markdown",
      "metadata": {
        "id": "WVj_S8JYEVdt"
      },
      "source": [
        "# Random Forest"
      ]
    },
    {
      "cell_type": "code",
      "metadata": {
        "id": "Gzp9XSwgQGen"
      },
      "source": [
        "# Muestreo de data\n",
        "\n",
        "from sklearn.model_selection import train_test_split\n",
        "\n",
        "X_train, X_test, y_train, y_test = train_test_split(X, y, \n",
        "                                                    stratify = y,\n",
        "                                                    test_size = 0.3,\n",
        "                                                    random_state = 123)\n",
        "\n"
      ],
      "execution_count": 49,
      "outputs": []
    },
    {
      "cell_type": "code",
      "metadata": {
        "id": "1iDJJfkx6Rk1"
      },
      "source": [
        "# Cargando librerías\n",
        "\n",
        "from sklearn.ensemble import RandomForestClassifier\n",
        "from sklearn.ensemble import RandomForestRegressor\n",
        "import time\n"
      ],
      "execution_count": 50,
      "outputs": []
    },
    {
      "cell_type": "code",
      "metadata": {
        "id": "y147KKmj6UOz"
      },
      "source": [
        "# Configurando modelo de random forest\n",
        "\n",
        "rfc = RandomForestClassifier(n_estimators = 100,\n",
        "                             max_depth = 6, \n",
        "                             min_samples_leaf = 0.01,\n",
        "                             class_weight = {0: 1, 1: 24.267},\n",
        "                             oob_score = True,\n",
        "                             verbose = 1, \n",
        "                             n_jobs = 4,\n",
        "                             random_state = 123)\n",
        "\n",
        "#oob_score: Out of bagging score, es el desempeño del modelo en la muestra que se \n",
        "#queda fuera del proceso de extraccion de subespacios de la data\n",
        "#es importante analizarlo por si el modelo deja fuera algunas caracteristicas importantes de la data"
      ],
      "execution_count": 51,
      "outputs": []
    },
    {
      "cell_type": "code",
      "source": [
        "import multiprocessing\n",
        "multiprocessing.cpu_count()"
      ],
      "metadata": {
        "colab": {
          "base_uri": "https://localhost:8080/"
        },
        "id": "OODpcooYY95W",
        "outputId": "0930683d-c6ca-450c-e960-4124b9d82887"
      },
      "execution_count": 52,
      "outputs": [
        {
          "output_type": "execute_result",
          "data": {
            "text/plain": [
              "4"
            ]
          },
          "metadata": {},
          "execution_count": 52
        }
      ]
    },
    {
      "cell_type": "code",
      "metadata": {
        "colab": {
          "base_uri": "https://localhost:8080/"
        },
        "id": "96K6OPOfAQbK",
        "outputId": "3118dc6e-9638-47bd-fff7-5e3bfb0eda9e"
      },
      "source": [
        "\n",
        "start_time = time.time()\n",
        "rfc = rfc.fit(X_train, y_train)\n",
        "print(\"----%s seconds ---\" % ((time.time() - start_time)))\n"
      ],
      "execution_count": 53,
      "outputs": [
        {
          "output_type": "stream",
          "name": "stderr",
          "text": [
            "[Parallel(n_jobs=4)]: Using backend ThreadingBackend with 4 concurrent workers.\n",
            "[Parallel(n_jobs=4)]: Done  42 tasks      | elapsed:    0.7s\n",
            "[Parallel(n_jobs=4)]: Done 100 out of 100 | elapsed:    1.5s finished\n"
          ]
        },
        {
          "output_type": "stream",
          "name": "stdout",
          "text": [
            "----4.714524269104004 seconds ---\n"
          ]
        }
      ]
    },
    {
      "cell_type": "code",
      "metadata": {
        "id": "Wmr96VSSMLaD",
        "colab": {
          "base_uri": "https://localhost:8080/",
          "height": 424
        },
        "outputId": "4a0b9959-f977-445c-8a16-6b8cce331e1e"
      },
      "source": [
        "importances = pd.DataFrame({'features' : X_train.columns.tolist() ,\n",
        "                            'importance' : rfc.feature_importances_}).sort_values('importance', ascending = False)\n",
        "\n",
        "importances.loc[importances.importance > 0]"
      ],
      "execution_count": 54,
      "outputs": [
        {
          "output_type": "execute_result",
          "data": {
            "text/plain": [
              "                      features    importance\n",
              "173                      var15  1.315369e-01\n",
              "41                 saldo_var30  7.023359e-02\n",
              "253                saldo_var42  6.552120e-02\n",
              "180     saldo_medio_var5_hace3  4.747631e-02\n",
              "24      saldo_medio_var5_hace2  4.705358e-02\n",
              "..                         ...           ...\n",
              "243  delta_num_aport_var13_1y3  6.384976e-05\n",
              "118                num_var39_0  6.040476e-05\n",
              "207    num_op_var41_comer_ult1  5.653576e-05\n",
              "203                 num_var5_0  6.917727e-07\n",
              "156                ind_var14_0  1.527701e-07\n",
              "\n",
              "[122 rows x 2 columns]"
            ],
            "text/html": [
              "\n",
              "  <div id=\"df-28aec34d-1e7f-44b4-a87c-631205d03520\">\n",
              "    <div class=\"colab-df-container\">\n",
              "      <div>\n",
              "<style scoped>\n",
              "    .dataframe tbody tr th:only-of-type {\n",
              "        vertical-align: middle;\n",
              "    }\n",
              "\n",
              "    .dataframe tbody tr th {\n",
              "        vertical-align: top;\n",
              "    }\n",
              "\n",
              "    .dataframe thead th {\n",
              "        text-align: right;\n",
              "    }\n",
              "</style>\n",
              "<table border=\"1\" class=\"dataframe\">\n",
              "  <thead>\n",
              "    <tr style=\"text-align: right;\">\n",
              "      <th></th>\n",
              "      <th>features</th>\n",
              "      <th>importance</th>\n",
              "    </tr>\n",
              "  </thead>\n",
              "  <tbody>\n",
              "    <tr>\n",
              "      <th>173</th>\n",
              "      <td>var15</td>\n",
              "      <td>1.315369e-01</td>\n",
              "    </tr>\n",
              "    <tr>\n",
              "      <th>41</th>\n",
              "      <td>saldo_var30</td>\n",
              "      <td>7.023359e-02</td>\n",
              "    </tr>\n",
              "    <tr>\n",
              "      <th>253</th>\n",
              "      <td>saldo_var42</td>\n",
              "      <td>6.552120e-02</td>\n",
              "    </tr>\n",
              "    <tr>\n",
              "      <th>180</th>\n",
              "      <td>saldo_medio_var5_hace3</td>\n",
              "      <td>4.747631e-02</td>\n",
              "    </tr>\n",
              "    <tr>\n",
              "      <th>24</th>\n",
              "      <td>saldo_medio_var5_hace2</td>\n",
              "      <td>4.705358e-02</td>\n",
              "    </tr>\n",
              "    <tr>\n",
              "      <th>...</th>\n",
              "      <td>...</td>\n",
              "      <td>...</td>\n",
              "    </tr>\n",
              "    <tr>\n",
              "      <th>243</th>\n",
              "      <td>delta_num_aport_var13_1y3</td>\n",
              "      <td>6.384976e-05</td>\n",
              "    </tr>\n",
              "    <tr>\n",
              "      <th>118</th>\n",
              "      <td>num_var39_0</td>\n",
              "      <td>6.040476e-05</td>\n",
              "    </tr>\n",
              "    <tr>\n",
              "      <th>207</th>\n",
              "      <td>num_op_var41_comer_ult1</td>\n",
              "      <td>5.653576e-05</td>\n",
              "    </tr>\n",
              "    <tr>\n",
              "      <th>203</th>\n",
              "      <td>num_var5_0</td>\n",
              "      <td>6.917727e-07</td>\n",
              "    </tr>\n",
              "    <tr>\n",
              "      <th>156</th>\n",
              "      <td>ind_var14_0</td>\n",
              "      <td>1.527701e-07</td>\n",
              "    </tr>\n",
              "  </tbody>\n",
              "</table>\n",
              "<p>122 rows × 2 columns</p>\n",
              "</div>\n",
              "      <button class=\"colab-df-convert\" onclick=\"convertToInteractive('df-28aec34d-1e7f-44b4-a87c-631205d03520')\"\n",
              "              title=\"Convert this dataframe to an interactive table.\"\n",
              "              style=\"display:none;\">\n",
              "        \n",
              "  <svg xmlns=\"http://www.w3.org/2000/svg\" height=\"24px\"viewBox=\"0 0 24 24\"\n",
              "       width=\"24px\">\n",
              "    <path d=\"M0 0h24v24H0V0z\" fill=\"none\"/>\n",
              "    <path d=\"M18.56 5.44l.94 2.06.94-2.06 2.06-.94-2.06-.94-.94-2.06-.94 2.06-2.06.94zm-11 1L8.5 8.5l.94-2.06 2.06-.94-2.06-.94L8.5 2.5l-.94 2.06-2.06.94zm10 10l.94 2.06.94-2.06 2.06-.94-2.06-.94-.94-2.06-.94 2.06-2.06.94z\"/><path d=\"M17.41 7.96l-1.37-1.37c-.4-.4-.92-.59-1.43-.59-.52 0-1.04.2-1.43.59L10.3 9.45l-7.72 7.72c-.78.78-.78 2.05 0 2.83L4 21.41c.39.39.9.59 1.41.59.51 0 1.02-.2 1.41-.59l7.78-7.78 2.81-2.81c.8-.78.8-2.07 0-2.86zM5.41 20L4 18.59l7.72-7.72 1.47 1.35L5.41 20z\"/>\n",
              "  </svg>\n",
              "      </button>\n",
              "      \n",
              "  <style>\n",
              "    .colab-df-container {\n",
              "      display:flex;\n",
              "      flex-wrap:wrap;\n",
              "      gap: 12px;\n",
              "    }\n",
              "\n",
              "    .colab-df-convert {\n",
              "      background-color: #E8F0FE;\n",
              "      border: none;\n",
              "      border-radius: 50%;\n",
              "      cursor: pointer;\n",
              "      display: none;\n",
              "      fill: #1967D2;\n",
              "      height: 32px;\n",
              "      padding: 0 0 0 0;\n",
              "      width: 32px;\n",
              "    }\n",
              "\n",
              "    .colab-df-convert:hover {\n",
              "      background-color: #E2EBFA;\n",
              "      box-shadow: 0px 1px 2px rgba(60, 64, 67, 0.3), 0px 1px 3px 1px rgba(60, 64, 67, 0.15);\n",
              "      fill: #174EA6;\n",
              "    }\n",
              "\n",
              "    [theme=dark] .colab-df-convert {\n",
              "      background-color: #3B4455;\n",
              "      fill: #D2E3FC;\n",
              "    }\n",
              "\n",
              "    [theme=dark] .colab-df-convert:hover {\n",
              "      background-color: #434B5C;\n",
              "      box-shadow: 0px 1px 3px 1px rgba(0, 0, 0, 0.15);\n",
              "      filter: drop-shadow(0px 1px 2px rgba(0, 0, 0, 0.3));\n",
              "      fill: #FFFFFF;\n",
              "    }\n",
              "  </style>\n",
              "\n",
              "      <script>\n",
              "        const buttonEl =\n",
              "          document.querySelector('#df-28aec34d-1e7f-44b4-a87c-631205d03520 button.colab-df-convert');\n",
              "        buttonEl.style.display =\n",
              "          google.colab.kernel.accessAllowed ? 'block' : 'none';\n",
              "\n",
              "        async function convertToInteractive(key) {\n",
              "          const element = document.querySelector('#df-28aec34d-1e7f-44b4-a87c-631205d03520');\n",
              "          const dataTable =\n",
              "            await google.colab.kernel.invokeFunction('convertToInteractive',\n",
              "                                                     [key], {});\n",
              "          if (!dataTable) return;\n",
              "\n",
              "          const docLinkHtml = 'Like what you see? Visit the ' +\n",
              "            '<a target=\"_blank\" href=https://colab.research.google.com/notebooks/data_table.ipynb>data table notebook</a>'\n",
              "            + ' to learn more about interactive tables.';\n",
              "          element.innerHTML = '';\n",
              "          dataTable['output_type'] = 'display_data';\n",
              "          await google.colab.output.renderOutput(dataTable, element);\n",
              "          const docLink = document.createElement('div');\n",
              "          docLink.innerHTML = docLinkHtml;\n",
              "          element.appendChild(docLink);\n",
              "        }\n",
              "      </script>\n",
              "    </div>\n",
              "  </div>\n",
              "  "
            ]
          },
          "metadata": {},
          "execution_count": 54
        }
      ]
    },
    {
      "cell_type": "code",
      "metadata": {
        "id": "vl3qXL3JAmKv",
        "colab": {
          "base_uri": "https://localhost:8080/"
        },
        "outputId": "7c6b15a1-aca5-4ca8-f9fa-6f4dc175d0df"
      },
      "source": [
        "# Usando el modelo para predecir\n",
        "\n",
        "X_train['probability'] = rfc.predict_proba(X_train[features])[:,1]\n",
        "X_test['probability']  = rfc.predict_proba(X_test[features])[:,1]\n",
        "\n",
        "X_train['prediction'] = rfc.predict(X_train[features])\n",
        "X_test['prediction']  = rfc.predict(X_test[features])\n",
        "\n"
      ],
      "execution_count": 55,
      "outputs": [
        {
          "output_type": "stream",
          "name": "stderr",
          "text": [
            "[Parallel(n_jobs=4)]: Using backend ThreadingBackend with 4 concurrent workers.\n",
            "[Parallel(n_jobs=4)]: Done  42 tasks      | elapsed:    0.1s\n",
            "[Parallel(n_jobs=4)]: Done 100 out of 100 | elapsed:    0.2s finished\n",
            "[Parallel(n_jobs=4)]: Using backend ThreadingBackend with 4 concurrent workers.\n",
            "[Parallel(n_jobs=4)]: Done  42 tasks      | elapsed:    0.0s\n",
            "[Parallel(n_jobs=4)]: Done 100 out of 100 | elapsed:    0.1s finished\n",
            "[Parallel(n_jobs=4)]: Using backend ThreadingBackend with 4 concurrent workers.\n",
            "[Parallel(n_jobs=4)]: Done  42 tasks      | elapsed:    0.1s\n",
            "[Parallel(n_jobs=4)]: Done 100 out of 100 | elapsed:    0.2s finished\n",
            "[Parallel(n_jobs=4)]: Using backend ThreadingBackend with 4 concurrent workers.\n",
            "[Parallel(n_jobs=4)]: Done  42 tasks      | elapsed:    0.1s\n",
            "[Parallel(n_jobs=4)]: Done 100 out of 100 | elapsed:    0.1s finished\n"
          ]
        }
      ]
    },
    {
      "cell_type": "code",
      "metadata": {
        "id": "4ffk7L4xBGIb",
        "colab": {
          "base_uri": "https://localhost:8080/",
          "height": 238
        },
        "outputId": "6b11ba0f-cbb0-40b9-bddf-416012aa8d03"
      },
      "source": [
        "#Resumen de todas las métricas del modelo\n",
        "\n",
        "metricsRfc = pd.DataFrame({'metric':['AUC','Gini','Accuracy','Precision','Recall','F1-score'],\n",
        "                                'rfc_train':[roc_auc_score(y_train, X_train.probability),\n",
        "                                        (roc_auc_score(y_train, X_train.probability)*2-1),\n",
        "                                        accuracy_score(y_train, X_train.prediction),\n",
        "                                        precision_score(y_train, X_train.prediction),\n",
        "                                        recall_score(y_train, X_train.prediction),\n",
        "                                        f1_score(y_train, X_train.prediction)],\n",
        "\n",
        "                                'rfc_test':[roc_auc_score(y_test, X_test.probability),\n",
        "                                        (roc_auc_score(y_test, X_test.probability)*2-1),\n",
        "                                        accuracy_score(y_test, X_test.prediction),\n",
        "                                        precision_score(y_test, X_test.prediction),\n",
        "                                        recall_score(y_test, X_test.prediction),\n",
        "                                        f1_score(y_test, X_test.prediction)]})\n",
        "\n",
        " \n",
        "metricsRes = pd.merge(metricsDtree_smote, metricsRfc, on = 'metric', how='left') \n",
        "metricsRes        "
      ],
      "execution_count": 56,
      "outputs": [
        {
          "output_type": "execute_result",
          "data": {
            "text/plain": [
              "      metric  dTree_smote_train  dTree_smote_test  rfc_train  rfc_test\n",
              "0        AUC           0.800894          0.799110   0.802236  0.800265\n",
              "1       Gini           0.601789          0.598221   0.604472  0.600530\n",
              "2   Accuracy           0.783309          0.788389   0.708009  0.707928\n",
              "3  Precision           0.112491          0.115143   0.089687  0.089990\n",
              "4     Recall           0.649573          0.650776   0.697056  0.700665\n",
              "5   F1-score           0.191771          0.195667   0.158926  0.159495"
            ],
            "text/html": [
              "\n",
              "  <div id=\"df-5f094568-e7fc-4151-a61a-fcdd3c31e798\">\n",
              "    <div class=\"colab-df-container\">\n",
              "      <div>\n",
              "<style scoped>\n",
              "    .dataframe tbody tr th:only-of-type {\n",
              "        vertical-align: middle;\n",
              "    }\n",
              "\n",
              "    .dataframe tbody tr th {\n",
              "        vertical-align: top;\n",
              "    }\n",
              "\n",
              "    .dataframe thead th {\n",
              "        text-align: right;\n",
              "    }\n",
              "</style>\n",
              "<table border=\"1\" class=\"dataframe\">\n",
              "  <thead>\n",
              "    <tr style=\"text-align: right;\">\n",
              "      <th></th>\n",
              "      <th>metric</th>\n",
              "      <th>dTree_smote_train</th>\n",
              "      <th>dTree_smote_test</th>\n",
              "      <th>rfc_train</th>\n",
              "      <th>rfc_test</th>\n",
              "    </tr>\n",
              "  </thead>\n",
              "  <tbody>\n",
              "    <tr>\n",
              "      <th>0</th>\n",
              "      <td>AUC</td>\n",
              "      <td>0.800894</td>\n",
              "      <td>0.799110</td>\n",
              "      <td>0.802236</td>\n",
              "      <td>0.800265</td>\n",
              "    </tr>\n",
              "    <tr>\n",
              "      <th>1</th>\n",
              "      <td>Gini</td>\n",
              "      <td>0.601789</td>\n",
              "      <td>0.598221</td>\n",
              "      <td>0.604472</td>\n",
              "      <td>0.600530</td>\n",
              "    </tr>\n",
              "    <tr>\n",
              "      <th>2</th>\n",
              "      <td>Accuracy</td>\n",
              "      <td>0.783309</td>\n",
              "      <td>0.788389</td>\n",
              "      <td>0.708009</td>\n",
              "      <td>0.707928</td>\n",
              "    </tr>\n",
              "    <tr>\n",
              "      <th>3</th>\n",
              "      <td>Precision</td>\n",
              "      <td>0.112491</td>\n",
              "      <td>0.115143</td>\n",
              "      <td>0.089687</td>\n",
              "      <td>0.089990</td>\n",
              "    </tr>\n",
              "    <tr>\n",
              "      <th>4</th>\n",
              "      <td>Recall</td>\n",
              "      <td>0.649573</td>\n",
              "      <td>0.650776</td>\n",
              "      <td>0.697056</td>\n",
              "      <td>0.700665</td>\n",
              "    </tr>\n",
              "    <tr>\n",
              "      <th>5</th>\n",
              "      <td>F1-score</td>\n",
              "      <td>0.191771</td>\n",
              "      <td>0.195667</td>\n",
              "      <td>0.158926</td>\n",
              "      <td>0.159495</td>\n",
              "    </tr>\n",
              "  </tbody>\n",
              "</table>\n",
              "</div>\n",
              "      <button class=\"colab-df-convert\" onclick=\"convertToInteractive('df-5f094568-e7fc-4151-a61a-fcdd3c31e798')\"\n",
              "              title=\"Convert this dataframe to an interactive table.\"\n",
              "              style=\"display:none;\">\n",
              "        \n",
              "  <svg xmlns=\"http://www.w3.org/2000/svg\" height=\"24px\"viewBox=\"0 0 24 24\"\n",
              "       width=\"24px\">\n",
              "    <path d=\"M0 0h24v24H0V0z\" fill=\"none\"/>\n",
              "    <path d=\"M18.56 5.44l.94 2.06.94-2.06 2.06-.94-2.06-.94-.94-2.06-.94 2.06-2.06.94zm-11 1L8.5 8.5l.94-2.06 2.06-.94-2.06-.94L8.5 2.5l-.94 2.06-2.06.94zm10 10l.94 2.06.94-2.06 2.06-.94-2.06-.94-.94-2.06-.94 2.06-2.06.94z\"/><path d=\"M17.41 7.96l-1.37-1.37c-.4-.4-.92-.59-1.43-.59-.52 0-1.04.2-1.43.59L10.3 9.45l-7.72 7.72c-.78.78-.78 2.05 0 2.83L4 21.41c.39.39.9.59 1.41.59.51 0 1.02-.2 1.41-.59l7.78-7.78 2.81-2.81c.8-.78.8-2.07 0-2.86zM5.41 20L4 18.59l7.72-7.72 1.47 1.35L5.41 20z\"/>\n",
              "  </svg>\n",
              "      </button>\n",
              "      \n",
              "  <style>\n",
              "    .colab-df-container {\n",
              "      display:flex;\n",
              "      flex-wrap:wrap;\n",
              "      gap: 12px;\n",
              "    }\n",
              "\n",
              "    .colab-df-convert {\n",
              "      background-color: #E8F0FE;\n",
              "      border: none;\n",
              "      border-radius: 50%;\n",
              "      cursor: pointer;\n",
              "      display: none;\n",
              "      fill: #1967D2;\n",
              "      height: 32px;\n",
              "      padding: 0 0 0 0;\n",
              "      width: 32px;\n",
              "    }\n",
              "\n",
              "    .colab-df-convert:hover {\n",
              "      background-color: #E2EBFA;\n",
              "      box-shadow: 0px 1px 2px rgba(60, 64, 67, 0.3), 0px 1px 3px 1px rgba(60, 64, 67, 0.15);\n",
              "      fill: #174EA6;\n",
              "    }\n",
              "\n",
              "    [theme=dark] .colab-df-convert {\n",
              "      background-color: #3B4455;\n",
              "      fill: #D2E3FC;\n",
              "    }\n",
              "\n",
              "    [theme=dark] .colab-df-convert:hover {\n",
              "      background-color: #434B5C;\n",
              "      box-shadow: 0px 1px 3px 1px rgba(0, 0, 0, 0.15);\n",
              "      filter: drop-shadow(0px 1px 2px rgba(0, 0, 0, 0.3));\n",
              "      fill: #FFFFFF;\n",
              "    }\n",
              "  </style>\n",
              "\n",
              "      <script>\n",
              "        const buttonEl =\n",
              "          document.querySelector('#df-5f094568-e7fc-4151-a61a-fcdd3c31e798 button.colab-df-convert');\n",
              "        buttonEl.style.display =\n",
              "          google.colab.kernel.accessAllowed ? 'block' : 'none';\n",
              "\n",
              "        async function convertToInteractive(key) {\n",
              "          const element = document.querySelector('#df-5f094568-e7fc-4151-a61a-fcdd3c31e798');\n",
              "          const dataTable =\n",
              "            await google.colab.kernel.invokeFunction('convertToInteractive',\n",
              "                                                     [key], {});\n",
              "          if (!dataTable) return;\n",
              "\n",
              "          const docLinkHtml = 'Like what you see? Visit the ' +\n",
              "            '<a target=\"_blank\" href=https://colab.research.google.com/notebooks/data_table.ipynb>data table notebook</a>'\n",
              "            + ' to learn more about interactive tables.';\n",
              "          element.innerHTML = '';\n",
              "          dataTable['output_type'] = 'display_data';\n",
              "          await google.colab.output.renderOutput(dataTable, element);\n",
              "          const docLink = document.createElement('div');\n",
              "          docLink.innerHTML = docLinkHtml;\n",
              "          element.appendChild(docLink);\n",
              "        }\n",
              "      </script>\n",
              "    </div>\n",
              "  </div>\n",
              "  "
            ]
          },
          "metadata": {},
          "execution_count": 56
        }
      ]
    },
    {
      "cell_type": "markdown",
      "metadata": {
        "id": "O2fNkkfZ6K2I"
      },
      "source": []
    },
    {
      "cell_type": "markdown",
      "metadata": {
        "id": "V1LDuvW4qm9_"
      },
      "source": [
        "# AdaBoost"
      ]
    },
    {
      "cell_type": "code",
      "metadata": {
        "id": "yJ98Ze3jR7Hz"
      },
      "source": [
        "# Muestreo de data\n",
        "\n",
        "from sklearn.model_selection import train_test_split\n",
        "\n",
        "X_train, X_test, y_train, y_test = train_test_split(X, y, \n",
        "                                                    stratify = y,\n",
        "                                                    test_size = 0.3,\n",
        "                                                    random_state = 123)\n"
      ],
      "execution_count": 57,
      "outputs": []
    },
    {
      "cell_type": "code",
      "metadata": {
        "id": "wVu1x48_RYgW"
      },
      "source": [
        "# Cargando librerías\n",
        "\n",
        "from sklearn.ensemble import AdaBoostClassifier\n",
        "from sklearn.tree import DecisionTreeClassifier\n",
        "import time\n"
      ],
      "execution_count": 58,
      "outputs": []
    },
    {
      "cell_type": "code",
      "metadata": {
        "id": "teVH6RQmRfnm"
      },
      "source": [
        "# Configuramos el modelo de adaboost\n",
        "\n",
        "ada_clf = AdaBoostClassifier(\n",
        "          DecisionTreeClassifier(max_depth = 1),\n",
        "          n_estimators = 200,\n",
        "          algorithm = 'SAMME.R',\n",
        "          learning_rate = 0.5,\n",
        "          random_state = 123)\n"
      ],
      "execution_count": 59,
      "outputs": []
    },
    {
      "cell_type": "code",
      "metadata": {
        "colab": {
          "base_uri": "https://localhost:8080/"
        },
        "id": "nsuLZk2AR3qT",
        "outputId": "31ef94a4-693b-4947-9da1-bfb09e58cbdf"
      },
      "source": [
        "start_time = time.time()\n",
        "ada_clf.fit(X_train, y_train)\n",
        "print(\"----%s seconds ---\" % ((time.time() - start_time)))\n"
      ],
      "execution_count": 60,
      "outputs": [
        {
          "output_type": "stream",
          "name": "stdout",
          "text": [
            "----50.273513317108154 seconds ---\n"
          ]
        }
      ]
    },
    {
      "cell_type": "code",
      "metadata": {
        "id": "W6Djb2INTCqA",
        "colab": {
          "base_uri": "https://localhost:8080/",
          "height": 424
        },
        "outputId": "a4953b30-4b7c-4012-81c4-ba13fe9082ab"
      },
      "source": [
        "importances = pd.DataFrame({'features' : X_train.columns.tolist() ,\n",
        "                            'importance' : ada_clf.feature_importances_}).sort_values('importance', ascending = False)\n",
        "\n",
        "importances.loc[importances.importance > 0]"
      ],
      "execution_count": 61,
      "outputs": [
        {
          "output_type": "execute_result",
          "data": {
            "text/plain": [
              "                          features  importance\n",
              "345                          var38       0.075\n",
              "173                          var15       0.065\n",
              "41                     saldo_var30       0.050\n",
              "180         saldo_medio_var5_hace3       0.050\n",
              "26         imp_op_var39_comer_ult1       0.040\n",
              "..                             ...         ...\n",
              "342                    saldo_var17       0.005\n",
              "35         saldo_medio_var12_hace3       0.005\n",
              "40                     saldo_var31       0.005\n",
              "176  saldo_medio_var13_corto_hace3       0.005\n",
              "42         imp_op_var39_efect_ult3       0.005\n",
              "\n",
              "[64 rows x 2 columns]"
            ],
            "text/html": [
              "\n",
              "  <div id=\"df-39f7eebf-9578-4722-9296-ad4ce6d08e7c\">\n",
              "    <div class=\"colab-df-container\">\n",
              "      <div>\n",
              "<style scoped>\n",
              "    .dataframe tbody tr th:only-of-type {\n",
              "        vertical-align: middle;\n",
              "    }\n",
              "\n",
              "    .dataframe tbody tr th {\n",
              "        vertical-align: top;\n",
              "    }\n",
              "\n",
              "    .dataframe thead th {\n",
              "        text-align: right;\n",
              "    }\n",
              "</style>\n",
              "<table border=\"1\" class=\"dataframe\">\n",
              "  <thead>\n",
              "    <tr style=\"text-align: right;\">\n",
              "      <th></th>\n",
              "      <th>features</th>\n",
              "      <th>importance</th>\n",
              "    </tr>\n",
              "  </thead>\n",
              "  <tbody>\n",
              "    <tr>\n",
              "      <th>345</th>\n",
              "      <td>var38</td>\n",
              "      <td>0.075</td>\n",
              "    </tr>\n",
              "    <tr>\n",
              "      <th>173</th>\n",
              "      <td>var15</td>\n",
              "      <td>0.065</td>\n",
              "    </tr>\n",
              "    <tr>\n",
              "      <th>41</th>\n",
              "      <td>saldo_var30</td>\n",
              "      <td>0.050</td>\n",
              "    </tr>\n",
              "    <tr>\n",
              "      <th>180</th>\n",
              "      <td>saldo_medio_var5_hace3</td>\n",
              "      <td>0.050</td>\n",
              "    </tr>\n",
              "    <tr>\n",
              "      <th>26</th>\n",
              "      <td>imp_op_var39_comer_ult1</td>\n",
              "      <td>0.040</td>\n",
              "    </tr>\n",
              "    <tr>\n",
              "      <th>...</th>\n",
              "      <td>...</td>\n",
              "      <td>...</td>\n",
              "    </tr>\n",
              "    <tr>\n",
              "      <th>342</th>\n",
              "      <td>saldo_var17</td>\n",
              "      <td>0.005</td>\n",
              "    </tr>\n",
              "    <tr>\n",
              "      <th>35</th>\n",
              "      <td>saldo_medio_var12_hace3</td>\n",
              "      <td>0.005</td>\n",
              "    </tr>\n",
              "    <tr>\n",
              "      <th>40</th>\n",
              "      <td>saldo_var31</td>\n",
              "      <td>0.005</td>\n",
              "    </tr>\n",
              "    <tr>\n",
              "      <th>176</th>\n",
              "      <td>saldo_medio_var13_corto_hace3</td>\n",
              "      <td>0.005</td>\n",
              "    </tr>\n",
              "    <tr>\n",
              "      <th>42</th>\n",
              "      <td>imp_op_var39_efect_ult3</td>\n",
              "      <td>0.005</td>\n",
              "    </tr>\n",
              "  </tbody>\n",
              "</table>\n",
              "<p>64 rows × 2 columns</p>\n",
              "</div>\n",
              "      <button class=\"colab-df-convert\" onclick=\"convertToInteractive('df-39f7eebf-9578-4722-9296-ad4ce6d08e7c')\"\n",
              "              title=\"Convert this dataframe to an interactive table.\"\n",
              "              style=\"display:none;\">\n",
              "        \n",
              "  <svg xmlns=\"http://www.w3.org/2000/svg\" height=\"24px\"viewBox=\"0 0 24 24\"\n",
              "       width=\"24px\">\n",
              "    <path d=\"M0 0h24v24H0V0z\" fill=\"none\"/>\n",
              "    <path d=\"M18.56 5.44l.94 2.06.94-2.06 2.06-.94-2.06-.94-.94-2.06-.94 2.06-2.06.94zm-11 1L8.5 8.5l.94-2.06 2.06-.94-2.06-.94L8.5 2.5l-.94 2.06-2.06.94zm10 10l.94 2.06.94-2.06 2.06-.94-2.06-.94-.94-2.06-.94 2.06-2.06.94z\"/><path d=\"M17.41 7.96l-1.37-1.37c-.4-.4-.92-.59-1.43-.59-.52 0-1.04.2-1.43.59L10.3 9.45l-7.72 7.72c-.78.78-.78 2.05 0 2.83L4 21.41c.39.39.9.59 1.41.59.51 0 1.02-.2 1.41-.59l7.78-7.78 2.81-2.81c.8-.78.8-2.07 0-2.86zM5.41 20L4 18.59l7.72-7.72 1.47 1.35L5.41 20z\"/>\n",
              "  </svg>\n",
              "      </button>\n",
              "      \n",
              "  <style>\n",
              "    .colab-df-container {\n",
              "      display:flex;\n",
              "      flex-wrap:wrap;\n",
              "      gap: 12px;\n",
              "    }\n",
              "\n",
              "    .colab-df-convert {\n",
              "      background-color: #E8F0FE;\n",
              "      border: none;\n",
              "      border-radius: 50%;\n",
              "      cursor: pointer;\n",
              "      display: none;\n",
              "      fill: #1967D2;\n",
              "      height: 32px;\n",
              "      padding: 0 0 0 0;\n",
              "      width: 32px;\n",
              "    }\n",
              "\n",
              "    .colab-df-convert:hover {\n",
              "      background-color: #E2EBFA;\n",
              "      box-shadow: 0px 1px 2px rgba(60, 64, 67, 0.3), 0px 1px 3px 1px rgba(60, 64, 67, 0.15);\n",
              "      fill: #174EA6;\n",
              "    }\n",
              "\n",
              "    [theme=dark] .colab-df-convert {\n",
              "      background-color: #3B4455;\n",
              "      fill: #D2E3FC;\n",
              "    }\n",
              "\n",
              "    [theme=dark] .colab-df-convert:hover {\n",
              "      background-color: #434B5C;\n",
              "      box-shadow: 0px 1px 3px 1px rgba(0, 0, 0, 0.15);\n",
              "      filter: drop-shadow(0px 1px 2px rgba(0, 0, 0, 0.3));\n",
              "      fill: #FFFFFF;\n",
              "    }\n",
              "  </style>\n",
              "\n",
              "      <script>\n",
              "        const buttonEl =\n",
              "          document.querySelector('#df-39f7eebf-9578-4722-9296-ad4ce6d08e7c button.colab-df-convert');\n",
              "        buttonEl.style.display =\n",
              "          google.colab.kernel.accessAllowed ? 'block' : 'none';\n",
              "\n",
              "        async function convertToInteractive(key) {\n",
              "          const element = document.querySelector('#df-39f7eebf-9578-4722-9296-ad4ce6d08e7c');\n",
              "          const dataTable =\n",
              "            await google.colab.kernel.invokeFunction('convertToInteractive',\n",
              "                                                     [key], {});\n",
              "          if (!dataTable) return;\n",
              "\n",
              "          const docLinkHtml = 'Like what you see? Visit the ' +\n",
              "            '<a target=\"_blank\" href=https://colab.research.google.com/notebooks/data_table.ipynb>data table notebook</a>'\n",
              "            + ' to learn more about interactive tables.';\n",
              "          element.innerHTML = '';\n",
              "          dataTable['output_type'] = 'display_data';\n",
              "          await google.colab.output.renderOutput(dataTable, element);\n",
              "          const docLink = document.createElement('div');\n",
              "          docLink.innerHTML = docLinkHtml;\n",
              "          element.appendChild(docLink);\n",
              "        }\n",
              "      </script>\n",
              "    </div>\n",
              "  </div>\n",
              "  "
            ]
          },
          "metadata": {},
          "execution_count": 61
        }
      ]
    },
    {
      "cell_type": "code",
      "metadata": {
        "id": "KH8IEp0BTHr0"
      },
      "source": [
        "# Usando el modelo para predecir\n",
        "\n",
        "X_train['probability'] = ada_clf.predict_proba(X_train[features])[:,1]\n",
        "X_test['probability']  = ada_clf.predict_proba(X_test[features])[:,1]\n",
        "\n",
        "X_train['prediction'] = ada_clf.predict(X_train[features])\n",
        "X_test['prediction']  = ada_clf.predict(X_test[features])\n",
        "\n"
      ],
      "execution_count": 62,
      "outputs": []
    },
    {
      "cell_type": "code",
      "metadata": {
        "colab": {
          "base_uri": "https://localhost:8080/",
          "height": 238
        },
        "id": "4sciIpB0TP1T",
        "outputId": "da206f33-1b26-4c76-c0ff-7220d6198ff1"
      },
      "source": [
        "#Resumen de todas las métricas del modelo\n",
        "\n",
        "metricsAdab = pd.DataFrame({'metric':['AUC','Gini','Accuracy','Precision','Recall','F1-score'],\n",
        "                                'adab_train':[roc_auc_score(y_train, X_train.probability),\n",
        "                                        (roc_auc_score(y_train, X_train.probability)*2-1),\n",
        "                                        accuracy_score(y_train, X_train.prediction),\n",
        "                                        precision_score(y_train, X_train.prediction),\n",
        "                                        recall_score(y_train, X_train.prediction),\n",
        "                                        f1_score(y_train, X_train.prediction)],\n",
        "\n",
        "                                'adab_test':[roc_auc_score(y_test, X_test.probability),\n",
        "                                        (roc_auc_score(y_test, X_test.probability)*2-1),\n",
        "                                        accuracy_score(y_test, X_test.prediction),\n",
        "                                        precision_score(y_test, X_test.prediction),\n",
        "                                        recall_score(y_test, X_test.prediction),\n",
        "                                        f1_score(y_test, X_test.prediction)]})\n",
        "\n",
        " \n",
        "metricsRes = pd.merge(metricsRes, metricsAdab, on = 'metric', how='left') \n",
        "metricsRes        "
      ],
      "execution_count": 63,
      "outputs": [
        {
          "output_type": "execute_result",
          "data": {
            "text/plain": [
              "      metric  dTree_smote_train  dTree_smote_test  rfc_train  rfc_test  \\\n",
              "0        AUC           0.800894          0.799110   0.802236  0.800265   \n",
              "1       Gini           0.601789          0.598221   0.604472  0.600530   \n",
              "2   Accuracy           0.783309          0.788389   0.708009  0.707928   \n",
              "3  Precision           0.112491          0.115143   0.089687  0.089990   \n",
              "4     Recall           0.649573          0.650776   0.697056  0.700665   \n",
              "5   F1-score           0.191771          0.195667   0.158926  0.159495   \n",
              "\n",
              "   adab_train  adab_test  \n",
              "0    0.858622   0.821658  \n",
              "1    0.717244   0.643317  \n",
              "2    0.960631   0.960405  \n",
              "3    0.720000   0.444444  \n",
              "4    0.008547   0.004435  \n",
              "5    0.016893   0.008782  "
            ],
            "text/html": [
              "\n",
              "  <div id=\"df-38439223-32a0-43f3-9b2f-694d47c60f40\">\n",
              "    <div class=\"colab-df-container\">\n",
              "      <div>\n",
              "<style scoped>\n",
              "    .dataframe tbody tr th:only-of-type {\n",
              "        vertical-align: middle;\n",
              "    }\n",
              "\n",
              "    .dataframe tbody tr th {\n",
              "        vertical-align: top;\n",
              "    }\n",
              "\n",
              "    .dataframe thead th {\n",
              "        text-align: right;\n",
              "    }\n",
              "</style>\n",
              "<table border=\"1\" class=\"dataframe\">\n",
              "  <thead>\n",
              "    <tr style=\"text-align: right;\">\n",
              "      <th></th>\n",
              "      <th>metric</th>\n",
              "      <th>dTree_smote_train</th>\n",
              "      <th>dTree_smote_test</th>\n",
              "      <th>rfc_train</th>\n",
              "      <th>rfc_test</th>\n",
              "      <th>adab_train</th>\n",
              "      <th>adab_test</th>\n",
              "    </tr>\n",
              "  </thead>\n",
              "  <tbody>\n",
              "    <tr>\n",
              "      <th>0</th>\n",
              "      <td>AUC</td>\n",
              "      <td>0.800894</td>\n",
              "      <td>0.799110</td>\n",
              "      <td>0.802236</td>\n",
              "      <td>0.800265</td>\n",
              "      <td>0.858622</td>\n",
              "      <td>0.821658</td>\n",
              "    </tr>\n",
              "    <tr>\n",
              "      <th>1</th>\n",
              "      <td>Gini</td>\n",
              "      <td>0.601789</td>\n",
              "      <td>0.598221</td>\n",
              "      <td>0.604472</td>\n",
              "      <td>0.600530</td>\n",
              "      <td>0.717244</td>\n",
              "      <td>0.643317</td>\n",
              "    </tr>\n",
              "    <tr>\n",
              "      <th>2</th>\n",
              "      <td>Accuracy</td>\n",
              "      <td>0.783309</td>\n",
              "      <td>0.788389</td>\n",
              "      <td>0.708009</td>\n",
              "      <td>0.707928</td>\n",
              "      <td>0.960631</td>\n",
              "      <td>0.960405</td>\n",
              "    </tr>\n",
              "    <tr>\n",
              "      <th>3</th>\n",
              "      <td>Precision</td>\n",
              "      <td>0.112491</td>\n",
              "      <td>0.115143</td>\n",
              "      <td>0.089687</td>\n",
              "      <td>0.089990</td>\n",
              "      <td>0.720000</td>\n",
              "      <td>0.444444</td>\n",
              "    </tr>\n",
              "    <tr>\n",
              "      <th>4</th>\n",
              "      <td>Recall</td>\n",
              "      <td>0.649573</td>\n",
              "      <td>0.650776</td>\n",
              "      <td>0.697056</td>\n",
              "      <td>0.700665</td>\n",
              "      <td>0.008547</td>\n",
              "      <td>0.004435</td>\n",
              "    </tr>\n",
              "    <tr>\n",
              "      <th>5</th>\n",
              "      <td>F1-score</td>\n",
              "      <td>0.191771</td>\n",
              "      <td>0.195667</td>\n",
              "      <td>0.158926</td>\n",
              "      <td>0.159495</td>\n",
              "      <td>0.016893</td>\n",
              "      <td>0.008782</td>\n",
              "    </tr>\n",
              "  </tbody>\n",
              "</table>\n",
              "</div>\n",
              "      <button class=\"colab-df-convert\" onclick=\"convertToInteractive('df-38439223-32a0-43f3-9b2f-694d47c60f40')\"\n",
              "              title=\"Convert this dataframe to an interactive table.\"\n",
              "              style=\"display:none;\">\n",
              "        \n",
              "  <svg xmlns=\"http://www.w3.org/2000/svg\" height=\"24px\"viewBox=\"0 0 24 24\"\n",
              "       width=\"24px\">\n",
              "    <path d=\"M0 0h24v24H0V0z\" fill=\"none\"/>\n",
              "    <path d=\"M18.56 5.44l.94 2.06.94-2.06 2.06-.94-2.06-.94-.94-2.06-.94 2.06-2.06.94zm-11 1L8.5 8.5l.94-2.06 2.06-.94-2.06-.94L8.5 2.5l-.94 2.06-2.06.94zm10 10l.94 2.06.94-2.06 2.06-.94-2.06-.94-.94-2.06-.94 2.06-2.06.94z\"/><path d=\"M17.41 7.96l-1.37-1.37c-.4-.4-.92-.59-1.43-.59-.52 0-1.04.2-1.43.59L10.3 9.45l-7.72 7.72c-.78.78-.78 2.05 0 2.83L4 21.41c.39.39.9.59 1.41.59.51 0 1.02-.2 1.41-.59l7.78-7.78 2.81-2.81c.8-.78.8-2.07 0-2.86zM5.41 20L4 18.59l7.72-7.72 1.47 1.35L5.41 20z\"/>\n",
              "  </svg>\n",
              "      </button>\n",
              "      \n",
              "  <style>\n",
              "    .colab-df-container {\n",
              "      display:flex;\n",
              "      flex-wrap:wrap;\n",
              "      gap: 12px;\n",
              "    }\n",
              "\n",
              "    .colab-df-convert {\n",
              "      background-color: #E8F0FE;\n",
              "      border: none;\n",
              "      border-radius: 50%;\n",
              "      cursor: pointer;\n",
              "      display: none;\n",
              "      fill: #1967D2;\n",
              "      height: 32px;\n",
              "      padding: 0 0 0 0;\n",
              "      width: 32px;\n",
              "    }\n",
              "\n",
              "    .colab-df-convert:hover {\n",
              "      background-color: #E2EBFA;\n",
              "      box-shadow: 0px 1px 2px rgba(60, 64, 67, 0.3), 0px 1px 3px 1px rgba(60, 64, 67, 0.15);\n",
              "      fill: #174EA6;\n",
              "    }\n",
              "\n",
              "    [theme=dark] .colab-df-convert {\n",
              "      background-color: #3B4455;\n",
              "      fill: #D2E3FC;\n",
              "    }\n",
              "\n",
              "    [theme=dark] .colab-df-convert:hover {\n",
              "      background-color: #434B5C;\n",
              "      box-shadow: 0px 1px 3px 1px rgba(0, 0, 0, 0.15);\n",
              "      filter: drop-shadow(0px 1px 2px rgba(0, 0, 0, 0.3));\n",
              "      fill: #FFFFFF;\n",
              "    }\n",
              "  </style>\n",
              "\n",
              "      <script>\n",
              "        const buttonEl =\n",
              "          document.querySelector('#df-38439223-32a0-43f3-9b2f-694d47c60f40 button.colab-df-convert');\n",
              "        buttonEl.style.display =\n",
              "          google.colab.kernel.accessAllowed ? 'block' : 'none';\n",
              "\n",
              "        async function convertToInteractive(key) {\n",
              "          const element = document.querySelector('#df-38439223-32a0-43f3-9b2f-694d47c60f40');\n",
              "          const dataTable =\n",
              "            await google.colab.kernel.invokeFunction('convertToInteractive',\n",
              "                                                     [key], {});\n",
              "          if (!dataTable) return;\n",
              "\n",
              "          const docLinkHtml = 'Like what you see? Visit the ' +\n",
              "            '<a target=\"_blank\" href=https://colab.research.google.com/notebooks/data_table.ipynb>data table notebook</a>'\n",
              "            + ' to learn more about interactive tables.';\n",
              "          element.innerHTML = '';\n",
              "          dataTable['output_type'] = 'display_data';\n",
              "          await google.colab.output.renderOutput(dataTable, element);\n",
              "          const docLink = document.createElement('div');\n",
              "          docLink.innerHTML = docLinkHtml;\n",
              "          element.appendChild(docLink);\n",
              "        }\n",
              "      </script>\n",
              "    </div>\n",
              "  </div>\n",
              "  "
            ]
          },
          "metadata": {},
          "execution_count": 63
        }
      ]
    },
    {
      "cell_type": "markdown",
      "metadata": {
        "id": "k22vTC0X1nLV"
      },
      "source": [
        "# XGBoost"
      ]
    },
    {
      "cell_type": "code",
      "metadata": {
        "id": "5hmm0d4tTyir"
      },
      "source": [
        "# Muestreo de data\n",
        "\n",
        "from sklearn.model_selection import train_test_split\n",
        "\n",
        "X_train, X_test, y_train, y_test = train_test_split(X, y, \n",
        "                                                    stratify = y,\n",
        "                                                    train_size = 0.6,\n",
        "                                                    random_state = 123)\n",
        "\n",
        "X_watch, X_test, y_watch, y_test = train_test_split(X_test, y_test, \n",
        "                                                    stratify = y_test,\n",
        "                                                    train_size = 0.5,\n",
        "                                                    random_state = 123)\n"
      ],
      "execution_count": 64,
      "outputs": []
    },
    {
      "cell_type": "code",
      "metadata": {
        "id": "iFg_jH_oTshe"
      },
      "source": [
        "# Cargando librerías\n",
        "\n",
        "import numpy as np\n",
        "import xgboost as xgb\n"
      ],
      "execution_count": 65,
      "outputs": []
    },
    {
      "cell_type": "code",
      "metadata": {
        "id": "wBuS6S3CT2Ji"
      },
      "source": [
        "\n",
        "dtrain = xgb.DMatrix(X_train, label = y_train)\n",
        "dwatch = xgb.DMatrix(X_watch, label = y_watch)\n",
        "dtest  = xgb.DMatrix(X_test, label = y_test)\n"
      ],
      "execution_count": 66,
      "outputs": []
    },
    {
      "cell_type": "code",
      "metadata": {
        "id": "mp_hF3TNUBlQ"
      },
      "source": [
        "# Definiendo parámetros\n",
        "\n",
        "param = {'objetive' : 'binary_logistic',\n",
        "         'max_depth' : 8,\n",
        "         'learning_rate': 0.05,\n",
        "         'min_data_leaf' : 0.05,\n",
        "         'grow_policy' : 'lossguide',\n",
        "         'seed' : 123}\n",
        "\n",
        "param['eval_metric'] = 'auc'\n",
        "num_round = 300         \n",
        "evallist = [(dtrain,'train'), (dwatch,'watchlist')]\n",
        "\n"
      ],
      "execution_count": 67,
      "outputs": []
    },
    {
      "cell_type": "code",
      "metadata": {
        "id": "nsoCfJBDT8_k",
        "colab": {
          "base_uri": "https://localhost:8080/"
        },
        "outputId": "68d33ac5-6271-4c0e-c7b7-21cff8122b30"
      },
      "source": [
        "import time\n",
        "\n",
        "start_time = time.time()\n",
        "xgBoost = xgb.train(param, dtrain, num_round, evallist, \n",
        "                    early_stopping_rounds = 5)\n",
        "print(\"----%s seconds ---\" % ((time.time() - start_time)))\n"
      ],
      "execution_count": 70,
      "outputs": [
        {
          "output_type": "stream",
          "name": "stdout",
          "text": [
            "[0]\ttrain-auc:0.842925\twatchlist-auc:0.800748\n",
            "Multiple eval metrics have been passed: 'watchlist-auc' will be used for early stopping.\n",
            "\n",
            "Will train until watchlist-auc hasn't improved in 5 rounds.\n",
            "[1]\ttrain-auc:0.844452\twatchlist-auc:0.800939\n",
            "[2]\ttrain-auc:0.847408\twatchlist-auc:0.803845\n",
            "[3]\ttrain-auc:0.849382\twatchlist-auc:0.80412\n",
            "[4]\ttrain-auc:0.850342\twatchlist-auc:0.803701\n",
            "[5]\ttrain-auc:0.85453\twatchlist-auc:0.803564\n",
            "[6]\ttrain-auc:0.855472\twatchlist-auc:0.803281\n",
            "[7]\ttrain-auc:0.857965\twatchlist-auc:0.803804\n",
            "[8]\ttrain-auc:0.861209\twatchlist-auc:0.805409\n",
            "[9]\ttrain-auc:0.862276\twatchlist-auc:0.805686\n",
            "[10]\ttrain-auc:0.864057\twatchlist-auc:0.806308\n",
            "[11]\ttrain-auc:0.865394\twatchlist-auc:0.805788\n",
            "[12]\ttrain-auc:0.866733\twatchlist-auc:0.806428\n",
            "[13]\ttrain-auc:0.867606\twatchlist-auc:0.806828\n",
            "[14]\ttrain-auc:0.869266\twatchlist-auc:0.807371\n",
            "[15]\ttrain-auc:0.870036\twatchlist-auc:0.80791\n",
            "[16]\ttrain-auc:0.871716\twatchlist-auc:0.807283\n",
            "[17]\ttrain-auc:0.872943\twatchlist-auc:0.810109\n",
            "[18]\ttrain-auc:0.873888\twatchlist-auc:0.810318\n",
            "[19]\ttrain-auc:0.8749\twatchlist-auc:0.810746\n",
            "[20]\ttrain-auc:0.877105\twatchlist-auc:0.812086\n",
            "[21]\ttrain-auc:0.878394\twatchlist-auc:0.812618\n",
            "[22]\ttrain-auc:0.87932\twatchlist-auc:0.812971\n",
            "[23]\ttrain-auc:0.88139\twatchlist-auc:0.813028\n",
            "[24]\ttrain-auc:0.88196\twatchlist-auc:0.812931\n",
            "[25]\ttrain-auc:0.882501\twatchlist-auc:0.813035\n",
            "[26]\ttrain-auc:0.884449\twatchlist-auc:0.813059\n",
            "[27]\ttrain-auc:0.885523\twatchlist-auc:0.813239\n",
            "[28]\ttrain-auc:0.886325\twatchlist-auc:0.813982\n",
            "[29]\ttrain-auc:0.887568\twatchlist-auc:0.8136\n",
            "[30]\ttrain-auc:0.889579\twatchlist-auc:0.813894\n",
            "[31]\ttrain-auc:0.890508\twatchlist-auc:0.813755\n",
            "[32]\ttrain-auc:0.891477\twatchlist-auc:0.814239\n",
            "[33]\ttrain-auc:0.89281\twatchlist-auc:0.814237\n",
            "[34]\ttrain-auc:0.894161\twatchlist-auc:0.814299\n",
            "[35]\ttrain-auc:0.894858\twatchlist-auc:0.81426\n",
            "[36]\ttrain-auc:0.895877\twatchlist-auc:0.814103\n",
            "[37]\ttrain-auc:0.896864\twatchlist-auc:0.814055\n",
            "[38]\ttrain-auc:0.89738\twatchlist-auc:0.814176\n",
            "[39]\ttrain-auc:0.898158\twatchlist-auc:0.814356\n",
            "[40]\ttrain-auc:0.898624\twatchlist-auc:0.814453\n",
            "[41]\ttrain-auc:0.899141\twatchlist-auc:0.814213\n",
            "[42]\ttrain-auc:0.899538\twatchlist-auc:0.81396\n",
            "[43]\ttrain-auc:0.900389\twatchlist-auc:0.814225\n",
            "[44]\ttrain-auc:0.900949\twatchlist-auc:0.814311\n",
            "[45]\ttrain-auc:0.901685\twatchlist-auc:0.813923\n",
            "Stopping. Best iteration:\n",
            "[40]\ttrain-auc:0.898624\twatchlist-auc:0.814453\n",
            "\n",
            "----17.86607551574707 seconds ---\n"
          ]
        }
      ]
    },
    {
      "cell_type": "markdown",
      "metadata": {
        "id": "C4z0wIVH-MIX"
      },
      "source": [
        "<b>Variables del Modelo</b>"
      ]
    },
    {
      "cell_type": "code",
      "metadata": {
        "id": "H4AWrUcz-Q3K"
      },
      "source": [
        "importance = xgBoost.get_score(importance_type = 'total_gain')\n",
        "importance"
      ],
      "execution_count": null,
      "outputs": []
    },
    {
      "cell_type": "code",
      "metadata": {
        "id": "yg81nbtE_WzY"
      },
      "source": [
        "xgb.plot_importance(xgBoost, max_num_features=20, importance_type = 'total_gain')"
      ],
      "execution_count": null,
      "outputs": []
    },
    {
      "cell_type": "code",
      "metadata": {
        "id": "1GIK4-wkOdWm"
      },
      "source": [
        "pdVarImp = pd.DataFrame({'Feature': list(importance.keys()),\n",
        "                         'Importance' : list(importance.values())}).sort_values('Importance', ascending = False)\n",
        "\n",
        "pdVarImp['C'] = np.arange(len(pdVarImp)) + 1\n",
        "pdVarImp"
      ],
      "execution_count": null,
      "outputs": []
    },
    {
      "cell_type": "code",
      "metadata": {
        "id": "ADGsicCEP67k"
      },
      "source": [
        "plt.plot(pdVarImp.C,pdVarImp.Importance.cumsum(axis=0))"
      ],
      "execution_count": null,
      "outputs": []
    },
    {
      "cell_type": "code",
      "metadata": {
        "id": "cWZjq9vHQS2H"
      },
      "source": [
        "pdVarImp['porc_gain'] = pdVarImp.Importance.apply(lambda x: x/pdVarImp.Importance.sum())\n",
        "plt.plot(pdVarImp.C,pdVarImp.porc_gain.cumsum(axis=0))"
      ],
      "execution_count": null,
      "outputs": []
    },
    {
      "cell_type": "code",
      "metadata": {
        "id": "bgIOmJGnRelh"
      },
      "source": [
        "pdVarImp['porc_gain_acum'] = pdVarImp.porc_gain.cumsum(axis = 0)\n"
      ],
      "execution_count": null,
      "outputs": []
    },
    {
      "cell_type": "code",
      "metadata": {
        "id": "3Vc3JuvLRiIY"
      },
      "source": [
        "pdVarImp.transpose()"
      ],
      "execution_count": null,
      "outputs": []
    },
    {
      "cell_type": "code",
      "metadata": {
        "id": "XgocmyNHVsb9"
      },
      "source": [
        "# Usando el modelo para predecir\n",
        "\n",
        "X_train['probability']  = xgBoost.predict(xgb.DMatrix(X_train[features], label = y_train))\n",
        "X_test['probability'] = xgBoost.predict(xgb.DMatrix(X_test[features], label = y_test))\n",
        "\n",
        "X_train['prediction']  = X_train.probability.apply(lambda x: 1 if x > 0.5 else 0)\n",
        "X_test['prediction'] = X_test.probability.apply(lambda x: 1 if x > 0.5 else 0)"
      ],
      "execution_count": null,
      "outputs": []
    },
    {
      "cell_type": "code",
      "metadata": {
        "id": "i12M9tBeVsWK"
      },
      "source": [
        "#Resumen de todas las métricas del modelo\n",
        "from sklearn.metrics import *\n",
        "\n",
        "metricsXGB = pd.DataFrame({'metric':['AUC','Gini','Accuracy','Precision','Recall','F1-score'],\n",
        "                                'xgb_train':[roc_auc_score(y_train, X_train.probability),\n",
        "                                        (roc_auc_score(y_train, X_train.probability)*2-1),\n",
        "                                        accuracy_score(y_train, X_train.prediction),\n",
        "                                        precision_score(y_train, X_train.prediction),\n",
        "                                        recall_score(y_train, X_train.prediction),\n",
        "                                        f1_score(y_train, X_train.prediction)],\n",
        "\n",
        "                                'xgb_test':[roc_auc_score(y_test, X_test.probability),\n",
        "                                        (roc_auc_score(y_test, X_test.probability)*2-1),\n",
        "                                        accuracy_score(y_test, X_test.prediction),\n",
        "                                        precision_score(y_test, X_test.prediction),\n",
        "                                        recall_score(y_test, X_test.prediction),\n",
        "                                        f1_score(y_test, X_test.prediction)]})\n",
        "\n",
        "metricsXGB\n",
        "#metricsRes = pd.merge(metricsRes, metricsXGB, on = 'metric', how='left') \n",
        "#metricsRes       "
      ],
      "execution_count": null,
      "outputs": []
    },
    {
      "cell_type": "markdown",
      "metadata": {
        "id": "FttmZ9QVR5q4"
      },
      "source": [
        "# Random Search"
      ]
    },
    {
      "cell_type": "code",
      "metadata": {
        "id": "DSmFXeYTZ6Ou"
      },
      "source": [
        "# Muestreo de data\n",
        "\n",
        "from sklearn.model_selection import train_test_split\n",
        "\n",
        "X_train, X_test, y_train, y_test = train_test_split(X, y, \n",
        "                                                    stratify = y,\n",
        "                                                    test_size = 0.3,\n",
        "                                                    random_state = 123)\n"
      ],
      "execution_count": null,
      "outputs": []
    },
    {
      "cell_type": "code",
      "metadata": {
        "id": "Mhcz2Zj1SmaL"
      },
      "source": [
        "# setear valores iniciales\n",
        "\n",
        "paramGrid = {'objetive' : ['binary_logistic'],\n",
        "         'max_depth' : [2,3,4,5,6,7,8,9,10,11,12],\n",
        "         'learning_rate': [0.01, 0.02, 0.05, 0.1, 0.2],\n",
        "         'seed' : [123],\n",
        "         'max_leaves' : [2, 4, 8],\n",
        "         'min_data_leaf' : [0.01, 0.02, 0.05, 0.08, 0.1, 0.15, 0.2],\n",
        "         'grow_policy' : ['lossguide'],\n",
        "         'min_child_weight' : [1,2,3,4,5,6,7,8,9,10]}\n",
        "\n",
        "param['eval_metric'] = 'auc'\n",
        "num_round = 100\n",
        "\n",
        "pdResults = pd.DataFrame()\n",
        "\n"
      ],
      "execution_count": null,
      "outputs": []
    },
    {
      "cell_type": "code",
      "metadata": {
        "id": "MWM4-xnrUaZs"
      },
      "source": [
        "dtrain = xgb.DMatrix(X_train, label = y_train)\n",
        "dtest  = xgb.DMatrix(X_test, label = y_test)"
      ],
      "execution_count": null,
      "outputs": []
    },
    {
      "cell_type": "code",
      "metadata": {
        "id": "bklFI4QqUvwv"
      },
      "source": [
        "# Iniciar iteración de Hyperparámetros\n",
        "import random\n",
        "\n",
        "for i in range(1000):\n",
        "  print(\"****** Iteration : \" + str(i))\n",
        "  param = {}\n",
        "  for paramName, paramValue in paramGrid.items():\n",
        "    param[paramName] = random.choice(paramValue)\n",
        "  param['eval_metric' ] = 'auc'\n",
        "  evallist = [(dtrain,'train'),(dtest,'valid')]\n",
        "  num_round = 10     \n",
        "\n",
        "  bst = xgb.train(param, dtrain, num_round, evallist, verbose_eval = 5)\n",
        "\n",
        "  y_train_pred = bst.predict(dtrain)\n",
        "  y_test_pred = bst.predict(dtest)\n",
        "\n",
        "  giniTrain = ((roc_auc_score(y_train, y_train_pred) - 0.5)*200)\n",
        "  giniTest =  ((roc_auc_score(y_test, y_test_pred) - 0.5)*200)\n",
        "\n",
        "  pdResults = pdResults.append(pd.DataFrame({'iter' : i,\n",
        "                                             'paramName': list(param.keys()),\n",
        "                                             'paramValue': list(param.values()),\n",
        "                                             'giniTrain' : giniTrain,\n",
        "                                             'giniTest' : giniTest}))\n",
        "\n",
        "  pdResults.to_csv('HyperParamSearch.csv', index = False)"
      ],
      "execution_count": null,
      "outputs": []
    },
    {
      "cell_type": "code",
      "metadata": {
        "id": "BS8ggXhrdy8b",
        "colab": {
          "base_uri": "https://localhost:8080/",
          "height": 423
        },
        "outputId": "88d0a195-ac80-4ac1-feb1-6670a7b824bc"
      },
      "source": [
        "pddf = pd.read_csv(\"HyperParamSearch.csv\")\n",
        "pddf.sort_values('giniTest', ascending=False)"
      ],
      "execution_count": null,
      "outputs": [
        {
          "output_type": "execute_result",
          "data": {
            "text/plain": [
              "     iter         paramName       paramValue  giniTrain   giniTest\n",
              "416    46     learning_rate             0.05  83.519085  65.496942\n",
              "414    46          objetive  binary_logistic  83.519085  65.496942\n",
              "420    46       grow_policy        lossguide  83.519085  65.496942\n",
              "419    46     min_data_leaf              0.2  83.519085  65.496942\n",
              "418    46        max_leaves                4  83.519085  65.496942\n",
              "..    ...               ...              ...        ...        ...\n",
              "269    29       eval_metric              auc  90.363464  56.468389\n",
              "268    29  min_child_weight                8  90.363464  56.468389\n",
              "267    29       grow_policy        lossguide  90.363464  56.468389\n",
              "266    29     min_data_leaf             0.02  90.363464  56.468389\n",
              "600    66       grow_policy        lossguide  90.363464  56.468389\n",
              "\n",
              "[963 rows x 5 columns]"
            ],
            "text/html": [
              "\n",
              "  <div id=\"df-6a2d5ea4-2941-47a9-aaaf-407f42e5d16c\">\n",
              "    <div class=\"colab-df-container\">\n",
              "      <div>\n",
              "<style scoped>\n",
              "    .dataframe tbody tr th:only-of-type {\n",
              "        vertical-align: middle;\n",
              "    }\n",
              "\n",
              "    .dataframe tbody tr th {\n",
              "        vertical-align: top;\n",
              "    }\n",
              "\n",
              "    .dataframe thead th {\n",
              "        text-align: right;\n",
              "    }\n",
              "</style>\n",
              "<table border=\"1\" class=\"dataframe\">\n",
              "  <thead>\n",
              "    <tr style=\"text-align: right;\">\n",
              "      <th></th>\n",
              "      <th>iter</th>\n",
              "      <th>paramName</th>\n",
              "      <th>paramValue</th>\n",
              "      <th>giniTrain</th>\n",
              "      <th>giniTest</th>\n",
              "    </tr>\n",
              "  </thead>\n",
              "  <tbody>\n",
              "    <tr>\n",
              "      <th>416</th>\n",
              "      <td>46</td>\n",
              "      <td>learning_rate</td>\n",
              "      <td>0.05</td>\n",
              "      <td>83.519085</td>\n",
              "      <td>65.496942</td>\n",
              "    </tr>\n",
              "    <tr>\n",
              "      <th>414</th>\n",
              "      <td>46</td>\n",
              "      <td>objetive</td>\n",
              "      <td>binary_logistic</td>\n",
              "      <td>83.519085</td>\n",
              "      <td>65.496942</td>\n",
              "    </tr>\n",
              "    <tr>\n",
              "      <th>420</th>\n",
              "      <td>46</td>\n",
              "      <td>grow_policy</td>\n",
              "      <td>lossguide</td>\n",
              "      <td>83.519085</td>\n",
              "      <td>65.496942</td>\n",
              "    </tr>\n",
              "    <tr>\n",
              "      <th>419</th>\n",
              "      <td>46</td>\n",
              "      <td>min_data_leaf</td>\n",
              "      <td>0.2</td>\n",
              "      <td>83.519085</td>\n",
              "      <td>65.496942</td>\n",
              "    </tr>\n",
              "    <tr>\n",
              "      <th>418</th>\n",
              "      <td>46</td>\n",
              "      <td>max_leaves</td>\n",
              "      <td>4</td>\n",
              "      <td>83.519085</td>\n",
              "      <td>65.496942</td>\n",
              "    </tr>\n",
              "    <tr>\n",
              "      <th>...</th>\n",
              "      <td>...</td>\n",
              "      <td>...</td>\n",
              "      <td>...</td>\n",
              "      <td>...</td>\n",
              "      <td>...</td>\n",
              "    </tr>\n",
              "    <tr>\n",
              "      <th>269</th>\n",
              "      <td>29</td>\n",
              "      <td>eval_metric</td>\n",
              "      <td>auc</td>\n",
              "      <td>90.363464</td>\n",
              "      <td>56.468389</td>\n",
              "    </tr>\n",
              "    <tr>\n",
              "      <th>268</th>\n",
              "      <td>29</td>\n",
              "      <td>min_child_weight</td>\n",
              "      <td>8</td>\n",
              "      <td>90.363464</td>\n",
              "      <td>56.468389</td>\n",
              "    </tr>\n",
              "    <tr>\n",
              "      <th>267</th>\n",
              "      <td>29</td>\n",
              "      <td>grow_policy</td>\n",
              "      <td>lossguide</td>\n",
              "      <td>90.363464</td>\n",
              "      <td>56.468389</td>\n",
              "    </tr>\n",
              "    <tr>\n",
              "      <th>266</th>\n",
              "      <td>29</td>\n",
              "      <td>min_data_leaf</td>\n",
              "      <td>0.02</td>\n",
              "      <td>90.363464</td>\n",
              "      <td>56.468389</td>\n",
              "    </tr>\n",
              "    <tr>\n",
              "      <th>600</th>\n",
              "      <td>66</td>\n",
              "      <td>grow_policy</td>\n",
              "      <td>lossguide</td>\n",
              "      <td>90.363464</td>\n",
              "      <td>56.468389</td>\n",
              "    </tr>\n",
              "  </tbody>\n",
              "</table>\n",
              "<p>963 rows × 5 columns</p>\n",
              "</div>\n",
              "      <button class=\"colab-df-convert\" onclick=\"convertToInteractive('df-6a2d5ea4-2941-47a9-aaaf-407f42e5d16c')\"\n",
              "              title=\"Convert this dataframe to an interactive table.\"\n",
              "              style=\"display:none;\">\n",
              "        \n",
              "  <svg xmlns=\"http://www.w3.org/2000/svg\" height=\"24px\"viewBox=\"0 0 24 24\"\n",
              "       width=\"24px\">\n",
              "    <path d=\"M0 0h24v24H0V0z\" fill=\"none\"/>\n",
              "    <path d=\"M18.56 5.44l.94 2.06.94-2.06 2.06-.94-2.06-.94-.94-2.06-.94 2.06-2.06.94zm-11 1L8.5 8.5l.94-2.06 2.06-.94-2.06-.94L8.5 2.5l-.94 2.06-2.06.94zm10 10l.94 2.06.94-2.06 2.06-.94-2.06-.94-.94-2.06-.94 2.06-2.06.94z\"/><path d=\"M17.41 7.96l-1.37-1.37c-.4-.4-.92-.59-1.43-.59-.52 0-1.04.2-1.43.59L10.3 9.45l-7.72 7.72c-.78.78-.78 2.05 0 2.83L4 21.41c.39.39.9.59 1.41.59.51 0 1.02-.2 1.41-.59l7.78-7.78 2.81-2.81c.8-.78.8-2.07 0-2.86zM5.41 20L4 18.59l7.72-7.72 1.47 1.35L5.41 20z\"/>\n",
              "  </svg>\n",
              "      </button>\n",
              "      \n",
              "  <style>\n",
              "    .colab-df-container {\n",
              "      display:flex;\n",
              "      flex-wrap:wrap;\n",
              "      gap: 12px;\n",
              "    }\n",
              "\n",
              "    .colab-df-convert {\n",
              "      background-color: #E8F0FE;\n",
              "      border: none;\n",
              "      border-radius: 50%;\n",
              "      cursor: pointer;\n",
              "      display: none;\n",
              "      fill: #1967D2;\n",
              "      height: 32px;\n",
              "      padding: 0 0 0 0;\n",
              "      width: 32px;\n",
              "    }\n",
              "\n",
              "    .colab-df-convert:hover {\n",
              "      background-color: #E2EBFA;\n",
              "      box-shadow: 0px 1px 2px rgba(60, 64, 67, 0.3), 0px 1px 3px 1px rgba(60, 64, 67, 0.15);\n",
              "      fill: #174EA6;\n",
              "    }\n",
              "\n",
              "    [theme=dark] .colab-df-convert {\n",
              "      background-color: #3B4455;\n",
              "      fill: #D2E3FC;\n",
              "    }\n",
              "\n",
              "    [theme=dark] .colab-df-convert:hover {\n",
              "      background-color: #434B5C;\n",
              "      box-shadow: 0px 1px 3px 1px rgba(0, 0, 0, 0.15);\n",
              "      filter: drop-shadow(0px 1px 2px rgba(0, 0, 0, 0.3));\n",
              "      fill: #FFFFFF;\n",
              "    }\n",
              "  </style>\n",
              "\n",
              "      <script>\n",
              "        const buttonEl =\n",
              "          document.querySelector('#df-6a2d5ea4-2941-47a9-aaaf-407f42e5d16c button.colab-df-convert');\n",
              "        buttonEl.style.display =\n",
              "          google.colab.kernel.accessAllowed ? 'block' : 'none';\n",
              "\n",
              "        async function convertToInteractive(key) {\n",
              "          const element = document.querySelector('#df-6a2d5ea4-2941-47a9-aaaf-407f42e5d16c');\n",
              "          const dataTable =\n",
              "            await google.colab.kernel.invokeFunction('convertToInteractive',\n",
              "                                                     [key], {});\n",
              "          if (!dataTable) return;\n",
              "\n",
              "          const docLinkHtml = 'Like what you see? Visit the ' +\n",
              "            '<a target=\"_blank\" href=https://colab.research.google.com/notebooks/data_table.ipynb>data table notebook</a>'\n",
              "            + ' to learn more about interactive tables.';\n",
              "          element.innerHTML = '';\n",
              "          dataTable['output_type'] = 'display_data';\n",
              "          await google.colab.output.renderOutput(dataTable, element);\n",
              "          const docLink = document.createElement('div');\n",
              "          docLink.innerHTML = docLinkHtml;\n",
              "          element.appendChild(docLink);\n",
              "        }\n",
              "      </script>\n",
              "    </div>\n",
              "  </div>\n",
              "  "
            ]
          },
          "metadata": {},
          "execution_count": 28
        }
      ]
    },
    {
      "cell_type": "code",
      "metadata": {
        "id": "WVZSfXk6ewE0",
        "colab": {
          "base_uri": "https://localhost:8080/",
          "height": 423
        },
        "outputId": "ec49a797-0212-44e5-e643-a5bc9da1be19"
      },
      "source": [
        "pddf['overfitting'] = pddf.giniTrain - pddf.giniTest\n",
        "pddf.sort_values('overfitting')"
      ],
      "execution_count": null,
      "outputs": [
        {
          "output_type": "execute_result",
          "data": {
            "text/plain": [
              "     iter         paramName       paramValue  giniTrain   giniTest  \\\n",
              "117    13          objetive  binary_logistic   82.76427  65.272570   \n",
              "119    13     learning_rate             0.01   82.76427  65.272570   \n",
              "120    13              seed              123   82.76427  65.272570   \n",
              "121    13        max_leaves                4   82.76427  65.272570   \n",
              "122    13     min_data_leaf             0.02   82.76427  65.272570   \n",
              "..    ...               ...              ...        ...        ...   \n",
              "686    76     learning_rate              0.2   91.95508  56.705475   \n",
              "685    76         max_depth               11   91.95508  56.705475   \n",
              "692    76       eval_metric              auc   91.95508  56.705475   \n",
              "687    76              seed              123   91.95508  56.705475   \n",
              "691    76  min_child_weight                4   91.95508  56.705475   \n",
              "\n",
              "     overfitting  \n",
              "117    17.491700  \n",
              "119    17.491700  \n",
              "120    17.491700  \n",
              "121    17.491700  \n",
              "122    17.491700  \n",
              "..           ...  \n",
              "686    35.249605  \n",
              "685    35.249605  \n",
              "692    35.249605  \n",
              "687    35.249605  \n",
              "691    35.249605  \n",
              "\n",
              "[963 rows x 6 columns]"
            ],
            "text/html": [
              "\n",
              "  <div id=\"df-9af95b41-0f70-42ee-8cad-000fdd841f71\">\n",
              "    <div class=\"colab-df-container\">\n",
              "      <div>\n",
              "<style scoped>\n",
              "    .dataframe tbody tr th:only-of-type {\n",
              "        vertical-align: middle;\n",
              "    }\n",
              "\n",
              "    .dataframe tbody tr th {\n",
              "        vertical-align: top;\n",
              "    }\n",
              "\n",
              "    .dataframe thead th {\n",
              "        text-align: right;\n",
              "    }\n",
              "</style>\n",
              "<table border=\"1\" class=\"dataframe\">\n",
              "  <thead>\n",
              "    <tr style=\"text-align: right;\">\n",
              "      <th></th>\n",
              "      <th>iter</th>\n",
              "      <th>paramName</th>\n",
              "      <th>paramValue</th>\n",
              "      <th>giniTrain</th>\n",
              "      <th>giniTest</th>\n",
              "      <th>overfitting</th>\n",
              "    </tr>\n",
              "  </thead>\n",
              "  <tbody>\n",
              "    <tr>\n",
              "      <th>117</th>\n",
              "      <td>13</td>\n",
              "      <td>objetive</td>\n",
              "      <td>binary_logistic</td>\n",
              "      <td>82.76427</td>\n",
              "      <td>65.272570</td>\n",
              "      <td>17.491700</td>\n",
              "    </tr>\n",
              "    <tr>\n",
              "      <th>119</th>\n",
              "      <td>13</td>\n",
              "      <td>learning_rate</td>\n",
              "      <td>0.01</td>\n",
              "      <td>82.76427</td>\n",
              "      <td>65.272570</td>\n",
              "      <td>17.491700</td>\n",
              "    </tr>\n",
              "    <tr>\n",
              "      <th>120</th>\n",
              "      <td>13</td>\n",
              "      <td>seed</td>\n",
              "      <td>123</td>\n",
              "      <td>82.76427</td>\n",
              "      <td>65.272570</td>\n",
              "      <td>17.491700</td>\n",
              "    </tr>\n",
              "    <tr>\n",
              "      <th>121</th>\n",
              "      <td>13</td>\n",
              "      <td>max_leaves</td>\n",
              "      <td>4</td>\n",
              "      <td>82.76427</td>\n",
              "      <td>65.272570</td>\n",
              "      <td>17.491700</td>\n",
              "    </tr>\n",
              "    <tr>\n",
              "      <th>122</th>\n",
              "      <td>13</td>\n",
              "      <td>min_data_leaf</td>\n",
              "      <td>0.02</td>\n",
              "      <td>82.76427</td>\n",
              "      <td>65.272570</td>\n",
              "      <td>17.491700</td>\n",
              "    </tr>\n",
              "    <tr>\n",
              "      <th>...</th>\n",
              "      <td>...</td>\n",
              "      <td>...</td>\n",
              "      <td>...</td>\n",
              "      <td>...</td>\n",
              "      <td>...</td>\n",
              "      <td>...</td>\n",
              "    </tr>\n",
              "    <tr>\n",
              "      <th>686</th>\n",
              "      <td>76</td>\n",
              "      <td>learning_rate</td>\n",
              "      <td>0.2</td>\n",
              "      <td>91.95508</td>\n",
              "      <td>56.705475</td>\n",
              "      <td>35.249605</td>\n",
              "    </tr>\n",
              "    <tr>\n",
              "      <th>685</th>\n",
              "      <td>76</td>\n",
              "      <td>max_depth</td>\n",
              "      <td>11</td>\n",
              "      <td>91.95508</td>\n",
              "      <td>56.705475</td>\n",
              "      <td>35.249605</td>\n",
              "    </tr>\n",
              "    <tr>\n",
              "      <th>692</th>\n",
              "      <td>76</td>\n",
              "      <td>eval_metric</td>\n",
              "      <td>auc</td>\n",
              "      <td>91.95508</td>\n",
              "      <td>56.705475</td>\n",
              "      <td>35.249605</td>\n",
              "    </tr>\n",
              "    <tr>\n",
              "      <th>687</th>\n",
              "      <td>76</td>\n",
              "      <td>seed</td>\n",
              "      <td>123</td>\n",
              "      <td>91.95508</td>\n",
              "      <td>56.705475</td>\n",
              "      <td>35.249605</td>\n",
              "    </tr>\n",
              "    <tr>\n",
              "      <th>691</th>\n",
              "      <td>76</td>\n",
              "      <td>min_child_weight</td>\n",
              "      <td>4</td>\n",
              "      <td>91.95508</td>\n",
              "      <td>56.705475</td>\n",
              "      <td>35.249605</td>\n",
              "    </tr>\n",
              "  </tbody>\n",
              "</table>\n",
              "<p>963 rows × 6 columns</p>\n",
              "</div>\n",
              "      <button class=\"colab-df-convert\" onclick=\"convertToInteractive('df-9af95b41-0f70-42ee-8cad-000fdd841f71')\"\n",
              "              title=\"Convert this dataframe to an interactive table.\"\n",
              "              style=\"display:none;\">\n",
              "        \n",
              "  <svg xmlns=\"http://www.w3.org/2000/svg\" height=\"24px\"viewBox=\"0 0 24 24\"\n",
              "       width=\"24px\">\n",
              "    <path d=\"M0 0h24v24H0V0z\" fill=\"none\"/>\n",
              "    <path d=\"M18.56 5.44l.94 2.06.94-2.06 2.06-.94-2.06-.94-.94-2.06-.94 2.06-2.06.94zm-11 1L8.5 8.5l.94-2.06 2.06-.94-2.06-.94L8.5 2.5l-.94 2.06-2.06.94zm10 10l.94 2.06.94-2.06 2.06-.94-2.06-.94-.94-2.06-.94 2.06-2.06.94z\"/><path d=\"M17.41 7.96l-1.37-1.37c-.4-.4-.92-.59-1.43-.59-.52 0-1.04.2-1.43.59L10.3 9.45l-7.72 7.72c-.78.78-.78 2.05 0 2.83L4 21.41c.39.39.9.59 1.41.59.51 0 1.02-.2 1.41-.59l7.78-7.78 2.81-2.81c.8-.78.8-2.07 0-2.86zM5.41 20L4 18.59l7.72-7.72 1.47 1.35L5.41 20z\"/>\n",
              "  </svg>\n",
              "      </button>\n",
              "      \n",
              "  <style>\n",
              "    .colab-df-container {\n",
              "      display:flex;\n",
              "      flex-wrap:wrap;\n",
              "      gap: 12px;\n",
              "    }\n",
              "\n",
              "    .colab-df-convert {\n",
              "      background-color: #E8F0FE;\n",
              "      border: none;\n",
              "      border-radius: 50%;\n",
              "      cursor: pointer;\n",
              "      display: none;\n",
              "      fill: #1967D2;\n",
              "      height: 32px;\n",
              "      padding: 0 0 0 0;\n",
              "      width: 32px;\n",
              "    }\n",
              "\n",
              "    .colab-df-convert:hover {\n",
              "      background-color: #E2EBFA;\n",
              "      box-shadow: 0px 1px 2px rgba(60, 64, 67, 0.3), 0px 1px 3px 1px rgba(60, 64, 67, 0.15);\n",
              "      fill: #174EA6;\n",
              "    }\n",
              "\n",
              "    [theme=dark] .colab-df-convert {\n",
              "      background-color: #3B4455;\n",
              "      fill: #D2E3FC;\n",
              "    }\n",
              "\n",
              "    [theme=dark] .colab-df-convert:hover {\n",
              "      background-color: #434B5C;\n",
              "      box-shadow: 0px 1px 3px 1px rgba(0, 0, 0, 0.15);\n",
              "      filter: drop-shadow(0px 1px 2px rgba(0, 0, 0, 0.3));\n",
              "      fill: #FFFFFF;\n",
              "    }\n",
              "  </style>\n",
              "\n",
              "      <script>\n",
              "        const buttonEl =\n",
              "          document.querySelector('#df-9af95b41-0f70-42ee-8cad-000fdd841f71 button.colab-df-convert');\n",
              "        buttonEl.style.display =\n",
              "          google.colab.kernel.accessAllowed ? 'block' : 'none';\n",
              "\n",
              "        async function convertToInteractive(key) {\n",
              "          const element = document.querySelector('#df-9af95b41-0f70-42ee-8cad-000fdd841f71');\n",
              "          const dataTable =\n",
              "            await google.colab.kernel.invokeFunction('convertToInteractive',\n",
              "                                                     [key], {});\n",
              "          if (!dataTable) return;\n",
              "\n",
              "          const docLinkHtml = 'Like what you see? Visit the ' +\n",
              "            '<a target=\"_blank\" href=https://colab.research.google.com/notebooks/data_table.ipynb>data table notebook</a>'\n",
              "            + ' to learn more about interactive tables.';\n",
              "          element.innerHTML = '';\n",
              "          dataTable['output_type'] = 'display_data';\n",
              "          await google.colab.output.renderOutput(dataTable, element);\n",
              "          const docLink = document.createElement('div');\n",
              "          docLink.innerHTML = docLinkHtml;\n",
              "          element.appendChild(docLink);\n",
              "        }\n",
              "      </script>\n",
              "    </div>\n",
              "  </div>\n",
              "  "
            ]
          },
          "metadata": {},
          "execution_count": 29
        }
      ]
    },
    {
      "cell_type": "code",
      "metadata": {
        "id": "HHbUYYLSfLo6"
      },
      "source": [
        "import seaborn as sns\n",
        "import matplotlib.pyplot as plt\n"
      ],
      "execution_count": null,
      "outputs": []
    },
    {
      "cell_type": "code",
      "metadata": {
        "id": "OsXym2Dpe4Ok",
        "colab": {
          "base_uri": "https://localhost:8080/",
          "height": 476
        },
        "outputId": "e4782928-52c0-413e-b64f-d4cf93d30890"
      },
      "source": [
        "pdResults = pdResults[~pdResults.paramName.isin(['objective', 'eval_metric', 'eta'])]\n",
        "set(pdResults['paramName'])\n",
        "\n",
        "\n",
        "sns.FacetGrid(pdResults.loc[pdResults.paramName=='learning_rate'],\n",
        "              row=\"paramName\", \n",
        "              sharex=False, size=5, aspect=1.5).\\\n",
        "          map(sns.boxplot,\n",
        "              'paramValue',\n",
        "              'giniTest')"
      ],
      "execution_count": null,
      "outputs": [
        {
          "output_type": "stream",
          "name": "stderr",
          "text": [
            "/usr/local/lib/python3.7/dist-packages/seaborn/axisgrid.py:337: UserWarning: The `size` parameter has been renamed to `height`; please update your code.\n",
            "  warnings.warn(msg, UserWarning)\n",
            "/usr/local/lib/python3.7/dist-packages/seaborn/axisgrid.py:670: UserWarning: Using the boxplot function without specifying `order` is likely to produce an incorrect plot.\n",
            "  warnings.warn(warning)\n"
          ]
        },
        {
          "output_type": "execute_result",
          "data": {
            "text/plain": [
              "<seaborn.axisgrid.FacetGrid at 0x7f83c3bdbf90>"
            ]
          },
          "metadata": {},
          "execution_count": 31
        },
        {
          "output_type": "display_data",
          "data": {
            "text/plain": [
              "<Figure size 540x360 with 1 Axes>"
            ],
            "image/png": "[encoded data removed]"
          },
          "metadata": {
            "needs_background": "light"
          }
        }
      ]
    },
    {
      "cell_type": "code",
      "metadata": {
        "id": "mQJt2G5TU0IJ",
        "colab": {
          "base_uri": "https://localhost:8080/",
          "height": 476
        },
        "outputId": "f823da38-37a0-4929-c0ed-8c5b5c053c7b"
      },
      "source": [
        "sns.FacetGrid(pdResults.loc[pdResults.paramName=='max_depth'],\n",
        "              row=\"paramName\", \n",
        "              sharex=False, size=5, aspect=1.5).\\\n",
        "          map(sns.boxplot,\n",
        "              'paramValue',\n",
        "              'giniTest')"
      ],
      "execution_count": null,
      "outputs": [
        {
          "output_type": "stream",
          "name": "stderr",
          "text": [
            "/usr/local/lib/python3.7/dist-packages/seaborn/axisgrid.py:337: UserWarning: The `size` parameter has been renamed to `height`; please update your code.\n",
            "  warnings.warn(msg, UserWarning)\n",
            "/usr/local/lib/python3.7/dist-packages/seaborn/axisgrid.py:670: UserWarning: Using the boxplot function without specifying `order` is likely to produce an incorrect plot.\n",
            "  warnings.warn(warning)\n"
          ]
        },
        {
          "output_type": "execute_result",
          "data": {
            "text/plain": [
              "<seaborn.axisgrid.FacetGrid at 0x7f83c3315c10>"
            ]
          },
          "metadata": {},
          "execution_count": 32
        },
        {
          "output_type": "display_data",
          "data": {
            "text/plain": [
              "<Figure size 540x360 with 1 Axes>"
            ],
            "image/png": "[encoded data removed]"
          },
          "metadata": {
            "needs_background": "light"
          }
        }
      ]
    },
    {
      "cell_type": "markdown",
      "metadata": {
        "id": "4iMhUa5-gNCX"
      },
      "source": [
        "# Implementación de Modelos"
      ]
    },
    {
      "cell_type": "code",
      "metadata": {
        "id": "KYP3ZL4HgoGJ"
      },
      "source": [
        "import pickle"
      ],
      "execution_count": null,
      "outputs": []
    },
    {
      "cell_type": "code",
      "metadata": {
        "id": "VDD_3bR1gSGv"
      },
      "source": [
        "xgBoost"
      ],
      "execution_count": null,
      "outputs": []
    },
    {
      "cell_type": "code",
      "metadata": {
        "id": "jSXX5_Qsgx9B"
      },
      "source": [
        "objectToSave = xgBoost\n",
        "filename = \"./XGBoost.xgb\"\n",
        "pickle.dump(objectToSave, open(filename, 'wb'))\n",
        "print(\"done\")"
      ],
      "execution_count": null,
      "outputs": []
    },
    {
      "cell_type": "code",
      "metadata": {
        "id": "HfhT8AyRhdSj"
      },
      "source": [
        "filename = \"./XGBoost.xgb\"\n",
        "loaded_model = pickle.load(open(filename, 'rb'))"
      ],
      "execution_count": null,
      "outputs": []
    },
    {
      "cell_type": "code",
      "metadata": {
        "id": "RWdsHBSrhteA"
      },
      "source": [
        "loaded_model"
      ],
      "execution_count": null,
      "outputs": []
    },
    {
      "cell_type": "code",
      "metadata": {
        "id": "SjPOv4jG-2Oc"
      },
      "source": [
        "loaded_model.predict(xgb.DMatrix(X_test[features], label = y_test))\n"
      ],
      "execution_count": null,
      "outputs": []
    },
    {
      "cell_type": "markdown",
      "metadata": {
        "id": "x-4g7hHrRY22"
      },
      "source": [
        "---\n",
        "\n",
        "# Gracias por completar este laboratorio!\n",
        "\n",
        "---\n",
        "\n"
      ]
    }
  ]
}