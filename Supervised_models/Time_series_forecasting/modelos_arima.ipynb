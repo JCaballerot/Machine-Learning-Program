{
  "nbformat": 4,
  "nbformat_minor": 0,
  "metadata": {
    "colab": {
      "provenance": [],
      "authorship_tag": "ABX9TyO3PyTPznwIy/FgaDyF4RyU",
      "include_colab_link": true
    },
    "kernelspec": {
      "name": "python3",
      "display_name": "Python 3"
    },
    "language_info": {
      "name": "python"
    }
  },
  "cells": [
    {
      "cell_type": "markdown",
      "metadata": {
        "id": "view-in-github",
        "colab_type": "text"
      },
      "source": [
        "<a href=\"https://colab.research.google.com/github/JCaballerot/Machine_learning_program/blob/main/Supervised_models/Time_series_forecasting/modelos_arima.ipynb\" target=\"_parent\"><img src=\"https://colab.research.google.com/assets/colab-badge.svg\" alt=\"Open In Colab\"/></a>"
      ]
    },
    {
      "cell_type": "markdown",
      "source": [
        "\n",
        "<h1 align=center><font size = 6>Forecasting de series temporales\n",
        "</font></h1>\n",
        "\n",
        "---"
      ],
      "metadata": {
        "id": "8IVAZkYe6M1g"
      }
    },
    {
      "cell_type": "markdown",
      "source": [
        "## Tabla de Contenidos\n",
        "\n",
        "<div class=\"alert alert-block alert-info\" style=\"margin-top: 20px\">\n",
        "\n",
        "<font size = 3>\n",
        "    \n",
        "1. <a href=\"#item1\">Introducción a la predicción de series temporales</a> \\\n",
        "2. <a href=\"#item2\">Introducción a lod modelos ARIMA</a> \\\n",
        "3. <a href=\"#item3\">El significado de p, d y q en el modelo ARIMA</a> \\\n",
        "4. <a href=\"#item4\">Modelos AR y MA</a> \\\n",
        "5. <a href=\"#item5\">Orden de diferenciación (d) en ARIMA</a> \\\n",
        "6. <a href=\"#item6\">Término AR (p)</a> \\\n",
        "7. <a href=\"#item7\">Término MA (q)</a> \\\n",
        "7. <a href=\"#item7\">Modelo ARIMA</a> \\\n",
        "\n",
        "\n",
        "</font>\n",
        "</div>"
      ],
      "metadata": {
        "id": "5Wc5Gi2DT8hl"
      }
    },
    {
      "cell_type": "markdown",
      "source": [
        "## 1. Introducción a la predicción de series temporales"
      ],
      "metadata": {
        "id": "49FHIoM70RSP"
      }
    },
    {
      "cell_type": "markdown",
      "source": [
        "* Una serie temporal se define como una serie de puntos de datos registrados en diferentes intervalos de tiempo. El orden de tiempo puede ser diario, mensual o incluso anual.\n",
        "\n",
        "* El forecasting de series temporales es el proceso de utilizar un modelo estadístico para predecir valores futuros de una serie temporal en función de resultados pasados."
      ],
      "metadata": {
        "id": "ky5wJcGI0gd7"
      }
    },
    {
      "cell_type": "markdown",
      "source": [
        "<b>El forecasting de una serie de tiempo se puede dividir en dos tipos</b>\n",
        "\n",
        "* Si usamos solo los valores anteriores de la serie de tiempo para predecir sus valores futuros, se llama Forecasting de Serie de Tiempo Univariado.\n",
        "\n",
        "* Si usamos predictores distintos de la serie (como variables exógenas) para pronosticar, se llama Forecasring de serie de tiempo de múltiples variables.\n",
        "\n",
        "Nos enfocaremos en un tipo particular de método de pronóstico llamado modelado <b>ARIMA</b>.\n",
        "\n",
        "---"
      ],
      "metadata": {
        "id": "lS6Kk91S1gzZ"
      }
    },
    {
      "cell_type": "markdown",
      "source": [
        "## 2. Introducción a los modelos ARIMA"
      ],
      "metadata": {
        "id": "JuX8dFzh2JMj"
      }
    },
    {
      "cell_type": "markdown",
      "source": [
        "* <b>ARIMA</b> significa <b>Modelo de Media Móvil Integrado Autoregresiva</b>. Pertenece a una clase de modelos que explican una serie de tiempo dada con base en sus propios valores pasados, es decir, sus propios rezagos y los errores de pronóstico rezagados. La ecuación se puede utilizar para pronosticar valores futuros. \n",
        "\n",
        "* Cualquier serie de tiempo \"no estacional\" que muestre patrones y no sea un ruido blanco aleatorio se puede modelar con modelos <b>ARIMA</b>.\n",
        "\n",
        "* Entonces, <b>ARIMA</b>, es un algoritmo de forecasting basado en la idea de que la información en los valores pasados de la serie de tiempo se puede usar por sí sola para predecir los valores futuros.\n",
        "\n"
      ],
      "metadata": {
        "id": "dQO5huKV2z8r"
      }
    },
    {
      "cell_type": "markdown",
      "source": [
        "* Los modelos <b>ARIMA</b> se especifican mediante tres parámetros de orden: (p, d, q),\n",
        "donde:\n",
        "> * p es el orden del término AR\n",
        "> * q es el orden del término MA\n",
        "> * d es el número de diferenciaciones requeridas para hacer que la serie de tiempo sea estacionaria\n",
        "\n"
      ],
      "metadata": {
        "id": "NvgQIYYR3tFC"
      }
    },
    {
      "cell_type": "markdown",
      "source": [
        "<b>AR(p) Autorregresión: </b>\n",
        "\n",
        ">Un modelo de regresión que utiliza la relación dependiente entre una observación actual y las observaciones durante un período anterior. Un componente autorregresivo (AR(p)) se refiere al uso de valores pasados en la ecuación de regresión para la serie temporal."
      ],
      "metadata": {
        "id": "LSPeyhzi0CKW"
      }
    },
    {
      "cell_type": "markdown",
      "source": [
        "<b>I(d) Integración: </b>\n",
        "\n",
        ">Utiliza la diferenciación de observaciones (restando una observación de la observación en el paso de tiempo anterior) para hacer que la serie de tiempo sea estacionaria. La diferenciación implica la resta de los valores actuales de una serie con sus valores anteriores d número de veces."
      ],
      "metadata": {
        "id": "RwpmuOGL0Dnx"
      }
    },
    {
      "cell_type": "markdown",
      "source": [
        "<b>Media móvil MA(q): </b>\n",
        "\n",
        ">Un modelo que utiliza la dependencia entre una observación y un error residual de un modelo de media móvil aplicado a observaciones retrasadas. Un componente de promedio móvil representa el error del modelo como una combinación de términos de error anteriores.<p>\n",
        "El orden q representa el número de términos a incluir en el modelo."
      ],
      "metadata": {
        "id": "Hq5isF6P4735"
      }
    },
    {
      "cell_type": "markdown",
      "source": [
        "<b>Tipos de modelo ARIMA</b>\n",
        "\n",
        "* <b>ARIMA:</b> Medias móviles integradas autorregresivas no estacionales\n",
        "* <b>SARIMA:</b> ARIMA Estacional\n",
        "* <b>SARIMAX:</b> ARIMA estacional con variables exógenas\n",
        "Si una serie de tiempo tiene patrones estacionales, entonces necesitamos agregar términos estacionales y se convierte en SARIMA, abreviatura de ARIMA estacional.\n",
        "\n",
        "---"
      ],
      "metadata": {
        "id": "IcNwclX25sf5"
      }
    },
    {
      "cell_type": "markdown",
      "source": [
        "## 3. El significado de p, d y q en el modelo ARIMA"
      ],
      "metadata": {
        "id": "M1JeIwZR7Ers"
      }
    },
    {
      "cell_type": "markdown",
      "source": [
        "<b>3.1 El significado de p</b><p>\n",
        "\n",
        "* p es el orden del término Auto Regresivo (AR). Se refiere al número de retrasos de Y que se utilizarán como predictores."
      ],
      "metadata": {
        "id": "ySClzzmhWD_7"
      }
    },
    {
      "cell_type": "markdown",
      "source": [
        "<b>3.2 El significado de d</b><p>\n",
        "\n",
        "* El término Auto Regresivo en ARIMA significa que es un modelo de regresión lineal que utiliza sus propios retrasos como predictores. Los modelos de regresión lineal, como sabemos, funcionan mejor cuando los predictores no están correlacionados y son independientes entre sí. Entonces necesitamos hacer que la serie de tiempo sea estacionaria.<p>\n",
        "* El enfoque más común para hacer que la serie sea estacionaria es diferenciarla. Es decir, restar el valor anterior del valor actual. A veces, dependiendo de la complejidad de la serie, puede ser necesaria más de una diferenciación.<p>\n",
        "* El valor de d, por tanto, es el número mínimo de diferenciaciones necesarias para que la serie sea estacionaria. Si la serie temporal ya es estacionaria, entonces d = 0."
      ],
      "metadata": {
        "id": "Uv_cpmKEWfSv"
      }
    },
    {
      "cell_type": "markdown",
      "source": [
        "<b>3.3 El significado de q</b><p>\n",
        "\n",
        "* q es el orden del término de la media móvil (MA). Se refiere a la cantidad de errores de pronóstico retrasados que deben incluirse en el modelo ARIMA.\n",
        "\n",
        "\n",
        "---\n"
      ],
      "metadata": {
        "id": "gwVyjegVZL2z"
      }
    },
    {
      "cell_type": "markdown",
      "source": [
        "## 4. Modelos AR y MA"
      ],
      "metadata": {
        "id": "2S0UR5z7Zk_M"
      }
    },
    {
      "cell_type": "markdown",
      "source": [
        "<b>4.1 modelo AR</b><p>\n",
        "\n",
        "><b>El modelo autorregresivo (AR)</b> es uno en el que Yt depende solo de sus propios retrasos.\n",
        "Es decir, Yt es una función de los rezagos de Yt. Está representado por la siguiente ecuación:"
      ],
      "metadata": {
        "id": "9cjLzFFNaK50"
      }
    },
    {
      "cell_type": "markdown",
      "source": [
        "\n",
        "<img src=\"https://www.machinelearningplus.com/wp-content/uploads/2019/02/Equation-1-min.png?ezimgfmt=ng:webp/ngcb1\" alt=\"HTML5 Icon\" style=\"width: 600px; height: 450px;\">"
      ],
      "metadata": {
        "id": "aphJKSdEanX1"
      }
    },
    {
      "cell_type": "markdown",
      "source": [
        "dónde,\n",
        "\n",
        "> <b>𝑌𝑡−1:</b> Es el lag1 de la serie<p>\n",
        "> <b>𝛽1:</b> Es el coeficiente de lag1 que estima el modelo<p>\n",
        "> <b>𝛼:</b> Es el término de intercepto, también estimado por el modelo"
      ],
      "metadata": {
        "id": "6gFgPZhNbNLK"
      }
    },
    {
      "cell_type": "markdown",
      "source": [
        "<b>4.2 Modelo MA</b><p>\n",
        ">Del mismo modo, <b>el modelo de media móvil (MA)</b> es uno en el que Yt depende solo de los errores de pronóstico retrasados. Está representado por la siguiente ecuación:"
      ],
      "metadata": {
        "id": "sXWVyjib8Rkg"
      }
    },
    {
      "cell_type": "markdown",
      "source": [
        "<img src=\"https://www.machinelearningplus.com/wp-content/uploads/2019/02/Equation-2-min.png?ezimgfmt=ng:webp/ngcb1\" alt=\"HTML5 Icon\" style=\"width: 600px; height: 450px;\">"
      ],
      "metadata": {
        "id": "kAQjx0gZ8gzm"
      }
    },
    {
      "cell_type": "markdown",
      "source": [
        ">donde los términos de error son los errores de los modelos autorregresivos de los rezagos respectivos.\n",
        ">Los errores Et y E(t-1) son los errores de las siguientes ecuaciones:"
      ],
      "metadata": {
        "id": "MIw8fmCK8u7O"
      }
    },
    {
      "cell_type": "markdown",
      "source": [
        "<img src=\"https://www.machinelearningplus.com/wp-content/uploads/2019/02/Equation-3-min.png?ezimgfmt=ng:webp/ngcb1\" alt=\"HTML5 Icon\" style=\"width: 600px; height: 450px;\">"
      ],
      "metadata": {
        "id": "mbNgGP_v9Bde"
      }
    },
    {
      "cell_type": "markdown",
      "source": [
        "<b>4.3 Modelo ARIMA</b><p>\n",
        "\n",
        "><b>El modelo ARIMA</b> es aquel en el que la serie de tiempo se diferenció al menos una vez para hacerla estacionaria y combinamos los términos AR y MA. Entonces la ecuación de un modelo ARIMA se convierte en:"
      ],
      "metadata": {
        "id": "urR95vrM9o__"
      }
    },
    {
      "cell_type": "markdown",
      "source": [
        "<img src=\"https://www.machinelearningplus.com/wp-content/uploads/2019/02/Equation-4-min-865x77.png?ezimgfmt=ng:webp/ngcb1\" alt=\"HTML5 Icon\" style=\"width: 600px; height: 450px;\">"
      ],
      "metadata": {
        "id": "ryie1Sc1-O3n"
      }
    },
    {
      "cell_type": "markdown",
      "source": [
        "> <i> Yt pronosticado = Constante + Combinación lineal Retrasos de Y (hasta p rezagos) + Combinación lineal de errores de pronóstico rezagados (hasta q rezagos)\n",
        "\n",
        "---\n"
      ],
      "metadata": {
        "id": "tFpt_3N0-h6a"
      }
    },
    {
      "cell_type": "code",
      "source": [],
      "metadata": {
        "id": "NWQnV0bqBN5A"
      },
      "execution_count": 2,
      "outputs": []
    },
    {
      "cell_type": "markdown",
      "source": [
        "### Importación de librerías y dependencias\n",
        "\n"
      ],
      "metadata": {
        "id": "xO2RBVEFr9tN"
      }
    },
    {
      "cell_type": "markdown",
      "source": [
        "Cargamos las librerías y principales dependencias que utilizaremos en el notebook.\n",
        "\n",
        "---"
      ],
      "metadata": {
        "id": "fmv7x-WEwv2n"
      }
    },
    {
      "cell_type": "code",
      "execution_count": 3,
      "metadata": {
        "id": "Q11_t7hjr3fD"
      },
      "outputs": [],
      "source": [
        "# Cargando pandas\n",
        "import pandas as pd\n",
        "\n",
        "# Cargando numpy\n",
        "import numpy as np\n",
        "from numpy import log\n",
        "\n",
        "# Cargando librerías gráficas\n",
        "import matplotlib.pyplot as plt                  \n",
        "import seaborn as sns                            \n",
        "\n",
        "# Cargando sklearn para las métricas de evaluación\n",
        "from sklearn.metrics import *\n",
        "\n",
        "# Librerías necesarias para el entrenamiento de modelos\n",
        "from plotMovingAverage import *\n",
        "\n",
        "from statsmodels.tsa.stattools import adfuller\n",
        "from statsmodels.graphics.tsaplots import plot_acf, plot_pacf\n",
        "from statsmodels.tsa.arima_model import ARIMA\n",
        "import statsmodels.api as sm\n"
      ]
    },
    {
      "cell_type": "markdown",
      "source": [
        "### Carga y preparación del Dataset"
      ],
      "metadata": {
        "id": "ehWhNPfVsKFl"
      }
    },
    {
      "cell_type": "markdown",
      "source": [
        "Importamos la información desde un archivo csv cargado en el file temporal y nos quedamos con los datos que utilizaremos para el modelo.\n",
        "\n",
        "---"
      ],
      "metadata": {
        "id": "6YGbfWavw0hC"
      }
    },
    {
      "cell_type": "code",
      "source": [
        "# Configuración inicial\n",
        "\n",
        "# Target a modelar\n",
        "target = 'PBI'\n",
        "\n",
        "# datos de la zona a modelar\n",
        "pddf = pd.read_csv('pbi_anual.csv', delimiter = ';')\n"
      ],
      "metadata": {
        "id": "RJ4lsnAb8-Yu"
      },
      "execution_count": 4,
      "outputs": []
    },
    {
      "cell_type": "code",
      "source": [
        "pddf.head()"
      ],
      "metadata": {
        "id": "MbemW19JoLrI"
      },
      "execution_count": null,
      "outputs": []
    },
    {
      "cell_type": "markdown",
      "source": [
        "#### Generamos la base de test para el modelo"
      ],
      "metadata": {
        "id": "i9VusdPdCmzJ"
      }
    },
    {
      "cell_type": "markdown",
      "source": [
        "Reservamos una muestra para validar que tan bueno es el modelo en data no entrenada."
      ],
      "metadata": {
        "id": "a284dRBVDPt5"
      }
    },
    {
      "cell_type": "code",
      "source": [
        "test_size = 12\n",
        "\n",
        "data = pddf.copy().dropna()\n",
        "X_train = pddf[:-test_size].dropna()\n",
        "X_test  = pddf[-test_size:].dropna()\n"
      ],
      "metadata": {
        "id": "r5toDAY8ul8i"
      },
      "execution_count": 66,
      "outputs": []
    },
    {
      "cell_type": "markdown",
      "source": [
        "### Modelo de Forecasting"
      ],
      "metadata": {
        "id": "c39Drzwvh8Nu"
      }
    },
    {
      "cell_type": "markdown",
      "source": [
        "### Análisis gráfico"
      ],
      "metadata": {
        "id": "SFdpMnUJK7SQ"
      }
    },
    {
      "cell_type": "markdown",
      "source": [
        "En el análisis gráfico tendremos una primera vista del comportamiento de la serie temporal, en este punto será necesario analizar cantidades mensuales, tendencias, estacionalidades y estacionariedades de forma gráfica para poder tomar desiciones de modelamiento más adelante."
      ],
      "metadata": {
        "id": "t5nbA_a1PuR3"
      }
    },
    {
      "cell_type": "code",
      "source": [
        "plotMovingAverage(data[target], 3)"
      ],
      "metadata": {
        "id": "DGQ8sqoUtgKj"
      },
      "execution_count": null,
      "outputs": []
    },
    {
      "cell_type": "code",
      "source": [
        "plotMovingAverage(data[target], 6, plot_intervals=True, scale=1.64, plot_anomalies=False)"
      ],
      "metadata": {
        "id": "HzcsrTx_qttD"
      },
      "execution_count": null,
      "outputs": []
    },
    {
      "cell_type": "markdown",
      "source": [
        "La serie presenta tendencia positiva, además es no estacionaria."
      ],
      "metadata": {
        "id": "jO5hsy7WrTbS"
      }
    },
    {
      "cell_type": "markdown",
      "source": [
        "## 5. Cómo encontrar el orden de diferenciación (d) en ARIMA"
      ],
      "metadata": {
        "id": "RdfEF9go_zYr"
      }
    },
    {
      "cell_type": "markdown",
      "source": [
        "* El propósito de la diferenciación es hacer que la serie de tiempo sea estacionaria. Pero debemos tener cuidado de no diferenciar demasiado la serie. Una serie sobrediferenciada aún puede ser estacionaria, lo que a su vez afectará los parámetros del modelo.\n",
        "\n",
        "* Entonces debemos determinar el orden correcto de diferenciación. El orden correcto de diferenciación es la diferenciación mínima requerida para obtener una serie casi estacionaria que se desplaza alrededor de una media definida y la gráfica <b>ACF</b> llega a cero bastante rápido.\n",
        "\n",
        "* Si las autocorrelaciones son positivas para muchos rezagos (10 o más), entonces la serie necesita más diferenciación. Por otro lado, si la autocorrelación del retardo 1 en sí misma es demasiado negativa, es probable que la serie esté sobrediferenciada.\n",
        "\n",
        "\n",
        "* Si realmente no podemos decidir entre dos órdenes de diferenciación, vamos con el orden que da la menor desviación estándar en la serie diferenciada.\n",
        "Ahora, explicaremos estos conceptos con la ayuda de un ejemplo de la siguiente manera: <p>\n",
        "\n",
        "\n",
        "> * Primero, verificamos si la serie es estacionaria utilizando la prueba de <b>Dickey Fuller aumentada (ADF Test)</b>, del paquete statsmodels. La razón es que necesitamos diferenciar solo si la serie no es estacionaria. De lo contrario, no se necesita diferenciación, es decir, d=0. <p>\n",
        "> * La hipótesis nula (Ho) de la prueba ADF es que la serie temporal no es estacionaria. Entonces, si el valor p de la prueba es menor que el nivel de significación (0.05), rechazamos la hipótesis nula e inferimos que la serie de tiempo es estacionaria.\n",
        "si P Value > 0.05 continuamos con la búsqueda del orden de diferenciación."
      ],
      "metadata": {
        "id": "Ct9niXPzBOgR"
      }
    },
    {
      "cell_type": "markdown",
      "source": [
        "<b>Prueba aumentada de dicky Fuller para estacionariedad."
      ],
      "metadata": {
        "id": "ZX_KNUgPr_Xj"
      }
    },
    {
      "cell_type": "code",
      "source": [
        "result = adfuller(X_train[target].dropna())\n",
        "print('ADF Statistic: %f' % result[0])\n",
        "print('p-value: %f' % result[1])"
      ],
      "metadata": {
        "id": "pv8QU5OCsFsN"
      },
      "execution_count": null,
      "outputs": []
    },
    {
      "cell_type": "markdown",
      "source": [
        "Dado que el valor p (1,00) es mayor que el nivel de significancia (0,05), diferenciemos las series y veamos cómo se ve el gráfico de autocorrelación."
      ],
      "metadata": {
        "id": "rI4hzLNYsTwK"
      }
    },
    {
      "cell_type": "markdown",
      "source": [
        "#### I (d) "
      ],
      "metadata": {
        "id": "iswepEWpsboe"
      }
    },
    {
      "cell_type": "markdown",
      "source": [
        "Diferenciamos la serie para validar en que punto esta se vuelve estacionaria."
      ],
      "metadata": {
        "id": "2npxq-a8seMV"
      }
    },
    {
      "cell_type": "code",
      "source": [
        "\n",
        "plt.rcParams.update({'figure.figsize':(9,7), 'figure.dpi':120})\n",
        "\n",
        "# Original Series\n",
        "fig, axes = plt.subplots(3, 2, sharex=True)\n",
        "axes[0, 0].plot(X_train[target]); axes[0, 0].set_title('Original Series')\n",
        "plot_acf(X_train[target], ax=axes[0, 1])\n",
        "\n",
        "# 1st Differencing\n",
        "axes[1, 0].plot(X_train[target].diff()); axes[1, 0].set_title('1st Order Differencing')\n",
        "plot_acf(X_train[target].diff().dropna(), ax=axes[1, 1])\n",
        "\n",
        "# 2nd Differencing\n",
        "axes[2, 0].plot(X_train[target].diff().diff()); axes[2, 0].set_title('2nd Order Differencing')\n",
        "plot_acf(X_train[target].diff().diff().dropna(), ax=axes[2, 1])\n",
        "\n",
        "\n",
        "plt.xticks(rotation=90)\n",
        "plt.show()"
      ],
      "metadata": {
        "id": "KO_j2QPMsTGe"
      },
      "execution_count": null,
      "outputs": []
    },
    {
      "cell_type": "markdown",
      "source": [
        "Por los datos anteriores, podemos ver que la serie de tiempo alcanza la estacionariedad con dos órdenes de diferenciación."
      ],
      "metadata": {
        "id": "YYkaAByWtE7p"
      }
    },
    {
      "cell_type": "markdown",
      "source": [
        "## 6. Cómo encontrar el orden del término AR (p)"
      ],
      "metadata": {
        "id": "fixbrM75TzDt"
      }
    },
    {
      "cell_type": "markdown",
      "source": [
        "* El siguiente paso es identificar si el modelo necesita algún término AR. Encontraremos el número requerido de términos AR inspeccionando el <b>gráfico de autocorrelación parcial (PACF).</b>\n",
        "\n",
        "* La autocorrelación parcial se puede imaginar como la correlación entre la serie y su rezago, después de excluir las contribuciones de los rezagos intermedios. Entonces, PACF transmite la correlación pura entre un retraso y la serie. Así sabremos si ese lag es necesario en el término AR o no.\n",
        "\n",
        "* La autocorrelación parcial del retraso (k) de una serie es el coeficiente de ese retraso en la ecuación de autorregresión de Y.\n",
        "𝑌𝑡=𝛼0+𝛼1𝑌𝑡−1+𝛼2𝑌𝑡−2+𝛼3𝑌𝑡−3\n",
        " \n",
        "* Es decir, supongamos que si Y_t es la serie actual e Y_t-1 es el rezago 1 de Y, entonces la autocorrelación parcial del rezago 3 (Y_t-3) es el coeficiente 𝛼3 de Y_t-3 en la ecuación anterior.\n",
        "\n",
        "* Ahora, debemos encontrar el número de términos AR. Cualquier autocorrelación en una serie estacionaria puede rectificarse agregando suficientes términos AR. Entonces, inicialmente tomamos el orden del término AR para que sea igual a tantos retrasos que crucen el límite de significación en la gráfica PACF."
      ],
      "metadata": {
        "id": "8-RokwJxRtzi"
      }
    },
    {
      "cell_type": "code",
      "source": [
        "# PACF plot of 1st differenced series\n",
        "plt.rcParams.update({'figure.figsize':(9,3), 'figure.dpi':120})\n",
        "fig, axes = plt.subplots(1, 2, sharex=True)\n",
        "axes[0].plot(X_train[target].diff()); axes[0].set_title('1st Differencing')\n",
        "axes[1].set(ylim=(0, 1.5))\n",
        "\n",
        "plot_pacf(X_train[target].diff().dropna(), ax=axes[1])\n",
        "\n",
        "plt.xticks(rotation=90)\n",
        "plt.show()"
      ],
      "metadata": {
        "id": "waUyHRZ6cDPq"
      },
      "execution_count": null,
      "outputs": []
    },
    {
      "cell_type": "markdown",
      "source": [
        "Podemos ver que el retraso 1 y 2 de PACF es bastante significativo ya que está muy por encima de la línea de significancia. Entonces, fijaremos el valor de p como 2."
      ],
      "metadata": {
        "id": "V2dGWC6pExbv"
      }
    },
    {
      "cell_type": "markdown",
      "source": [
        "## 7. Cómo encontrar el orden del término MA (q)"
      ],
      "metadata": {
        "id": "hD7yTJfSvCew"
      }
    },
    {
      "cell_type": "markdown",
      "source": [
        "* Al igual que observamos la gráfica <b>PACF</b> para la cantidad de términos AR, veremos la gráfica <b>ACF</b> para la cantidad de términos MA. Un término MA es técnicamente el error del pronóstico retrasado.\n",
        "\n",
        "* El <b>ACF</b> indica cuántos términos MA se requieren para eliminar cualquier autocorrelación en la serie estacionaria.\n",
        "\n",
        "Veamos el gráfico de autocorrelación de la serie diferenciada."
      ],
      "metadata": {
        "id": "jkczon-hFe8d"
      }
    },
    {
      "cell_type": "code",
      "source": [
        "\n",
        "plt.rcParams.update({'figure.figsize':(9,3), 'figure.dpi':120})\n",
        "\n",
        "fig, axes = plt.subplots(1, 2, sharex=True)\n",
        "axes[0].plot(X_train[target].diff()); axes[0].set_title('1st Differencing')\n",
        "axes[0].set(ylim=(-3000, 3000))\n",
        "axes[1].set(xlim=(0, 20))\n",
        "plot_acf(X_train[target].diff().dropna(), ax=axes[1])\n",
        "plt.xticks(rotation=90)\n",
        "plt.show()\n"
      ],
      "metadata": {
        "id": "eNy0T3cMtESz"
      },
      "execution_count": null,
      "outputs": []
    },
    {
      "cell_type": "markdown",
      "source": [
        "Podemos ver que un par de retrasos están muy por encima de la línea de significación. Entonces, fijaremos q como 2. Si hay alguna duda, iremos con el modelo más simple que explique suficientemente la Y."
      ],
      "metadata": {
        "id": "U8iaofQVHr4G"
      }
    },
    {
      "cell_type": "markdown",
      "source": [
        "## 8. Modelo ARIMA"
      ],
      "metadata": {
        "id": "PvXdQ9hLIJl1"
      }
    },
    {
      "cell_type": "markdown",
      "source": [
        "Ahora que hemos determinado los valores de p, d y q. Disponemos de todo lo necesario para adaptarse al modelo ARIMA. Usaremos la implementación ARIMA() en el paquete statsmodels."
      ],
      "metadata": {
        "id": "1vaocWDeItRR"
      }
    },
    {
      "cell_type": "code",
      "source": [
        "# p,d,q ARIMA Model\n",
        "from statsmodels.tsa.arima.model import ARIMA\n",
        "\n",
        "model = ARIMA(X_train[target],\n",
        "              order=(2,2,2))\n",
        "\n",
        "model_fit = model.fit()\n",
        "print(model_fit.summary())"
      ],
      "metadata": {
        "id": "BLzJ8ojFI6RU"
      },
      "execution_count": null,
      "outputs": []
    },
    {
      "cell_type": "markdown",
      "source": [
        "* La tabla en el medio es la tabla de coeficientes donde los valores bajo 'coef' son los pesos de los términos respectivos.\n",
        "\n",
        "* El coeficiente del término MA3 es cercano a cero y el valor P en la columna 'P>|z|' es muy insignificante. Idealmente, debería ser inferior a 0,05 para que la X respectiva sea significativa.\n",
        "\n",
        "* Entonces, reconstruiremos el modelo sin el término AR2."
      ],
      "metadata": {
        "id": "vhA6KTbDMGIO"
      }
    },
    {
      "cell_type": "code",
      "source": [
        "model = ARIMA(X_train[target],\n",
        "              order=(1,2,1))\n",
        "\n",
        "model_fit = model.fit()\n",
        "print(model_fit.summary())"
      ],
      "metadata": {
        "id": "pkQKRZ-nMeWZ"
      },
      "execution_count": null,
      "outputs": []
    },
    {
      "cell_type": "markdown",
      "source": [
        "* El AIC se ha reducido ligeramente, lo cual es bueno. \n",
        "* Los valores de p de los términos AR1 y MA1 han mejorado y son altamente significativos (<< 0,05).\n",
        "\n",
        "* Grafiquemos los residuos para asegurarnos de que no haya patrones (es decir, busquemos la media y la varianza constantes)."
      ],
      "metadata": {
        "id": "Ss6TB65uM4vW"
      }
    },
    {
      "cell_type": "code",
      "source": [
        "# Plot residual errors\n",
        "residuals = pd.DataFrame(model_fit.resid)\n",
        "fig, ax = plt.subplots(1,2)\n",
        "residuals.plot(title=\"Residuals\", ax=ax[0])\n",
        "residuals.plot(kind='kde', title='Density', ax=ax[1])\n",
        "plt.show()"
      ],
      "metadata": {
        "id": "tyjBWGavM4Fq"
      },
      "execution_count": null,
      "outputs": []
    },
    {
      "cell_type": "markdown",
      "source": [
        "Los errores residuales parecen correctos con una media cercana a cero y una varianza uniforme. Grafiquemos los valores reales contra los valores ajustados usando plot_predict()."
      ],
      "metadata": {
        "id": "2MWLO1WMNVr0"
      }
    },
    {
      "cell_type": "code",
      "source": [
        "\n",
        "fc = model_fit.forecast(test_size, alpha=0.05)\n",
        "\n",
        "model_res = model_fit.predict(start = X_train.index[2], \n",
        "                                end = X_train.index[-1], dynamic=False, typ = 'levels')\n",
        "\n",
        "data_res = data.copy()\n",
        "data_res['venta_predicted'] = model_res\n",
        "data_res.iloc[-test_size:]['venta_predicted'] = fc\n",
        "\n",
        "sns.lineplot(data = data_res[[target, 'venta_predicted']])\n"
      ],
      "metadata": {
        "id": "sr_UAsKyNgNU"
      },
      "execution_count": null,
      "outputs": []
    },
    {
      "cell_type": "code",
      "source": [
        "full_results = model_fit.get_forecast(12).summary_frame()\n",
        "full_results"
      ],
      "metadata": {
        "id": "jHNv19qsRW3C"
      },
      "execution_count": null,
      "outputs": []
    },
    {
      "cell_type": "code",
      "source": [
        "plt.fill_between(full_results.index, full_results.mean_ci_lower, full_results.mean_ci_upper, \n",
        "                 color='k', alpha=.15)\n",
        "sns.lineplot(data = data_res[[target, 'venta_predicted']][80:])\n",
        "\n"
      ],
      "metadata": {
        "id": "5iSoV9lbSv_v"
      },
      "execution_count": null,
      "outputs": []
    },
    {
      "cell_type": "markdown",
      "source": [
        "---\n",
        "Gracias por completar este laboratorio!!!\n",
        "---"
      ],
      "metadata": {
        "id": "Z_whDLhKToET"
      }
    }
  ]
}