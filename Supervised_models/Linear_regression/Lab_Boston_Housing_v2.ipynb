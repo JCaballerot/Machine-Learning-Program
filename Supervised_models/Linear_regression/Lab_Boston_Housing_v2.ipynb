{
  "nbformat": 4,
  "nbformat_minor": 0,
  "metadata": {
    "colab": {
      "name": "Lab: Boston Housing.ipynb",
      "provenance": [],
      "machine_shape": "hm",
      "authorship_tag": "ABX9TyM4j267RmqlziIfs5/i11sT",
      "include_colab_link": true
    },
    "kernelspec": {
      "name": "python3",
      "display_name": "Python 3"
    }
  },
  "cells": [
    {
      "cell_type": "markdown",
      "metadata": {
        "id": "view-in-github",
        "colab_type": "text"
      },
      "source": [
        "<a href=\"https://colab.research.google.com/github/JCaballerot/Machine_learning_program/blob/main/Supervised_models/Linear_regression/Lab_Boston_Housing_v2.ipynb\" target=\"_parent\"><img src=\"https://colab.research.google.com/assets/colab-badge.svg\" alt=\"Open In Colab\"/></a>"
      ]
    },
    {
      "cell_type": "markdown",
      "source": [
        "\n",
        "<img src=\"https://storage.googleapis.com/kaggle-datasets-images/1379/2485/a52db2794593657403a4235bfc4147aa/dataset-cover.jpg\n",
        "\" width=\"1000\" height=\"300\" >"
      ],
      "metadata": {
        "id": "nfVfNv0TqwYo"
      }
    },
    {
      "cell_type": "markdown",
      "metadata": {
        "id": "XkAemYVYi7k5"
      },
      "source": [
        "\n",
        "<h1 align=center><font size = 5>Boston Housing</font></h1>\n",
        "\n",
        "---"
      ]
    },
    {
      "cell_type": "markdown",
      "metadata": {
        "button": false,
        "deletable": true,
        "new_sheet": false,
        "run_control": {
          "read_only": false
        },
        "id": "R_NIQeNlLo19"
      },
      "source": [
        "## Introducción\n"
      ]
    },
    {
      "cell_type": "markdown",
      "metadata": {
        "id": "g7LRGuxBHMpw"
      },
      "source": [
        "En este laboratorio, aprenderá a usar python para construir un modelo de regresión."
      ]
    },
    {
      "cell_type": "markdown",
      "metadata": {
        "id": "yFB_r2dkHMp7"
      },
      "source": [
        "\n",
        "<h3>Objetivo de este Notebook<h3>    \n",
        "<h5> 1. Como construir e interpretar un modelo de regresión.</h5>\n",
        "<h5> 2. Descargar y limpiar un Dataset </h5>\n",
        "<h5> 3. Realizar los pasos necesarios previos a la etapa de modelamiento </h5>\n",
        "<h5> 4. Entrenar y Testear modelo </h5>     "
      ]
    },
    {
      "cell_type": "markdown",
      "metadata": {
        "id": "Is3nFhGglsft"
      },
      "source": [
        "### Tabla de Contenidos\n",
        "\n",
        "<div class=\"alert alert-block alert-info\" style=\"margin-top: 20px\">\n",
        "\n",
        "<font size = 3>\n",
        "    \n",
        "1. <a href=\"#item31\">Leer y explorar la data</a>  \n",
        "2. <a href=\"#item32\">Selección de muestras</a>  \n",
        "3. <a href=\"#item33\">Pre-selección de variables</a>\n",
        "4. <a href=\"#item33\">Preparación de datos</a>\n",
        "5. <a href=\"#item33\">Construir un modelo de regresión lineal</a>  \n",
        "6. <a href=\"#item34\">Testear el modelo</a>  \n",
        "\n",
        "</font>\n",
        "</div>"
      ]
    },
    {
      "cell_type": "markdown",
      "metadata": {
        "button": false,
        "deletable": true,
        "new_sheet": false,
        "run_control": {
          "read_only": false
        },
        "id": "iYo1JVdwmPKW"
      },
      "source": [
        "## Importar Librerías\n"
      ]
    },
    {
      "cell_type": "markdown",
      "metadata": {
        "id": "cWBGqVX6HMp8"
      },
      "source": [
        "Primero, importemos algunos módulos comunes."
      ]
    },
    {
      "cell_type": "code",
      "metadata": {
        "id": "YQUbjfMkHMp9"
      },
      "source": [
        "# Imports comunes\n",
        "import pandas as pd\n",
        "import numpy as np\n",
        "\n",
        "# Configuración de tamaño de gráficos matplotlib\n",
        "import matplotlib.pyplot as plt\n",
        "\n",
        "# Cargar seaborn\n",
        "import seaborn as sns\n",
        "\n",
        "# Configurar el estilo de Seaborn\n",
        "sns.set(style=\"whitegrid\")\n",
        "\n",
        "# os proporciona funciones para interactuar con el sistema operativo y realizar operaciones relacionadas con archivos y directorios.\n",
        "import os\n"
      ],
      "execution_count": 52,
      "outputs": []
    },
    {
      "cell_type": "markdown",
      "source": [
        "## Problema Bostong Housing"
      ],
      "metadata": {
        "id": "WP5BY875jyjC"
      }
    },
    {
      "cell_type": "markdown",
      "metadata": {
        "id": "7BOj02v9NFNV"
      },
      "source": [
        "<b>Valores de la vivienda en los suburbios de Boston</b>\n",
        "\n",
        "<h5>La variable <b>medv</b> es la variable objetivo.</h5>\n",
        "\n",
        "<b>Descripción de datos</b>\n",
        "\n",
        "El data frame de Boston tiene 506 filas y 14 columnas.\n",
        "\n"
      ]
    },
    {
      "cell_type": "markdown",
      "source": [
        "<b>Este data frame contiene las siguientes columnas:</b>\n",
        "\n",
        "---\n",
        "\n",
        "* <b>crim : </b> Tasa de criminalidad per cápita por ciudad.\n",
        "\n",
        "* <b>zn : </b> Proporción de terreno residencial dividido en zonas para lotes de más de 25,000 pies cuadrados.\n",
        "\n",
        "* <b>indus : </b> Proporción de acres comerciales no minoristas por ciudad.\n",
        "\n",
        "* <b>chas : </b> Variable ficticia de Charles River (= 1 si el tramo limita con el río; 0 en caso contrario).\n",
        "\n",
        "* <b>nox : </b>Concentración de óxidos de nitrógeno (partes por 10 millones).\n",
        "\n",
        "* <b>rm : </b>Número medio de habitaciones por vivienda.\n",
        "\n",
        "* <b>años : </b> Proporción de unidades ocupadas por sus propietarios construidas antes de 1940.\n",
        "\n",
        "* <b>dis : </b>Media ponderada de las distancias a cinco centros de empleo de Boston.\n",
        "\n",
        "* <b>rad : </b>Indice de accesibilidad a carreteras radiales.\n",
        "\n",
        "* <b>impuesto : </b>Tasa de impuesto a la propiedad de valor total por \\$ 10,000.\n",
        "\n",
        "* <b>ptratio : </b>Proporción alumno-profesor por ciudad.\n",
        "\n",
        "* <b>black : </b> 1000 (Bk - 0.63) ^ 2 donde Bk es la proporción de negros por ciudad.\n",
        "\n",
        "* <b>lstat : </b>Estatus más bajo de la población (porcentaje).\n",
        "\n",
        "* <b>medv : </b>Valor medio de las viviendas ocupadas por sus propietarios en \\$ 1000.\n",
        "\n",
        "---\n"
      ],
      "metadata": {
        "id": "QH_TEdjvkJu6"
      }
    },
    {
      "cell_type": "markdown",
      "source": [
        "\n",
        "<strong>Puede consultar este [link](https://kaggle.com/c/boston-housing) para leer más sobre la fuente de datos boston housing.</strong>\n",
        "\n",
        "<strong>Puede descargar la data en este [link](https://www.kaggle.com/datasets/altavish/boston-housing-dataset)</strong>\n"
      ],
      "metadata": {
        "id": "mL-PejVMkNtI"
      }
    },
    {
      "cell_type": "markdown",
      "source": [
        "## 1. Leyendo y Explorando data"
      ],
      "metadata": {
        "id": "ZuOIP0Tb2Vja"
      }
    },
    {
      "cell_type": "markdown",
      "source": [
        "Creando carpeta para archivos del proyecto"
      ],
      "metadata": {
        "id": "AbAKZog2n3j7"
      }
    },
    {
      "cell_type": "code",
      "source": [
        "# Creando carpetas\n",
        "nombre_carpeta = 'linear_regression'\n",
        "os.makedirs(nombre_carpeta)\n",
        "os.makedirs(nombre_carpeta + '/data')\n",
        "os.makedirs(nombre_carpeta + '/plots')\n",
        "os.makedirs(nombre_carpeta + '/results')"
      ],
      "metadata": {
        "id": "Ou0yLBewnnK6"
      },
      "execution_count": 57,
      "outputs": []
    },
    {
      "cell_type": "markdown",
      "source": [
        "Lectura de datos"
      ],
      "metadata": {
        "id": "IpUHGp9wgete"
      }
    },
    {
      "cell_type": "code",
      "metadata": {
        "id": "fcc2Hvp_7jdD"
      },
      "source": [
        "#cargamos la data\n",
        "pddf = pd.read_csv('linear_regression/data/HousingData 2.csv')"
      ],
      "execution_count": 59,
      "outputs": []
    },
    {
      "cell_type": "code",
      "metadata": {
        "id": "VVGrrHMX3Ka5"
      },
      "source": [
        "# Validar la data de forma general\n",
        "pddf.head()"
      ],
      "execution_count": null,
      "outputs": []
    },
    {
      "cell_type": "code",
      "metadata": {
        "id": "Mwpv3JXdxoCC"
      },
      "source": [
        "# Contar los datos\n",
        "pddf.shape"
      ],
      "execution_count": null,
      "outputs": []
    },
    {
      "cell_type": "markdown",
      "source": [
        "Identificar los principales atributos"
      ],
      "metadata": {
        "id": "BaMGhzkellMC"
      }
    },
    {
      "cell_type": "code",
      "source": [
        "# Variable objetivo\n",
        "target = 'MEDV'"
      ],
      "metadata": {
        "id": "g-DilpkUl3zB"
      },
      "execution_count": 43,
      "outputs": []
    },
    {
      "cell_type": "code",
      "source": [
        "# Identificar las variables numéricas utilizando el atributo dtypes\n",
        "variables_numericas = pddf.select_dtypes(include=['number']).columns.tolist()\n",
        "variables_numericas.remove(target)"
      ],
      "metadata": {
        "id": "9kYYG-BElxWU"
      },
      "execution_count": 45,
      "outputs": []
    },
    {
      "cell_type": "code",
      "source": [
        "# Identificar las variables categóricas utilizando el atributo dtypes\n",
        "variables_categoricas = pddf.select_dtypes(include=['object']).columns.tolist()\n",
        "variables_categoricas"
      ],
      "metadata": {
        "id": "-V9tJ-BomGXX"
      },
      "execution_count": null,
      "outputs": []
    },
    {
      "cell_type": "code",
      "source": [
        "# Guardando variables en una tabla\n",
        "dataResume = pd.DataFrame({'feature' : variables_numericas, 'type' : 'numeric'})\n",
        "dataResume = dataResume.append(pd.DataFrame({'feature' : [target], 'type' : 'target'}))\n",
        "dataResume.to_csv('linear_regression/results/dataResume.csv', index = 0)"
      ],
      "metadata": {
        "id": "gP1wF2fqowUJ"
      },
      "execution_count": null,
      "outputs": []
    },
    {
      "cell_type": "markdown",
      "source": [
        "Exploración de los datos"
      ],
      "metadata": {
        "id": "Xr-qPJyAghvb"
      }
    },
    {
      "cell_type": "code",
      "source": [
        "plt.figure(figsize=(4, 6))  # Tamaño del gráfico (ancho x alto en pulgadas)\n",
        "\n",
        "# Gráfico de distribución\n",
        "sns.displot(pddf['MEDV'], height=4, aspect=1.5, kde=True)\n",
        "plt.title(\"Distribución del Precio de los inmuebles\", fontsize=12)  # Título del gráfico\n",
        "plt.xlabel(\"Precio\", fontsize=10)  # Nombre del eje x\n",
        "plt.ylabel(\"Frecuencia\", fontsize=10)  # Nombre del eje y\n",
        "\n",
        "plt.savefig(\"dist_MEDV.png\")  # Guarda el gráfico como un archivo PNG\n",
        "plt.show()"
      ],
      "metadata": {
        "id": "qcI0tlKXgzUF"
      },
      "execution_count": null,
      "outputs": []
    },
    {
      "cell_type": "markdown",
      "source": [
        "Graficamos todas las variables"
      ],
      "metadata": {
        "id": "YtZZG1DInkYH"
      }
    },
    {
      "cell_type": "code",
      "source": [
        "plt.figure(figsize=(4, 6))  # Tamaño del gráfico (ancho x alto en pulgadas)\n",
        "\n",
        "for col in variables_numericas:\n",
        "  # Gráfico de distribución\n",
        "  sns.displot(pddf[col], height=4, aspect=1.5, kde=True)\n",
        "  plt.title(\"Distribución de \" + col, fontsize=12)  # Título del gráfico\n",
        "  plt.xlabel(col, fontsize=10)  # Nombre del eje x\n",
        "  plt.ylabel(\"Frecuencia\", fontsize=10)  # Nombre del eje y\n",
        "  plt.savefig(\"linear_regression/plots/dist_\" + col + \".png\")  # Guarda el gráfico como un archivo PNG\n",
        "  plt.close()"
      ],
      "metadata": {
        "id": "y915JTwLlf8o"
      },
      "execution_count": null,
      "outputs": []
    },
    {
      "cell_type": "markdown",
      "source": [
        "## 2. Selección de muestras"
      ],
      "metadata": {
        "id": "7kBNisCz2gsm"
      }
    },
    {
      "cell_type": "code",
      "metadata": {
        "id": "YRd3xtAsHMqE"
      },
      "source": [
        "# Muestreo\n",
        "#La función train_test_split de scikit-learn se utiliza para dividir un conjunto de datos en subconjuntos de train y test.\n",
        "from sklearn.model_selection import train_test_split\n",
        "\n",
        "train, test = train_test_split(pddf, # Base de datos\n",
        "                               train_size = 0.7, # Especificar el tamaño de train/test\n",
        "                               random_state = 123) # Semilla aleatoria\n"
      ],
      "execution_count": 77,
      "outputs": []
    },
    {
      "cell_type": "code",
      "metadata": {
        "id": "Kkk69Tj_BJRA"
      },
      "source": [
        "print(f\"Tamaño del total de datos: {len(pddf)}\")\n",
        "print(f\"Tamaño de train: {len(train)}\")\n",
        "print(f\"Tamaño de test: {len(test)}\")"
      ],
      "execution_count": null,
      "outputs": []
    },
    {
      "cell_type": "markdown",
      "source": [
        "Análisis exploratorio de relación de datos"
      ],
      "metadata": {
        "id": "DQT14KjNsfQh"
      }
    },
    {
      "cell_type": "code",
      "metadata": {
        "id": "XcQwqDnTDb7N"
      },
      "source": [
        "# Crear scatterplot\n",
        "plt.figure(figsize=(6, 4))\n",
        "sns.regplot(x = train.NOX, y = train.MEDV, scatter_kws={\"alpha\": 0.5})\n",
        "\n",
        "# Personalizar el título y los nombres de los ejes\n",
        "plt.title(f\"Scatterplot NOX vs Precio del inmueble\")\n",
        "plt.xlabel(\"Variable NOX\")\n",
        "plt.ylabel(\"Precio del inmueble\")\n",
        "\n",
        "# Mostrar el gráfico\n",
        "plt.show()"
      ],
      "execution_count": null,
      "outputs": []
    },
    {
      "cell_type": "code",
      "source": [
        "plt.figure(figsize=(4, 6))  # Tamaño del gráfico (ancho x alto en pulgadas)\n",
        "\n",
        "for col in variables_numericas:\n",
        "  # Gráfico de distribución\n",
        "  sns.regplot(x = train[col], y = train[target], scatter_kws={\"alpha\": 0.5})\n",
        "\n",
        "  # Personalizar el título y los nombres de los ejes\n",
        "  plt.title(f\"Scatterplot {col} vs Precio del inmueble\")\n",
        "  plt.xlabel(f\"Variable {col}\")\n",
        "  plt.ylabel(\"Precio del inmueble\")\n",
        "\n",
        "  plt.savefig(\"linear_regression/plots/scatter_\" + col + \".png\")  # Guarda el gráfico como un archivo PNG\n",
        "  plt.close()"
      ],
      "metadata": {
        "id": "WZsO0HxHuo5m"
      },
      "execution_count": 96,
      "outputs": []
    },
    {
      "cell_type": "markdown",
      "source": [
        "## 3. Pre-selección de variables"
      ],
      "metadata": {
        "id": "HNx4SqLiFWpw"
      }
    },
    {
      "cell_type": "code",
      "source": [
        "# Dando formato a nuestra tabla resumen\n",
        "\n",
        "pdResume = train.describe().transpose()\n",
        "pdResume.reset_index(inplace = True)\n",
        "pdResume.rename(columns = {'index' : 'feature',\n",
        "                           '25%' : 'Q1',\n",
        "                           '50%' : 'median',\n",
        "                           '75%' : 'Q3'}, inplace = True)"
      ],
      "metadata": {
        "id": "ajsyGBOlFwOH"
      },
      "execution_count": 97,
      "outputs": []
    },
    {
      "cell_type": "code",
      "source": [
        "pdResume[['missing_rate']] = 1 - pdResume[['count']]/train.shape[0]\n",
        "pdResume.sort_values(by = 'missing_rate', ascending = False, inplace = True)\n"
      ],
      "metadata": {
        "id": "K6IzCi3GF5u2"
      },
      "execution_count": 98,
      "outputs": []
    },
    {
      "cell_type": "code",
      "source": [
        "# Calculando las correlaciones de todas las variables con el target\n",
        "correlations = train.corr()[['MEDV']]\n",
        "correlations.reset_index(inplace = True)\n",
        "correlations.rename(columns = {'index' : 'feature',\n",
        "                               'MEDV' : 'corr'}, inplace = True)\n"
      ],
      "metadata": {
        "id": "nifc9zT5LdrS"
      },
      "execution_count": 99,
      "outputs": []
    },
    {
      "cell_type": "code",
      "source": [
        "# Cruzando correlaciones con la tabla de resumen original\n",
        "univariate = pd.merge(pdResume, correlations, on = 'feature')\n",
        "univariate.head()"
      ],
      "metadata": {
        "id": "pHe52wurM0Vy"
      },
      "execution_count": null,
      "outputs": []
    },
    {
      "cell_type": "code",
      "source": [
        "# Creamos la columna correlacion absoluta\n",
        "univariate['abs_corr'] = univariate['corr'].apply(lambda x: abs(x))\n",
        "univariate.sort_values(by = 'abs_corr', ascending = False, inplace=True)\n",
        "univariate.head()"
      ],
      "metadata": {
        "id": "W5jyACkaSSHo"
      },
      "execution_count": null,
      "outputs": []
    },
    {
      "cell_type": "code",
      "source": [
        "# Guardando resultados\n",
        "univariate.to_csv('linear_regression/results/univariate_assesment.csv', index = 0)"
      ],
      "metadata": {
        "id": "ZHaiKOeETJNq"
      },
      "execution_count": 103,
      "outputs": []
    },
    {
      "cell_type": "markdown",
      "source": [
        "Puedes hacer pre-selección de variables quedándote con las variables conmás correlación con el target y con menos missing rate"
      ],
      "metadata": {
        "id": "WgJfaTUywUHt"
      }
    },
    {
      "cell_type": "code",
      "source": [
        "preselection = univariate.loc[(univariate.abs_corr >= 0.2) & (univariate.missing_rate <= 0.8)]\n",
        "print(f\"{len(preselection)} variables de {len(univariate)} pasan el proceso de pre-selección\")"
      ],
      "metadata": {
        "id": "xPbLImcMwPu2"
      },
      "execution_count": null,
      "outputs": []
    },
    {
      "cell_type": "code",
      "source": [
        "preselection"
      ],
      "metadata": {
        "id": "ZcEOyqaTxNY2"
      },
      "execution_count": null,
      "outputs": []
    },
    {
      "cell_type": "markdown",
      "source": [
        "## 4. Preparación de datos"
      ],
      "metadata": {
        "id": "9GXFG5lJUKSy"
      }
    },
    {
      "cell_type": "markdown",
      "source": [
        "### 4.1. Tratamiento de outliers"
      ],
      "metadata": {
        "id": "FduQMBhdRLf8"
      }
    },
    {
      "cell_type": "markdown",
      "source": [
        "El tratamiento de outliers, también conocido como manejo de valores atípicos, es un proceso en el análisis de datos que se refiere a cómo se deben abordar los puntos de datos que se encuentran fuera del rango típico o esperado. Los outliers son observaciones que se desvían significativamente del patrón general de los demás datos."
      ],
      "metadata": {
        "id": "ZrsmVvbvyQQo"
      }
    },
    {
      "cell_type": "markdown",
      "source": [
        "#### Rango Intercuantílico"
      ],
      "metadata": {
        "id": "vzdI2sGIRQhX"
      }
    },
    {
      "cell_type": "markdown",
      "source": [
        "El tratamiento de outliers utilizando el rango intercuartílico (IQR, por sus siglas en inglés) es una técnica común para identificar y manejar valores atípicos en un conjunto de datos. El rango intercuartílico es la diferencia entre el tercer cuartil (Q3) y el primer cuartil (Q1) de los datos."
      ],
      "metadata": {
        "id": "Y-kOV842yePP"
      }
    },
    {
      "cell_type": "markdown",
      "source": [
        "<img src=\"https://miro.medium.com/max/1400/1*2c21SkzJMf3frPXPAR_gZA.png\" width=\"500\"\n",
        "     height=\"300\" >"
      ],
      "metadata": {
        "id": "hreWAj5MTulj"
      }
    },
    {
      "cell_type": "code",
      "source": [
        "#Leyendo tabla resumen\n",
        "univariate_II = pd.read_csv('linear_regression/results/univariate_assesment.csv')\n",
        "univariate_II.head()"
      ],
      "metadata": {
        "id": "SgMQ0ILTWW3D"
      },
      "execution_count": null,
      "outputs": []
    },
    {
      "cell_type": "code",
      "source": [
        "# Calculando los intervalos RIC\n",
        "\n",
        "univariate_II['ric']     = univariate_II['Q3'] - univariate_II['Q1']\n",
        "univariate_II['min_ric'] = univariate_II['Q1'] - 1.5*univariate_II['ric']\n",
        "univariate_II['max_ric'] = univariate_II['Q3'] + 1.5*univariate_II['ric']\n",
        "\n",
        "univariate_II.head()"
      ],
      "metadata": {
        "id": "UYWNWVzMW9Z5"
      },
      "execution_count": null,
      "outputs": []
    },
    {
      "cell_type": "code",
      "source": [
        "# Tratamiento de outliers por RIC\n",
        "\n",
        "for col in preselection.feature.tolist():\n",
        "  desc = univariate_II.loc[univariate_II.feature == col]\n",
        "\n",
        "  lower_limit = desc.min_ric.values[0]\n",
        "  upper_limit = desc.max_ric.values[0]\n",
        "\n",
        "  train[col + '_tric'] = train[col].apply(lambda x: lower_limit if x <= lower_limit else\n",
        "                                                    upper_limit if x >= upper_limit else\n",
        "                                                    x)\n",
        "  test[col + '_tric']  = test[col].apply(lambda x: lower_limit if x <= lower_limit else\n",
        "                                                    upper_limit if x >= upper_limit else\n",
        "                                                    x)\n",
        "train.head()"
      ],
      "metadata": {
        "id": "1vz4B3D_W8eJ"
      },
      "execution_count": null,
      "outputs": []
    },
    {
      "cell_type": "markdown",
      "source": [
        "Revisemos los resultados"
      ],
      "metadata": {
        "id": "a9R44YcWecex"
      }
    },
    {
      "cell_type": "code",
      "source": [
        "# Crear figura y subplots\n",
        "fig, axes = plt.subplots(1, 2, figsize=(12, 4))\n",
        "\n",
        "ax1 = axes[0]\n",
        "sns.boxplot(data=train[['MEDV']], orient=\"h\", ax=ax1)\n",
        "ax1.set_title('Variable Original')\n",
        "\n",
        "ax2 = axes[1]\n",
        "sns.boxplot(data=train[['MEDV_tric']], orient=\"h\", ax=ax2)\n",
        "ax2.set_title('Variable Tratada')\n",
        "# Ajustar espaciado entre subplots\n",
        "plt.tight_layout()\n",
        "\n",
        "# Mostrar los gráficos\n",
        "plt.show()\n"
      ],
      "metadata": {
        "id": "RYHhcv7XZeJh"
      },
      "execution_count": null,
      "outputs": []
    },
    {
      "cell_type": "markdown",
      "source": [
        "### 4.2. Tratamiento de Missings"
      ],
      "metadata": {
        "id": "rbw45Wj_g_uk"
      }
    },
    {
      "cell_type": "markdown",
      "source": [
        "Imputación de valores: En lugar de eliminar los valores faltantes, se pueden reemplazar por valores estimados o imputados. Esto implica reemplazar los valores faltantes con medidas de tendencia central, como la media o la mediana, o utilizar métodos más avanzados como la regresión o el algoritmo K-NN para estimar los valores faltantes basándose en otros atributos del conjunto de datos."
      ],
      "metadata": {
        "id": "0qGnn2_51Rm4"
      }
    },
    {
      "cell_type": "code",
      "metadata": {
        "id": "_SmrbJFWrKx1"
      },
      "source": [
        "# Tratamiento de missings\n",
        "\n",
        "actual_features = [x + '_tric' for x in preselection.feature.tolist()]\n",
        "\n",
        "# Tratamiento en train\n",
        "train[[x + '_imp' for x in preselection.feature.tolist()]] = train.fillna(train[actual_features].median())\n",
        "\n",
        "# Tratamiento en test\n",
        "test[[x + '_imp' for x in preselection.feature.tolist()]] = test.fillna(train[actual_features].median())\n"
      ],
      "execution_count": null,
      "outputs": []
    },
    {
      "cell_type": "code",
      "metadata": {
        "id": "WySovzP5rgok"
      },
      "source": [
        "train[[x + '_imp' for x in all_features if '_tric' in x]].head(30)"
      ],
      "execution_count": null,
      "outputs": []
    },
    {
      "cell_type": "markdown",
      "source": [
        "### 4.3. Reescalamiento de datos"
      ],
      "metadata": {
        "id": "uSXaVxeXx4hz"
      }
    },
    {
      "cell_type": "markdown",
      "source": [
        "Es un proceso en el análisis de datos que consiste en transformar las variables para que tengan una escala común o un rango específico. El objetivo principal del reescalamiento de datos es colocar todas las variables en una misma escala numérica, lo cual puede facilitar la comparación y el análisis de las variables."
      ],
      "metadata": {
        "id": "oggkg8bi2xiC"
      }
    },
    {
      "cell_type": "markdown",
      "source": [
        "Z-Score Scaling: También conocido como estandarización, transforma los datos para que tengan una media de 0 y una desviación estándar de 1. La fórmula para la estandarización es:\n",
        "\n",
        "x_std = (x - mean(x)) / std(x)"
      ],
      "metadata": {
        "id": "23dsqRy62syq"
      }
    },
    {
      "cell_type": "code",
      "source": [
        "# estandarizando las variables para mantener todas en una misma escala\n",
        "train[[x + '_std' for x in features_in]] = (train[features_in] - train[features_in].mean())/train[features_in].std()\n"
      ],
      "metadata": {
        "id": "4UhJIA7EyBCj"
      },
      "execution_count": null,
      "outputs": []
    },
    {
      "cell_type": "markdown",
      "source": [
        "## 5. Modelo de regresión Lineal"
      ],
      "metadata": {
        "id": "a7MFWyuZcPY5"
      }
    },
    {
      "cell_type": "markdown",
      "source": [
        "### Regresión lineal por MCO"
      ],
      "metadata": {
        "id": "GpR84CVT9n-b"
      }
    },
    {
      "cell_type": "code",
      "source": [
        "# Utilizamos el target con tratamiento de outliers, debido a que no es necesario estandarizar ni hacer tratamiento de missings en este (solo aplica para el target)\n",
        "[x for x in train.columns.tolist() if 'MEDV' in x]\n"
      ],
      "metadata": {
        "id": "aALzKQhrhxNl",
        "outputId": "f33c6975-f53b-4a41-f5fc-78236846b82a",
        "colab": {
          "base_uri": "https://localhost:8080/"
        }
      },
      "execution_count": null,
      "outputs": [
        {
          "output_type": "execute_result",
          "data": {
            "text/plain": [
              "['MEDV',\n",
              " 'MEDV_tric',\n",
              " 'MEDV_tzscore',\n",
              " 'MEDV_imp',\n",
              " 'MEDV_tric_imp',\n",
              " 'MEDV_tzscore_imp']"
            ]
          },
          "metadata": {},
          "execution_count": 49
        }
      ]
    },
    {
      "cell_type": "code",
      "source": [
        "import statsmodels.api as sm\n",
        "\n",
        "# Fit and summarize OLS model\n",
        "mod = sm.OLS(train.MEDV_tric,\n",
        "             sm.add_constant(train[[x + '_std' for x in features_in]]))\n",
        "res = mod.fit()\n"
      ],
      "metadata": {
        "id": "YWsJnc_YTVuv"
      },
      "execution_count": null,
      "outputs": []
    },
    {
      "cell_type": "code",
      "source": [
        "print(res.summary())"
      ],
      "metadata": {
        "id": "f4ekgFVSdeeO"
      },
      "execution_count": null,
      "outputs": []
    },
    {
      "cell_type": "code",
      "source": [
        "mod = sm.OLS(train.MEDV_tric, sm.add_constant(train[['LSTAT_tric_imp_std',\n",
        "                                              'RM_tric_imp_std',\n",
        "                                              'PTRATIO_tric_imp_std',\n",
        "                                              'INDUS_tric_imp_std',\n",
        "                                              'TAX_tric_imp_std',\n",
        "                                              'NOX_tric_imp_std',\n",
        "                                              'AGE_tric_imp_std',\n",
        "                                              'RAD_tric_imp_std',\n",
        "                                              'CRIM_tric_imp_std',\n",
        "                                              'ZN_tric_imp_std',\n",
        "                                              'DIS_tric_imp_std']]))\n",
        "res = mod.fit()\n",
        "print(res.summary())"
      ],
      "metadata": {
        "id": "o-EEzjM79mIQ"
      },
      "execution_count": null,
      "outputs": []
    },
    {
      "cell_type": "code",
      "source": [
        "mod = sm.OLS(train.MEDV_tric, sm.add_constant(train[['LSTAT_tric_imp_std',\n",
        "                                              'RM_tric_imp_std',\n",
        "                                              'PTRATIO_tric_imp_std',\n",
        "                                              'TAX_tric_imp_std',\n",
        "                                              'NOX_tric_imp_std',\n",
        "                                              'AGE_tric_imp_std',\n",
        "                                              'RAD_tric_imp_std',\n",
        "                                              'CRIM_tric_imp_std',\n",
        "                                              'ZN_tric_imp_std',\n",
        "                                              'DIS_tric_imp_std']]))\n",
        "res = mod.fit()\n",
        "print(res.summary())"
      ],
      "metadata": {
        "id": "pR5vl96OAg8K"
      },
      "execution_count": null,
      "outputs": []
    },
    {
      "cell_type": "code",
      "source": [
        "mod = sm.OLS(train.MEDV_tric, sm.add_constant(train[['LSTAT_tric_imp_std',\n",
        "                                              'RM_tric_imp_std',\n",
        "                                              'PTRATIO_tric_imp_std',\n",
        "                                              'TAX_tric_imp_std',\n",
        "                                              'NOX_tric_imp_std',\n",
        "                                              'AGE_tric_imp_std',\n",
        "                                              'RAD_tric_imp_std',\n",
        "                                              'ZN_tric_imp_std',\n",
        "                                              'DIS_tric_imp_std']]))\n",
        "res = mod.fit()\n",
        "print(res.summary())"
      ],
      "metadata": {
        "id": "3y0efpa0JPNC"
      },
      "execution_count": null,
      "outputs": []
    },
    {
      "cell_type": "code",
      "source": [
        "mod = sm.OLS(train.MEDV_tric, sm.add_constant(train[['LSTAT_tric_imp_std',\n",
        "                                              'RM_tric_imp_std',\n",
        "                                              'PTRATIO_tric_imp_std',\n",
        "                                              'TAX_tric_imp_std',\n",
        "                                              'NOX_tric_imp_std',\n",
        "                                              'RAD_tric_imp_std',\n",
        "                                              'ZN_tric_imp_std',\n",
        "                                              'DIS_tric_imp_std']]))\n",
        "res = mod.fit()\n",
        "print(res.summary())"
      ],
      "metadata": {
        "id": "GmWGXDOGJSRH"
      },
      "execution_count": null,
      "outputs": []
    },
    {
      "cell_type": "code",
      "source": [
        "mod = sm.OLS(train.MEDV_tric, sm.add_constant(train[['LSTAT_tric_imp_std',\n",
        "                                              'RM_tric_imp_std',\n",
        "                                              'PTRATIO_tric_imp_std',\n",
        "                                              'TAX_tric_imp_std',\n",
        "                                              'NOX_tric_imp_std',\n",
        "                                              'RAD_tric_imp_std',\n",
        "                                              'DIS_tric_imp_std']]))\n",
        "res = mod.fit()\n",
        "print(res.summary())"
      ],
      "metadata": {
        "id": "KHGDu3I6t-y5"
      },
      "execution_count": null,
      "outputs": []
    },
    {
      "cell_type": "markdown",
      "source": [
        "\n",
        "* <b>crim : </b> Tasa de criminalidad per cápita por ciudad.\n",
        "\n",
        "* <b>zn : </b> Proporción de terreno residencial dividido en zonas para lotes de más de 25,000 pies cuadrados.\n",
        "\n",
        "* <b>indus : </b> Proporción de acres comerciales no minoristas por ciudad.\n",
        "\n",
        "* <b>chas : </b> Variable ficticia de Charles River (= 1 si el tramo limita con el río; 0 en caso contrario).\n",
        "\n",
        "* <b>nox : </b>Concentración de óxidos de nitrógeno (partes por 10 millones).\n",
        "\n",
        "* <b>rm : </b>Número medio de habitaciones por vivienda.\n",
        "\n",
        "* <b>años : </b> Proporción de unidades ocupadas por sus propietarios construidas antes de 1940.\n",
        "\n",
        "* <b>dis : </b>Media ponderada de las distancias a cinco centros de empleo de Boston.\n",
        "\n",
        "* <b>rad : </b>Indice de accesibilidad a carreteras radiales.\n",
        "\n",
        "* <b>impuesto : </b>Tasa de impuesto a la propiedad de valor total por \\$ 10,000.\n",
        "\n",
        "* <b>ptratio : </b>Proporción alumno-profesor por ciudad.\n",
        "\n",
        "* <b>black : </b> 1000 (Bk - 0.63) ^ 2 donde Bk es la proporción de negros por ciudad.\n",
        "\n",
        "* <b>lstat : </b>Estatus más bajo de la población (porcentaje).\n",
        "\n",
        "* <b>medv : </b>Valor medio de las viviendas ocupadas por sus propietarios en \\$ 1000.\n",
        "\n",
        "---\n"
      ],
      "metadata": {
        "id": "xkL7ViU3A5k-"
      }
    },
    {
      "cell_type": "code",
      "source": [
        "mod = sm.OLS(train.MEDV_tric, sm.add_constant(train[['LSTAT_tric_imp_std',\n",
        "                                              'RM_tric_imp_std',\n",
        "                                              'PTRATIO_tric_imp_std',\n",
        "                                              'NOX_tric_imp_std',\n",
        "                                              'DIS_tric_imp_std']]))\n",
        "res = mod.fit()\n",
        "print(res.summary())"
      ],
      "metadata": {
        "id": "uiiCD8oHKAIQ"
      },
      "execution_count": null,
      "outputs": []
    },
    {
      "cell_type": "code",
      "source": [
        "train[['LSTAT_tric_imp_std',\n",
        "       'RM_tric_imp_std',\n",
        "       'PTRATIO_tric_imp_std',\n",
        "       'NOX_tric_imp_std',\n",
        "       'DIS_tric_imp_std']].corr()"
      ],
      "metadata": {
        "id": "nrL2h2nhFFki",
        "outputId": "3ceceac2-d018-4b08-bdcb-e7b24af9d1a9",
        "colab": {
          "base_uri": "https://localhost:8080/",
          "height": 206
        }
      },
      "execution_count": null,
      "outputs": [
        {
          "output_type": "execute_result",
          "data": {
            "text/plain": [
              "                      LSTAT_tric_imp_std  RM_tric_imp_std  \\\n",
              "LSTAT_tric_imp_std              1.000000        -0.633416   \n",
              "RM_tric_imp_std                -0.633416         1.000000   \n",
              "PTRATIO_tric_imp_std            0.389378        -0.365316   \n",
              "NOX_tric_imp_std                0.622183        -0.346815   \n",
              "DIS_tric_imp_std               -0.520467         0.225544   \n",
              "\n",
              "                      PTRATIO_tric_imp_std  NOX_tric_imp_std  DIS_tric_imp_std  \n",
              "LSTAT_tric_imp_std                0.389378          0.622183         -0.520467  \n",
              "RM_tric_imp_std                  -0.365316         -0.346815          0.225544  \n",
              "PTRATIO_tric_imp_std              1.000000          0.219223         -0.237534  \n",
              "NOX_tric_imp_std                  0.219223          1.000000         -0.772026  \n",
              "DIS_tric_imp_std                 -0.237534         -0.772026          1.000000  "
            ],
            "text/html": [
              "\n",
              "  <div id=\"df-8de2d989-2134-44bf-9b98-332e3c68d9b2\">\n",
              "    <div class=\"colab-df-container\">\n",
              "      <div>\n",
              "<style scoped>\n",
              "    .dataframe tbody tr th:only-of-type {\n",
              "        vertical-align: middle;\n",
              "    }\n",
              "\n",
              "    .dataframe tbody tr th {\n",
              "        vertical-align: top;\n",
              "    }\n",
              "\n",
              "    .dataframe thead th {\n",
              "        text-align: right;\n",
              "    }\n",
              "</style>\n",
              "<table border=\"1\" class=\"dataframe\">\n",
              "  <thead>\n",
              "    <tr style=\"text-align: right;\">\n",
              "      <th></th>\n",
              "      <th>LSTAT_tric_imp_std</th>\n",
              "      <th>RM_tric_imp_std</th>\n",
              "      <th>PTRATIO_tric_imp_std</th>\n",
              "      <th>NOX_tric_imp_std</th>\n",
              "      <th>DIS_tric_imp_std</th>\n",
              "    </tr>\n",
              "  </thead>\n",
              "  <tbody>\n",
              "    <tr>\n",
              "      <th>LSTAT_tric_imp_std</th>\n",
              "      <td>1.000000</td>\n",
              "      <td>-0.633416</td>\n",
              "      <td>0.389378</td>\n",
              "      <td>0.622183</td>\n",
              "      <td>-0.520467</td>\n",
              "    </tr>\n",
              "    <tr>\n",
              "      <th>RM_tric_imp_std</th>\n",
              "      <td>-0.633416</td>\n",
              "      <td>1.000000</td>\n",
              "      <td>-0.365316</td>\n",
              "      <td>-0.346815</td>\n",
              "      <td>0.225544</td>\n",
              "    </tr>\n",
              "    <tr>\n",
              "      <th>PTRATIO_tric_imp_std</th>\n",
              "      <td>0.389378</td>\n",
              "      <td>-0.365316</td>\n",
              "      <td>1.000000</td>\n",
              "      <td>0.219223</td>\n",
              "      <td>-0.237534</td>\n",
              "    </tr>\n",
              "    <tr>\n",
              "      <th>NOX_tric_imp_std</th>\n",
              "      <td>0.622183</td>\n",
              "      <td>-0.346815</td>\n",
              "      <td>0.219223</td>\n",
              "      <td>1.000000</td>\n",
              "      <td>-0.772026</td>\n",
              "    </tr>\n",
              "    <tr>\n",
              "      <th>DIS_tric_imp_std</th>\n",
              "      <td>-0.520467</td>\n",
              "      <td>0.225544</td>\n",
              "      <td>-0.237534</td>\n",
              "      <td>-0.772026</td>\n",
              "      <td>1.000000</td>\n",
              "    </tr>\n",
              "  </tbody>\n",
              "</table>\n",
              "</div>\n",
              "      <button class=\"colab-df-convert\" onclick=\"convertToInteractive('df-8de2d989-2134-44bf-9b98-332e3c68d9b2')\"\n",
              "              title=\"Convert this dataframe to an interactive table.\"\n",
              "              style=\"display:none;\">\n",
              "        \n",
              "  <svg xmlns=\"http://www.w3.org/2000/svg\" height=\"24px\"viewBox=\"0 0 24 24\"\n",
              "       width=\"24px\">\n",
              "    <path d=\"M0 0h24v24H0V0z\" fill=\"none\"/>\n",
              "    <path d=\"M18.56 5.44l.94 2.06.94-2.06 2.06-.94-2.06-.94-.94-2.06-.94 2.06-2.06.94zm-11 1L8.5 8.5l.94-2.06 2.06-.94-2.06-.94L8.5 2.5l-.94 2.06-2.06.94zm10 10l.94 2.06.94-2.06 2.06-.94-2.06-.94-.94-2.06-.94 2.06-2.06.94z\"/><path d=\"M17.41 7.96l-1.37-1.37c-.4-.4-.92-.59-1.43-.59-.52 0-1.04.2-1.43.59L10.3 9.45l-7.72 7.72c-.78.78-.78 2.05 0 2.83L4 21.41c.39.39.9.59 1.41.59.51 0 1.02-.2 1.41-.59l7.78-7.78 2.81-2.81c.8-.78.8-2.07 0-2.86zM5.41 20L4 18.59l7.72-7.72 1.47 1.35L5.41 20z\"/>\n",
              "  </svg>\n",
              "      </button>\n",
              "      \n",
              "  <style>\n",
              "    .colab-df-container {\n",
              "      display:flex;\n",
              "      flex-wrap:wrap;\n",
              "      gap: 12px;\n",
              "    }\n",
              "\n",
              "    .colab-df-convert {\n",
              "      background-color: #E8F0FE;\n",
              "      border: none;\n",
              "      border-radius: 50%;\n",
              "      cursor: pointer;\n",
              "      display: none;\n",
              "      fill: #1967D2;\n",
              "      height: 32px;\n",
              "      padding: 0 0 0 0;\n",
              "      width: 32px;\n",
              "    }\n",
              "\n",
              "    .colab-df-convert:hover {\n",
              "      background-color: #E2EBFA;\n",
              "      box-shadow: 0px 1px 2px rgba(60, 64, 67, 0.3), 0px 1px 3px 1px rgba(60, 64, 67, 0.15);\n",
              "      fill: #174EA6;\n",
              "    }\n",
              "\n",
              "    [theme=dark] .colab-df-convert {\n",
              "      background-color: #3B4455;\n",
              "      fill: #D2E3FC;\n",
              "    }\n",
              "\n",
              "    [theme=dark] .colab-df-convert:hover {\n",
              "      background-color: #434B5C;\n",
              "      box-shadow: 0px 1px 3px 1px rgba(0, 0, 0, 0.15);\n",
              "      filter: drop-shadow(0px 1px 2px rgba(0, 0, 0, 0.3));\n",
              "      fill: #FFFFFF;\n",
              "    }\n",
              "  </style>\n",
              "\n",
              "      <script>\n",
              "        const buttonEl =\n",
              "          document.querySelector('#df-8de2d989-2134-44bf-9b98-332e3c68d9b2 button.colab-df-convert');\n",
              "        buttonEl.style.display =\n",
              "          google.colab.kernel.accessAllowed ? 'block' : 'none';\n",
              "\n",
              "        async function convertToInteractive(key) {\n",
              "          const element = document.querySelector('#df-8de2d989-2134-44bf-9b98-332e3c68d9b2');\n",
              "          const dataTable =\n",
              "            await google.colab.kernel.invokeFunction('convertToInteractive',\n",
              "                                                     [key], {});\n",
              "          if (!dataTable) return;\n",
              "\n",
              "          const docLinkHtml = 'Like what you see? Visit the ' +\n",
              "            '<a target=\"_blank\" href=https://colab.research.google.com/notebooks/data_table.ipynb>data table notebook</a>'\n",
              "            + ' to learn more about interactive tables.';\n",
              "          element.innerHTML = '';\n",
              "          dataTable['output_type'] = 'display_data';\n",
              "          await google.colab.output.renderOutput(dataTable, element);\n",
              "          const docLink = document.createElement('div');\n",
              "          docLink.innerHTML = docLinkHtml;\n",
              "          element.appendChild(docLink);\n",
              "        }\n",
              "      </script>\n",
              "    </div>\n",
              "  </div>\n",
              "  "
            ]
          },
          "metadata": {},
          "execution_count": 59
        }
      ]
    },
    {
      "cell_type": "code",
      "source": [
        "# Nos quedaremos con variables con correlación menor al 60%\n"
      ],
      "metadata": {
        "id": "CQQ1zHfioRkB"
      },
      "execution_count": null,
      "outputs": []
    },
    {
      "cell_type": "code",
      "source": [
        "train[['LSTAT_tric_imp_std',\n",
        "       'RM_tric_imp_std',\n",
        "       'PTRATIO_tric_imp_std',\n",
        "       'DIS_tric_imp_std']].corr()"
      ],
      "metadata": {
        "id": "_eTO5zY2omwT",
        "outputId": "adda1b57-ecc4-4aed-b619-84ee9b47510c",
        "colab": {
          "base_uri": "https://localhost:8080/",
          "height": 175
        }
      },
      "execution_count": null,
      "outputs": [
        {
          "output_type": "execute_result",
          "data": {
            "text/plain": [
              "                      LSTAT_tric_imp_std  RM_tric_imp_std  \\\n",
              "LSTAT_tric_imp_std              1.000000        -0.633416   \n",
              "RM_tric_imp_std                -0.633416         1.000000   \n",
              "PTRATIO_tric_imp_std            0.389378        -0.365316   \n",
              "DIS_tric_imp_std               -0.520467         0.225544   \n",
              "\n",
              "                      PTRATIO_tric_imp_std  DIS_tric_imp_std  \n",
              "LSTAT_tric_imp_std                0.389378         -0.520467  \n",
              "RM_tric_imp_std                  -0.365316          0.225544  \n",
              "PTRATIO_tric_imp_std              1.000000         -0.237534  \n",
              "DIS_tric_imp_std                 -0.237534          1.000000  "
            ],
            "text/html": [
              "\n",
              "  <div id=\"df-b93d651e-908a-401f-960e-75f0d875beca\">\n",
              "    <div class=\"colab-df-container\">\n",
              "      <div>\n",
              "<style scoped>\n",
              "    .dataframe tbody tr th:only-of-type {\n",
              "        vertical-align: middle;\n",
              "    }\n",
              "\n",
              "    .dataframe tbody tr th {\n",
              "        vertical-align: top;\n",
              "    }\n",
              "\n",
              "    .dataframe thead th {\n",
              "        text-align: right;\n",
              "    }\n",
              "</style>\n",
              "<table border=\"1\" class=\"dataframe\">\n",
              "  <thead>\n",
              "    <tr style=\"text-align: right;\">\n",
              "      <th></th>\n",
              "      <th>LSTAT_tric_imp_std</th>\n",
              "      <th>RM_tric_imp_std</th>\n",
              "      <th>PTRATIO_tric_imp_std</th>\n",
              "      <th>DIS_tric_imp_std</th>\n",
              "    </tr>\n",
              "  </thead>\n",
              "  <tbody>\n",
              "    <tr>\n",
              "      <th>LSTAT_tric_imp_std</th>\n",
              "      <td>1.000000</td>\n",
              "      <td>-0.633416</td>\n",
              "      <td>0.389378</td>\n",
              "      <td>-0.520467</td>\n",
              "    </tr>\n",
              "    <tr>\n",
              "      <th>RM_tric_imp_std</th>\n",
              "      <td>-0.633416</td>\n",
              "      <td>1.000000</td>\n",
              "      <td>-0.365316</td>\n",
              "      <td>0.225544</td>\n",
              "    </tr>\n",
              "    <tr>\n",
              "      <th>PTRATIO_tric_imp_std</th>\n",
              "      <td>0.389378</td>\n",
              "      <td>-0.365316</td>\n",
              "      <td>1.000000</td>\n",
              "      <td>-0.237534</td>\n",
              "    </tr>\n",
              "    <tr>\n",
              "      <th>DIS_tric_imp_std</th>\n",
              "      <td>-0.520467</td>\n",
              "      <td>0.225544</td>\n",
              "      <td>-0.237534</td>\n",
              "      <td>1.000000</td>\n",
              "    </tr>\n",
              "  </tbody>\n",
              "</table>\n",
              "</div>\n",
              "      <button class=\"colab-df-convert\" onclick=\"convertToInteractive('df-b93d651e-908a-401f-960e-75f0d875beca')\"\n",
              "              title=\"Convert this dataframe to an interactive table.\"\n",
              "              style=\"display:none;\">\n",
              "        \n",
              "  <svg xmlns=\"http://www.w3.org/2000/svg\" height=\"24px\"viewBox=\"0 0 24 24\"\n",
              "       width=\"24px\">\n",
              "    <path d=\"M0 0h24v24H0V0z\" fill=\"none\"/>\n",
              "    <path d=\"M18.56 5.44l.94 2.06.94-2.06 2.06-.94-2.06-.94-.94-2.06-.94 2.06-2.06.94zm-11 1L8.5 8.5l.94-2.06 2.06-.94-2.06-.94L8.5 2.5l-.94 2.06-2.06.94zm10 10l.94 2.06.94-2.06 2.06-.94-2.06-.94-.94-2.06-.94 2.06-2.06.94z\"/><path d=\"M17.41 7.96l-1.37-1.37c-.4-.4-.92-.59-1.43-.59-.52 0-1.04.2-1.43.59L10.3 9.45l-7.72 7.72c-.78.78-.78 2.05 0 2.83L4 21.41c.39.39.9.59 1.41.59.51 0 1.02-.2 1.41-.59l7.78-7.78 2.81-2.81c.8-.78.8-2.07 0-2.86zM5.41 20L4 18.59l7.72-7.72 1.47 1.35L5.41 20z\"/>\n",
              "  </svg>\n",
              "      </button>\n",
              "      \n",
              "  <style>\n",
              "    .colab-df-container {\n",
              "      display:flex;\n",
              "      flex-wrap:wrap;\n",
              "      gap: 12px;\n",
              "    }\n",
              "\n",
              "    .colab-df-convert {\n",
              "      background-color: #E8F0FE;\n",
              "      border: none;\n",
              "      border-radius: 50%;\n",
              "      cursor: pointer;\n",
              "      display: none;\n",
              "      fill: #1967D2;\n",
              "      height: 32px;\n",
              "      padding: 0 0 0 0;\n",
              "      width: 32px;\n",
              "    }\n",
              "\n",
              "    .colab-df-convert:hover {\n",
              "      background-color: #E2EBFA;\n",
              "      box-shadow: 0px 1px 2px rgba(60, 64, 67, 0.3), 0px 1px 3px 1px rgba(60, 64, 67, 0.15);\n",
              "      fill: #174EA6;\n",
              "    }\n",
              "\n",
              "    [theme=dark] .colab-df-convert {\n",
              "      background-color: #3B4455;\n",
              "      fill: #D2E3FC;\n",
              "    }\n",
              "\n",
              "    [theme=dark] .colab-df-convert:hover {\n",
              "      background-color: #434B5C;\n",
              "      box-shadow: 0px 1px 3px 1px rgba(0, 0, 0, 0.15);\n",
              "      filter: drop-shadow(0px 1px 2px rgba(0, 0, 0, 0.3));\n",
              "      fill: #FFFFFF;\n",
              "    }\n",
              "  </style>\n",
              "\n",
              "      <script>\n",
              "        const buttonEl =\n",
              "          document.querySelector('#df-b93d651e-908a-401f-960e-75f0d875beca button.colab-df-convert');\n",
              "        buttonEl.style.display =\n",
              "          google.colab.kernel.accessAllowed ? 'block' : 'none';\n",
              "\n",
              "        async function convertToInteractive(key) {\n",
              "          const element = document.querySelector('#df-b93d651e-908a-401f-960e-75f0d875beca');\n",
              "          const dataTable =\n",
              "            await google.colab.kernel.invokeFunction('convertToInteractive',\n",
              "                                                     [key], {});\n",
              "          if (!dataTable) return;\n",
              "\n",
              "          const docLinkHtml = 'Like what you see? Visit the ' +\n",
              "            '<a target=\"_blank\" href=https://colab.research.google.com/notebooks/data_table.ipynb>data table notebook</a>'\n",
              "            + ' to learn more about interactive tables.';\n",
              "          element.innerHTML = '';\n",
              "          dataTable['output_type'] = 'display_data';\n",
              "          await google.colab.output.renderOutput(dataTable, element);\n",
              "          const docLink = document.createElement('div');\n",
              "          docLink.innerHTML = docLinkHtml;\n",
              "          element.appendChild(docLink);\n",
              "        }\n",
              "      </script>\n",
              "    </div>\n",
              "  </div>\n",
              "  "
            ]
          },
          "metadata": {},
          "execution_count": 60
        }
      ]
    },
    {
      "cell_type": "code",
      "source": [
        "univariate_II"
      ],
      "metadata": {
        "id": "6u0WOPvcorE6"
      },
      "execution_count": null,
      "outputs": []
    },
    {
      "cell_type": "code",
      "source": [
        "mod = sm.OLS(train.MEDV_tric, sm.add_constant(train[['LSTAT_tric_imp_std',\n",
        "                                              'RM_tric_imp_std',\n",
        "                                              'PTRATIO_tric_imp_std',\n",
        "                                              'DIS_tric_imp_std']]))\n",
        "res = mod.fit()\n",
        "print(res.summary())"
      ],
      "metadata": {
        "id": "PHYFp8fapFvM",
        "outputId": "10e0f15f-69c8-49c7-f84d-c4d54ddea4eb",
        "colab": {
          "base_uri": "https://localhost:8080/"
        }
      },
      "execution_count": null,
      "outputs": [
        {
          "output_type": "stream",
          "name": "stdout",
          "text": [
            "                            OLS Regression Results                            \n",
            "==============================================================================\n",
            "Dep. Variable:              MEDV_tric   R-squared:                       0.764\n",
            "Model:                            OLS   Adj. R-squared:                  0.761\n",
            "Method:                 Least Squares   F-statistic:                     282.2\n",
            "Date:                Sat, 20 May 2023   Prob (F-statistic):          5.79e-108\n",
            "Time:                        00:52:20   Log-Likelihood:                -962.18\n",
            "No. Observations:                 354   AIC:                             1934.\n",
            "Df Residuals:                     349   BIC:                             1954.\n",
            "Df Model:                           4                                         \n",
            "Covariance Type:            nonrobust                                         \n",
            "========================================================================================\n",
            "                           coef    std err          t      P>|t|      [0.025      0.975]\n",
            "----------------------------------------------------------------------------------------\n",
            "const                   22.0443      0.196    112.338      0.000      21.658      22.430\n",
            "LSTAT_tric_imp_std      -4.0729      0.297    -13.710      0.000      -4.657      -3.489\n",
            "RM_tric_imp_std          2.4565      0.261      9.404      0.000       1.943       2.970\n",
            "PTRATIO_tric_imp_std    -1.6619      0.217     -7.661      0.000      -2.089      -1.235\n",
            "DIS_tric_imp_std        -0.4832      0.234     -2.068      0.039      -0.943      -0.024\n",
            "==============================================================================\n",
            "Omnibus:                       53.013   Durbin-Watson:                   2.269\n",
            "Prob(Omnibus):                  0.000   Jarque-Bera (JB):              123.475\n",
            "Skew:                           0.753   Prob(JB):                     1.54e-27\n",
            "Kurtosis:                       5.471   Cond. No.                         2.81\n",
            "==============================================================================\n",
            "\n",
            "Notes:\n",
            "[1] Standard Errors assume that the covariance matrix of the errors is correctly specified.\n"
          ]
        }
      ]
    },
    {
      "cell_type": "code",
      "source": [],
      "metadata": {
        "id": "YartJ2F7qPDw"
      },
      "execution_count": null,
      "outputs": []
    },
    {
      "cell_type": "markdown",
      "source": [
        "## 6. Métricas de desempeño"
      ],
      "metadata": {
        "id": "rO7vKEBprvSu"
      }
    },
    {
      "cell_type": "code",
      "source": [
        "train['MEDV_pred'] = (22.0443 - 4.0729*train.LSTAT_tric_imp_std\n",
        "                              + 2.4565*train.RM_tric_imp_std\n",
        "                              - 1.6619*train.PTRATIO_tric_imp_std\n",
        "                              - 0.4832*train.DIS_tric_imp_std)\n"
      ],
      "metadata": {
        "id": "y__TDX23rx8q"
      },
      "execution_count": null,
      "outputs": []
    },
    {
      "cell_type": "code",
      "source": [
        "train[['MEDV_tric', 'MEDV_pred']].head()"
      ],
      "metadata": {
        "id": "eqlRaeqesnxq",
        "outputId": "06001301-17ea-406c-adb5-adb1549f0400",
        "colab": {
          "base_uri": "https://localhost:8080/",
          "height": 206
        }
      },
      "execution_count": null,
      "outputs": [
        {
          "output_type": "execute_result",
          "data": {
            "text/plain": [
              "     MEDV_tric  MEDV_pred\n",
              "273       35.2  30.763449\n",
              "52        25.0  27.748763\n",
              "181       36.2  24.090760\n",
              "452       16.1  18.331808\n",
              "381       10.9  17.295484"
            ],
            "text/html": [
              "\n",
              "  <div id=\"df-6ae97b03-6666-4684-b8c0-50499f5ddf36\">\n",
              "    <div class=\"colab-df-container\">\n",
              "      <div>\n",
              "<style scoped>\n",
              "    .dataframe tbody tr th:only-of-type {\n",
              "        vertical-align: middle;\n",
              "    }\n",
              "\n",
              "    .dataframe tbody tr th {\n",
              "        vertical-align: top;\n",
              "    }\n",
              "\n",
              "    .dataframe thead th {\n",
              "        text-align: right;\n",
              "    }\n",
              "</style>\n",
              "<table border=\"1\" class=\"dataframe\">\n",
              "  <thead>\n",
              "    <tr style=\"text-align: right;\">\n",
              "      <th></th>\n",
              "      <th>MEDV_tric</th>\n",
              "      <th>MEDV_pred</th>\n",
              "    </tr>\n",
              "  </thead>\n",
              "  <tbody>\n",
              "    <tr>\n",
              "      <th>273</th>\n",
              "      <td>35.2</td>\n",
              "      <td>30.763449</td>\n",
              "    </tr>\n",
              "    <tr>\n",
              "      <th>52</th>\n",
              "      <td>25.0</td>\n",
              "      <td>27.748763</td>\n",
              "    </tr>\n",
              "    <tr>\n",
              "      <th>181</th>\n",
              "      <td>36.2</td>\n",
              "      <td>24.090760</td>\n",
              "    </tr>\n",
              "    <tr>\n",
              "      <th>452</th>\n",
              "      <td>16.1</td>\n",
              "      <td>18.331808</td>\n",
              "    </tr>\n",
              "    <tr>\n",
              "      <th>381</th>\n",
              "      <td>10.9</td>\n",
              "      <td>17.295484</td>\n",
              "    </tr>\n",
              "  </tbody>\n",
              "</table>\n",
              "</div>\n",
              "      <button class=\"colab-df-convert\" onclick=\"convertToInteractive('df-6ae97b03-6666-4684-b8c0-50499f5ddf36')\"\n",
              "              title=\"Convert this dataframe to an interactive table.\"\n",
              "              style=\"display:none;\">\n",
              "        \n",
              "  <svg xmlns=\"http://www.w3.org/2000/svg\" height=\"24px\"viewBox=\"0 0 24 24\"\n",
              "       width=\"24px\">\n",
              "    <path d=\"M0 0h24v24H0V0z\" fill=\"none\"/>\n",
              "    <path d=\"M18.56 5.44l.94 2.06.94-2.06 2.06-.94-2.06-.94-.94-2.06-.94 2.06-2.06.94zm-11 1L8.5 8.5l.94-2.06 2.06-.94-2.06-.94L8.5 2.5l-.94 2.06-2.06.94zm10 10l.94 2.06.94-2.06 2.06-.94-2.06-.94-.94-2.06-.94 2.06-2.06.94z\"/><path d=\"M17.41 7.96l-1.37-1.37c-.4-.4-.92-.59-1.43-.59-.52 0-1.04.2-1.43.59L10.3 9.45l-7.72 7.72c-.78.78-.78 2.05 0 2.83L4 21.41c.39.39.9.59 1.41.59.51 0 1.02-.2 1.41-.59l7.78-7.78 2.81-2.81c.8-.78.8-2.07 0-2.86zM5.41 20L4 18.59l7.72-7.72 1.47 1.35L5.41 20z\"/>\n",
              "  </svg>\n",
              "      </button>\n",
              "      \n",
              "  <style>\n",
              "    .colab-df-container {\n",
              "      display:flex;\n",
              "      flex-wrap:wrap;\n",
              "      gap: 12px;\n",
              "    }\n",
              "\n",
              "    .colab-df-convert {\n",
              "      background-color: #E8F0FE;\n",
              "      border: none;\n",
              "      border-radius: 50%;\n",
              "      cursor: pointer;\n",
              "      display: none;\n",
              "      fill: #1967D2;\n",
              "      height: 32px;\n",
              "      padding: 0 0 0 0;\n",
              "      width: 32px;\n",
              "    }\n",
              "\n",
              "    .colab-df-convert:hover {\n",
              "      background-color: #E2EBFA;\n",
              "      box-shadow: 0px 1px 2px rgba(60, 64, 67, 0.3), 0px 1px 3px 1px rgba(60, 64, 67, 0.15);\n",
              "      fill: #174EA6;\n",
              "    }\n",
              "\n",
              "    [theme=dark] .colab-df-convert {\n",
              "      background-color: #3B4455;\n",
              "      fill: #D2E3FC;\n",
              "    }\n",
              "\n",
              "    [theme=dark] .colab-df-convert:hover {\n",
              "      background-color: #434B5C;\n",
              "      box-shadow: 0px 1px 3px 1px rgba(0, 0, 0, 0.15);\n",
              "      filter: drop-shadow(0px 1px 2px rgba(0, 0, 0, 0.3));\n",
              "      fill: #FFFFFF;\n",
              "    }\n",
              "  </style>\n",
              "\n",
              "      <script>\n",
              "        const buttonEl =\n",
              "          document.querySelector('#df-6ae97b03-6666-4684-b8c0-50499f5ddf36 button.colab-df-convert');\n",
              "        buttonEl.style.display =\n",
              "          google.colab.kernel.accessAllowed ? 'block' : 'none';\n",
              "\n",
              "        async function convertToInteractive(key) {\n",
              "          const element = document.querySelector('#df-6ae97b03-6666-4684-b8c0-50499f5ddf36');\n",
              "          const dataTable =\n",
              "            await google.colab.kernel.invokeFunction('convertToInteractive',\n",
              "                                                     [key], {});\n",
              "          if (!dataTable) return;\n",
              "\n",
              "          const docLinkHtml = 'Like what you see? Visit the ' +\n",
              "            '<a target=\"_blank\" href=https://colab.research.google.com/notebooks/data_table.ipynb>data table notebook</a>'\n",
              "            + ' to learn more about interactive tables.';\n",
              "          element.innerHTML = '';\n",
              "          dataTable['output_type'] = 'display_data';\n",
              "          await google.colab.output.renderOutput(dataTable, element);\n",
              "          const docLink = document.createElement('div');\n",
              "          docLink.innerHTML = docLinkHtml;\n",
              "          element.appendChild(docLink);\n",
              "        }\n",
              "      </script>\n",
              "    </div>\n",
              "  </div>\n",
              "  "
            ]
          },
          "metadata": {},
          "execution_count": 68
        }
      ]
    },
    {
      "cell_type": "code",
      "source": [
        "from sklearn.metrics import *"
      ],
      "metadata": {
        "id": "5bRTTtbds5hk"
      },
      "execution_count": null,
      "outputs": []
    },
    {
      "cell_type": "code",
      "source": [
        "r2_score(train.MEDV_tric, train.MEDV_pred)"
      ],
      "metadata": {
        "id": "5nZhj5pMuEls",
        "outputId": "f0786b50-5e56-40e2-e99f-a16e6719f2d4",
        "colab": {
          "base_uri": "https://localhost:8080/"
        }
      },
      "execution_count": null,
      "outputs": [
        {
          "output_type": "execute_result",
          "data": {
            "text/plain": [
              "0.7638077480961516"
            ]
          },
          "metadata": {},
          "execution_count": 73
        }
      ]
    },
    {
      "cell_type": "code",
      "source": [
        "mean_absolute_percentage_error(train.MEDV_tric, train.MEDV_pred)"
      ],
      "metadata": {
        "id": "8RH34BgQucI3",
        "outputId": "ecad242c-4257-4c34-d441-4bd0f51d0073",
        "colab": {
          "base_uri": "https://localhost:8080/"
        }
      },
      "execution_count": null,
      "outputs": [
        {
          "output_type": "execute_result",
          "data": {
            "text/plain": [
              "0.14719635864382447"
            ]
          },
          "metadata": {},
          "execution_count": 75
        }
      ]
    },
    {
      "cell_type": "code",
      "source": [
        "plt.scatter(train.MEDV_tric, train.MEDV_pred, alpha = 0.5)"
      ],
      "metadata": {
        "id": "C4JOo9UgvjNg"
      },
      "execution_count": null,
      "outputs": []
    },
    {
      "cell_type": "code",
      "source": [
        "plt.scatter(train.AGE_tric**3, train.MEDV_tric, alpha = 0.5)"
      ],
      "metadata": {
        "id": "EtgpipBiw2gI"
      },
      "execution_count": null,
      "outputs": []
    },
    {
      "cell_type": "code",
      "source": [
        "temp = train[['MEDV_tric', 'AGE_tric']].dropna()\n",
        "\n"
      ],
      "metadata": {
        "id": "M8v3i23Sy57v"
      },
      "execution_count": null,
      "outputs": []
    },
    {
      "cell_type": "code",
      "source": [
        "\n",
        "for i in [1, 2, 3, 4, 5]:\n",
        "  temp = train[['MEDV_tric', 'AGE_tric']].copy().dropna()\n",
        "  temp['AGE_tric'] = temp['AGE_tric']**i\n",
        "  print(f\"grado {i} R : {temp.corr()[:1].AGE_tric.values[0]**2}\")\n"
      ],
      "metadata": {
        "id": "d7jH_7EdyE71"
      },
      "execution_count": null,
      "outputs": []
    },
    {
      "cell_type": "markdown",
      "source": [
        "---\n",
        "\n",
        "# Gracias por completar este laboratorio!\n",
        "\n",
        "---\n",
        "\n"
      ],
      "metadata": {
        "id": "OTbpVbb93WTB"
      }
    }
  ]
}