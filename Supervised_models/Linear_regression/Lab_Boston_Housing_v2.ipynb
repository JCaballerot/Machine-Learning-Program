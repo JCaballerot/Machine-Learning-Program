{
  "nbformat": 4,
  "nbformat_minor": 0,
  "metadata": {
    "colab": {
      "name": "Lab: Boston Housing.ipynb",
      "provenance": [],
      "machine_shape": "hm",
      "authorship_tag": "ABX9TyO66hMz2f4U8kySNBtcSnmf",
      "include_colab_link": true
    },
    "kernelspec": {
      "name": "python3",
      "display_name": "Python 3"
    }
  },
  "cells": [
    {
      "cell_type": "markdown",
      "metadata": {
        "id": "view-in-github",
        "colab_type": "text"
      },
      "source": [
        "<a href=\"https://colab.research.google.com/github/JCaballerot/Machine_learning_program/blob/main/Supervised_models/Linear_regression/Lab_Boston_Housing_v2.ipynb\" target=\"_parent\"><img src=\"https://colab.research.google.com/assets/colab-badge.svg\" alt=\"Open In Colab\"/></a>"
      ]
    },
    {
      "cell_type": "markdown",
      "metadata": {
        "id": "XkAemYVYi7k5"
      },
      "source": [
        "\n",
        "<h1 align=center><font size = 5>Boston Housing</font></h1>\n",
        "\n",
        "---"
      ]
    },
    {
      "cell_type": "markdown",
      "metadata": {
        "button": false,
        "deletable": true,
        "new_sheet": false,
        "run_control": {
          "read_only": false
        },
        "id": "R_NIQeNlLo19"
      },
      "source": [
        "## Introducción\n"
      ]
    },
    {
      "cell_type": "markdown",
      "metadata": {
        "id": "g7LRGuxBHMpw"
      },
      "source": [
        "En este laboratorio, aprenderá a usar python para construir un modelo de regresión."
      ]
    },
    {
      "cell_type": "markdown",
      "metadata": {
        "id": "yFB_r2dkHMp7"
      },
      "source": [
        "\n",
        "<h3>Objetivo de este Notebook<h3>    \n",
        "<h5> 1. Como construir e interpretar un modelo de regresión.</h5>\n",
        "<h5> 2. Descargar y limpiar un Dataset </h5>\n",
        "<h5> 3. Realizar los pasos necesarios previos a la etapa de modelamiento </h5>\n",
        "<h5> 4. Entrenar y Testear modelo </h5>     "
      ]
    },
    {
      "cell_type": "markdown",
      "metadata": {
        "id": "Is3nFhGglsft"
      },
      "source": [
        "## Tabla de Contenidos\n",
        "\n",
        "<div class=\"alert alert-block alert-info\" style=\"margin-top: 20px\">\n",
        "\n",
        "<font size = 3>\n",
        "    \n",
        "1. <a href=\"#item31\">Importar Librerías</a>  \n",
        "2. <a href=\"#item32\">Descargar y limpiar el Dataset</a>  \n",
        "3. <a href=\"#item33\">Pre-selección de variables</a> \n",
        "4. <a href=\"#item33\">Preparación de datos</a> \n",
        "5. <a href=\"#item33\">Construir un modelo de regresión lineal</a>  \n",
        "6. <a href=\"#item34\">Entrenar y Testear el modelo</a>  \n",
        "\n",
        "</font>\n",
        "</div>"
      ]
    },
    {
      "cell_type": "markdown",
      "metadata": {
        "button": false,
        "deletable": true,
        "new_sheet": false,
        "run_control": {
          "read_only": false
        },
        "id": "iYo1JVdwmPKW"
      },
      "source": [
        "## Descargar y limpiar Dataset\n"
      ]
    },
    {
      "cell_type": "markdown",
      "metadata": {
        "id": "cWBGqVX6HMp8"
      },
      "source": [
        "Primero, importemos algunos módulos comunes, asegurémonos de que MatplotLib tenga una configuración adecuada para el tamaño de nuestros gráficos. También verificamos que Python 3.5 o posterior esté instalado (aunque Python 2.x puede funcionar, está obsoleto), así como Scikit-Learn ≥0.20."
      ]
    },
    {
      "cell_type": "code",
      "metadata": {
        "id": "YQUbjfMkHMp9"
      },
      "source": [
        "# Scikit-Learn \n",
        "import sklearn\n",
        "\n",
        "# Imports comunes\n",
        "import pandas as pd\n",
        "import numpy as np\n",
        "import os\n",
        "\n",
        "# Configuración de tamaño de gráficos matplotlib\n",
        "%matplotlib inline\n",
        "import matplotlib as mpl\n",
        "import matplotlib.pyplot as plt\n",
        "\n",
        "mpl.rc('axes', labelsize=14)\n",
        "mpl.rc('xtick', labelsize=12)\n",
        "mpl.rc('ytick', labelsize=12)\n",
        "\n",
        "# Cargar seaborn \n",
        "import seaborn as sns\n",
        "sns.set(style=\"whitegrid\", color_codes = True)\n",
        "sns.set(rc={'figure.figsize':(10,6)})\n",
        "\n",
        "# Ignore las advertencias poco útiles\n",
        "import warnings\n",
        "warnings.filterwarnings(action=\"ignore\", message=\"^internal gelsd\")"
      ],
      "execution_count": 1,
      "outputs": []
    },
    {
      "cell_type": "markdown",
      "metadata": {
        "id": "7BOj02v9NFNV"
      },
      "source": [
        "<b>Valores de la vivienda en los suburbios de Boston</b>\n",
        "\n",
        "<h5>La variable <b>medv</b> es la variable objetivo.</h5>\n",
        "\n",
        "<b>Descripción de datos</b>\n",
        "\n",
        "El data frame de Boston tiene 506 filas y 14 columnas.\n",
        "\n",
        "<b>Este data frame contiene las siguientes columnas:</b>\n",
        "\n",
        "---\n",
        "\n",
        "* <b>crim : </b> Tasa de criminalidad per cápita por ciudad.\n",
        "\n",
        "* <b>zn : </b> Proporción de terreno residencial dividido en zonas para lotes de más de 25,000 pies cuadrados.\n",
        "\n",
        "* <b>indus : </b> Proporción de acres comerciales no minoristas por ciudad.\n",
        "\n",
        "* <b>chas : </b> Variable ficticia de Charles River (= 1 si el tramo limita con el río; 0 en caso contrario).\n",
        "\n",
        "* <b>nox : </b>Concentración de óxidos de nitrógeno (partes por 10 millones).\n",
        "\n",
        "* <b>rm : </b>Número medio de habitaciones por vivienda.\n",
        "\n",
        "* <b>años : </b> Proporción de unidades ocupadas por sus propietarios construidas antes de 1940.\n",
        "\n",
        "* <b>dis : </b>Media ponderada de las distancias a cinco centros de empleo de Boston.\n",
        "\n",
        "* <b>rad : </b>Indice de accesibilidad a carreteras radiales.\n",
        "\n",
        "* <b>impuesto : </b>Tasa de impuesto a la propiedad de valor total por \\$ 10,000.\n",
        "\n",
        "* <b>ptratio : </b>Proporción alumno-profesor por ciudad.\n",
        "\n",
        "* <b>black : </b> 1000 (Bk - 0.63) ^ 2 donde Bk es la proporción de negros por ciudad.\n",
        "\n",
        "* <b>lstat : </b>Estatus más bajo de la población (porcentaje).\n",
        "\n",
        "* <b>medv : </b>Valor medio de las viviendas ocupadas por sus propietarios en \\$ 1000.\n",
        "\n",
        "---\n",
        "\n",
        "<strong>Puede consultar este [link](https://kaggle.com/c/boston-housing) para leer más sobre la fuente de datos boston housing.</strong>\n",
        "\n",
        "<strong>Puede descargar la data en este [link](https://www.kaggle.com/datasets/altavish/boston-housing-dataset)</strong>\n"
      ]
    },
    {
      "cell_type": "markdown",
      "source": [
        "## Leyendo y Explorando data"
      ],
      "metadata": {
        "id": "ZuOIP0Tb2Vja"
      }
    },
    {
      "cell_type": "code",
      "metadata": {
        "id": "fcc2Hvp_7jdD"
      },
      "source": [
        "#cargamos la data\n",
        "\n",
        "pddf = pd.read_csv('HousingData 2.csv')"
      ],
      "execution_count": 16,
      "outputs": []
    },
    {
      "cell_type": "code",
      "metadata": {
        "id": "VVGrrHMX3Ka5"
      },
      "source": [
        "pddf.head()"
      ],
      "execution_count": null,
      "outputs": []
    },
    {
      "cell_type": "code",
      "metadata": {
        "id": "Mwpv3JXdxoCC"
      },
      "source": [
        "pddf.shape"
      ],
      "execution_count": null,
      "outputs": []
    },
    {
      "cell_type": "code",
      "metadata": {
        "id": "CtQgb035HMqD"
      },
      "source": [
        "# Vamos a describir la información\n",
        "pddf.describe().transpose()\n"
      ],
      "execution_count": null,
      "outputs": []
    },
    {
      "cell_type": "code",
      "metadata": {
        "id": "va7P9YoJ-t2r"
      },
      "source": [
        "# Gráfico de distribución \n",
        "import seaborn as sns\n",
        "sns.displot(pddf.NOX, kind=\"kde\", fill=True)"
      ],
      "execution_count": null,
      "outputs": []
    },
    {
      "cell_type": "code",
      "metadata": {
        "id": "KExB6vIOyeTc"
      },
      "source": [
        "#Boxplot\n",
        "sns.set_theme(style=\"whitegrid\")\n",
        "ax = sns.boxplot(data=pddf.NOX, orient=\"v\")\n",
        "ax = sns.swarmplot(data=pddf.NOX, color=\".25\")\n"
      ],
      "execution_count": null,
      "outputs": []
    },
    {
      "cell_type": "code",
      "metadata": {
        "id": "xC_tdI8y-bu6"
      },
      "source": [
        "sns.displot(pddf.MEDV, kind=\"kde\", fill=True)"
      ],
      "execution_count": null,
      "outputs": []
    },
    {
      "cell_type": "code",
      "metadata": {
        "id": "JIBeVb100ZnK"
      },
      "source": [
        "sns.set_theme(style=\"whitegrid\")\n",
        "ax = sns.boxplot(data=pddf.MEDV, orient=\"v\")\n",
        "ax = sns.swarmplot(data=pddf.MEDV, color=\".25\")"
      ],
      "execution_count": null,
      "outputs": []
    },
    {
      "cell_type": "code",
      "metadata": {
        "id": "tRrkjwP9HMqD"
      },
      "source": [
        "%matplotlib inline\n",
        "import matplotlib.pyplot as plt\n",
        "pddf.hist(bins=50, figsize=(20,15))\n",
        "plt.show()"
      ],
      "execution_count": null,
      "outputs": []
    },
    {
      "cell_type": "markdown",
      "source": [
        "## Selección de muestras"
      ],
      "metadata": {
        "id": "7kBNisCz2gsm"
      }
    },
    {
      "cell_type": "code",
      "source": [
        "pddf.head()"
      ],
      "metadata": {
        "id": "wUDPbXDJ-yXU"
      },
      "execution_count": null,
      "outputs": []
    },
    {
      "cell_type": "code",
      "metadata": {
        "id": "AYMQNjBfHMp_"
      },
      "source": [
        "# Shuffle the data\n",
        "from sklearn.utils import shuffle\n",
        "pddf = shuffle(pddf, random_state = 123)\n"
      ],
      "execution_count": 24,
      "outputs": []
    },
    {
      "cell_type": "code",
      "source": [
        "# Elección de variables\n",
        "features = list(set(pddf.columns.tolist()) - set(['MEDV']))\n",
        "features\n"
      ],
      "metadata": {
        "id": "i2WD7-Gx2m7N"
      },
      "execution_count": null,
      "outputs": []
    },
    {
      "cell_type": "code",
      "metadata": {
        "id": "KvYuqMUmHMqC"
      },
      "source": [
        "# Definiendo data\n",
        "X = pddf[features]\n",
        "y = pddf.MEDV\n"
      ],
      "execution_count": 76,
      "outputs": []
    },
    {
      "cell_type": "code",
      "metadata": {
        "id": "YRd3xtAsHMqE"
      },
      "source": [
        "# Muestreo\n",
        "\n",
        "from sklearn.model_selection import train_test_split\n",
        "\n",
        "X_train, X_test, y_train, y_test = train_test_split(X, y, \n",
        "                                                    train_size = 0.7, \n",
        "                                                    random_state = 123)\n"
      ],
      "execution_count": 77,
      "outputs": []
    },
    {
      "cell_type": "code",
      "metadata": {
        "id": "Kkk69Tj_BJRA"
      },
      "source": [
        "print(X.shape)\n",
        "print(X_train.shape)\n",
        "print(X_test.shape)\n"
      ],
      "execution_count": null,
      "outputs": []
    },
    {
      "cell_type": "code",
      "metadata": {
        "id": "XcQwqDnTDb7N"
      },
      "source": [
        "import matplotlib.pyplot as plt\n",
        "plt.rcParams[\"figure.figsize\"] = (10,6)\n",
        "\n",
        "plt.scatter(X_train.NOX, y_train)\n",
        "plt.xlabel(\"$x_1$\", fontsize=18)\n",
        "plt.ylabel(\"$y$\", rotation=0, fontsize=18)"
      ],
      "execution_count": null,
      "outputs": []
    },
    {
      "cell_type": "code",
      "metadata": {
        "id": "7vn92UNzDv6X"
      },
      "source": [
        "plt.scatter(X_train.NOX, y_train, alpha = 0.5)\n",
        "plt.xlabel(\"$x_1$\", fontsize=18)\n",
        "plt.ylabel(\"$y$\", rotation=0, fontsize=18)\n",
        "plt.show()"
      ],
      "execution_count": null,
      "outputs": []
    },
    {
      "cell_type": "code",
      "metadata": {
        "id": "jMOHFxlInxhh"
      },
      "source": [
        "# Matriz de scatterplots\n",
        "from pandas.plotting import scatter_matrix\n",
        "scatter_matrix(X_train, figsize=(30, 20))\n"
      ],
      "execution_count": null,
      "outputs": []
    },
    {
      "cell_type": "markdown",
      "source": [
        "## Pre-selección de variables"
      ],
      "metadata": {
        "id": "HNx4SqLiFWpw"
      }
    },
    {
      "cell_type": "code",
      "source": [
        "# Dando formato a nuestra tabla resumen\n",
        "\n",
        "pdResume = X_train.describe().transpose()\n",
        "pdResume.reset_index(inplace = True)\n",
        "pdResume.rename(columns = {'index' : 'feature',\n",
        "                           '25%' : 'Q1',\n",
        "                           '50%' : 'median',\n",
        "                           '75%' : 'Q3'}, inplace = True)\n"
      ],
      "metadata": {
        "id": "ajsyGBOlFwOH"
      },
      "execution_count": 78,
      "outputs": []
    },
    {
      "cell_type": "code",
      "source": [
        "pdResume[['missing_rate']] = 1 - pdResume[['count']]/X_train.shape[0]\n",
        "pdResume.sort_values(by = 'missing_rate', ascending = False, inplace = True)\n"
      ],
      "metadata": {
        "id": "K6IzCi3GF5u2"
      },
      "execution_count": 79,
      "outputs": []
    },
    {
      "cell_type": "code",
      "source": [
        "# Calculando las correlaciones de todas las variables con el target\n",
        "\n",
        "temp = X_train.copy()\n",
        "temp['target'] = y_train\n",
        "\n",
        "correlations = []\n",
        "for col in features:\n",
        "  correlations.append(temp[[col, 'target']].corr().iloc[0][1])\n"
      ],
      "metadata": {
        "id": "nifc9zT5LdrS"
      },
      "execution_count": 108,
      "outputs": []
    },
    {
      "cell_type": "code",
      "source": [
        "pd.DataFrame({'features' : features,\n",
        "              'corr_MEDV' : correlations}).sort_values(by = 'corr_MEDV', ascending = False)\n"
      ],
      "metadata": {
        "id": "pHe52wurM0Vy",
        "outputId": "45aa60a3-8ab1-4eaf-c86b-0c89ff911578",
        "colab": {
          "base_uri": "https://localhost:8080/",
          "height": 457
        }
      },
      "execution_count": 112,
      "outputs": [
        {
          "output_type": "execute_result",
          "data": {
            "text/plain": [
              "   features  corr_MEDV\n",
              "6        RM   0.763989\n",
              "9        ZN   0.373788\n",
              "0         B   0.320781\n",
              "2       DIS   0.261302\n",
              "1      CHAS   0.163915\n",
              "12      AGE  -0.397317\n",
              "8      CRIM  -0.411684\n",
              "7       NOX  -0.431853\n",
              "4       RAD  -0.447186\n",
              "3     INDUS  -0.512475\n",
              "5       TAX  -0.523892\n",
              "10  PTRATIO  -0.561413\n",
              "11    LSTAT  -0.751647"
            ],
            "text/html": [
              "\n",
              "  <div id=\"df-0e60f08d-7036-45ce-b3c8-1f8c379fe213\">\n",
              "    <div class=\"colab-df-container\">\n",
              "      <div>\n",
              "<style scoped>\n",
              "    .dataframe tbody tr th:only-of-type {\n",
              "        vertical-align: middle;\n",
              "    }\n",
              "\n",
              "    .dataframe tbody tr th {\n",
              "        vertical-align: top;\n",
              "    }\n",
              "\n",
              "    .dataframe thead th {\n",
              "        text-align: right;\n",
              "    }\n",
              "</style>\n",
              "<table border=\"1\" class=\"dataframe\">\n",
              "  <thead>\n",
              "    <tr style=\"text-align: right;\">\n",
              "      <th></th>\n",
              "      <th>features</th>\n",
              "      <th>corr_MEDV</th>\n",
              "    </tr>\n",
              "  </thead>\n",
              "  <tbody>\n",
              "    <tr>\n",
              "      <th>6</th>\n",
              "      <td>RM</td>\n",
              "      <td>0.763989</td>\n",
              "    </tr>\n",
              "    <tr>\n",
              "      <th>9</th>\n",
              "      <td>ZN</td>\n",
              "      <td>0.373788</td>\n",
              "    </tr>\n",
              "    <tr>\n",
              "      <th>0</th>\n",
              "      <td>B</td>\n",
              "      <td>0.320781</td>\n",
              "    </tr>\n",
              "    <tr>\n",
              "      <th>2</th>\n",
              "      <td>DIS</td>\n",
              "      <td>0.261302</td>\n",
              "    </tr>\n",
              "    <tr>\n",
              "      <th>1</th>\n",
              "      <td>CHAS</td>\n",
              "      <td>0.163915</td>\n",
              "    </tr>\n",
              "    <tr>\n",
              "      <th>12</th>\n",
              "      <td>AGE</td>\n",
              "      <td>-0.397317</td>\n",
              "    </tr>\n",
              "    <tr>\n",
              "      <th>8</th>\n",
              "      <td>CRIM</td>\n",
              "      <td>-0.411684</td>\n",
              "    </tr>\n",
              "    <tr>\n",
              "      <th>7</th>\n",
              "      <td>NOX</td>\n",
              "      <td>-0.431853</td>\n",
              "    </tr>\n",
              "    <tr>\n",
              "      <th>4</th>\n",
              "      <td>RAD</td>\n",
              "      <td>-0.447186</td>\n",
              "    </tr>\n",
              "    <tr>\n",
              "      <th>3</th>\n",
              "      <td>INDUS</td>\n",
              "      <td>-0.512475</td>\n",
              "    </tr>\n",
              "    <tr>\n",
              "      <th>5</th>\n",
              "      <td>TAX</td>\n",
              "      <td>-0.523892</td>\n",
              "    </tr>\n",
              "    <tr>\n",
              "      <th>10</th>\n",
              "      <td>PTRATIO</td>\n",
              "      <td>-0.561413</td>\n",
              "    </tr>\n",
              "    <tr>\n",
              "      <th>11</th>\n",
              "      <td>LSTAT</td>\n",
              "      <td>-0.751647</td>\n",
              "    </tr>\n",
              "  </tbody>\n",
              "</table>\n",
              "</div>\n",
              "      <button class=\"colab-df-convert\" onclick=\"convertToInteractive('df-0e60f08d-7036-45ce-b3c8-1f8c379fe213')\"\n",
              "              title=\"Convert this dataframe to an interactive table.\"\n",
              "              style=\"display:none;\">\n",
              "        \n",
              "  <svg xmlns=\"http://www.w3.org/2000/svg\" height=\"24px\"viewBox=\"0 0 24 24\"\n",
              "       width=\"24px\">\n",
              "    <path d=\"M0 0h24v24H0V0z\" fill=\"none\"/>\n",
              "    <path d=\"M18.56 5.44l.94 2.06.94-2.06 2.06-.94-2.06-.94-.94-2.06-.94 2.06-2.06.94zm-11 1L8.5 8.5l.94-2.06 2.06-.94-2.06-.94L8.5 2.5l-.94 2.06-2.06.94zm10 10l.94 2.06.94-2.06 2.06-.94-2.06-.94-.94-2.06-.94 2.06-2.06.94z\"/><path d=\"M17.41 7.96l-1.37-1.37c-.4-.4-.92-.59-1.43-.59-.52 0-1.04.2-1.43.59L10.3 9.45l-7.72 7.72c-.78.78-.78 2.05 0 2.83L4 21.41c.39.39.9.59 1.41.59.51 0 1.02-.2 1.41-.59l7.78-7.78 2.81-2.81c.8-.78.8-2.07 0-2.86zM5.41 20L4 18.59l7.72-7.72 1.47 1.35L5.41 20z\"/>\n",
              "  </svg>\n",
              "      </button>\n",
              "      \n",
              "  <style>\n",
              "    .colab-df-container {\n",
              "      display:flex;\n",
              "      flex-wrap:wrap;\n",
              "      gap: 12px;\n",
              "    }\n",
              "\n",
              "    .colab-df-convert {\n",
              "      background-color: #E8F0FE;\n",
              "      border: none;\n",
              "      border-radius: 50%;\n",
              "      cursor: pointer;\n",
              "      display: none;\n",
              "      fill: #1967D2;\n",
              "      height: 32px;\n",
              "      padding: 0 0 0 0;\n",
              "      width: 32px;\n",
              "    }\n",
              "\n",
              "    .colab-df-convert:hover {\n",
              "      background-color: #E2EBFA;\n",
              "      box-shadow: 0px 1px 2px rgba(60, 64, 67, 0.3), 0px 1px 3px 1px rgba(60, 64, 67, 0.15);\n",
              "      fill: #174EA6;\n",
              "    }\n",
              "\n",
              "    [theme=dark] .colab-df-convert {\n",
              "      background-color: #3B4455;\n",
              "      fill: #D2E3FC;\n",
              "    }\n",
              "\n",
              "    [theme=dark] .colab-df-convert:hover {\n",
              "      background-color: #434B5C;\n",
              "      box-shadow: 0px 1px 3px 1px rgba(0, 0, 0, 0.15);\n",
              "      filter: drop-shadow(0px 1px 2px rgba(0, 0, 0, 0.3));\n",
              "      fill: #FFFFFF;\n",
              "    }\n",
              "  </style>\n",
              "\n",
              "      <script>\n",
              "        const buttonEl =\n",
              "          document.querySelector('#df-0e60f08d-7036-45ce-b3c8-1f8c379fe213 button.colab-df-convert');\n",
              "        buttonEl.style.display =\n",
              "          google.colab.kernel.accessAllowed ? 'block' : 'none';\n",
              "\n",
              "        async function convertToInteractive(key) {\n",
              "          const element = document.querySelector('#df-0e60f08d-7036-45ce-b3c8-1f8c379fe213');\n",
              "          const dataTable =\n",
              "            await google.colab.kernel.invokeFunction('convertToInteractive',\n",
              "                                                     [key], {});\n",
              "          if (!dataTable) return;\n",
              "\n",
              "          const docLinkHtml = 'Like what you see? Visit the ' +\n",
              "            '<a target=\"_blank\" href=https://colab.research.google.com/notebooks/data_table.ipynb>data table notebook</a>'\n",
              "            + ' to learn more about interactive tables.';\n",
              "          element.innerHTML = '';\n",
              "          dataTable['output_type'] = 'display_data';\n",
              "          await google.colab.output.renderOutput(dataTable, element);\n",
              "          const docLink = document.createElement('div');\n",
              "          docLink.innerHTML = docLinkHtml;\n",
              "          element.appendChild(docLink);\n",
              "        }\n",
              "      </script>\n",
              "    </div>\n",
              "  </div>\n",
              "  "
            ]
          },
          "metadata": {},
          "execution_count": 112
        }
      ]
    },
    {
      "cell_type": "code",
      "source": [
        "X_train.corr()"
      ],
      "metadata": {
        "id": "uiiCD8oHKAIQ",
        "outputId": "6b4ab2a9-c70f-4856-c378-2aefa7a6aab2",
        "colab": {
          "base_uri": "https://localhost:8080/",
          "height": 457
        }
      },
      "execution_count": 81,
      "outputs": [
        {
          "output_type": "execute_result",
          "data": {
            "text/plain": [
              "                B      CHAS       DIS     INDUS       RAD       TAX        RM  \\\n",
              "B        1.000000  0.053099  0.260822 -0.329201 -0.415609 -0.418384  0.103654   \n",
              "CHAS     0.053099  1.000000 -0.074271  0.036160 -0.051367 -0.084635  0.097471   \n",
              "DIS      0.260822 -0.074271  1.000000 -0.683186 -0.459574 -0.496149  0.201934   \n",
              "INDUS   -0.329201  0.036160 -0.683186  1.000000  0.589795  0.709395 -0.391341   \n",
              "RAD     -0.415609 -0.051367 -0.459574  0.589795  1.000000  0.915424 -0.232941   \n",
              "TAX     -0.418384 -0.084635 -0.496149  0.709395  0.915424  1.000000 -0.310378   \n",
              "RM       0.103654  0.097471  0.201934 -0.391341 -0.232941 -0.310378  1.000000   \n",
              "NOX     -0.367191  0.046939 -0.767061  0.756209  0.598581  0.657181 -0.300891   \n",
              "CRIM    -0.356568 -0.070936 -0.357050  0.388246  0.611013  0.572931 -0.203718   \n",
              "ZN       0.151702 -0.021569  0.635262 -0.521346 -0.292986 -0.291606  0.329174   \n",
              "PTRATIO -0.172132 -0.140622 -0.193537  0.375618  0.470816  0.461043 -0.384552   \n",
              "LSTAT   -0.362649 -0.023123 -0.495655  0.595585  0.482407  0.535433 -0.646400   \n",
              "AGE     -0.249902  0.065457 -0.746353  0.628738  0.423966  0.464550 -0.257014   \n",
              "\n",
              "              NOX      CRIM        ZN   PTRATIO     LSTAT       AGE  \n",
              "B       -0.367191 -0.356568  0.151702 -0.172132 -0.362649 -0.249902  \n",
              "CHAS     0.046939 -0.070936 -0.021569 -0.140622 -0.023123  0.065457  \n",
              "DIS     -0.767061 -0.357050  0.635262 -0.193537 -0.495655 -0.746353  \n",
              "INDUS    0.756209  0.388246 -0.521346  0.375618  0.595585  0.628738  \n",
              "RAD      0.598581  0.611013 -0.292986  0.470816  0.482407  0.423966  \n",
              "TAX      0.657181  0.572931 -0.291606  0.461043  0.535433  0.464550  \n",
              "RM      -0.300891 -0.203718  0.329174 -0.384552 -0.646400 -0.257014  \n",
              "NOX      1.000000  0.404013 -0.487448  0.149073  0.582571  0.713841  \n",
              "CRIM     0.404013  1.000000 -0.178657  0.276978  0.442098  0.339131  \n",
              "ZN      -0.487448 -0.178657  1.000000 -0.406099 -0.406697 -0.553154  \n",
              "PTRATIO  0.149073  0.276978 -0.406099  1.000000  0.387781  0.232307  \n",
              "LSTAT    0.582571  0.442098 -0.406697  0.387781  1.000000  0.610389  \n",
              "AGE      0.713841  0.339131 -0.553154  0.232307  0.610389  1.000000  "
            ],
            "text/html": [
              "\n",
              "  <div id=\"df-a0659a2c-1d4a-4e88-8671-25270d6f1370\">\n",
              "    <div class=\"colab-df-container\">\n",
              "      <div>\n",
              "<style scoped>\n",
              "    .dataframe tbody tr th:only-of-type {\n",
              "        vertical-align: middle;\n",
              "    }\n",
              "\n",
              "    .dataframe tbody tr th {\n",
              "        vertical-align: top;\n",
              "    }\n",
              "\n",
              "    .dataframe thead th {\n",
              "        text-align: right;\n",
              "    }\n",
              "</style>\n",
              "<table border=\"1\" class=\"dataframe\">\n",
              "  <thead>\n",
              "    <tr style=\"text-align: right;\">\n",
              "      <th></th>\n",
              "      <th>B</th>\n",
              "      <th>CHAS</th>\n",
              "      <th>DIS</th>\n",
              "      <th>INDUS</th>\n",
              "      <th>RAD</th>\n",
              "      <th>TAX</th>\n",
              "      <th>RM</th>\n",
              "      <th>NOX</th>\n",
              "      <th>CRIM</th>\n",
              "      <th>ZN</th>\n",
              "      <th>PTRATIO</th>\n",
              "      <th>LSTAT</th>\n",
              "      <th>AGE</th>\n",
              "    </tr>\n",
              "  </thead>\n",
              "  <tbody>\n",
              "    <tr>\n",
              "      <th>B</th>\n",
              "      <td>1.000000</td>\n",
              "      <td>0.053099</td>\n",
              "      <td>0.260822</td>\n",
              "      <td>-0.329201</td>\n",
              "      <td>-0.415609</td>\n",
              "      <td>-0.418384</td>\n",
              "      <td>0.103654</td>\n",
              "      <td>-0.367191</td>\n",
              "      <td>-0.356568</td>\n",
              "      <td>0.151702</td>\n",
              "      <td>-0.172132</td>\n",
              "      <td>-0.362649</td>\n",
              "      <td>-0.249902</td>\n",
              "    </tr>\n",
              "    <tr>\n",
              "      <th>CHAS</th>\n",
              "      <td>0.053099</td>\n",
              "      <td>1.000000</td>\n",
              "      <td>-0.074271</td>\n",
              "      <td>0.036160</td>\n",
              "      <td>-0.051367</td>\n",
              "      <td>-0.084635</td>\n",
              "      <td>0.097471</td>\n",
              "      <td>0.046939</td>\n",
              "      <td>-0.070936</td>\n",
              "      <td>-0.021569</td>\n",
              "      <td>-0.140622</td>\n",
              "      <td>-0.023123</td>\n",
              "      <td>0.065457</td>\n",
              "    </tr>\n",
              "    <tr>\n",
              "      <th>DIS</th>\n",
              "      <td>0.260822</td>\n",
              "      <td>-0.074271</td>\n",
              "      <td>1.000000</td>\n",
              "      <td>-0.683186</td>\n",
              "      <td>-0.459574</td>\n",
              "      <td>-0.496149</td>\n",
              "      <td>0.201934</td>\n",
              "      <td>-0.767061</td>\n",
              "      <td>-0.357050</td>\n",
              "      <td>0.635262</td>\n",
              "      <td>-0.193537</td>\n",
              "      <td>-0.495655</td>\n",
              "      <td>-0.746353</td>\n",
              "    </tr>\n",
              "    <tr>\n",
              "      <th>INDUS</th>\n",
              "      <td>-0.329201</td>\n",
              "      <td>0.036160</td>\n",
              "      <td>-0.683186</td>\n",
              "      <td>1.000000</td>\n",
              "      <td>0.589795</td>\n",
              "      <td>0.709395</td>\n",
              "      <td>-0.391341</td>\n",
              "      <td>0.756209</td>\n",
              "      <td>0.388246</td>\n",
              "      <td>-0.521346</td>\n",
              "      <td>0.375618</td>\n",
              "      <td>0.595585</td>\n",
              "      <td>0.628738</td>\n",
              "    </tr>\n",
              "    <tr>\n",
              "      <th>RAD</th>\n",
              "      <td>-0.415609</td>\n",
              "      <td>-0.051367</td>\n",
              "      <td>-0.459574</td>\n",
              "      <td>0.589795</td>\n",
              "      <td>1.000000</td>\n",
              "      <td>0.915424</td>\n",
              "      <td>-0.232941</td>\n",
              "      <td>0.598581</td>\n",
              "      <td>0.611013</td>\n",
              "      <td>-0.292986</td>\n",
              "      <td>0.470816</td>\n",
              "      <td>0.482407</td>\n",
              "      <td>0.423966</td>\n",
              "    </tr>\n",
              "    <tr>\n",
              "      <th>TAX</th>\n",
              "      <td>-0.418384</td>\n",
              "      <td>-0.084635</td>\n",
              "      <td>-0.496149</td>\n",
              "      <td>0.709395</td>\n",
              "      <td>0.915424</td>\n",
              "      <td>1.000000</td>\n",
              "      <td>-0.310378</td>\n",
              "      <td>0.657181</td>\n",
              "      <td>0.572931</td>\n",
              "      <td>-0.291606</td>\n",
              "      <td>0.461043</td>\n",
              "      <td>0.535433</td>\n",
              "      <td>0.464550</td>\n",
              "    </tr>\n",
              "    <tr>\n",
              "      <th>RM</th>\n",
              "      <td>0.103654</td>\n",
              "      <td>0.097471</td>\n",
              "      <td>0.201934</td>\n",
              "      <td>-0.391341</td>\n",
              "      <td>-0.232941</td>\n",
              "      <td>-0.310378</td>\n",
              "      <td>1.000000</td>\n",
              "      <td>-0.300891</td>\n",
              "      <td>-0.203718</td>\n",
              "      <td>0.329174</td>\n",
              "      <td>-0.384552</td>\n",
              "      <td>-0.646400</td>\n",
              "      <td>-0.257014</td>\n",
              "    </tr>\n",
              "    <tr>\n",
              "      <th>NOX</th>\n",
              "      <td>-0.367191</td>\n",
              "      <td>0.046939</td>\n",
              "      <td>-0.767061</td>\n",
              "      <td>0.756209</td>\n",
              "      <td>0.598581</td>\n",
              "      <td>0.657181</td>\n",
              "      <td>-0.300891</td>\n",
              "      <td>1.000000</td>\n",
              "      <td>0.404013</td>\n",
              "      <td>-0.487448</td>\n",
              "      <td>0.149073</td>\n",
              "      <td>0.582571</td>\n",
              "      <td>0.713841</td>\n",
              "    </tr>\n",
              "    <tr>\n",
              "      <th>CRIM</th>\n",
              "      <td>-0.356568</td>\n",
              "      <td>-0.070936</td>\n",
              "      <td>-0.357050</td>\n",
              "      <td>0.388246</td>\n",
              "      <td>0.611013</td>\n",
              "      <td>0.572931</td>\n",
              "      <td>-0.203718</td>\n",
              "      <td>0.404013</td>\n",
              "      <td>1.000000</td>\n",
              "      <td>-0.178657</td>\n",
              "      <td>0.276978</td>\n",
              "      <td>0.442098</td>\n",
              "      <td>0.339131</td>\n",
              "    </tr>\n",
              "    <tr>\n",
              "      <th>ZN</th>\n",
              "      <td>0.151702</td>\n",
              "      <td>-0.021569</td>\n",
              "      <td>0.635262</td>\n",
              "      <td>-0.521346</td>\n",
              "      <td>-0.292986</td>\n",
              "      <td>-0.291606</td>\n",
              "      <td>0.329174</td>\n",
              "      <td>-0.487448</td>\n",
              "      <td>-0.178657</td>\n",
              "      <td>1.000000</td>\n",
              "      <td>-0.406099</td>\n",
              "      <td>-0.406697</td>\n",
              "      <td>-0.553154</td>\n",
              "    </tr>\n",
              "    <tr>\n",
              "      <th>PTRATIO</th>\n",
              "      <td>-0.172132</td>\n",
              "      <td>-0.140622</td>\n",
              "      <td>-0.193537</td>\n",
              "      <td>0.375618</td>\n",
              "      <td>0.470816</td>\n",
              "      <td>0.461043</td>\n",
              "      <td>-0.384552</td>\n",
              "      <td>0.149073</td>\n",
              "      <td>0.276978</td>\n",
              "      <td>-0.406099</td>\n",
              "      <td>1.000000</td>\n",
              "      <td>0.387781</td>\n",
              "      <td>0.232307</td>\n",
              "    </tr>\n",
              "    <tr>\n",
              "      <th>LSTAT</th>\n",
              "      <td>-0.362649</td>\n",
              "      <td>-0.023123</td>\n",
              "      <td>-0.495655</td>\n",
              "      <td>0.595585</td>\n",
              "      <td>0.482407</td>\n",
              "      <td>0.535433</td>\n",
              "      <td>-0.646400</td>\n",
              "      <td>0.582571</td>\n",
              "      <td>0.442098</td>\n",
              "      <td>-0.406697</td>\n",
              "      <td>0.387781</td>\n",
              "      <td>1.000000</td>\n",
              "      <td>0.610389</td>\n",
              "    </tr>\n",
              "    <tr>\n",
              "      <th>AGE</th>\n",
              "      <td>-0.249902</td>\n",
              "      <td>0.065457</td>\n",
              "      <td>-0.746353</td>\n",
              "      <td>0.628738</td>\n",
              "      <td>0.423966</td>\n",
              "      <td>0.464550</td>\n",
              "      <td>-0.257014</td>\n",
              "      <td>0.713841</td>\n",
              "      <td>0.339131</td>\n",
              "      <td>-0.553154</td>\n",
              "      <td>0.232307</td>\n",
              "      <td>0.610389</td>\n",
              "      <td>1.000000</td>\n",
              "    </tr>\n",
              "  </tbody>\n",
              "</table>\n",
              "</div>\n",
              "      <button class=\"colab-df-convert\" onclick=\"convertToInteractive('df-a0659a2c-1d4a-4e88-8671-25270d6f1370')\"\n",
              "              title=\"Convert this dataframe to an interactive table.\"\n",
              "              style=\"display:none;\">\n",
              "        \n",
              "  <svg xmlns=\"http://www.w3.org/2000/svg\" height=\"24px\"viewBox=\"0 0 24 24\"\n",
              "       width=\"24px\">\n",
              "    <path d=\"M0 0h24v24H0V0z\" fill=\"none\"/>\n",
              "    <path d=\"M18.56 5.44l.94 2.06.94-2.06 2.06-.94-2.06-.94-.94-2.06-.94 2.06-2.06.94zm-11 1L8.5 8.5l.94-2.06 2.06-.94-2.06-.94L8.5 2.5l-.94 2.06-2.06.94zm10 10l.94 2.06.94-2.06 2.06-.94-2.06-.94-.94-2.06-.94 2.06-2.06.94z\"/><path d=\"M17.41 7.96l-1.37-1.37c-.4-.4-.92-.59-1.43-.59-.52 0-1.04.2-1.43.59L10.3 9.45l-7.72 7.72c-.78.78-.78 2.05 0 2.83L4 21.41c.39.39.9.59 1.41.59.51 0 1.02-.2 1.41-.59l7.78-7.78 2.81-2.81c.8-.78.8-2.07 0-2.86zM5.41 20L4 18.59l7.72-7.72 1.47 1.35L5.41 20z\"/>\n",
              "  </svg>\n",
              "      </button>\n",
              "      \n",
              "  <style>\n",
              "    .colab-df-container {\n",
              "      display:flex;\n",
              "      flex-wrap:wrap;\n",
              "      gap: 12px;\n",
              "    }\n",
              "\n",
              "    .colab-df-convert {\n",
              "      background-color: #E8F0FE;\n",
              "      border: none;\n",
              "      border-radius: 50%;\n",
              "      cursor: pointer;\n",
              "      display: none;\n",
              "      fill: #1967D2;\n",
              "      height: 32px;\n",
              "      padding: 0 0 0 0;\n",
              "      width: 32px;\n",
              "    }\n",
              "\n",
              "    .colab-df-convert:hover {\n",
              "      background-color: #E2EBFA;\n",
              "      box-shadow: 0px 1px 2px rgba(60, 64, 67, 0.3), 0px 1px 3px 1px rgba(60, 64, 67, 0.15);\n",
              "      fill: #174EA6;\n",
              "    }\n",
              "\n",
              "    [theme=dark] .colab-df-convert {\n",
              "      background-color: #3B4455;\n",
              "      fill: #D2E3FC;\n",
              "    }\n",
              "\n",
              "    [theme=dark] .colab-df-convert:hover {\n",
              "      background-color: #434B5C;\n",
              "      box-shadow: 0px 1px 3px 1px rgba(0, 0, 0, 0.15);\n",
              "      filter: drop-shadow(0px 1px 2px rgba(0, 0, 0, 0.3));\n",
              "      fill: #FFFFFF;\n",
              "    }\n",
              "  </style>\n",
              "\n",
              "      <script>\n",
              "        const buttonEl =\n",
              "          document.querySelector('#df-a0659a2c-1d4a-4e88-8671-25270d6f1370 button.colab-df-convert');\n",
              "        buttonEl.style.display =\n",
              "          google.colab.kernel.accessAllowed ? 'block' : 'none';\n",
              "\n",
              "        async function convertToInteractive(key) {\n",
              "          const element = document.querySelector('#df-a0659a2c-1d4a-4e88-8671-25270d6f1370');\n",
              "          const dataTable =\n",
              "            await google.colab.kernel.invokeFunction('convertToInteractive',\n",
              "                                                     [key], {});\n",
              "          if (!dataTable) return;\n",
              "\n",
              "          const docLinkHtml = 'Like what you see? Visit the ' +\n",
              "            '<a target=\"_blank\" href=https://colab.research.google.com/notebooks/data_table.ipynb>data table notebook</a>'\n",
              "            + ' to learn more about interactive tables.';\n",
              "          element.innerHTML = '';\n",
              "          dataTable['output_type'] = 'display_data';\n",
              "          await google.colab.output.renderOutput(dataTable, element);\n",
              "          const docLink = document.createElement('div');\n",
              "          docLink.innerHTML = docLinkHtml;\n",
              "          element.appendChild(docLink);\n",
              "        }\n",
              "      </script>\n",
              "    </div>\n",
              "  </div>\n",
              "  "
            ]
          },
          "metadata": {},
          "execution_count": 81
        }
      ]
    }
  ]
}