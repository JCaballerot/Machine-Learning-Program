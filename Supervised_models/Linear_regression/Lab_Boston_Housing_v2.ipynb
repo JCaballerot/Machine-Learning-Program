{
  "nbformat": 4,
  "nbformat_minor": 0,
  "metadata": {
    "colab": {
      "name": "Lab: Boston Housing.ipynb",
      "provenance": [],
      "machine_shape": "hm",
      "authorship_tag": "ABX9TyMs/1N8gy4DiWOz8r0tmLTC",
      "include_colab_link": true
    },
    "kernelspec": {
      "name": "python3",
      "display_name": "Python 3"
    }
  },
  "cells": [
    {
      "cell_type": "markdown",
      "metadata": {
        "id": "view-in-github",
        "colab_type": "text"
      },
      "source": [
        "<a href=\"https://colab.research.google.com/github/JCaballerot/Machine_learning_program/blob/main/Supervised_models/Linear_regression/Lab_Boston_Housing_v2.ipynb\" target=\"_parent\"><img src=\"https://colab.research.google.com/assets/colab-badge.svg\" alt=\"Open In Colab\"/></a>"
      ]
    },
    {
      "cell_type": "markdown",
      "source": [
        "\n",
        "<img src=\"https://storage.googleapis.com/kaggle-datasets-images/1379/2485/a52db2794593657403a4235bfc4147aa/dataset-cover.jpg\n",
        "\" width=\"1000\" height=\"300\" >"
      ],
      "metadata": {
        "id": "nfVfNv0TqwYo"
      }
    },
    {
      "cell_type": "markdown",
      "metadata": {
        "id": "XkAemYVYi7k5"
      },
      "source": [
        "\n",
        "<h1 align=center><font size = 5>Boston Housing</font></h1>\n",
        "\n",
        "---"
      ]
    },
    {
      "cell_type": "markdown",
      "metadata": {
        "button": false,
        "deletable": true,
        "new_sheet": false,
        "run_control": {
          "read_only": false
        },
        "id": "R_NIQeNlLo19"
      },
      "source": [
        "## Introducción\n"
      ]
    },
    {
      "cell_type": "markdown",
      "metadata": {
        "id": "g7LRGuxBHMpw"
      },
      "source": [
        "En este laboratorio, aprenderá a usar python para construir un modelo de regresión."
      ]
    },
    {
      "cell_type": "markdown",
      "metadata": {
        "id": "yFB_r2dkHMp7"
      },
      "source": [
        "\n",
        "<h3>Objetivo de este Notebook<h3>    \n",
        "<h5> 1. Como construir e interpretar un modelo de regresión.</h5>\n",
        "<h5> 2. Descargar y limpiar un Dataset </h5>\n",
        "<h5> 3. Realizar los pasos necesarios previos a la etapa de modelamiento </h5>\n",
        "<h5> 4. Entrenar y Testear modelo </h5>     "
      ]
    },
    {
      "cell_type": "markdown",
      "metadata": {
        "id": "Is3nFhGglsft"
      },
      "source": [
        "### Tabla de Contenidos\n",
        "\n",
        "<div class=\"alert alert-block alert-info\" style=\"margin-top: 20px\">\n",
        "\n",
        "<font size = 3>\n",
        "    \n",
        "1. <a href=\"#item31\">Leer y explorar la data</a>  \n",
        "2. <a href=\"#item32\">Selección de muestras</a>  \n",
        "3. <a href=\"#item33\">Pre-selección de variables</a>\n",
        "4. <a href=\"#item33\">Preparación de datos</a>\n",
        "5. <a href=\"#item33\">Construir un modelo de regresión lineal</a>  \n",
        "6. <a href=\"#item34\">Testear el modelo</a>  \n",
        "\n",
        "</font>\n",
        "</div>"
      ]
    },
    {
      "cell_type": "markdown",
      "metadata": {
        "button": false,
        "deletable": true,
        "new_sheet": false,
        "run_control": {
          "read_only": false
        },
        "id": "iYo1JVdwmPKW"
      },
      "source": [
        "## Importar Librerías\n"
      ]
    },
    {
      "cell_type": "markdown",
      "metadata": {
        "id": "cWBGqVX6HMp8"
      },
      "source": [
        "Primero, importemos algunos módulos comunes."
      ]
    },
    {
      "cell_type": "code",
      "metadata": {
        "id": "YQUbjfMkHMp9"
      },
      "source": [
        "# Imports comunes\n",
        "import pandas as pd\n",
        "import numpy as np\n",
        "\n",
        "# Configuración de tamaño de gráficos matplotlib\n",
        "import matplotlib.pyplot as plt\n",
        "\n",
        "# Cargar seaborn\n",
        "import seaborn as sns\n",
        "\n",
        "# Configurar el estilo de Seaborn\n",
        "sns.set(style=\"whitegrid\")\n",
        "\n",
        "# os proporciona funciones para interactuar con el sistema operativo y realizar operaciones relacionadas con archivos y directorios.\n",
        "import os\n"
      ],
      "execution_count": 52,
      "outputs": []
    },
    {
      "cell_type": "markdown",
      "source": [
        "## Problema Bostong Housing"
      ],
      "metadata": {
        "id": "WP5BY875jyjC"
      }
    },
    {
      "cell_type": "markdown",
      "metadata": {
        "id": "7BOj02v9NFNV"
      },
      "source": [
        "<b>Valores de la vivienda en los suburbios de Boston</b>\n",
        "\n",
        "<h5>La variable <b>medv</b> es la variable objetivo.</h5>\n",
        "\n",
        "<b>Descripción de datos</b>\n",
        "\n",
        "El data frame de Boston tiene 506 filas y 14 columnas.\n",
        "\n"
      ]
    },
    {
      "cell_type": "markdown",
      "source": [
        "<b>Este data frame contiene las siguientes columnas:</b>\n",
        "\n",
        "---\n",
        "\n",
        "* <b>crim : </b> Tasa de criminalidad per cápita por ciudad.\n",
        "\n",
        "* <b>zn : </b> Proporción de terreno residencial dividido en zonas para lotes de más de 25,000 pies cuadrados.\n",
        "\n",
        "* <b>indus : </b> Proporción de acres comerciales no minoristas por ciudad.\n",
        "\n",
        "* <b>chas : </b> Variable ficticia de Charles River (= 1 si el tramo limita con el río; 0 en caso contrario).\n",
        "\n",
        "* <b>nox : </b>Concentración de óxidos de nitrógeno (partes por 10 millones).\n",
        "\n",
        "* <b>rm : </b>Número medio de habitaciones por vivienda.\n",
        "\n",
        "* <b>años : </b> Proporción de unidades ocupadas por sus propietarios construidas antes de 1940.\n",
        "\n",
        "* <b>dis : </b>Media ponderada de las distancias a cinco centros de empleo de Boston.\n",
        "\n",
        "* <b>rad : </b>Indice de accesibilidad a carreteras radiales.\n",
        "\n",
        "* <b>impuesto : </b>Tasa de impuesto a la propiedad de valor total por \\$ 10,000.\n",
        "\n",
        "* <b>ptratio : </b>Proporción alumno-profesor por ciudad.\n",
        "\n",
        "* <b>black : </b> 1000 (Bk - 0.63) ^ 2 donde Bk es la proporción de negros por ciudad.\n",
        "\n",
        "* <b>lstat : </b>Estatus más bajo de la población (porcentaje).\n",
        "\n",
        "* <b>medv : </b>Valor medio de las viviendas ocupadas por sus propietarios en \\$ 1000.\n",
        "\n",
        "---\n"
      ],
      "metadata": {
        "id": "QH_TEdjvkJu6"
      }
    },
    {
      "cell_type": "markdown",
      "source": [
        "\n",
        "<strong>Puede consultar este [link](https://kaggle.com/c/boston-housing) para leer más sobre la fuente de datos boston housing.</strong>\n",
        "\n",
        "<strong>Puede descargar la data en este [link](https://www.kaggle.com/datasets/altavish/boston-housing-dataset)</strong>\n"
      ],
      "metadata": {
        "id": "mL-PejVMkNtI"
      }
    },
    {
      "cell_type": "markdown",
      "source": [
        "## 1. Leyendo y Explorando data"
      ],
      "metadata": {
        "id": "ZuOIP0Tb2Vja"
      }
    },
    {
      "cell_type": "markdown",
      "source": [
        "Creando carpeta para archivos del proyecto"
      ],
      "metadata": {
        "id": "AbAKZog2n3j7"
      }
    },
    {
      "cell_type": "code",
      "source": [
        "# Creando carpetas\n",
        "nombre_carpeta = 'linear_regression'\n",
        "os.makedirs(nombre_carpeta)\n",
        "os.makedirs(nombre_carpeta + '/data')\n",
        "os.makedirs(nombre_carpeta + '/plots')\n",
        "os.makedirs(nombre_carpeta + '/results')"
      ],
      "metadata": {
        "id": "Ou0yLBewnnK6"
      },
      "execution_count": 57,
      "outputs": []
    },
    {
      "cell_type": "markdown",
      "source": [
        "Lectura de datos"
      ],
      "metadata": {
        "id": "IpUHGp9wgete"
      }
    },
    {
      "cell_type": "code",
      "metadata": {
        "id": "fcc2Hvp_7jdD"
      },
      "source": [
        "#cargamos la data\n",
        "pddf = pd.read_csv('linear_regression/data/HousingData 2.csv')"
      ],
      "execution_count": 59,
      "outputs": []
    },
    {
      "cell_type": "code",
      "metadata": {
        "id": "VVGrrHMX3Ka5"
      },
      "source": [
        "# Validar la data de forma general\n",
        "pddf.head()"
      ],
      "execution_count": null,
      "outputs": []
    },
    {
      "cell_type": "code",
      "metadata": {
        "id": "Mwpv3JXdxoCC"
      },
      "source": [
        "# Contar los datos\n",
        "pddf.shape"
      ],
      "execution_count": null,
      "outputs": []
    },
    {
      "cell_type": "markdown",
      "source": [
        "Identificar los principales atributos"
      ],
      "metadata": {
        "id": "BaMGhzkellMC"
      }
    },
    {
      "cell_type": "code",
      "source": [
        "# Variable objetivo\n",
        "target = 'MEDV'"
      ],
      "metadata": {
        "id": "g-DilpkUl3zB"
      },
      "execution_count": 43,
      "outputs": []
    },
    {
      "cell_type": "code",
      "source": [
        "# Identificar las variables numéricas utilizando el atributo dtypes\n",
        "variables_numericas = pddf.select_dtypes(include=['number']).columns.tolist()\n",
        "variables_numericas.remove(target)"
      ],
      "metadata": {
        "id": "9kYYG-BElxWU"
      },
      "execution_count": 45,
      "outputs": []
    },
    {
      "cell_type": "code",
      "source": [
        "# Identificar las variables categóricas utilizando el atributo dtypes\n",
        "variables_categoricas = pddf.select_dtypes(include=['object']).columns.tolist()\n",
        "variables_categoricas"
      ],
      "metadata": {
        "id": "-V9tJ-BomGXX"
      },
      "execution_count": null,
      "outputs": []
    },
    {
      "cell_type": "code",
      "source": [
        "# Guardando variables en una tabla\n",
        "dataResume = pd.DataFrame({'feature' : variables_numericas, 'type' : 'numeric'})\n",
        "dataResume = dataResume.append(pd.DataFrame({'feature' : [target], 'type' : 'target'}))\n",
        "dataResume.to_csv('linear_regression/results/dataResume.csv', index = 0)"
      ],
      "metadata": {
        "id": "gP1wF2fqowUJ"
      },
      "execution_count": null,
      "outputs": []
    },
    {
      "cell_type": "markdown",
      "source": [
        "Exploración de los datos"
      ],
      "metadata": {
        "id": "Xr-qPJyAghvb"
      }
    },
    {
      "cell_type": "code",
      "source": [
        "plt.figure(figsize=(4, 6))  # Tamaño del gráfico (ancho x alto en pulgadas)\n",
        "\n",
        "# Gráfico de distribución\n",
        "sns.displot(pddf['MEDV'], height=4, aspect=1.5, kde=True)\n",
        "plt.title(\"Distribución del Precio de los inmuebles\", fontsize=12)  # Título del gráfico\n",
        "plt.xlabel(\"Precio\", fontsize=10)  # Nombre del eje x\n",
        "plt.ylabel(\"Frecuencia\", fontsize=10)  # Nombre del eje y\n",
        "\n",
        "plt.savefig(\"dist_MEDV.png\")  # Guarda el gráfico como un archivo PNG\n",
        "plt.show()"
      ],
      "metadata": {
        "id": "qcI0tlKXgzUF"
      },
      "execution_count": null,
      "outputs": []
    },
    {
      "cell_type": "markdown",
      "source": [
        "Graficamos todas las variables"
      ],
      "metadata": {
        "id": "YtZZG1DInkYH"
      }
    },
    {
      "cell_type": "code",
      "source": [
        "plt.figure(figsize=(4, 6))  # Tamaño del gráfico (ancho x alto en pulgadas)\n",
        "\n",
        "for col in variables_numericas:\n",
        "  # Gráfico de distribución\n",
        "  sns.displot(pddf[col], height=4, aspect=1.5, kde=True)\n",
        "  plt.title(\"Distribución de \" + col, fontsize=12)  # Título del gráfico\n",
        "  plt.xlabel(col, fontsize=10)  # Nombre del eje x\n",
        "  plt.ylabel(\"Frecuencia\", fontsize=10)  # Nombre del eje y\n",
        "  plt.savefig(\"linear_regression/plots/dist_\" + col + \".png\")  # Guarda el gráfico como un archivo PNG\n",
        "  plt.close()"
      ],
      "metadata": {
        "id": "y915JTwLlf8o"
      },
      "execution_count": null,
      "outputs": []
    },
    {
      "cell_type": "markdown",
      "source": [
        "## 2. Selección de muestras"
      ],
      "metadata": {
        "id": "7kBNisCz2gsm"
      }
    },
    {
      "cell_type": "markdown",
      "source": [
        "El conjunto de datos en machine learning se divide típicamente en dos partes: el conjunto de entrenamiento (train) y el conjunto de prueba (test). Estas divisiones se utilizan para entrenar y evaluar los modelos.\n",
        "\n",
        "**Train**: El conjunto de entrenamiento se utiliza para entrenar el modelo de aprendizaje automático. Es aquí donde el modelo \"aprende\" los patrones y relaciones en los datos para poder hacer predicciones o clasificaciones.\n",
        "\n",
        "**Test**: El conjunto de prueba se utiliza para evaluar el rendimiento del modelo en datos no vistos durante el entrenamiento. Es una medida objetiva de la capacidad del modelo para generalizar y realizar predicciones precisas en nuevos datos."
      ],
      "metadata": {
        "id": "dFKSxaRp3_Cd"
      }
    },
    {
      "cell_type": "code",
      "metadata": {
        "id": "YRd3xtAsHMqE"
      },
      "source": [
        "# Muestreo\n",
        "#La función train_test_split de scikit-learn se utiliza para dividir un conjunto de datos en subconjuntos de train y test.\n",
        "from sklearn.model_selection import train_test_split\n",
        "\n",
        "train, test = train_test_split(pddf, # Base de datos\n",
        "                               train_size = 0.7, # Especificar el tamaño de train/test\n",
        "                               random_state = 123) # Semilla aleatoria\n"
      ],
      "execution_count": 77,
      "outputs": []
    },
    {
      "cell_type": "code",
      "metadata": {
        "id": "Kkk69Tj_BJRA"
      },
      "source": [
        "print(f\"Tamaño del total de datos: {len(pddf)}\")\n",
        "print(f\"Tamaño de train: {len(train)}\")\n",
        "print(f\"Tamaño de test: {len(test)}\")"
      ],
      "execution_count": null,
      "outputs": []
    },
    {
      "cell_type": "markdown",
      "source": [
        "Análisis exploratorio de relación de datos"
      ],
      "metadata": {
        "id": "DQT14KjNsfQh"
      }
    },
    {
      "cell_type": "code",
      "metadata": {
        "id": "XcQwqDnTDb7N"
      },
      "source": [
        "# Crear scatterplot\n",
        "plt.figure(figsize=(6, 4))\n",
        "sns.regplot(x = train.NOX, y = train.MEDV, scatter_kws={\"alpha\": 0.5})\n",
        "\n",
        "# Personalizar el título y los nombres de los ejes\n",
        "plt.title(f\"Scatterplot NOX vs Precio del inmueble\")\n",
        "plt.xlabel(\"Variable NOX\")\n",
        "plt.ylabel(\"Precio del inmueble\")\n",
        "\n",
        "# Mostrar el gráfico\n",
        "plt.show()"
      ],
      "execution_count": null,
      "outputs": []
    },
    {
      "cell_type": "code",
      "source": [
        "plt.figure(figsize=(4, 6))  # Tamaño del gráfico (ancho x alto en pulgadas)\n",
        "\n",
        "for col in variables_numericas:\n",
        "  # Gráfico de distribución\n",
        "  sns.regplot(x = train[col], y = train[target], scatter_kws={\"alpha\": 0.5})\n",
        "\n",
        "  # Personalizar el título y los nombres de los ejes\n",
        "  plt.title(f\"Scatterplot {col} vs Precio del inmueble\")\n",
        "  plt.xlabel(f\"Variable {col}\")\n",
        "  plt.ylabel(\"Precio del inmueble\")\n",
        "\n",
        "  plt.savefig(\"linear_regression/plots/scatter_\" + col + \".png\")  # Guarda el gráfico como un archivo PNG\n",
        "  plt.close()"
      ],
      "metadata": {
        "id": "WZsO0HxHuo5m"
      },
      "execution_count": 96,
      "outputs": []
    },
    {
      "cell_type": "markdown",
      "source": [
        "## 3. Pre-selección de variables"
      ],
      "metadata": {
        "id": "HNx4SqLiFWpw"
      }
    },
    {
      "cell_type": "code",
      "source": [
        "# Dando formato a nuestra tabla resumen\n",
        "\n",
        "pdResume = train.describe().transpose()\n",
        "pdResume.reset_index(inplace = True)\n",
        "pdResume.rename(columns = {'index' : 'feature',\n",
        "                           '25%' : 'Q1',\n",
        "                           '50%' : 'median',\n",
        "                           '75%' : 'Q3'}, inplace = True)"
      ],
      "metadata": {
        "id": "ajsyGBOlFwOH"
      },
      "execution_count": 97,
      "outputs": []
    },
    {
      "cell_type": "code",
      "source": [
        "pdResume[['missing_rate']] = 1 - pdResume[['count']]/train.shape[0]\n",
        "pdResume.sort_values(by = 'missing_rate', ascending = False, inplace = True)\n"
      ],
      "metadata": {
        "id": "K6IzCi3GF5u2"
      },
      "execution_count": 98,
      "outputs": []
    },
    {
      "cell_type": "code",
      "source": [
        "# Calculando las correlaciones de todas las variables con el target\n",
        "correlations = train.corr()[['MEDV']]\n",
        "correlations.reset_index(inplace = True)\n",
        "correlations.rename(columns = {'index' : 'feature',\n",
        "                               'MEDV' : 'corr'}, inplace = True)\n"
      ],
      "metadata": {
        "id": "nifc9zT5LdrS"
      },
      "execution_count": 99,
      "outputs": []
    },
    {
      "cell_type": "code",
      "source": [
        "# Cruzando correlaciones con la tabla de resumen original\n",
        "univariate = pd.merge(pdResume, correlations, on = 'feature')\n",
        "univariate.head()"
      ],
      "metadata": {
        "id": "pHe52wurM0Vy"
      },
      "execution_count": null,
      "outputs": []
    },
    {
      "cell_type": "code",
      "source": [
        "# Creamos la columna correlacion absoluta\n",
        "univariate['abs_corr'] = univariate['corr'].apply(lambda x: abs(x))\n",
        "univariate.sort_values(by = 'abs_corr', ascending = False, inplace=True)\n",
        "univariate.head()"
      ],
      "metadata": {
        "id": "W5jyACkaSSHo"
      },
      "execution_count": null,
      "outputs": []
    },
    {
      "cell_type": "code",
      "source": [
        "# Guardando resultados\n",
        "univariate.to_csv('linear_regression/results/univariate_assesment.csv', index = 0)"
      ],
      "metadata": {
        "id": "ZHaiKOeETJNq"
      },
      "execution_count": 103,
      "outputs": []
    },
    {
      "cell_type": "markdown",
      "source": [
        "Puedes hacer pre-selección de variables quedándote con las variables conmás correlación con el target y con menos missing rate"
      ],
      "metadata": {
        "id": "WgJfaTUywUHt"
      }
    },
    {
      "cell_type": "code",
      "source": [
        "preselection = univariate.loc[(univariate.abs_corr >= 0.2) & (univariate.missing_rate <= 0.8)]\n",
        "print(f\"{len(preselection)} variables de {len(univariate)} pasan el proceso de pre-selección\")"
      ],
      "metadata": {
        "id": "xPbLImcMwPu2"
      },
      "execution_count": null,
      "outputs": []
    },
    {
      "cell_type": "code",
      "source": [
        "preselection"
      ],
      "metadata": {
        "id": "ZcEOyqaTxNY2"
      },
      "execution_count": null,
      "outputs": []
    },
    {
      "cell_type": "markdown",
      "source": [
        "## 4. Preparación de datos"
      ],
      "metadata": {
        "id": "9GXFG5lJUKSy"
      }
    },
    {
      "cell_type": "markdown",
      "source": [
        "### 4.1. Tratamiento de outliers"
      ],
      "metadata": {
        "id": "FduQMBhdRLf8"
      }
    },
    {
      "cell_type": "markdown",
      "source": [
        "El tratamiento de outliers, también conocido como manejo de valores atípicos, es un proceso en el análisis de datos que se refiere a cómo se deben abordar los puntos de datos que se encuentran fuera del rango típico o esperado. Los outliers son observaciones que se desvían significativamente del patrón general de los demás datos."
      ],
      "metadata": {
        "id": "ZrsmVvbvyQQo"
      }
    },
    {
      "cell_type": "markdown",
      "source": [
        "#### Rango Intercuantílico"
      ],
      "metadata": {
        "id": "vzdI2sGIRQhX"
      }
    },
    {
      "cell_type": "markdown",
      "source": [
        "El tratamiento de outliers utilizando el rango intercuartílico (IQR, por sus siglas en inglés) es una técnica común para identificar y manejar valores atípicos en un conjunto de datos. El rango intercuartílico es la diferencia entre el tercer cuartil (Q3) y el primer cuartil (Q1) de los datos."
      ],
      "metadata": {
        "id": "Y-kOV842yePP"
      }
    },
    {
      "cell_type": "markdown",
      "source": [
        "<img src=\"https://miro.medium.com/max/1400/1*2c21SkzJMf3frPXPAR_gZA.png\" width=\"500\"\n",
        "     height=\"300\" >"
      ],
      "metadata": {
        "id": "hreWAj5MTulj"
      }
    },
    {
      "cell_type": "code",
      "source": [
        "#Leyendo tabla resumen\n",
        "univariate_II = pd.read_csv('linear_regression/results/univariate_assesment.csv')\n",
        "univariate_II.head()"
      ],
      "metadata": {
        "id": "SgMQ0ILTWW3D"
      },
      "execution_count": null,
      "outputs": []
    },
    {
      "cell_type": "code",
      "source": [
        "# Calculando los intervalos RIC\n",
        "\n",
        "univariate_II['ric']     = univariate_II['Q3'] - univariate_II['Q1']\n",
        "univariate_II['min_ric'] = univariate_II['Q1'] - 1.5*univariate_II['ric']\n",
        "univariate_II['max_ric'] = univariate_II['Q3'] + 1.5*univariate_II['ric']\n",
        "\n",
        "univariate_II.head()"
      ],
      "metadata": {
        "id": "UYWNWVzMW9Z5"
      },
      "execution_count": null,
      "outputs": []
    },
    {
      "cell_type": "code",
      "source": [
        "# Tratamiento de outliers por RIC\n",
        "\n",
        "for col in preselection.feature.tolist():\n",
        "  desc = univariate_II.loc[univariate_II.feature == col]\n",
        "\n",
        "  lower_limit = desc.min_ric.values[0]\n",
        "  upper_limit = desc.max_ric.values[0]\n",
        "\n",
        "  train[col + '_tric'] = train[col].apply(lambda x: lower_limit if x <= lower_limit else\n",
        "                                                    upper_limit if x >= upper_limit else\n",
        "                                                    x)\n",
        "  test[col + '_tric']  = test[col].apply(lambda x: lower_limit if x <= lower_limit else\n",
        "                                                    upper_limit if x >= upper_limit else\n",
        "                                                    x)\n",
        "train.head()"
      ],
      "metadata": {
        "id": "1vz4B3D_W8eJ"
      },
      "execution_count": null,
      "outputs": []
    },
    {
      "cell_type": "markdown",
      "source": [
        "Revisemos los resultados"
      ],
      "metadata": {
        "id": "a9R44YcWecex"
      }
    },
    {
      "cell_type": "code",
      "source": [
        "# Crear figura y subplots\n",
        "fig, axes = plt.subplots(1, 2, figsize=(12, 4))\n",
        "\n",
        "ax1 = axes[0]\n",
        "sns.boxplot(data=train[['MEDV']], orient=\"h\", ax=ax1)\n",
        "ax1.set_title('Variable Original')\n",
        "\n",
        "ax2 = axes[1]\n",
        "sns.boxplot(data=train[['MEDV_tric']], orient=\"h\", ax=ax2)\n",
        "ax2.set_title('Variable Tratada')\n",
        "# Ajustar espaciado entre subplots\n",
        "plt.tight_layout()\n",
        "\n",
        "# Mostrar los gráficos\n",
        "plt.show()\n"
      ],
      "metadata": {
        "id": "RYHhcv7XZeJh"
      },
      "execution_count": null,
      "outputs": []
    },
    {
      "cell_type": "markdown",
      "source": [
        "### 4.2. Tratamiento de Missings"
      ],
      "metadata": {
        "id": "rbw45Wj_g_uk"
      }
    },
    {
      "cell_type": "markdown",
      "source": [
        "Imputación de valores: En lugar de eliminar los valores faltantes, se pueden reemplazar por valores estimados o imputados. Esto implica reemplazar los valores faltantes con medidas de tendencia central, como la media o la mediana, o utilizar métodos más avanzados como la regresión o el algoritmo K-NN para estimar los valores faltantes basándose en otros atributos del conjunto de datos."
      ],
      "metadata": {
        "id": "0qGnn2_51Rm4"
      }
    },
    {
      "cell_type": "code",
      "metadata": {
        "id": "_SmrbJFWrKx1"
      },
      "source": [
        "# Tratamiento de missings\n",
        "\n",
        "actual_features = [x + '_tric' for x in preselection.feature.tolist()]\n",
        "\n",
        "# Tratamiento en train\n",
        "train[[x + '_imp' for x in preselection.feature.tolist()]] = train.fillna(train[actual_features].median())\n",
        "\n",
        "# Tratamiento en test\n",
        "test[[x + '_imp' for x in preselection.feature.tolist()]] = test.fillna(train[actual_features].median())\n"
      ],
      "execution_count": null,
      "outputs": []
    },
    {
      "cell_type": "code",
      "metadata": {
        "id": "WySovzP5rgok"
      },
      "source": [
        "train[[x + '_imp' for x in all_features if '_tric' in x]].head(30)"
      ],
      "execution_count": null,
      "outputs": []
    },
    {
      "cell_type": "markdown",
      "source": [
        "### 4.3. Reescalamiento de datos"
      ],
      "metadata": {
        "id": "uSXaVxeXx4hz"
      }
    },
    {
      "cell_type": "markdown",
      "source": [
        "Es un proceso en el análisis de datos que consiste en transformar las variables para que tengan una escala común o un rango específico. El objetivo principal del reescalamiento de datos es colocar todas las variables en una misma escala numérica, lo cual puede facilitar la comparación y el análisis de las variables."
      ],
      "metadata": {
        "id": "oggkg8bi2xiC"
      }
    },
    {
      "cell_type": "markdown",
      "source": [
        "Z-Score Scaling: También conocido como estandarización, transforma los datos para que tengan una media de 0 y una desviación estándar de 1. La fórmula para la estandarización es:\n",
        "\n",
        "x_std = (x - mean(x)) / std(x)"
      ],
      "metadata": {
        "id": "23dsqRy62syq"
      }
    },
    {
      "cell_type": "code",
      "source": [
        "# estandarizando las variables para mantener todas en una misma escala\n",
        "train[[x + '_std' for x in features_in]] = (train[features_in] - train[features_in].mean())/train[features_in].std()\n"
      ],
      "metadata": {
        "id": "4UhJIA7EyBCj"
      },
      "execution_count": null,
      "outputs": []
    },
    {
      "cell_type": "markdown",
      "source": [
        "## 5. Modelo de regresión Lineal"
      ],
      "metadata": {
        "id": "a7MFWyuZcPY5"
      }
    },
    {
      "cell_type": "markdown",
      "source": [
        "### Regresión lineal por MCO"
      ],
      "metadata": {
        "id": "GpR84CVT9n-b"
      }
    },
    {
      "cell_type": "code",
      "source": [
        "# Utilizamos el target con tratamiento de outliers, debido a que no es necesario estandarizar ni hacer tratamiento de missings en este (solo aplica para el target)\n",
        "[x for x in train.columns.tolist() if 'MEDV' in x]\n"
      ],
      "metadata": {
        "id": "aALzKQhrhxNl"
      },
      "execution_count": null,
      "outputs": []
    },
    {
      "cell_type": "code",
      "source": [
        "import statsmodels.api as sm\n",
        "\n",
        "# Fit and summarize OLS model\n",
        "mod = sm.OLS(train.MEDV_tric,\n",
        "             sm.add_constant(train[[x + '_std' for x in features_in]]))\n",
        "res = mod.fit()\n"
      ],
      "metadata": {
        "id": "YWsJnc_YTVuv"
      },
      "execution_count": null,
      "outputs": []
    },
    {
      "cell_type": "code",
      "source": [
        "print(res.summary())"
      ],
      "metadata": {
        "id": "f4ekgFVSdeeO"
      },
      "execution_count": null,
      "outputs": []
    },
    {
      "cell_type": "code",
      "source": [
        "mod = sm.OLS(train.MEDV_tric, sm.add_constant(train[['LSTAT_tric_imp_std',\n",
        "                                              'RM_tric_imp_std',\n",
        "                                              'PTRATIO_tric_imp_std',\n",
        "                                              'INDUS_tric_imp_std',\n",
        "                                              'TAX_tric_imp_std',\n",
        "                                              'NOX_tric_imp_std',\n",
        "                                              'AGE_tric_imp_std',\n",
        "                                              'RAD_tric_imp_std',\n",
        "                                              'CRIM_tric_imp_std',\n",
        "                                              'ZN_tric_imp_std',\n",
        "                                              'DIS_tric_imp_std']]))\n",
        "res = mod.fit()\n",
        "print(res.summary())"
      ],
      "metadata": {
        "id": "o-EEzjM79mIQ"
      },
      "execution_count": null,
      "outputs": []
    },
    {
      "cell_type": "code",
      "source": [
        "mod = sm.OLS(train.MEDV_tric, sm.add_constant(train[['LSTAT_tric_imp_std',\n",
        "                                              'RM_tric_imp_std',\n",
        "                                              'PTRATIO_tric_imp_std',\n",
        "                                              'TAX_tric_imp_std',\n",
        "                                              'NOX_tric_imp_std',\n",
        "                                              'AGE_tric_imp_std',\n",
        "                                              'RAD_tric_imp_std',\n",
        "                                              'CRIM_tric_imp_std',\n",
        "                                              'ZN_tric_imp_std',\n",
        "                                              'DIS_tric_imp_std']]))\n",
        "res = mod.fit()\n",
        "print(res.summary())"
      ],
      "metadata": {
        "id": "pR5vl96OAg8K"
      },
      "execution_count": null,
      "outputs": []
    },
    {
      "cell_type": "code",
      "source": [
        "mod = sm.OLS(train.MEDV_tric, sm.add_constant(train[['LSTAT_tric_imp_std',\n",
        "                                              'RM_tric_imp_std',\n",
        "                                              'PTRATIO_tric_imp_std',\n",
        "                                              'TAX_tric_imp_std',\n",
        "                                              'NOX_tric_imp_std',\n",
        "                                              'AGE_tric_imp_std',\n",
        "                                              'RAD_tric_imp_std',\n",
        "                                              'ZN_tric_imp_std',\n",
        "                                              'DIS_tric_imp_std']]))\n",
        "res = mod.fit()\n",
        "print(res.summary())"
      ],
      "metadata": {
        "id": "3y0efpa0JPNC"
      },
      "execution_count": null,
      "outputs": []
    },
    {
      "cell_type": "code",
      "source": [
        "mod = sm.OLS(train.MEDV_tric, sm.add_constant(train[['LSTAT_tric_imp_std',\n",
        "                                              'RM_tric_imp_std',\n",
        "                                              'PTRATIO_tric_imp_std',\n",
        "                                              'TAX_tric_imp_std',\n",
        "                                              'NOX_tric_imp_std',\n",
        "                                              'RAD_tric_imp_std',\n",
        "                                              'ZN_tric_imp_std',\n",
        "                                              'DIS_tric_imp_std']]))\n",
        "res = mod.fit()\n",
        "print(res.summary())"
      ],
      "metadata": {
        "id": "GmWGXDOGJSRH"
      },
      "execution_count": null,
      "outputs": []
    },
    {
      "cell_type": "code",
      "source": [
        "mod = sm.OLS(train.MEDV_tric, sm.add_constant(train[['LSTAT_tric_imp_std',\n",
        "                                              'RM_tric_imp_std',\n",
        "                                              'PTRATIO_tric_imp_std',\n",
        "                                              'TAX_tric_imp_std',\n",
        "                                              'NOX_tric_imp_std',\n",
        "                                              'RAD_tric_imp_std',\n",
        "                                              'DIS_tric_imp_std']]))\n",
        "res = mod.fit()\n",
        "print(res.summary())"
      ],
      "metadata": {
        "id": "KHGDu3I6t-y5"
      },
      "execution_count": null,
      "outputs": []
    },
    {
      "cell_type": "markdown",
      "source": [
        "\n",
        "* <b>crim : </b> Tasa de criminalidad per cápita por ciudad.\n",
        "\n",
        "* <b>zn : </b> Proporción de terreno residencial dividido en zonas para lotes de más de 25,000 pies cuadrados.\n",
        "\n",
        "* <b>indus : </b> Proporción de acres comerciales no minoristas por ciudad.\n",
        "\n",
        "* <b>chas : </b> Variable ficticia de Charles River (= 1 si el tramo limita con el río; 0 en caso contrario).\n",
        "\n",
        "* <b>nox : </b>Concentración de óxidos de nitrógeno (partes por 10 millones).\n",
        "\n",
        "* <b>rm : </b>Número medio de habitaciones por vivienda.\n",
        "\n",
        "* <b>años : </b> Proporción de unidades ocupadas por sus propietarios construidas antes de 1940.\n",
        "\n",
        "* <b>dis : </b>Media ponderada de las distancias a cinco centros de empleo de Boston.\n",
        "\n",
        "* <b>rad : </b>Indice de accesibilidad a carreteras radiales.\n",
        "\n",
        "* <b>impuesto : </b>Tasa de impuesto a la propiedad de valor total por \\$ 10,000.\n",
        "\n",
        "* <b>ptratio : </b>Proporción alumno-profesor por ciudad.\n",
        "\n",
        "* <b>black : </b> 1000 (Bk - 0.63) ^ 2 donde Bk es la proporción de negros por ciudad.\n",
        "\n",
        "* <b>lstat : </b>Estatus más bajo de la población (porcentaje).\n",
        "\n",
        "* <b>medv : </b>Valor medio de las viviendas ocupadas por sus propietarios en \\$ 1000.\n",
        "\n",
        "---\n"
      ],
      "metadata": {
        "id": "xkL7ViU3A5k-"
      }
    },
    {
      "cell_type": "code",
      "source": [
        "mod = sm.OLS(train.MEDV_tric, sm.add_constant(train[['LSTAT_tric_imp_std',\n",
        "                                              'RM_tric_imp_std',\n",
        "                                              'PTRATIO_tric_imp_std',\n",
        "                                              'NOX_tric_imp_std',\n",
        "                                              'DIS_tric_imp_std']]))\n",
        "res = mod.fit()\n",
        "print(res.summary())"
      ],
      "metadata": {
        "id": "uiiCD8oHKAIQ"
      },
      "execution_count": null,
      "outputs": []
    },
    {
      "cell_type": "code",
      "source": [
        "train[['LSTAT_tric_imp_std',\n",
        "       'RM_tric_imp_std',\n",
        "       'PTRATIO_tric_imp_std',\n",
        "       'NOX_tric_imp_std',\n",
        "       'DIS_tric_imp_std']].corr()"
      ],
      "metadata": {
        "id": "nrL2h2nhFFki"
      },
      "execution_count": null,
      "outputs": []
    },
    {
      "cell_type": "code",
      "source": [
        "# Nos quedaremos con variables con correlación menor al 60%\n"
      ],
      "metadata": {
        "id": "CQQ1zHfioRkB"
      },
      "execution_count": null,
      "outputs": []
    },
    {
      "cell_type": "code",
      "source": [
        "train[['LSTAT_tric_imp_std',\n",
        "       'RM_tric_imp_std',\n",
        "       'PTRATIO_tric_imp_std',\n",
        "       'DIS_tric_imp_std']].corr()"
      ],
      "metadata": {
        "id": "_eTO5zY2omwT"
      },
      "execution_count": null,
      "outputs": []
    },
    {
      "cell_type": "code",
      "source": [
        "univariate_II"
      ],
      "metadata": {
        "id": "6u0WOPvcorE6"
      },
      "execution_count": null,
      "outputs": []
    },
    {
      "cell_type": "code",
      "source": [
        "mod = sm.OLS(train.MEDV_tric, sm.add_constant(train[['LSTAT_tric_imp_std',\n",
        "                                              'RM_tric_imp_std',\n",
        "                                              'PTRATIO_tric_imp_std',\n",
        "                                              'DIS_tric_imp_std']]))\n",
        "res = mod.fit()\n",
        "print(res.summary())"
      ],
      "metadata": {
        "id": "PHYFp8fapFvM"
      },
      "execution_count": null,
      "outputs": []
    },
    {
      "cell_type": "code",
      "source": [],
      "metadata": {
        "id": "YartJ2F7qPDw"
      },
      "execution_count": null,
      "outputs": []
    },
    {
      "cell_type": "markdown",
      "source": [
        "## 6. Métricas de desempeño"
      ],
      "metadata": {
        "id": "rO7vKEBprvSu"
      }
    },
    {
      "cell_type": "code",
      "source": [
        "train['MEDV_pred'] = (22.0443 - 4.0729*train.LSTAT_tric_imp_std\n",
        "                              + 2.4565*train.RM_tric_imp_std\n",
        "                              - 1.6619*train.PTRATIO_tric_imp_std\n",
        "                              - 0.4832*train.DIS_tric_imp_std)\n"
      ],
      "metadata": {
        "id": "y__TDX23rx8q"
      },
      "execution_count": null,
      "outputs": []
    },
    {
      "cell_type": "code",
      "source": [
        "train[['MEDV_tric', 'MEDV_pred']].head()"
      ],
      "metadata": {
        "id": "eqlRaeqesnxq"
      },
      "execution_count": null,
      "outputs": []
    },
    {
      "cell_type": "code",
      "source": [
        "from sklearn.metrics import *"
      ],
      "metadata": {
        "id": "5bRTTtbds5hk"
      },
      "execution_count": null,
      "outputs": []
    },
    {
      "cell_type": "code",
      "source": [
        "r2_score(train.MEDV_tric, train.MEDV_pred)"
      ],
      "metadata": {
        "id": "5nZhj5pMuEls"
      },
      "execution_count": null,
      "outputs": []
    },
    {
      "cell_type": "code",
      "source": [
        "mean_absolute_percentage_error(train.MEDV_tric, train.MEDV_pred)"
      ],
      "metadata": {
        "id": "8RH34BgQucI3"
      },
      "execution_count": null,
      "outputs": []
    },
    {
      "cell_type": "code",
      "source": [
        "plt.scatter(train.MEDV_tric, train.MEDV_pred, alpha = 0.5)"
      ],
      "metadata": {
        "id": "C4JOo9UgvjNg"
      },
      "execution_count": null,
      "outputs": []
    },
    {
      "cell_type": "code",
      "source": [
        "plt.scatter(train.AGE_tric**3, train.MEDV_tric, alpha = 0.5)"
      ],
      "metadata": {
        "id": "EtgpipBiw2gI"
      },
      "execution_count": null,
      "outputs": []
    },
    {
      "cell_type": "code",
      "source": [
        "temp = train[['MEDV_tric', 'AGE_tric']].dropna()\n",
        "\n"
      ],
      "metadata": {
        "id": "M8v3i23Sy57v"
      },
      "execution_count": null,
      "outputs": []
    },
    {
      "cell_type": "code",
      "source": [
        "\n",
        "for i in [1, 2, 3, 4, 5]:\n",
        "  temp = train[['MEDV_tric', 'AGE_tric']].copy().dropna()\n",
        "  temp['AGE_tric'] = temp['AGE_tric']**i\n",
        "  print(f\"grado {i} R : {temp.corr()[:1].AGE_tric.values[0]**2}\")\n"
      ],
      "metadata": {
        "id": "d7jH_7EdyE71"
      },
      "execution_count": null,
      "outputs": []
    },
    {
      "cell_type": "markdown",
      "source": [
        "---\n",
        "\n",
        "# Gracias por completar este laboratorio!\n",
        "\n",
        "---\n",
        "\n"
      ],
      "metadata": {
        "id": "OTbpVbb93WTB"
      }
    }
  ]
}